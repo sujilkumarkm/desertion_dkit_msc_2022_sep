{
 "cells": [
  {
   "cell_type": "code",
   "execution_count": 31,
   "metadata": {},
   "outputs": [],
   "source": [
    "import pandas as pd\n",
    "import numpy as np\n",
    "import matplotlib.pyplot as plt\n",
    "%matplotlib inline\n",
    "\n",
    "# Import Statsmodels\n",
    "from statsmodels.tsa.api import VAR\n",
    "from statsmodels.tsa.stattools import adfuller\n",
    "from statsmodels.tools.eval_measures import rmse, aic"
   ]
  },
  {
   "cell_type": "code",
   "execution_count": 32,
   "metadata": {},
   "outputs": [
    {
     "name": "stdout",
     "output_type": "stream",
     "text": [
      "(13276, 27)\n"
     ]
    },
    {
     "data": {
      "text/html": [
       "<div>\n",
       "<style scoped>\n",
       "    .dataframe tbody tr th:only-of-type {\n",
       "        vertical-align: middle;\n",
       "    }\n",
       "\n",
       "    .dataframe tbody tr th {\n",
       "        vertical-align: top;\n",
       "    }\n",
       "\n",
       "    .dataframe thead th {\n",
       "        text-align: right;\n",
       "    }\n",
       "</style>\n",
       "<table border=\"1\" class=\"dataframe\">\n",
       "  <thead>\n",
       "    <tr style=\"text-align: right;\">\n",
       "      <th></th>\n",
       "      <th>country</th>\n",
       "      <th>sex</th>\n",
       "      <th>age</th>\n",
       "      <th>suicides</th>\n",
       "      <th>population</th>\n",
       "      <th>sucid_in_hundredk</th>\n",
       "      <th>country-year</th>\n",
       "      <th>yearly_hdi</th>\n",
       "      <th>yearly_gdp</th>\n",
       "      <th>gdp_per_capita</th>\n",
       "      <th>...</th>\n",
       "      <th>legalrights</th>\n",
       "      <th>laborforcetotal</th>\n",
       "      <th>lifeexpectancy</th>\n",
       "      <th>mobilesubscriptionsp100</th>\n",
       "      <th>refugees</th>\n",
       "      <th>selfemployed</th>\n",
       "      <th>electricityacess</th>\n",
       "      <th>secondarycompletion</th>\n",
       "      <th>continent</th>\n",
       "      <th>country_code</th>\n",
       "    </tr>\n",
       "    <tr>\n",
       "      <th>year</th>\n",
       "      <th></th>\n",
       "      <th></th>\n",
       "      <th></th>\n",
       "      <th></th>\n",
       "      <th></th>\n",
       "      <th></th>\n",
       "      <th></th>\n",
       "      <th></th>\n",
       "      <th></th>\n",
       "      <th></th>\n",
       "      <th></th>\n",
       "      <th></th>\n",
       "      <th></th>\n",
       "      <th></th>\n",
       "      <th></th>\n",
       "      <th></th>\n",
       "      <th></th>\n",
       "      <th></th>\n",
       "      <th></th>\n",
       "      <th></th>\n",
       "      <th></th>\n",
       "    </tr>\n",
       "  </thead>\n",
       "  <tbody>\n",
       "    <tr>\n",
       "      <th>1985-01-01</th>\n",
       "      <td>Argentina</td>\n",
       "      <td>male</td>\n",
       "      <td>75+ years</td>\n",
       "      <td>202</td>\n",
       "      <td>363000</td>\n",
       "      <td>55.65</td>\n",
       "      <td>Argentina1985</td>\n",
       "      <td>0.694</td>\n",
       "      <td>8.841667e+10</td>\n",
       "      <td>3264</td>\n",
       "      <td>...</td>\n",
       "      <td>0.0</td>\n",
       "      <td>0</td>\n",
       "      <td>0.0</td>\n",
       "      <td>0.0</td>\n",
       "      <td>0.0</td>\n",
       "      <td>0.0</td>\n",
       "      <td>0.0</td>\n",
       "      <td>0.0</td>\n",
       "      <td>Americas</td>\n",
       "      <td>ARG</td>\n",
       "    </tr>\n",
       "    <tr>\n",
       "      <th>1985-01-01</th>\n",
       "      <td>Argentina</td>\n",
       "      <td>male</td>\n",
       "      <td>55-74 years</td>\n",
       "      <td>485</td>\n",
       "      <td>1997000</td>\n",
       "      <td>24.29</td>\n",
       "      <td>Argentina1985</td>\n",
       "      <td>0.694</td>\n",
       "      <td>8.841667e+10</td>\n",
       "      <td>3264</td>\n",
       "      <td>...</td>\n",
       "      <td>0.0</td>\n",
       "      <td>0</td>\n",
       "      <td>0.0</td>\n",
       "      <td>0.0</td>\n",
       "      <td>0.0</td>\n",
       "      <td>0.0</td>\n",
       "      <td>0.0</td>\n",
       "      <td>0.0</td>\n",
       "      <td>Americas</td>\n",
       "      <td>ARG</td>\n",
       "    </tr>\n",
       "    <tr>\n",
       "      <th>1985-01-01</th>\n",
       "      <td>Argentina</td>\n",
       "      <td>male</td>\n",
       "      <td>35-54 years</td>\n",
       "      <td>414</td>\n",
       "      <td>3346300</td>\n",
       "      <td>12.37</td>\n",
       "      <td>Argentina1985</td>\n",
       "      <td>0.694</td>\n",
       "      <td>8.841667e+10</td>\n",
       "      <td>3264</td>\n",
       "      <td>...</td>\n",
       "      <td>0.0</td>\n",
       "      <td>0</td>\n",
       "      <td>0.0</td>\n",
       "      <td>0.0</td>\n",
       "      <td>0.0</td>\n",
       "      <td>0.0</td>\n",
       "      <td>0.0</td>\n",
       "      <td>0.0</td>\n",
       "      <td>Americas</td>\n",
       "      <td>ARG</td>\n",
       "    </tr>\n",
       "    <tr>\n",
       "      <th>1985-01-01</th>\n",
       "      <td>Argentina</td>\n",
       "      <td>female</td>\n",
       "      <td>55-74 years</td>\n",
       "      <td>210</td>\n",
       "      <td>2304000</td>\n",
       "      <td>9.11</td>\n",
       "      <td>Argentina1985</td>\n",
       "      <td>0.694</td>\n",
       "      <td>8.841667e+10</td>\n",
       "      <td>3264</td>\n",
       "      <td>...</td>\n",
       "      <td>0.0</td>\n",
       "      <td>0</td>\n",
       "      <td>0.0</td>\n",
       "      <td>0.0</td>\n",
       "      <td>0.0</td>\n",
       "      <td>0.0</td>\n",
       "      <td>0.0</td>\n",
       "      <td>0.0</td>\n",
       "      <td>Americas</td>\n",
       "      <td>ARG</td>\n",
       "    </tr>\n",
       "    <tr>\n",
       "      <th>1985-01-01</th>\n",
       "      <td>Argentina</td>\n",
       "      <td>male</td>\n",
       "      <td>25-34 years</td>\n",
       "      <td>177</td>\n",
       "      <td>2234200</td>\n",
       "      <td>7.92</td>\n",
       "      <td>Argentina1985</td>\n",
       "      <td>0.694</td>\n",
       "      <td>8.841667e+10</td>\n",
       "      <td>3264</td>\n",
       "      <td>...</td>\n",
       "      <td>0.0</td>\n",
       "      <td>0</td>\n",
       "      <td>0.0</td>\n",
       "      <td>0.0</td>\n",
       "      <td>0.0</td>\n",
       "      <td>0.0</td>\n",
       "      <td>0.0</td>\n",
       "      <td>0.0</td>\n",
       "      <td>Americas</td>\n",
       "      <td>ARG</td>\n",
       "    </tr>\n",
       "  </tbody>\n",
       "</table>\n",
       "<p>5 rows × 27 columns</p>\n",
       "</div>"
      ],
      "text/plain": [
       "              country     sex          age  suicides  population  \\\n",
       "year                                                               \n",
       "1985-01-01  Argentina    male    75+ years       202      363000   \n",
       "1985-01-01  Argentina    male  55-74 years       485     1997000   \n",
       "1985-01-01  Argentina    male  35-54 years       414     3346300   \n",
       "1985-01-01  Argentina  female  55-74 years       210     2304000   \n",
       "1985-01-01  Argentina    male  25-34 years       177     2234200   \n",
       "\n",
       "            sucid_in_hundredk   country-year  yearly_hdi    yearly_gdp  \\\n",
       "year                                                                     \n",
       "1985-01-01              55.65  Argentina1985       0.694  8.841667e+10   \n",
       "1985-01-01              24.29  Argentina1985       0.694  8.841667e+10   \n",
       "1985-01-01              12.37  Argentina1985       0.694  8.841667e+10   \n",
       "1985-01-01               9.11  Argentina1985       0.694  8.841667e+10   \n",
       "1985-01-01               7.92  Argentina1985       0.694  8.841667e+10   \n",
       "\n",
       "            gdp_per_capita  ... legalrights  laborforcetotal  lifeexpectancy  \\\n",
       "year                        ...                                                \n",
       "1985-01-01            3264  ...         0.0                0             0.0   \n",
       "1985-01-01            3264  ...         0.0                0             0.0   \n",
       "1985-01-01            3264  ...         0.0                0             0.0   \n",
       "1985-01-01            3264  ...         0.0                0             0.0   \n",
       "1985-01-01            3264  ...         0.0                0             0.0   \n",
       "\n",
       "            mobilesubscriptionsp100  refugees  selfemployed  electricityacess  \\\n",
       "year                                                                            \n",
       "1985-01-01                      0.0       0.0           0.0               0.0   \n",
       "1985-01-01                      0.0       0.0           0.0               0.0   \n",
       "1985-01-01                      0.0       0.0           0.0               0.0   \n",
       "1985-01-01                      0.0       0.0           0.0               0.0   \n",
       "1985-01-01                      0.0       0.0           0.0               0.0   \n",
       "\n",
       "            secondarycompletion  continent  country_code  \n",
       "year                                                      \n",
       "1985-01-01                  0.0   Americas           ARG  \n",
       "1985-01-01                  0.0   Americas           ARG  \n",
       "1985-01-01                  0.0   Americas           ARG  \n",
       "1985-01-01                  0.0   Americas           ARG  \n",
       "1985-01-01                  0.0   Americas           ARG  \n",
       "\n",
       "[5 rows x 27 columns]"
      ]
     },
     "execution_count": 32,
     "metadata": {},
     "output_type": "execute_result"
    }
   ],
   "source": [
    "url = 'E:\\\\Dessertation\\\\desertion_dkit_msc_2022_sep\\\\output.csv'\n",
    "df1 = pd.read_csv(url, index_col = 'year', parse_dates=True, infer_datetime_format=True)\n",
    "# df1 = pd.read_csv(url)\n",
    "# df1 = df1.set_index('year')\n",
    "print(df1.shape)  # (123, 8)\n",
    "df1.head()"
   ]
  },
  {
   "cell_type": "code",
   "execution_count": 33,
   "metadata": {},
   "outputs": [
    {
     "data": {
      "text/plain": [
       "Index(['country', 'sex', 'age', 'suicides', 'population', 'sucid_in_hundredk',\n",
       "       'country-year', 'yearly_hdi', 'yearly_gdp', 'gdp_per_capita',\n",
       "       'generation', 'suicide%', 'internetusers', 'expenses',\n",
       "       'employeecompensation', 'unemployment', 'physiciansp1000',\n",
       "       'legalrights', 'laborforcetotal', 'lifeexpectancy',\n",
       "       'mobilesubscriptionsp100', 'refugees', 'selfemployed',\n",
       "       'electricityacess', 'secondarycompletion', 'continent', 'country_code'],\n",
       "      dtype='object')"
      ]
     },
     "execution_count": 33,
     "metadata": {},
     "output_type": "execute_result"
    }
   ],
   "source": [
    "df1.columns"
   ]
  },
  {
   "cell_type": "code",
   "execution_count": 34,
   "metadata": {},
   "outputs": [
    {
     "name": "stdout",
     "output_type": "stream",
     "text": [
      "<class 'pandas.core.frame.DataFrame'>\n",
      "DatetimeIndex: 13276 entries, 1985-01-01 to 2015-01-01\n",
      "Data columns (total 4 columns):\n",
      " #   Column             Non-Null Count  Dtype  \n",
      "---  ------             --------------  -----  \n",
      " 0   sucid_in_hundredk  13276 non-null  float64\n",
      " 1   gdp_per_capita     13276 non-null  int64  \n",
      " 2   lifeexpectancy     13276 non-null  float64\n",
      " 3   expenses           12124 non-null  float64\n",
      "dtypes: float64(3), int64(1)\n",
      "memory usage: 518.6 KB\n"
     ]
    }
   ],
   "source": [
    "df = df1[(df1.country == 'Russian Federation')]\n",
    "columns = ['sucid_in_hundredk','gdp_per_capita','lifeexpectancy','expenses']\n",
    "df = pd.DataFrame(df1, columns=columns)\n",
    "df.info()"
   ]
  },
  {
   "cell_type": "code",
   "execution_count": 35,
   "metadata": {},
   "outputs": [
    {
     "name": "stderr",
     "output_type": "stream",
     "text": [
      "<ipython-input-35-adde1a2a424f>:2: FutureWarning: Indexing with multiple keys (implicitly converted to a tuple of keys) will be deprecated, use a list instead.\n",
      "  df = df.groupby(['year'])['sucid_in_hundredk','gdp_per_capita','lifeexpectancy','expenses'].transform('sum')\n"
     ]
    },
    {
     "data": {
      "text/html": [
       "<div>\n",
       "<style scoped>\n",
       "    .dataframe tbody tr th:only-of-type {\n",
       "        vertical-align: middle;\n",
       "    }\n",
       "\n",
       "    .dataframe tbody tr th {\n",
       "        vertical-align: top;\n",
       "    }\n",
       "\n",
       "    .dataframe thead th {\n",
       "        text-align: right;\n",
       "    }\n",
       "</style>\n",
       "<table border=\"1\" class=\"dataframe\">\n",
       "  <thead>\n",
       "    <tr style=\"text-align: right;\">\n",
       "      <th></th>\n",
       "      <th>sucid_in_hundredk</th>\n",
       "      <th>gdp_per_capita</th>\n",
       "      <th>lifeexpectancy</th>\n",
       "      <th>expenses</th>\n",
       "    </tr>\n",
       "    <tr>\n",
       "      <th>year</th>\n",
       "      <th></th>\n",
       "      <th></th>\n",
       "      <th></th>\n",
       "      <th></th>\n",
       "    </tr>\n",
       "  </thead>\n",
       "  <tbody>\n",
       "    <tr>\n",
       "      <th>2007-01-01</th>\n",
       "      <td>5943.61</td>\n",
       "      <td>14148912</td>\n",
       "      <td>35863.404292</td>\n",
       "      <td>12513.078840</td>\n",
       "    </tr>\n",
       "    <tr>\n",
       "      <th>2008-01-01</th>\n",
       "      <td>6011.15</td>\n",
       "      <td>15385368</td>\n",
       "      <td>35975.043512</td>\n",
       "      <td>13552.344522</td>\n",
       "    </tr>\n",
       "    <tr>\n",
       "      <th>2009-01-01</th>\n",
       "      <td>5867.99</td>\n",
       "      <td>13687092</td>\n",
       "      <td>36106.946342</td>\n",
       "      <td>14648.462122</td>\n",
       "    </tr>\n",
       "    <tr>\n",
       "      <th>2010-01-01</th>\n",
       "      <td>5800.77</td>\n",
       "      <td>14294664</td>\n",
       "      <td>36232.397268</td>\n",
       "      <td>14753.526867</td>\n",
       "    </tr>\n",
       "    <tr>\n",
       "      <th>2011-01-01</th>\n",
       "      <td>5578.44</td>\n",
       "      <td>15867408</td>\n",
       "      <td>36426.280976</td>\n",
       "      <td>14421.829657</td>\n",
       "    </tr>\n",
       "    <tr>\n",
       "      <th>2012-01-01</th>\n",
       "      <td>5692.10</td>\n",
       "      <td>15338880</td>\n",
       "      <td>36497.082732</td>\n",
       "      <td>14477.960525</td>\n",
       "    </tr>\n",
       "    <tr>\n",
       "      <th>2013-01-01</th>\n",
       "      <td>5287.79</td>\n",
       "      <td>15735684</td>\n",
       "      <td>35764.623220</td>\n",
       "      <td>14106.150213</td>\n",
       "    </tr>\n",
       "    <tr>\n",
       "      <th>2014-01-01</th>\n",
       "      <td>5174.47</td>\n",
       "      <td>14550744</td>\n",
       "      <td>0.000000</td>\n",
       "      <td>0.000000</td>\n",
       "    </tr>\n",
       "    <tr>\n",
       "      <th>2015-01-01</th>\n",
       "      <td>4476.67</td>\n",
       "      <td>11243316</td>\n",
       "      <td>0.000000</td>\n",
       "      <td>0.000000</td>\n",
       "    </tr>\n",
       "    <tr>\n",
       "      <th>2016-01-01</th>\n",
       "      <td>1438.40</td>\n",
       "      <td>2817650</td>\n",
       "      <td>0.000000</td>\n",
       "      <td>0.000000</td>\n",
       "    </tr>\n",
       "  </tbody>\n",
       "</table>\n",
       "</div>"
      ],
      "text/plain": [
       "            sucid_in_hundredk  gdp_per_capita  lifeexpectancy      expenses\n",
       "year                                                                       \n",
       "2007-01-01            5943.61        14148912    35863.404292  12513.078840\n",
       "2008-01-01            6011.15        15385368    35975.043512  13552.344522\n",
       "2009-01-01            5867.99        13687092    36106.946342  14648.462122\n",
       "2010-01-01            5800.77        14294664    36232.397268  14753.526867\n",
       "2011-01-01            5578.44        15867408    36426.280976  14421.829657\n",
       "2012-01-01            5692.10        15338880    36497.082732  14477.960525\n",
       "2013-01-01            5287.79        15735684    35764.623220  14106.150213\n",
       "2014-01-01            5174.47        14550744        0.000000      0.000000\n",
       "2015-01-01            4476.67        11243316        0.000000      0.000000\n",
       "2016-01-01            1438.40         2817650        0.000000      0.000000"
      ]
     },
     "execution_count": 35,
     "metadata": {},
     "output_type": "execute_result"
    }
   ],
   "source": [
    "# adding all deaths together and group by year\n",
    "df = df.groupby(['year'])['sucid_in_hundredk','gdp_per_capita','lifeexpectancy','expenses'].transform('sum')\n",
    "# df = df.reset_index().drop_duplicates()\n",
    "# df = pd.Series.to_frame(df)\n",
    "\n",
    "# df['year'] = pd.to_datetime(df['year'], format='%Y00%').apply(lambda x: x.strftime('%Y'))\n",
    "df['year'] = list(df.index)\n",
    "df = df.drop_duplicates()\n",
    "df = df.drop(labels='year', axis=1)\n",
    "df.tail(10)"
   ]
  },
  {
   "cell_type": "code",
   "execution_count": 36,
   "metadata": {},
   "outputs": [
    {
     "data": {
      "text/plain": [
       "sucid_in_hundredk    0\n",
       "gdp_per_capita       0\n",
       "lifeexpectancy       0\n",
       "expenses             0\n",
       "dtype: int64"
      ]
     },
     "execution_count": 36,
     "metadata": {},
     "output_type": "execute_result"
    }
   ],
   "source": [
    "df.isnull().sum()\n",
    "df.isna().sum()"
   ]
  },
  {
   "cell_type": "code",
   "execution_count": 37,
   "metadata": {},
   "outputs": [],
   "source": [
    "# Replace the NaNs in column S2 & S3 by the mean of values\n",
    "# in column S2 & S3 respectively\n",
    "df[['lifeexpectancy','expenses']] = df[['lifeexpectancy','expenses']].fillna(value=df[['lifeexpectancy','expenses']].mean())"
   ]
  },
  {
   "cell_type": "code",
   "execution_count": 38,
   "metadata": {},
   "outputs": [],
   "source": [
    "df['lifeexpectancy'] = df['lifeexpectancy'].replace(0, \n",
    "df['lifeexpectancy'].median())\n",
    "\n",
    "df['expenses'] = df['expenses'].replace(0, \n",
    "df['expenses'].median())"
   ]
  },
  {
   "cell_type": "code",
   "execution_count": 39,
   "metadata": {},
   "outputs": [
    {
     "data": {
      "text/plain": [
       "sucid_in_hundredk    0\n",
       "gdp_per_capita       0\n",
       "lifeexpectancy       0\n",
       "expenses             0\n",
       "dtype: int64"
      ]
     },
     "execution_count": 39,
     "metadata": {},
     "output_type": "execute_result"
    }
   ],
   "source": [
    "df.isnull().sum()\n",
    "df.isna().sum()"
   ]
  },
  {
   "cell_type": "code",
   "execution_count": 40,
   "metadata": {},
   "outputs": [
    {
     "data": {
      "image/png": "[encoded data removed]",
      "text/plain": [
       "<Figure size 432x288 with 1 Axes>"
      ]
     },
     "metadata": {
      "needs_background": "light"
     },
     "output_type": "display_data"
    }
   ],
   "source": [
    "boxplot = df.boxplot(column=['lifeexpectancy','expenses']) "
   ]
  },
  {
   "cell_type": "code",
   "execution_count": 41,
   "metadata": {},
   "outputs": [
    {
     "name": "stderr",
     "output_type": "stream",
     "text": [
      "c:\\ProgramData\\Anaconda3\\lib\\site-packages\\seaborn\\distributions.py:2557: FutureWarning: `distplot` is a deprecated function and will be removed in a future version. Please adapt your code to use either `displot` (a figure-level function with similar flexibility) or `histplot` (an axes-level function for histograms).\n",
      "  warnings.warn(msg, FutureWarning)\n"
     ]
    },
    {
     "data": {
      "image/png": "[encoded data removed]",
      "text/plain": [
       "<Figure size 432x288 with 1 Axes>"
      ]
     },
     "metadata": {
      "needs_background": "light"
     },
     "output_type": "display_data"
    }
   ],
   "source": [
    "import seaborn as sns, numpy as np\n",
    "ax = sns.distplot(df['expenses'])"
   ]
  },
  {
   "cell_type": "code",
   "execution_count": 42,
   "metadata": {},
   "outputs": [
    {
     "data": {
      "text/html": [
       "<div>\n",
       "<style scoped>\n",
       "    .dataframe tbody tr th:only-of-type {\n",
       "        vertical-align: middle;\n",
       "    }\n",
       "\n",
       "    .dataframe tbody tr th {\n",
       "        vertical-align: top;\n",
       "    }\n",
       "\n",
       "    .dataframe thead th {\n",
       "        text-align: right;\n",
       "    }\n",
       "</style>\n",
       "<table border=\"1\" class=\"dataframe\">\n",
       "  <thead>\n",
       "    <tr style=\"text-align: right;\">\n",
       "      <th></th>\n",
       "      <th>sucid_in_hundredk</th>\n",
       "      <th>gdp_per_capita</th>\n",
       "      <th>lifeexpectancy</th>\n",
       "      <th>expenses</th>\n",
       "    </tr>\n",
       "    <tr>\n",
       "      <th>year</th>\n",
       "      <th></th>\n",
       "      <th></th>\n",
       "      <th></th>\n",
       "      <th></th>\n",
       "    </tr>\n",
       "  </thead>\n",
       "  <tbody>\n",
       "    <tr>\n",
       "      <th>1985-01-01</th>\n",
       "      <td>3655.13</td>\n",
       "      <td>1816848</td>\n",
       "      <td>33884.505219</td>\n",
       "      <td>11857.702271</td>\n",
       "    </tr>\n",
       "    <tr>\n",
       "      <th>1986-01-01</th>\n",
       "      <td>3930.40</td>\n",
       "      <td>2546796</td>\n",
       "      <td>33884.505219</td>\n",
       "      <td>11857.702271</td>\n",
       "    </tr>\n",
       "    <tr>\n",
       "      <th>1987-01-01</th>\n",
       "      <td>5035.65</td>\n",
       "      <td>3611844</td>\n",
       "      <td>33884.505219</td>\n",
       "      <td>11857.702271</td>\n",
       "    </tr>\n",
       "    <tr>\n",
       "      <th>1988-01-01</th>\n",
       "      <td>4733.78</td>\n",
       "      <td>4048896</td>\n",
       "      <td>33884.505219</td>\n",
       "      <td>11857.702271</td>\n",
       "    </tr>\n",
       "    <tr>\n",
       "      <th>1989-01-01</th>\n",
       "      <td>5208.18</td>\n",
       "      <td>4218240</td>\n",
       "      <td>33884.505219</td>\n",
       "      <td>11857.702271</td>\n",
       "    </tr>\n",
       "  </tbody>\n",
       "</table>\n",
       "</div>"
      ],
      "text/plain": [
       "            sucid_in_hundredk  gdp_per_capita  lifeexpectancy      expenses\n",
       "year                                                                       \n",
       "1985-01-01            3655.13         1816848    33884.505219  11857.702271\n",
       "1986-01-01            3930.40         2546796    33884.505219  11857.702271\n",
       "1987-01-01            5035.65         3611844    33884.505219  11857.702271\n",
       "1988-01-01            4733.78         4048896    33884.505219  11857.702271\n",
       "1989-01-01            5208.18         4218240    33884.505219  11857.702271"
      ]
     },
     "execution_count": 42,
     "metadata": {},
     "output_type": "execute_result"
    }
   ],
   "source": [
    "df.head()"
   ]
  },
  {
   "cell_type": "code",
   "execution_count": 43,
   "metadata": {},
   "outputs": [
    {
     "data": {
      "image/png": "[encoded data removed]",
      "text/plain": [
       "<Figure size 1200x720 with 4 Axes>"
      ]
     },
     "metadata": {
      "needs_background": "light"
     },
     "output_type": "display_data"
    }
   ],
   "source": [
    "# Plot\n",
    "fig, axes = plt.subplots(nrows=2, ncols=2, dpi=120, figsize=(10,6))\n",
    "for i, ax in enumerate(axes.flatten()):\n",
    "    data = df[df.columns[i]]\n",
    "    ax.plot(data, color='red', linewidth=1)\n",
    "    # Decorations\n",
    "    ax.set_title(df.columns[i])\n",
    "    ax.xaxis.set_ticks_position('none')\n",
    "    ax.yaxis.set_ticks_position('none')\n",
    "    ax.spines[\"top\"].set_alpha(0)\n",
    "    ax.tick_params(labelsize=6)\n",
    "\n",
    "plt.tight_layout();"
   ]
  },
  {
   "cell_type": "markdown",
   "metadata": {},
   "source": [
    "### Testing Causation using Granger’s Causality Test"
   ]
  },
  {
   "cell_type": "code",
   "execution_count": 44,
   "metadata": {},
   "outputs": [
    {
     "data": {
      "text/html": [
       "<div>\n",
       "<style scoped>\n",
       "    .dataframe tbody tr th:only-of-type {\n",
       "        vertical-align: middle;\n",
       "    }\n",
       "\n",
       "    .dataframe tbody tr th {\n",
       "        vertical-align: top;\n",
       "    }\n",
       "\n",
       "    .dataframe thead th {\n",
       "        text-align: right;\n",
       "    }\n",
       "</style>\n",
       "<table border=\"1\" class=\"dataframe\">\n",
       "  <thead>\n",
       "    <tr style=\"text-align: right;\">\n",
       "      <th></th>\n",
       "      <th>sucid_in_hundredk_x</th>\n",
       "      <th>gdp_per_capita_x</th>\n",
       "      <th>lifeexpectancy_x</th>\n",
       "      <th>expenses_x</th>\n",
       "    </tr>\n",
       "  </thead>\n",
       "  <tbody>\n",
       "    <tr>\n",
       "      <th>sucid_in_hundredk_y</th>\n",
       "      <td>1.0000</td>\n",
       "      <td>0.0</td>\n",
       "      <td>0.0000</td>\n",
       "      <td>0.0000</td>\n",
       "    </tr>\n",
       "    <tr>\n",
       "      <th>gdp_per_capita_y</th>\n",
       "      <td>0.0003</td>\n",
       "      <td>1.0</td>\n",
       "      <td>0.0000</td>\n",
       "      <td>0.0000</td>\n",
       "    </tr>\n",
       "    <tr>\n",
       "      <th>lifeexpectancy_y</th>\n",
       "      <td>0.0000</td>\n",
       "      <td>0.0</td>\n",
       "      <td>1.0000</td>\n",
       "      <td>0.0079</td>\n",
       "    </tr>\n",
       "    <tr>\n",
       "      <th>expenses_y</th>\n",
       "      <td>0.0000</td>\n",
       "      <td>0.0</td>\n",
       "      <td>0.0006</td>\n",
       "      <td>1.0000</td>\n",
       "    </tr>\n",
       "  </tbody>\n",
       "</table>\n",
       "</div>"
      ],
      "text/plain": [
       "                     sucid_in_hundredk_x  gdp_per_capita_x  lifeexpectancy_x  \\\n",
       "sucid_in_hundredk_y               1.0000               0.0            0.0000   \n",
       "gdp_per_capita_y                  0.0003               1.0            0.0000   \n",
       "lifeexpectancy_y                  0.0000               0.0            1.0000   \n",
       "expenses_y                        0.0000               0.0            0.0006   \n",
       "\n",
       "                     expenses_x  \n",
       "sucid_in_hundredk_y      0.0000  \n",
       "gdp_per_capita_y         0.0000  \n",
       "lifeexpectancy_y         0.0079  \n",
       "expenses_y               1.0000  "
      ]
     },
     "execution_count": 44,
     "metadata": {},
     "output_type": "execute_result"
    }
   ],
   "source": [
    "from statsmodels.tsa.stattools import grangercausalitytests\n",
    "maxlag=9\n",
    "test = 'ssr_chi2test'\n",
    "def grangers_causation_matrix(data, variables, test='ssr_chi2test', verbose=False):    \n",
    "    \"\"\"Check Granger Causality of all possible combinations of the Time series.\n",
    "    The rows are the response variable, columns are predictors. The values in the table \n",
    "    are the P-Values. P-Values lesser than the significance level (0.05), implies \n",
    "    the Null Hypothesis that the coefficients of the corresponding past values is \n",
    "    zero, that is, the X does not cause Y can be rejected.\n",
    "\n",
    "    data      : pandas dataframe containing the time series variables\n",
    "    variables : list containing names of the time series variables.\n",
    "    \"\"\"\n",
    "    df = pd.DataFrame(np.zeros((len(variables), len(variables))), columns=variables, index=variables)\n",
    "    for c in df.columns:\n",
    "        for r in df.index:\n",
    "            test_result = grangercausalitytests(data[[r, c]], maxlag=maxlag, verbose=False)\n",
    "            p_values = [round(test_result[i+1][0][test][1],4) for i in range(maxlag)]\n",
    "            if verbose: print(f'Y = {r}, X = {c}, P Values = {p_values}')\n",
    "            min_p_value = np.min(p_values)\n",
    "            df.loc[r, c] = min_p_value\n",
    "    df.columns = [var + '_x' for var in variables]\n",
    "    df.index = [var + '_y' for var in variables]\n",
    "    return df\n",
    "\n",
    "grangers_causation_matrix(df, variables = df.columns) "
   ]
  },
  {
   "cell_type": "markdown",
   "metadata": {},
   "source": [
    "If a given p-value is < significance level (0.05), then, the corresponding X series (column) causes the Y (row)."
   ]
  },
  {
   "cell_type": "markdown",
   "metadata": {},
   "source": [
    "### Cointegration Test"
   ]
  },
  {
   "cell_type": "code",
   "execution_count": 45,
   "metadata": {},
   "outputs": [
    {
     "name": "stdout",
     "output_type": "stream",
     "text": [
      "Name   ::  Test Stat > C(95%)    =>   Signif  \n",
      " ----------------------------------------\n",
      "sucid_in_hundredk ::  1383.78   > 40.1749   =>   True\n",
      "gdp_per_capita ::  648.46    > 24.2761   =>   True\n",
      "lifeexpectancy ::  53.11     > 12.3212   =>   True\n",
      "expenses ::  10.7      > 4.1296    =>   True\n"
     ]
    }
   ],
   "source": [
    "from statsmodels.tsa.vector_ar.vecm import coint_johansen\n",
    "\n",
    "def cointegration_test(df, alpha=0.05): \n",
    "    \"\"\"Perform Johanson's Cointegration Test and Report Summary\"\"\"\n",
    "    out = coint_johansen(df,-1,5)\n",
    "    d = {'0.90':0, '0.95':1, '0.99':2}\n",
    "    traces = out.lr1\n",
    "    cvts = out.cvt[:, d[str(1-alpha)]]\n",
    "    def adjust(val, length= 6): return str(val).ljust(length)\n",
    "\n",
    "    # Summary\n",
    "    print('Name   ::  Test Stat > C(95%)    =>   Signif  \\n', '--'*20)\n",
    "    for col, trace, cvt in zip(df.columns, traces, cvts):\n",
    "        print(adjust(col), ':: ', adjust(round(trace,2), 9), \">\", adjust(cvt, 8), ' =>  ' , trace > cvt)\n",
    "\n",
    "cointegration_test(df)"
   ]
  },
  {
   "cell_type": "code",
   "execution_count": 46,
   "metadata": {},
   "outputs": [
    {
     "name": "stdout",
     "output_type": "stream",
     "text": [
      "(27, 4)\n",
      "(5, 4)\n"
     ]
    }
   ],
   "source": [
    "nobs = 5\n",
    "df_train, df_test = df[0:-nobs], df[-nobs:]\n",
    "\n",
    "# Check size\n",
    "print(df_train.shape)  # (119, 8)\n",
    "print(df_test.shape)  # (4, 8)"
   ]
  },
  {
   "cell_type": "markdown",
   "metadata": {},
   "source": [
    "Dickey-Fuller Test"
   ]
  },
  {
   "cell_type": "code",
   "execution_count": 69,
   "metadata": {},
   "outputs": [],
   "source": [
    "def adfuller_test(series, signif=0.05, name='', verbose=False):\n",
    "    \"\"\"Perform ADFuller to test for Stationarity of given series and print report\"\"\"\n",
    "    r = adfuller(series, autolag='AIC')\n",
    "    output = {'test_statistic':round(r[0], 4), 'pvalue':round(r[1], 4), 'n_lags':round(r[2], 4), 'n_obs':r[3]}\n",
    "    p_value = output['pvalue'] \n",
    "    def adjust(val, length= 6): return str(val).ljust(length)\n",
    "\n",
    "    # Print Summary\n",
    "    print(f'    Augmented Dickey-Fuller Test on \"{name}\"', \"\\n   \", '-'*47)\n",
    "    print(f' Null Hypothesis: Data has unit root. Non-Stationary.')\n",
    "    print(f' Significance Level    = {signif}')\n",
    "    print(f' Test Statistic        = {output[\"test_statistic\"]}')\n",
    "    print(f' No. Lags Chosen       = {output[\"n_lags\"]}')\n",
    "\n",
    "    for key,val in r[4].items():\n",
    "        print(f' Critical value {adjust(key)} = {round(val, 3)}')\n",
    "\n",
    "    if p_value <= signif:\n",
    "        print(f\" => P-Value = {p_value}. Rejecting Null Hypothesis.\")\n",
    "        print(f\" => Series is Stationary.\")\n",
    "    else:\n",
    "        print(f\" => P-Value = {p_value}. Weak evidence to reject the Null Hypothesis.\")\n",
    "        print(f\" => Series is Non-Stationary.\")  "
   ]
  },
  {
   "cell_type": "code",
   "execution_count": 48,
   "metadata": {},
   "outputs": [
    {
     "name": "stdout",
     "output_type": "stream",
     "text": [
      "    Augmented Dickey-Fuller Test on \"sucid_in_hundredk\" \n",
      "    -----------------------------------------------\n",
      " Null Hypothesis: Data has unit root. Non-Stationary.\n",
      " Significance Level    = 0.05\n",
      " Test Statistic        = -3.5072\n",
      " No. Lags Chosen       = 8\n",
      " Critical value 1%     = -3.859\n",
      " Critical value 5%     = -3.042\n",
      " Critical value 10%    = -2.661\n",
      " => P-Value = 0.0078. Rejecting Null Hypothesis.\n",
      " => Series is Stationary.\n",
      "\n",
      "\n",
      "    Augmented Dickey-Fuller Test on \"gdp_per_capita\" \n",
      "    -----------------------------------------------\n",
      " Null Hypothesis: Data has unit root. Non-Stationary.\n",
      " Significance Level    = 0.05\n",
      " Test Statistic        = 0.6882\n",
      " No. Lags Chosen       = 2\n",
      " Critical value 1%     = -3.738\n",
      " Critical value 5%     = -2.992\n",
      " Critical value 10%    = -2.636\n",
      " => P-Value = 0.9896. Weak evidence to reject the Null Hypothesis.\n",
      " => Series is Non-Stationary.\n",
      "\n",
      "\n",
      "    Augmented Dickey-Fuller Test on \"lifeexpectancy\" \n",
      "    -----------------------------------------------\n",
      " Null Hypothesis: Data has unit root. Non-Stationary.\n",
      " Significance Level    = 0.05\n",
      " Test Statistic        = -0.1943\n",
      " No. Lags Chosen       = 2\n",
      " Critical value 1%     = -3.738\n",
      " Critical value 5%     = -2.992\n",
      " Critical value 10%    = -2.636\n",
      " => P-Value = 0.9392. Weak evidence to reject the Null Hypothesis.\n",
      " => Series is Non-Stationary.\n",
      "\n",
      "\n",
      "    Augmented Dickey-Fuller Test on \"expenses\" \n",
      "    -----------------------------------------------\n",
      " Null Hypothesis: Data has unit root. Non-Stationary.\n",
      " Significance Level    = 0.05\n",
      " Test Statistic        = 3.6287\n",
      " No. Lags Chosen       = 8\n",
      " Critical value 1%     = -3.859\n",
      " Critical value 5%     = -3.042\n",
      " Critical value 10%    = -2.661\n",
      " => P-Value = 1.0. Weak evidence to reject the Null Hypothesis.\n",
      " => Series is Non-Stationary.\n",
      "\n",
      "\n"
     ]
    }
   ],
   "source": [
    "# ADF Test on each column\n",
    "for name, column in df_train.iteritems():\n",
    "    adfuller_test(column, name=column.name)\n",
    "    print('\\n')"
   ]
  },
  {
   "cell_type": "code",
   "execution_count": 49,
   "metadata": {},
   "outputs": [],
   "source": [
    "# 1st difference\n",
    "df_differenced = df_train.diff().dropna()"
   ]
  },
  {
   "cell_type": "code",
   "execution_count": 50,
   "metadata": {},
   "outputs": [
    {
     "name": "stdout",
     "output_type": "stream",
     "text": [
      "    Augmented Dickey-Fuller Test on \"sucid_in_hundredk\" \n",
      "    -----------------------------------------------\n",
      " Null Hypothesis: Data has unit root. Non-Stationary.\n",
      " Significance Level    = 0.05\n",
      " Test Statistic        = -2.7267\n",
      " No. Lags Chosen       = 9\n",
      " Critical value 1%     = -3.924\n",
      " Critical value 5%     = -3.068\n",
      " Critical value 10%    = -2.674\n",
      " => P-Value = 0.0695. Weak evidence to reject the Null Hypothesis.\n",
      " => Series is Non-Stationary.\n",
      "\n",
      "\n",
      "    Augmented Dickey-Fuller Test on \"gdp_per_capita\" \n",
      "    -----------------------------------------------\n",
      " Null Hypothesis: Data has unit root. Non-Stationary.\n",
      " Significance Level    = 0.05\n",
      " Test Statistic        = -2.3404\n",
      " No. Lags Chosen       = 2\n",
      " Critical value 1%     = -3.753\n",
      " Critical value 5%     = -2.998\n",
      " Critical value 10%    = -2.639\n",
      " => P-Value = 0.1593. Weak evidence to reject the Null Hypothesis.\n",
      " => Series is Non-Stationary.\n",
      "\n",
      "\n",
      "    Augmented Dickey-Fuller Test on \"lifeexpectancy\" \n",
      "    -----------------------------------------------\n",
      " Null Hypothesis: Data has unit root. Non-Stationary.\n",
      " Significance Level    = 0.05\n",
      " Test Statistic        = -6.0972\n",
      " No. Lags Chosen       = 1\n",
      " Critical value 1%     = -3.738\n",
      " Critical value 5%     = -2.992\n",
      " Critical value 10%    = -2.636\n",
      " => P-Value = 0.0. Rejecting Null Hypothesis.\n",
      " => Series is Stationary.\n",
      "\n",
      "\n",
      "    Augmented Dickey-Fuller Test on \"expenses\" \n",
      "    -----------------------------------------------\n",
      " Null Hypothesis: Data has unit root. Non-Stationary.\n",
      " Significance Level    = 0.05\n",
      " Test Statistic        = 0.5309\n",
      " No. Lags Chosen       = 9\n",
      " Critical value 1%     = -3.924\n",
      " Critical value 5%     = -3.068\n",
      " Critical value 10%    = -2.674\n",
      " => P-Value = 0.9858. Weak evidence to reject the Null Hypothesis.\n",
      " => Series is Non-Stationary.\n",
      "\n",
      "\n"
     ]
    }
   ],
   "source": [
    "# ADF Test on each column of 1st Differences Dataframe\n",
    "for name, column in df_differenced.iteritems():\n",
    "    adfuller_test(column, name=column.name)\n",
    "    print('\\n')"
   ]
  },
  {
   "cell_type": "code",
   "execution_count": 51,
   "metadata": {},
   "outputs": [],
   "source": [
    "# Second Differencing\n",
    "df_differenced = df_differenced.diff().dropna()"
   ]
  },
  {
   "cell_type": "code",
   "execution_count": 52,
   "metadata": {},
   "outputs": [
    {
     "name": "stdout",
     "output_type": "stream",
     "text": [
      "    Augmented Dickey-Fuller Test on \"sucid_in_hundredk\" \n",
      "    -----------------------------------------------\n",
      " Null Hypothesis: Data has unit root. Non-Stationary.\n",
      " Significance Level    = 0.05\n",
      " Test Statistic        = -1.0177\n",
      " No. Lags Chosen       = 7\n",
      " Critical value 1%     = -3.889\n",
      " Critical value 5%     = -3.054\n",
      " Critical value 10%    = -2.667\n",
      " => P-Value = 0.7467. Weak evidence to reject the Null Hypothesis.\n",
      " => Series is Non-Stationary.\n",
      "\n",
      "\n",
      "    Augmented Dickey-Fuller Test on \"gdp_per_capita\" \n",
      "    -----------------------------------------------\n",
      " Null Hypothesis: Data has unit root. Non-Stationary.\n",
      " Significance Level    = 0.05\n",
      " Test Statistic        = -6.9367\n",
      " No. Lags Chosen       = 1\n",
      " Critical value 1%     = -3.753\n",
      " Critical value 5%     = -2.998\n",
      " Critical value 10%    = -2.639\n",
      " => P-Value = 0.0. Rejecting Null Hypothesis.\n",
      " => Series is Stationary.\n",
      "\n",
      "\n",
      "    Augmented Dickey-Fuller Test on \"lifeexpectancy\" \n",
      "    -----------------------------------------------\n",
      " Null Hypothesis: Data has unit root. Non-Stationary.\n",
      " Significance Level    = 0.05\n",
      " Test Statistic        = -4.3212\n",
      " No. Lags Chosen       = 4\n",
      " Critical value 1%     = -3.809\n",
      " Critical value 5%     = -3.022\n",
      " Critical value 10%    = -2.651\n",
      " => P-Value = 0.0004. Rejecting Null Hypothesis.\n",
      " => Series is Stationary.\n",
      "\n",
      "\n",
      "    Augmented Dickey-Fuller Test on \"expenses\" \n",
      "    -----------------------------------------------\n",
      " Null Hypothesis: Data has unit root. Non-Stationary.\n",
      " Significance Level    = 0.05\n",
      " Test Statistic        = -4.1425\n",
      " No. Lags Chosen       = 8\n",
      " Critical value 1%     = -3.924\n",
      " Critical value 5%     = -3.068\n",
      " Critical value 10%    = -2.674\n",
      " => P-Value = 0.0008. Rejecting Null Hypothesis.\n",
      " => Series is Stationary.\n",
      "\n",
      "\n"
     ]
    }
   ],
   "source": [
    "# ADF Test on each column of 2nd Differences Dataframe\n",
    "for name, column in df_differenced.iteritems():\n",
    "    adfuller_test(column, name=column.name)\n",
    "    print('\\n')"
   ]
  },
  {
   "cell_type": "code",
   "execution_count": 53,
   "metadata": {},
   "outputs": [],
   "source": [
    "# Second Differencing\n",
    "df_differenced = df_differenced.diff().dropna()"
   ]
  },
  {
   "cell_type": "code",
   "execution_count": 54,
   "metadata": {},
   "outputs": [
    {
     "name": "stdout",
     "output_type": "stream",
     "text": [
      "    Augmented Dickey-Fuller Test on \"sucid_in_hundredk\" \n",
      "    -----------------------------------------------\n",
      " Null Hypothesis: Data has unit root. Non-Stationary.\n",
      " Significance Level    = 0.05\n",
      " Test Statistic        = -2.3046\n",
      " No. Lags Chosen       = 8\n",
      " Critical value 1%     = -3.964\n",
      " Critical value 5%     = -3.085\n",
      " Critical value 10%    = -2.682\n",
      " => P-Value = 0.1705. Weak evidence to reject the Null Hypothesis.\n",
      " => Series is Non-Stationary.\n",
      "\n",
      "\n",
      "    Augmented Dickey-Fuller Test on \"gdp_per_capita\" \n",
      "    -----------------------------------------------\n",
      " Null Hypothesis: Data has unit root. Non-Stationary.\n",
      " Significance Level    = 0.05\n",
      " Test Statistic        = -7.5625\n",
      " No. Lags Chosen       = 2\n",
      " Critical value 1%     = -3.788\n",
      " Critical value 5%     = -3.013\n",
      " Critical value 10%    = -2.646\n",
      " => P-Value = 0.0. Rejecting Null Hypothesis.\n",
      " => Series is Stationary.\n",
      "\n",
      "\n",
      "    Augmented Dickey-Fuller Test on \"lifeexpectancy\" \n",
      "    -----------------------------------------------\n",
      " Null Hypothesis: Data has unit root. Non-Stationary.\n",
      " Significance Level    = 0.05\n",
      " Test Statistic        = -3.2491\n",
      " No. Lags Chosen       = 6\n",
      " Critical value 1%     = -3.889\n",
      " Critical value 5%     = -3.054\n",
      " Critical value 10%    = -2.667\n",
      " => P-Value = 0.0173. Rejecting Null Hypothesis.\n",
      " => Series is Stationary.\n",
      "\n",
      "\n",
      "    Augmented Dickey-Fuller Test on \"expenses\" \n",
      "    -----------------------------------------------\n",
      " Null Hypothesis: Data has unit root. Non-Stationary.\n",
      " Significance Level    = 0.05\n",
      " Test Statistic        = -3.3572\n",
      " No. Lags Chosen       = 9\n",
      " Critical value 1%     = -4.012\n",
      " Critical value 5%     = -3.104\n",
      " Critical value 10%    = -2.691\n",
      " => P-Value = 0.0125. Rejecting Null Hypothesis.\n",
      " => Series is Stationary.\n",
      "\n",
      "\n"
     ]
    }
   ],
   "source": [
    "# ADF Test on each column of 2nd Differences Dataframe\n",
    "for name, column in df_differenced.iteritems():\n",
    "    adfuller_test(column, name=column.name)\n",
    "    print('\\n')"
   ]
  },
  {
   "cell_type": "code",
   "execution_count": 60,
   "metadata": {},
   "outputs": [
    {
     "name": "stdout",
     "output_type": "stream",
     "text": [
      "Lag Order = 1\n",
      "AIC :  68.49723729936326\n",
      "BIC :  69.48462357408427\n",
      "FPE :  5.7573089932510996e+29\n",
      "HQIC:  68.7455621798759 \n",
      "\n",
      "Lag Order = 2\n",
      "AIC :  67.32880595990584\n",
      "BIC :  69.11414815631036\n",
      "FPE :  2.1324304348518654e+29\n",
      "HQIC:  67.74937889738065 \n",
      "\n",
      "Lag Order = 3\n",
      "AIC :  64.51070479029659\n",
      "BIC :  67.09714130275458\n",
      "FPE :  2.395560339779612e+28\n",
      "HQIC:  65.07202772419365 \n",
      "\n"
     ]
    },
    {
     "name": "stderr",
     "output_type": "stream",
     "text": [
      "c:\\ProgramData\\Anaconda3\\lib\\site-packages\\statsmodels\\tsa\\base\\tsa_model.py:524: ValueWarning: No frequency information was provided, so inferred frequency AS-JAN will be used.\n",
      "  warnings.warn('No frequency information was'\n"
     ]
    }
   ],
   "source": [
    "model = VAR(df_differenced)\n",
    "for i in [1,2,3]:\n",
    "    result = model.fit(i)\n",
    "    print('Lag Order =', i)\n",
    "    print('AIC : ', result.aic)\n",
    "    print('BIC : ', result.bic)\n",
    "    print('FPE : ', result.fpe)\n",
    "    print('HQIC: ', result.hqic, '\\n')"
   ]
  },
  {
   "cell_type": "code",
   "execution_count": 64,
   "metadata": {},
   "outputs": [
    {
     "data": {
      "text/plain": [
       "  Summary of Regression Results   \n",
       "==================================\n",
       "Model:                         VAR\n",
       "Method:                        OLS\n",
       "Date:           Thu, 02, Jun, 2022\n",
       "Time:                     19:39:32\n",
       "--------------------------------------------------------------------\n",
       "No. of Equations:         4.00000    BIC:                    67.0971\n",
       "Nobs:                     21.0000    HQIC:                   65.0720\n",
       "Log likelihood:          -744.553    FPE:                2.39556e+28\n",
       "AIC:                      64.5107    Det(Omega_mle):     3.48633e+27\n",
       "--------------------------------------------------------------------\n",
       "Results for equation sucid_in_hundredk\n",
       "=======================================================================================\n",
       "                          coefficient       std. error           t-stat            prob\n",
       "---------------------------------------------------------------------------------------\n",
       "const                        5.111731        73.977393            0.069           0.945\n",
       "L1.sucid_in_hundredk        -0.389588         0.325097           -1.198           0.231\n",
       "L1.gdp_per_capita           -0.000120         0.000089           -1.352           0.176\n",
       "L1.lifeexpectancy           -0.060760         0.102677           -0.592           0.554\n",
       "L1.expenses                  0.034590         0.147866            0.234           0.815\n",
       "L2.sucid_in_hundredk        -0.603661         0.286151           -2.110           0.035\n",
       "L2.gdp_per_capita            0.000046         0.000139            0.332           0.740\n",
       "L2.lifeexpectancy            0.129194         0.131257            0.984           0.325\n",
       "L2.expenses                 -0.242295         0.240011           -1.010           0.313\n",
       "L3.sucid_in_hundredk        -0.231586         0.196993           -1.176           0.240\n",
       "L3.gdp_per_capita           -0.000134         0.000095           -1.412           0.158\n",
       "L3.lifeexpectancy           -0.052974         0.097603           -0.543           0.587\n",
       "L3.expenses                 -0.164901         0.233913           -0.705           0.481\n",
       "=======================================================================================\n",
       "\n",
       "Results for equation gdp_per_capita\n",
       "=======================================================================================\n",
       "                          coefficient       std. error           t-stat            prob\n",
       "---------------------------------------------------------------------------------------\n",
       "const                    20224.923585    205012.641638            0.099           0.921\n",
       "L1.sucid_in_hundredk      1243.830300       900.936187            1.381           0.167\n",
       "L1.gdp_per_capita           -1.067326         0.246011           -4.339           0.000\n",
       "L1.lifeexpectancy          226.969220       284.548759            0.798           0.425\n",
       "L1.expenses               -387.560202       409.779386           -0.946           0.344\n",
       "L2.sucid_in_hundredk       -86.564852       793.007153           -0.109           0.913\n",
       "L2.gdp_per_capita           -0.695361         0.385967           -1.802           0.072\n",
       "L2.lifeexpectancy          306.077772       363.750475            0.841           0.400\n",
       "L2.expenses               -790.324669       665.140421           -1.188           0.235\n",
       "L3.sucid_in_hundredk       309.310714       545.923413            0.567           0.571\n",
       "L3.gdp_per_capita           -0.923951         0.263962           -3.500           0.000\n",
       "L3.lifeexpectancy         -493.310606       270.485289           -1.824           0.068\n",
       "L3.expenses                150.262645       648.241140            0.232           0.817\n",
       "=======================================================================================\n",
       "\n",
       "Results for equation lifeexpectancy\n",
       "=======================================================================================\n",
       "                          coefficient       std. error           t-stat            prob\n",
       "---------------------------------------------------------------------------------------\n",
       "const                       37.736372       171.062572            0.221           0.825\n",
       "L1.sucid_in_hundredk         0.981742         0.751741            1.306           0.192\n",
       "L1.gdp_per_capita           -0.000062         0.000205           -0.303           0.762\n",
       "L1.lifeexpectancy           -0.817877         0.237428           -3.445           0.001\n",
       "L1.expenses                 -0.059981         0.341920           -0.175           0.861\n",
       "L2.sucid_in_hundredk         0.437614         0.661685            0.661           0.508\n",
       "L2.gdp_per_capita            0.000142         0.000322            0.441           0.659\n",
       "L2.lifeexpectancy           -0.333738         0.303513           -1.100           0.272\n",
       "L2.expenses                 -1.603766         0.554993           -2.890           0.004\n",
       "L3.sucid_in_hundredk         0.283427         0.455519            0.622           0.534\n",
       "L3.gdp_per_capita           -0.000209         0.000220           -0.949           0.343\n",
       "L3.lifeexpectancy           -0.469325         0.225693           -2.079           0.038\n",
       "L3.expenses                 -0.882838         0.540892           -1.632           0.103\n",
       "=======================================================================================\n",
       "\n",
       "Results for equation expenses\n",
       "=======================================================================================\n",
       "                          coefficient       std. error           t-stat            prob\n",
       "---------------------------------------------------------------------------------------\n",
       "const                       58.572849       100.379030            0.584           0.560\n",
       "L1.sucid_in_hundredk         1.394019         0.441120            3.160           0.002\n",
       "L1.gdp_per_capita           -0.000358         0.000120           -2.970           0.003\n",
       "L1.lifeexpectancy            0.027253         0.139322            0.196           0.845\n",
       "L1.expenses                 -0.855979         0.200638           -4.266           0.000\n",
       "L2.sucid_in_hundredk         0.294551         0.388275            0.759           0.448\n",
       "L2.gdp_per_capita           -0.000060         0.000189           -0.316           0.752\n",
       "L2.lifeexpectancy            0.636146         0.178101            3.572           0.000\n",
       "L2.expenses                 -1.545728         0.325668           -4.746           0.000\n",
       "L3.sucid_in_hundredk         0.083493         0.267297            0.312           0.755\n",
       "L3.gdp_per_capita           -0.000125         0.000129           -0.969           0.333\n",
       "L3.lifeexpectancy            0.433229         0.132436            3.271           0.001\n",
       "L3.expenses                 -1.226167         0.317394           -3.863           0.000\n",
       "=======================================================================================\n",
       "\n",
       "Correlation matrix of residuals\n",
       "                     sucid_in_hundredk  gdp_per_capita  lifeexpectancy  expenses\n",
       "sucid_in_hundredk             1.000000        0.336890       -0.211460 -0.196969\n",
       "gdp_per_capita                0.336890        1.000000       -0.605055 -0.192488\n",
       "lifeexpectancy               -0.211460       -0.605055        1.000000  0.468380\n",
       "expenses                     -0.196969       -0.192488        0.468380  1.000000\n",
       "\n"
      ]
     },
     "execution_count": 64,
     "metadata": {},
     "output_type": "execute_result"
    }
   ],
   "source": [
    "model.select_order(3)\n",
    "model_fitted = model.fit(3)\n",
    "model_fitted.summary()"
   ]
  },
  {
   "cell_type": "markdown",
   "metadata": {},
   "source": [
    "### Check for Serial Correlation of Residuals (Errors) using Durbin Watson Statistic"
   ]
  },
  {
   "cell_type": "code",
   "execution_count": 71,
   "metadata": {},
   "outputs": [],
   "source": [
    "def adjust(val, length= 6): return str(val).ljust(length)"
   ]
  },
  {
   "cell_type": "code",
   "execution_count": 72,
   "metadata": {},
   "outputs": [
    {
     "name": "stdout",
     "output_type": "stream",
     "text": [
      "sucid_in_hundredk : 2.83\n",
      "gdp_per_capita : 2.08\n",
      "lifeexpectancy : 1.83\n",
      "expenses : 2.04\n"
     ]
    }
   ],
   "source": [
    "from statsmodels.stats.stattools import durbin_watson\n",
    "out = durbin_watson(model_fitted.resid)\n",
    "\n",
    "for col, val in zip(df.columns, out):\n",
    "    print(adjust(col), ':', round(val, 2))"
   ]
  },
  {
   "cell_type": "markdown",
   "metadata": {},
   "source": [
    "### The serial correlation seems quite alright. Let’s proceed with the forecast."
   ]
  },
  {
   "cell_type": "code",
   "execution_count": 73,
   "metadata": {},
   "outputs": [
    {
     "name": "stdout",
     "output_type": "stream",
     "text": [
      "3\n"
     ]
    },
    {
     "data": {
      "text/plain": [
       "array([[-3.18950000e+02, -2.07902400e+06,  9.48014341e+02,\n",
       "        -5.30565712e+02],\n",
       "       [ 2.86640000e+02,  5.24058000e+06, -2.67155132e+01,\n",
       "        -1.04790477e+03],\n",
       "       [-2.31050000e+02, -1.34067600e+06,  7.48846844e+01,\n",
       "         5.54290901e+02]])"
      ]
     },
     "execution_count": 73,
     "metadata": {},
     "output_type": "execute_result"
    }
   ],
   "source": [
    "# Get the lag order\n",
    "lag_order = model_fitted.k_ar\n",
    "print(lag_order)  #> 4\n",
    "\n",
    "# Input data for forecasting\n",
    "forecast_input = df_differenced.values[-lag_order:]\n",
    "forecast_input"
   ]
  },
  {
   "cell_type": "markdown",
   "metadata": {},
   "source": [
    "### Forecast VAR model using statsmodels"
   ]
  },
  {
   "cell_type": "code",
   "execution_count": 74,
   "metadata": {},
   "outputs": [
    {
     "data": {
      "text/html": [
       "<div>\n",
       "<style scoped>\n",
       "    .dataframe tbody tr th:only-of-type {\n",
       "        vertical-align: middle;\n",
       "    }\n",
       "\n",
       "    .dataframe tbody tr th {\n",
       "        vertical-align: top;\n",
       "    }\n",
       "\n",
       "    .dataframe thead th {\n",
       "        text-align: right;\n",
       "    }\n",
       "</style>\n",
       "<table border=\"1\" class=\"dataframe\">\n",
       "  <thead>\n",
       "    <tr style=\"text-align: right;\">\n",
       "      <th></th>\n",
       "      <th>sucid_in_hundredk_2d</th>\n",
       "      <th>gdp_per_capita_2d</th>\n",
       "      <th>lifeexpectancy_2d</th>\n",
       "      <th>expenses_2d</th>\n",
       "    </tr>\n",
       "    <tr>\n",
       "      <th>year</th>\n",
       "      <th></th>\n",
       "      <th></th>\n",
       "      <th></th>\n",
       "      <th></th>\n",
       "    </tr>\n",
       "  </thead>\n",
       "  <tbody>\n",
       "    <tr>\n",
       "      <th>2012-01-01</th>\n",
       "      <td>981.159623</td>\n",
       "      <td>-6.080763e+05</td>\n",
       "      <td>2726.675566</td>\n",
       "      <td>2412.809707</td>\n",
       "    </tr>\n",
       "    <tr>\n",
       "      <th>2013-01-01</th>\n",
       "      <td>-1030.512283</td>\n",
       "      <td>-2.787156e+06</td>\n",
       "      <td>-2617.438302</td>\n",
       "      <td>-503.332244</td>\n",
       "    </tr>\n",
       "    <tr>\n",
       "      <th>2014-01-01</th>\n",
       "      <td>168.440365</td>\n",
       "      <td>1.793409e+06</td>\n",
       "      <td>-3375.966005</td>\n",
       "      <td>-2189.804524</td>\n",
       "    </tr>\n",
       "    <tr>\n",
       "      <th>2015-01-01</th>\n",
       "      <td>-557.141017</td>\n",
       "      <td>-9.526055e+04</td>\n",
       "      <td>813.117476</td>\n",
       "      <td>-1208.963093</td>\n",
       "    </tr>\n",
       "    <tr>\n",
       "      <th>2016-01-01</th>\n",
       "      <td>1053.216125</td>\n",
       "      <td>2.989734e+06</td>\n",
       "      <td>5834.288565</td>\n",
       "      <td>1298.943694</td>\n",
       "    </tr>\n",
       "  </tbody>\n",
       "</table>\n",
       "</div>"
      ],
      "text/plain": [
       "            sucid_in_hundredk_2d  gdp_per_capita_2d  lifeexpectancy_2d  \\\n",
       "year                                                                     \n",
       "2012-01-01            981.159623      -6.080763e+05        2726.675566   \n",
       "2013-01-01          -1030.512283      -2.787156e+06       -2617.438302   \n",
       "2014-01-01            168.440365       1.793409e+06       -3375.966005   \n",
       "2015-01-01           -557.141017      -9.526055e+04         813.117476   \n",
       "2016-01-01           1053.216125       2.989734e+06        5834.288565   \n",
       "\n",
       "            expenses_2d  \n",
       "year                     \n",
       "2012-01-01  2412.809707  \n",
       "2013-01-01  -503.332244  \n",
       "2014-01-01 -2189.804524  \n",
       "2015-01-01 -1208.963093  \n",
       "2016-01-01  1298.943694  "
      ]
     },
     "execution_count": 74,
     "metadata": {},
     "output_type": "execute_result"
    }
   ],
   "source": [
    "# Forecast\n",
    "fc = model_fitted.forecast(y=forecast_input, steps=nobs)\n",
    "df_forecast = pd.DataFrame(fc, index=df.index[-nobs:], columns=df.columns + '_2d')\n",
    "df_forecast"
   ]
  },
  {
   "cell_type": "code",
   "execution_count": 79,
   "metadata": {},
   "outputs": [],
   "source": [
    "def invert_transformation(df_train, df_forecast, second_diff=False):\n",
    "    \"\"\"Revert back the differencing to get the forecast to original scale.\"\"\"\n",
    "    df_fc = df_forecast.copy()\n",
    "    columns = df_train.columns\n",
    "    for col in columns:        \n",
    "        # Roll back 2nd Diff\n",
    "        if second_diff:\n",
    "            df_fc[str(col)+'_1d'] = (df_train[col].iloc[-1]-df_train[col].iloc[-2]) + df_fc[str(col)+'_2d'].cumsum()\n",
    "        # Roll back 1st Diff\n",
    "        df_fc[str(col)+'_forecast'] = df_train[col].iloc[-1] + df_fc[str(col)+'_1d'].cumsum()\n",
    "    return df_fc"
   ]
  },
  {
   "cell_type": "markdown",
   "metadata": {},
   "source": [
    "### Invert the transformation to get the real forecast"
   ]
  },
  {
   "cell_type": "code",
   "execution_count": 82,
   "metadata": {},
   "outputs": [
    {
     "data": {
      "text/html": [
       "<div>\n",
       "<style scoped>\n",
       "    .dataframe tbody tr th:only-of-type {\n",
       "        vertical-align: middle;\n",
       "    }\n",
       "\n",
       "    .dataframe tbody tr th {\n",
       "        vertical-align: top;\n",
       "    }\n",
       "\n",
       "    .dataframe thead th {\n",
       "        text-align: right;\n",
       "    }\n",
       "</style>\n",
       "<table border=\"1\" class=\"dataframe\">\n",
       "  <thead>\n",
       "    <tr style=\"text-align: right;\">\n",
       "      <th></th>\n",
       "      <th>sucid_in_hundredk_2d</th>\n",
       "      <th>gdp_per_capita_2d</th>\n",
       "      <th>lifeexpectancy_2d</th>\n",
       "      <th>expenses_2d</th>\n",
       "    </tr>\n",
       "    <tr>\n",
       "      <th>year</th>\n",
       "      <th></th>\n",
       "      <th></th>\n",
       "      <th></th>\n",
       "      <th></th>\n",
       "    </tr>\n",
       "  </thead>\n",
       "  <tbody>\n",
       "    <tr>\n",
       "      <th>2012-01-01</th>\n",
       "      <td>981.159623</td>\n",
       "      <td>-6.080763e+05</td>\n",
       "      <td>2726.675566</td>\n",
       "      <td>2412.809707</td>\n",
       "    </tr>\n",
       "    <tr>\n",
       "      <th>2013-01-01</th>\n",
       "      <td>-1030.512283</td>\n",
       "      <td>-2.787156e+06</td>\n",
       "      <td>-2617.438302</td>\n",
       "      <td>-503.332244</td>\n",
       "    </tr>\n",
       "    <tr>\n",
       "      <th>2014-01-01</th>\n",
       "      <td>168.440365</td>\n",
       "      <td>1.793409e+06</td>\n",
       "      <td>-3375.966005</td>\n",
       "      <td>-2189.804524</td>\n",
       "    </tr>\n",
       "    <tr>\n",
       "      <th>2015-01-01</th>\n",
       "      <td>-557.141017</td>\n",
       "      <td>-9.526055e+04</td>\n",
       "      <td>813.117476</td>\n",
       "      <td>-1208.963093</td>\n",
       "    </tr>\n",
       "    <tr>\n",
       "      <th>2016-01-01</th>\n",
       "      <td>1053.216125</td>\n",
       "      <td>2.989734e+06</td>\n",
       "      <td>5834.288565</td>\n",
       "      <td>1298.943694</td>\n",
       "    </tr>\n",
       "  </tbody>\n",
       "</table>\n",
       "</div>"
      ],
      "text/plain": [
       "            sucid_in_hundredk_2d  gdp_per_capita_2d  lifeexpectancy_2d  \\\n",
       "year                                                                     \n",
       "2012-01-01            981.159623      -6.080763e+05        2726.675566   \n",
       "2013-01-01          -1030.512283      -2.787156e+06       -2617.438302   \n",
       "2014-01-01            168.440365       1.793409e+06       -3375.966005   \n",
       "2015-01-01           -557.141017      -9.526055e+04         813.117476   \n",
       "2016-01-01           1053.216125       2.989734e+06        5834.288565   \n",
       "\n",
       "            expenses_2d  \n",
       "year                     \n",
       "2012-01-01  2412.809707  \n",
       "2013-01-01  -503.332244  \n",
       "2014-01-01 -2189.804524  \n",
       "2015-01-01 -1208.963093  \n",
       "2016-01-01  1298.943694  "
      ]
     },
     "execution_count": 82,
     "metadata": {},
     "output_type": "execute_result"
    }
   ],
   "source": [
    "df_results = invert_transformation(df_train, df_forecast, second_diff=True)        \n",
    "df_results.loc[:, ['sucid_in_hundredk_2d', 'gdp_per_capita_2d', 'lifeexpectancy_2d','expenses_2d']]"
   ]
  },
  {
   "cell_type": "markdown",
   "metadata": {},
   "source": [
    "### Plot of Forecast vs Actuals"
   ]
  },
  {
   "cell_type": "code",
   "execution_count": 85,
   "metadata": {},
   "outputs": [
    {
     "data": {
      "image/png": "[encoded data removed]",
      "text/plain": [
       "<Figure size 1500x1500 with 4 Axes>"
      ]
     },
     "metadata": {
      "needs_background": "light"
     },
     "output_type": "display_data"
    }
   ],
   "source": [
    "fig, axes = plt.subplots(nrows=int(len(df.columns)/2), ncols=2, dpi=150, figsize=(10,10))\n",
    "for i, (col,ax) in enumerate(zip(df.columns, axes.flatten())):\n",
    "    df_results[col+'_forecast'].plot(legend=True, ax=ax).autoscale(axis='x',tight=True)\n",
    "    df_test[col][-nobs:].plot(legend=True, ax=ax);\n",
    "    ax.set_title(col + \": Forecast vs Actuals\")\n",
    "    ax.xaxis.set_ticks_position('none')\n",
    "    ax.yaxis.set_ticks_position('none')\n",
    "    ax.spines[\"top\"].set_alpha(0)\n",
    "    ax.tick_params(labelsize=6)\n",
    "\n",
    "plt.tight_layout();"
   ]
  },
  {
   "cell_type": "markdown",
   "metadata": {},
   "source": [
    "### Evaluate the Forecasts"
   ]
  },
  {
   "cell_type": "code",
   "execution_count": 88,
   "metadata": {},
   "outputs": [
    {
     "name": "stdout",
     "output_type": "stream",
     "text": [
      "Forecast Accuracy of: rgnp\n",
      "mape   :  1.1568\n",
      "me     :  3942726.6901\n",
      "mae    :  4233165.1737\n",
      "mpe    :  1.1383\n",
      "rmse   :  6901027.982\n",
      "corr   :  -0.652\n",
      "minmax :  0.2495\n",
      "\n",
      "Forecast Accuracy of: pgnp\n",
      "mape   :  0.0794\n",
      "me     :  2773.6069\n",
      "mae    :  2773.6069\n",
      "mpe    :  0.0794\n",
      "rmse   :  3056.6034\n",
      "corr   :  0.7826\n",
      "minmax :  0.0725\n",
      "\n",
      "Forecast Accuracy of: ulc\n",
      "mape   :  0.7112\n",
      "me     :  1458.5054\n",
      "mae    :  1458.5054\n",
      "mpe    :  0.7112\n",
      "rmse   :  2021.8781\n",
      "corr   :  0.4894\n",
      "minmax :  0.2531\n",
      "\n",
      "Forecast Accuracy of: gdfco\n",
      "mape   :  0.298\n",
      "me     :  3733.7046\n",
      "mae    :  3733.7046\n",
      "mpe    :  0.298\n",
      "rmse   :  3909.5986\n",
      "corr   :  0.4931\n",
      "minmax :  0.2244\n"
     ]
    },
    {
     "name": "stderr",
     "output_type": "stream",
     "text": [
      "<ipython-input-88-61d43e69902a>:10: FutureWarning: Support for multi-dimensional indexing (e.g. `obj[:, None]`) is deprecated and will be removed in a future version.  Convert to a numpy array before indexing instead.\n",
      "  actual[:,None]]), axis=1)\n",
      "<ipython-input-88-61d43e69902a>:12: FutureWarning: Support for multi-dimensional indexing (e.g. `obj[:, None]`) is deprecated and will be removed in a future version.  Convert to a numpy array before indexing instead.\n",
      "  actual[:,None]]), axis=1)\n"
     ]
    }
   ],
   "source": [
    "from statsmodels.tsa.stattools import acf\n",
    "def forecast_accuracy(forecast, actual):\n",
    "    mape = np.mean(np.abs(forecast - actual)/np.abs(actual))  # MAPE\n",
    "    me = np.mean(forecast - actual)             # ME\n",
    "    mae = np.mean(np.abs(forecast - actual))    # MAE\n",
    "    mpe = np.mean((forecast - actual)/actual)   # MPE\n",
    "    rmse = np.mean((forecast - actual)**2)**.5  # RMSE\n",
    "    corr = np.corrcoef(forecast, actual)[0,1]   # corr\n",
    "    mins = np.amin(np.hstack([forecast[:,None], \n",
    "                              actual[:,None]]), axis=1)\n",
    "    maxs = np.amax(np.hstack([forecast[:,None], \n",
    "                              actual[:,None]]), axis=1)\n",
    "    minmax = 1 - np.mean(mins/maxs)             # minmax\n",
    "    return({'mape':mape, 'me':me, 'mae': mae, \n",
    "            'mpe': mpe, 'rmse':rmse, 'corr':corr, 'minmax':minmax})\n",
    "\n",
    "print('Forecast Accuracy of: rgnp')\n",
    "accuracy_prod = forecast_accuracy(df_results['gdp_per_capita_forecast'].values, df_test['gdp_per_capita'])\n",
    "for k, v in accuracy_prod.items():\n",
    "    print(adjust(k), ': ', round(v,4))\n",
    "\n",
    "print('\\nForecast Accuracy of: pgnp')\n",
    "accuracy_prod = forecast_accuracy(df_results['lifeexpectancy_forecast'].values, df_test['lifeexpectancy'])\n",
    "for k, v in accuracy_prod.items():\n",
    "    print(adjust(k), ': ', round(v,4))\n",
    "\n",
    "print('\\nForecast Accuracy of: ulc')\n",
    "accuracy_prod = forecast_accuracy(df_results['sucid_in_hundredk_forecast'].values, df_test['sucid_in_hundredk'])\n",
    "for k, v in accuracy_prod.items():\n",
    "    print(adjust(k), ': ', round(v,4))\n",
    "\n",
    "print('\\nForecast Accuracy of: gdfco')\n",
    "accuracy_prod = forecast_accuracy(df_results['expenses_forecast'].values, df_test['expenses'])\n",
    "for k, v in accuracy_prod.items():\n",
    "    print(adjust(k), ': ', round(v,4))"
   ]
  }
 ],
 "metadata": {
  "interpreter": {
   "hash": "ad2bdc8ecc057115af97d19610ffacc2b4e99fae6737bb82f5d7fb13d2f2c186"
  },
  "kernelspec": {
   "display_name": "Python 3.8.8 ('base')",
   "language": "python",
   "name": "python3"
  },
  "language_info": {
   "codemirror_mode": {
    "name": "ipython",
    "version": 3
   },
   "file_extension": ".py",
   "mimetype": "text/x-python",
   "name": "python",
   "nbconvert_exporter": "python",
   "pygments_lexer": "ipython3",
   "version": "3.8.8"
  },
  "orig_nbformat": 4
 },
 "nbformat": 4,
 "nbformat_minor": 2
}
