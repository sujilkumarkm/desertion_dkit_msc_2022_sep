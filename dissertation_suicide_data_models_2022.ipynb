{
 "cells": [
  {
   "cell_type": "code",
   "execution_count": 110,
   "id": "728f43b4",
   "metadata": {},
   "outputs": [],
   "source": [
    "import pandas as pd\n",
    "import matplotlib.pyplot as plt"
   ]
  },
  {
   "cell_type": "code",
   "execution_count": 111,
   "id": "a185349c",
   "metadata": {
    "scrolled": false
   },
   "outputs": [
    {
     "data": {
      "text/html": [
       "<div>\n",
       "<style scoped>\n",
       "    .dataframe tbody tr th:only-of-type {\n",
       "        vertical-align: middle;\n",
       "    }\n",
       "\n",
       "    .dataframe tbody tr th {\n",
       "        vertical-align: top;\n",
       "    }\n",
       "\n",
       "    .dataframe thead th {\n",
       "        text-align: right;\n",
       "    }\n",
       "</style>\n",
       "<table border=\"1\" class=\"dataframe\">\n",
       "  <thead>\n",
       "    <tr style=\"text-align: right;\">\n",
       "      <th></th>\n",
       "      <th>country</th>\n",
       "      <th>sex</th>\n",
       "      <th>age</th>\n",
       "      <th>suicides</th>\n",
       "      <th>population</th>\n",
       "      <th>sucid_in_hundredk</th>\n",
       "      <th>country-year</th>\n",
       "      <th>yearly_hdi</th>\n",
       "      <th>yearly_gdp</th>\n",
       "      <th>gdp_per_capita</th>\n",
       "      <th>...</th>\n",
       "      <th>legalrights</th>\n",
       "      <th>laborforcetotal</th>\n",
       "      <th>lifeexpectancy</th>\n",
       "      <th>mobilesubscriptionsp100</th>\n",
       "      <th>refugees</th>\n",
       "      <th>selfemployed</th>\n",
       "      <th>electricityacess</th>\n",
       "      <th>secondarycompletion</th>\n",
       "      <th>continent</th>\n",
       "      <th>country_code</th>\n",
       "    </tr>\n",
       "    <tr>\n",
       "      <th>year</th>\n",
       "      <th></th>\n",
       "      <th></th>\n",
       "      <th></th>\n",
       "      <th></th>\n",
       "      <th></th>\n",
       "      <th></th>\n",
       "      <th></th>\n",
       "      <th></th>\n",
       "      <th></th>\n",
       "      <th></th>\n",
       "      <th></th>\n",
       "      <th></th>\n",
       "      <th></th>\n",
       "      <th></th>\n",
       "      <th></th>\n",
       "      <th></th>\n",
       "      <th></th>\n",
       "      <th></th>\n",
       "      <th></th>\n",
       "      <th></th>\n",
       "      <th></th>\n",
       "    </tr>\n",
       "  </thead>\n",
       "  <tbody>\n",
       "    <tr>\n",
       "      <th>1985-01-01</th>\n",
       "      <td>Argentina</td>\n",
       "      <td>male</td>\n",
       "      <td>75+ years</td>\n",
       "      <td>202</td>\n",
       "      <td>363000</td>\n",
       "      <td>55.65</td>\n",
       "      <td>Argentina1985</td>\n",
       "      <td>0.694</td>\n",
       "      <td>8.841667e+10</td>\n",
       "      <td>3264</td>\n",
       "      <td>...</td>\n",
       "      <td>0.0</td>\n",
       "      <td>0</td>\n",
       "      <td>0.0</td>\n",
       "      <td>0.0</td>\n",
       "      <td>0.0</td>\n",
       "      <td>0.0</td>\n",
       "      <td>0.0</td>\n",
       "      <td>0.0</td>\n",
       "      <td>Americas</td>\n",
       "      <td>ARG</td>\n",
       "    </tr>\n",
       "  </tbody>\n",
       "</table>\n",
       "<p>1 rows × 27 columns</p>\n",
       "</div>"
      ],
      "text/plain": [
       "              country   sex        age  suicides  population  \\\n",
       "year                                                           \n",
       "1985-01-01  Argentina  male  75+ years       202      363000   \n",
       "\n",
       "            sucid_in_hundredk   country-year  yearly_hdi    yearly_gdp  \\\n",
       "year                                                                     \n",
       "1985-01-01              55.65  Argentina1985       0.694  8.841667e+10   \n",
       "\n",
       "            gdp_per_capita  ... legalrights  laborforcetotal  lifeexpectancy  \\\n",
       "year                        ...                                                \n",
       "1985-01-01            3264  ...         0.0                0             0.0   \n",
       "\n",
       "            mobilesubscriptionsp100  refugees  selfemployed  electricityacess  \\\n",
       "year                                                                            \n",
       "1985-01-01                      0.0       0.0           0.0               0.0   \n",
       "\n",
       "            secondarycompletion  continent  country_code  \n",
       "year                                                      \n",
       "1985-01-01                  0.0   Americas           ARG  \n",
       "\n",
       "[1 rows x 27 columns]"
      ]
     },
     "execution_count": 111,
     "metadata": {},
     "output_type": "execute_result"
    }
   ],
   "source": [
    "url = 'E:\\\\Dessertation\\\\desertion_dkit_msc_2022_sep\\\\output.csv'\n",
    "# d parser df:=lambda x: pd.datetime.strptime(x,'gy-8m-gd gI-Sp\")\n",
    "df = pd.read_csv(url, index_col = 'year', parse_dates=True, infer_datetime_format=True)\n",
    "# df['year'] = pd.to_datetime(df['year'], format='%Y%', errors='ignore')\n",
    "df.head(1)"
   ]
  },
  {
   "cell_type": "code",
   "execution_count": 112,
   "id": "4f398508",
   "metadata": {},
   "outputs": [
    {
     "name": "stdout",
     "output_type": "stream",
     "text": [
      "<class 'pandas.core.frame.DataFrame'>\n",
      "DatetimeIndex: 13276 entries, 1985-01-01 to 2015-01-01\n",
      "Data columns (total 27 columns):\n",
      " #   Column                   Non-Null Count  Dtype  \n",
      "---  ------                   --------------  -----  \n",
      " 0   country                  13276 non-null  object \n",
      " 1   sex                      13276 non-null  object \n",
      " 2   age                      13276 non-null  object \n",
      " 3   suicides                 13276 non-null  int64  \n",
      " 4   population               13276 non-null  int64  \n",
      " 5   sucid_in_hundredk        13276 non-null  float64\n",
      " 6   country-year             13276 non-null  object \n",
      " 7   yearly_hdi               4152 non-null   float64\n",
      " 8   yearly_gdp               13276 non-null  float64\n",
      " 9   gdp_per_capita           13276 non-null  int64  \n",
      " 10  generation               13276 non-null  object \n",
      " 11  suicide%                 13276 non-null  float64\n",
      " 12  internetusers            13192 non-null  float64\n",
      " 13  expenses                 12124 non-null  float64\n",
      " 14  employeecompensation     12076 non-null  float64\n",
      " 15  unemployment             13276 non-null  float64\n",
      " 16  physiciansp1000          11212 non-null  float64\n",
      " 17  legalrights              4948 non-null   float64\n",
      " 18  laborforcetotal          13276 non-null  int64  \n",
      " 19  lifeexpectancy           13276 non-null  float64\n",
      " 20  mobilesubscriptionsp100  13276 non-null  float64\n",
      " 21  refugees                 13144 non-null  float64\n",
      " 22  selfemployed             13276 non-null  float64\n",
      " 23  electricityacess         12964 non-null  float64\n",
      " 24  secondarycompletion      8320 non-null   float64\n",
      " 25  continent                13276 non-null  object \n",
      " 26  country_code             13276 non-null  object \n",
      "dtypes: float64(16), int64(4), object(7)\n",
      "memory usage: 2.8+ MB\n"
     ]
    }
   ],
   "source": [
    "df.info()"
   ]
  },
  {
   "cell_type": "code",
   "execution_count": 113,
   "id": "e73ea815",
   "metadata": {},
   "outputs": [
    {
     "name": "stdout",
     "output_type": "stream",
     "text": [
      "<class 'pandas.core.frame.DataFrame'>\n",
      "DatetimeIndex: 13276 entries, 1985-01-01 to 2015-01-01\n",
      "Data columns (total 27 columns):\n",
      " #   Column                   Non-Null Count  Dtype  \n",
      "---  ------                   --------------  -----  \n",
      " 0   country                  13276 non-null  object \n",
      " 1   sex                      13276 non-null  object \n",
      " 2   age                      13276 non-null  object \n",
      " 3   suicides                 13276 non-null  int64  \n",
      " 4   population               13276 non-null  int64  \n",
      " 5   sucid_in_hundredk        13276 non-null  float64\n",
      " 6   country-year             13276 non-null  object \n",
      " 7   yearly_hdi               4152 non-null   float64\n",
      " 8   yearly_gdp               13276 non-null  float64\n",
      " 9   gdp_per_capita           13276 non-null  int64  \n",
      " 10  generation               13276 non-null  object \n",
      " 11  suicide%                 13276 non-null  float64\n",
      " 12  internetusers            13192 non-null  float64\n",
      " 13  expenses                 12124 non-null  float64\n",
      " 14  employeecompensation     12076 non-null  float64\n",
      " 15  unemployment             13276 non-null  float64\n",
      " 16  physiciansp1000          11212 non-null  float64\n",
      " 17  legalrights              4948 non-null   float64\n",
      " 18  laborforcetotal          13276 non-null  int64  \n",
      " 19  lifeexpectancy           13276 non-null  float64\n",
      " 20  mobilesubscriptionsp100  13276 non-null  float64\n",
      " 21  refugees                 13144 non-null  float64\n",
      " 22  selfemployed             13276 non-null  float64\n",
      " 23  electricityacess         12964 non-null  float64\n",
      " 24  secondarycompletion      8320 non-null   float64\n",
      " 25  continent                13276 non-null  object \n",
      " 26  country_code             13276 non-null  object \n",
      "dtypes: float64(16), int64(4), object(7)\n",
      "memory usage: 2.8+ MB\n"
     ]
    }
   ],
   "source": [
    "df.info()"
   ]
  },
  {
   "cell_type": "code",
   "execution_count": 114,
   "id": "d1c18ac3",
   "metadata": {
    "scrolled": true
   },
   "outputs": [
    {
     "data": {
      "text/plain": [
       "array(['Argentina', 'Armenia', 'Australia', 'Austria', 'Belgium',\n",
       "       'Brazil', 'Bulgaria', 'Canada', 'Chile', 'Colombia', 'Croatia',\n",
       "       'Cuba', 'Czech Republic', 'Denmark', 'Finland', 'France',\n",
       "       'Germany', 'Greece', 'Hungary', 'Iceland', 'Ireland', 'Israel',\n",
       "       'Italy', 'Japan', 'Mexico', 'Netherlands', 'New Zealand', 'Norway',\n",
       "       'Poland', 'Portugal', 'Romania', 'Russian Federation',\n",
       "       'South Africa', 'Spain', 'Sweden', 'Switzerland', 'Thailand',\n",
       "       'Turkmenistan', 'Ukraine'], dtype=object)"
      ]
     },
     "execution_count": 114,
     "metadata": {},
     "output_type": "execute_result"
    }
   ],
   "source": [
    "df['country'].unique()"
   ]
  },
  {
   "cell_type": "code",
   "execution_count": 115,
   "id": "c68f73ba",
   "metadata": {
    "scrolled": true
   },
   "outputs": [
    {
     "data": {
      "text/html": [
       "<div>\n",
       "<style scoped>\n",
       "    .dataframe tbody tr th:only-of-type {\n",
       "        vertical-align: middle;\n",
       "    }\n",
       "\n",
       "    .dataframe tbody tr th {\n",
       "        vertical-align: top;\n",
       "    }\n",
       "\n",
       "    .dataframe thead th {\n",
       "        text-align: right;\n",
       "    }\n",
       "</style>\n",
       "<table border=\"1\" class=\"dataframe\">\n",
       "  <thead>\n",
       "    <tr style=\"text-align: right;\">\n",
       "      <th></th>\n",
       "      <th>country</th>\n",
       "      <th>sex</th>\n",
       "      <th>age</th>\n",
       "      <th>suicides</th>\n",
       "      <th>population</th>\n",
       "      <th>sucid_in_hundredk</th>\n",
       "      <th>country-year</th>\n",
       "      <th>yearly_hdi</th>\n",
       "      <th>yearly_gdp</th>\n",
       "      <th>gdp_per_capita</th>\n",
       "      <th>...</th>\n",
       "      <th>legalrights</th>\n",
       "      <th>laborforcetotal</th>\n",
       "      <th>lifeexpectancy</th>\n",
       "      <th>mobilesubscriptionsp100</th>\n",
       "      <th>refugees</th>\n",
       "      <th>selfemployed</th>\n",
       "      <th>electricityacess</th>\n",
       "      <th>secondarycompletion</th>\n",
       "      <th>continent</th>\n",
       "      <th>country_code</th>\n",
       "    </tr>\n",
       "    <tr>\n",
       "      <th>year</th>\n",
       "      <th></th>\n",
       "      <th></th>\n",
       "      <th></th>\n",
       "      <th></th>\n",
       "      <th></th>\n",
       "      <th></th>\n",
       "      <th></th>\n",
       "      <th></th>\n",
       "      <th></th>\n",
       "      <th></th>\n",
       "      <th></th>\n",
       "      <th></th>\n",
       "      <th></th>\n",
       "      <th></th>\n",
       "      <th></th>\n",
       "      <th></th>\n",
       "      <th></th>\n",
       "      <th></th>\n",
       "      <th></th>\n",
       "      <th></th>\n",
       "      <th></th>\n",
       "    </tr>\n",
       "  </thead>\n",
       "  <tbody>\n",
       "    <tr>\n",
       "      <th>1989-01-01</th>\n",
       "      <td>Russian Federation</td>\n",
       "      <td>male</td>\n",
       "      <td>75+ years</td>\n",
       "      <td>1393</td>\n",
       "      <td>1349100</td>\n",
       "      <td>103.25</td>\n",
       "      <td>Russian Federation1989</td>\n",
       "      <td>NaN</td>\n",
       "      <td>5.065000e+11</td>\n",
       "      <td>3740</td>\n",
       "      <td>...</td>\n",
       "      <td>0.0</td>\n",
       "      <td>0</td>\n",
       "      <td>0.0</td>\n",
       "      <td>0.0</td>\n",
       "      <td>0.0</td>\n",
       "      <td>0.0</td>\n",
       "      <td>0.0</td>\n",
       "      <td>0.0</td>\n",
       "      <td>Europe</td>\n",
       "      <td>RUS</td>\n",
       "    </tr>\n",
       "    <tr>\n",
       "      <th>1989-01-01</th>\n",
       "      <td>Russian Federation</td>\n",
       "      <td>male</td>\n",
       "      <td>35-54 years</td>\n",
       "      <td>12030</td>\n",
       "      <td>18058500</td>\n",
       "      <td>66.62</td>\n",
       "      <td>Russian Federation1989</td>\n",
       "      <td>NaN</td>\n",
       "      <td>5.065000e+11</td>\n",
       "      <td>3740</td>\n",
       "      <td>...</td>\n",
       "      <td>0.0</td>\n",
       "      <td>0</td>\n",
       "      <td>0.0</td>\n",
       "      <td>0.0</td>\n",
       "      <td>0.0</td>\n",
       "      <td>0.0</td>\n",
       "      <td>0.0</td>\n",
       "      <td>0.0</td>\n",
       "      <td>Europe</td>\n",
       "      <td>RUS</td>\n",
       "    </tr>\n",
       "    <tr>\n",
       "      <th>1989-01-01</th>\n",
       "      <td>Russian Federation</td>\n",
       "      <td>male</td>\n",
       "      <td>55-74 years</td>\n",
       "      <td>6250</td>\n",
       "      <td>9383700</td>\n",
       "      <td>66.60</td>\n",
       "      <td>Russian Federation1989</td>\n",
       "      <td>NaN</td>\n",
       "      <td>5.065000e+11</td>\n",
       "      <td>3740</td>\n",
       "      <td>...</td>\n",
       "      <td>0.0</td>\n",
       "      <td>0</td>\n",
       "      <td>0.0</td>\n",
       "      <td>0.0</td>\n",
       "      <td>0.0</td>\n",
       "      <td>0.0</td>\n",
       "      <td>0.0</td>\n",
       "      <td>0.0</td>\n",
       "      <td>Europe</td>\n",
       "      <td>RUS</td>\n",
       "    </tr>\n",
       "    <tr>\n",
       "      <th>1989-01-01</th>\n",
       "      <td>Russian Federation</td>\n",
       "      <td>male</td>\n",
       "      <td>25-34 years</td>\n",
       "      <td>6856</td>\n",
       "      <td>12748800</td>\n",
       "      <td>53.78</td>\n",
       "      <td>Russian Federation1989</td>\n",
       "      <td>NaN</td>\n",
       "      <td>5.065000e+11</td>\n",
       "      <td>3740</td>\n",
       "      <td>...</td>\n",
       "      <td>0.0</td>\n",
       "      <td>0</td>\n",
       "      <td>0.0</td>\n",
       "      <td>0.0</td>\n",
       "      <td>0.0</td>\n",
       "      <td>0.0</td>\n",
       "      <td>0.0</td>\n",
       "      <td>0.0</td>\n",
       "      <td>Europe</td>\n",
       "      <td>RUS</td>\n",
       "    </tr>\n",
       "    <tr>\n",
       "      <th>1989-01-01</th>\n",
       "      <td>Russian Federation</td>\n",
       "      <td>female</td>\n",
       "      <td>75+ years</td>\n",
       "      <td>1677</td>\n",
       "      <td>4738100</td>\n",
       "      <td>35.39</td>\n",
       "      <td>Russian Federation1989</td>\n",
       "      <td>NaN</td>\n",
       "      <td>5.065000e+11</td>\n",
       "      <td>3740</td>\n",
       "      <td>...</td>\n",
       "      <td>0.0</td>\n",
       "      <td>0</td>\n",
       "      <td>0.0</td>\n",
       "      <td>0.0</td>\n",
       "      <td>0.0</td>\n",
       "      <td>0.0</td>\n",
       "      <td>0.0</td>\n",
       "      <td>0.0</td>\n",
       "      <td>Europe</td>\n",
       "      <td>RUS</td>\n",
       "    </tr>\n",
       "  </tbody>\n",
       "</table>\n",
       "<p>5 rows × 27 columns</p>\n",
       "</div>"
      ],
      "text/plain": [
       "                       country     sex          age  suicides  population  \\\n",
       "year                                                                        \n",
       "1989-01-01  Russian Federation    male    75+ years      1393     1349100   \n",
       "1989-01-01  Russian Federation    male  35-54 years     12030    18058500   \n",
       "1989-01-01  Russian Federation    male  55-74 years      6250     9383700   \n",
       "1989-01-01  Russian Federation    male  25-34 years      6856    12748800   \n",
       "1989-01-01  Russian Federation  female    75+ years      1677     4738100   \n",
       "\n",
       "            sucid_in_hundredk            country-year  yearly_hdi  \\\n",
       "year                                                                \n",
       "1989-01-01             103.25  Russian Federation1989         NaN   \n",
       "1989-01-01              66.62  Russian Federation1989         NaN   \n",
       "1989-01-01              66.60  Russian Federation1989         NaN   \n",
       "1989-01-01              53.78  Russian Federation1989         NaN   \n",
       "1989-01-01              35.39  Russian Federation1989         NaN   \n",
       "\n",
       "              yearly_gdp  gdp_per_capita  ... legalrights  laborforcetotal  \\\n",
       "year                                      ...                                \n",
       "1989-01-01  5.065000e+11            3740  ...         0.0                0   \n",
       "1989-01-01  5.065000e+11            3740  ...         0.0                0   \n",
       "1989-01-01  5.065000e+11            3740  ...         0.0                0   \n",
       "1989-01-01  5.065000e+11            3740  ...         0.0                0   \n",
       "1989-01-01  5.065000e+11            3740  ...         0.0                0   \n",
       "\n",
       "            lifeexpectancy  mobilesubscriptionsp100  refugees  selfemployed  \\\n",
       "year                                                                          \n",
       "1989-01-01             0.0                      0.0       0.0           0.0   \n",
       "1989-01-01             0.0                      0.0       0.0           0.0   \n",
       "1989-01-01             0.0                      0.0       0.0           0.0   \n",
       "1989-01-01             0.0                      0.0       0.0           0.0   \n",
       "1989-01-01             0.0                      0.0       0.0           0.0   \n",
       "\n",
       "            electricityacess  secondarycompletion  continent  country_code  \n",
       "year                                                                        \n",
       "1989-01-01               0.0                  0.0     Europe           RUS  \n",
       "1989-01-01               0.0                  0.0     Europe           RUS  \n",
       "1989-01-01               0.0                  0.0     Europe           RUS  \n",
       "1989-01-01               0.0                  0.0     Europe           RUS  \n",
       "1989-01-01               0.0                  0.0     Europe           RUS  \n",
       "\n",
       "[5 rows x 27 columns]"
      ]
     },
     "execution_count": 115,
     "metadata": {},
     "output_type": "execute_result"
    }
   ],
   "source": [
    "russia = df[(df.country == 'Russian Federation')]\n",
    "# russia = df\n",
    "russia.head()"
   ]
  },
  {
   "cell_type": "code",
   "execution_count": 116,
   "id": "e155e946",
   "metadata": {},
   "outputs": [
    {
     "name": "stdout",
     "output_type": "stream",
     "text": [
      "<class 'pandas.core.frame.DataFrame'>\n",
      "DatetimeIndex: 324 entries, 1989-01-01 to 2015-01-01\n",
      "Data columns (total 27 columns):\n",
      " #   Column                   Non-Null Count  Dtype  \n",
      "---  ------                   --------------  -----  \n",
      " 0   country                  324 non-null    object \n",
      " 1   sex                      324 non-null    object \n",
      " 2   age                      324 non-null    object \n",
      " 3   suicides                 324 non-null    int64  \n",
      " 4   population               324 non-null    int64  \n",
      " 5   sucid_in_hundredk        324 non-null    float64\n",
      " 6   country-year             324 non-null    object \n",
      " 7   yearly_hdi               0 non-null      float64\n",
      " 8   yearly_gdp               324 non-null    float64\n",
      " 9   gdp_per_capita           324 non-null    int64  \n",
      " 10  generation               324 non-null    object \n",
      " 11  suicide%                 324 non-null    float64\n",
      " 12  internetusers            324 non-null    float64\n",
      " 13  expenses                 300 non-null    float64\n",
      " 14  employeecompensation     276 non-null    float64\n",
      " 15  unemployment             324 non-null    float64\n",
      " 16  physiciansp1000          276 non-null    float64\n",
      " 17  legalrights              108 non-null    float64\n",
      " 18  laborforcetotal          324 non-null    int64  \n",
      " 19  lifeexpectancy           324 non-null    float64\n",
      " 20  mobilesubscriptionsp100  324 non-null    float64\n",
      " 21  refugees                 324 non-null    float64\n",
      " 22  selfemployed             324 non-null    float64\n",
      " 23  electricityacess         324 non-null    float64\n",
      " 24  secondarycompletion      252 non-null    float64\n",
      " 25  continent                324 non-null    object \n",
      " 26  country_code             324 non-null    object \n",
      "dtypes: float64(16), int64(4), object(7)\n",
      "memory usage: 70.9+ KB\n"
     ]
    }
   ],
   "source": [
    "russia.info()"
   ]
  },
  {
   "cell_type": "code",
   "execution_count": 117,
   "id": "08d9e0e7",
   "metadata": {
    "scrolled": true
   },
   "outputs": [
    {
     "data": {
      "text/html": [
       "<div>\n",
       "<style scoped>\n",
       "    .dataframe tbody tr th:only-of-type {\n",
       "        vertical-align: middle;\n",
       "    }\n",
       "\n",
       "    .dataframe tbody tr th {\n",
       "        vertical-align: top;\n",
       "    }\n",
       "\n",
       "    .dataframe thead th {\n",
       "        text-align: right;\n",
       "    }\n",
       "</style>\n",
       "<table border=\"1\" class=\"dataframe\">\n",
       "  <thead>\n",
       "    <tr style=\"text-align: right;\">\n",
       "      <th></th>\n",
       "      <th>sucid_in_hundredk</th>\n",
       "    </tr>\n",
       "    <tr>\n",
       "      <th>year</th>\n",
       "      <th></th>\n",
       "    </tr>\n",
       "  </thead>\n",
       "  <tbody>\n",
       "    <tr>\n",
       "      <th>1989-01-01</th>\n",
       "      <td>103.25</td>\n",
       "    </tr>\n",
       "    <tr>\n",
       "      <th>1989-01-01</th>\n",
       "      <td>66.62</td>\n",
       "    </tr>\n",
       "    <tr>\n",
       "      <th>1989-01-01</th>\n",
       "      <td>66.60</td>\n",
       "    </tr>\n",
       "    <tr>\n",
       "      <th>1989-01-01</th>\n",
       "      <td>53.78</td>\n",
       "    </tr>\n",
       "    <tr>\n",
       "      <th>1989-01-01</th>\n",
       "      <td>35.39</td>\n",
       "    </tr>\n",
       "  </tbody>\n",
       "</table>\n",
       "</div>"
      ],
      "text/plain": [
       "            sucid_in_hundredk\n",
       "year                         \n",
       "1989-01-01             103.25\n",
       "1989-01-01              66.62\n",
       "1989-01-01              66.60\n",
       "1989-01-01              53.78\n",
       "1989-01-01              35.39"
      ]
     },
     "execution_count": 117,
     "metadata": {},
     "output_type": "execute_result"
    }
   ],
   "source": [
    "columns = ['sucid_in_hundredk']\n",
    "russia = pd.DataFrame(russia, columns=columns)\n",
    "russia.head()"
   ]
  },
  {
   "cell_type": "code",
   "execution_count": 118,
   "id": "60db528e",
   "metadata": {},
   "outputs": [],
   "source": [
    "# russia['year'] = russia['country'].astype('category')"
   ]
  },
  {
   "cell_type": "code",
   "execution_count": 119,
   "id": "9c87b35e",
   "metadata": {},
   "outputs": [
    {
     "name": "stdout",
     "output_type": "stream",
     "text": [
      "<class 'pandas.core.frame.DataFrame'>\n",
      "DatetimeIndex: 324 entries, 1989-01-01 to 2015-01-01\n",
      "Data columns (total 1 columns):\n",
      " #   Column             Non-Null Count  Dtype  \n",
      "---  ------             --------------  -----  \n",
      " 0   sucid_in_hundredk  324 non-null    float64\n",
      "dtypes: float64(1)\n",
      "memory usage: 5.1 KB\n"
     ]
    }
   ],
   "source": [
    "russia.info()"
   ]
  },
  {
   "cell_type": "code",
   "execution_count": 120,
   "id": "3ac07c1b",
   "metadata": {
    "scrolled": true
   },
   "outputs": [
    {
     "data": {
      "image/png": "[encoded data removed]",
      "text/plain": [
       "<Figure size 432x288 with 1 Axes>"
      ]
     },
     "metadata": {
      "needs_background": "light"
     },
     "output_type": "display_data"
    }
   ],
   "source": [
    "fig, ax = plt.subplots()\n",
    "russia.plot(ax=ax)\n",
    "plt.show()\n"
   ]
  },
  {
   "cell_type": "code",
   "execution_count": 121,
   "id": "b8e27369",
   "metadata": {
    "scrolled": true
   },
   "outputs": [
    {
     "data": {
      "image/png": "[encoded data removed]",
      "text/plain": [
       "<Figure size 432x288 with 1 Axes>"
      ]
     },
     "metadata": {
      "needs_background": "light"
     },
     "output_type": "display_data"
    }
   ],
   "source": [
    "# Split the data into a train and test set\n",
    "russia_train = russia.loc[:'1995']\n",
    "russia_test = russia.loc[:'1996']\n",
    "\n",
    "# Create an axis\n",
    "fig, ax = plt.subplots()\n",
    "\n",
    "# Plot the train and test sets on the axis ax\n",
    "russia_train.plot(ax=ax)\n",
    "russia_test.plot(ax=ax)\n",
    "plt.show()"
   ]
  },
  {
   "cell_type": "markdown",
   "id": "29cb7941",
   "metadata": {},
   "source": [
    "### Dicky-Fuller test"
   ]
  },
  {
   "cell_type": "markdown",
   "id": "d273938f",
   "metadata": {},
   "source": [
    "Null Hypothesis H0 : The dataset is non-stationary \n",
    "Alternate Hypothesis : Dataset is stationary"
   ]
  },
  {
   "cell_type": "code",
   "execution_count": 122,
   "id": "f1391f19",
   "metadata": {
    "scrolled": true
   },
   "outputs": [
    {
     "name": "stdout",
     "output_type": "stream",
     "text": [
      "(0.5873733255386868, 0.9873002328906059, 12, 311, {'1%': -3.451552879535732, '5%': -2.8708786756338407, '10%': -2.571745666091128}, 1551.2338739662505)\n"
     ]
    }
   ],
   "source": [
    "# test for testing non-stationrary using dicky fuller test using stat models\n",
    "from statsmodels.tsa.stattools import adfuller\n",
    "results = adfuller(russia['sucid_in_hundredk'])\n",
    "print(results)"
   ]
  },
  {
   "cell_type": "markdown",
   "id": "1293b685",
   "metadata": {},
   "source": [
    "##### Interpretation\n",
    "\n",
    "Above result is a tuple.\n",
    "Zeroth Elemenet is test statisctic in this case 0.587, the more the number is negative more the data is stationary\n",
    "Next element is the P value, here it's 0.987 \n",
    "\n",
    "If P value is less than 0.05 we reject the null hypothesis.\n",
    "We assume that our time series is not non-stationary\n",
    "\n",
    "In this case we fail to reject the null hypothesis. hence we fail to reject the null hypothesis, ie; data is non-stationary\n",
    "\n",
    "\n",
    "last item in the tuple is a dictionary, this stores the critical values of the test, which creates different p values. in this case if you want the p value 0.05 or less, test statistics needed to be below -2.91. \n",
    "\n",
    "<p style=\"background-color:green;\">Now we need to make it stationary by using </p>"
   ]
  },
  {
   "cell_type": "markdown",
   "id": "d5d26e1d",
   "metadata": {},
   "source": [
    "#### Making Time Series by taking the difference."
   ]
  },
  {
   "cell_type": "code",
   "execution_count": 123,
   "id": "2a5ed396",
   "metadata": {
    "scrolled": true
   },
   "outputs": [
    {
     "data": {
      "image/png": "[encoded data removed]",
      "text/plain": [
       "<Figure size 432x288 with 1 Axes>"
      ]
     },
     "metadata": {
      "needs_background": "light"
     },
     "output_type": "display_data"
    }
   ],
   "source": [
    "rsa_stationary = russia.diff()\n",
    "rsa_stationary.dropna()      # removing the na value from the first row\n",
    "\n",
    "fig, ax = plt.subplots()\n",
    "rsa_stationary.plot(ax=ax)\n",
    "plt.show()"
   ]
  },
  {
   "cell_type": "markdown",
   "id": "697223e1",
   "metadata": {},
   "source": [
    "Even though we can use different methods to make the data stationary. I have successfully used \"taking the difference\" methods, now the data looks stationary."
   ]
  },
  {
   "cell_type": "markdown",
   "id": "dcf189e6",
   "metadata": {},
   "source": [
    "### AR and MA Models"
   ]
  },
  {
   "cell_type": "code",
   "execution_count": 124,
   "id": "c05aa4b4",
   "metadata": {},
   "outputs": [],
   "source": [
    "from statsmodels.tsa.arima_process import arma_generate_sample\n",
    "ar_coefs = [1,-0.5]\n",
    "ma_coefs =  [1, 0.2]"
   ]
  },
  {
   "cell_type": "markdown",
   "id": "986fe95b",
   "metadata": {},
   "source": [
    "we always set lag 0 coefficiant as 1 for both lag 1 -0.5 and 0.2 accordingly"
   ]
  },
  {
   "cell_type": "code",
   "execution_count": 125,
   "id": "53d1069d",
   "metadata": {},
   "outputs": [],
   "source": [
    "y = arma_generate_sample(ar_coefs,ma_coefs, nsample=1000, scale=0.5)"
   ]
  },
  {
   "cell_type": "code",
   "execution_count": 126,
   "id": "23fd92ef",
   "metadata": {},
   "outputs": [
    {
     "name": "stdout",
     "output_type": "stream",
     "text": [
      "                              ARMA Model Results                              \n",
      "==============================================================================\n",
      "Dep. Variable:                      y   No. Observations:                 1000\n",
      "Model:                     ARMA(2, 0)   Log Likelihood                -710.655\n",
      "Method:                       css-mle   S.D. of innovations              0.492\n",
      "Date:                Sun, 29 May 2022   AIC                           1429.309\n",
      "Time:                        21:57:26   BIC                           1448.940\n",
      "Sample:                             0   HQIC                          1436.771\n",
      "                                                                              \n",
      "==============================================================================\n",
      "                 coef    std err          z      P>|z|      [0.025      0.975]\n",
      "------------------------------------------------------------------------------\n",
      "const          0.0111      0.036      0.305      0.760      -0.060       0.082\n",
      "ar.L1.y        0.6826      0.032     21.667      0.000       0.621       0.744\n",
      "ar.L2.y       -0.1117      0.032     -3.545      0.000      -0.173      -0.050\n",
      "                                    Roots                                    \n",
      "=============================================================================\n",
      "                  Real          Imaginary           Modulus         Frequency\n",
      "-----------------------------------------------------------------------------\n",
      "AR.1            2.4350           +0.0000j            2.4350            0.0000\n",
      "AR.2            3.6774           +0.0000j            3.6774            0.0000\n",
      "-----------------------------------------------------------------------------\n"
     ]
    }
   ],
   "source": [
    "# Import the ARMA model\n",
    "from statsmodels.tsa.arima_model import ARMA\n",
    "import warnings\n",
    "warnings.filterwarnings('ignore')\n",
    "\n",
    "# Instantiate the model\n",
    "model = ARMA(y, order=(2,0))\n",
    "\n",
    "# Fit the model\n",
    "results = model.fit()\n",
    "\n",
    "# Print summary\n",
    "print(results.summary())"
   ]
  },
  {
   "cell_type": "markdown",
   "id": "942f9906",
   "metadata": {},
   "source": [
    "### ARMAX Model"
   ]
  },
  {
   "cell_type": "code",
   "execution_count": 127,
   "id": "4508920c",
   "metadata": {},
   "outputs": [
    {
     "name": "stdout",
     "output_type": "stream",
     "text": [
      "                              ARMA Model Results                              \n",
      "==============================================================================\n",
      "Dep. Variable:      sucid_in_hundredk   No. Observations:                13276\n",
      "Model:                     ARMA(2, 1)   Log Likelihood              -55569.208\n",
      "Method:                       css-mle   S.D. of innovations             15.907\n",
      "Date:                Sun, 29 May 2022   AIC                         111150.415\n",
      "Time:                        21:57:32   BIC                         111195.377\n",
      "Sample:                             0   HQIC                        111165.423\n",
      "                                                                              \n",
      "===========================================================================================\n",
      "                              coef    std err          z      P>|z|      [0.025      0.975]\n",
      "-------------------------------------------------------------------------------------------\n",
      "const                      15.2122      0.389     39.147      0.000      14.451      15.974\n",
      "unemployment               -0.1537      0.047     -3.251      0.001      -0.246      -0.061\n",
      "ar.L1.sucid_in_hundredk     0.0869      0.111      0.780      0.436      -0.131       0.305\n",
      "ar.L2.sucid_in_hundredk     0.2345      0.054      4.338      0.000       0.129       0.340\n",
      "ma.L1.sucid_in_hundredk     0.3884      0.112      3.456      0.001       0.168       0.609\n",
      "                                    Roots                                    \n",
      "=============================================================================\n",
      "                  Real          Imaginary           Modulus         Frequency\n",
      "-----------------------------------------------------------------------------\n",
      "AR.1            1.8882           +0.0000j            1.8882            0.0000\n",
      "AR.2           -2.2586           +0.0000j            2.2586            0.5000\n",
      "MA.1           -2.5748           +0.0000j            2.5748            0.5000\n",
      "-----------------------------------------------------------------------------\n"
     ]
    }
   ],
   "source": [
    "# Instantiate the model\n",
    "model = ARMA(df[ 'sucid_in_hundredk'], order=(2,1), exog=df['unemployment'])\n",
    "# Fit the model\n",
    "results = model.fit()\n",
    "\n",
    "print(results.summary())"
   ]
  },
  {
   "cell_type": "markdown",
   "id": "f2828310",
   "metadata": {},
   "source": [
    "We have fitted the models above. now we need to make predictions"
   ]
  },
  {
   "cell_type": "markdown",
   "id": "aa2af7f0",
   "metadata": {},
   "source": [
    "One Step Ahead Predictions"
   ]
  },
  {
   "cell_type": "markdown",
   "id": "1e05ab96",
   "metadata": {},
   "source": [
    "### Statmodels using SARIMAX class (One Step Prediction)"
   ]
  },
  {
   "cell_type": "markdown",
   "id": "70e42c1f",
   "metadata": {},
   "source": [
    "For ex AR1 Model : At any point in the time series, we can estimate the next series value, by multiplying the previous value by the lag1 AR coefficient.\n",
    "\n",
    "Predicting next series using the previous series value is called as one step prediction. This allows us to evaluate how good our model is."
   ]
  },
  {
   "cell_type": "code",
   "execution_count": 128,
   "id": "24688307",
   "metadata": {},
   "outputs": [
    {
     "name": "stdout",
     "output_type": "stream",
     "text": [
      "year\n",
      "2013-01-01    21.369537\n",
      "2013-01-01    17.895745\n",
      "Name: predicted_mean, dtype: float64\n"
     ]
    }
   ],
   "source": [
    "from statsmodels.tsa. statespace.sarimax import SARIMAX\n",
    "\n",
    "# An ARMA(p, q) + constant model\n",
    "model = SARIMAX(russia, order=(2,0, 1), trend='c')\n",
    "\n",
    "# Make predictions for last 2500 values\n",
    "results = model.fit()\n",
    "\n",
    "# Generate predictions\n",
    "one_step_forecast = results.get_prediction(start=-30)\n",
    "\n",
    "# Extract prediction mean\n",
    "mean_forecast = one_step_forecast.predicted_mean\n",
    "\n",
    "print(mean_forecast.head(2))"
   ]
  },
  {
   "cell_type": "markdown",
   "id": "2dabedc9",
   "metadata": {},
   "source": [
    "Here I am making predictions based on last 30 entries of the training data.\n",
    "\n",
    "In above case, center value of the forecast is stored in predicted_mean\n",
    "\n",
    "This model can do everything a ARIMA model and can be extended further. p,0,q sarimax model is exact same arima pq model. we can also add a constant to the model using trend = c."
   ]
  },
  {
   "cell_type": "code",
   "execution_count": 129,
   "id": "26cd8b13",
   "metadata": {},
   "outputs": [
    {
     "name": "stdout",
     "output_type": "stream",
     "text": [
      "            lower sucid_in_hundredk  upper sucid_in_hundredk\n",
      "year                                                        \n",
      "2013-01-01               -24.076666                66.815741\n",
      "2013-01-01               -27.550459                63.341949\n"
     ]
    }
   ],
   "source": [
    "# Get confidence intervals of predictions\n",
    "confidence_intervals = one_step_forecast.conf_int()\n",
    "\n",
    "print(confidence_intervals.head(2))"
   ]
  },
  {
   "cell_type": "code",
   "execution_count": 130,
   "id": "6e2eb14d",
   "metadata": {},
   "outputs": [
    {
     "data": {
      "text/plain": [
       "<matplotlib.legend.Legend at 0x25e81017070>"
      ]
     },
     "execution_count": 130,
     "metadata": {},
     "output_type": "execute_result"
    },
    {
     "data": {
      "image/png": "[encoded data removed]",
      "text/plain": [
       "<Figure size 432x288 with 1 Axes>"
      ]
     },
     "metadata": {
      "needs_background": "light"
     },
     "output_type": "display_data"
    }
   ],
   "source": [
    "# Select lower and upper confidence limits\n",
    "lower_limits = confidence_intervals.loc[:,'lower sucid_in_hundredk']\n",
    "upper_limits = confidence_intervals.loc[:,'upper sucid_in_hundredk']\n",
    "\n",
    "# Print best estimate predictions\n",
    "# print(mean_forecast)\n",
    "\n",
    "plt.figure()\n",
    "\n",
    "plt.plot(russia.index, russia ,label='observed')\n",
    "# Plot prediction\n",
    "plt.plot(mean_forecast.index, mean_forecast,color='r' ,label='forecast')\n",
    "# Shade uncertainty area\n",
    "plt.fill_between(lower_limits.index, lower_limits, upper_limits, color='pink')\n",
    "\n",
    "# set labels, legends and show plot\n",
    "plt.xlabel('Date')\n",
    "plt.ylabel('Suicide in 100k')\n",
    "plt.legend()"
   ]
  },
  {
   "cell_type": "markdown",
   "id": "0b54ce4a",
   "metadata": {},
   "source": [
    "##### Confidence intervals"
   ]
  },
  {
   "cell_type": "code",
   "execution_count": 131,
   "id": "8ff3d9aa",
   "metadata": {},
   "outputs": [
    {
     "data": {
      "text/html": [
       "<div>\n",
       "<style scoped>\n",
       "    .dataframe tbody tr th:only-of-type {\n",
       "        vertical-align: middle;\n",
       "    }\n",
       "\n",
       "    .dataframe tbody tr th {\n",
       "        vertical-align: top;\n",
       "    }\n",
       "\n",
       "    .dataframe thead th {\n",
       "        text-align: right;\n",
       "    }\n",
       "</style>\n",
       "<table border=\"1\" class=\"dataframe\">\n",
       "  <thead>\n",
       "    <tr style=\"text-align: right;\">\n",
       "      <th></th>\n",
       "      <th>lower sucid_in_hundredk</th>\n",
       "      <th>upper sucid_in_hundredk</th>\n",
       "    </tr>\n",
       "    <tr>\n",
       "      <th>year</th>\n",
       "      <th></th>\n",
       "      <th></th>\n",
       "    </tr>\n",
       "  </thead>\n",
       "  <tbody>\n",
       "    <tr>\n",
       "      <th>2013-01-01</th>\n",
       "      <td>-24.076666</td>\n",
       "      <td>66.815741</td>\n",
       "    </tr>\n",
       "    <tr>\n",
       "      <th>2013-01-01</th>\n",
       "      <td>-27.550459</td>\n",
       "      <td>63.341949</td>\n",
       "    </tr>\n",
       "    <tr>\n",
       "      <th>2013-01-01</th>\n",
       "      <td>-23.957767</td>\n",
       "      <td>66.934641</td>\n",
       "    </tr>\n",
       "    <tr>\n",
       "      <th>2013-01-01</th>\n",
       "      <td>-21.336489</td>\n",
       "      <td>69.555919</td>\n",
       "    </tr>\n",
       "    <tr>\n",
       "      <th>2013-01-01</th>\n",
       "      <td>-19.791019</td>\n",
       "      <td>71.101388</td>\n",
       "    </tr>\n",
       "    <tr>\n",
       "      <th>2013-01-01</th>\n",
       "      <td>-21.473596</td>\n",
       "      <td>69.418812</td>\n",
       "    </tr>\n",
       "    <tr>\n",
       "      <th>2014-01-01</th>\n",
       "      <td>-20.143098</td>\n",
       "      <td>70.749310</td>\n",
       "    </tr>\n",
       "    <tr>\n",
       "      <th>2014-01-01</th>\n",
       "      <td>30.252381</td>\n",
       "      <td>121.144789</td>\n",
       "    </tr>\n",
       "    <tr>\n",
       "      <th>2014-01-01</th>\n",
       "      <td>2.817070</td>\n",
       "      <td>93.709477</td>\n",
       "    </tr>\n",
       "    <tr>\n",
       "      <th>2014-01-01</th>\n",
       "      <td>-2.016097</td>\n",
       "      <td>88.876310</td>\n",
       "    </tr>\n",
       "  </tbody>\n",
       "</table>\n",
       "</div>"
      ],
      "text/plain": [
       "            lower sucid_in_hundredk  upper sucid_in_hundredk\n",
       "year                                                        \n",
       "2013-01-01               -24.076666                66.815741\n",
       "2013-01-01               -27.550459                63.341949\n",
       "2013-01-01               -23.957767                66.934641\n",
       "2013-01-01               -21.336489                69.555919\n",
       "2013-01-01               -19.791019                71.101388\n",
       "2013-01-01               -21.473596                69.418812\n",
       "2014-01-01               -20.143098                70.749310\n",
       "2014-01-01                30.252381               121.144789\n",
       "2014-01-01                 2.817070                93.709477\n",
       "2014-01-01                -2.016097                88.876310"
      ]
     },
     "execution_count": 131,
     "metadata": {},
     "output_type": "execute_result"
    }
   ],
   "source": [
    "confidence_intervals = one_step_forecast.conf_int()\n",
    "confidence_intervals.head(10)"
   ]
  },
  {
   "cell_type": "markdown",
   "id": "696f11e1",
   "metadata": {},
   "source": [
    "Above dataframe shows the lower and upper uncertainity range of our prediction"
   ]
  }
 ],
 "metadata": {
  "interpreter": {
   "hash": "ad2bdc8ecc057115af97d19610ffacc2b4e99fae6737bb82f5d7fb13d2f2c186"
  },
  "kernelspec": {
   "display_name": "Python 3.8.8 ('base')",
   "language": "python",
   "name": "python3"
  },
  "language_info": {
   "codemirror_mode": {
    "name": "ipython",
    "version": 3
   },
   "file_extension": ".py",
   "mimetype": "text/x-python",
   "name": "python",
   "nbconvert_exporter": "python",
   "pygments_lexer": "ipython3",
   "version": "3.8.8"
  }
 },
 "nbformat": 4,
 "nbformat_minor": 5
}
