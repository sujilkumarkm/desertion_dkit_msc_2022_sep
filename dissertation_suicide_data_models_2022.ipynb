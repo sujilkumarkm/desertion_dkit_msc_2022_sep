{
 "cells": [
  {
   "cell_type": "code",
   "execution_count": 82,
   "id": "728f43b4",
   "metadata": {},
   "outputs": [],
   "source": [
    "import pandas as pd\n",
    "import matplotlib.pyplot as plt\n",
    "import numpy as np"
   ]
  },
  {
   "cell_type": "code",
   "execution_count": 119,
   "id": "a185349c",
   "metadata": {
    "scrolled": false
   },
   "outputs": [
    {
     "name": "stdout",
     "output_type": "stream",
     "text": [
      "<class 'pandas.core.frame.DataFrame'>\n",
      "DatetimeIndex: 13276 entries, 1985-01-01 to 2015-01-01\n",
      "Data columns (total 27 columns):\n",
      " #   Column                   Non-Null Count  Dtype  \n",
      "---  ------                   --------------  -----  \n",
      " 0   country                  13276 non-null  object \n",
      " 1   sex                      13276 non-null  object \n",
      " 2   age                      13276 non-null  object \n",
      " 3   suicides                 13276 non-null  int64  \n",
      " 4   population               13276 non-null  int64  \n",
      " 5   sucid_in_hundredk        13276 non-null  float64\n",
      " 6   country-year             13276 non-null  object \n",
      " 7   yearly_hdi               4152 non-null   float64\n",
      " 8   yearly_gdp               13276 non-null  float64\n",
      " 9   gdp_per_capita           13276 non-null  int64  \n",
      " 10  generation               13276 non-null  object \n",
      " 11  suicide%                 13276 non-null  float64\n",
      " 12  internetusers            13192 non-null  float64\n",
      " 13  expenses                 12124 non-null  float64\n",
      " 14  employeecompensation     12076 non-null  float64\n",
      " 15  unemployment             13276 non-null  float64\n",
      " 16  physiciansp1000          11212 non-null  float64\n",
      " 17  legalrights              4948 non-null   float64\n",
      " 18  laborforcetotal          13276 non-null  int64  \n",
      " 19  lifeexpectancy           13276 non-null  float64\n",
      " 20  mobilesubscriptionsp100  13276 non-null  float64\n",
      " 21  refugees                 13144 non-null  float64\n",
      " 22  selfemployed             13276 non-null  float64\n",
      " 23  electricityacess         12964 non-null  float64\n",
      " 24  secondarycompletion      8320 non-null   float64\n",
      " 25  continent                13276 non-null  object \n",
      " 26  country_code             13276 non-null  object \n",
      "dtypes: float64(16), int64(4), object(7)\n",
      "memory usage: 2.8+ MB\n"
     ]
    }
   ],
   "source": [
    "url = 'E:\\\\Dessertation\\\\desertion_dkit_msc_2022_sep\\\\output.csv'\n",
    "# d parser df:=lambda x: pd.datetime.strptime(x,'gy-8m-gd gI-Sp\")\n",
    "df = pd.read_csv(url, index_col = 'year', parse_dates=True, infer_datetime_format=True)\n",
    "# df = pd.read_csv(url)\n",
    "# df['year'] = pd.to_datetime(df['year'], format='%Y%', errors='ignore')\n",
    "# # Converting the index as date\n",
    "# df.index = pd.to_datetime(df.index)\n",
    "\n",
    "# df = df.index.year\n",
    "# df = df.set_index('year')\n",
    "\n",
    "# # Converting the index as date\n",
    "# df.index = pd.to_datetime(df.index)\n",
    "df.info()"
   ]
  },
  {
   "cell_type": "code",
   "execution_count": 84,
   "id": "d1c18ac3",
   "metadata": {
    "scrolled": true
   },
   "outputs": [
    {
     "data": {
      "text/plain": [
       "array(['Argentina', 'Armenia', 'Australia', 'Austria', 'Belgium',\n",
       "       'Brazil', 'Bulgaria', 'Canada', 'Chile', 'Colombia', 'Croatia',\n",
       "       'Cuba', 'Czech Republic', 'Denmark', 'Finland', 'France',\n",
       "       'Germany', 'Greece', 'Hungary', 'Iceland', 'Ireland', 'Israel',\n",
       "       'Italy', 'Japan', 'Mexico', 'Netherlands', 'New Zealand', 'Norway',\n",
       "       'Poland', 'Portugal', 'Romania', 'Russian Federation',\n",
       "       'South Africa', 'Spain', 'Sweden', 'Switzerland', 'Thailand',\n",
       "       'Turkmenistan', 'Ukraine'], dtype=object)"
      ]
     },
     "execution_count": 84,
     "metadata": {},
     "output_type": "execute_result"
    }
   ],
   "source": [
    "df['country'].unique()"
   ]
  },
  {
   "cell_type": "code",
   "execution_count": 85,
   "id": "c68f73ba",
   "metadata": {
    "scrolled": true
   },
   "outputs": [
    {
     "data": {
      "text/html": [
       "<div>\n",
       "<style scoped>\n",
       "    .dataframe tbody tr th:only-of-type {\n",
       "        vertical-align: middle;\n",
       "    }\n",
       "\n",
       "    .dataframe tbody tr th {\n",
       "        vertical-align: top;\n",
       "    }\n",
       "\n",
       "    .dataframe thead th {\n",
       "        text-align: right;\n",
       "    }\n",
       "</style>\n",
       "<table border=\"1\" class=\"dataframe\">\n",
       "  <thead>\n",
       "    <tr style=\"text-align: right;\">\n",
       "      <th></th>\n",
       "      <th>country</th>\n",
       "      <th>sex</th>\n",
       "      <th>age</th>\n",
       "      <th>suicides</th>\n",
       "      <th>population</th>\n",
       "      <th>sucid_in_hundredk</th>\n",
       "      <th>country-year</th>\n",
       "      <th>yearly_hdi</th>\n",
       "      <th>yearly_gdp</th>\n",
       "      <th>gdp_per_capita</th>\n",
       "      <th>...</th>\n",
       "      <th>legalrights</th>\n",
       "      <th>laborforcetotal</th>\n",
       "      <th>lifeexpectancy</th>\n",
       "      <th>mobilesubscriptionsp100</th>\n",
       "      <th>refugees</th>\n",
       "      <th>selfemployed</th>\n",
       "      <th>electricityacess</th>\n",
       "      <th>secondarycompletion</th>\n",
       "      <th>continent</th>\n",
       "      <th>country_code</th>\n",
       "    </tr>\n",
       "    <tr>\n",
       "      <th>year</th>\n",
       "      <th></th>\n",
       "      <th></th>\n",
       "      <th></th>\n",
       "      <th></th>\n",
       "      <th></th>\n",
       "      <th></th>\n",
       "      <th></th>\n",
       "      <th></th>\n",
       "      <th></th>\n",
       "      <th></th>\n",
       "      <th></th>\n",
       "      <th></th>\n",
       "      <th></th>\n",
       "      <th></th>\n",
       "      <th></th>\n",
       "      <th></th>\n",
       "      <th></th>\n",
       "      <th></th>\n",
       "      <th></th>\n",
       "      <th></th>\n",
       "      <th></th>\n",
       "    </tr>\n",
       "  </thead>\n",
       "  <tbody>\n",
       "    <tr>\n",
       "      <th>1989-01-01</th>\n",
       "      <td>Russian Federation</td>\n",
       "      <td>male</td>\n",
       "      <td>75+ years</td>\n",
       "      <td>1393</td>\n",
       "      <td>1349100</td>\n",
       "      <td>103.25</td>\n",
       "      <td>Russian Federation1989</td>\n",
       "      <td>NaN</td>\n",
       "      <td>5.065000e+11</td>\n",
       "      <td>3740</td>\n",
       "      <td>...</td>\n",
       "      <td>0.0</td>\n",
       "      <td>0</td>\n",
       "      <td>0.0</td>\n",
       "      <td>0.0</td>\n",
       "      <td>0.0</td>\n",
       "      <td>0.0</td>\n",
       "      <td>0.0</td>\n",
       "      <td>0.0</td>\n",
       "      <td>Europe</td>\n",
       "      <td>RUS</td>\n",
       "    </tr>\n",
       "    <tr>\n",
       "      <th>1989-01-01</th>\n",
       "      <td>Russian Federation</td>\n",
       "      <td>male</td>\n",
       "      <td>35-54 years</td>\n",
       "      <td>12030</td>\n",
       "      <td>18058500</td>\n",
       "      <td>66.62</td>\n",
       "      <td>Russian Federation1989</td>\n",
       "      <td>NaN</td>\n",
       "      <td>5.065000e+11</td>\n",
       "      <td>3740</td>\n",
       "      <td>...</td>\n",
       "      <td>0.0</td>\n",
       "      <td>0</td>\n",
       "      <td>0.0</td>\n",
       "      <td>0.0</td>\n",
       "      <td>0.0</td>\n",
       "      <td>0.0</td>\n",
       "      <td>0.0</td>\n",
       "      <td>0.0</td>\n",
       "      <td>Europe</td>\n",
       "      <td>RUS</td>\n",
       "    </tr>\n",
       "    <tr>\n",
       "      <th>1989-01-01</th>\n",
       "      <td>Russian Federation</td>\n",
       "      <td>male</td>\n",
       "      <td>55-74 years</td>\n",
       "      <td>6250</td>\n",
       "      <td>9383700</td>\n",
       "      <td>66.60</td>\n",
       "      <td>Russian Federation1989</td>\n",
       "      <td>NaN</td>\n",
       "      <td>5.065000e+11</td>\n",
       "      <td>3740</td>\n",
       "      <td>...</td>\n",
       "      <td>0.0</td>\n",
       "      <td>0</td>\n",
       "      <td>0.0</td>\n",
       "      <td>0.0</td>\n",
       "      <td>0.0</td>\n",
       "      <td>0.0</td>\n",
       "      <td>0.0</td>\n",
       "      <td>0.0</td>\n",
       "      <td>Europe</td>\n",
       "      <td>RUS</td>\n",
       "    </tr>\n",
       "    <tr>\n",
       "      <th>1989-01-01</th>\n",
       "      <td>Russian Federation</td>\n",
       "      <td>male</td>\n",
       "      <td>25-34 years</td>\n",
       "      <td>6856</td>\n",
       "      <td>12748800</td>\n",
       "      <td>53.78</td>\n",
       "      <td>Russian Federation1989</td>\n",
       "      <td>NaN</td>\n",
       "      <td>5.065000e+11</td>\n",
       "      <td>3740</td>\n",
       "      <td>...</td>\n",
       "      <td>0.0</td>\n",
       "      <td>0</td>\n",
       "      <td>0.0</td>\n",
       "      <td>0.0</td>\n",
       "      <td>0.0</td>\n",
       "      <td>0.0</td>\n",
       "      <td>0.0</td>\n",
       "      <td>0.0</td>\n",
       "      <td>Europe</td>\n",
       "      <td>RUS</td>\n",
       "    </tr>\n",
       "    <tr>\n",
       "      <th>1989-01-01</th>\n",
       "      <td>Russian Federation</td>\n",
       "      <td>female</td>\n",
       "      <td>75+ years</td>\n",
       "      <td>1677</td>\n",
       "      <td>4738100</td>\n",
       "      <td>35.39</td>\n",
       "      <td>Russian Federation1989</td>\n",
       "      <td>NaN</td>\n",
       "      <td>5.065000e+11</td>\n",
       "      <td>3740</td>\n",
       "      <td>...</td>\n",
       "      <td>0.0</td>\n",
       "      <td>0</td>\n",
       "      <td>0.0</td>\n",
       "      <td>0.0</td>\n",
       "      <td>0.0</td>\n",
       "      <td>0.0</td>\n",
       "      <td>0.0</td>\n",
       "      <td>0.0</td>\n",
       "      <td>Europe</td>\n",
       "      <td>RUS</td>\n",
       "    </tr>\n",
       "  </tbody>\n",
       "</table>\n",
       "<p>5 rows × 27 columns</p>\n",
       "</div>"
      ],
      "text/plain": [
       "                       country     sex          age  suicides  population  \\\n",
       "year                                                                        \n",
       "1989-01-01  Russian Federation    male    75+ years      1393     1349100   \n",
       "1989-01-01  Russian Federation    male  35-54 years     12030    18058500   \n",
       "1989-01-01  Russian Federation    male  55-74 years      6250     9383700   \n",
       "1989-01-01  Russian Federation    male  25-34 years      6856    12748800   \n",
       "1989-01-01  Russian Federation  female    75+ years      1677     4738100   \n",
       "\n",
       "            sucid_in_hundredk            country-year  yearly_hdi  \\\n",
       "year                                                                \n",
       "1989-01-01             103.25  Russian Federation1989         NaN   \n",
       "1989-01-01              66.62  Russian Federation1989         NaN   \n",
       "1989-01-01              66.60  Russian Federation1989         NaN   \n",
       "1989-01-01              53.78  Russian Federation1989         NaN   \n",
       "1989-01-01              35.39  Russian Federation1989         NaN   \n",
       "\n",
       "              yearly_gdp  gdp_per_capita  ... legalrights  laborforcetotal  \\\n",
       "year                                      ...                                \n",
       "1989-01-01  5.065000e+11            3740  ...         0.0                0   \n",
       "1989-01-01  5.065000e+11            3740  ...         0.0                0   \n",
       "1989-01-01  5.065000e+11            3740  ...         0.0                0   \n",
       "1989-01-01  5.065000e+11            3740  ...         0.0                0   \n",
       "1989-01-01  5.065000e+11            3740  ...         0.0                0   \n",
       "\n",
       "            lifeexpectancy  mobilesubscriptionsp100  refugees  selfemployed  \\\n",
       "year                                                                          \n",
       "1989-01-01             0.0                      0.0       0.0           0.0   \n",
       "1989-01-01             0.0                      0.0       0.0           0.0   \n",
       "1989-01-01             0.0                      0.0       0.0           0.0   \n",
       "1989-01-01             0.0                      0.0       0.0           0.0   \n",
       "1989-01-01             0.0                      0.0       0.0           0.0   \n",
       "\n",
       "            electricityacess  secondarycompletion  continent  country_code  \n",
       "year                                                                        \n",
       "1989-01-01               0.0                  0.0     Europe           RUS  \n",
       "1989-01-01               0.0                  0.0     Europe           RUS  \n",
       "1989-01-01               0.0                  0.0     Europe           RUS  \n",
       "1989-01-01               0.0                  0.0     Europe           RUS  \n",
       "1989-01-01               0.0                  0.0     Europe           RUS  \n",
       "\n",
       "[5 rows x 27 columns]"
      ]
     },
     "execution_count": 85,
     "metadata": {},
     "output_type": "execute_result"
    }
   ],
   "source": [
    "russia = df[(df.country == 'Russian Federation')]\n",
    "\n",
    "# filter_list = ['Ukraine', 'Japan', 'Russian Federation']\n",
    "# russia = df[df.country.isin(filter_list)]\n",
    "# russia = df\n",
    "# russia['years'] = russia['year'].dt.year\n",
    "russia.head()"
   ]
  },
  {
   "cell_type": "code",
   "execution_count": 86,
   "id": "e155e946",
   "metadata": {},
   "outputs": [
    {
     "data": {
      "text/html": [
       "<div>\n",
       "<style scoped>\n",
       "    .dataframe tbody tr th:only-of-type {\n",
       "        vertical-align: middle;\n",
       "    }\n",
       "\n",
       "    .dataframe tbody tr th {\n",
       "        vertical-align: top;\n",
       "    }\n",
       "\n",
       "    .dataframe thead th {\n",
       "        text-align: right;\n",
       "    }\n",
       "</style>\n",
       "<table border=\"1\" class=\"dataframe\">\n",
       "  <thead>\n",
       "    <tr style=\"text-align: right;\">\n",
       "      <th></th>\n",
       "      <th>country</th>\n",
       "      <th>sex</th>\n",
       "      <th>age</th>\n",
       "      <th>suicides</th>\n",
       "      <th>population</th>\n",
       "      <th>sucid_in_hundredk</th>\n",
       "      <th>country-year</th>\n",
       "      <th>yearly_hdi</th>\n",
       "      <th>yearly_gdp</th>\n",
       "      <th>gdp_per_capita</th>\n",
       "      <th>...</th>\n",
       "      <th>legalrights</th>\n",
       "      <th>laborforcetotal</th>\n",
       "      <th>lifeexpectancy</th>\n",
       "      <th>mobilesubscriptionsp100</th>\n",
       "      <th>refugees</th>\n",
       "      <th>selfemployed</th>\n",
       "      <th>electricityacess</th>\n",
       "      <th>secondarycompletion</th>\n",
       "      <th>continent</th>\n",
       "      <th>country_code</th>\n",
       "    </tr>\n",
       "    <tr>\n",
       "      <th>year</th>\n",
       "      <th></th>\n",
       "      <th></th>\n",
       "      <th></th>\n",
       "      <th></th>\n",
       "      <th></th>\n",
       "      <th></th>\n",
       "      <th></th>\n",
       "      <th></th>\n",
       "      <th></th>\n",
       "      <th></th>\n",
       "      <th></th>\n",
       "      <th></th>\n",
       "      <th></th>\n",
       "      <th></th>\n",
       "      <th></th>\n",
       "      <th></th>\n",
       "      <th></th>\n",
       "      <th></th>\n",
       "      <th></th>\n",
       "      <th></th>\n",
       "      <th></th>\n",
       "    </tr>\n",
       "  </thead>\n",
       "  <tbody>\n",
       "    <tr>\n",
       "      <th>1989-01-01</th>\n",
       "      <td>Russian Federation</td>\n",
       "      <td>male</td>\n",
       "      <td>75+ years</td>\n",
       "      <td>1393</td>\n",
       "      <td>1349100</td>\n",
       "      <td>103.25</td>\n",
       "      <td>Russian Federation1989</td>\n",
       "      <td>NaN</td>\n",
       "      <td>5.065000e+11</td>\n",
       "      <td>3740</td>\n",
       "      <td>...</td>\n",
       "      <td>0.0</td>\n",
       "      <td>0</td>\n",
       "      <td>0.0</td>\n",
       "      <td>0.0</td>\n",
       "      <td>0.0</td>\n",
       "      <td>0.0</td>\n",
       "      <td>0.0</td>\n",
       "      <td>0.0</td>\n",
       "      <td>Europe</td>\n",
       "      <td>RUS</td>\n",
       "    </tr>\n",
       "    <tr>\n",
       "      <th>1989-01-01</th>\n",
       "      <td>Russian Federation</td>\n",
       "      <td>male</td>\n",
       "      <td>35-54 years</td>\n",
       "      <td>12030</td>\n",
       "      <td>18058500</td>\n",
       "      <td>66.62</td>\n",
       "      <td>Russian Federation1989</td>\n",
       "      <td>NaN</td>\n",
       "      <td>5.065000e+11</td>\n",
       "      <td>3740</td>\n",
       "      <td>...</td>\n",
       "      <td>0.0</td>\n",
       "      <td>0</td>\n",
       "      <td>0.0</td>\n",
       "      <td>0.0</td>\n",
       "      <td>0.0</td>\n",
       "      <td>0.0</td>\n",
       "      <td>0.0</td>\n",
       "      <td>0.0</td>\n",
       "      <td>Europe</td>\n",
       "      <td>RUS</td>\n",
       "    </tr>\n",
       "    <tr>\n",
       "      <th>1989-01-01</th>\n",
       "      <td>Russian Federation</td>\n",
       "      <td>male</td>\n",
       "      <td>55-74 years</td>\n",
       "      <td>6250</td>\n",
       "      <td>9383700</td>\n",
       "      <td>66.60</td>\n",
       "      <td>Russian Federation1989</td>\n",
       "      <td>NaN</td>\n",
       "      <td>5.065000e+11</td>\n",
       "      <td>3740</td>\n",
       "      <td>...</td>\n",
       "      <td>0.0</td>\n",
       "      <td>0</td>\n",
       "      <td>0.0</td>\n",
       "      <td>0.0</td>\n",
       "      <td>0.0</td>\n",
       "      <td>0.0</td>\n",
       "      <td>0.0</td>\n",
       "      <td>0.0</td>\n",
       "      <td>Europe</td>\n",
       "      <td>RUS</td>\n",
       "    </tr>\n",
       "    <tr>\n",
       "      <th>1989-01-01</th>\n",
       "      <td>Russian Federation</td>\n",
       "      <td>male</td>\n",
       "      <td>25-34 years</td>\n",
       "      <td>6856</td>\n",
       "      <td>12748800</td>\n",
       "      <td>53.78</td>\n",
       "      <td>Russian Federation1989</td>\n",
       "      <td>NaN</td>\n",
       "      <td>5.065000e+11</td>\n",
       "      <td>3740</td>\n",
       "      <td>...</td>\n",
       "      <td>0.0</td>\n",
       "      <td>0</td>\n",
       "      <td>0.0</td>\n",
       "      <td>0.0</td>\n",
       "      <td>0.0</td>\n",
       "      <td>0.0</td>\n",
       "      <td>0.0</td>\n",
       "      <td>0.0</td>\n",
       "      <td>Europe</td>\n",
       "      <td>RUS</td>\n",
       "    </tr>\n",
       "    <tr>\n",
       "      <th>1989-01-01</th>\n",
       "      <td>Russian Federation</td>\n",
       "      <td>female</td>\n",
       "      <td>75+ years</td>\n",
       "      <td>1677</td>\n",
       "      <td>4738100</td>\n",
       "      <td>35.39</td>\n",
       "      <td>Russian Federation1989</td>\n",
       "      <td>NaN</td>\n",
       "      <td>5.065000e+11</td>\n",
       "      <td>3740</td>\n",
       "      <td>...</td>\n",
       "      <td>0.0</td>\n",
       "      <td>0</td>\n",
       "      <td>0.0</td>\n",
       "      <td>0.0</td>\n",
       "      <td>0.0</td>\n",
       "      <td>0.0</td>\n",
       "      <td>0.0</td>\n",
       "      <td>0.0</td>\n",
       "      <td>Europe</td>\n",
       "      <td>RUS</td>\n",
       "    </tr>\n",
       "  </tbody>\n",
       "</table>\n",
       "<p>5 rows × 27 columns</p>\n",
       "</div>"
      ],
      "text/plain": [
       "                       country     sex          age  suicides  population  \\\n",
       "year                                                                        \n",
       "1989-01-01  Russian Federation    male    75+ years      1393     1349100   \n",
       "1989-01-01  Russian Federation    male  35-54 years     12030    18058500   \n",
       "1989-01-01  Russian Federation    male  55-74 years      6250     9383700   \n",
       "1989-01-01  Russian Federation    male  25-34 years      6856    12748800   \n",
       "1989-01-01  Russian Federation  female    75+ years      1677     4738100   \n",
       "\n",
       "            sucid_in_hundredk            country-year  yearly_hdi  \\\n",
       "year                                                                \n",
       "1989-01-01             103.25  Russian Federation1989         NaN   \n",
       "1989-01-01              66.62  Russian Federation1989         NaN   \n",
       "1989-01-01              66.60  Russian Federation1989         NaN   \n",
       "1989-01-01              53.78  Russian Federation1989         NaN   \n",
       "1989-01-01              35.39  Russian Federation1989         NaN   \n",
       "\n",
       "              yearly_gdp  gdp_per_capita  ... legalrights  laborforcetotal  \\\n",
       "year                                      ...                                \n",
       "1989-01-01  5.065000e+11            3740  ...         0.0                0   \n",
       "1989-01-01  5.065000e+11            3740  ...         0.0                0   \n",
       "1989-01-01  5.065000e+11            3740  ...         0.0                0   \n",
       "1989-01-01  5.065000e+11            3740  ...         0.0                0   \n",
       "1989-01-01  5.065000e+11            3740  ...         0.0                0   \n",
       "\n",
       "            lifeexpectancy  mobilesubscriptionsp100  refugees  selfemployed  \\\n",
       "year                                                                          \n",
       "1989-01-01             0.0                      0.0       0.0           0.0   \n",
       "1989-01-01             0.0                      0.0       0.0           0.0   \n",
       "1989-01-01             0.0                      0.0       0.0           0.0   \n",
       "1989-01-01             0.0                      0.0       0.0           0.0   \n",
       "1989-01-01             0.0                      0.0       0.0           0.0   \n",
       "\n",
       "            electricityacess  secondarycompletion  continent  country_code  \n",
       "year                                                                        \n",
       "1989-01-01               0.0                  0.0     Europe           RUS  \n",
       "1989-01-01               0.0                  0.0     Europe           RUS  \n",
       "1989-01-01               0.0                  0.0     Europe           RUS  \n",
       "1989-01-01               0.0                  0.0     Europe           RUS  \n",
       "1989-01-01               0.0                  0.0     Europe           RUS  \n",
       "\n",
       "[5 rows x 27 columns]"
      ]
     },
     "execution_count": 86,
     "metadata": {},
     "output_type": "execute_result"
    }
   ],
   "source": [
    "russia.head()"
   ]
  },
  {
   "cell_type": "code",
   "execution_count": 87,
   "id": "08d9e0e7",
   "metadata": {
    "scrolled": true
   },
   "outputs": [
    {
     "name": "stdout",
     "output_type": "stream",
     "text": [
      "<class 'pandas.core.frame.DataFrame'>\n",
      "DatetimeIndex: 324 entries, 1989-01-01 to 2015-01-01\n",
      "Data columns (total 1 columns):\n",
      " #   Column             Non-Null Count  Dtype  \n",
      "---  ------             --------------  -----  \n",
      " 0   sucid_in_hundredk  324 non-null    float64\n",
      "dtypes: float64(1)\n",
      "memory usage: 5.1 KB\n"
     ]
    }
   ],
   "source": [
    "columns = ['sucid_in_hundredk']\n",
    "russia = pd.DataFrame(russia, columns=columns)\n",
    "russia.info()"
   ]
  },
  {
   "cell_type": "code",
   "execution_count": 88,
   "id": "5f21a80f",
   "metadata": {},
   "outputs": [],
   "source": [
    "# russia.index.unique()"
   ]
  },
  {
   "cell_type": "code",
   "execution_count": 89,
   "id": "e6675a55",
   "metadata": {},
   "outputs": [
    {
     "data": {
      "text/html": [
       "<div>\n",
       "<style scoped>\n",
       "    .dataframe tbody tr th:only-of-type {\n",
       "        vertical-align: middle;\n",
       "    }\n",
       "\n",
       "    .dataframe tbody tr th {\n",
       "        vertical-align: top;\n",
       "    }\n",
       "\n",
       "    .dataframe thead th {\n",
       "        text-align: right;\n",
       "    }\n",
       "</style>\n",
       "<table border=\"1\" class=\"dataframe\">\n",
       "  <thead>\n",
       "    <tr style=\"text-align: right;\">\n",
       "      <th></th>\n",
       "      <th>sucid_in_hundredk</th>\n",
       "    </tr>\n",
       "    <tr>\n",
       "      <th>year</th>\n",
       "      <th></th>\n",
       "    </tr>\n",
       "  </thead>\n",
       "  <tbody>\n",
       "    <tr>\n",
       "      <th>1989-01-01</th>\n",
       "      <td>103.25</td>\n",
       "    </tr>\n",
       "    <tr>\n",
       "      <th>1989-01-01</th>\n",
       "      <td>66.62</td>\n",
       "    </tr>\n",
       "    <tr>\n",
       "      <th>1989-01-01</th>\n",
       "      <td>66.60</td>\n",
       "    </tr>\n",
       "    <tr>\n",
       "      <th>1989-01-01</th>\n",
       "      <td>53.78</td>\n",
       "    </tr>\n",
       "    <tr>\n",
       "      <th>1989-01-01</th>\n",
       "      <td>35.39</td>\n",
       "    </tr>\n",
       "    <tr>\n",
       "      <th>...</th>\n",
       "      <td>...</td>\n",
       "    </tr>\n",
       "    <tr>\n",
       "      <th>2015-01-01</th>\n",
       "      <td>5.95</td>\n",
       "    </tr>\n",
       "    <tr>\n",
       "      <th>2015-01-01</th>\n",
       "      <td>5.81</td>\n",
       "    </tr>\n",
       "    <tr>\n",
       "      <th>2015-01-01</th>\n",
       "      <td>4.94</td>\n",
       "    </tr>\n",
       "    <tr>\n",
       "      <th>2015-01-01</th>\n",
       "      <td>1.01</td>\n",
       "    </tr>\n",
       "    <tr>\n",
       "      <th>2015-01-01</th>\n",
       "      <td>0.76</td>\n",
       "    </tr>\n",
       "  </tbody>\n",
       "</table>\n",
       "<p>324 rows × 1 columns</p>\n",
       "</div>"
      ],
      "text/plain": [
       "            sucid_in_hundredk\n",
       "year                         \n",
       "1989-01-01             103.25\n",
       "1989-01-01              66.62\n",
       "1989-01-01              66.60\n",
       "1989-01-01              53.78\n",
       "1989-01-01              35.39\n",
       "...                       ...\n",
       "2015-01-01               5.95\n",
       "2015-01-01               5.81\n",
       "2015-01-01               4.94\n",
       "2015-01-01               1.01\n",
       "2015-01-01               0.76\n",
       "\n",
       "[324 rows x 1 columns]"
      ]
     },
     "execution_count": 89,
     "metadata": {},
     "output_type": "execute_result"
    }
   ],
   "source": [
    "# date_range = pd.date_range(start=\"1989-01-01\",end=\"2015-01-01\")\n",
    "russia"
   ]
  },
  {
   "cell_type": "code",
   "execution_count": 90,
   "id": "60db528e",
   "metadata": {},
   "outputs": [
    {
     "data": {
      "text/html": [
       "<div>\n",
       "<style scoped>\n",
       "    .dataframe tbody tr th:only-of-type {\n",
       "        vertical-align: middle;\n",
       "    }\n",
       "\n",
       "    .dataframe tbody tr th {\n",
       "        vertical-align: top;\n",
       "    }\n",
       "\n",
       "    .dataframe thead th {\n",
       "        text-align: right;\n",
       "    }\n",
       "</style>\n",
       "<table border=\"1\" class=\"dataframe\">\n",
       "  <thead>\n",
       "    <tr style=\"text-align: right;\">\n",
       "      <th></th>\n",
       "      <th>sucid_in_hundredk</th>\n",
       "    </tr>\n",
       "    <tr>\n",
       "      <th>year</th>\n",
       "      <th></th>\n",
       "    </tr>\n",
       "  </thead>\n",
       "  <tbody>\n",
       "    <tr>\n",
       "      <th>1989-01-01</th>\n",
       "      <td>398.82</td>\n",
       "    </tr>\n",
       "    <tr>\n",
       "      <th>1990-01-01</th>\n",
       "      <td>399.17</td>\n",
       "    </tr>\n",
       "    <tr>\n",
       "      <th>1991-01-01</th>\n",
       "      <td>396.40</td>\n",
       "    </tr>\n",
       "    <tr>\n",
       "      <th>1992-01-01</th>\n",
       "      <td>437.48</td>\n",
       "    </tr>\n",
       "    <tr>\n",
       "      <th>1993-01-01</th>\n",
       "      <td>522.06</td>\n",
       "    </tr>\n",
       "    <tr>\n",
       "      <th>1994-01-01</th>\n",
       "      <td>567.64</td>\n",
       "    </tr>\n",
       "    <tr>\n",
       "      <th>1995-01-01</th>\n",
       "      <td>547.38</td>\n",
       "    </tr>\n",
       "    <tr>\n",
       "      <th>1996-01-01</th>\n",
       "      <td>526.28</td>\n",
       "    </tr>\n",
       "    <tr>\n",
       "      <th>1997-01-01</th>\n",
       "      <td>508.09</td>\n",
       "    </tr>\n",
       "    <tr>\n",
       "      <th>1998-01-01</th>\n",
       "      <td>474.74</td>\n",
       "    </tr>\n",
       "  </tbody>\n",
       "</table>\n",
       "</div>"
      ],
      "text/plain": [
       "            sucid_in_hundredk\n",
       "year                         \n",
       "1989-01-01             398.82\n",
       "1990-01-01             399.17\n",
       "1991-01-01             396.40\n",
       "1992-01-01             437.48\n",
       "1993-01-01             522.06\n",
       "1994-01-01             567.64\n",
       "1995-01-01             547.38\n",
       "1996-01-01             526.28\n",
       "1997-01-01             508.09\n",
       "1998-01-01             474.74"
      ]
     },
     "execution_count": 90,
     "metadata": {},
     "output_type": "execute_result"
    }
   ],
   "source": [
    "# adding all deaths together and group by year\n",
    "russia = russia.groupby(['year'])['sucid_in_hundredk'].transform('sum')\n",
    "# russia = russia.reset_index().drop_duplicates()\n",
    "russia = pd.Series.to_frame(russia)\n",
    "\n",
    "# russia['year'] = pd.to_datetime(russia['year'], format='%Y00%').apply(lambda x: x.strftime('%Y'))\n",
    "russia['year'] = list(russia.index)\n",
    "russia = russia.drop_duplicates()\n",
    "russia = russia.drop(labels='year', axis=1)\n",
    "russia.head(10)"
   ]
  },
  {
   "cell_type": "code",
   "execution_count": null,
   "id": "7a2290b5",
   "metadata": {},
   "outputs": [],
   "source": []
  },
  {
   "cell_type": "code",
   "execution_count": 91,
   "id": "9c87b35e",
   "metadata": {},
   "outputs": [
    {
     "name": "stdout",
     "output_type": "stream",
     "text": [
      "<class 'pandas.core.frame.DataFrame'>\n",
      "DatetimeIndex: 27 entries, 1989-01-01 to 2015-01-01\n",
      "Data columns (total 1 columns):\n",
      " #   Column             Non-Null Count  Dtype  \n",
      "---  ------             --------------  -----  \n",
      " 0   sucid_in_hundredk  27 non-null     float64\n",
      "dtypes: float64(1)\n",
      "memory usage: 432.0 bytes\n"
     ]
    }
   ],
   "source": [
    "russia.info()"
   ]
  },
  {
   "cell_type": "code",
   "execution_count": 92,
   "id": "3ac07c1b",
   "metadata": {
    "scrolled": true
   },
   "outputs": [
    {
     "data": {
      "image/png": "[encoded data removed]",
      "text/plain": [
       "<Figure size 432x288 with 1 Axes>"
      ]
     },
     "metadata": {
      "needs_background": "light"
     },
     "output_type": "display_data"
    }
   ],
   "source": [
    "fig, ax = plt.subplots()\n",
    "russia.plot(ax=ax)\n",
    "plt.show()\n"
   ]
  },
  {
   "cell_type": "code",
   "execution_count": 93,
   "id": "b8e27369",
   "metadata": {
    "scrolled": true
   },
   "outputs": [
    {
     "data": {
      "image/png": "[encoded data removed]",
      "text/plain": [
       "<Figure size 432x288 with 1 Axes>"
      ]
     },
     "metadata": {
      "needs_background": "light"
     },
     "output_type": "display_data"
    }
   ],
   "source": [
    "# Split the data into a train and test set\n",
    "russia_train = russia.loc[:'1995']\n",
    "russia_test = russia.loc[:'1996']\n",
    "\n",
    "# Create an axis\n",
    "fig, ax = plt.subplots()\n",
    "\n",
    "# Plot the train and test sets on the axis ax\n",
    "russia_train.plot(ax=ax)\n",
    "russia_test.plot(ax=ax)\n",
    "plt.show()"
   ]
  },
  {
   "cell_type": "markdown",
   "id": "29cb7941",
   "metadata": {},
   "source": [
    "### Dicky-Fuller test"
   ]
  },
  {
   "cell_type": "markdown",
   "id": "d273938f",
   "metadata": {},
   "source": [
    "Null Hypothesis H0 : The dataset is non-stationary \n",
    "Alternate Hypothesis : Dataset is stationary"
   ]
  },
  {
   "cell_type": "code",
   "execution_count": 94,
   "id": "f1391f19",
   "metadata": {
    "scrolled": true
   },
   "outputs": [
    {
     "name": "stdout",
     "output_type": "stream",
     "text": [
      "(-2.933060207158041, 0.041636407034927256, 9, 17, {'1%': -3.889265672705068, '5%': -3.0543579727254224, '10%': -2.66698384083045}, 121.99279695919809)\n"
     ]
    }
   ],
   "source": [
    "# test for testing non-stationrary using dicky fuller test using stat models\n",
    "from statsmodels.tsa.stattools import adfuller\n",
    "results = adfuller(russia['sucid_in_hundredk'])\n",
    "print(results)"
   ]
  },
  {
   "cell_type": "markdown",
   "id": "1293b685",
   "metadata": {},
   "source": [
    "##### Interpretation\n",
    "\n",
    "Above result is a tuple.\n",
    "Zeroth Elemenet is test statisctic in this case -2.9330, the more the number is negative more the data is stationary\n",
    "Next element is the P value, here it's 0.0416 \n",
    "\n",
    "If P value is less than 0.05 we reject the null hypothesis.\n",
    "We assume that our time series is not non-stationary\n",
    "\n",
    "In this case, we reject the null hypothesis. so we can say our time series is <b>stationary</b>.\n",
    "\n",
    "\n",
    "last item in the tuple is a dictionary, this stores the critical values of the test, which creates different p values. in this case if you want the p value 0.05 or less, test statistics needed to be below -2.91. \n",
    "\n",
    "<p style=\"background-color:green;\">Now we need to make it stationary by using </p>"
   ]
  },
  {
   "cell_type": "code",
   "execution_count": 95,
   "id": "2a5ed396",
   "metadata": {
    "scrolled": true
   },
   "outputs": [],
   "source": [
    "# Making Time Series by taking the difference.\n",
    "# rsa_stationary = russia.diff()\n",
    "# rsa_stationary.dropna()      # removing the na value from the first row\n",
    "\n",
    "# fig, ax = plt.subplots()\n",
    "# rsa_stationary.plot(ax=ax)\n",
    "# plt.show()"
   ]
  },
  {
   "cell_type": "markdown",
   "id": "697223e1",
   "metadata": {},
   "source": [
    "Even though we can use different methods to make the data stationary. I have successfully used \"taking the difference\" methods, now the data looks stationary."
   ]
  },
  {
   "cell_type": "markdown",
   "id": "dcf189e6",
   "metadata": {},
   "source": [
    "### AR and MA Models"
   ]
  },
  {
   "cell_type": "code",
   "execution_count": 96,
   "id": "c05aa4b4",
   "metadata": {},
   "outputs": [],
   "source": [
    "from statsmodels.tsa.arima_process import arma_generate_sample\n",
    "ar_coefs = [1,-0.5]\n",
    "ma_coefs =  [1, 0.2]"
   ]
  },
  {
   "cell_type": "markdown",
   "id": "986fe95b",
   "metadata": {},
   "source": [
    "we always set lag 0 coefficiant as 1 for both lag 1 -0.5 and 0.2 accordingly"
   ]
  },
  {
   "cell_type": "code",
   "execution_count": 97,
   "id": "53d1069d",
   "metadata": {},
   "outputs": [],
   "source": [
    "y = arma_generate_sample(ar_coefs,ma_coefs, nsample=1000, scale=0.5)"
   ]
  },
  {
   "cell_type": "code",
   "execution_count": 98,
   "id": "23fd92ef",
   "metadata": {},
   "outputs": [
    {
     "name": "stdout",
     "output_type": "stream",
     "text": [
      "                              ARMA Model Results                              \n",
      "==============================================================================\n",
      "Dep. Variable:                      y   No. Observations:                 1000\n",
      "Model:                     ARMA(2, 0)   Log Likelihood                -760.717\n",
      "Method:                       css-mle   S.D. of innovations              0.518\n",
      "Date:                Thu, 02 Jun 2022   AIC                           1529.434\n",
      "Time:                        09:18:45   BIC                           1549.065\n",
      "Sample:                             0   HQIC                          1536.895\n",
      "                                                                              \n",
      "==============================================================================\n",
      "                 coef    std err          z      P>|z|      [0.025      0.975]\n",
      "------------------------------------------------------------------------------\n",
      "const         -0.0188      0.043     -0.441      0.659      -0.102       0.065\n",
      "ar.L1.y        0.7004      0.032     22.193      0.000       0.638       0.762\n",
      "ar.L2.y       -0.0838      0.032     -2.655      0.008      -0.146      -0.022\n",
      "                                    Roots                                    \n",
      "=============================================================================\n",
      "                  Real          Imaginary           Modulus         Frequency\n",
      "-----------------------------------------------------------------------------\n",
      "AR.1            1.8279           +0.0000j            1.8279            0.0000\n",
      "AR.2            6.5247           +0.0000j            6.5247            0.0000\n",
      "-----------------------------------------------------------------------------\n"
     ]
    }
   ],
   "source": [
    "# Import the ARMA model\n",
    "from statsmodels.tsa.arima_model import ARMA\n",
    "import warnings\n",
    "warnings.filterwarnings('ignore')\n",
    "\n",
    "# Instantiate the model\n",
    "model = ARMA(y, order=(2,0))\n",
    "\n",
    "# Fit the model\n",
    "results = model.fit()\n",
    "\n",
    "# Print summary\n",
    "print(results.summary())"
   ]
  },
  {
   "cell_type": "markdown",
   "id": "942f9906",
   "metadata": {},
   "source": [
    "### ARMAX Model"
   ]
  },
  {
   "cell_type": "code",
   "execution_count": 99,
   "id": "4508920c",
   "metadata": {},
   "outputs": [
    {
     "name": "stdout",
     "output_type": "stream",
     "text": [
      "                              ARMA Model Results                              \n",
      "==============================================================================\n",
      "Dep. Variable:      sucid_in_hundredk   No. Observations:                13276\n",
      "Model:                     ARMA(2, 1)   Log Likelihood              -55569.208\n",
      "Method:                       css-mle   S.D. of innovations             15.907\n",
      "Date:                Thu, 02 Jun 2022   AIC                         111150.415\n",
      "Time:                        09:19:11   BIC                         111195.377\n",
      "Sample:                             0   HQIC                        111165.423\n",
      "                                                                              \n",
      "===========================================================================================\n",
      "                              coef    std err          z      P>|z|      [0.025      0.975]\n",
      "-------------------------------------------------------------------------------------------\n",
      "const                      15.2122      0.389     39.147      0.000      14.451      15.974\n",
      "unemployment               -0.1537      0.047     -3.251      0.001      -0.246      -0.061\n",
      "ar.L1.sucid_in_hundredk     0.0869      0.111      0.780      0.436      -0.131       0.305\n",
      "ar.L2.sucid_in_hundredk     0.2345      0.054      4.338      0.000       0.129       0.340\n",
      "ma.L1.sucid_in_hundredk     0.3884      0.112      3.456      0.001       0.168       0.609\n",
      "                                    Roots                                    \n",
      "=============================================================================\n",
      "                  Real          Imaginary           Modulus         Frequency\n",
      "-----------------------------------------------------------------------------\n",
      "AR.1            1.8882           +0.0000j            1.8882            0.0000\n",
      "AR.2           -2.2586           +0.0000j            2.2586            0.5000\n",
      "MA.1           -2.5748           +0.0000j            2.5748            0.5000\n",
      "-----------------------------------------------------------------------------\n"
     ]
    }
   ],
   "source": [
    "# Instantiate the model\n",
    "model = ARMA(df[ 'sucid_in_hundredk'], order=(2,1), exog=df['unemployment'])\n",
    "# Fit the model\n",
    "results = model.fit()\n",
    "\n",
    "print(results.summary())"
   ]
  },
  {
   "cell_type": "markdown",
   "id": "f2828310",
   "metadata": {},
   "source": [
    "We have fitted the models above. now we need to make predictions"
   ]
  },
  {
   "cell_type": "markdown",
   "id": "aa2af7f0",
   "metadata": {},
   "source": [
    "One Step Ahead Predictions"
   ]
  },
  {
   "cell_type": "markdown",
   "id": "1e05ab96",
   "metadata": {},
   "source": [
    "### Statmodels using SARIMAX class (One Step Prediction)"
   ]
  },
  {
   "cell_type": "markdown",
   "id": "70e42c1f",
   "metadata": {},
   "source": [
    "For ex AR1 Model : At any point in the time series, we can estimate the next series value, by multiplying the previous value by the lag1 AR coefficient.\n",
    "\n",
    "Predicting next series using the previous series value is called as one step prediction. This allows us to evaluate how good our model is."
   ]
  },
  {
   "cell_type": "code",
   "execution_count": 100,
   "id": "1ecb8e2d",
   "metadata": {},
   "outputs": [
    {
     "data": {
      "text/html": [
       "<div>\n",
       "<style scoped>\n",
       "    .dataframe tbody tr th:only-of-type {\n",
       "        vertical-align: middle;\n",
       "    }\n",
       "\n",
       "    .dataframe tbody tr th {\n",
       "        vertical-align: top;\n",
       "    }\n",
       "\n",
       "    .dataframe thead th {\n",
       "        text-align: right;\n",
       "    }\n",
       "</style>\n",
       "<table border=\"1\" class=\"dataframe\">\n",
       "  <thead>\n",
       "    <tr style=\"text-align: right;\">\n",
       "      <th></th>\n",
       "      <th>sucid_in_hundredk</th>\n",
       "    </tr>\n",
       "    <tr>\n",
       "      <th>year</th>\n",
       "      <th></th>\n",
       "    </tr>\n",
       "  </thead>\n",
       "  <tbody>\n",
       "    <tr>\n",
       "      <th>2011-01-01</th>\n",
       "      <td>299.68</td>\n",
       "    </tr>\n",
       "    <tr>\n",
       "      <th>2012-01-01</th>\n",
       "      <td>285.51</td>\n",
       "    </tr>\n",
       "    <tr>\n",
       "      <th>2013-01-01</th>\n",
       "      <td>273.97</td>\n",
       "    </tr>\n",
       "    <tr>\n",
       "      <th>2014-01-01</th>\n",
       "      <td>259.22</td>\n",
       "    </tr>\n",
       "    <tr>\n",
       "      <th>2015-01-01</th>\n",
       "      <td>236.92</td>\n",
       "    </tr>\n",
       "  </tbody>\n",
       "</table>\n",
       "</div>"
      ],
      "text/plain": [
       "            sucid_in_hundredk\n",
       "year                         \n",
       "2011-01-01             299.68\n",
       "2012-01-01             285.51\n",
       "2013-01-01             273.97\n",
       "2014-01-01             259.22\n",
       "2015-01-01             236.92"
      ]
     },
     "execution_count": 100,
     "metadata": {},
     "output_type": "execute_result"
    }
   ],
   "source": [
    "russia.tail()"
   ]
  },
  {
   "cell_type": "code",
   "execution_count": 101,
   "id": "24688307",
   "metadata": {},
   "outputs": [
    {
     "name": "stdout",
     "output_type": "stream",
     "text": [
      "2006-01-01    403.158763\n",
      "2007-01-01    390.619168\n",
      "Freq: AS-JAN, Name: predicted_mean, dtype: float64\n"
     ]
    }
   ],
   "source": [
    "from statsmodels.tsa. statespace.sarimax import SARIMAX\n",
    "\n",
    "# An ARMA(p, q) + constant model\n",
    "model = SARIMAX(russia, order=(2,0, 1), trend='c')\n",
    "\n",
    "# Make predictions for last 30 values\n",
    "results = model.fit()\n",
    "\n",
    "# Generate predictions\n",
    "one_step_forecast = results.get_prediction(start=-10)\n",
    "\n",
    "# Extract prediction mean\n",
    "mean_forecast = one_step_forecast.predicted_mean\n",
    "\n",
    "print(mean_forecast.head(2))"
   ]
  },
  {
   "cell_type": "markdown",
   "id": "2dabedc9",
   "metadata": {},
   "source": [
    "Here I am making predictions based on last 30 entries of the training data.\n",
    "\n",
    "In above case, center value of the forecast is stored in predicted_mean\n",
    "\n",
    "This model can do everything a ARIMA model and can be extended further. p,0,q sarimax model is exact same arima pq model. we can also add a constant to the model using trend = c."
   ]
  },
  {
   "cell_type": "code",
   "execution_count": 102,
   "id": "26cd8b13",
   "metadata": {},
   "outputs": [
    {
     "name": "stdout",
     "output_type": "stream",
     "text": [
      "            lower sucid_in_hundredk  upper sucid_in_hundredk\n",
      "2006-01-01               359.449680               446.867846\n",
      "2007-01-01               346.910085               434.328251\n"
     ]
    }
   ],
   "source": [
    "# Get confidence intervals of predictions\n",
    "confidence_intervals = one_step_forecast.conf_int()\n",
    "\n",
    "print(confidence_intervals.head(2))"
   ]
  },
  {
   "cell_type": "code",
   "execution_count": 103,
   "id": "6e2eb14d",
   "metadata": {},
   "outputs": [
    {
     "data": {
      "text/plain": [
       "<matplotlib.legend.Legend at 0x212825f4d60>"
      ]
     },
     "execution_count": 103,
     "metadata": {},
     "output_type": "execute_result"
    },
    {
     "data": {
      "image/png": "[encoded data removed]",
      "text/plain": [
       "<Figure size 432x288 with 1 Axes>"
      ]
     },
     "metadata": {
      "needs_background": "light"
     },
     "output_type": "display_data"
    }
   ],
   "source": [
    "# Select lower and upper confidence limits\n",
    "lower_limits = confidence_intervals.loc[:,'lower sucid_in_hundredk']\n",
    "upper_limits = confidence_intervals.loc[:,'upper sucid_in_hundredk']\n",
    "\n",
    "# Print best estimate predictions\n",
    "# print(mean_forecast)\n",
    "\n",
    "plt.figure()\n",
    "\n",
    "plt.plot(russia.index, russia ,label='observed')\n",
    "# Plot prediction\n",
    "plt.plot(mean_forecast.index, mean_forecast,color='r' ,label='forecast')\n",
    "# Shade uncertainty area\n",
    "plt.fill_between(lower_limits.index, lower_limits, upper_limits, color='pink')\n",
    "\n",
    "# set labels, legends and show plot\n",
    "plt.xlabel('Date')\n",
    "plt.ylabel('Suicide in 100k')\n",
    "plt.legend()"
   ]
  },
  {
   "cell_type": "markdown",
   "id": "0b54ce4a",
   "metadata": {},
   "source": [
    "##### Confidence intervals"
   ]
  },
  {
   "cell_type": "code",
   "execution_count": 104,
   "id": "8ff3d9aa",
   "metadata": {},
   "outputs": [
    {
     "data": {
      "text/html": [
       "<div>\n",
       "<style scoped>\n",
       "    .dataframe tbody tr th:only-of-type {\n",
       "        vertical-align: middle;\n",
       "    }\n",
       "\n",
       "    .dataframe tbody tr th {\n",
       "        vertical-align: top;\n",
       "    }\n",
       "\n",
       "    .dataframe thead th {\n",
       "        text-align: right;\n",
       "    }\n",
       "</style>\n",
       "<table border=\"1\" class=\"dataframe\">\n",
       "  <thead>\n",
       "    <tr style=\"text-align: right;\">\n",
       "      <th></th>\n",
       "      <th>lower sucid_in_hundredk</th>\n",
       "      <th>upper sucid_in_hundredk</th>\n",
       "    </tr>\n",
       "  </thead>\n",
       "  <tbody>\n",
       "    <tr>\n",
       "      <th>2006-01-01</th>\n",
       "      <td>359.449680</td>\n",
       "      <td>446.867846</td>\n",
       "    </tr>\n",
       "    <tr>\n",
       "      <th>2007-01-01</th>\n",
       "      <td>346.910085</td>\n",
       "      <td>434.328251</td>\n",
       "    </tr>\n",
       "    <tr>\n",
       "      <th>2008-01-01</th>\n",
       "      <td>335.342621</td>\n",
       "      <td>422.760787</td>\n",
       "    </tr>\n",
       "    <tr>\n",
       "      <th>2009-01-01</th>\n",
       "      <td>312.275822</td>\n",
       "      <td>399.693989</td>\n",
       "    </tr>\n",
       "    <tr>\n",
       "      <th>2010-01-01</th>\n",
       "      <td>303.324566</td>\n",
       "      <td>390.742732</td>\n",
       "    </tr>\n",
       "    <tr>\n",
       "      <th>2011-01-01</th>\n",
       "      <td>258.819821</td>\n",
       "      <td>346.237987</td>\n",
       "    </tr>\n",
       "    <tr>\n",
       "      <th>2012-01-01</th>\n",
       "      <td>250.711147</td>\n",
       "      <td>338.129313</td>\n",
       "    </tr>\n",
       "    <tr>\n",
       "      <th>2013-01-01</th>\n",
       "      <td>238.948025</td>\n",
       "      <td>326.366191</td>\n",
       "    </tr>\n",
       "    <tr>\n",
       "      <th>2014-01-01</th>\n",
       "      <td>229.329918</td>\n",
       "      <td>316.748084</td>\n",
       "    </tr>\n",
       "    <tr>\n",
       "      <th>2015-01-01</th>\n",
       "      <td>213.156589</td>\n",
       "      <td>300.574755</td>\n",
       "    </tr>\n",
       "  </tbody>\n",
       "</table>\n",
       "</div>"
      ],
      "text/plain": [
       "            lower sucid_in_hundredk  upper sucid_in_hundredk\n",
       "2006-01-01               359.449680               446.867846\n",
       "2007-01-01               346.910085               434.328251\n",
       "2008-01-01               335.342621               422.760787\n",
       "2009-01-01               312.275822               399.693989\n",
       "2010-01-01               303.324566               390.742732\n",
       "2011-01-01               258.819821               346.237987\n",
       "2012-01-01               250.711147               338.129313\n",
       "2013-01-01               238.948025               326.366191\n",
       "2014-01-01               229.329918               316.748084\n",
       "2015-01-01               213.156589               300.574755"
      ]
     },
     "execution_count": 104,
     "metadata": {},
     "output_type": "execute_result"
    }
   ],
   "source": [
    "confidence_intervals = one_step_forecast.conf_int()\n",
    "confidence_intervals.head(10)"
   ]
  },
  {
   "cell_type": "markdown",
   "id": "696f11e1",
   "metadata": {},
   "source": [
    "Above dataframe shows the lower and upper uncertainity range of our prediction"
   ]
  },
  {
   "cell_type": "markdown",
   "id": "cc0a3e16",
   "metadata": {},
   "source": [
    "Reconstructing original time series after diffrencing"
   ]
  },
  {
   "cell_type": "code",
   "execution_count": 105,
   "id": "fa30c80c",
   "metadata": {},
   "outputs": [
    {
     "data": {
      "text/plain": [
       "2016-01-01    231.398481\n",
       "2017-01-01    468.412358\n",
       "Freq: AS-JAN, Name: predicted_mean, dtype: float64"
      ]
     },
     "execution_count": 105,
     "metadata": {},
     "output_type": "execute_result"
    }
   ],
   "source": [
    "diff_forecast = results.get_forecast(steps=10).predicted_mean\n",
    "from numpy import cumsum\n",
    "mean_forecast = cumsum(diff_forecast)\n",
    "\n",
    "mean_forecast.head(2)"
   ]
  },
  {
   "cell_type": "markdown",
   "id": "52ab43cb",
   "metadata": {},
   "source": [
    "##### Identifying the correct order by ACF and PCF (When both the order p and q are no-zero)"
   ]
  },
  {
   "cell_type": "code",
   "execution_count": 106,
   "id": "dcd87fb9",
   "metadata": {},
   "outputs": [],
   "source": [
    "# Create model\n",
    "model = SARIMAX(russia, order=(2,1,1))\n",
    "#Fit model\n",
    "model.fit()\n",
    "# Make forecast\n",
    "mean_forecast = results.get_forecast(steps=10).predicted_mean"
   ]
  },
  {
   "cell_type": "code",
   "execution_count": 107,
   "id": "fd29ffdf",
   "metadata": {},
   "outputs": [
    {
     "data": {
      "image/png": "[encoded data removed]",
      "text/plain": [
       "<Figure size 576x576 with 2 Axes>"
      ]
     },
     "metadata": {
      "needs_background": "light"
     },
     "output_type": "display_data"
    }
   ],
   "source": [
    "from statsmodels.graphics.tsaplots import plot_acf, plot_pacf\n",
    "# Create figure\n",
    "fig, (ax1, ax2) = plt.subplots (2,1,figsize=(8,8))\n",
    "# Make ACF plot\n",
    "plot_acf(russia,lags=10, zero=False, ax=ax1)\n",
    "# Make PACF plot\n",
    "plot_pacf(russia, lags=10, zero=False, ax=ax2)\n",
    "\n",
    "plt.show()"
   ]
  },
  {
   "cell_type": "markdown",
   "id": "de947bf4",
   "metadata": {},
   "source": [
    "In the above ACF and PACF, we can see ACF cuts of and PACF tails off since we have a MA(q) model. So this is a AR(1) Model"
   ]
  },
  {
   "cell_type": "code",
   "execution_count": 108,
   "id": "3d39ec24",
   "metadata": {},
   "outputs": [
    {
     "name": "stdout",
     "output_type": "stream",
     "text": [
      "                               SARIMAX Results                                \n",
      "==============================================================================\n",
      "Dep. Variable:      sucid_in_hundredk   No. Observations:                   27\n",
      "Model:               SARIMAX(1, 0, 0)   Log Likelihood                -130.540\n",
      "Date:                Thu, 02 Jun 2022   AIC                            265.081\n",
      "Time:                        09:19:15   BIC                            267.672\n",
      "Sample:                    01-01-1989   HQIC                           265.851\n",
      "                         - 01-01-2015                                         \n",
      "Covariance Type:                  opg                                         \n",
      "==============================================================================\n",
      "                 coef    std err          z      P>|z|      [0.025      0.975]\n",
      "------------------------------------------------------------------------------\n",
      "ar.L1          0.9966      0.013     75.401      0.000       0.971       1.023\n",
      "sigma2       770.2028    213.583      3.606      0.000     351.587    1188.818\n",
      "===================================================================================\n",
      "Ljung-Box (L1) (Q):                   7.84   Jarque-Bera (JB):                18.72\n",
      "Prob(Q):                              0.01   Prob(JB):                         0.00\n",
      "Heteroskedasticity (H):               0.22   Skew:                             1.70\n",
      "Prob(H) (two-sided):                  0.04   Kurtosis:                         5.25\n",
      "===================================================================================\n",
      "\n",
      "Warnings:\n",
      "[1] Covariance matrix calculated using the outer product of gradients (complex-step).\n"
     ]
    }
   ],
   "source": [
    "# Instantiate model\n",
    "model = SARIMAX(russia, order =(1,0,0))\n",
    "\n",
    "# Train model\n",
    "results = model.fit()\n",
    "\n",
    "print(results.summary())"
   ]
  },
  {
   "cell_type": "markdown",
   "id": "53d8526d",
   "metadata": {},
   "source": [
    "### Checking how good the model is using AIC and BIC"
   ]
  },
  {
   "cell_type": "markdown",
   "id": "96d34990",
   "metadata": {},
   "source": [
    "Lower AIC Score means : better predicting model\n",
    "If the Corder is set too high result in high AIC value, this stops us overfitting to the training data\n",
    "\n",
    "BIC is similar to AIC, lower BIC indicates bettr model. BIC likes to choose simple model with lower order.\n",
    "\n",
    "AIC is better at predictive models but BIC is choosing a good explanatory model"
   ]
  },
  {
   "cell_type": "code",
   "execution_count": 109,
   "id": "808eeeaf",
   "metadata": {},
   "outputs": [
    {
     "name": "stdout",
     "output_type": "stream",
     "text": [
      "AIC: 265.08062995025256\n",
      "BIC: 267.6723036822612\n"
     ]
    }
   ],
   "source": [
    "print('AIC:', results.aic)\n",
    "print('BIC:', results.bic)"
   ]
  },
  {
   "cell_type": "code",
   "execution_count": 110,
   "id": "5e68339b",
   "metadata": {},
   "outputs": [
    {
     "name": "stdout",
     "output_type": "stream",
     "text": [
      "   p  q         aic         bic\n",
      "6  2  0  257.636235  261.523745\n",
      "4  1  1  258.741803  262.629313\n",
      "7  2  1  259.240081  264.423429\n",
      "5  1  2  259.328569  264.511917\n",
      "8  2  2  261.117869  267.597053\n",
      "3  1  0  265.080630  267.672304\n",
      "2  0  2  354.969284  358.856794\n",
      "1  0  1  374.725759  377.317433\n",
      "0  0  0  405.936560  407.232397\n"
     ]
    }
   ],
   "source": [
    "order_aic_bic =[]\n",
    "# Loop over AR order\n",
    "for p in range(3):\n",
    "    # Loop over MA order\n",
    "    for q in range(3):\n",
    "        # Fit model\n",
    "        model = SARIMAX(russia, order=(p,0,q))\n",
    "        results = model.fit()\n",
    "        # Add order and scores to list\n",
    "        order_aic_bic.append((p, q, results.aic, results.bic))\n",
    "\n",
    "# Make DataFrame of model order and AIC/BIC scores\n",
    "order_df = pd.DataFrame(order_aic_bic, columns=['p','q','aic','bic'])\n",
    "\n",
    "# Sort by AIC\n",
    "print(order_df.sort_values('aic'))"
   ]
  },
  {
   "cell_type": "code",
   "execution_count": 111,
   "id": "be2d59df",
   "metadata": {},
   "outputs": [
    {
     "name": "stdout",
     "output_type": "stream",
     "text": [
      "   p  q         aic         bic\n",
      "6  2  0  257.636235  261.523745\n",
      "4  1  1  258.741803  262.629313\n",
      "7  2  1  259.240081  264.423429\n",
      "5  1  2  259.328569  264.511917\n",
      "8  2  2  261.117869  267.597053\n",
      "3  1  0  265.080630  267.672304\n",
      "2  0  2  354.969284  358.856794\n",
      "1  0  1  374.725759  377.317433\n",
      "0  0  0  405.936560  407.232397\n"
     ]
    }
   ],
   "source": [
    "# Sort by BIC\n",
    "print(order_df.sort_values('bic'))"
   ]
  },
  {
   "cell_type": "markdown",
   "id": "5639aca9",
   "metadata": {},
   "source": [
    "Here I am looking at a better predicting model so, I will be choosing AIC with a least score. This is a arma(2,0) Model"
   ]
  },
  {
   "cell_type": "code",
   "execution_count": 112,
   "id": "cbf3eb15",
   "metadata": {},
   "outputs": [
    {
     "name": "stdout",
     "output_type": "stream",
     "text": [
      "                               SARIMAX Results                                \n",
      "==============================================================================\n",
      "Dep. Variable:      sucid_in_hundredk   No. Observations:                   27\n",
      "Model:               SARIMAX(2, 0, 0)   Log Likelihood                -125.818\n",
      "Date:                Thu, 02 Jun 2022   AIC                            257.636\n",
      "Time:                        09:19:16   BIC                            261.524\n",
      "Sample:                    01-01-1989   HQIC                           258.792\n",
      "                         - 01-01-2015                                         \n",
      "Covariance Type:                  opg                                         \n",
      "==============================================================================\n",
      "                 coef    std err          z      P>|z|      [0.025      0.975]\n",
      "------------------------------------------------------------------------------\n",
      "ar.L1          1.5406      0.139     11.108      0.000       1.269       1.812\n",
      "ar.L2         -0.5455      0.142     -3.832      0.000      -0.824      -0.266\n",
      "sigma2       527.5828    135.173      3.903      0.000     262.648     792.518\n",
      "===================================================================================\n",
      "Ljung-Box (L1) (Q):                   0.21   Jarque-Bera (JB):                11.52\n",
      "Prob(Q):                              0.65   Prob(JB):                         0.00\n",
      "Heteroskedasticity (H):               0.11   Skew:                             1.33\n",
      "Prob(H) (two-sided):                  0.00   Kurtosis:                         4.77\n",
      "===================================================================================\n",
      "\n",
      "Warnings:\n",
      "[1] Covariance matrix calculated using the outer product of gradients (complex-step).\n"
     ]
    }
   ],
   "source": [
    "# Fit model\n",
    "model = SARIMAX(russia, order=(2,0,0))\n",
    "results = model.fit()\n",
    "print(results.summary())"
   ]
  },
  {
   "cell_type": "markdown",
   "id": "231e2fab",
   "metadata": {},
   "source": [
    "### Model Diagrnostic"
   ]
  },
  {
   "cell_type": "code",
   "execution_count": 113,
   "id": "bde10fc1",
   "metadata": {},
   "outputs": [
    {
     "name": "stdout",
     "output_type": "stream",
     "text": [
      "year\n",
      "1989-01-01    398.820000\n",
      "1990-01-01      1.634802\n",
      "1991-01-01     -0.965693\n",
      "1992-01-01     44.586545\n",
      "1993-01-01     61.287759\n",
      "1994-01-01     -0.364945\n",
      "1995-01-01    -36.427954\n",
      "1996-01-01      0.460197\n",
      "1997-01-01     -4.636721\n",
      "1998-01-01    -23.668940\n",
      "1999-01-01     56.105102\n",
      "2000-01-01    -28.065667\n",
      "2001-01-01      7.440710\n",
      "2002-01-01    -11.827265\n",
      "2003-01-01     -9.057790\n",
      "2004-01-01     -8.384648\n",
      "2005-01-01    -14.639836\n",
      "2006-01-01     -2.918558\n",
      "2007-01-01     -3.763103\n",
      "2008-01-01    -12.192799\n",
      "2009-01-01     -1.556937\n",
      "2010-01-01    -25.469968\n",
      "2011-01-01      0.463048\n",
      "2012-01-01     -3.916526\n",
      "2013-01-01     -4.624165\n",
      "2014-01-01     -7.801720\n",
      "2015-01-01    -13.407140\n",
      "dtype: float64\n"
     ]
    }
   ],
   "source": [
    "#How good the final Model ?\n",
    "\n",
    "# Fit model\n",
    "model = SARIMAX(russia, order=(p,0,q))\n",
    "results = model.fit()\n",
    "# Assign residuals to variable\n",
    "residuals = results.resid\n",
    "\n",
    "print(residuals)\n"
   ]
  },
  {
   "cell_type": "markdown",
   "id": "8693935c",
   "metadata": {},
   "source": [
    "Mean abosolute error of the residuals is used to calculate how accurate our model is. How large our residuals are and how far our predictions are from the actual values."
   ]
  },
  {
   "cell_type": "code",
   "execution_count": 114,
   "id": "72aa11f3",
   "metadata": {},
   "outputs": [
    {
     "name": "stdout",
     "output_type": "stream",
     "text": [
      "Mean Absolute Error is 29.055130963356966\n"
     ]
    }
   ],
   "source": [
    "mae = np.mean(np.abs(residuals))\n",
    "print('Mean Absolute Error is', mae)"
   ]
  },
  {
   "cell_type": "code",
   "execution_count": 120,
   "id": "b842402e",
   "metadata": {},
   "outputs": [
    {
     "data": {
      "image/png": "[encoded data removed]",
      "text/plain": [
       "<Figure size 432x288 with 1 Axes>"
      ]
     },
     "metadata": {
      "needs_background": "light"
     },
     "output_type": "display_data"
    }
   ],
   "source": [
    "# Make plot of time series for comparison\n",
    "russia.plot()\n",
    "plt.show()"
   ]
  },
  {
   "cell_type": "markdown",
   "id": "e73a1a13",
   "metadata": {},
   "source": [
    "If the model fits well, then residuals will be white\n",
    "Gaussian noise"
   ]
  },
  {
   "cell_type": "code",
   "execution_count": 115,
   "id": "24fa2f33",
   "metadata": {},
   "outputs": [
    {
     "data": {
      "image/png": "[encoded data removed]",
      "text/plain": [
       "<Figure size 432x288 with 4 Axes>"
      ]
     },
     "metadata": {
      "needs_background": "light"
     },
     "output_type": "display_data"
    }
   ],
   "source": [
    "# russia.index.duplicated()\n",
    "# Create the 4 diagostics plots\n",
    "results.plot_diagnostics()\n",
    "plt.show()"
   ]
  },
  {
   "cell_type": "markdown",
   "id": "7a4695e5",
   "metadata": {},
   "source": [
    "Looking at the plots I can say there is no pattern in the stardized model. \n",
    "Looking at the Histogram there is no gaussian distribution(green and red line should be almost the same for gaussian)\n",
    "The QQ Plot seems to be not normally distributed, if it is normally distributed all the blue dots will be aligned over the line(except some values in the either end)\n",
    "\n",
    "Last one is correlogram just an ACF Plot.\n",
    "\n",
    "As per the summery Statistics.\n",
    "\n",
    "Prob(Q) - p-value for null hypothesis that residuals are uncorrelated\n",
    "Prob(JB) - p-value for null hypothesis that residuals are normal\n",
    "\n",
    "either p value less than 0.05 we reject the null hypothesis. \n",
    "\n",
    "As per the test statistics we have in our time series, p value are higher than 0.05, so we fail to reject the null hypothesis."
   ]
  },
  {
   "cell_type": "markdown",
   "id": "8d5d1600",
   "metadata": {},
   "source": [
    "#### Box Jenkins Method"
   ]
  },
  {
   "cell_type": "code",
   "execution_count": 123,
   "id": "6d3ed081",
   "metadata": {},
   "outputs": [
    {
     "data": {
      "image/png": "[encoded data removed]",
      "text/plain": [
       "<Figure size 432x288 with 1 Axes>"
      ]
     },
     "metadata": {
      "needs_background": "light"
     },
     "output_type": "display_data"
    },
    {
     "name": "stdout",
     "output_type": "stream",
     "text": [
      "-2.933060207158041\n",
      "0.041636407034927256\n"
     ]
    }
   ],
   "source": [
    "# Plot time series\n",
    "russia.plot()\n",
    "plt.show()\n",
    "\n",
    "# Run Dicky-Fuller test\n",
    "result = adfuller(russia['sucid_in_hundredk'])\n",
    "\n",
    "# Print test statistic\n",
    "print(result[0])\n",
    "\n",
    "# Print p-value\n",
    "print(result[1])"
   ]
  },
  {
   "cell_type": "markdown",
   "id": "61f764e7",
   "metadata": {},
   "source": [
    "### Automation using PMD Arima Package"
   ]
  },
  {
   "cell_type": "code",
   "execution_count": 124,
   "id": "d90e5a4c",
   "metadata": {},
   "outputs": [
    {
     "name": "stdout",
     "output_type": "stream",
     "text": [
      "                               SARIMAX Results                                \n",
      "==============================================================================\n",
      "Dep. Variable:                      y   No. Observations:                   27\n",
      "Model:               SARIMAX(1, 1, 0)   Log Likelihood                -118.666\n",
      "Date:                Thu, 02 Jun 2022   AIC                            241.332\n",
      "Time:                        13:32:04   BIC                            243.848\n",
      "Sample:                             0   HQIC                           242.056\n",
      "                                 - 27                                         \n",
      "Covariance Type:                  opg                                         \n",
      "==============================================================================\n",
      "                 coef    std err          z      P>|z|      [0.025      0.975]\n",
      "------------------------------------------------------------------------------\n",
      "ar.L1          0.5442      0.135      4.036      0.000       0.280       0.809\n",
      "sigma2       532.0692    114.102      4.663      0.000     308.434     755.704\n",
      "===================================================================================\n",
      "Ljung-Box (L1) (Q):                   0.20   Jarque-Bera (JB):                14.77\n",
      "Prob(Q):                              0.65   Prob(JB):                         0.00\n",
      "Heteroskedasticity (H):               0.14   Skew:                             1.46\n",
      "Prob(H) (two-sided):                  0.01   Kurtosis:                         5.26\n",
      "===================================================================================\n",
      "\n",
      "Warnings:\n",
      "[1] Covariance matrix calculated using the outer product of gradients (complex-step).\n"
     ]
    }
   ],
   "source": [
    "import pmdarima as pm\n",
    "results = pm.auto_arima(russia)\n",
    "print(results.summary())"
   ]
  },
  {
   "cell_type": "code",
   "execution_count": 129,
   "id": "94c47a23",
   "metadata": {},
   "outputs": [
    {
     "data": {
      "text/plain": [
       "['E:/Dessertation/desertion_dkit_msc_2022_sep/great_model.pkl']"
      ]
     },
     "execution_count": 129,
     "metadata": {},
     "output_type": "execute_result"
    }
   ],
   "source": [
    "# Import\n",
    "import joblib\n",
    "\n",
    "# Select a filepath\n",
    "filepath ='E:/Dessertation/desertion_dkit_msc_2022_sep/great_model.pkl'\n",
    "\n",
    "# Save model to filepath\n",
    "joblib.dump(results, filepath)"
   ]
  }
 ],
 "metadata": {
  "interpreter": {
   "hash": "ad2bdc8ecc057115af97d19610ffacc2b4e99fae6737bb82f5d7fb13d2f2c186"
  },
  "kernelspec": {
   "display_name": "Python 3.8.8 ('base')",
   "language": "python",
   "name": "python3"
  },
  "language_info": {
   "codemirror_mode": {
    "name": "ipython",
    "version": 3
   },
   "file_extension": ".py",
   "mimetype": "text/x-python",
   "name": "python",
   "nbconvert_exporter": "python",
   "pygments_lexer": "ipython3",
   "version": "3.8.8"
  }
 },
 "nbformat": 4,
 "nbformat_minor": 5
}
