{
 "cells": [
  {
   "cell_type": "code",
   "execution_count": 1,
   "id": "728f43b4",
   "metadata": {},
   "outputs": [],
   "source": [
    "import pandas as pd\n",
    "import matplotlib.pyplot as plt\n",
    "import numpy as np"
   ]
  },
  {
   "cell_type": "code",
   "execution_count": 2,
   "id": "a185349c",
   "metadata": {
    "scrolled": false
   },
   "outputs": [
    {
     "data": {
      "text/html": [
       "<div>\n",
       "<style scoped>\n",
       "    .dataframe tbody tr th:only-of-type {\n",
       "        vertical-align: middle;\n",
       "    }\n",
       "\n",
       "    .dataframe tbody tr th {\n",
       "        vertical-align: top;\n",
       "    }\n",
       "\n",
       "    .dataframe thead th {\n",
       "        text-align: right;\n",
       "    }\n",
       "</style>\n",
       "<table border=\"1\" class=\"dataframe\">\n",
       "  <thead>\n",
       "    <tr style=\"text-align: right;\">\n",
       "      <th></th>\n",
       "      <th>country</th>\n",
       "      <th>sex</th>\n",
       "      <th>age</th>\n",
       "      <th>suicides</th>\n",
       "      <th>population</th>\n",
       "      <th>sucid_in_hundredk</th>\n",
       "      <th>country-year</th>\n",
       "      <th>yearly_gdp</th>\n",
       "      <th>gdp_per_capita</th>\n",
       "      <th>generation</th>\n",
       "      <th>...</th>\n",
       "      <th>physician_price</th>\n",
       "      <th>laborforcetotal</th>\n",
       "      <th>lifeexpectancy</th>\n",
       "      <th>mobilesubscriptions</th>\n",
       "      <th>refugees</th>\n",
       "      <th>selfemployed</th>\n",
       "      <th>electricityacess</th>\n",
       "      <th>continent</th>\n",
       "      <th>country_code</th>\n",
       "      <th>mobilesubscription</th>\n",
       "    </tr>\n",
       "    <tr>\n",
       "      <th>year</th>\n",
       "      <th></th>\n",
       "      <th></th>\n",
       "      <th></th>\n",
       "      <th></th>\n",
       "      <th></th>\n",
       "      <th></th>\n",
       "      <th></th>\n",
       "      <th></th>\n",
       "      <th></th>\n",
       "      <th></th>\n",
       "      <th></th>\n",
       "      <th></th>\n",
       "      <th></th>\n",
       "      <th></th>\n",
       "      <th></th>\n",
       "      <th></th>\n",
       "      <th></th>\n",
       "      <th></th>\n",
       "      <th></th>\n",
       "      <th></th>\n",
       "      <th></th>\n",
       "    </tr>\n",
       "  </thead>\n",
       "  <tbody>\n",
       "    <tr>\n",
       "      <th>1985-01-01</th>\n",
       "      <td>Argentina</td>\n",
       "      <td>male</td>\n",
       "      <td>75+ years</td>\n",
       "      <td>202</td>\n",
       "      <td>363000</td>\n",
       "      <td>55.65</td>\n",
       "      <td>Argentina1985</td>\n",
       "      <td>8.841667e+10</td>\n",
       "      <td>3264</td>\n",
       "      <td>G.I. Generation</td>\n",
       "      <td>...</td>\n",
       "      <td>0.2384</td>\n",
       "      <td>1.077831e+07</td>\n",
       "      <td>50.156848</td>\n",
       "      <td>0.009469</td>\n",
       "      <td>10732.386792</td>\n",
       "      <td>2.157578</td>\n",
       "      <td>57.6</td>\n",
       "      <td>Americas</td>\n",
       "      <td>ARG</td>\n",
       "      <td>0.009469</td>\n",
       "    </tr>\n",
       "    <tr>\n",
       "      <th>1985-01-01</th>\n",
       "      <td>Belgium</td>\n",
       "      <td>female</td>\n",
       "      <td>35-54 years</td>\n",
       "      <td>252</td>\n",
       "      <td>1216200</td>\n",
       "      <td>20.72</td>\n",
       "      <td>Belgium1985</td>\n",
       "      <td>8.673004e+10</td>\n",
       "      <td>9356</td>\n",
       "      <td>Silent</td>\n",
       "      <td>...</td>\n",
       "      <td>0.2384</td>\n",
       "      <td>1.077831e+07</td>\n",
       "      <td>50.156848</td>\n",
       "      <td>0.009469</td>\n",
       "      <td>10732.386792</td>\n",
       "      <td>2.157578</td>\n",
       "      <td>57.6</td>\n",
       "      <td>Europe</td>\n",
       "      <td>BEL</td>\n",
       "      <td>0.009469</td>\n",
       "    </tr>\n",
       "    <tr>\n",
       "      <th>1985-01-01</th>\n",
       "      <td>Belgium</td>\n",
       "      <td>male</td>\n",
       "      <td>15-24 years</td>\n",
       "      <td>109</td>\n",
       "      <td>775300</td>\n",
       "      <td>14.06</td>\n",
       "      <td>Belgium1985</td>\n",
       "      <td>8.673004e+10</td>\n",
       "      <td>9356</td>\n",
       "      <td>Generation X</td>\n",
       "      <td>...</td>\n",
       "      <td>0.2384</td>\n",
       "      <td>1.077831e+07</td>\n",
       "      <td>50.156848</td>\n",
       "      <td>0.009469</td>\n",
       "      <td>10732.386792</td>\n",
       "      <td>2.157578</td>\n",
       "      <td>57.6</td>\n",
       "      <td>Europe</td>\n",
       "      <td>BEL</td>\n",
       "      <td>0.009469</td>\n",
       "    </tr>\n",
       "    <tr>\n",
       "      <th>1985-01-01</th>\n",
       "      <td>Belgium</td>\n",
       "      <td>female</td>\n",
       "      <td>25-34 years</td>\n",
       "      <td>78</td>\n",
       "      <td>744000</td>\n",
       "      <td>10.48</td>\n",
       "      <td>Belgium1985</td>\n",
       "      <td>8.673004e+10</td>\n",
       "      <td>9356</td>\n",
       "      <td>Boomers</td>\n",
       "      <td>...</td>\n",
       "      <td>0.2384</td>\n",
       "      <td>1.077831e+07</td>\n",
       "      <td>50.156848</td>\n",
       "      <td>0.009469</td>\n",
       "      <td>10732.386792</td>\n",
       "      <td>2.157578</td>\n",
       "      <td>57.6</td>\n",
       "      <td>Europe</td>\n",
       "      <td>BEL</td>\n",
       "      <td>0.009469</td>\n",
       "    </tr>\n",
       "    <tr>\n",
       "      <th>1985-01-01</th>\n",
       "      <td>Belgium</td>\n",
       "      <td>female</td>\n",
       "      <td>15-24 years</td>\n",
       "      <td>33</td>\n",
       "      <td>744100</td>\n",
       "      <td>4.43</td>\n",
       "      <td>Belgium1985</td>\n",
       "      <td>8.673004e+10</td>\n",
       "      <td>9356</td>\n",
       "      <td>Generation X</td>\n",
       "      <td>...</td>\n",
       "      <td>0.2384</td>\n",
       "      <td>1.077831e+07</td>\n",
       "      <td>50.156848</td>\n",
       "      <td>0.009469</td>\n",
       "      <td>10732.386792</td>\n",
       "      <td>2.157578</td>\n",
       "      <td>57.6</td>\n",
       "      <td>Europe</td>\n",
       "      <td>BEL</td>\n",
       "      <td>0.009469</td>\n",
       "    </tr>\n",
       "  </tbody>\n",
       "</table>\n",
       "<p>5 rows × 25 columns</p>\n",
       "</div>"
      ],
      "text/plain": [
       "              country     sex          age  suicides  population  \\\n",
       "year                                                               \n",
       "1985-01-01  Argentina    male    75+ years       202      363000   \n",
       "1985-01-01    Belgium  female  35-54 years       252     1216200   \n",
       "1985-01-01    Belgium    male  15-24 years       109      775300   \n",
       "1985-01-01    Belgium  female  25-34 years        78      744000   \n",
       "1985-01-01    Belgium  female  15-24 years        33      744100   \n",
       "\n",
       "            sucid_in_hundredk   country-year    yearly_gdp  gdp_per_capita  \\\n",
       "year                                                                         \n",
       "1985-01-01              55.65  Argentina1985  8.841667e+10            3264   \n",
       "1985-01-01              20.72    Belgium1985  8.673004e+10            9356   \n",
       "1985-01-01              14.06    Belgium1985  8.673004e+10            9356   \n",
       "1985-01-01              10.48    Belgium1985  8.673004e+10            9356   \n",
       "1985-01-01               4.43    Belgium1985  8.673004e+10            9356   \n",
       "\n",
       "                 generation  ...  physician_price  laborforcetotal  \\\n",
       "year                         ...                                     \n",
       "1985-01-01  G.I. Generation  ...           0.2384     1.077831e+07   \n",
       "1985-01-01           Silent  ...           0.2384     1.077831e+07   \n",
       "1985-01-01     Generation X  ...           0.2384     1.077831e+07   \n",
       "1985-01-01          Boomers  ...           0.2384     1.077831e+07   \n",
       "1985-01-01     Generation X  ...           0.2384     1.077831e+07   \n",
       "\n",
       "            lifeexpectancy  mobilesubscriptions      refugees  selfemployed  \\\n",
       "year                                                                          \n",
       "1985-01-01       50.156848             0.009469  10732.386792      2.157578   \n",
       "1985-01-01       50.156848             0.009469  10732.386792      2.157578   \n",
       "1985-01-01       50.156848             0.009469  10732.386792      2.157578   \n",
       "1985-01-01       50.156848             0.009469  10732.386792      2.157578   \n",
       "1985-01-01       50.156848             0.009469  10732.386792      2.157578   \n",
       "\n",
       "            electricityacess  continent  country_code  mobilesubscription  \n",
       "year                                                                       \n",
       "1985-01-01              57.6   Americas           ARG            0.009469  \n",
       "1985-01-01              57.6     Europe           BEL            0.009469  \n",
       "1985-01-01              57.6     Europe           BEL            0.009469  \n",
       "1985-01-01              57.6     Europe           BEL            0.009469  \n",
       "1985-01-01              57.6     Europe           BEL            0.009469  \n",
       "\n",
       "[5 rows x 25 columns]"
      ]
     },
     "execution_count": 2,
     "metadata": {},
     "output_type": "execute_result"
    }
   ],
   "source": [
    "url = 'E:\\\\Dessertation\\\\desertion_dkit_msc_2022_sep\\\\output.csv'\n",
    "# d parser df:=lambda x: pd.datetime.strptime(x,'gy-8m-gd gI-Sp\")\n",
    "df = pd.read_csv(url, index_col = 'year', parse_dates=True, infer_datetime_format=True)\n",
    "df = df.sort_index(axis=0, level=None, ascending=True, inplace=False, kind='quicksort', na_position='last', sort_remaining=True, ignore_index=False, key=None)\n",
    "# df = pd.read_csv(url)\n",
    "# df['year'] = pd.to_datetime(df['year'], format='%Y%', errors='ignore')\n",
    "# # Converting the index as date\n",
    "# df.index = pd.to_datetime(df.index)\n",
    "\n",
    "# df = df.index.year\n",
    "# df = df.set_index('year')\n",
    "\n",
    "# # Converting the index as date\n",
    "# df.index = pd.to_datetime(df.index)\n",
    "df.head()"
   ]
  },
  {
   "cell_type": "code",
   "execution_count": 3,
   "id": "d1c18ac3",
   "metadata": {
    "scrolled": true
   },
   "outputs": [
    {
     "data": {
      "text/plain": [
       "array(['Argentina', 'Belgium', 'Japan', 'Greece', 'Ireland', 'Australia',\n",
       "       'Israel', 'Spain', 'Colombia', 'Mexico', 'Netherlands', 'Austria',\n",
       "       'New Zealand', 'Thailand', 'Canada', 'Portugal', 'Iceland',\n",
       "       'Bulgaria', 'France', 'Italy', 'Chile', 'Brazil', 'Norway',\n",
       "       'Sweden', 'Finland', 'Ukraine', 'Turkmenistan', 'Romania',\n",
       "       'Russian Federation', 'Germany', 'Czech Republic', 'Poland',\n",
       "       'Armenia', 'Hungary', 'Cuba', 'Denmark', 'Switzerland', 'Croatia',\n",
       "       'South Africa'], dtype=object)"
      ]
     },
     "execution_count": 3,
     "metadata": {},
     "output_type": "execute_result"
    }
   ],
   "source": [
    "df['country'].unique()"
   ]
  },
  {
   "cell_type": "code",
   "execution_count": 7,
   "metadata": {},
   "outputs": [
    {
     "data": {
      "text/plain": [
       "(13276, 25)"
      ]
     },
     "execution_count": 7,
     "metadata": {},
     "output_type": "execute_result"
    }
   ],
   "source": [
    "df.shape"
   ]
  },
  {
   "cell_type": "code",
   "execution_count": 8,
   "metadata": {},
   "outputs": [
    {
     "data": {
      "text/plain": [
       "Index(['country', 'sex', 'age', 'suicides', 'population', 'sucid_in_hundredk',\n",
       "       'country-year', 'yearly_gdp', 'gdp_per_capita', 'generation',\n",
       "       'suicides.1', 'internetusers', 'expenses', 'employeecompensation',\n",
       "       'unemployment', 'physician_price', 'laborforcetotal', 'lifeexpectancy',\n",
       "       'mobilesubscriptions', 'refugees', 'selfemployed', 'electricityacess',\n",
       "       'continent', 'country_code', 'mobilesubscription'],\n",
       "      dtype='object')"
      ]
     },
     "execution_count": 8,
     "metadata": {},
     "output_type": "execute_result"
    }
   ],
   "source": [
    "df.columns"
   ]
  },
  {
   "cell_type": "code",
   "execution_count": 11,
   "metadata": {},
   "outputs": [
    {
     "data": {
      "text/plain": [
       "array(['Argentina', 'Belgium', 'Japan', 'Greece', 'Ireland', 'Australia',\n",
       "       'Israel', 'Spain', 'Colombia', 'Mexico', 'Netherlands', 'Austria',\n",
       "       'New Zealand', 'Thailand', 'Canada', 'Portugal', 'Iceland',\n",
       "       'Bulgaria', 'France', 'Italy', 'Chile', 'Brazil', 'Norway',\n",
       "       'Sweden', 'Finland', 'Ukraine', 'Turkmenistan', 'Romania',\n",
       "       'Russian Federation', 'Germany', 'Czech Republic', 'Poland',\n",
       "       'Armenia', 'Hungary', 'Cuba', 'Denmark', 'Switzerland', 'Croatia',\n",
       "       'South Africa'], dtype=object)"
      ]
     },
     "execution_count": 11,
     "metadata": {},
     "output_type": "execute_result"
    }
   ],
   "source": [
    "countries = df.country.unique()\n",
    "countries"
   ]
  },
  {
   "cell_type": "code",
   "execution_count": 12,
   "metadata": {},
   "outputs": [
    {
     "ename": "KeyError",
     "evalue": "\"['year'] not in index\"",
     "output_type": "error",
     "traceback": [
      "\u001b[1;31m---------------------------------------------------------------------------\u001b[0m",
      "\u001b[1;31mKeyError\u001b[0m                                  Traceback (most recent call last)",
      "\u001b[1;32m<ipython-input-12-1fca84adcba2>\u001b[0m in \u001b[0;36m<module>\u001b[1;34m\u001b[0m\n\u001b[0;32m      1\u001b[0m \u001b[0mfeatures\u001b[0m \u001b[1;33m=\u001b[0m \u001b[1;33m[\u001b[0m\u001b[1;34m'country'\u001b[0m\u001b[1;33m,\u001b[0m \u001b[1;34m'year'\u001b[0m\u001b[1;33m,\u001b[0m \u001b[1;34m'yearly_gdp'\u001b[0m\u001b[1;33m,\u001b[0m \u001b[1;34m'gdp_per_capita'\u001b[0m\u001b[1;33m,\u001b[0m \u001b[1;34m'employeecompensation'\u001b[0m\u001b[1;33m,\u001b[0m \u001b[1;34m'unemployment'\u001b[0m\u001b[1;33m,\u001b[0m\u001b[1;34m'lifeexpectancy'\u001b[0m\u001b[1;33m,\u001b[0m \u001b[1;34m'refugees'\u001b[0m\u001b[1;33m,\u001b[0m \u001b[1;34m'selfemployed'\u001b[0m\u001b[1;33m,\u001b[0m \u001b[1;34m'internetusers'\u001b[0m\u001b[1;33m,\u001b[0m \u001b[1;34m'population'\u001b[0m\u001b[1;33m]\u001b[0m\u001b[1;33m\u001b[0m\u001b[1;33m\u001b[0m\u001b[0m\n\u001b[0;32m      2\u001b[0m \u001b[1;33m\u001b[0m\u001b[0m\n\u001b[1;32m----> 3\u001b[1;33m \u001b[0mtotal\u001b[0m \u001b[1;33m=\u001b[0m \u001b[0mdf\u001b[0m\u001b[1;33m[\u001b[0m\u001b[0mfeatures\u001b[0m\u001b[1;33m]\u001b[0m\u001b[1;33m.\u001b[0m\u001b[0mgroupby\u001b[0m\u001b[1;33m(\u001b[0m\u001b[1;34m'country'\u001b[0m\u001b[1;33m)\u001b[0m\u001b[1;33m.\u001b[0m\u001b[0mget_group\u001b[0m\u001b[1;33m(\u001b[0m\u001b[0mcountries\u001b[0m\u001b[1;33m[\u001b[0m\u001b[1;36m0\u001b[0m\u001b[1;33m]\u001b[0m\u001b[1;33m)\u001b[0m\u001b[1;33m.\u001b[0m\u001b[0mgroupby\u001b[0m\u001b[1;33m(\u001b[0m\u001b[1;34m'year'\u001b[0m\u001b[1;33m)\u001b[0m\u001b[1;33m.\u001b[0m\u001b[0mmean\u001b[0m\u001b[1;33m(\u001b[0m\u001b[1;33m)\u001b[0m\u001b[1;33m\u001b[0m\u001b[1;33m\u001b[0m\u001b[0m\n\u001b[0m\u001b[0;32m      4\u001b[0m \u001b[0mtotal\u001b[0m\u001b[1;33m[\u001b[0m\u001b[1;34m'Suicides'\u001b[0m\u001b[1;33m]\u001b[0m \u001b[1;33m=\u001b[0m \u001b[0mdf\u001b[0m\u001b[1;33m[\u001b[0m\u001b[1;33m[\u001b[0m\u001b[1;34m'country'\u001b[0m\u001b[1;33m,\u001b[0m \u001b[1;34m'year'\u001b[0m\u001b[1;33m,\u001b[0m \u001b[1;34m'suicidesper100k'\u001b[0m\u001b[1;33m]\u001b[0m\u001b[1;33m]\u001b[0m\u001b[1;33m.\u001b[0m\u001b[0mgroupby\u001b[0m\u001b[1;33m(\u001b[0m\u001b[1;34m'country'\u001b[0m\u001b[1;33m)\u001b[0m\u001b[1;33m.\u001b[0m\u001b[0mget_group\u001b[0m\u001b[1;33m(\u001b[0m\u001b[0mcountries\u001b[0m\u001b[1;33m[\u001b[0m\u001b[1;36m0\u001b[0m\u001b[1;33m]\u001b[0m\u001b[1;33m)\u001b[0m\u001b[1;33m.\u001b[0m\u001b[0mgroupby\u001b[0m\u001b[1;33m(\u001b[0m\u001b[1;34m'year'\u001b[0m\u001b[1;33m)\u001b[0m\u001b[1;33m.\u001b[0m\u001b[0msum\u001b[0m\u001b[1;33m(\u001b[0m\u001b[1;33m)\u001b[0m\u001b[1;33m\u001b[0m\u001b[1;33m\u001b[0m\u001b[0m\n\u001b[0;32m      5\u001b[0m \u001b[0mtotal\u001b[0m\u001b[1;33m[\u001b[0m\u001b[1;34m'population'\u001b[0m\u001b[1;33m]\u001b[0m \u001b[1;33m=\u001b[0m \u001b[0mdf\u001b[0m\u001b[1;33m[\u001b[0m\u001b[1;33m[\u001b[0m\u001b[1;34m'country'\u001b[0m\u001b[1;33m,\u001b[0m \u001b[1;34m'year'\u001b[0m\u001b[1;33m,\u001b[0m \u001b[1;34m'population'\u001b[0m\u001b[1;33m]\u001b[0m\u001b[1;33m]\u001b[0m\u001b[1;33m.\u001b[0m\u001b[0mgroupby\u001b[0m\u001b[1;33m(\u001b[0m\u001b[1;34m'country'\u001b[0m\u001b[1;33m)\u001b[0m\u001b[1;33m.\u001b[0m\u001b[0mget_group\u001b[0m\u001b[1;33m(\u001b[0m\u001b[0mcountries\u001b[0m\u001b[1;33m[\u001b[0m\u001b[1;36m0\u001b[0m\u001b[1;33m]\u001b[0m\u001b[1;33m)\u001b[0m\u001b[1;33m.\u001b[0m\u001b[0mgroupby\u001b[0m\u001b[1;33m(\u001b[0m\u001b[1;34m'year'\u001b[0m\u001b[1;33m)\u001b[0m\u001b[1;33m.\u001b[0m\u001b[0msum\u001b[0m\u001b[1;33m(\u001b[0m\u001b[1;33m)\u001b[0m\u001b[1;33m\u001b[0m\u001b[1;33m\u001b[0m\u001b[0m\n",
      "\u001b[1;32mc:\\ProgramData\\Anaconda3\\lib\\site-packages\\pandas\\core\\frame.py\u001b[0m in \u001b[0;36m__getitem__\u001b[1;34m(self, key)\u001b[0m\n\u001b[0;32m   3028\u001b[0m             \u001b[1;32mif\u001b[0m \u001b[0mis_iterator\u001b[0m\u001b[1;33m(\u001b[0m\u001b[0mkey\u001b[0m\u001b[1;33m)\u001b[0m\u001b[1;33m:\u001b[0m\u001b[1;33m\u001b[0m\u001b[1;33m\u001b[0m\u001b[0m\n\u001b[0;32m   3029\u001b[0m                 \u001b[0mkey\u001b[0m \u001b[1;33m=\u001b[0m \u001b[0mlist\u001b[0m\u001b[1;33m(\u001b[0m\u001b[0mkey\u001b[0m\u001b[1;33m)\u001b[0m\u001b[1;33m\u001b[0m\u001b[1;33m\u001b[0m\u001b[0m\n\u001b[1;32m-> 3030\u001b[1;33m             \u001b[0mindexer\u001b[0m \u001b[1;33m=\u001b[0m \u001b[0mself\u001b[0m\u001b[1;33m.\u001b[0m\u001b[0mloc\u001b[0m\u001b[1;33m.\u001b[0m\u001b[0m_get_listlike_indexer\u001b[0m\u001b[1;33m(\u001b[0m\u001b[0mkey\u001b[0m\u001b[1;33m,\u001b[0m \u001b[0maxis\u001b[0m\u001b[1;33m=\u001b[0m\u001b[1;36m1\u001b[0m\u001b[1;33m,\u001b[0m \u001b[0mraise_missing\u001b[0m\u001b[1;33m=\u001b[0m\u001b[1;32mTrue\u001b[0m\u001b[1;33m)\u001b[0m\u001b[1;33m[\u001b[0m\u001b[1;36m1\u001b[0m\u001b[1;33m]\u001b[0m\u001b[1;33m\u001b[0m\u001b[1;33m\u001b[0m\u001b[0m\n\u001b[0m\u001b[0;32m   3031\u001b[0m \u001b[1;33m\u001b[0m\u001b[0m\n\u001b[0;32m   3032\u001b[0m         \u001b[1;31m# take() does not accept boolean indexers\u001b[0m\u001b[1;33m\u001b[0m\u001b[1;33m\u001b[0m\u001b[1;33m\u001b[0m\u001b[0m\n",
      "\u001b[1;32mc:\\ProgramData\\Anaconda3\\lib\\site-packages\\pandas\\core\\indexing.py\u001b[0m in \u001b[0;36m_get_listlike_indexer\u001b[1;34m(self, key, axis, raise_missing)\u001b[0m\n\u001b[0;32m   1264\u001b[0m             \u001b[0mkeyarr\u001b[0m\u001b[1;33m,\u001b[0m \u001b[0mindexer\u001b[0m\u001b[1;33m,\u001b[0m \u001b[0mnew_indexer\u001b[0m \u001b[1;33m=\u001b[0m \u001b[0max\u001b[0m\u001b[1;33m.\u001b[0m\u001b[0m_reindex_non_unique\u001b[0m\u001b[1;33m(\u001b[0m\u001b[0mkeyarr\u001b[0m\u001b[1;33m)\u001b[0m\u001b[1;33m\u001b[0m\u001b[1;33m\u001b[0m\u001b[0m\n\u001b[0;32m   1265\u001b[0m \u001b[1;33m\u001b[0m\u001b[0m\n\u001b[1;32m-> 1266\u001b[1;33m         \u001b[0mself\u001b[0m\u001b[1;33m.\u001b[0m\u001b[0m_validate_read_indexer\u001b[0m\u001b[1;33m(\u001b[0m\u001b[0mkeyarr\u001b[0m\u001b[1;33m,\u001b[0m \u001b[0mindexer\u001b[0m\u001b[1;33m,\u001b[0m \u001b[0maxis\u001b[0m\u001b[1;33m,\u001b[0m \u001b[0mraise_missing\u001b[0m\u001b[1;33m=\u001b[0m\u001b[0mraise_missing\u001b[0m\u001b[1;33m)\u001b[0m\u001b[1;33m\u001b[0m\u001b[1;33m\u001b[0m\u001b[0m\n\u001b[0m\u001b[0;32m   1267\u001b[0m         \u001b[1;32mreturn\u001b[0m \u001b[0mkeyarr\u001b[0m\u001b[1;33m,\u001b[0m \u001b[0mindexer\u001b[0m\u001b[1;33m\u001b[0m\u001b[1;33m\u001b[0m\u001b[0m\n\u001b[0;32m   1268\u001b[0m \u001b[1;33m\u001b[0m\u001b[0m\n",
      "\u001b[1;32mc:\\ProgramData\\Anaconda3\\lib\\site-packages\\pandas\\core\\indexing.py\u001b[0m in \u001b[0;36m_validate_read_indexer\u001b[1;34m(self, key, indexer, axis, raise_missing)\u001b[0m\n\u001b[0;32m   1314\u001b[0m             \u001b[1;32mif\u001b[0m \u001b[0mraise_missing\u001b[0m\u001b[1;33m:\u001b[0m\u001b[1;33m\u001b[0m\u001b[1;33m\u001b[0m\u001b[0m\n\u001b[0;32m   1315\u001b[0m                 \u001b[0mnot_found\u001b[0m \u001b[1;33m=\u001b[0m \u001b[0mlist\u001b[0m\u001b[1;33m(\u001b[0m\u001b[0mset\u001b[0m\u001b[1;33m(\u001b[0m\u001b[0mkey\u001b[0m\u001b[1;33m)\u001b[0m \u001b[1;33m-\u001b[0m \u001b[0mset\u001b[0m\u001b[1;33m(\u001b[0m\u001b[0max\u001b[0m\u001b[1;33m)\u001b[0m\u001b[1;33m)\u001b[0m\u001b[1;33m\u001b[0m\u001b[1;33m\u001b[0m\u001b[0m\n\u001b[1;32m-> 1316\u001b[1;33m                 \u001b[1;32mraise\u001b[0m \u001b[0mKeyError\u001b[0m\u001b[1;33m(\u001b[0m\u001b[1;34mf\"{not_found} not in index\"\u001b[0m\u001b[1;33m)\u001b[0m\u001b[1;33m\u001b[0m\u001b[1;33m\u001b[0m\u001b[0m\n\u001b[0m\u001b[0;32m   1317\u001b[0m \u001b[1;33m\u001b[0m\u001b[0m\n\u001b[0;32m   1318\u001b[0m             \u001b[0mnot_found\u001b[0m \u001b[1;33m=\u001b[0m \u001b[0mkey\u001b[0m\u001b[1;33m[\u001b[0m\u001b[0mmissing_mask\u001b[0m\u001b[1;33m]\u001b[0m\u001b[1;33m\u001b[0m\u001b[1;33m\u001b[0m\u001b[0m\n",
      "\u001b[1;31mKeyError\u001b[0m: \"['year'] not in index\""
     ]
    }
   ],
   "source": [
    "features = ['country', 'year', 'yearly_gdp', 'gdp_per_capita', 'employeecompensation', 'unemployment','lifeexpectancy', 'refugees', 'selfemployed', 'internetusers', 'population']\n",
    "\n",
    "total = df[features].groupby('country').get_group(countries[0]).groupby('year').mean()\n",
    "total['Suicides'] = df[['country', 'year', 'suicidesper100k']].groupby('country').get_group(countries[0]).groupby('year').sum()\n",
    "total['population'] = df[['country', 'year', 'population']].groupby('country').get_group(countries[0]).groupby('year').sum()\n",
    "\n",
    "total['country'] = countries[0]\n",
    "\n",
    "for i, x in enumerate(countries[1:]):\n",
    "    suicides = df[features].groupby('country').get_group(x).groupby('year').mean()\n",
    "    suicides['Suicides'] = df[['country', 'year', 'suicidesper100k']].groupby('country').get_group(x).groupby('year').sum()\n",
    "    total['population'] = df[['country', 'year', 'population']].groupby('country').get_group(x).groupby('year').sum()\n",
    "  \n",
    "    suicides['country'] = x\n",
    "    total = total.append(suicides)\n",
    "\n",
    "total.reset_index(inplace=True)\n",
    "sort = True"
   ]
  },
  {
   "cell_type": "code",
   "execution_count": 9,
   "metadata": {},
   "outputs": [],
   "source": [
    "totalfeatures = ['country', 'year', 'yearly_gdp', 'gdp_per_capita', 'employeecompensation', 'unemployment','lifeexpectancy', 'refugees', 'selfemployed', 'internetusers', 'population']"
   ]
  },
  {
   "cell_type": "code",
   "execution_count": 10,
   "metadata": {},
   "outputs": [
    {
     "ename": "SyntaxError",
     "evalue": "invalid syntax (<ipython-input-10-d6c8bc8db881>, line 20)",
     "output_type": "error",
     "traceback": [
      "\u001b[1;36m  File \u001b[1;32m\"<ipython-input-10-d6c8bc8db881>\"\u001b[1;36m, line \u001b[1;32m20\u001b[0m\n\u001b[1;33m    Train set: (576, 11) (576,)\u001b[0m\n\u001b[1;37m          ^\u001b[0m\n\u001b[1;31mSyntaxError\u001b[0m\u001b[1;31m:\u001b[0m invalid syntax\n"
     ]
    }
   ],
   "source": [
    "from sklearn.preprocessing import StandardScaler\n",
    "# Preparing data for modeling\n",
    "\n",
    "X = np.asarray(total[totalfeatures])\n",
    "y = np.asarray(total['risk'])\n",
    "\n",
    "\n",
    "# Applying standard scaler on data, since ML algorithms work with the assumption that the data is normally distributed\n",
    "\n",
    "scaler = StandardScaler()\n",
    "scaler.fit(X)\n",
    "X_scaled = scaler.transform(X)\n",
    "from sklearn.model_selection import train_test_split\n",
    "# Train-test split\n",
    "\n",
    "X_train, X_test, y_train, y_test = train_test_split(X_scaled, y, test_size=0.25, random_state=4)\n",
    "\n",
    "print('Train set:', X_train.shape, y_train.shape)\n",
    "print('Test set:', X_test.shape, y_test.shape)\n",
    "Train set: (576, 11) (576,)\n",
    "Test set: (192, 11) (192,)"
   ]
  }
 ],
 "metadata": {
  "interpreter": {
   "hash": "ad2bdc8ecc057115af97d19610ffacc2b4e99fae6737bb82f5d7fb13d2f2c186"
  },
  "kernelspec": {
   "display_name": "Python 3.8.8 ('base')",
   "language": "python",
   "name": "python3"
  },
  "language_info": {
   "codemirror_mode": {
    "name": "ipython",
    "version": 3
   },
   "file_extension": ".py",
   "mimetype": "text/x-python",
   "name": "python",
   "nbconvert_exporter": "python",
   "pygments_lexer": "ipython3",
   "version": "3.8.8"
  },
  "orig_nbformat": 4
 },
 "nbformat": 4,
 "nbformat_minor": 2
}
