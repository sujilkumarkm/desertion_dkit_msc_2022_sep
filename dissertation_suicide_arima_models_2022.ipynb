{
 "cells": [
  {
   "cell_type": "code",
   "execution_count": 208,
   "id": "728f43b4",
   "metadata": {},
   "outputs": [],
   "source": [
    "import pandas as pd\n",
    "import matplotlib.pyplot as plt\n",
    "import numpy as np\n"
   ]
  },
  {
   "cell_type": "code",
   "execution_count": 209,
   "id": "a185349c",
   "metadata": {
    "scrolled": false
   },
   "outputs": [
    {
     "data": {
      "text/html": [
       "<div>\n",
       "<style scoped>\n",
       "    .dataframe tbody tr th:only-of-type {\n",
       "        vertical-align: middle;\n",
       "    }\n",
       "\n",
       "    .dataframe tbody tr th {\n",
       "        vertical-align: top;\n",
       "    }\n",
       "\n",
       "    .dataframe thead th {\n",
       "        text-align: right;\n",
       "    }\n",
       "</style>\n",
       "<table border=\"1\" class=\"dataframe\">\n",
       "  <thead>\n",
       "    <tr style=\"text-align: right;\">\n",
       "      <th></th>\n",
       "      <th>country</th>\n",
       "      <th>sex</th>\n",
       "      <th>age</th>\n",
       "      <th>suicides</th>\n",
       "      <th>population</th>\n",
       "      <th>sucid_in_hundredk</th>\n",
       "      <th>country-year</th>\n",
       "      <th>yearly_hdi</th>\n",
       "      <th>yearly_gdp</th>\n",
       "      <th>gdp_per_capita</th>\n",
       "      <th>...</th>\n",
       "      <th>legalrights</th>\n",
       "      <th>laborforcetotal</th>\n",
       "      <th>lifeexpectancy</th>\n",
       "      <th>mobilesubscriptionsp100</th>\n",
       "      <th>refugees</th>\n",
       "      <th>selfemployed</th>\n",
       "      <th>electricityacess</th>\n",
       "      <th>secondarycompletion</th>\n",
       "      <th>continent</th>\n",
       "      <th>country_code</th>\n",
       "    </tr>\n",
       "    <tr>\n",
       "      <th>year</th>\n",
       "      <th></th>\n",
       "      <th></th>\n",
       "      <th></th>\n",
       "      <th></th>\n",
       "      <th></th>\n",
       "      <th></th>\n",
       "      <th></th>\n",
       "      <th></th>\n",
       "      <th></th>\n",
       "      <th></th>\n",
       "      <th></th>\n",
       "      <th></th>\n",
       "      <th></th>\n",
       "      <th></th>\n",
       "      <th></th>\n",
       "      <th></th>\n",
       "      <th></th>\n",
       "      <th></th>\n",
       "      <th></th>\n",
       "      <th></th>\n",
       "      <th></th>\n",
       "    </tr>\n",
       "  </thead>\n",
       "  <tbody>\n",
       "    <tr>\n",
       "      <th>1985-01-01</th>\n",
       "      <td>Argentina</td>\n",
       "      <td>male</td>\n",
       "      <td>75+ years</td>\n",
       "      <td>202</td>\n",
       "      <td>363000</td>\n",
       "      <td>55.65</td>\n",
       "      <td>Argentina1985</td>\n",
       "      <td>0.694</td>\n",
       "      <td>8.841667e+10</td>\n",
       "      <td>3264</td>\n",
       "      <td>...</td>\n",
       "      <td>0.0</td>\n",
       "      <td>0</td>\n",
       "      <td>0.0</td>\n",
       "      <td>0.0</td>\n",
       "      <td>0.0</td>\n",
       "      <td>0.0</td>\n",
       "      <td>0.0</td>\n",
       "      <td>0.0</td>\n",
       "      <td>Americas</td>\n",
       "      <td>ARG</td>\n",
       "    </tr>\n",
       "    <tr>\n",
       "      <th>1985-01-01</th>\n",
       "      <td>Belgium</td>\n",
       "      <td>female</td>\n",
       "      <td>35-54 years</td>\n",
       "      <td>252</td>\n",
       "      <td>1216200</td>\n",
       "      <td>20.72</td>\n",
       "      <td>Belgium1985</td>\n",
       "      <td>0.774</td>\n",
       "      <td>8.673004e+10</td>\n",
       "      <td>9356</td>\n",
       "      <td>...</td>\n",
       "      <td>0.0</td>\n",
       "      <td>0</td>\n",
       "      <td>0.0</td>\n",
       "      <td>0.0</td>\n",
       "      <td>0.0</td>\n",
       "      <td>0.0</td>\n",
       "      <td>0.0</td>\n",
       "      <td>0.0</td>\n",
       "      <td>Europe</td>\n",
       "      <td>BEL</td>\n",
       "    </tr>\n",
       "    <tr>\n",
       "      <th>1985-01-01</th>\n",
       "      <td>Belgium</td>\n",
       "      <td>male</td>\n",
       "      <td>15-24 years</td>\n",
       "      <td>109</td>\n",
       "      <td>775300</td>\n",
       "      <td>14.06</td>\n",
       "      <td>Belgium1985</td>\n",
       "      <td>0.774</td>\n",
       "      <td>8.673004e+10</td>\n",
       "      <td>9356</td>\n",
       "      <td>...</td>\n",
       "      <td>0.0</td>\n",
       "      <td>0</td>\n",
       "      <td>0.0</td>\n",
       "      <td>0.0</td>\n",
       "      <td>0.0</td>\n",
       "      <td>0.0</td>\n",
       "      <td>0.0</td>\n",
       "      <td>0.0</td>\n",
       "      <td>Europe</td>\n",
       "      <td>BEL</td>\n",
       "    </tr>\n",
       "    <tr>\n",
       "      <th>1985-01-01</th>\n",
       "      <td>Belgium</td>\n",
       "      <td>female</td>\n",
       "      <td>25-34 years</td>\n",
       "      <td>78</td>\n",
       "      <td>744000</td>\n",
       "      <td>10.48</td>\n",
       "      <td>Belgium1985</td>\n",
       "      <td>0.774</td>\n",
       "      <td>8.673004e+10</td>\n",
       "      <td>9356</td>\n",
       "      <td>...</td>\n",
       "      <td>0.0</td>\n",
       "      <td>0</td>\n",
       "      <td>0.0</td>\n",
       "      <td>0.0</td>\n",
       "      <td>0.0</td>\n",
       "      <td>0.0</td>\n",
       "      <td>0.0</td>\n",
       "      <td>0.0</td>\n",
       "      <td>Europe</td>\n",
       "      <td>BEL</td>\n",
       "    </tr>\n",
       "    <tr>\n",
       "      <th>1985-01-01</th>\n",
       "      <td>Belgium</td>\n",
       "      <td>female</td>\n",
       "      <td>15-24 years</td>\n",
       "      <td>33</td>\n",
       "      <td>744100</td>\n",
       "      <td>4.43</td>\n",
       "      <td>Belgium1985</td>\n",
       "      <td>0.774</td>\n",
       "      <td>8.673004e+10</td>\n",
       "      <td>9356</td>\n",
       "      <td>...</td>\n",
       "      <td>0.0</td>\n",
       "      <td>0</td>\n",
       "      <td>0.0</td>\n",
       "      <td>0.0</td>\n",
       "      <td>0.0</td>\n",
       "      <td>0.0</td>\n",
       "      <td>0.0</td>\n",
       "      <td>0.0</td>\n",
       "      <td>Europe</td>\n",
       "      <td>BEL</td>\n",
       "    </tr>\n",
       "  </tbody>\n",
       "</table>\n",
       "<p>5 rows × 27 columns</p>\n",
       "</div>"
      ],
      "text/plain": [
       "              country     sex          age  suicides  population  \\\n",
       "year                                                               \n",
       "1985-01-01  Argentina    male    75+ years       202      363000   \n",
       "1985-01-01    Belgium  female  35-54 years       252     1216200   \n",
       "1985-01-01    Belgium    male  15-24 years       109      775300   \n",
       "1985-01-01    Belgium  female  25-34 years        78      744000   \n",
       "1985-01-01    Belgium  female  15-24 years        33      744100   \n",
       "\n",
       "            sucid_in_hundredk   country-year  yearly_hdi    yearly_gdp  \\\n",
       "year                                                                     \n",
       "1985-01-01              55.65  Argentina1985       0.694  8.841667e+10   \n",
       "1985-01-01              20.72    Belgium1985       0.774  8.673004e+10   \n",
       "1985-01-01              14.06    Belgium1985       0.774  8.673004e+10   \n",
       "1985-01-01              10.48    Belgium1985       0.774  8.673004e+10   \n",
       "1985-01-01               4.43    Belgium1985       0.774  8.673004e+10   \n",
       "\n",
       "            gdp_per_capita  ... legalrights  laborforcetotal  lifeexpectancy  \\\n",
       "year                        ...                                                \n",
       "1985-01-01            3264  ...         0.0                0             0.0   \n",
       "1985-01-01            9356  ...         0.0                0             0.0   \n",
       "1985-01-01            9356  ...         0.0                0             0.0   \n",
       "1985-01-01            9356  ...         0.0                0             0.0   \n",
       "1985-01-01            9356  ...         0.0                0             0.0   \n",
       "\n",
       "            mobilesubscriptionsp100  refugees  selfemployed  electricityacess  \\\n",
       "year                                                                            \n",
       "1985-01-01                      0.0       0.0           0.0               0.0   \n",
       "1985-01-01                      0.0       0.0           0.0               0.0   \n",
       "1985-01-01                      0.0       0.0           0.0               0.0   \n",
       "1985-01-01                      0.0       0.0           0.0               0.0   \n",
       "1985-01-01                      0.0       0.0           0.0               0.0   \n",
       "\n",
       "            secondarycompletion  continent  country_code  \n",
       "year                                                      \n",
       "1985-01-01                  0.0   Americas           ARG  \n",
       "1985-01-01                  0.0     Europe           BEL  \n",
       "1985-01-01                  0.0     Europe           BEL  \n",
       "1985-01-01                  0.0     Europe           BEL  \n",
       "1985-01-01                  0.0     Europe           BEL  \n",
       "\n",
       "[5 rows x 27 columns]"
      ]
     },
     "execution_count": 209,
     "metadata": {},
     "output_type": "execute_result"
    }
   ],
   "source": [
    "url = 'E:\\\\Dessertation\\\\desertion_dkit_msc_2022_sep\\\\output.csv'\n",
    "# d parser df:=lambda x: pd.datetime.strptime(x,'gy-8m-gd gI-Sp\")\n",
    "df = pd.read_csv(url, index_col = 'year', parse_dates=True, infer_datetime_format=True)\n",
    "df = df.sort_index(axis=0, level=None, ascending=True, inplace=False, kind='quicksort', na_position='last', sort_remaining=True, ignore_index=False, key=None)\n",
    "# df = pd.read_csv(url)\n",
    "# df['year'] = pd.to_datetime(df['year'], format='%Y%', errors='ignore')\n",
    "# # Converting the index as date\n",
    "# df.index = pd.to_datetime(df.index)\n",
    "\n",
    "# df = df.index.year\n",
    "# df = df.set_index('year')\n",
    "\n",
    "# # Converting the index as date\n",
    "# df.index = pd.to_datetime(df.index)\n",
    "df.head()"
   ]
  },
  {
   "cell_type": "code",
   "execution_count": 210,
   "id": "d1c18ac3",
   "metadata": {
    "scrolled": true
   },
   "outputs": [
    {
     "data": {
      "text/plain": [
       "array(['Argentina', 'Belgium', 'Japan', 'Greece', 'Ireland', 'Australia',\n",
       "       'Israel', 'Spain', 'Colombia', 'Mexico', 'Netherlands', 'Austria',\n",
       "       'New Zealand', 'Thailand', 'Canada', 'Portugal', 'Iceland',\n",
       "       'Bulgaria', 'France', 'Italy', 'Chile', 'Brazil', 'Norway',\n",
       "       'Sweden', 'Finland', 'Ukraine', 'Turkmenistan', 'Romania',\n",
       "       'Russian Federation', 'Germany', 'Czech Republic', 'Poland',\n",
       "       'Armenia', 'Hungary', 'Cuba', 'Denmark', 'Switzerland', 'Croatia',\n",
       "       'South Africa'], dtype=object)"
      ]
     },
     "execution_count": 210,
     "metadata": {},
     "output_type": "execute_result"
    }
   ],
   "source": [
    "df['country'].unique()"
   ]
  },
  {
   "cell_type": "code",
   "execution_count": 211,
   "id": "c68f73ba",
   "metadata": {
    "scrolled": true
   },
   "outputs": [
    {
     "data": {
      "text/html": [
       "<div>\n",
       "<style scoped>\n",
       "    .dataframe tbody tr th:only-of-type {\n",
       "        vertical-align: middle;\n",
       "    }\n",
       "\n",
       "    .dataframe tbody tr th {\n",
       "        vertical-align: top;\n",
       "    }\n",
       "\n",
       "    .dataframe thead th {\n",
       "        text-align: right;\n",
       "    }\n",
       "</style>\n",
       "<table border=\"1\" class=\"dataframe\">\n",
       "  <thead>\n",
       "    <tr style=\"text-align: right;\">\n",
       "      <th></th>\n",
       "      <th>country</th>\n",
       "      <th>sex</th>\n",
       "      <th>age</th>\n",
       "      <th>suicides</th>\n",
       "      <th>population</th>\n",
       "      <th>sucid_in_hundredk</th>\n",
       "      <th>country-year</th>\n",
       "      <th>yearly_hdi</th>\n",
       "      <th>yearly_gdp</th>\n",
       "      <th>gdp_per_capita</th>\n",
       "      <th>...</th>\n",
       "      <th>legalrights</th>\n",
       "      <th>laborforcetotal</th>\n",
       "      <th>lifeexpectancy</th>\n",
       "      <th>mobilesubscriptionsp100</th>\n",
       "      <th>refugees</th>\n",
       "      <th>selfemployed</th>\n",
       "      <th>electricityacess</th>\n",
       "      <th>secondarycompletion</th>\n",
       "      <th>continent</th>\n",
       "      <th>country_code</th>\n",
       "    </tr>\n",
       "    <tr>\n",
       "      <th>year</th>\n",
       "      <th></th>\n",
       "      <th></th>\n",
       "      <th></th>\n",
       "      <th></th>\n",
       "      <th></th>\n",
       "      <th></th>\n",
       "      <th></th>\n",
       "      <th></th>\n",
       "      <th></th>\n",
       "      <th></th>\n",
       "      <th></th>\n",
       "      <th></th>\n",
       "      <th></th>\n",
       "      <th></th>\n",
       "      <th></th>\n",
       "      <th></th>\n",
       "      <th></th>\n",
       "      <th></th>\n",
       "      <th></th>\n",
       "      <th></th>\n",
       "      <th></th>\n",
       "    </tr>\n",
       "  </thead>\n",
       "  <tbody>\n",
       "    <tr>\n",
       "      <th>1987-01-01</th>\n",
       "      <td>Ukraine</td>\n",
       "      <td>male</td>\n",
       "      <td>75+ years</td>\n",
       "      <td>506</td>\n",
       "      <td>654800</td>\n",
       "      <td>77.28</td>\n",
       "      <td>Ukraine1987</td>\n",
       "      <td>NaN</td>\n",
       "      <td>6.408769e+10</td>\n",
       "      <td>1353</td>\n",
       "      <td>...</td>\n",
       "      <td>0.0</td>\n",
       "      <td>0</td>\n",
       "      <td>0.0</td>\n",
       "      <td>0.0</td>\n",
       "      <td>0.0</td>\n",
       "      <td>0.0</td>\n",
       "      <td>0.0</td>\n",
       "      <td>0.0</td>\n",
       "      <td>Europe</td>\n",
       "      <td>UKR</td>\n",
       "    </tr>\n",
       "    <tr>\n",
       "      <th>1987-01-01</th>\n",
       "      <td>Ukraine</td>\n",
       "      <td>female</td>\n",
       "      <td>5-14 years</td>\n",
       "      <td>9</td>\n",
       "      <td>3560800</td>\n",
       "      <td>0.25</td>\n",
       "      <td>Ukraine1987</td>\n",
       "      <td>NaN</td>\n",
       "      <td>6.408769e+10</td>\n",
       "      <td>1353</td>\n",
       "      <td>...</td>\n",
       "      <td>0.0</td>\n",
       "      <td>0</td>\n",
       "      <td>0.0</td>\n",
       "      <td>0.0</td>\n",
       "      <td>0.0</td>\n",
       "      <td>0.0</td>\n",
       "      <td>0.0</td>\n",
       "      <td>0.0</td>\n",
       "      <td>Europe</td>\n",
       "      <td>UKR</td>\n",
       "    </tr>\n",
       "    <tr>\n",
       "      <th>1987-01-01</th>\n",
       "      <td>Ukraine</td>\n",
       "      <td>male</td>\n",
       "      <td>5-14 years</td>\n",
       "      <td>53</td>\n",
       "      <td>3683900</td>\n",
       "      <td>1.44</td>\n",
       "      <td>Ukraine1987</td>\n",
       "      <td>NaN</td>\n",
       "      <td>6.408769e+10</td>\n",
       "      <td>1353</td>\n",
       "      <td>...</td>\n",
       "      <td>0.0</td>\n",
       "      <td>0</td>\n",
       "      <td>0.0</td>\n",
       "      <td>0.0</td>\n",
       "      <td>0.0</td>\n",
       "      <td>0.0</td>\n",
       "      <td>0.0</td>\n",
       "      <td>0.0</td>\n",
       "      <td>Europe</td>\n",
       "      <td>UKR</td>\n",
       "    </tr>\n",
       "    <tr>\n",
       "      <th>1987-01-01</th>\n",
       "      <td>Ukraine</td>\n",
       "      <td>female</td>\n",
       "      <td>15-24 years</td>\n",
       "      <td>128</td>\n",
       "      <td>3459900</td>\n",
       "      <td>3.70</td>\n",
       "      <td>Ukraine1987</td>\n",
       "      <td>NaN</td>\n",
       "      <td>6.408769e+10</td>\n",
       "      <td>1353</td>\n",
       "      <td>...</td>\n",
       "      <td>0.0</td>\n",
       "      <td>0</td>\n",
       "      <td>0.0</td>\n",
       "      <td>0.0</td>\n",
       "      <td>0.0</td>\n",
       "      <td>0.0</td>\n",
       "      <td>0.0</td>\n",
       "      <td>0.0</td>\n",
       "      <td>Europe</td>\n",
       "      <td>UKR</td>\n",
       "    </tr>\n",
       "    <tr>\n",
       "      <th>1987-01-01</th>\n",
       "      <td>Ukraine</td>\n",
       "      <td>female</td>\n",
       "      <td>25-34 years</td>\n",
       "      <td>176</td>\n",
       "      <td>3953000</td>\n",
       "      <td>4.45</td>\n",
       "      <td>Ukraine1987</td>\n",
       "      <td>NaN</td>\n",
       "      <td>6.408769e+10</td>\n",
       "      <td>1353</td>\n",
       "      <td>...</td>\n",
       "      <td>0.0</td>\n",
       "      <td>0</td>\n",
       "      <td>0.0</td>\n",
       "      <td>0.0</td>\n",
       "      <td>0.0</td>\n",
       "      <td>0.0</td>\n",
       "      <td>0.0</td>\n",
       "      <td>0.0</td>\n",
       "      <td>Europe</td>\n",
       "      <td>UKR</td>\n",
       "    </tr>\n",
       "  </tbody>\n",
       "</table>\n",
       "<p>5 rows × 27 columns</p>\n",
       "</div>"
      ],
      "text/plain": [
       "            country     sex          age  suicides  population  \\\n",
       "year                                                             \n",
       "1987-01-01  Ukraine    male    75+ years       506      654800   \n",
       "1987-01-01  Ukraine  female   5-14 years         9     3560800   \n",
       "1987-01-01  Ukraine    male   5-14 years        53     3683900   \n",
       "1987-01-01  Ukraine  female  15-24 years       128     3459900   \n",
       "1987-01-01  Ukraine  female  25-34 years       176     3953000   \n",
       "\n",
       "            sucid_in_hundredk country-year  yearly_hdi    yearly_gdp  \\\n",
       "year                                                                   \n",
       "1987-01-01              77.28  Ukraine1987         NaN  6.408769e+10   \n",
       "1987-01-01               0.25  Ukraine1987         NaN  6.408769e+10   \n",
       "1987-01-01               1.44  Ukraine1987         NaN  6.408769e+10   \n",
       "1987-01-01               3.70  Ukraine1987         NaN  6.408769e+10   \n",
       "1987-01-01               4.45  Ukraine1987         NaN  6.408769e+10   \n",
       "\n",
       "            gdp_per_capita  ... legalrights  laborforcetotal  lifeexpectancy  \\\n",
       "year                        ...                                                \n",
       "1987-01-01            1353  ...         0.0                0             0.0   \n",
       "1987-01-01            1353  ...         0.0                0             0.0   \n",
       "1987-01-01            1353  ...         0.0                0             0.0   \n",
       "1987-01-01            1353  ...         0.0                0             0.0   \n",
       "1987-01-01            1353  ...         0.0                0             0.0   \n",
       "\n",
       "            mobilesubscriptionsp100  refugees  selfemployed  electricityacess  \\\n",
       "year                                                                            \n",
       "1987-01-01                      0.0       0.0           0.0               0.0   \n",
       "1987-01-01                      0.0       0.0           0.0               0.0   \n",
       "1987-01-01                      0.0       0.0           0.0               0.0   \n",
       "1987-01-01                      0.0       0.0           0.0               0.0   \n",
       "1987-01-01                      0.0       0.0           0.0               0.0   \n",
       "\n",
       "            secondarycompletion  continent  country_code  \n",
       "year                                                      \n",
       "1987-01-01                  0.0     Europe           UKR  \n",
       "1987-01-01                  0.0     Europe           UKR  \n",
       "1987-01-01                  0.0     Europe           UKR  \n",
       "1987-01-01                  0.0     Europe           UKR  \n",
       "1987-01-01                  0.0     Europe           UKR  \n",
       "\n",
       "[5 rows x 27 columns]"
      ]
     },
     "execution_count": 211,
     "metadata": {},
     "output_type": "execute_result"
    }
   ],
   "source": [
    "russia = df[(df.country == 'Ukraine')]\n",
    "\n",
    "# filter_list = ['Ukraine', 'Japan', 'Russian Federation']\n",
    "# russia = df[df.country.isin(filter_list)]\n",
    "# russia = df\n",
    "# russia['years'] = russia['year'].dt.year\n",
    "russia.head()"
   ]
  },
  {
   "cell_type": "code",
   "execution_count": 212,
   "id": "e155e946",
   "metadata": {},
   "outputs": [
    {
     "data": {
      "text/html": [
       "<div>\n",
       "<style scoped>\n",
       "    .dataframe tbody tr th:only-of-type {\n",
       "        vertical-align: middle;\n",
       "    }\n",
       "\n",
       "    .dataframe tbody tr th {\n",
       "        vertical-align: top;\n",
       "    }\n",
       "\n",
       "    .dataframe thead th {\n",
       "        text-align: right;\n",
       "    }\n",
       "</style>\n",
       "<table border=\"1\" class=\"dataframe\">\n",
       "  <thead>\n",
       "    <tr style=\"text-align: right;\">\n",
       "      <th></th>\n",
       "      <th>country</th>\n",
       "      <th>sex</th>\n",
       "      <th>age</th>\n",
       "      <th>suicides</th>\n",
       "      <th>population</th>\n",
       "      <th>sucid_in_hundredk</th>\n",
       "      <th>country-year</th>\n",
       "      <th>yearly_hdi</th>\n",
       "      <th>yearly_gdp</th>\n",
       "      <th>gdp_per_capita</th>\n",
       "      <th>...</th>\n",
       "      <th>legalrights</th>\n",
       "      <th>laborforcetotal</th>\n",
       "      <th>lifeexpectancy</th>\n",
       "      <th>mobilesubscriptionsp100</th>\n",
       "      <th>refugees</th>\n",
       "      <th>selfemployed</th>\n",
       "      <th>electricityacess</th>\n",
       "      <th>secondarycompletion</th>\n",
       "      <th>continent</th>\n",
       "      <th>country_code</th>\n",
       "    </tr>\n",
       "    <tr>\n",
       "      <th>year</th>\n",
       "      <th></th>\n",
       "      <th></th>\n",
       "      <th></th>\n",
       "      <th></th>\n",
       "      <th></th>\n",
       "      <th></th>\n",
       "      <th></th>\n",
       "      <th></th>\n",
       "      <th></th>\n",
       "      <th></th>\n",
       "      <th></th>\n",
       "      <th></th>\n",
       "      <th></th>\n",
       "      <th></th>\n",
       "      <th></th>\n",
       "      <th></th>\n",
       "      <th></th>\n",
       "      <th></th>\n",
       "      <th></th>\n",
       "      <th></th>\n",
       "      <th></th>\n",
       "    </tr>\n",
       "  </thead>\n",
       "  <tbody>\n",
       "    <tr>\n",
       "      <th>1987-01-01</th>\n",
       "      <td>Ukraine</td>\n",
       "      <td>male</td>\n",
       "      <td>75+ years</td>\n",
       "      <td>506</td>\n",
       "      <td>654800</td>\n",
       "      <td>77.28</td>\n",
       "      <td>Ukraine1987</td>\n",
       "      <td>NaN</td>\n",
       "      <td>6.408769e+10</td>\n",
       "      <td>1353</td>\n",
       "      <td>...</td>\n",
       "      <td>0.0</td>\n",
       "      <td>0</td>\n",
       "      <td>0.0</td>\n",
       "      <td>0.0</td>\n",
       "      <td>0.0</td>\n",
       "      <td>0.0</td>\n",
       "      <td>0.0</td>\n",
       "      <td>0.0</td>\n",
       "      <td>Europe</td>\n",
       "      <td>UKR</td>\n",
       "    </tr>\n",
       "    <tr>\n",
       "      <th>1987-01-01</th>\n",
       "      <td>Ukraine</td>\n",
       "      <td>female</td>\n",
       "      <td>5-14 years</td>\n",
       "      <td>9</td>\n",
       "      <td>3560800</td>\n",
       "      <td>0.25</td>\n",
       "      <td>Ukraine1987</td>\n",
       "      <td>NaN</td>\n",
       "      <td>6.408769e+10</td>\n",
       "      <td>1353</td>\n",
       "      <td>...</td>\n",
       "      <td>0.0</td>\n",
       "      <td>0</td>\n",
       "      <td>0.0</td>\n",
       "      <td>0.0</td>\n",
       "      <td>0.0</td>\n",
       "      <td>0.0</td>\n",
       "      <td>0.0</td>\n",
       "      <td>0.0</td>\n",
       "      <td>Europe</td>\n",
       "      <td>UKR</td>\n",
       "    </tr>\n",
       "    <tr>\n",
       "      <th>1987-01-01</th>\n",
       "      <td>Ukraine</td>\n",
       "      <td>male</td>\n",
       "      <td>5-14 years</td>\n",
       "      <td>53</td>\n",
       "      <td>3683900</td>\n",
       "      <td>1.44</td>\n",
       "      <td>Ukraine1987</td>\n",
       "      <td>NaN</td>\n",
       "      <td>6.408769e+10</td>\n",
       "      <td>1353</td>\n",
       "      <td>...</td>\n",
       "      <td>0.0</td>\n",
       "      <td>0</td>\n",
       "      <td>0.0</td>\n",
       "      <td>0.0</td>\n",
       "      <td>0.0</td>\n",
       "      <td>0.0</td>\n",
       "      <td>0.0</td>\n",
       "      <td>0.0</td>\n",
       "      <td>Europe</td>\n",
       "      <td>UKR</td>\n",
       "    </tr>\n",
       "    <tr>\n",
       "      <th>1987-01-01</th>\n",
       "      <td>Ukraine</td>\n",
       "      <td>female</td>\n",
       "      <td>15-24 years</td>\n",
       "      <td>128</td>\n",
       "      <td>3459900</td>\n",
       "      <td>3.70</td>\n",
       "      <td>Ukraine1987</td>\n",
       "      <td>NaN</td>\n",
       "      <td>6.408769e+10</td>\n",
       "      <td>1353</td>\n",
       "      <td>...</td>\n",
       "      <td>0.0</td>\n",
       "      <td>0</td>\n",
       "      <td>0.0</td>\n",
       "      <td>0.0</td>\n",
       "      <td>0.0</td>\n",
       "      <td>0.0</td>\n",
       "      <td>0.0</td>\n",
       "      <td>0.0</td>\n",
       "      <td>Europe</td>\n",
       "      <td>UKR</td>\n",
       "    </tr>\n",
       "    <tr>\n",
       "      <th>1987-01-01</th>\n",
       "      <td>Ukraine</td>\n",
       "      <td>female</td>\n",
       "      <td>25-34 years</td>\n",
       "      <td>176</td>\n",
       "      <td>3953000</td>\n",
       "      <td>4.45</td>\n",
       "      <td>Ukraine1987</td>\n",
       "      <td>NaN</td>\n",
       "      <td>6.408769e+10</td>\n",
       "      <td>1353</td>\n",
       "      <td>...</td>\n",
       "      <td>0.0</td>\n",
       "      <td>0</td>\n",
       "      <td>0.0</td>\n",
       "      <td>0.0</td>\n",
       "      <td>0.0</td>\n",
       "      <td>0.0</td>\n",
       "      <td>0.0</td>\n",
       "      <td>0.0</td>\n",
       "      <td>Europe</td>\n",
       "      <td>UKR</td>\n",
       "    </tr>\n",
       "  </tbody>\n",
       "</table>\n",
       "<p>5 rows × 27 columns</p>\n",
       "</div>"
      ],
      "text/plain": [
       "            country     sex          age  suicides  population  \\\n",
       "year                                                             \n",
       "1987-01-01  Ukraine    male    75+ years       506      654800   \n",
       "1987-01-01  Ukraine  female   5-14 years         9     3560800   \n",
       "1987-01-01  Ukraine    male   5-14 years        53     3683900   \n",
       "1987-01-01  Ukraine  female  15-24 years       128     3459900   \n",
       "1987-01-01  Ukraine  female  25-34 years       176     3953000   \n",
       "\n",
       "            sucid_in_hundredk country-year  yearly_hdi    yearly_gdp  \\\n",
       "year                                                                   \n",
       "1987-01-01              77.28  Ukraine1987         NaN  6.408769e+10   \n",
       "1987-01-01               0.25  Ukraine1987         NaN  6.408769e+10   \n",
       "1987-01-01               1.44  Ukraine1987         NaN  6.408769e+10   \n",
       "1987-01-01               3.70  Ukraine1987         NaN  6.408769e+10   \n",
       "1987-01-01               4.45  Ukraine1987         NaN  6.408769e+10   \n",
       "\n",
       "            gdp_per_capita  ... legalrights  laborforcetotal  lifeexpectancy  \\\n",
       "year                        ...                                                \n",
       "1987-01-01            1353  ...         0.0                0             0.0   \n",
       "1987-01-01            1353  ...         0.0                0             0.0   \n",
       "1987-01-01            1353  ...         0.0                0             0.0   \n",
       "1987-01-01            1353  ...         0.0                0             0.0   \n",
       "1987-01-01            1353  ...         0.0                0             0.0   \n",
       "\n",
       "            mobilesubscriptionsp100  refugees  selfemployed  electricityacess  \\\n",
       "year                                                                            \n",
       "1987-01-01                      0.0       0.0           0.0               0.0   \n",
       "1987-01-01                      0.0       0.0           0.0               0.0   \n",
       "1987-01-01                      0.0       0.0           0.0               0.0   \n",
       "1987-01-01                      0.0       0.0           0.0               0.0   \n",
       "1987-01-01                      0.0       0.0           0.0               0.0   \n",
       "\n",
       "            secondarycompletion  continent  country_code  \n",
       "year                                                      \n",
       "1987-01-01                  0.0     Europe           UKR  \n",
       "1987-01-01                  0.0     Europe           UKR  \n",
       "1987-01-01                  0.0     Europe           UKR  \n",
       "1987-01-01                  0.0     Europe           UKR  \n",
       "1987-01-01                  0.0     Europe           UKR  \n",
       "\n",
       "[5 rows x 27 columns]"
      ]
     },
     "execution_count": 212,
     "metadata": {},
     "output_type": "execute_result"
    }
   ],
   "source": [
    "russia.head()"
   ]
  },
  {
   "cell_type": "code",
   "execution_count": 213,
   "id": "08d9e0e7",
   "metadata": {
    "scrolled": true
   },
   "outputs": [
    {
     "name": "stdout",
     "output_type": "stream",
     "text": [
      "<class 'pandas.core.frame.DataFrame'>\n",
      "DatetimeIndex: 336 entries, 1987-01-01 to 2015-01-01\n",
      "Data columns (total 1 columns):\n",
      " #   Column             Non-Null Count  Dtype  \n",
      "---  ------             --------------  -----  \n",
      " 0   sucid_in_hundredk  336 non-null    float64\n",
      "dtypes: float64(1)\n",
      "memory usage: 5.2 KB\n"
     ]
    }
   ],
   "source": [
    "columns = ['sucid_in_hundredk']\n",
    "russia = pd.DataFrame(russia, columns=columns)\n",
    "russia.info()"
   ]
  },
  {
   "cell_type": "code",
   "execution_count": 214,
   "id": "5f21a80f",
   "metadata": {},
   "outputs": [],
   "source": [
    "# russia.index.unique()"
   ]
  },
  {
   "cell_type": "code",
   "execution_count": 215,
   "id": "e6675a55",
   "metadata": {},
   "outputs": [
    {
     "data": {
      "text/html": [
       "<div>\n",
       "<style scoped>\n",
       "    .dataframe tbody tr th:only-of-type {\n",
       "        vertical-align: middle;\n",
       "    }\n",
       "\n",
       "    .dataframe tbody tr th {\n",
       "        vertical-align: top;\n",
       "    }\n",
       "\n",
       "    .dataframe thead th {\n",
       "        text-align: right;\n",
       "    }\n",
       "</style>\n",
       "<table border=\"1\" class=\"dataframe\">\n",
       "  <thead>\n",
       "    <tr style=\"text-align: right;\">\n",
       "      <th></th>\n",
       "      <th>sucid_in_hundredk</th>\n",
       "    </tr>\n",
       "    <tr>\n",
       "      <th>year</th>\n",
       "      <th></th>\n",
       "    </tr>\n",
       "  </thead>\n",
       "  <tbody>\n",
       "    <tr>\n",
       "      <th>1987-01-01</th>\n",
       "      <td>77.28</td>\n",
       "    </tr>\n",
       "    <tr>\n",
       "      <th>1987-01-01</th>\n",
       "      <td>0.25</td>\n",
       "    </tr>\n",
       "    <tr>\n",
       "      <th>1987-01-01</th>\n",
       "      <td>1.44</td>\n",
       "    </tr>\n",
       "    <tr>\n",
       "      <th>1987-01-01</th>\n",
       "      <td>3.70</td>\n",
       "    </tr>\n",
       "    <tr>\n",
       "      <th>1987-01-01</th>\n",
       "      <td>4.45</td>\n",
       "    </tr>\n",
       "    <tr>\n",
       "      <th>...</th>\n",
       "      <td>...</td>\n",
       "    </tr>\n",
       "    <tr>\n",
       "      <th>2015-01-01</th>\n",
       "      <td>37.63</td>\n",
       "    </tr>\n",
       "    <tr>\n",
       "      <th>2015-01-01</th>\n",
       "      <td>43.87</td>\n",
       "    </tr>\n",
       "    <tr>\n",
       "      <th>2015-01-01</th>\n",
       "      <td>70.96</td>\n",
       "    </tr>\n",
       "    <tr>\n",
       "      <th>2015-01-01</th>\n",
       "      <td>1.55</td>\n",
       "    </tr>\n",
       "    <tr>\n",
       "      <th>2015-01-01</th>\n",
       "      <td>0.94</td>\n",
       "    </tr>\n",
       "  </tbody>\n",
       "</table>\n",
       "<p>336 rows × 1 columns</p>\n",
       "</div>"
      ],
      "text/plain": [
       "            sucid_in_hundredk\n",
       "year                         \n",
       "1987-01-01              77.28\n",
       "1987-01-01               0.25\n",
       "1987-01-01               1.44\n",
       "1987-01-01               3.70\n",
       "1987-01-01               4.45\n",
       "...                       ...\n",
       "2015-01-01              37.63\n",
       "2015-01-01              43.87\n",
       "2015-01-01              70.96\n",
       "2015-01-01               1.55\n",
       "2015-01-01               0.94\n",
       "\n",
       "[336 rows x 1 columns]"
      ]
     },
     "execution_count": 215,
     "metadata": {},
     "output_type": "execute_result"
    }
   ],
   "source": [
    "# date_range = pd.date_range(start=\"1989-01-01\",end=\"2015-01-01\")\n",
    "russia"
   ]
  },
  {
   "cell_type": "code",
   "execution_count": 216,
   "id": "60db528e",
   "metadata": {},
   "outputs": [
    {
     "data": {
      "text/html": [
       "<div>\n",
       "<style scoped>\n",
       "    .dataframe tbody tr th:only-of-type {\n",
       "        vertical-align: middle;\n",
       "    }\n",
       "\n",
       "    .dataframe tbody tr th {\n",
       "        vertical-align: top;\n",
       "    }\n",
       "\n",
       "    .dataframe thead th {\n",
       "        text-align: right;\n",
       "    }\n",
       "</style>\n",
       "<table border=\"1\" class=\"dataframe\">\n",
       "  <thead>\n",
       "    <tr style=\"text-align: right;\">\n",
       "      <th></th>\n",
       "      <th>sucid_in_hundredk</th>\n",
       "    </tr>\n",
       "    <tr>\n",
       "      <th>year</th>\n",
       "      <th></th>\n",
       "    </tr>\n",
       "  </thead>\n",
       "  <tbody>\n",
       "    <tr>\n",
       "      <th>1987-01-01</th>\n",
       "      <td>294.04</td>\n",
       "    </tr>\n",
       "    <tr>\n",
       "      <th>1988-01-01</th>\n",
       "      <td>286.72</td>\n",
       "    </tr>\n",
       "    <tr>\n",
       "      <th>1989-01-01</th>\n",
       "      <td>316.32</td>\n",
       "    </tr>\n",
       "    <tr>\n",
       "      <th>1990-01-01</th>\n",
       "      <td>296.70</td>\n",
       "    </tr>\n",
       "    <tr>\n",
       "      <th>1991-01-01</th>\n",
       "      <td>297.91</td>\n",
       "    </tr>\n",
       "    <tr>\n",
       "      <th>1992-01-01</th>\n",
       "      <td>322.49</td>\n",
       "    </tr>\n",
       "    <tr>\n",
       "      <th>1993-01-01</th>\n",
       "      <td>352.11</td>\n",
       "    </tr>\n",
       "    <tr>\n",
       "      <th>1994-01-01</th>\n",
       "      <td>384.29</td>\n",
       "    </tr>\n",
       "    <tr>\n",
       "      <th>1995-01-01</th>\n",
       "      <td>396.67</td>\n",
       "    </tr>\n",
       "    <tr>\n",
       "      <th>1996-01-01</th>\n",
       "      <td>403.42</td>\n",
       "    </tr>\n",
       "  </tbody>\n",
       "</table>\n",
       "</div>"
      ],
      "text/plain": [
       "            sucid_in_hundredk\n",
       "year                         \n",
       "1987-01-01             294.04\n",
       "1988-01-01             286.72\n",
       "1989-01-01             316.32\n",
       "1990-01-01             296.70\n",
       "1991-01-01             297.91\n",
       "1992-01-01             322.49\n",
       "1993-01-01             352.11\n",
       "1994-01-01             384.29\n",
       "1995-01-01             396.67\n",
       "1996-01-01             403.42"
      ]
     },
     "execution_count": 216,
     "metadata": {},
     "output_type": "execute_result"
    }
   ],
   "source": [
    "# adding all deaths together and group by year\n",
    "russia = russia.groupby(['year'])['sucid_in_hundredk'].transform('sum')\n",
    "# russia = russia.reset_index().drop_duplicates()\n",
    "russia = pd.Series.to_frame(russia)\n",
    "\n",
    "# russia['year'] = pd.to_datetime(russia['year'], format='%Y00%').apply(lambda x: x.strftime('%Y'))\n",
    "russia['year'] = list(russia.index)\n",
    "russia = russia.drop_duplicates()\n",
    "russia = russia.drop(labels='year', axis=1)\n",
    "russia.head(10)"
   ]
  },
  {
   "cell_type": "code",
   "execution_count": 217,
   "id": "9c87b35e",
   "metadata": {},
   "outputs": [
    {
     "data": {
      "text/plain": [
       "DatetimeIndex(['1987-01-01', '1988-01-01', '1989-01-01', '1990-01-01',\n",
       "               '1991-01-01', '1992-01-01', '1993-01-01', '1994-01-01',\n",
       "               '1995-01-01', '1996-01-01', '1997-01-01', '1998-01-01',\n",
       "               '1999-01-01', '2000-01-01', '2001-01-01', '2002-01-01',\n",
       "               '2003-01-01', '2004-01-01', '2005-01-01', '2006-01-01',\n",
       "               '2007-01-01', '2008-01-01', '2009-01-01', '2010-01-01',\n",
       "               '2011-01-01', '2012-01-01', '2014-01-01', '2015-01-01'],\n",
       "              dtype='datetime64[ns]', name='year', freq=None)"
      ]
     },
     "execution_count": 217,
     "metadata": {},
     "output_type": "execute_result"
    }
   ],
   "source": [
    "russia.index"
   ]
  },
  {
   "cell_type": "code",
   "execution_count": 218,
   "id": "3ac07c1b",
   "metadata": {
    "scrolled": true
   },
   "outputs": [
    {
     "data": {
      "image/png": "[encoded data removed]",
      "text/plain": [
       "<Figure size 432x288 with 1 Axes>"
      ]
     },
     "metadata": {
      "needs_background": "light"
     },
     "output_type": "display_data"
    }
   ],
   "source": [
    "fig, ax = plt.subplots()\n",
    "russia.plot(ax=ax)\n",
    "plt.show()\n"
   ]
  },
  {
   "cell_type": "code",
   "execution_count": 219,
   "id": "50148440",
   "metadata": {},
   "outputs": [],
   "source": [
    "from sklearn.model_selection import train_test_split\n",
    "\n",
    "russia_train, russia_test = train_test_split(russia, test_size=0.2)"
   ]
  },
  {
   "cell_type": "code",
   "execution_count": 220,
   "id": "b8e27369",
   "metadata": {
    "scrolled": true
   },
   "outputs": [],
   "source": [
    "# # Split the data into a train and test set\n",
    "# russia_train = russia.loc['1995':'1995']\n",
    "# russia_test = russia.loc[:'1996']\n",
    "\n",
    "# # Create an axis\n",
    "# fig, ax = plt.subplots()\n",
    "\n",
    "# Plot the train and test sets on the axis ax\n",
    "russia_train.plot(ax=ax)\n",
    "russia_test.plot(ax=ax)\n",
    "plt.show()"
   ]
  },
  {
   "cell_type": "markdown",
   "id": "29cb7941",
   "metadata": {},
   "source": [
    "### Dicky-Fuller test"
   ]
  },
  {
   "cell_type": "markdown",
   "id": "d273938f",
   "metadata": {},
   "source": [
    "Null Hypothesis H0 : The dataset is non-stationary \n",
    "Alternate Hypothesis : Dataset is stationary"
   ]
  },
  {
   "cell_type": "code",
   "execution_count": 221,
   "id": "f1391f19",
   "metadata": {
    "scrolled": true
   },
   "outputs": [
    {
     "name": "stdout",
     "output_type": "stream",
     "text": [
      "(-0.23971930646946707, 0.9336185929975246, 0, 27, {'1%': -3.6996079738860943, '5%': -2.9764303469999494, '10%': -2.627601001371742}, 135.78255134276284)\n"
     ]
    }
   ],
   "source": [
    "# test for testing non-stationrary using dicky fuller test using stat models\n",
    "from statsmodels.tsa.stattools import adfuller\n",
    "results = adfuller(russia['sucid_in_hundredk'])\n",
    "print(results)"
   ]
  },
  {
   "cell_type": "markdown",
   "id": "1293b685",
   "metadata": {},
   "source": [
    "##### Interpretation\n",
    "\n",
    "Above result is a tuple.\n",
    "Zeroth Elemenet is test statisctic in this case -2.9330, the more the number is negative more the data is stationary\n",
    "Next element is the P value, here it's 0.0416 \n",
    "\n",
    "If P value is less than 0.05 we reject the null hypothesis.\n",
    "We assume that our time series is not non-stationary\n",
    "\n",
    "In this case, we reject the null hypothesis. so we can say our time series is <b>stationary</b>.\n",
    "\n",
    "\n",
    "last item in the tuple is a dictionary, this stores the critical values of the test, which creates different p values. in this case if you want the p value 0.05 or less, test statistics needed to be below -2.91. \n",
    "\n",
    "<p style=\"background-color:green;\">Now we need to make it stationary by using </p>"
   ]
  },
  {
   "cell_type": "code",
   "execution_count": 222,
   "id": "2a5ed396",
   "metadata": {
    "scrolled": true
   },
   "outputs": [],
   "source": [
    "# Making Time Series by taking the difference.\n",
    "# rsa_stationary = russia.diff()\n",
    "# rsa_stationary.dropna()      # removing the na value from the first row\n",
    "\n",
    "# fig, ax = plt.subplots()\n",
    "# rsa_stationary.plot(ax=ax)\n",
    "# plt.show()"
   ]
  },
  {
   "cell_type": "markdown",
   "id": "697223e1",
   "metadata": {},
   "source": [
    "Even though we can use different methods to make the data stationary. I have successfully used \"taking the difference\" methods, now the data looks stationary."
   ]
  },
  {
   "cell_type": "markdown",
   "id": "dcf189e6",
   "metadata": {},
   "source": [
    "### AR and MA Models"
   ]
  },
  {
   "cell_type": "code",
   "execution_count": 223,
   "id": "c05aa4b4",
   "metadata": {},
   "outputs": [],
   "source": [
    "from statsmodels.tsa.arima_process import arma_generate_sample\n",
    "ar_coefs = [1,-0.5]\n",
    "ma_coefs =  [1, 0.2]"
   ]
  },
  {
   "cell_type": "markdown",
   "id": "986fe95b",
   "metadata": {},
   "source": [
    "we always set lag 0 coefficiant as 1 for both lag 1 -0.5 and 0.2 accordingly"
   ]
  },
  {
   "cell_type": "code",
   "execution_count": 224,
   "id": "53d1069d",
   "metadata": {},
   "outputs": [],
   "source": [
    "y = arma_generate_sample(ar_coefs,ma_coefs, nsample=1000, scale=0.5)"
   ]
  },
  {
   "cell_type": "code",
   "execution_count": 225,
   "id": "23fd92ef",
   "metadata": {},
   "outputs": [
    {
     "name": "stdout",
     "output_type": "stream",
     "text": [
      "                              ARMA Model Results                              \n",
      "==============================================================================\n",
      "Dep. Variable:                      y   No. Observations:                 1000\n",
      "Model:                     ARMA(2, 0)   Log Likelihood                -732.896\n",
      "Method:                       css-mle   S.D. of innovations              0.503\n",
      "Date:                Sat, 04 Jun 2022   AIC                           1473.791\n",
      "Time:                        17:41:00   BIC                           1493.422\n",
      "Sample:                             0   HQIC                          1481.253\n",
      "                                                                              \n",
      "==============================================================================\n",
      "                 coef    std err          z      P>|z|      [0.025      0.975]\n",
      "------------------------------------------------------------------------------\n",
      "const         -0.0051      0.034     -0.149      0.881      -0.072       0.061\n",
      "ar.L1.y        0.6969      0.031     22.354      0.000       0.636       0.758\n",
      "ar.L2.y       -0.1655      0.031     -5.303      0.000      -0.227      -0.104\n",
      "                                    Roots                                    \n",
      "=============================================================================\n",
      "                  Real          Imaginary           Modulus         Frequency\n",
      "-----------------------------------------------------------------------------\n",
      "AR.1            2.1059           -1.2684j            2.4584           -0.0863\n",
      "AR.2            2.1059           +1.2684j            2.4584            0.0863\n",
      "-----------------------------------------------------------------------------\n"
     ]
    }
   ],
   "source": [
    "# Import the ARMA model\n",
    "from statsmodels.tsa.arima_model import ARMA\n",
    "import warnings\n",
    "warnings.filterwarnings('ignore')\n",
    "\n",
    "# Instantiate the model\n",
    "model = ARMA(y, order=(2,0))\n",
    "\n",
    "# Fit the model\n",
    "results = model.fit()\n",
    "\n",
    "# Print summary\n",
    "print(results.summary())"
   ]
  },
  {
   "cell_type": "markdown",
   "id": "942f9906",
   "metadata": {},
   "source": [
    "### ARMAX Model"
   ]
  },
  {
   "cell_type": "code",
   "execution_count": 226,
   "id": "89515445",
   "metadata": {},
   "outputs": [
    {
     "data": {
      "text/html": [
       "<div>\n",
       "<style scoped>\n",
       "    .dataframe tbody tr th:only-of-type {\n",
       "        vertical-align: middle;\n",
       "    }\n",
       "\n",
       "    .dataframe tbody tr th {\n",
       "        vertical-align: top;\n",
       "    }\n",
       "\n",
       "    .dataframe thead th {\n",
       "        text-align: right;\n",
       "    }\n",
       "</style>\n",
       "<table border=\"1\" class=\"dataframe\">\n",
       "  <thead>\n",
       "    <tr style=\"text-align: right;\">\n",
       "      <th></th>\n",
       "      <th>sucid_in_hundredk</th>\n",
       "    </tr>\n",
       "    <tr>\n",
       "      <th>year</th>\n",
       "      <th></th>\n",
       "    </tr>\n",
       "  </thead>\n",
       "  <tbody>\n",
       "    <tr>\n",
       "      <th>1992-01-01</th>\n",
       "      <td>322.49</td>\n",
       "    </tr>\n",
       "    <tr>\n",
       "      <th>1995-01-01</th>\n",
       "      <td>396.67</td>\n",
       "    </tr>\n",
       "    <tr>\n",
       "      <th>2015-01-01</th>\n",
       "      <td>244.72</td>\n",
       "    </tr>\n",
       "    <tr>\n",
       "      <th>1991-01-01</th>\n",
       "      <td>297.91</td>\n",
       "    </tr>\n",
       "    <tr>\n",
       "      <th>2002-01-01</th>\n",
       "      <td>344.05</td>\n",
       "    </tr>\n",
       "  </tbody>\n",
       "</table>\n",
       "</div>"
      ],
      "text/plain": [
       "            sucid_in_hundredk\n",
       "year                         \n",
       "1992-01-01             322.49\n",
       "1995-01-01             396.67\n",
       "2015-01-01             244.72\n",
       "1991-01-01             297.91\n",
       "2002-01-01             344.05"
      ]
     },
     "execution_count": 226,
     "metadata": {},
     "output_type": "execute_result"
    }
   ],
   "source": [
    "russia_train.head()"
   ]
  },
  {
   "cell_type": "code",
   "execution_count": 227,
   "id": "4508920c",
   "metadata": {},
   "outputs": [
    {
     "name": "stdout",
     "output_type": "stream",
     "text": [
      "                              ARMA Model Results                              \n",
      "==============================================================================\n",
      "Dep. Variable:      sucid_in_hundredk   No. Observations:                13276\n",
      "Model:                     ARMA(2, 1)   Log Likelihood              -55988.639\n",
      "Method:                       css-mle   S.D. of innovations             16.417\n",
      "Date:                Sat, 04 Jun 2022   AIC                         111989.278\n",
      "Time:                        17:41:07   BIC                         112034.240\n",
      "Sample:                             0   HQIC                        112004.286\n",
      "                                                                              \n",
      "===========================================================================================\n",
      "                              coef    std err          z      P>|z|      [0.025      0.975]\n",
      "-------------------------------------------------------------------------------------------\n",
      "const                      15.7530      0.355     44.377      0.000      15.057      16.449\n",
      "unemployment               -0.2495      0.038     -6.572      0.000      -0.324      -0.175\n",
      "ar.L1.sucid_in_hundredk     0.3355      0.065      5.194      0.000       0.209       0.462\n",
      "ar.L2.sucid_in_hundredk     0.1375      0.029      4.792      0.000       0.081       0.194\n",
      "ma.L1.sucid_in_hundredk     0.0466      0.065      0.716      0.474      -0.081       0.174\n",
      "                                    Roots                                    \n",
      "=============================================================================\n",
      "                  Real          Imaginary           Modulus         Frequency\n",
      "-----------------------------------------------------------------------------\n",
      "AR.1            1.7398           +0.0000j            1.7398            0.0000\n",
      "AR.2           -4.1795           +0.0000j            4.1795            0.5000\n",
      "MA.1          -21.4759           +0.0000j           21.4759            0.5000\n",
      "-----------------------------------------------------------------------------\n"
     ]
    }
   ],
   "source": [
    "# Instantiate the model\n",
    "model = ARMA(df[ 'sucid_in_hundredk'], order=(2,1), exog=df['unemployment'])\n",
    "# Fit the model\n",
    "results = model.fit()\n",
    "\n",
    "print(results.summary())"
   ]
  },
  {
   "cell_type": "markdown",
   "id": "f2828310",
   "metadata": {},
   "source": [
    "We have fitted the models above. now we need to make predictions"
   ]
  },
  {
   "cell_type": "markdown",
   "id": "aa2af7f0",
   "metadata": {},
   "source": [
    "One Step Ahead Predictions"
   ]
  },
  {
   "cell_type": "markdown",
   "id": "1e05ab96",
   "metadata": {},
   "source": [
    "### Statmodels using SARIMAX class (One Step Prediction)"
   ]
  },
  {
   "cell_type": "markdown",
   "id": "70e42c1f",
   "metadata": {},
   "source": [
    "For ex AR1 Model : At any point in the time series, we can estimate the next series value, by multiplying the previous value by the lag1 AR coefficient.\n",
    "\n",
    "Predicting next series using the previous series value is called as one step prediction. This allows us to evaluate how good our model is."
   ]
  },
  {
   "cell_type": "code",
   "execution_count": 228,
   "id": "1ecb8e2d",
   "metadata": {},
   "outputs": [
    {
     "data": {
      "text/html": [
       "<div>\n",
       "<style scoped>\n",
       "    .dataframe tbody tr th:only-of-type {\n",
       "        vertical-align: middle;\n",
       "    }\n",
       "\n",
       "    .dataframe tbody tr th {\n",
       "        vertical-align: top;\n",
       "    }\n",
       "\n",
       "    .dataframe thead th {\n",
       "        text-align: right;\n",
       "    }\n",
       "</style>\n",
       "<table border=\"1\" class=\"dataframe\">\n",
       "  <thead>\n",
       "    <tr style=\"text-align: right;\">\n",
       "      <th></th>\n",
       "      <th>sucid_in_hundredk</th>\n",
       "    </tr>\n",
       "    <tr>\n",
       "      <th>year</th>\n",
       "      <th></th>\n",
       "    </tr>\n",
       "  </thead>\n",
       "  <tbody>\n",
       "    <tr>\n",
       "      <th>2010-01-01</th>\n",
       "      <td>263.07</td>\n",
       "    </tr>\n",
       "    <tr>\n",
       "      <th>2011-01-01</th>\n",
       "      <td>264.00</td>\n",
       "    </tr>\n",
       "    <tr>\n",
       "      <th>2012-01-01</th>\n",
       "      <td>268.47</td>\n",
       "    </tr>\n",
       "    <tr>\n",
       "      <th>2014-01-01</th>\n",
       "      <td>250.50</td>\n",
       "    </tr>\n",
       "    <tr>\n",
       "      <th>2015-01-01</th>\n",
       "      <td>244.72</td>\n",
       "    </tr>\n",
       "  </tbody>\n",
       "</table>\n",
       "</div>"
      ],
      "text/plain": [
       "            sucid_in_hundredk\n",
       "year                         \n",
       "2010-01-01             263.07\n",
       "2011-01-01             264.00\n",
       "2012-01-01             268.47\n",
       "2014-01-01             250.50\n",
       "2015-01-01             244.72"
      ]
     },
     "execution_count": 228,
     "metadata": {},
     "output_type": "execute_result"
    }
   ],
   "source": [
    "russia.tail()"
   ]
  },
  {
   "cell_type": "code",
   "execution_count": 229,
   "id": "24688307",
   "metadata": {},
   "outputs": [
    {
     "name": "stdout",
     "output_type": "stream",
     "text": [
      "year\n",
      "2005-01-01    307.647798\n",
      "2006-01-01    293.417036\n",
      "Name: predicted_mean, dtype: float64\n"
     ]
    }
   ],
   "source": [
    "from statsmodels.tsa. statespace.sarimax import SARIMAX\n",
    "\n",
    "# An ARMA(p, q) + constant model\n",
    "model = SARIMAX(russia, order=(2,0, 1), trend='c')\n",
    "\n",
    "# Make predictions for last 30 values\n",
    "results = model.fit()\n",
    "\n",
    "# Generate predictions\n",
    "one_step_forecast = results.get_prediction(start=-10)\n",
    "\n",
    "# Extract prediction mean\n",
    "mean_forecast = one_step_forecast.predicted_mean\n",
    "\n",
    "print(mean_forecast.head(2))"
   ]
  },
  {
   "cell_type": "markdown",
   "id": "2dabedc9",
   "metadata": {},
   "source": [
    "Here I am making predictions based on last 30 entries of the training data.\n",
    "\n",
    "In above case, center value of the forecast is stored in predicted_mean\n",
    "\n",
    "This model can do everything a ARIMA model and can be extended further. p,0,q sarimax model is exact same arima pq model. we can also add a constant to the model using trend = c."
   ]
  },
  {
   "cell_type": "code",
   "execution_count": 230,
   "id": "26cd8b13",
   "metadata": {},
   "outputs": [
    {
     "name": "stdout",
     "output_type": "stream",
     "text": [
      "            lower sucid_in_hundredk  upper sucid_in_hundredk\n",
      "year                                                        \n",
      "2005-01-01               278.104251               337.191344\n",
      "2006-01-01               263.899214               322.934858\n"
     ]
    }
   ],
   "source": [
    "# Get confidence intervals of predictions\n",
    "confidence_intervals = one_step_forecast.conf_int()\n",
    "\n",
    "print(confidence_intervals.head(2))"
   ]
  },
  {
   "cell_type": "code",
   "execution_count": 231,
   "id": "6e2eb14d",
   "metadata": {},
   "outputs": [
    {
     "data": {
      "text/plain": [
       "<matplotlib.legend.Legend at 0x21d33519280>"
      ]
     },
     "execution_count": 231,
     "metadata": {},
     "output_type": "execute_result"
    },
    {
     "data": {
      "image/png": "[encoded data removed]",
      "text/plain": [
       "<Figure size 432x288 with 1 Axes>"
      ]
     },
     "metadata": {
      "needs_background": "light"
     },
     "output_type": "display_data"
    }
   ],
   "source": [
    "# Select lower and upper confidence limits\n",
    "lower_limits = confidence_intervals.loc[:,'lower sucid_in_hundredk']\n",
    "upper_limits = confidence_intervals.loc[:,'upper sucid_in_hundredk']\n",
    "\n",
    "# Print best estimate predictions\n",
    "# print(mean_forecast)\n",
    "\n",
    "plt.figure()\n",
    "\n",
    "plt.plot(russia.index, russia ,label='observed')\n",
    "# Plot prediction\n",
    "plt.plot(mean_forecast.index, mean_forecast,color='r' ,label='forecast')\n",
    "# Shade uncertainty area\n",
    "plt.fill_between(lower_limits.index, lower_limits, upper_limits, color='pink')\n",
    "\n",
    "# set labels, legends and show plot\n",
    "plt.xlabel('Date')\n",
    "plt.ylabel('Suicide in 100k')\n",
    "plt.legend()"
   ]
  },
  {
   "cell_type": "markdown",
   "id": "0b54ce4a",
   "metadata": {},
   "source": [
    "##### Confidence intervals"
   ]
  },
  {
   "cell_type": "code",
   "execution_count": 232,
   "id": "8ff3d9aa",
   "metadata": {},
   "outputs": [
    {
     "data": {
      "text/html": [
       "<div>\n",
       "<style scoped>\n",
       "    .dataframe tbody tr th:only-of-type {\n",
       "        vertical-align: middle;\n",
       "    }\n",
       "\n",
       "    .dataframe tbody tr th {\n",
       "        vertical-align: top;\n",
       "    }\n",
       "\n",
       "    .dataframe thead th {\n",
       "        text-align: right;\n",
       "    }\n",
       "</style>\n",
       "<table border=\"1\" class=\"dataframe\">\n",
       "  <thead>\n",
       "    <tr style=\"text-align: right;\">\n",
       "      <th></th>\n",
       "      <th>lower sucid_in_hundredk</th>\n",
       "      <th>upper sucid_in_hundredk</th>\n",
       "    </tr>\n",
       "    <tr>\n",
       "      <th>year</th>\n",
       "      <th></th>\n",
       "      <th></th>\n",
       "    </tr>\n",
       "  </thead>\n",
       "  <tbody>\n",
       "    <tr>\n",
       "      <th>2005-01-01</th>\n",
       "      <td>278.104251</td>\n",
       "      <td>337.191344</td>\n",
       "    </tr>\n",
       "    <tr>\n",
       "      <th>2006-01-01</th>\n",
       "      <td>263.899214</td>\n",
       "      <td>322.934858</td>\n",
       "    </tr>\n",
       "    <tr>\n",
       "      <th>2007-01-01</th>\n",
       "      <td>253.939832</td>\n",
       "      <td>312.928108</td>\n",
       "    </tr>\n",
       "    <tr>\n",
       "      <th>2008-01-01</th>\n",
       "      <td>251.973204</td>\n",
       "      <td>310.917728</td>\n",
       "    </tr>\n",
       "    <tr>\n",
       "      <th>2009-01-01</th>\n",
       "      <td>244.929149</td>\n",
       "      <td>303.833135</td>\n",
       "    </tr>\n",
       "    <tr>\n",
       "      <th>2010-01-01</th>\n",
       "      <td>252.998890</td>\n",
       "      <td>311.865212</td>\n",
       "    </tr>\n",
       "    <tr>\n",
       "      <th>2011-01-01</th>\n",
       "      <td>229.150481</td>\n",
       "      <td>287.981719</td>\n",
       "    </tr>\n",
       "    <tr>\n",
       "      <th>2012-01-01</th>\n",
       "      <td>242.533068</td>\n",
       "      <td>301.331543</td>\n",
       "    </tr>\n",
       "    <tr>\n",
       "      <th>2014-01-01</th>\n",
       "      <td>235.570059</td>\n",
       "      <td>294.337871</td>\n",
       "    </tr>\n",
       "    <tr>\n",
       "      <th>2015-01-01</th>\n",
       "      <td>223.871786</td>\n",
       "      <td>282.610839</td>\n",
       "    </tr>\n",
       "  </tbody>\n",
       "</table>\n",
       "</div>"
      ],
      "text/plain": [
       "            lower sucid_in_hundredk  upper sucid_in_hundredk\n",
       "year                                                        \n",
       "2005-01-01               278.104251               337.191344\n",
       "2006-01-01               263.899214               322.934858\n",
       "2007-01-01               253.939832               312.928108\n",
       "2008-01-01               251.973204               310.917728\n",
       "2009-01-01               244.929149               303.833135\n",
       "2010-01-01               252.998890               311.865212\n",
       "2011-01-01               229.150481               287.981719\n",
       "2012-01-01               242.533068               301.331543\n",
       "2014-01-01               235.570059               294.337871\n",
       "2015-01-01               223.871786               282.610839"
      ]
     },
     "execution_count": 232,
     "metadata": {},
     "output_type": "execute_result"
    }
   ],
   "source": [
    "confidence_intervals = one_step_forecast.conf_int()\n",
    "confidence_intervals.head(10)"
   ]
  },
  {
   "cell_type": "markdown",
   "id": "696f11e1",
   "metadata": {},
   "source": [
    "Above dataframe shows the lower and upper uncertainity range of our prediction"
   ]
  },
  {
   "cell_type": "markdown",
   "id": "cc0a3e16",
   "metadata": {},
   "source": [
    "Reconstructing original time series after diffrencing"
   ]
  },
  {
   "cell_type": "code",
   "execution_count": 233,
   "id": "fa30c80c",
   "metadata": {},
   "outputs": [
    {
     "data": {
      "text/plain": [
       "28    245.705465\n",
       "29    496.043500\n",
       "Name: predicted_mean, dtype: float64"
      ]
     },
     "execution_count": 233,
     "metadata": {},
     "output_type": "execute_result"
    }
   ],
   "source": [
    "diff_forecast = results.get_forecast(steps=10).predicted_mean\n",
    "from numpy import cumsum\n",
    "mean_forecast = cumsum(diff_forecast)\n",
    "\n",
    "mean_forecast.head(2)"
   ]
  },
  {
   "cell_type": "markdown",
   "id": "52ab43cb",
   "metadata": {},
   "source": [
    "##### Identifying the correct order by ACF and PCF (When both the order p and q are no-zero)"
   ]
  },
  {
   "cell_type": "code",
   "execution_count": 234,
   "id": "dcd87fb9",
   "metadata": {},
   "outputs": [],
   "source": [
    "# Create model\n",
    "model = SARIMAX(russia, order=(2,1,1))\n",
    "#Fit model\n",
    "model.fit()\n",
    "# Make forecast\n",
    "mean_forecast = results.get_forecast(steps=10).predicted_mean"
   ]
  },
  {
   "cell_type": "code",
   "execution_count": 235,
   "id": "fd29ffdf",
   "metadata": {},
   "outputs": [
    {
     "data": {
      "image/png": "[encoded data removed]",
      "text/plain": [
       "<Figure size 576x576 with 2 Axes>"
      ]
     },
     "metadata": {
      "needs_background": "light"
     },
     "output_type": "display_data"
    }
   ],
   "source": [
    "from statsmodels.graphics.tsaplots import plot_acf, plot_pacf\n",
    "# Create figure\n",
    "fig, (ax1, ax2) = plt.subplots (2,1,figsize=(8,8))\n",
    "# Make ACF plot\n",
    "plot_acf(russia,lags=10, zero=False, ax=ax1)\n",
    "# Make PACF plot\n",
    "plot_pacf(russia, lags=10, zero=False, ax=ax2)\n",
    "\n",
    "plt.show()"
   ]
  },
  {
   "cell_type": "markdown",
   "id": "de947bf4",
   "metadata": {},
   "source": [
    "In the above ACF and PACF, we can see ACF cuts of and PACF tails off since we have a MA(q) model. So this is a AR(1) Model"
   ]
  },
  {
   "cell_type": "code",
   "execution_count": 236,
   "id": "3d39ec24",
   "metadata": {},
   "outputs": [
    {
     "name": "stdout",
     "output_type": "stream",
     "text": [
      "                               SARIMAX Results                                \n",
      "==============================================================================\n",
      "Dep. Variable:      sucid_in_hundredk   No. Observations:                   28\n",
      "Model:               SARIMAX(1, 0, 0)   Log Likelihood                -120.633\n",
      "Date:                Sat, 04 Jun 2022   AIC                            245.266\n",
      "Time:                        17:41:12   BIC                            247.930\n",
      "Sample:                             0   HQIC                           246.080\n",
      "                                 - 28                                         \n",
      "Covariance Type:                  opg                                         \n",
      "==============================================================================\n",
      "                 coef    std err          z      P>|z|      [0.025      0.975]\n",
      "------------------------------------------------------------------------------\n",
      "ar.L1          0.9982      0.009    109.622      0.000       0.980       1.016\n",
      "sigma2       264.3394     81.676      3.236      0.001     104.257     424.421\n",
      "===================================================================================\n",
      "Ljung-Box (L1) (Q):                   2.17   Jarque-Bera (JB):                 1.12\n",
      "Prob(Q):                              0.14   Prob(JB):                         0.57\n",
      "Heteroskedasticity (H):               0.20   Skew:                             0.46\n",
      "Prob(H) (two-sided):                  0.02   Kurtosis:                         2.68\n",
      "===================================================================================\n",
      "\n",
      "Warnings:\n",
      "[1] Covariance matrix calculated using the outer product of gradients (complex-step).\n"
     ]
    }
   ],
   "source": [
    "# Instantiate model\n",
    "model = SARIMAX(russia, order =(1,0,0))\n",
    "\n",
    "# Train model\n",
    "results = model.fit()\n",
    "\n",
    "print(results.summary())"
   ]
  },
  {
   "cell_type": "markdown",
   "id": "53d8526d",
   "metadata": {},
   "source": [
    "### Checking how good the model is using AIC and BIC"
   ]
  },
  {
   "cell_type": "markdown",
   "id": "96d34990",
   "metadata": {},
   "source": [
    "Lower AIC Score means : better predicting model\n",
    "If the Corder is set too high result in high AIC value, this stops us overfitting to the training data\n",
    "\n",
    "BIC is similar to AIC, lower BIC indicates bettr model. BIC likes to choose simple model with lower order.\n",
    "\n",
    "AIC is better at predictive models but BIC is choosing a good explanatory model"
   ]
  },
  {
   "cell_type": "code",
   "execution_count": 237,
   "id": "808eeeaf",
   "metadata": {},
   "outputs": [
    {
     "name": "stdout",
     "output_type": "stream",
     "text": [
      "AIC: 245.2659174813164\n",
      "BIC: 247.9303265016668\n"
     ]
    }
   ],
   "source": [
    "print('AIC:', results.aic)\n",
    "print('BIC:', results.bic)"
   ]
  },
  {
   "cell_type": "code",
   "execution_count": 238,
   "id": "5e68339b",
   "metadata": {},
   "outputs": [
    {
     "name": "stdout",
     "output_type": "stream",
     "text": [
      "   p  q         aic         bic\n",
      "6  2  0  244.814959  248.811573\n",
      "5  1  2  244.988533  250.317351\n",
      "3  1  0  245.265917  247.930327\n",
      "4  1  1  245.657204  249.653818\n",
      "8  2  2  246.039121  252.700143\n",
      "7  2  1  246.823370  252.152188\n",
      "2  0  2  346.241586  350.238200\n",
      "1  0  1  372.341183  375.005592\n",
      "0  0  0  404.953923  406.286127\n"
     ]
    }
   ],
   "source": [
    "order_aic_bic =[]\n",
    "# Loop over AR order\n",
    "for p in range(3):\n",
    "    # Loop over MA order\n",
    "    for q in range(3):\n",
    "        # Fit model\n",
    "        model = SARIMAX(russia, order=(p,0,q))\n",
    "        results = model.fit()\n",
    "        # Add order and scores to list\n",
    "        order_aic_bic.append((p, q, results.aic, results.bic))\n",
    "\n",
    "# Make DataFrame of model order and AIC/BIC scores\n",
    "order_df = pd.DataFrame(order_aic_bic, columns=['p','q','aic','bic'])\n",
    "\n",
    "# Sort by AIC\n",
    "print(order_df.sort_values('aic'))"
   ]
  },
  {
   "cell_type": "code",
   "execution_count": 239,
   "id": "be2d59df",
   "metadata": {},
   "outputs": [
    {
     "name": "stdout",
     "output_type": "stream",
     "text": [
      "   p  q         aic         bic\n",
      "3  1  0  245.265917  247.930327\n",
      "6  2  0  244.814959  248.811573\n",
      "4  1  1  245.657204  249.653818\n",
      "5  1  2  244.988533  250.317351\n",
      "7  2  1  246.823370  252.152188\n",
      "8  2  2  246.039121  252.700143\n",
      "2  0  2  346.241586  350.238200\n",
      "1  0  1  372.341183  375.005592\n",
      "0  0  0  404.953923  406.286127\n"
     ]
    }
   ],
   "source": [
    "# Sort by BIC\n",
    "print(order_df.sort_values('bic'))"
   ]
  },
  {
   "cell_type": "markdown",
   "id": "5639aca9",
   "metadata": {},
   "source": [
    "Here I am looking at a better predicting model so, I will be choosing AIC with a least score. This is a arma(2,0) Model"
   ]
  },
  {
   "cell_type": "code",
   "execution_count": 240,
   "id": "cbf3eb15",
   "metadata": {},
   "outputs": [
    {
     "name": "stdout",
     "output_type": "stream",
     "text": [
      "                               SARIMAX Results                                \n",
      "==============================================================================\n",
      "Dep. Variable:      sucid_in_hundredk   No. Observations:                   28\n",
      "Model:               SARIMAX(2, 0, 0)   Log Likelihood                -119.407\n",
      "Date:                Sat, 04 Jun 2022   AIC                            244.815\n",
      "Time:                        17:41:13   BIC                            248.812\n",
      "Sample:                             0   HQIC                           246.037\n",
      "                                 - 28                                         \n",
      "Covariance Type:                  opg                                         \n",
      "==============================================================================\n",
      "                 coef    std err          z      P>|z|      [0.025      0.975]\n",
      "------------------------------------------------------------------------------\n",
      "ar.L1          1.2882      0.195      6.592      0.000       0.905       1.671\n",
      "ar.L2         -0.2904      0.199     -1.459      0.145      -0.680       0.100\n",
      "sigma2       240.4736     71.439      3.366      0.001     100.456     380.492\n",
      "===================================================================================\n",
      "Ljung-Box (L1) (Q):                   0.25   Jarque-Bera (JB):                 0.17\n",
      "Prob(Q):                              0.62   Prob(JB):                         0.92\n",
      "Heteroskedasticity (H):               0.23   Skew:                             0.03\n",
      "Prob(H) (two-sided):                  0.04   Kurtosis:                         2.62\n",
      "===================================================================================\n",
      "\n",
      "Warnings:\n",
      "[1] Covariance matrix calculated using the outer product of gradients (complex-step).\n"
     ]
    }
   ],
   "source": [
    "# Fit model\n",
    "model = SARIMAX(russia, order=(2,0,0))\n",
    "results = model.fit()\n",
    "print(results.summary())"
   ]
  },
  {
   "cell_type": "markdown",
   "id": "231e2fab",
   "metadata": {},
   "source": [
    "### Model Diagrnostic"
   ]
  },
  {
   "cell_type": "code",
   "execution_count": 241,
   "id": "bde10fc1",
   "metadata": {},
   "outputs": [
    {
     "name": "stdout",
     "output_type": "stream",
     "text": [
      "year\n",
      "1987-01-01    294.040000\n",
      "1988-01-01     -6.778937\n",
      "1989-01-01     32.317107\n",
      "1990-01-01    -22.081712\n",
      "1991-01-01     -2.731545\n",
      "1992-01-01     28.743504\n",
      "1993-01-01     28.617739\n",
      "1994-01-01     20.629997\n",
      "1995-01-01     -3.958458\n",
      "1996-01-01     -6.251138\n",
      "1997-01-01    -12.427841\n",
      "1998-01-01     -3.662900\n",
      "1999-01-01     -8.382167\n",
      "2000-01-01      7.784003\n",
      "2001-01-01    -23.468417\n",
      "2002-01-01      2.247502\n",
      "2003-01-01      2.920707\n",
      "2004-01-01    -24.341223\n",
      "2005-01-01     -2.254716\n",
      "2006-01-01     -2.864800\n",
      "2007-01-01      6.916421\n",
      "2008-01-01     -1.314341\n",
      "2009-01-01      7.154894\n",
      "2010-01-01    -14.979367\n",
      "2011-01-01      3.153883\n",
      "2012-01-01      9.524468\n",
      "2014-01-01    -16.692448\n",
      "2015-01-01     -3.825472\n",
      "dtype: float64\n"
     ]
    }
   ],
   "source": [
    "#How good the final Model ?\n",
    "\n",
    "# Fit model\n",
    "model = SARIMAX(russia, order=(p,0,q))\n",
    "results = model.fit()\n",
    "# Assign residuals to variable\n",
    "residuals = results.resid\n",
    "\n",
    "print(residuals)\n"
   ]
  },
  {
   "cell_type": "markdown",
   "id": "8693935c",
   "metadata": {},
   "source": [
    "Mean abosolute error of the residuals is used to calculate how accurate our model is. How large our residuals are and how far our predictions are from the actual values."
   ]
  },
  {
   "cell_type": "code",
   "execution_count": 242,
   "id": "72aa11f3",
   "metadata": {},
   "outputs": [
    {
     "name": "stdout",
     "output_type": "stream",
     "text": [
      "Mean Absolute Error is 21.430918059366185\n"
     ]
    }
   ],
   "source": [
    "mae = np.mean(np.abs(residuals))\n",
    "print('Mean Absolute Error is', mae)"
   ]
  },
  {
   "cell_type": "code",
   "execution_count": 243,
   "id": "b842402e",
   "metadata": {},
   "outputs": [
    {
     "data": {
      "image/png": "[encoded data removed]",
      "text/plain": [
       "<Figure size 432x288 with 1 Axes>"
      ]
     },
     "metadata": {
      "needs_background": "light"
     },
     "output_type": "display_data"
    }
   ],
   "source": [
    "# Make plot of time series for comparison\n",
    "russia.plot()\n",
    "plt.show()"
   ]
  },
  {
   "cell_type": "markdown",
   "id": "e73a1a13",
   "metadata": {},
   "source": [
    "If the model fits well, then residuals will be white\n",
    "Gaussian noise"
   ]
  },
  {
   "cell_type": "code",
   "execution_count": 244,
   "id": "24fa2f33",
   "metadata": {},
   "outputs": [
    {
     "data": {
      "image/png": "[encoded data removed]",
      "text/plain": [
       "<Figure size 432x288 with 4 Axes>"
      ]
     },
     "metadata": {
      "needs_background": "light"
     },
     "output_type": "display_data"
    }
   ],
   "source": [
    "# russia.index.duplicated()\n",
    "# Create the 4 diagostics plots\n",
    "results.plot_diagnostics()\n",
    "plt.show()"
   ]
  },
  {
   "cell_type": "markdown",
   "id": "7a4695e5",
   "metadata": {},
   "source": [
    "Looking at the plots I can say there is no pattern in the stardized model. \n",
    "Looking at the Histogram there is no gaussian distribution(green and red line should be almost the same for gaussian)\n",
    "The QQ Plot seems to be not normally distributed, if it is normally distributed all the blue dots will be aligned over the line(except some values in the either end)\n",
    "\n",
    "Last one is correlogram just an ACF Plot.\n",
    "\n",
    "As per the summery Statistics.\n",
    "\n",
    "Prob(Q) - p-value for null hypothesis that residuals are uncorrelated\n",
    "Prob(JB) - p-value for null hypothesis that residuals are normal\n",
    "\n",
    "either p value less than 0.05 we reject the null hypothesis. \n",
    "\n",
    "As per the test statistics we have in our time series, p value are higher than 0.05, so we fail to reject the null hypothesis."
   ]
  },
  {
   "cell_type": "markdown",
   "id": "8d5d1600",
   "metadata": {},
   "source": [
    "#### Box Jenkins Method"
   ]
  },
  {
   "cell_type": "code",
   "execution_count": 245,
   "id": "6d3ed081",
   "metadata": {},
   "outputs": [
    {
     "data": {
      "image/png": "[encoded data removed]",
      "text/plain": [
       "<Figure size 432x288 with 1 Axes>"
      ]
     },
     "metadata": {
      "needs_background": "light"
     },
     "output_type": "display_data"
    },
    {
     "name": "stdout",
     "output_type": "stream",
     "text": [
      "-0.23971930646946707\n",
      "0.9336185929975246\n"
     ]
    }
   ],
   "source": [
    "# Plot time series\n",
    "russia.plot()\n",
    "plt.show()\n",
    "\n",
    "# Run Dicky-Fuller test\n",
    "result = adfuller(russia['sucid_in_hundredk'])\n",
    "\n",
    "# Print test statistic\n",
    "print(result[0])\n",
    "\n",
    "# Print p-value\n",
    "print(result[1])"
   ]
  },
  {
   "cell_type": "markdown",
   "id": "61f764e7",
   "metadata": {},
   "source": [
    "### Automation using PMD Arima Package"
   ]
  },
  {
   "cell_type": "code",
   "execution_count": 246,
   "id": "d90e5a4c",
   "metadata": {},
   "outputs": [
    {
     "name": "stdout",
     "output_type": "stream",
     "text": [
      "                               SARIMAX Results                                \n",
      "==============================================================================\n",
      "Dep. Variable:                      y   No. Observations:                   28\n",
      "Model:               SARIMAX(3, 0, 0)   Log Likelihood                -115.341\n",
      "Date:                Sat, 04 Jun 2022   AIC                            240.683\n",
      "Time:                        17:41:19   BIC                            247.344\n",
      "Sample:                             0   HQIC                           242.719\n",
      "                                 - 28                                         \n",
      "Covariance Type:                  opg                                         \n",
      "==============================================================================\n",
      "                 coef    std err          z      P>|z|      [0.025      0.975]\n",
      "------------------------------------------------------------------------------\n",
      "intercept     26.5238     25.757      1.030      0.303     -23.960      77.007\n",
      "ar.L1          1.1202      0.193      5.814      0.000       0.743       1.498\n",
      "ar.L2          0.1454      0.335      0.434      0.664      -0.511       0.802\n",
      "ar.L3         -0.3531      0.226     -1.561      0.118      -0.796       0.090\n",
      "sigma2       199.8405     57.064      3.502      0.000      87.997     311.685\n",
      "===================================================================================\n",
      "Ljung-Box (L1) (Q):                   0.00   Jarque-Bera (JB):                 0.65\n",
      "Prob(Q):                              0.99   Prob(JB):                         0.72\n",
      "Heteroskedasticity (H):               0.27   Skew:                             0.37\n",
      "Prob(H) (two-sided):                  0.06   Kurtosis:                         2.89\n",
      "===================================================================================\n",
      "\n",
      "Warnings:\n",
      "[1] Covariance matrix calculated using the outer product of gradients (complex-step).\n"
     ]
    }
   ],
   "source": [
    "import pmdarima as pm\n",
    "results = pm.auto_arima(russia)\n",
    "print(results.summary())"
   ]
  },
  {
   "cell_type": "code",
   "execution_count": 247,
   "id": "94c47a23",
   "metadata": {},
   "outputs": [
    {
     "data": {
      "text/plain": [
       "['E:/Dessertation/desertion_dkit_msc_2022_sep/great_model.pkl']"
      ]
     },
     "execution_count": 247,
     "metadata": {},
     "output_type": "execute_result"
    }
   ],
   "source": [
    "# Import\n",
    "import joblib\n",
    "\n",
    "# Select a filepath\n",
    "filepath ='E:/Dessertation/desertion_dkit_msc_2022_sep/great_model.pkl'\n",
    "\n",
    "# Save model to filepath\n",
    "joblib.dump(results, filepath)"
   ]
  }
 ],
 "metadata": {
  "interpreter": {
   "hash": "ad2bdc8ecc057115af97d19610ffacc2b4e99fae6737bb82f5d7fb13d2f2c186"
  },
  "kernelspec": {
   "display_name": "Python 3.8.8 ('base')",
   "language": "python",
   "name": "python3"
  },
  "language_info": {
   "codemirror_mode": {
    "name": "ipython",
    "version": 3
   },
   "file_extension": ".py",
   "mimetype": "text/x-python",
   "name": "python",
   "nbconvert_exporter": "python",
   "pygments_lexer": "ipython3",
   "version": "3.8.8"
  }
 },
 "nbformat": 4,
 "nbformat_minor": 5
}
