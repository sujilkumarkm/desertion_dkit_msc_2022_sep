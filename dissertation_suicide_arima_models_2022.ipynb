{
 "cells": [
  {
   "cell_type": "code",
   "execution_count": 1,
   "id": "728f43b4",
   "metadata": {},
   "outputs": [],
   "source": [
    "import pandas as pd\n",
    "import matplotlib.pyplot as plt\n",
    "import numpy as np\n"
   ]
  },
  {
   "cell_type": "code",
   "execution_count": 2,
   "id": "a185349c",
   "metadata": {
    "scrolled": false
   },
   "outputs": [
    {
     "data": {
      "text/html": [
       "<div>\n",
       "<style scoped>\n",
       "    .dataframe tbody tr th:only-of-type {\n",
       "        vertical-align: middle;\n",
       "    }\n",
       "\n",
       "    .dataframe tbody tr th {\n",
       "        vertical-align: top;\n",
       "    }\n",
       "\n",
       "    .dataframe thead th {\n",
       "        text-align: right;\n",
       "    }\n",
       "</style>\n",
       "<table border=\"1\" class=\"dataframe\">\n",
       "  <thead>\n",
       "    <tr style=\"text-align: right;\">\n",
       "      <th></th>\n",
       "      <th>country</th>\n",
       "      <th>sex</th>\n",
       "      <th>age</th>\n",
       "      <th>suicides</th>\n",
       "      <th>population</th>\n",
       "      <th>sucid_in_hundredk</th>\n",
       "      <th>country-year</th>\n",
       "      <th>yearly_gdp</th>\n",
       "      <th>gdp_per_capita</th>\n",
       "      <th>generation</th>\n",
       "      <th>...</th>\n",
       "      <th>physician_price</th>\n",
       "      <th>laborforcetotal</th>\n",
       "      <th>lifeexpectancy</th>\n",
       "      <th>mobilesubscriptions</th>\n",
       "      <th>refugees</th>\n",
       "      <th>selfemployed</th>\n",
       "      <th>electricityacess</th>\n",
       "      <th>continent</th>\n",
       "      <th>country_code</th>\n",
       "      <th>mobilesubscription</th>\n",
       "    </tr>\n",
       "    <tr>\n",
       "      <th>year</th>\n",
       "      <th></th>\n",
       "      <th></th>\n",
       "      <th></th>\n",
       "      <th></th>\n",
       "      <th></th>\n",
       "      <th></th>\n",
       "      <th></th>\n",
       "      <th></th>\n",
       "      <th></th>\n",
       "      <th></th>\n",
       "      <th></th>\n",
       "      <th></th>\n",
       "      <th></th>\n",
       "      <th></th>\n",
       "      <th></th>\n",
       "      <th></th>\n",
       "      <th></th>\n",
       "      <th></th>\n",
       "      <th></th>\n",
       "      <th></th>\n",
       "      <th></th>\n",
       "    </tr>\n",
       "  </thead>\n",
       "  <tbody>\n",
       "    <tr>\n",
       "      <th>1985-01-01</th>\n",
       "      <td>Argentina</td>\n",
       "      <td>male</td>\n",
       "      <td>75+ years</td>\n",
       "      <td>202</td>\n",
       "      <td>363000</td>\n",
       "      <td>55.65</td>\n",
       "      <td>Argentina1985</td>\n",
       "      <td>8.841667e+10</td>\n",
       "      <td>3264</td>\n",
       "      <td>G.I. Generation</td>\n",
       "      <td>...</td>\n",
       "      <td>0.2384</td>\n",
       "      <td>1.077831e+07</td>\n",
       "      <td>50.156848</td>\n",
       "      <td>0.009469</td>\n",
       "      <td>10732.386792</td>\n",
       "      <td>2.157578</td>\n",
       "      <td>57.6</td>\n",
       "      <td>Americas</td>\n",
       "      <td>ARG</td>\n",
       "      <td>0.009469</td>\n",
       "    </tr>\n",
       "    <tr>\n",
       "      <th>1985-01-01</th>\n",
       "      <td>Belgium</td>\n",
       "      <td>female</td>\n",
       "      <td>35-54 years</td>\n",
       "      <td>252</td>\n",
       "      <td>1216200</td>\n",
       "      <td>20.72</td>\n",
       "      <td>Belgium1985</td>\n",
       "      <td>8.673004e+10</td>\n",
       "      <td>9356</td>\n",
       "      <td>Silent</td>\n",
       "      <td>...</td>\n",
       "      <td>0.2384</td>\n",
       "      <td>1.077831e+07</td>\n",
       "      <td>50.156848</td>\n",
       "      <td>0.009469</td>\n",
       "      <td>10732.386792</td>\n",
       "      <td>2.157578</td>\n",
       "      <td>57.6</td>\n",
       "      <td>Europe</td>\n",
       "      <td>BEL</td>\n",
       "      <td>0.009469</td>\n",
       "    </tr>\n",
       "    <tr>\n",
       "      <th>1985-01-01</th>\n",
       "      <td>Belgium</td>\n",
       "      <td>male</td>\n",
       "      <td>15-24 years</td>\n",
       "      <td>109</td>\n",
       "      <td>775300</td>\n",
       "      <td>14.06</td>\n",
       "      <td>Belgium1985</td>\n",
       "      <td>8.673004e+10</td>\n",
       "      <td>9356</td>\n",
       "      <td>Generation X</td>\n",
       "      <td>...</td>\n",
       "      <td>0.2384</td>\n",
       "      <td>1.077831e+07</td>\n",
       "      <td>50.156848</td>\n",
       "      <td>0.009469</td>\n",
       "      <td>10732.386792</td>\n",
       "      <td>2.157578</td>\n",
       "      <td>57.6</td>\n",
       "      <td>Europe</td>\n",
       "      <td>BEL</td>\n",
       "      <td>0.009469</td>\n",
       "    </tr>\n",
       "    <tr>\n",
       "      <th>1985-01-01</th>\n",
       "      <td>Belgium</td>\n",
       "      <td>female</td>\n",
       "      <td>25-34 years</td>\n",
       "      <td>78</td>\n",
       "      <td>744000</td>\n",
       "      <td>10.48</td>\n",
       "      <td>Belgium1985</td>\n",
       "      <td>8.673004e+10</td>\n",
       "      <td>9356</td>\n",
       "      <td>Boomers</td>\n",
       "      <td>...</td>\n",
       "      <td>0.2384</td>\n",
       "      <td>1.077831e+07</td>\n",
       "      <td>50.156848</td>\n",
       "      <td>0.009469</td>\n",
       "      <td>10732.386792</td>\n",
       "      <td>2.157578</td>\n",
       "      <td>57.6</td>\n",
       "      <td>Europe</td>\n",
       "      <td>BEL</td>\n",
       "      <td>0.009469</td>\n",
       "    </tr>\n",
       "    <tr>\n",
       "      <th>1985-01-01</th>\n",
       "      <td>Belgium</td>\n",
       "      <td>female</td>\n",
       "      <td>15-24 years</td>\n",
       "      <td>33</td>\n",
       "      <td>744100</td>\n",
       "      <td>4.43</td>\n",
       "      <td>Belgium1985</td>\n",
       "      <td>8.673004e+10</td>\n",
       "      <td>9356</td>\n",
       "      <td>Generation X</td>\n",
       "      <td>...</td>\n",
       "      <td>0.2384</td>\n",
       "      <td>1.077831e+07</td>\n",
       "      <td>50.156848</td>\n",
       "      <td>0.009469</td>\n",
       "      <td>10732.386792</td>\n",
       "      <td>2.157578</td>\n",
       "      <td>57.6</td>\n",
       "      <td>Europe</td>\n",
       "      <td>BEL</td>\n",
       "      <td>0.009469</td>\n",
       "    </tr>\n",
       "  </tbody>\n",
       "</table>\n",
       "<p>5 rows × 25 columns</p>\n",
       "</div>"
      ],
      "text/plain": [
       "              country     sex          age  suicides  population  \\\n",
       "year                                                               \n",
       "1985-01-01  Argentina    male    75+ years       202      363000   \n",
       "1985-01-01    Belgium  female  35-54 years       252     1216200   \n",
       "1985-01-01    Belgium    male  15-24 years       109      775300   \n",
       "1985-01-01    Belgium  female  25-34 years        78      744000   \n",
       "1985-01-01    Belgium  female  15-24 years        33      744100   \n",
       "\n",
       "            sucid_in_hundredk   country-year    yearly_gdp  gdp_per_capita  \\\n",
       "year                                                                         \n",
       "1985-01-01              55.65  Argentina1985  8.841667e+10            3264   \n",
       "1985-01-01              20.72    Belgium1985  8.673004e+10            9356   \n",
       "1985-01-01              14.06    Belgium1985  8.673004e+10            9356   \n",
       "1985-01-01              10.48    Belgium1985  8.673004e+10            9356   \n",
       "1985-01-01               4.43    Belgium1985  8.673004e+10            9356   \n",
       "\n",
       "                 generation  ...  physician_price  laborforcetotal  \\\n",
       "year                         ...                                     \n",
       "1985-01-01  G.I. Generation  ...           0.2384     1.077831e+07   \n",
       "1985-01-01           Silent  ...           0.2384     1.077831e+07   \n",
       "1985-01-01     Generation X  ...           0.2384     1.077831e+07   \n",
       "1985-01-01          Boomers  ...           0.2384     1.077831e+07   \n",
       "1985-01-01     Generation X  ...           0.2384     1.077831e+07   \n",
       "\n",
       "            lifeexpectancy  mobilesubscriptions      refugees  selfemployed  \\\n",
       "year                                                                          \n",
       "1985-01-01       50.156848             0.009469  10732.386792      2.157578   \n",
       "1985-01-01       50.156848             0.009469  10732.386792      2.157578   \n",
       "1985-01-01       50.156848             0.009469  10732.386792      2.157578   \n",
       "1985-01-01       50.156848             0.009469  10732.386792      2.157578   \n",
       "1985-01-01       50.156848             0.009469  10732.386792      2.157578   \n",
       "\n",
       "            electricityacess  continent  country_code  mobilesubscription  \n",
       "year                                                                       \n",
       "1985-01-01              57.6   Americas           ARG            0.009469  \n",
       "1985-01-01              57.6     Europe           BEL            0.009469  \n",
       "1985-01-01              57.6     Europe           BEL            0.009469  \n",
       "1985-01-01              57.6     Europe           BEL            0.009469  \n",
       "1985-01-01              57.6     Europe           BEL            0.009469  \n",
       "\n",
       "[5 rows x 25 columns]"
      ]
     },
     "execution_count": 2,
     "metadata": {},
     "output_type": "execute_result"
    }
   ],
   "source": [
    "url = 'E:\\\\Dessertation\\\\desertion_dkit_msc_2022_sep\\\\output.csv'\n",
    "# d parser df:=lambda x: pd.datetime.strptime(x,'gy-8m-gd gI-Sp\")\n",
    "df = pd.read_csv(url, index_col = 'year', parse_dates=True, infer_datetime_format=True)\n",
    "df = df.sort_index(axis=0, level=None, ascending=True, inplace=False, kind='quicksort', na_position='last', sort_remaining=True, ignore_index=False, key=None)\n",
    "# df = pd.read_csv(url)\n",
    "# df['year'] = pd.to_datetime(df['year'], format='%Y%', errors='ignore')\n",
    "# # Converting the index as date\n",
    "# df.index = pd.to_datetime(df.index)\n",
    "\n",
    "# df = df.index.year\n",
    "# df = df.set_index('year')\n",
    "\n",
    "# # Converting the index as date\n",
    "# df.index = pd.to_datetime(df.index)\n",
    "df.head()"
   ]
  },
  {
   "cell_type": "code",
   "execution_count": 3,
   "id": "d1c18ac3",
   "metadata": {
    "scrolled": true
   },
   "outputs": [
    {
     "data": {
      "text/plain": [
       "array(['Argentina', 'Belgium', 'Japan', 'Greece', 'Ireland', 'Australia',\n",
       "       'Israel', 'Spain', 'Colombia', 'Mexico', 'Netherlands', 'Austria',\n",
       "       'New Zealand', 'Thailand', 'Canada', 'Portugal', 'Iceland',\n",
       "       'Bulgaria', 'France', 'Italy', 'Chile', 'Brazil', 'Norway',\n",
       "       'Sweden', 'Finland', 'Ukraine', 'Turkmenistan', 'Romania',\n",
       "       'Russian Federation', 'Germany', 'Czech Republic', 'Poland',\n",
       "       'Armenia', 'Hungary', 'Cuba', 'Denmark', 'Switzerland', 'Croatia',\n",
       "       'South Africa'], dtype=object)"
      ]
     },
     "execution_count": 3,
     "metadata": {},
     "output_type": "execute_result"
    }
   ],
   "source": [
    "df['country'].unique()"
   ]
  },
  {
   "cell_type": "code",
   "execution_count": 4,
   "id": "c68f73ba",
   "metadata": {
    "scrolled": true
   },
   "outputs": [
    {
     "data": {
      "text/html": [
       "<div>\n",
       "<style scoped>\n",
       "    .dataframe tbody tr th:only-of-type {\n",
       "        vertical-align: middle;\n",
       "    }\n",
       "\n",
       "    .dataframe tbody tr th {\n",
       "        vertical-align: top;\n",
       "    }\n",
       "\n",
       "    .dataframe thead th {\n",
       "        text-align: right;\n",
       "    }\n",
       "</style>\n",
       "<table border=\"1\" class=\"dataframe\">\n",
       "  <thead>\n",
       "    <tr style=\"text-align: right;\">\n",
       "      <th></th>\n",
       "      <th>country</th>\n",
       "      <th>sex</th>\n",
       "      <th>age</th>\n",
       "      <th>suicides</th>\n",
       "      <th>population</th>\n",
       "      <th>sucid_in_hundredk</th>\n",
       "      <th>country-year</th>\n",
       "      <th>yearly_gdp</th>\n",
       "      <th>gdp_per_capita</th>\n",
       "      <th>generation</th>\n",
       "      <th>...</th>\n",
       "      <th>physician_price</th>\n",
       "      <th>laborforcetotal</th>\n",
       "      <th>lifeexpectancy</th>\n",
       "      <th>mobilesubscriptions</th>\n",
       "      <th>refugees</th>\n",
       "      <th>selfemployed</th>\n",
       "      <th>electricityacess</th>\n",
       "      <th>continent</th>\n",
       "      <th>country_code</th>\n",
       "      <th>mobilesubscription</th>\n",
       "    </tr>\n",
       "    <tr>\n",
       "      <th>year</th>\n",
       "      <th></th>\n",
       "      <th></th>\n",
       "      <th></th>\n",
       "      <th></th>\n",
       "      <th></th>\n",
       "      <th></th>\n",
       "      <th></th>\n",
       "      <th></th>\n",
       "      <th></th>\n",
       "      <th></th>\n",
       "      <th></th>\n",
       "      <th></th>\n",
       "      <th></th>\n",
       "      <th></th>\n",
       "      <th></th>\n",
       "      <th></th>\n",
       "      <th></th>\n",
       "      <th></th>\n",
       "      <th></th>\n",
       "      <th></th>\n",
       "      <th></th>\n",
       "    </tr>\n",
       "  </thead>\n",
       "  <tbody>\n",
       "    <tr>\n",
       "      <th>1987-01-01</th>\n",
       "      <td>Ukraine</td>\n",
       "      <td>male</td>\n",
       "      <td>75+ years</td>\n",
       "      <td>506</td>\n",
       "      <td>654800</td>\n",
       "      <td>77.28</td>\n",
       "      <td>Ukraine1987</td>\n",
       "      <td>6.408769e+10</td>\n",
       "      <td>1353</td>\n",
       "      <td>G.I. Generation</td>\n",
       "      <td>...</td>\n",
       "      <td>0.2384</td>\n",
       "      <td>1.077831e+07</td>\n",
       "      <td>50.156848</td>\n",
       "      <td>0.009469</td>\n",
       "      <td>10732.386792</td>\n",
       "      <td>2.157578</td>\n",
       "      <td>57.6</td>\n",
       "      <td>Europe</td>\n",
       "      <td>UKR</td>\n",
       "      <td>0.009469</td>\n",
       "    </tr>\n",
       "    <tr>\n",
       "      <th>1987-01-01</th>\n",
       "      <td>Ukraine</td>\n",
       "      <td>female</td>\n",
       "      <td>5-14 years</td>\n",
       "      <td>9</td>\n",
       "      <td>3560800</td>\n",
       "      <td>0.25</td>\n",
       "      <td>Ukraine1987</td>\n",
       "      <td>6.408769e+10</td>\n",
       "      <td>1353</td>\n",
       "      <td>Generation X</td>\n",
       "      <td>...</td>\n",
       "      <td>0.2384</td>\n",
       "      <td>1.077831e+07</td>\n",
       "      <td>50.156848</td>\n",
       "      <td>0.009469</td>\n",
       "      <td>10732.386792</td>\n",
       "      <td>2.157578</td>\n",
       "      <td>57.6</td>\n",
       "      <td>Europe</td>\n",
       "      <td>UKR</td>\n",
       "      <td>0.009469</td>\n",
       "    </tr>\n",
       "    <tr>\n",
       "      <th>1987-01-01</th>\n",
       "      <td>Ukraine</td>\n",
       "      <td>male</td>\n",
       "      <td>5-14 years</td>\n",
       "      <td>53</td>\n",
       "      <td>3683900</td>\n",
       "      <td>1.44</td>\n",
       "      <td>Ukraine1987</td>\n",
       "      <td>6.408769e+10</td>\n",
       "      <td>1353</td>\n",
       "      <td>Generation X</td>\n",
       "      <td>...</td>\n",
       "      <td>0.2384</td>\n",
       "      <td>1.077831e+07</td>\n",
       "      <td>50.156848</td>\n",
       "      <td>0.009469</td>\n",
       "      <td>10732.386792</td>\n",
       "      <td>2.157578</td>\n",
       "      <td>57.6</td>\n",
       "      <td>Europe</td>\n",
       "      <td>UKR</td>\n",
       "      <td>0.009469</td>\n",
       "    </tr>\n",
       "    <tr>\n",
       "      <th>1987-01-01</th>\n",
       "      <td>Ukraine</td>\n",
       "      <td>female</td>\n",
       "      <td>15-24 years</td>\n",
       "      <td>128</td>\n",
       "      <td>3459900</td>\n",
       "      <td>3.70</td>\n",
       "      <td>Ukraine1987</td>\n",
       "      <td>6.408769e+10</td>\n",
       "      <td>1353</td>\n",
       "      <td>Generation X</td>\n",
       "      <td>...</td>\n",
       "      <td>0.2384</td>\n",
       "      <td>1.077831e+07</td>\n",
       "      <td>50.156848</td>\n",
       "      <td>0.009469</td>\n",
       "      <td>10732.386792</td>\n",
       "      <td>2.157578</td>\n",
       "      <td>57.6</td>\n",
       "      <td>Europe</td>\n",
       "      <td>UKR</td>\n",
       "      <td>0.009469</td>\n",
       "    </tr>\n",
       "    <tr>\n",
       "      <th>1987-01-01</th>\n",
       "      <td>Ukraine</td>\n",
       "      <td>female</td>\n",
       "      <td>25-34 years</td>\n",
       "      <td>176</td>\n",
       "      <td>3953000</td>\n",
       "      <td>4.45</td>\n",
       "      <td>Ukraine1987</td>\n",
       "      <td>6.408769e+10</td>\n",
       "      <td>1353</td>\n",
       "      <td>Boomers</td>\n",
       "      <td>...</td>\n",
       "      <td>0.2384</td>\n",
       "      <td>1.077831e+07</td>\n",
       "      <td>50.156848</td>\n",
       "      <td>0.009469</td>\n",
       "      <td>10732.386792</td>\n",
       "      <td>2.157578</td>\n",
       "      <td>57.6</td>\n",
       "      <td>Europe</td>\n",
       "      <td>UKR</td>\n",
       "      <td>0.009469</td>\n",
       "    </tr>\n",
       "  </tbody>\n",
       "</table>\n",
       "<p>5 rows × 25 columns</p>\n",
       "</div>"
      ],
      "text/plain": [
       "            country     sex          age  suicides  population  \\\n",
       "year                                                             \n",
       "1987-01-01  Ukraine    male    75+ years       506      654800   \n",
       "1987-01-01  Ukraine  female   5-14 years         9     3560800   \n",
       "1987-01-01  Ukraine    male   5-14 years        53     3683900   \n",
       "1987-01-01  Ukraine  female  15-24 years       128     3459900   \n",
       "1987-01-01  Ukraine  female  25-34 years       176     3953000   \n",
       "\n",
       "            sucid_in_hundredk country-year    yearly_gdp  gdp_per_capita  \\\n",
       "year                                                                       \n",
       "1987-01-01              77.28  Ukraine1987  6.408769e+10            1353   \n",
       "1987-01-01               0.25  Ukraine1987  6.408769e+10            1353   \n",
       "1987-01-01               1.44  Ukraine1987  6.408769e+10            1353   \n",
       "1987-01-01               3.70  Ukraine1987  6.408769e+10            1353   \n",
       "1987-01-01               4.45  Ukraine1987  6.408769e+10            1353   \n",
       "\n",
       "                 generation  ...  physician_price  laborforcetotal  \\\n",
       "year                         ...                                     \n",
       "1987-01-01  G.I. Generation  ...           0.2384     1.077831e+07   \n",
       "1987-01-01     Generation X  ...           0.2384     1.077831e+07   \n",
       "1987-01-01     Generation X  ...           0.2384     1.077831e+07   \n",
       "1987-01-01     Generation X  ...           0.2384     1.077831e+07   \n",
       "1987-01-01          Boomers  ...           0.2384     1.077831e+07   \n",
       "\n",
       "            lifeexpectancy  mobilesubscriptions      refugees  selfemployed  \\\n",
       "year                                                                          \n",
       "1987-01-01       50.156848             0.009469  10732.386792      2.157578   \n",
       "1987-01-01       50.156848             0.009469  10732.386792      2.157578   \n",
       "1987-01-01       50.156848             0.009469  10732.386792      2.157578   \n",
       "1987-01-01       50.156848             0.009469  10732.386792      2.157578   \n",
       "1987-01-01       50.156848             0.009469  10732.386792      2.157578   \n",
       "\n",
       "            electricityacess  continent  country_code  mobilesubscription  \n",
       "year                                                                       \n",
       "1987-01-01              57.6     Europe           UKR            0.009469  \n",
       "1987-01-01              57.6     Europe           UKR            0.009469  \n",
       "1987-01-01              57.6     Europe           UKR            0.009469  \n",
       "1987-01-01              57.6     Europe           UKR            0.009469  \n",
       "1987-01-01              57.6     Europe           UKR            0.009469  \n",
       "\n",
       "[5 rows x 25 columns]"
      ]
     },
     "execution_count": 4,
     "metadata": {},
     "output_type": "execute_result"
    }
   ],
   "source": [
    "russia = df[(df.country == 'Ukraine')]\n",
    "\n",
    "# filter_list = ['Ukraine', 'Japan', 'Russian Federation']\n",
    "# russia = df[df.country.isin(filter_list)]\n",
    "# russia = df\n",
    "# russia['years'] = russia['year'].dt.year\n",
    "russia.head()"
   ]
  },
  {
   "cell_type": "code",
   "execution_count": 5,
   "id": "e155e946",
   "metadata": {},
   "outputs": [
    {
     "data": {
      "text/html": [
       "<div>\n",
       "<style scoped>\n",
       "    .dataframe tbody tr th:only-of-type {\n",
       "        vertical-align: middle;\n",
       "    }\n",
       "\n",
       "    .dataframe tbody tr th {\n",
       "        vertical-align: top;\n",
       "    }\n",
       "\n",
       "    .dataframe thead th {\n",
       "        text-align: right;\n",
       "    }\n",
       "</style>\n",
       "<table border=\"1\" class=\"dataframe\">\n",
       "  <thead>\n",
       "    <tr style=\"text-align: right;\">\n",
       "      <th></th>\n",
       "      <th>country</th>\n",
       "      <th>sex</th>\n",
       "      <th>age</th>\n",
       "      <th>suicides</th>\n",
       "      <th>population</th>\n",
       "      <th>sucid_in_hundredk</th>\n",
       "      <th>country-year</th>\n",
       "      <th>yearly_gdp</th>\n",
       "      <th>gdp_per_capita</th>\n",
       "      <th>generation</th>\n",
       "      <th>...</th>\n",
       "      <th>physician_price</th>\n",
       "      <th>laborforcetotal</th>\n",
       "      <th>lifeexpectancy</th>\n",
       "      <th>mobilesubscriptions</th>\n",
       "      <th>refugees</th>\n",
       "      <th>selfemployed</th>\n",
       "      <th>electricityacess</th>\n",
       "      <th>continent</th>\n",
       "      <th>country_code</th>\n",
       "      <th>mobilesubscription</th>\n",
       "    </tr>\n",
       "    <tr>\n",
       "      <th>year</th>\n",
       "      <th></th>\n",
       "      <th></th>\n",
       "      <th></th>\n",
       "      <th></th>\n",
       "      <th></th>\n",
       "      <th></th>\n",
       "      <th></th>\n",
       "      <th></th>\n",
       "      <th></th>\n",
       "      <th></th>\n",
       "      <th></th>\n",
       "      <th></th>\n",
       "      <th></th>\n",
       "      <th></th>\n",
       "      <th></th>\n",
       "      <th></th>\n",
       "      <th></th>\n",
       "      <th></th>\n",
       "      <th></th>\n",
       "      <th></th>\n",
       "      <th></th>\n",
       "    </tr>\n",
       "  </thead>\n",
       "  <tbody>\n",
       "    <tr>\n",
       "      <th>1987-01-01</th>\n",
       "      <td>Ukraine</td>\n",
       "      <td>male</td>\n",
       "      <td>75+ years</td>\n",
       "      <td>506</td>\n",
       "      <td>654800</td>\n",
       "      <td>77.28</td>\n",
       "      <td>Ukraine1987</td>\n",
       "      <td>6.408769e+10</td>\n",
       "      <td>1353</td>\n",
       "      <td>G.I. Generation</td>\n",
       "      <td>...</td>\n",
       "      <td>0.2384</td>\n",
       "      <td>1.077831e+07</td>\n",
       "      <td>50.156848</td>\n",
       "      <td>0.009469</td>\n",
       "      <td>10732.386792</td>\n",
       "      <td>2.157578</td>\n",
       "      <td>57.6</td>\n",
       "      <td>Europe</td>\n",
       "      <td>UKR</td>\n",
       "      <td>0.009469</td>\n",
       "    </tr>\n",
       "    <tr>\n",
       "      <th>1987-01-01</th>\n",
       "      <td>Ukraine</td>\n",
       "      <td>female</td>\n",
       "      <td>5-14 years</td>\n",
       "      <td>9</td>\n",
       "      <td>3560800</td>\n",
       "      <td>0.25</td>\n",
       "      <td>Ukraine1987</td>\n",
       "      <td>6.408769e+10</td>\n",
       "      <td>1353</td>\n",
       "      <td>Generation X</td>\n",
       "      <td>...</td>\n",
       "      <td>0.2384</td>\n",
       "      <td>1.077831e+07</td>\n",
       "      <td>50.156848</td>\n",
       "      <td>0.009469</td>\n",
       "      <td>10732.386792</td>\n",
       "      <td>2.157578</td>\n",
       "      <td>57.6</td>\n",
       "      <td>Europe</td>\n",
       "      <td>UKR</td>\n",
       "      <td>0.009469</td>\n",
       "    </tr>\n",
       "    <tr>\n",
       "      <th>1987-01-01</th>\n",
       "      <td>Ukraine</td>\n",
       "      <td>male</td>\n",
       "      <td>5-14 years</td>\n",
       "      <td>53</td>\n",
       "      <td>3683900</td>\n",
       "      <td>1.44</td>\n",
       "      <td>Ukraine1987</td>\n",
       "      <td>6.408769e+10</td>\n",
       "      <td>1353</td>\n",
       "      <td>Generation X</td>\n",
       "      <td>...</td>\n",
       "      <td>0.2384</td>\n",
       "      <td>1.077831e+07</td>\n",
       "      <td>50.156848</td>\n",
       "      <td>0.009469</td>\n",
       "      <td>10732.386792</td>\n",
       "      <td>2.157578</td>\n",
       "      <td>57.6</td>\n",
       "      <td>Europe</td>\n",
       "      <td>UKR</td>\n",
       "      <td>0.009469</td>\n",
       "    </tr>\n",
       "    <tr>\n",
       "      <th>1987-01-01</th>\n",
       "      <td>Ukraine</td>\n",
       "      <td>female</td>\n",
       "      <td>15-24 years</td>\n",
       "      <td>128</td>\n",
       "      <td>3459900</td>\n",
       "      <td>3.70</td>\n",
       "      <td>Ukraine1987</td>\n",
       "      <td>6.408769e+10</td>\n",
       "      <td>1353</td>\n",
       "      <td>Generation X</td>\n",
       "      <td>...</td>\n",
       "      <td>0.2384</td>\n",
       "      <td>1.077831e+07</td>\n",
       "      <td>50.156848</td>\n",
       "      <td>0.009469</td>\n",
       "      <td>10732.386792</td>\n",
       "      <td>2.157578</td>\n",
       "      <td>57.6</td>\n",
       "      <td>Europe</td>\n",
       "      <td>UKR</td>\n",
       "      <td>0.009469</td>\n",
       "    </tr>\n",
       "    <tr>\n",
       "      <th>1987-01-01</th>\n",
       "      <td>Ukraine</td>\n",
       "      <td>female</td>\n",
       "      <td>25-34 years</td>\n",
       "      <td>176</td>\n",
       "      <td>3953000</td>\n",
       "      <td>4.45</td>\n",
       "      <td>Ukraine1987</td>\n",
       "      <td>6.408769e+10</td>\n",
       "      <td>1353</td>\n",
       "      <td>Boomers</td>\n",
       "      <td>...</td>\n",
       "      <td>0.2384</td>\n",
       "      <td>1.077831e+07</td>\n",
       "      <td>50.156848</td>\n",
       "      <td>0.009469</td>\n",
       "      <td>10732.386792</td>\n",
       "      <td>2.157578</td>\n",
       "      <td>57.6</td>\n",
       "      <td>Europe</td>\n",
       "      <td>UKR</td>\n",
       "      <td>0.009469</td>\n",
       "    </tr>\n",
       "  </tbody>\n",
       "</table>\n",
       "<p>5 rows × 25 columns</p>\n",
       "</div>"
      ],
      "text/plain": [
       "            country     sex          age  suicides  population  \\\n",
       "year                                                             \n",
       "1987-01-01  Ukraine    male    75+ years       506      654800   \n",
       "1987-01-01  Ukraine  female   5-14 years         9     3560800   \n",
       "1987-01-01  Ukraine    male   5-14 years        53     3683900   \n",
       "1987-01-01  Ukraine  female  15-24 years       128     3459900   \n",
       "1987-01-01  Ukraine  female  25-34 years       176     3953000   \n",
       "\n",
       "            sucid_in_hundredk country-year    yearly_gdp  gdp_per_capita  \\\n",
       "year                                                                       \n",
       "1987-01-01              77.28  Ukraine1987  6.408769e+10            1353   \n",
       "1987-01-01               0.25  Ukraine1987  6.408769e+10            1353   \n",
       "1987-01-01               1.44  Ukraine1987  6.408769e+10            1353   \n",
       "1987-01-01               3.70  Ukraine1987  6.408769e+10            1353   \n",
       "1987-01-01               4.45  Ukraine1987  6.408769e+10            1353   \n",
       "\n",
       "                 generation  ...  physician_price  laborforcetotal  \\\n",
       "year                         ...                                     \n",
       "1987-01-01  G.I. Generation  ...           0.2384     1.077831e+07   \n",
       "1987-01-01     Generation X  ...           0.2384     1.077831e+07   \n",
       "1987-01-01     Generation X  ...           0.2384     1.077831e+07   \n",
       "1987-01-01     Generation X  ...           0.2384     1.077831e+07   \n",
       "1987-01-01          Boomers  ...           0.2384     1.077831e+07   \n",
       "\n",
       "            lifeexpectancy  mobilesubscriptions      refugees  selfemployed  \\\n",
       "year                                                                          \n",
       "1987-01-01       50.156848             0.009469  10732.386792      2.157578   \n",
       "1987-01-01       50.156848             0.009469  10732.386792      2.157578   \n",
       "1987-01-01       50.156848             0.009469  10732.386792      2.157578   \n",
       "1987-01-01       50.156848             0.009469  10732.386792      2.157578   \n",
       "1987-01-01       50.156848             0.009469  10732.386792      2.157578   \n",
       "\n",
       "            electricityacess  continent  country_code  mobilesubscription  \n",
       "year                                                                       \n",
       "1987-01-01              57.6     Europe           UKR            0.009469  \n",
       "1987-01-01              57.6     Europe           UKR            0.009469  \n",
       "1987-01-01              57.6     Europe           UKR            0.009469  \n",
       "1987-01-01              57.6     Europe           UKR            0.009469  \n",
       "1987-01-01              57.6     Europe           UKR            0.009469  \n",
       "\n",
       "[5 rows x 25 columns]"
      ]
     },
     "execution_count": 5,
     "metadata": {},
     "output_type": "execute_result"
    }
   ],
   "source": [
    "russia.head()"
   ]
  },
  {
   "cell_type": "code",
   "execution_count": 6,
   "id": "08d9e0e7",
   "metadata": {
    "scrolled": true
   },
   "outputs": [
    {
     "name": "stdout",
     "output_type": "stream",
     "text": [
      "<class 'pandas.core.frame.DataFrame'>\n",
      "DatetimeIndex: 336 entries, 1987-01-01 to 2015-01-01\n",
      "Data columns (total 1 columns):\n",
      " #   Column             Non-Null Count  Dtype  \n",
      "---  ------             --------------  -----  \n",
      " 0   sucid_in_hundredk  336 non-null    float64\n",
      "dtypes: float64(1)\n",
      "memory usage: 5.2 KB\n"
     ]
    }
   ],
   "source": [
    "columns = ['sucid_in_hundredk']\n",
    "russia = pd.DataFrame(russia, columns=columns)\n",
    "russia.info()"
   ]
  },
  {
   "cell_type": "code",
   "execution_count": 7,
   "id": "5f21a80f",
   "metadata": {},
   "outputs": [],
   "source": [
    "# russia.index.unique()"
   ]
  },
  {
   "cell_type": "code",
   "execution_count": 8,
   "id": "e6675a55",
   "metadata": {},
   "outputs": [
    {
     "data": {
      "text/html": [
       "<div>\n",
       "<style scoped>\n",
       "    .dataframe tbody tr th:only-of-type {\n",
       "        vertical-align: middle;\n",
       "    }\n",
       "\n",
       "    .dataframe tbody tr th {\n",
       "        vertical-align: top;\n",
       "    }\n",
       "\n",
       "    .dataframe thead th {\n",
       "        text-align: right;\n",
       "    }\n",
       "</style>\n",
       "<table border=\"1\" class=\"dataframe\">\n",
       "  <thead>\n",
       "    <tr style=\"text-align: right;\">\n",
       "      <th></th>\n",
       "      <th>sucid_in_hundredk</th>\n",
       "    </tr>\n",
       "    <tr>\n",
       "      <th>year</th>\n",
       "      <th></th>\n",
       "    </tr>\n",
       "  </thead>\n",
       "  <tbody>\n",
       "    <tr>\n",
       "      <th>1987-01-01</th>\n",
       "      <td>77.28</td>\n",
       "    </tr>\n",
       "    <tr>\n",
       "      <th>1987-01-01</th>\n",
       "      <td>0.25</td>\n",
       "    </tr>\n",
       "    <tr>\n",
       "      <th>1987-01-01</th>\n",
       "      <td>1.44</td>\n",
       "    </tr>\n",
       "    <tr>\n",
       "      <th>1987-01-01</th>\n",
       "      <td>3.70</td>\n",
       "    </tr>\n",
       "    <tr>\n",
       "      <th>1987-01-01</th>\n",
       "      <td>4.45</td>\n",
       "    </tr>\n",
       "    <tr>\n",
       "      <th>...</th>\n",
       "      <td>...</td>\n",
       "    </tr>\n",
       "    <tr>\n",
       "      <th>2015-01-01</th>\n",
       "      <td>37.63</td>\n",
       "    </tr>\n",
       "    <tr>\n",
       "      <th>2015-01-01</th>\n",
       "      <td>43.87</td>\n",
       "    </tr>\n",
       "    <tr>\n",
       "      <th>2015-01-01</th>\n",
       "      <td>70.96</td>\n",
       "    </tr>\n",
       "    <tr>\n",
       "      <th>2015-01-01</th>\n",
       "      <td>1.55</td>\n",
       "    </tr>\n",
       "    <tr>\n",
       "      <th>2015-01-01</th>\n",
       "      <td>0.94</td>\n",
       "    </tr>\n",
       "  </tbody>\n",
       "</table>\n",
       "<p>336 rows × 1 columns</p>\n",
       "</div>"
      ],
      "text/plain": [
       "            sucid_in_hundredk\n",
       "year                         \n",
       "1987-01-01              77.28\n",
       "1987-01-01               0.25\n",
       "1987-01-01               1.44\n",
       "1987-01-01               3.70\n",
       "1987-01-01               4.45\n",
       "...                       ...\n",
       "2015-01-01              37.63\n",
       "2015-01-01              43.87\n",
       "2015-01-01              70.96\n",
       "2015-01-01               1.55\n",
       "2015-01-01               0.94\n",
       "\n",
       "[336 rows x 1 columns]"
      ]
     },
     "execution_count": 8,
     "metadata": {},
     "output_type": "execute_result"
    }
   ],
   "source": [
    "# date_range = pd.date_range(start=\"1989-01-01\",end=\"2015-01-01\")\n",
    "russia"
   ]
  },
  {
   "cell_type": "code",
   "execution_count": 9,
   "id": "60db528e",
   "metadata": {},
   "outputs": [
    {
     "data": {
      "text/html": [
       "<div>\n",
       "<style scoped>\n",
       "    .dataframe tbody tr th:only-of-type {\n",
       "        vertical-align: middle;\n",
       "    }\n",
       "\n",
       "    .dataframe tbody tr th {\n",
       "        vertical-align: top;\n",
       "    }\n",
       "\n",
       "    .dataframe thead th {\n",
       "        text-align: right;\n",
       "    }\n",
       "</style>\n",
       "<table border=\"1\" class=\"dataframe\">\n",
       "  <thead>\n",
       "    <tr style=\"text-align: right;\">\n",
       "      <th></th>\n",
       "      <th>sucid_in_hundredk</th>\n",
       "    </tr>\n",
       "    <tr>\n",
       "      <th>year</th>\n",
       "      <th></th>\n",
       "    </tr>\n",
       "  </thead>\n",
       "  <tbody>\n",
       "    <tr>\n",
       "      <th>1987-01-01</th>\n",
       "      <td>294.04</td>\n",
       "    </tr>\n",
       "    <tr>\n",
       "      <th>1988-01-01</th>\n",
       "      <td>286.72</td>\n",
       "    </tr>\n",
       "    <tr>\n",
       "      <th>1989-01-01</th>\n",
       "      <td>316.32</td>\n",
       "    </tr>\n",
       "    <tr>\n",
       "      <th>1990-01-01</th>\n",
       "      <td>296.70</td>\n",
       "    </tr>\n",
       "    <tr>\n",
       "      <th>1991-01-01</th>\n",
       "      <td>297.91</td>\n",
       "    </tr>\n",
       "    <tr>\n",
       "      <th>1992-01-01</th>\n",
       "      <td>322.49</td>\n",
       "    </tr>\n",
       "    <tr>\n",
       "      <th>1993-01-01</th>\n",
       "      <td>352.11</td>\n",
       "    </tr>\n",
       "    <tr>\n",
       "      <th>1994-01-01</th>\n",
       "      <td>384.29</td>\n",
       "    </tr>\n",
       "    <tr>\n",
       "      <th>1995-01-01</th>\n",
       "      <td>396.67</td>\n",
       "    </tr>\n",
       "    <tr>\n",
       "      <th>1996-01-01</th>\n",
       "      <td>403.42</td>\n",
       "    </tr>\n",
       "  </tbody>\n",
       "</table>\n",
       "</div>"
      ],
      "text/plain": [
       "            sucid_in_hundredk\n",
       "year                         \n",
       "1987-01-01             294.04\n",
       "1988-01-01             286.72\n",
       "1989-01-01             316.32\n",
       "1990-01-01             296.70\n",
       "1991-01-01             297.91\n",
       "1992-01-01             322.49\n",
       "1993-01-01             352.11\n",
       "1994-01-01             384.29\n",
       "1995-01-01             396.67\n",
       "1996-01-01             403.42"
      ]
     },
     "execution_count": 9,
     "metadata": {},
     "output_type": "execute_result"
    }
   ],
   "source": [
    "# adding all deaths together and group by year\n",
    "russia = russia.groupby(['year'])['sucid_in_hundredk'].transform('sum')\n",
    "# russia = russia.reset_index().drop_duplicates()\n",
    "russia = pd.Series.to_frame(russia)\n",
    "\n",
    "# russia['year'] = pd.to_datetime(russia['year'], format='%Y00%').apply(lambda x: x.strftime('%Y'))\n",
    "russia['year'] = list(russia.index)\n",
    "russia = russia.drop_duplicates()\n",
    "russia = russia.drop(labels='year', axis=1)\n",
    "russia.head(10)"
   ]
  },
  {
   "cell_type": "code",
   "execution_count": 10,
   "id": "9c87b35e",
   "metadata": {},
   "outputs": [
    {
     "data": {
      "text/plain": [
       "DatetimeIndex(['1987-01-01', '1988-01-01', '1989-01-01', '1990-01-01',\n",
       "               '1991-01-01', '1992-01-01', '1993-01-01', '1994-01-01',\n",
       "               '1995-01-01', '1996-01-01', '1997-01-01', '1998-01-01',\n",
       "               '1999-01-01', '2000-01-01', '2001-01-01', '2002-01-01',\n",
       "               '2003-01-01', '2004-01-01', '2005-01-01', '2006-01-01',\n",
       "               '2007-01-01', '2008-01-01', '2009-01-01', '2010-01-01',\n",
       "               '2011-01-01', '2012-01-01', '2014-01-01', '2015-01-01'],\n",
       "              dtype='datetime64[ns]', name='year', freq=None)"
      ]
     },
     "execution_count": 10,
     "metadata": {},
     "output_type": "execute_result"
    }
   ],
   "source": [
    "russia.index"
   ]
  },
  {
   "cell_type": "code",
   "execution_count": 11,
   "id": "8cf49ab0",
   "metadata": {},
   "outputs": [],
   "source": [
    "russia.to_csv('E:\\\\Dessertation\\\\desertion_dkit_msc_2022_sep\\\\russia.csv')"
   ]
  },
  {
   "cell_type": "code",
   "execution_count": 12,
   "id": "3ac07c1b",
   "metadata": {
    "scrolled": true
   },
   "outputs": [
    {
     "data": {
      "image/png": "[encoded data removed]",
      "text/plain": [
       "<Figure size 432x288 with 1 Axes>"
      ]
     },
     "metadata": {
      "needs_background": "light"
     },
     "output_type": "display_data"
    }
   ],
   "source": [
    "fig, ax = plt.subplots()\n",
    "russia.plot(ax=ax)\n",
    "plt.show()\n"
   ]
  },
  {
   "cell_type": "code",
   "execution_count": 13,
   "id": "50148440",
   "metadata": {},
   "outputs": [],
   "source": [
    "from sklearn.model_selection import train_test_split\n",
    "\n",
    "russia_train, russia_test = train_test_split(russia, test_size=0.2)"
   ]
  },
  {
   "cell_type": "code",
   "execution_count": 14,
   "id": "b8e27369",
   "metadata": {
    "scrolled": true
   },
   "outputs": [],
   "source": [
    "# # Split the data into a train and test set\n",
    "# russia_train = russia.loc['1995':'1995']\n",
    "# russia_test = russia.loc[:'1996']\n",
    "\n",
    "# # Create an axis\n",
    "# fig, ax = plt.subplots()\n",
    "\n",
    "# Plot the train and test sets on the axis ax\n",
    "russia_train.plot(ax=ax)\n",
    "russia_test.plot(ax=ax)\n",
    "plt.show()"
   ]
  },
  {
   "cell_type": "markdown",
   "id": "29cb7941",
   "metadata": {},
   "source": [
    "### Dicky-Fuller test"
   ]
  },
  {
   "cell_type": "markdown",
   "id": "d273938f",
   "metadata": {},
   "source": [
    "Null Hypothesis H0 : The dataset is non-stationary \n",
    "\n",
    "Alternate Hypothesis : Dataset is stationary"
   ]
  },
  {
   "cell_type": "code",
   "execution_count": 15,
   "id": "f1391f19",
   "metadata": {
    "scrolled": true
   },
   "outputs": [
    {
     "name": "stdout",
     "output_type": "stream",
     "text": [
      "(-0.23971930646946707, 0.9336185929975246, 0, 27, {'1%': -3.6996079738860943, '5%': -2.9764303469999494, '10%': -2.627601001371742}, 135.78255134276284)\n"
     ]
    }
   ],
   "source": [
    "# test for testing non-stationrary using dicky fuller test using stat models\n",
    "from statsmodels.tsa.stattools import adfuller\n",
    "results = adfuller(russia['sucid_in_hundredk'])\n",
    "print(results)"
   ]
  },
  {
   "cell_type": "markdown",
   "id": "1293b685",
   "metadata": {},
   "source": [
    "##### Interpretation\n",
    "\n",
    "Above result is a tuple.\n",
    "Zeroth Elemenet is test statisctic in this case -2.9330, the more the number is negative more the data is stationary\n",
    "Next element is the P value, here it's 0.9336185929975246\n",
    "\n",
    "If P value is less than 0.05 we reject the null hypothesis.\n",
    "We assume that our time series is stationary\n",
    "\n",
    "In this case, we fail to reject the null hypothesis. so we can say our time series is <b>non-stationary</b>.\n",
    "\n",
    "\n",
    "last item in the tuple is a dictionary, this stores the critical values of the test, which creates different p values. in this case if you want the p value 0.05 or less, test statistics needed to be below -2.97. \n",
    "\n",
    "<p style=\"background-color:green;\">Now we need to make it stationary by using </p>"
   ]
  },
  {
   "cell_type": "code",
   "execution_count": 16,
   "id": "2a5ed396",
   "metadata": {
    "scrolled": true
   },
   "outputs": [
    {
     "data": {
      "image/png": "[encoded data removed]",
      "text/plain": [
       "<Figure size 432x288 with 1 Axes>"
      ]
     },
     "metadata": {
      "needs_background": "light"
     },
     "output_type": "display_data"
    }
   ],
   "source": [
    "# Making Time Series by taking the difference.\n",
    "rsa_stationary = russia.diff()\n",
    "rsa_stationary.dropna()      # removing the na value from the first row\n",
    "\n",
    "fig, ax = plt.subplots()\n",
    "rsa_stationary.plot(ax=ax)\n",
    "plt.show()"
   ]
  },
  {
   "cell_type": "code",
   "execution_count": 17,
   "id": "5f61972a",
   "metadata": {},
   "outputs": [
    {
     "data": {
      "text/html": [
       "<div>\n",
       "<style scoped>\n",
       "    .dataframe tbody tr th:only-of-type {\n",
       "        vertical-align: middle;\n",
       "    }\n",
       "\n",
       "    .dataframe tbody tr th {\n",
       "        vertical-align: top;\n",
       "    }\n",
       "\n",
       "    .dataframe thead th {\n",
       "        text-align: right;\n",
       "    }\n",
       "</style>\n",
       "<table border=\"1\" class=\"dataframe\">\n",
       "  <thead>\n",
       "    <tr style=\"text-align: right;\">\n",
       "      <th></th>\n",
       "      <th>sucid_in_hundredk</th>\n",
       "    </tr>\n",
       "    <tr>\n",
       "      <th>year</th>\n",
       "      <th></th>\n",
       "    </tr>\n",
       "  </thead>\n",
       "  <tbody>\n",
       "    <tr>\n",
       "      <th>1987-01-01</th>\n",
       "      <td>NaN</td>\n",
       "    </tr>\n",
       "    <tr>\n",
       "      <th>1988-01-01</th>\n",
       "      <td>-7.32</td>\n",
       "    </tr>\n",
       "    <tr>\n",
       "      <th>1989-01-01</th>\n",
       "      <td>29.60</td>\n",
       "    </tr>\n",
       "    <tr>\n",
       "      <th>1990-01-01</th>\n",
       "      <td>-19.62</td>\n",
       "    </tr>\n",
       "    <tr>\n",
       "      <th>1991-01-01</th>\n",
       "      <td>1.21</td>\n",
       "    </tr>\n",
       "  </tbody>\n",
       "</table>\n",
       "</div>"
      ],
      "text/plain": [
       "            sucid_in_hundredk\n",
       "year                         \n",
       "1987-01-01                NaN\n",
       "1988-01-01              -7.32\n",
       "1989-01-01              29.60\n",
       "1990-01-01             -19.62\n",
       "1991-01-01               1.21"
      ]
     },
     "execution_count": 17,
     "metadata": {},
     "output_type": "execute_result"
    }
   ],
   "source": [
    "rsa_stationary.head()"
   ]
  },
  {
   "cell_type": "markdown",
   "id": "697223e1",
   "metadata": {},
   "source": [
    "Even though we can use different methods to make the data stationary. I have successfully used \"taking the difference\" methods, now the data looks stationary."
   ]
  },
  {
   "cell_type": "markdown",
   "id": "986fe95b",
   "metadata": {},
   "source": [
    "we always set lag 0 coefficiant as 1 for both lag 1 -0.5 and 0.2 accordingly"
   ]
  },
  {
   "cell_type": "markdown",
   "id": "942f9906",
   "metadata": {},
   "source": [
    "### ARMAX Model"
   ]
  },
  {
   "cell_type": "code",
   "execution_count": 18,
   "id": "89515445",
   "metadata": {},
   "outputs": [
    {
     "data": {
      "text/html": [
       "<div>\n",
       "<style scoped>\n",
       "    .dataframe tbody tr th:only-of-type {\n",
       "        vertical-align: middle;\n",
       "    }\n",
       "\n",
       "    .dataframe tbody tr th {\n",
       "        vertical-align: top;\n",
       "    }\n",
       "\n",
       "    .dataframe thead th {\n",
       "        text-align: right;\n",
       "    }\n",
       "</style>\n",
       "<table border=\"1\" class=\"dataframe\">\n",
       "  <thead>\n",
       "    <tr style=\"text-align: right;\">\n",
       "      <th></th>\n",
       "      <th>sucid_in_hundredk</th>\n",
       "    </tr>\n",
       "    <tr>\n",
       "      <th>year</th>\n",
       "      <th></th>\n",
       "    </tr>\n",
       "  </thead>\n",
       "  <tbody>\n",
       "    <tr>\n",
       "      <th>2000-01-01</th>\n",
       "      <td>377.19</td>\n",
       "    </tr>\n",
       "    <tr>\n",
       "      <th>2006-01-01</th>\n",
       "      <td>282.79</td>\n",
       "    </tr>\n",
       "    <tr>\n",
       "      <th>1995-01-01</th>\n",
       "      <td>396.67</td>\n",
       "    </tr>\n",
       "    <tr>\n",
       "      <th>1992-01-01</th>\n",
       "      <td>322.49</td>\n",
       "    </tr>\n",
       "    <tr>\n",
       "      <th>2003-01-01</th>\n",
       "      <td>337.07</td>\n",
       "    </tr>\n",
       "  </tbody>\n",
       "</table>\n",
       "</div>"
      ],
      "text/plain": [
       "            sucid_in_hundredk\n",
       "year                         \n",
       "2000-01-01             377.19\n",
       "2006-01-01             282.79\n",
       "1995-01-01             396.67\n",
       "1992-01-01             322.49\n",
       "2003-01-01             337.07"
      ]
     },
     "execution_count": 18,
     "metadata": {},
     "output_type": "execute_result"
    }
   ],
   "source": [
    "russia_train.head()"
   ]
  },
  {
   "cell_type": "code",
   "execution_count": 20,
   "id": "4508920c",
   "metadata": {},
   "outputs": [],
   "source": [
    "# Import the ARMA model\n",
    "from statsmodels.tsa.arima_model import ARMA\n",
    "import warnings\n",
    "warnings.filterwarnings('ignore')\n",
    "# Instantiate the model\n",
    "model = ARMA(df[ 'sucid_in_hundredk'], order=(2,1), exog=df['unemployment'])\n",
    "# Fit the model\n",
    "results = model.fit()\n",
    "\n",
    "print(results.summary())"
   ]
  },
  {
   "cell_type": "markdown",
   "id": "f2828310",
   "metadata": {},
   "source": [
    "We have fitted the models above. now we need to make predictions"
   ]
  },
  {
   "cell_type": "markdown",
   "id": "aa2af7f0",
   "metadata": {},
   "source": [
    "One Step Ahead Predictions"
   ]
  },
  {
   "cell_type": "markdown",
   "id": "1e05ab96",
   "metadata": {},
   "source": [
    "### Statmodels using SARIMAX class (One Step Prediction)"
   ]
  },
  {
   "cell_type": "markdown",
   "id": "70e42c1f",
   "metadata": {},
   "source": [
    "For ex AR1 Model : At any point in the time series, we can estimate the next series value, by multiplying the previous value by the lag1 AR coefficient.\n",
    "\n",
    "Predicting next series using the previous series value is called as one step prediction. This allows us to evaluate how good our model is."
   ]
  },
  {
   "cell_type": "code",
   "execution_count": null,
   "id": "1ecb8e2d",
   "metadata": {},
   "outputs": [],
   "source": [
    "russia.tail()"
   ]
  },
  {
   "cell_type": "code",
   "execution_count": null,
   "id": "24688307",
   "metadata": {},
   "outputs": [],
   "source": [
    "from statsmodels.tsa. statespace.sarimax import SARIMAX\n",
    "\n",
    "# An ARMA(p, q) + constant model\n",
    "model = SARIMAX(russia, order=(2,0, 1), trend='c')\n",
    "\n",
    "# Make predictions for last 30 values\n",
    "results = model.fit()\n",
    "\n",
    "# Generate predictions\n",
    "one_step_forecast = results.get_prediction(start=-5)\n",
    "\n",
    "# Extract prediction mean\n",
    "mean_forecast = one_step_forecast.predicted_mean\n",
    "\n",
    "print(mean_forecast.head(2))"
   ]
  },
  {
   "cell_type": "markdown",
   "id": "2dabedc9",
   "metadata": {},
   "source": [
    "Here I am making predictions based on last 30 entries of the training data.\n",
    "\n",
    "In above case, center value of the forecast is stored in predicted_mean\n",
    "\n",
    "This model can do everything a ARIMA model and can be extended further. p,0,q sarimax model is exact same arima pq model. we can also add a constant to the model using trend = c."
   ]
  },
  {
   "cell_type": "code",
   "execution_count": null,
   "id": "26cd8b13",
   "metadata": {},
   "outputs": [],
   "source": [
    "# Get confidence intervals of predictions\n",
    "confidence_intervals = one_step_forecast.conf_int()\n",
    "\n",
    "print(confidence_intervals.head(2))"
   ]
  },
  {
   "cell_type": "code",
   "execution_count": null,
   "id": "6bfdc4c0",
   "metadata": {},
   "outputs": [],
   "source": []
  },
  {
   "cell_type": "code",
   "execution_count": null,
   "id": "6e2eb14d",
   "metadata": {},
   "outputs": [],
   "source": [
    "# Select lower and upper confidence limits\n",
    "lower_limits = confidence_intervals.loc[:,'lower sucid_in_hundredk']\n",
    "upper_limits = confidence_intervals.loc[:,'upper sucid_in_hundredk']\n",
    "\n",
    "# Print best estimate predictions\n",
    "# print(mean_forecast)\n",
    "\n",
    "plt.figure()\n",
    "\n",
    "plt.plot(russia.index, russia ,label='observed')\n",
    "# Plot prediction\n",
    "plt.plot(mean_forecast.index, mean_forecast,color='r' ,label='forecast')\n",
    "# Shade uncertainty area\n",
    "plt.fill_between(lower_limits.index, lower_limits, upper_limits, color='pink')\n",
    "\n",
    "# set labels, legends and show plot\n",
    "plt.xlabel('Date')\n",
    "plt.ylabel('Suicide in 100k')\n",
    "plt.legend()"
   ]
  },
  {
   "cell_type": "markdown",
   "id": "dcf6d165",
   "metadata": {},
   "source": [
    "### grid search ARIMA parameters for time series"
   ]
  },
  {
   "cell_type": "code",
   "execution_count": null,
   "id": "7ae9a9f8",
   "metadata": {},
   "outputs": [],
   "source": [
    "# grid search ARIMA parameters for time series\n",
    "import warnings\n",
    "from math import sqrt\n",
    "from pandas import read_csv\n",
    "from statsmodels.tsa.arima_model import ARIMA\n",
    "from sklearn.metrics import mean_squared_error\n",
    "# evaluate an ARIMA model for a given order (p,d,q)\n",
    "def evaluate_arima_model(X, arima_order):\n",
    "# prepare training dataset\n",
    "    train_size = int(len(X) * 0.66)\n",
    "    train, test = X[0:train_size], X[train_size:]\n",
    "    history = [x for x in train]\n",
    "    # make predictions\n",
    "    predictions = list()\n",
    "    for t in range(len(test)):\n",
    "        model = ARIMA(history, order=arima_order)\n",
    "        model_fit = model.fit(disp=0)\n",
    "        yhat = model_fit.forecast()[0]\n",
    "        predictions.append(yhat)\n",
    "        history.append(test[t])\n",
    "# calculate out of sample error\n",
    "    rmse = sqrt(mean_squared_error(test, predictions))\n",
    "    return rmse\n",
    "# evaluate combinations of p, d and q values for an ARIMA model\n",
    "def evaluate_models(dataset, p_values, d_values, q_values):\n",
    "    dataset = dataset.astype('float32')\n",
    "    best_score, best_cfg = float(\"inf\"), None\n",
    "    for p in p_values:\n",
    "        for d in d_values:\n",
    "            for q in q_values:\n",
    "                order = (p,d,q)\n",
    "                try:\n",
    "                    rmse = evaluate_arima_model(dataset, order)\n",
    "                    if rmse < best_score:\n",
    "                        best_score, best_cfg = rmse, order\n",
    "                    print('ARIMA%s RMSE=%.3f' % (order,rmse))\n",
    "                except:\n",
    "                    continue\n",
    "        print('Best ARIMA%s RMSE=%.3f' % (best_cfg, best_score))\n",
    "series = read_csv('russia.csv', header=0, index_col=0, parse_dates=True, squeeze=True)\n",
    "# evaluate parameters\n",
    "p_values = [0, 1, 2, 4, 6, 8, 10]\n",
    "d_values = range(0, 3)\n",
    "q_values = range(0, 3)\n",
    "# warnings.filterwarnings(\"ignore\")\n",
    "evaluate_models(series.values, p_values, d_values, q_values)\n"
   ]
  },
  {
   "cell_type": "markdown",
   "id": "911632a0",
   "metadata": {},
   "source": [
    "### Making a NAN value future dataset."
   ]
  },
  {
   "cell_type": "markdown",
   "id": "0b54ce4a",
   "metadata": {},
   "source": [
    "##### Confidence intervals"
   ]
  },
  {
   "cell_type": "code",
   "execution_count": null,
   "id": "8ff3d9aa",
   "metadata": {},
   "outputs": [],
   "source": [
    "confidence_intervals = one_step_forecast.conf_int()\n",
    "confidence_intervals.head(10)"
   ]
  },
  {
   "cell_type": "markdown",
   "id": "696f11e1",
   "metadata": {},
   "source": [
    "Above dataframe shows the lower and upper uncertainity range of our prediction"
   ]
  },
  {
   "cell_type": "markdown",
   "id": "cc0a3e16",
   "metadata": {},
   "source": [
    "Reconstructing original time series after diffrencing"
   ]
  },
  {
   "cell_type": "code",
   "execution_count": null,
   "id": "fa30c80c",
   "metadata": {},
   "outputs": [],
   "source": [
    "diff_forecast = results.get_forecast(steps=10).predicted_mean\n",
    "from numpy import cumsum\n",
    "mean_forecast = cumsum(diff_forecast)\n",
    "\n",
    "mean_forecast.head(2)"
   ]
  },
  {
   "cell_type": "markdown",
   "id": "52ab43cb",
   "metadata": {},
   "source": [
    "##### Identifying the correct order by ACF and PCF (When both the order p and q are no-zero)"
   ]
  },
  {
   "cell_type": "code",
   "execution_count": null,
   "id": "dcd87fb9",
   "metadata": {},
   "outputs": [],
   "source": [
    "# Create model\n",
    "model = SARIMAX(russia, order=(2,1,1))\n",
    "#Fit model\n",
    "model.fit()\n",
    "# Make forecast\n",
    "mean_forecast = results.get_forecast(steps=10).predicted_mean"
   ]
  },
  {
   "cell_type": "code",
   "execution_count": null,
   "id": "fd29ffdf",
   "metadata": {},
   "outputs": [],
   "source": [
    "from statsmodels.graphics.tsaplots import plot_acf, plot_pacf\n",
    "# Create figure\n",
    "fig, (ax1, ax2) = plt.subplots (2,1,figsize=(8,8))\n",
    "# Make ACF plot\n",
    "plot_acf(russia,lags=10, zero=False, ax=ax1)\n",
    "# Make PACF plot\n",
    "plot_pacf(russia, lags=10, zero=False, ax=ax2)\n",
    "\n",
    "plt.show()"
   ]
  },
  {
   "cell_type": "markdown",
   "id": "de947bf4",
   "metadata": {},
   "source": [
    "In the above ACF and PACF, we can see ACF cuts of and PACF tails off since we have a MA(q) model. So this is a AR(1) Model"
   ]
  },
  {
   "cell_type": "code",
   "execution_count": null,
   "id": "3d39ec24",
   "metadata": {},
   "outputs": [],
   "source": [
    "# Instantiate model\n",
    "model = SARIMAX(russia, order =(1,0,0))\n",
    "\n",
    "# Train model\n",
    "results = model.fit()\n",
    "\n",
    "print(results.summary())"
   ]
  },
  {
   "cell_type": "markdown",
   "id": "53d8526d",
   "metadata": {},
   "source": [
    "### Checking how good the model is using AIC and BIC"
   ]
  },
  {
   "cell_type": "markdown",
   "id": "96d34990",
   "metadata": {},
   "source": [
    "Lower AIC Score means : better predicting model\n",
    "If the Corder is set too high result in high AIC value, this stops us overfitting to the training data\n",
    "\n",
    "BIC is similar to AIC, lower BIC indicates bettr model. BIC likes to choose simple model with lower order.\n",
    "\n",
    "AIC is better at predictive models but BIC is choosing a good explanatory model"
   ]
  },
  {
   "cell_type": "code",
   "execution_count": null,
   "id": "808eeeaf",
   "metadata": {},
   "outputs": [],
   "source": [
    "print('AIC:', results.aic)\n",
    "print('BIC:', results.bic)"
   ]
  },
  {
   "cell_type": "code",
   "execution_count": null,
   "id": "5e68339b",
   "metadata": {},
   "outputs": [],
   "source": [
    "order_aic_bic =[]\n",
    "# Loop over AR order\n",
    "for p in range(3):\n",
    "    # Loop over MA order\n",
    "    for q in range(3):\n",
    "        # Fit model\n",
    "        model = SARIMAX(russia, order=(p,0,q))\n",
    "        results = model.fit()\n",
    "        # Add order and scores to list\n",
    "        order_aic_bic.append((p, q, results.aic, results.bic))\n",
    "\n",
    "# Make DataFrame of model order and AIC/BIC scores\n",
    "order_df = pd.DataFrame(order_aic_bic, columns=['p','q','aic','bic'])\n",
    "\n",
    "# Sort by AIC\n",
    "print(order_df.sort_values('aic'))"
   ]
  },
  {
   "cell_type": "code",
   "execution_count": null,
   "id": "be2d59df",
   "metadata": {},
   "outputs": [],
   "source": [
    "# Sort by BIC\n",
    "print(order_df.sort_values('bic'))"
   ]
  },
  {
   "cell_type": "markdown",
   "id": "5639aca9",
   "metadata": {},
   "source": [
    "Here I am looking at a better predicting model so, I will be choosing AIC with a least score. This is a arma(2,0) Model"
   ]
  },
  {
   "cell_type": "code",
   "execution_count": null,
   "id": "cbf3eb15",
   "metadata": {},
   "outputs": [],
   "source": [
    "# Fit model\n",
    "model = SARIMAX(russia, order=(2,0,0))\n",
    "results = model.fit()\n",
    "print(results.summary())"
   ]
  },
  {
   "cell_type": "markdown",
   "id": "231e2fab",
   "metadata": {},
   "source": [
    "### Model Diagrnostic"
   ]
  },
  {
   "cell_type": "code",
   "execution_count": null,
   "id": "bde10fc1",
   "metadata": {},
   "outputs": [],
   "source": [
    "#How good the final Model ?\n",
    "\n",
    "# Fit model\n",
    "model = SARIMAX(russia, order=(p,0,q))\n",
    "results = model.fit()\n",
    "# Assign residuals to variable\n",
    "residuals = results.resid\n",
    "\n",
    "print(residuals)\n"
   ]
  },
  {
   "cell_type": "markdown",
   "id": "8693935c",
   "metadata": {},
   "source": [
    "Mean abosolute error of the residuals is used to calculate how accurate our model is. How large our residuals are and how far our predictions are from the actual values."
   ]
  },
  {
   "cell_type": "code",
   "execution_count": null,
   "id": "72aa11f3",
   "metadata": {},
   "outputs": [],
   "source": [
    "mae = np.mean(np.abs(residuals))\n",
    "print('Mean Absolute Error is', mae)"
   ]
  },
  {
   "cell_type": "code",
   "execution_count": null,
   "id": "b842402e",
   "metadata": {},
   "outputs": [],
   "source": [
    "# Make plot of time series for comparison\n",
    "russia.plot()\n",
    "plt.show()"
   ]
  },
  {
   "cell_type": "markdown",
   "id": "e73a1a13",
   "metadata": {},
   "source": [
    "If the model fits well, then residuals will be white\n",
    "Gaussian noise"
   ]
  },
  {
   "cell_type": "code",
   "execution_count": null,
   "id": "24fa2f33",
   "metadata": {},
   "outputs": [],
   "source": [
    "# russia.index.duplicated()\n",
    "# Create the 4 diagostics plots\n",
    "results.plot_diagnostics()\n",
    "plt.show()"
   ]
  },
  {
   "cell_type": "markdown",
   "id": "7a4695e5",
   "metadata": {},
   "source": [
    "Looking at the plots I can say there is no pattern in the stardized model. \n",
    "Looking at the Histogram there is no gaussian distribution(green and red line should be almost the same for gaussian)\n",
    "The QQ Plot seems to be not normally distributed, if it is normally distributed all the blue dots will be aligned over the line(except some values in the either end)\n",
    "\n",
    "Last one is correlogram just an ACF Plot.\n",
    "\n",
    "As per the summery Statistics.\n",
    "\n",
    "Prob(Q) - p-value for null hypothesis that residuals are uncorrelated\n",
    "Prob(JB) - p-value for null hypothesis that residuals are normal\n",
    "\n",
    "either p value less than 0.05 we reject the null hypothesis. \n",
    "\n",
    "As per the test statistics we have in our time series, p value are higher than 0.05, so we fail to reject the null hypothesis."
   ]
  },
  {
   "cell_type": "markdown",
   "id": "8d5d1600",
   "metadata": {},
   "source": [
    "#### Box Jenkins Method"
   ]
  },
  {
   "cell_type": "code",
   "execution_count": null,
   "id": "6d3ed081",
   "metadata": {},
   "outputs": [],
   "source": [
    "# Plot time series\n",
    "russia.plot()\n",
    "plt.show()\n",
    "\n",
    "# Run Dicky-Fuller test\n",
    "result = adfuller(russia['sucid_in_hundredk'])\n",
    "\n",
    "# Print test statistic\n",
    "print(result[0])\n",
    "\n",
    "# Print p-value\n",
    "print(result[1])"
   ]
  },
  {
   "cell_type": "markdown",
   "id": "61f764e7",
   "metadata": {},
   "source": [
    "### Automation using PMD Arima Package"
   ]
  },
  {
   "cell_type": "code",
   "execution_count": null,
   "id": "d90e5a4c",
   "metadata": {},
   "outputs": [],
   "source": [
    "import pmdarima as pm\n",
    "results = pm.auto_arima(russia)\n",
    "print(results.summary())"
   ]
  },
  {
   "cell_type": "code",
   "execution_count": null,
   "id": "94c47a23",
   "metadata": {},
   "outputs": [],
   "source": [
    "# Import\n",
    "import joblib\n",
    "\n",
    "# Select a filepath\n",
    "filepath ='E:/Dessertation/desertion_dkit_msc_2022_sep/great_model.pkl'\n",
    "\n",
    "# Save model to filepath\n",
    "joblib.dump(results, filepath)"
   ]
  }
 ],
 "metadata": {
  "interpreter": {
   "hash": "ad2bdc8ecc057115af97d19610ffacc2b4e99fae6737bb82f5d7fb13d2f2c186"
  },
  "kernelspec": {
   "display_name": "Python 3.8.8 ('base')",
   "language": "python",
   "name": "python3"
  },
  "language_info": {
   "codemirror_mode": {
    "name": "ipython",
    "version": 3
   },
   "file_extension": ".py",
   "mimetype": "text/x-python",
   "name": "python",
   "nbconvert_exporter": "python",
   "pygments_lexer": "ipython3",
   "version": "3.8.8"
  }
 },
 "nbformat": 4,
 "nbformat_minor": 5
}
