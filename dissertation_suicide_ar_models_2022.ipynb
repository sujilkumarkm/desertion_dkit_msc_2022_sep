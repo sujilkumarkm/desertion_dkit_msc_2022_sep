{
 "cells": [
  {
   "cell_type": "code",
   "execution_count": 1,
   "metadata": {},
   "outputs": [],
   "source": [
    "import pandas as pd\n",
    "import matplotlib.pyplot as plt\n",
    "import numpy as np"
   ]
  },
  {
   "cell_type": "code",
   "execution_count": 2,
   "metadata": {},
   "outputs": [
    {
     "name": "stdout",
     "output_type": "stream",
     "text": [
      "<class 'pandas.core.frame.DataFrame'>\n",
      "DatetimeIndex: 13276 entries, 1985-01-01 to 2015-01-01\n",
      "Data columns (total 25 columns):\n",
      " #   Column                Non-Null Count  Dtype  \n",
      "---  ------                --------------  -----  \n",
      " 0   country               13276 non-null  object \n",
      " 1   sex                   13276 non-null  object \n",
      " 2   age                   13276 non-null  object \n",
      " 3   suicides              13276 non-null  int64  \n",
      " 4   population            13276 non-null  int64  \n",
      " 5   sucid_in_hundredk     13276 non-null  float64\n",
      " 6   country-year          13276 non-null  object \n",
      " 7   yearly_gdp            13276 non-null  float64\n",
      " 8   gdp_per_capita        13276 non-null  int64  \n",
      " 9   generation            13276 non-null  object \n",
      " 10  suicides.1            13276 non-null  float64\n",
      " 11  internetusers         13276 non-null  float64\n",
      " 12  expenses              13276 non-null  float64\n",
      " 13  employeecompensation  13276 non-null  float64\n",
      " 14  unemployment          13276 non-null  float64\n",
      " 15  physician_price       13276 non-null  float64\n",
      " 16  laborforcetotal       13276 non-null  float64\n",
      " 17  lifeexpectancy        13276 non-null  float64\n",
      " 18  mobilesubscriptions   13276 non-null  float64\n",
      " 19  refugees              13276 non-null  float64\n",
      " 20  selfemployed          13276 non-null  float64\n",
      " 21  electricityacess      13276 non-null  float64\n",
      " 22  continent             13276 non-null  object \n",
      " 23  country_code          13276 non-null  object \n",
      " 24  mobilesubscription    13276 non-null  float64\n",
      "dtypes: float64(15), int64(3), object(7)\n",
      "memory usage: 2.6+ MB\n"
     ]
    }
   ],
   "source": [
    "url = 'E:\\\\Dessertation\\\\desertion_dkit_msc_2022_sep\\\\output.csv'\n",
    "# d parser df:=lambda x: pd.datetime.strptime(x,'gy-8m-gd gI-Sp\")\n",
    "df = pd.read_csv(url, index_col = 'year', parse_dates=True, infer_datetime_format=True)\n",
    "# df = pd.read_csv(url)\n",
    "# df['year'] = pd.to_datetime(df['year'], format='%Y%', errors='ignore')\n",
    "# # Converting the index as date\n",
    "# df.index = pd.to_datetime(df.index)\n",
    "\n",
    "# df = df.index.year\n",
    "# df = df.set_index('year')\n",
    "\n",
    "# # Converting the index as date\n",
    "# df.index = pd.to_datetime(df.index)\n",
    "df.info()"
   ]
  },
  {
   "cell_type": "code",
   "execution_count": 3,
   "metadata": {},
   "outputs": [
    {
     "data": {
      "text/html": [
       "<div>\n",
       "<style scoped>\n",
       "    .dataframe tbody tr th:only-of-type {\n",
       "        vertical-align: middle;\n",
       "    }\n",
       "\n",
       "    .dataframe tbody tr th {\n",
       "        vertical-align: top;\n",
       "    }\n",
       "\n",
       "    .dataframe thead th {\n",
       "        text-align: right;\n",
       "    }\n",
       "</style>\n",
       "<table border=\"1\" class=\"dataframe\">\n",
       "  <thead>\n",
       "    <tr style=\"text-align: right;\">\n",
       "      <th></th>\n",
       "      <th>country</th>\n",
       "      <th>sex</th>\n",
       "      <th>age</th>\n",
       "      <th>suicides</th>\n",
       "      <th>population</th>\n",
       "      <th>sucid_in_hundredk</th>\n",
       "      <th>country-year</th>\n",
       "      <th>yearly_gdp</th>\n",
       "      <th>gdp_per_capita</th>\n",
       "      <th>generation</th>\n",
       "      <th>...</th>\n",
       "      <th>physician_price</th>\n",
       "      <th>laborforcetotal</th>\n",
       "      <th>lifeexpectancy</th>\n",
       "      <th>mobilesubscriptions</th>\n",
       "      <th>refugees</th>\n",
       "      <th>selfemployed</th>\n",
       "      <th>electricityacess</th>\n",
       "      <th>continent</th>\n",
       "      <th>country_code</th>\n",
       "      <th>mobilesubscription</th>\n",
       "    </tr>\n",
       "    <tr>\n",
       "      <th>year</th>\n",
       "      <th></th>\n",
       "      <th></th>\n",
       "      <th></th>\n",
       "      <th></th>\n",
       "      <th></th>\n",
       "      <th></th>\n",
       "      <th></th>\n",
       "      <th></th>\n",
       "      <th></th>\n",
       "      <th></th>\n",
       "      <th></th>\n",
       "      <th></th>\n",
       "      <th></th>\n",
       "      <th></th>\n",
       "      <th></th>\n",
       "      <th></th>\n",
       "      <th></th>\n",
       "      <th></th>\n",
       "      <th></th>\n",
       "      <th></th>\n",
       "      <th></th>\n",
       "    </tr>\n",
       "  </thead>\n",
       "  <tbody>\n",
       "    <tr>\n",
       "      <th>1989-01-01</th>\n",
       "      <td>Russian Federation</td>\n",
       "      <td>male</td>\n",
       "      <td>75+ years</td>\n",
       "      <td>1393</td>\n",
       "      <td>1349100</td>\n",
       "      <td>103.25</td>\n",
       "      <td>Russian Federation1989</td>\n",
       "      <td>5.065000e+11</td>\n",
       "      <td>3740</td>\n",
       "      <td>G.I. Generation</td>\n",
       "      <td>...</td>\n",
       "      <td>0.2384</td>\n",
       "      <td>1.077831e+07</td>\n",
       "      <td>50.156848</td>\n",
       "      <td>0.009469</td>\n",
       "      <td>10732.386792</td>\n",
       "      <td>2.157578</td>\n",
       "      <td>57.6</td>\n",
       "      <td>Europe</td>\n",
       "      <td>RUS</td>\n",
       "      <td>0.009469</td>\n",
       "    </tr>\n",
       "    <tr>\n",
       "      <th>1989-01-01</th>\n",
       "      <td>Russian Federation</td>\n",
       "      <td>male</td>\n",
       "      <td>35-54 years</td>\n",
       "      <td>12030</td>\n",
       "      <td>18058500</td>\n",
       "      <td>66.62</td>\n",
       "      <td>Russian Federation1989</td>\n",
       "      <td>5.065000e+11</td>\n",
       "      <td>3740</td>\n",
       "      <td>Silent</td>\n",
       "      <td>...</td>\n",
       "      <td>0.2384</td>\n",
       "      <td>1.077831e+07</td>\n",
       "      <td>50.156848</td>\n",
       "      <td>0.009469</td>\n",
       "      <td>10732.386792</td>\n",
       "      <td>2.157578</td>\n",
       "      <td>57.6</td>\n",
       "      <td>Europe</td>\n",
       "      <td>RUS</td>\n",
       "      <td>0.009469</td>\n",
       "    </tr>\n",
       "    <tr>\n",
       "      <th>1989-01-01</th>\n",
       "      <td>Russian Federation</td>\n",
       "      <td>male</td>\n",
       "      <td>55-74 years</td>\n",
       "      <td>6250</td>\n",
       "      <td>9383700</td>\n",
       "      <td>66.60</td>\n",
       "      <td>Russian Federation1989</td>\n",
       "      <td>5.065000e+11</td>\n",
       "      <td>3740</td>\n",
       "      <td>G.I. Generation</td>\n",
       "      <td>...</td>\n",
       "      <td>0.2384</td>\n",
       "      <td>1.077831e+07</td>\n",
       "      <td>50.156848</td>\n",
       "      <td>0.009469</td>\n",
       "      <td>10732.386792</td>\n",
       "      <td>2.157578</td>\n",
       "      <td>57.6</td>\n",
       "      <td>Europe</td>\n",
       "      <td>RUS</td>\n",
       "      <td>0.009469</td>\n",
       "    </tr>\n",
       "    <tr>\n",
       "      <th>1989-01-01</th>\n",
       "      <td>Russian Federation</td>\n",
       "      <td>male</td>\n",
       "      <td>25-34 years</td>\n",
       "      <td>6856</td>\n",
       "      <td>12748800</td>\n",
       "      <td>53.78</td>\n",
       "      <td>Russian Federation1989</td>\n",
       "      <td>5.065000e+11</td>\n",
       "      <td>3740</td>\n",
       "      <td>Boomers</td>\n",
       "      <td>...</td>\n",
       "      <td>0.2384</td>\n",
       "      <td>1.077831e+07</td>\n",
       "      <td>50.156848</td>\n",
       "      <td>0.009469</td>\n",
       "      <td>10732.386792</td>\n",
       "      <td>2.157578</td>\n",
       "      <td>57.6</td>\n",
       "      <td>Europe</td>\n",
       "      <td>RUS</td>\n",
       "      <td>0.009469</td>\n",
       "    </tr>\n",
       "    <tr>\n",
       "      <th>1989-01-01</th>\n",
       "      <td>Russian Federation</td>\n",
       "      <td>female</td>\n",
       "      <td>75+ years</td>\n",
       "      <td>1677</td>\n",
       "      <td>4738100</td>\n",
       "      <td>35.39</td>\n",
       "      <td>Russian Federation1989</td>\n",
       "      <td>5.065000e+11</td>\n",
       "      <td>3740</td>\n",
       "      <td>G.I. Generation</td>\n",
       "      <td>...</td>\n",
       "      <td>0.2384</td>\n",
       "      <td>1.077831e+07</td>\n",
       "      <td>50.156848</td>\n",
       "      <td>0.009469</td>\n",
       "      <td>10732.386792</td>\n",
       "      <td>2.157578</td>\n",
       "      <td>57.6</td>\n",
       "      <td>Europe</td>\n",
       "      <td>RUS</td>\n",
       "      <td>0.009469</td>\n",
       "    </tr>\n",
       "  </tbody>\n",
       "</table>\n",
       "<p>5 rows × 25 columns</p>\n",
       "</div>"
      ],
      "text/plain": [
       "                       country     sex          age  suicides  population  \\\n",
       "year                                                                        \n",
       "1989-01-01  Russian Federation    male    75+ years      1393     1349100   \n",
       "1989-01-01  Russian Federation    male  35-54 years     12030    18058500   \n",
       "1989-01-01  Russian Federation    male  55-74 years      6250     9383700   \n",
       "1989-01-01  Russian Federation    male  25-34 years      6856    12748800   \n",
       "1989-01-01  Russian Federation  female    75+ years      1677     4738100   \n",
       "\n",
       "            sucid_in_hundredk            country-year    yearly_gdp  \\\n",
       "year                                                                  \n",
       "1989-01-01             103.25  Russian Federation1989  5.065000e+11   \n",
       "1989-01-01              66.62  Russian Federation1989  5.065000e+11   \n",
       "1989-01-01              66.60  Russian Federation1989  5.065000e+11   \n",
       "1989-01-01              53.78  Russian Federation1989  5.065000e+11   \n",
       "1989-01-01              35.39  Russian Federation1989  5.065000e+11   \n",
       "\n",
       "            gdp_per_capita       generation  ...  physician_price  \\\n",
       "year                                         ...                    \n",
       "1989-01-01            3740  G.I. Generation  ...           0.2384   \n",
       "1989-01-01            3740           Silent  ...           0.2384   \n",
       "1989-01-01            3740  G.I. Generation  ...           0.2384   \n",
       "1989-01-01            3740          Boomers  ...           0.2384   \n",
       "1989-01-01            3740  G.I. Generation  ...           0.2384   \n",
       "\n",
       "            laborforcetotal  lifeexpectancy  mobilesubscriptions  \\\n",
       "year                                                               \n",
       "1989-01-01     1.077831e+07       50.156848             0.009469   \n",
       "1989-01-01     1.077831e+07       50.156848             0.009469   \n",
       "1989-01-01     1.077831e+07       50.156848             0.009469   \n",
       "1989-01-01     1.077831e+07       50.156848             0.009469   \n",
       "1989-01-01     1.077831e+07       50.156848             0.009469   \n",
       "\n",
       "                refugees  selfemployed  electricityacess  continent  \\\n",
       "year                                                                  \n",
       "1989-01-01  10732.386792      2.157578              57.6     Europe   \n",
       "1989-01-01  10732.386792      2.157578              57.6     Europe   \n",
       "1989-01-01  10732.386792      2.157578              57.6     Europe   \n",
       "1989-01-01  10732.386792      2.157578              57.6     Europe   \n",
       "1989-01-01  10732.386792      2.157578              57.6     Europe   \n",
       "\n",
       "            country_code  mobilesubscription  \n",
       "year                                          \n",
       "1989-01-01           RUS            0.009469  \n",
       "1989-01-01           RUS            0.009469  \n",
       "1989-01-01           RUS            0.009469  \n",
       "1989-01-01           RUS            0.009469  \n",
       "1989-01-01           RUS            0.009469  \n",
       "\n",
       "[5 rows x 25 columns]"
      ]
     },
     "execution_count": 3,
     "metadata": {},
     "output_type": "execute_result"
    }
   ],
   "source": [
    "russia = df[(df.country == 'Russian Federation')]\n",
    "russia.head()"
   ]
  },
  {
   "cell_type": "code",
   "execution_count": 4,
   "metadata": {},
   "outputs": [
    {
     "name": "stdout",
     "output_type": "stream",
     "text": [
      "<class 'pandas.core.frame.DataFrame'>\n",
      "DatetimeIndex: 324 entries, 1989-01-01 to 2015-01-01\n",
      "Data columns (total 1 columns):\n",
      " #   Column             Non-Null Count  Dtype  \n",
      "---  ------             --------------  -----  \n",
      " 0   sucid_in_hundredk  324 non-null    float64\n",
      "dtypes: float64(1)\n",
      "memory usage: 5.1 KB\n"
     ]
    }
   ],
   "source": [
    "columns = ['sucid_in_hundredk']\n",
    "russia = pd.DataFrame(russia, columns=columns)\n",
    "russia.info()"
   ]
  },
  {
   "cell_type": "code",
   "execution_count": 5,
   "metadata": {},
   "outputs": [
    {
     "data": {
      "text/html": [
       "<div>\n",
       "<style scoped>\n",
       "    .dataframe tbody tr th:only-of-type {\n",
       "        vertical-align: middle;\n",
       "    }\n",
       "\n",
       "    .dataframe tbody tr th {\n",
       "        vertical-align: top;\n",
       "    }\n",
       "\n",
       "    .dataframe thead th {\n",
       "        text-align: right;\n",
       "    }\n",
       "</style>\n",
       "<table border=\"1\" class=\"dataframe\">\n",
       "  <thead>\n",
       "    <tr style=\"text-align: right;\">\n",
       "      <th></th>\n",
       "      <th>sucid_in_hundredk</th>\n",
       "    </tr>\n",
       "    <tr>\n",
       "      <th>year</th>\n",
       "      <th></th>\n",
       "    </tr>\n",
       "  </thead>\n",
       "  <tbody>\n",
       "    <tr>\n",
       "      <th>1989-01-01</th>\n",
       "      <td>398.82</td>\n",
       "    </tr>\n",
       "    <tr>\n",
       "      <th>1990-01-01</th>\n",
       "      <td>399.17</td>\n",
       "    </tr>\n",
       "    <tr>\n",
       "      <th>1991-01-01</th>\n",
       "      <td>396.40</td>\n",
       "    </tr>\n",
       "    <tr>\n",
       "      <th>1992-01-01</th>\n",
       "      <td>437.48</td>\n",
       "    </tr>\n",
       "    <tr>\n",
       "      <th>1993-01-01</th>\n",
       "      <td>522.06</td>\n",
       "    </tr>\n",
       "    <tr>\n",
       "      <th>1994-01-01</th>\n",
       "      <td>567.64</td>\n",
       "    </tr>\n",
       "    <tr>\n",
       "      <th>1995-01-01</th>\n",
       "      <td>547.38</td>\n",
       "    </tr>\n",
       "    <tr>\n",
       "      <th>1996-01-01</th>\n",
       "      <td>526.28</td>\n",
       "    </tr>\n",
       "    <tr>\n",
       "      <th>1997-01-01</th>\n",
       "      <td>508.09</td>\n",
       "    </tr>\n",
       "    <tr>\n",
       "      <th>1998-01-01</th>\n",
       "      <td>474.74</td>\n",
       "    </tr>\n",
       "  </tbody>\n",
       "</table>\n",
       "</div>"
      ],
      "text/plain": [
       "            sucid_in_hundredk\n",
       "year                         \n",
       "1989-01-01             398.82\n",
       "1990-01-01             399.17\n",
       "1991-01-01             396.40\n",
       "1992-01-01             437.48\n",
       "1993-01-01             522.06\n",
       "1994-01-01             567.64\n",
       "1995-01-01             547.38\n",
       "1996-01-01             526.28\n",
       "1997-01-01             508.09\n",
       "1998-01-01             474.74"
      ]
     },
     "execution_count": 5,
     "metadata": {},
     "output_type": "execute_result"
    }
   ],
   "source": [
    "# adding all deaths together and group by year\n",
    "russia = russia.groupby(['year'])['sucid_in_hundredk'].transform('sum')\n",
    "# russia = russia.reset_index().drop_duplicates()\n",
    "russia = pd.Series.to_frame(russia)\n",
    "\n",
    "# russia['year'] = pd.to_datetime(russia['year'], format='%Y00%').apply(lambda x: x.strftime('%Y'))\n",
    "russia['year'] = list(russia.index)\n",
    "russia = russia.drop_duplicates()\n",
    "df = russia.drop(labels='year', axis=1)\n",
    "df.head(10)"
   ]
  },
  {
   "cell_type": "code",
   "execution_count": 6,
   "metadata": {},
   "outputs": [
    {
     "data": {
      "image/png": "[encoded data removed]",
      "text/plain": [
       "<Figure size 432x288 with 1 Axes>"
      ]
     },
     "metadata": {
      "needs_background": "light"
     },
     "output_type": "display_data"
    }
   ],
   "source": [
    "from matplotlib import pyplot\n",
    "# print(russia.head())\n",
    "df.plot()\n",
    "pyplot.show()"
   ]
  },
  {
   "cell_type": "code",
   "execution_count": 16,
   "metadata": {},
   "outputs": [
    {
     "name": "stderr",
     "output_type": "stream",
     "text": [
      "c:\\ProgramData\\Anaconda3\\lib\\site-packages\\statsmodels\\tsa\\ar_model.py:248: FutureWarning: The parameter names will change after 0.12 is released. Set old_names to False to use the new names now. Set old_names to True to use the old names. \n",
      "  warnings.warn(\n"
     ]
    },
    {
     "name": "stdout",
     "output_type": "stream",
     "text": [
      "Test RMSE: 11.792\n"
     ]
    },
    {
     "data": {
      "image/png": "[encoded data removed]",
      "text/plain": [
       "<Figure size 432x288 with 1 Axes>"
      ]
     },
     "metadata": {
      "needs_background": "light"
     },
     "output_type": "display_data"
    }
   ],
   "source": [
    "# fit and evaluate an AR model\n",
    "from matplotlib import pyplot\n",
    "from statsmodels.tsa.ar_model import AutoReg\n",
    "from sklearn.metrics import mean_squared_error\n",
    "import numpy\n",
    "from math import sqrt\n",
    "\n",
    "# create a difference transform of the dataset\n",
    "def difference(dataset):\n",
    "\tdiff = list()\n",
    "\tfor i in range(1, len(dataset)):\n",
    "\t\tvalue = dataset[i] - dataset[i - 1]\n",
    "\t\tdiff.append(value)\n",
    "\treturn numpy.array(diff)\n",
    "\n",
    "# Make a prediction give regression coefficients and lag obs\n",
    "def predict(coef, history):\n",
    "\tyhat = coef[0]\n",
    "\tfor i in range(1, len(coef)):\n",
    "\t\tyhat += coef[i] * history[-i]\n",
    "\treturn yhat\n",
    "\n",
    "# series = read_csv('daily-total-female-births.csv', header=0, index_col=0, parse_dates=True, squeeze=True)\n",
    "# split dataset\n",
    "X = difference(df.values)\n",
    "size = int(len(X) * 0.70)\n",
    "train, test = X[0:size], X[size:]\n",
    "# train autoregression\n",
    "window = 1\n",
    "model = AutoReg(train, lags=1)\n",
    "model_fit = model.fit()\n",
    "coef = model_fit.params\n",
    "# walk forward over time steps in test\n",
    "history = [train[i] for i in range(len(train))]\n",
    "predictions = list()\n",
    "for t in range(len(test)):\n",
    "\tyhat = predict(coef, history)\n",
    "\tobs = test[t]\n",
    "\tpredictions.append(yhat)\n",
    "\thistory.append(obs)\n",
    "rmse = sqrt(mean_squared_error(test, predictions))\n",
    "print('Test RMSE: %.3f' % rmse)\n",
    "# plot\n",
    "pyplot.plot(test)\n",
    "pyplot.plot(predictions, color='red')\n",
    "pyplot.show()"
   ]
  },
  {
   "cell_type": "code",
   "execution_count": 8,
   "metadata": {},
   "outputs": [
    {
     "name": "stderr",
     "output_type": "stream",
     "text": [
      "c:\\ProgramData\\Anaconda3\\lib\\site-packages\\statsmodels\\tsa\\ar_model.py:248: FutureWarning: The parameter names will change after 0.12 is released. Set old_names to False to use the new names now. Set old_names to True to use the old names. \n",
      "  warnings.warn(\n"
     ]
    }
   ],
   "source": [
    "# fit an AR model and save the whole model to file\n",
    "# from pandas import read_csv\n",
    "from statsmodels.tsa.ar_model import AutoReg\n",
    "import numpy\n",
    "\n",
    "# create a difference transform of the dataset\n",
    "def difference(dataset):\n",
    "\tdiff = list()\n",
    "\tfor i in range(1, len(dataset)):\n",
    "\t\tvalue = dataset[i] - dataset[i - 1]\n",
    "\t\tdiff.append(value)\n",
    "\treturn numpy.array(diff)\n",
    "\n",
    "# load dataset\n",
    "# series = read_csv('daily-total-female-births.csv', header=0, index_col=0, parse_dates=True, squeeze=True)\n",
    "X = difference(df.values)\n",
    "# fit model\n",
    "model = AutoReg(X, lags=6)\n",
    "model_fit = model.fit()\n",
    "# save model to file\n",
    "# model_fit.save('ar_model.pkl')\n",
    "# save the differenced dataset\n",
    "# numpy.save('ar_data.npy', X)\n",
    "# save the last ob\n",
    "# numpy.save('ar_obs.npy', [df.values[-1]])"
   ]
  },
  {
   "cell_type": "code",
   "execution_count": 9,
   "metadata": {},
   "outputs": [
    {
     "name": "stdout",
     "output_type": "stream",
     "text": [
      "[-1.51354614e+01 -1.19928953e-01  2.07181169e-01 -3.78302289e-03\n",
      " -2.19596854e-01  2.20018369e-02  2.91063243e-01]\n",
      "[[236.92]]\n"
     ]
    }
   ],
   "source": [
    "# load the AR model from file\n",
    "from statsmodels.tsa.ar_model import AutoRegResults\n",
    "import numpy\n",
    "loaded = AutoRegResults.load('ar_model.pkl')\n",
    "print(loaded.params)\n",
    "data = numpy.load('ar_data.npy')\n",
    "last_ob = numpy.load('ar_obs.npy')\n",
    "print(last_ob)"
   ]
  },
  {
   "cell_type": "markdown",
   "metadata": {},
   "source": [
    "### Finalize and Save Time Series Forecast Model"
   ]
  },
  {
   "cell_type": "code",
   "execution_count": 10,
   "metadata": {},
   "outputs": [
    {
     "name": "stderr",
     "output_type": "stream",
     "text": [
      "c:\\ProgramData\\Anaconda3\\lib\\site-packages\\statsmodels\\tsa\\ar_model.py:248: FutureWarning: The parameter names will change after 0.12 is released. Set old_names to False to use the new names now. Set old_names to True to use the old names. \n",
      "  warnings.warn(\n"
     ]
    }
   ],
   "source": [
    "# fit an AR model and manually save coefficients to file\n",
    "\n",
    "from statsmodels.tsa.ar_model import AutoReg\n",
    "import numpy\n",
    "\n",
    "# create a difference transform of the dataset\n",
    "def difference(dataset):\n",
    "\tdiff = list()\n",
    "\tfor i in range(1, len(dataset)):\n",
    "\t\tvalue = dataset[i] - dataset[i - 1]\n",
    "\t\tdiff.append(value)\n",
    "\treturn numpy.array(diff)\n",
    "\n",
    "# load dataset\n",
    "# series = read_csv('daily-total-female-births.csv', header=0, index_col=0, parse_dates=True, squeeze=True)\n",
    "X = difference(df.values)\n",
    "# fit model\n",
    "window_size = 6\n",
    "model = AutoReg(X, lags=window_size)\n",
    "model_fit = model.fit()\n",
    "# save coefficients\n",
    "coef = model_fit.params\n",
    "# numpy.save('man_model.npy', coef)\n",
    "# save lag\n",
    "lag = X[-window_size:]\n",
    "# numpy.save('man_data.npy', lag)\n",
    "# save the last ob\n",
    "# numpy.save('man_obs.npy', [df.values[-1]])"
   ]
  },
  {
   "cell_type": "code",
   "execution_count": 11,
   "metadata": {},
   "outputs": [
    {
     "name": "stdout",
     "output_type": "stream",
     "text": [
      "[-1.51354614e+01 -1.19928953e-01  2.07181169e-01 -3.78302289e-03\n",
      " -2.19596854e-01  2.20018369e-02  2.91063243e-01]\n",
      "[[-33.59]\n",
      " [-19.53]\n",
      " [-14.17]\n",
      " [-11.54]\n",
      " [-14.75]\n",
      " [-22.3 ]]\n",
      "[[236.92]]\n"
     ]
    }
   ],
   "source": [
    "# load the manually saved model from file\n",
    "import numpy\n",
    "coef = numpy.load('man_model.npy')\n",
    "print(coef)\n",
    "lag = numpy.load('man_data.npy')\n",
    "print(lag)\n",
    "last_ob = numpy.load('man_obs.npy')\n",
    "print(last_ob)"
   ]
  },
  {
   "cell_type": "markdown",
   "metadata": {},
   "source": [
    "### Make a Time Series Forecast"
   ]
  },
  {
   "cell_type": "code",
   "execution_count": 12,
   "metadata": {},
   "outputs": [
    {
     "name": "stdout",
     "output_type": "stream",
     "text": [
      "Prediction: 214.351865\n"
     ]
    }
   ],
   "source": [
    "# load AR model from file and make a one-step prediction\n",
    "from statsmodels.tsa.ar_model import AutoRegResults\n",
    "import numpy\n",
    "# load model\n",
    "model = AutoRegResults.load('ar_model.pkl')\n",
    "data = numpy.load('ar_data.npy')\n",
    "last_ob = numpy.load('ar_obs.npy')\n",
    "# make prediction\n",
    "predictions = model.predict(start=len(data), end=len(data))\n",
    "# transform prediction\n",
    "yhat = predictions[0] + last_ob[0]\n",
    "print('Prediction: %f' % yhat)"
   ]
  },
  {
   "cell_type": "markdown",
   "metadata": {},
   "source": [
    "### Update Forecast Model"
   ]
  },
  {
   "cell_type": "code",
   "execution_count": 13,
   "metadata": {},
   "outputs": [],
   "source": [
    "# update the data for the manual model with a new obs\n",
    "import numpy\n",
    "# get real observation\n",
    "observation = 48\n",
    "# update and save differenced observation\n",
    "lag = numpy.load('man_data.npy')\n",
    "last_ob = numpy.load('man_obs.npy')\n",
    "diffed = observation - last_ob[0]\n",
    "lag = numpy.append(lag[1:], [diffed], axis=0)\n",
    "numpy.save('man_data.npy', lag)\n",
    "# update and save real observation\n",
    "last_ob[0] = observation\n",
    "numpy.save('man_obs.npy', last_ob)"
   ]
  }
 ],
 "metadata": {
  "interpreter": {
   "hash": "ad2bdc8ecc057115af97d19610ffacc2b4e99fae6737bb82f5d7fb13d2f2c186"
  },
  "kernelspec": {
   "display_name": "Python 3.8.8 ('base')",
   "language": "python",
   "name": "python3"
  },
  "language_info": {
   "codemirror_mode": {
    "name": "ipython",
    "version": 3
   },
   "file_extension": ".py",
   "mimetype": "text/x-python",
   "name": "python",
   "nbconvert_exporter": "python",
   "pygments_lexer": "ipython3",
   "version": "3.8.8"
  },
  "orig_nbformat": 4
 },
 "nbformat": 4,
 "nbformat_minor": 2
}
