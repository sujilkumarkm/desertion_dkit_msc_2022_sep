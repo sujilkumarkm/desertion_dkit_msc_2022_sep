{
 "cells": [
  {
   "cell_type": "code",
   "execution_count": null,
   "metadata": {},
   "outputs": [],
   "source": [
    "!pip install plotly"
   ]
  },
  {
   "cell_type": "code",
   "execution_count": 1,
   "metadata": {
    "colab": {
     "base_uri": "https://localhost:8080/"
    },
    "id": "aa061b66",
    "outputId": "c3a7552d-711a-4763-e10a-8622db345e0c",
    "scrolled": true
   },
   "outputs": [
    {
     "name": "stderr",
     "output_type": "stream",
     "text": [
      "/home/devendra/anaconda3/lib/python3.7/site-packages/statsmodels/tools/_testing.py:19: FutureWarning: pandas.util.testing is deprecated. Use the functions in the public API at pandas.testing instead.\n",
      "  import pandas.util.testing as tm\n"
     ]
    }
   ],
   "source": [
    "import statsmodels.api as sm\n",
    "import os\n",
    "import pandas as pd\n",
    "import seaborn as sns\n",
    "import matplotlib.pyplot as plt\n",
    "import numpy as np\n",
    "import scipy.stats as stats\n",
    "import plotly.express as px"
   ]
  },
  {
   "cell_type": "code",
   "execution_count": 2,
   "metadata": {
    "colab": {
     "base_uri": "https://localhost:8080/",
     "height": 206
    },
    "id": "d2085654",
    "outputId": "8fbcb122-5902-4496-cfaa-c2c62fa37bfe",
    "scrolled": true
   },
   "outputs": [
    {
     "data": {
      "text/html": [
       "<div>\n",
       "<style scoped>\n",
       "    .dataframe tbody tr th:only-of-type {\n",
       "        vertical-align: middle;\n",
       "    }\n",
       "\n",
       "    .dataframe tbody tr th {\n",
       "        vertical-align: top;\n",
       "    }\n",
       "\n",
       "    .dataframe thead th {\n",
       "        text-align: right;\n",
       "    }\n",
       "</style>\n",
       "<table border=\"1\" class=\"dataframe\">\n",
       "  <thead>\n",
       "    <tr style=\"text-align: right;\">\n",
       "      <th></th>\n",
       "      <th>country</th>\n",
       "      <th>year</th>\n",
       "      <th>sex</th>\n",
       "      <th>age</th>\n",
       "      <th>suicides_no</th>\n",
       "      <th>population</th>\n",
       "      <th>suicides/100k pop</th>\n",
       "      <th>country-year</th>\n",
       "      <th>HDI for year</th>\n",
       "      <th>gdp_for_year ($)</th>\n",
       "      <th>gdp_per_capita ($)</th>\n",
       "      <th>generation</th>\n",
       "    </tr>\n",
       "  </thead>\n",
       "  <tbody>\n",
       "    <tr>\n",
       "      <th>27815</th>\n",
       "      <td>Thailand</td>\n",
       "      <td>2016</td>\n",
       "      <td>female</td>\n",
       "      <td>75+ years</td>\n",
       "      <td>69</td>\n",
       "      <td>1589015</td>\n",
       "      <td>4.34</td>\n",
       "      <td>Thailand2016</td>\n",
       "      <td>NaN</td>\n",
       "      <td>4.120000e+11</td>\n",
       "      <td>6713</td>\n",
       "      <td>Silent</td>\n",
       "    </tr>\n",
       "    <tr>\n",
       "      <th>27816</th>\n",
       "      <td>Thailand</td>\n",
       "      <td>2016</td>\n",
       "      <td>female</td>\n",
       "      <td>55-74 years</td>\n",
       "      <td>222</td>\n",
       "      <td>6049756</td>\n",
       "      <td>3.67</td>\n",
       "      <td>Thailand2016</td>\n",
       "      <td>NaN</td>\n",
       "      <td>4.120000e+11</td>\n",
       "      <td>6713</td>\n",
       "      <td>Boomers</td>\n",
       "    </tr>\n",
       "    <tr>\n",
       "      <th>27817</th>\n",
       "      <td>Thailand</td>\n",
       "      <td>2016</td>\n",
       "      <td>female</td>\n",
       "      <td>35-54 years</td>\n",
       "      <td>375</td>\n",
       "      <td>10629684</td>\n",
       "      <td>3.53</td>\n",
       "      <td>Thailand2016</td>\n",
       "      <td>NaN</td>\n",
       "      <td>4.120000e+11</td>\n",
       "      <td>6713</td>\n",
       "      <td>Generation X</td>\n",
       "    </tr>\n",
       "    <tr>\n",
       "      <th>27818</th>\n",
       "      <td>Thailand</td>\n",
       "      <td>2016</td>\n",
       "      <td>female</td>\n",
       "      <td>25-34 years</td>\n",
       "      <td>116</td>\n",
       "      <td>4702656</td>\n",
       "      <td>2.47</td>\n",
       "      <td>Thailand2016</td>\n",
       "      <td>NaN</td>\n",
       "      <td>4.120000e+11</td>\n",
       "      <td>6713</td>\n",
       "      <td>Millenials</td>\n",
       "    </tr>\n",
       "    <tr>\n",
       "      <th>27819</th>\n",
       "      <td>Thailand</td>\n",
       "      <td>2016</td>\n",
       "      <td>female</td>\n",
       "      <td>15-24 years</td>\n",
       "      <td>60</td>\n",
       "      <td>4525574</td>\n",
       "      <td>1.33</td>\n",
       "      <td>Thailand2016</td>\n",
       "      <td>NaN</td>\n",
       "      <td>4.120000e+11</td>\n",
       "      <td>6713</td>\n",
       "      <td>Millenials</td>\n",
       "    </tr>\n",
       "  </tbody>\n",
       "</table>\n",
       "</div>"
      ],
      "text/plain": [
       "        country  year     sex          age  suicides_no  population  \\\n",
       "27815  Thailand  2016  female    75+ years           69     1589015   \n",
       "27816  Thailand  2016  female  55-74 years          222     6049756   \n",
       "27817  Thailand  2016  female  35-54 years          375    10629684   \n",
       "27818  Thailand  2016  female  25-34 years          116     4702656   \n",
       "27819  Thailand  2016  female  15-24 years           60     4525574   \n",
       "\n",
       "       suicides/100k pop  country-year  HDI for year   gdp_for_year ($)   \\\n",
       "27815               4.34  Thailand2016           NaN        4.120000e+11   \n",
       "27816               3.67  Thailand2016           NaN        4.120000e+11   \n",
       "27817               3.53  Thailand2016           NaN        4.120000e+11   \n",
       "27818               2.47  Thailand2016           NaN        4.120000e+11   \n",
       "27819               1.33  Thailand2016           NaN        4.120000e+11   \n",
       "\n",
       "       gdp_per_capita ($)    generation  \n",
       "27815                6713        Silent  \n",
       "27816                6713       Boomers  \n",
       "27817                6713  Generation X  \n",
       "27818                6713    Millenials  \n",
       "27819                6713    Millenials  "
      ]
     },
     "execution_count": 2,
     "metadata": {},
     "output_type": "execute_result"
    }
   ],
   "source": [
    "df = pd.read_csv(\"../data/suicide_master.csv\")\n",
    "df.tail()"
   ]
  },
  {
   "cell_type": "code",
   "execution_count": 3,
   "metadata": {
    "id": "5648a23a"
   },
   "outputs": [],
   "source": [
    "# remove special character\n",
    "df.columns = df.columns.str.replace(' ', '')"
   ]
  },
  {
   "cell_type": "code",
   "execution_count": 4,
   "metadata": {
    "id": "bd07cb14"
   },
   "outputs": [],
   "source": [
    "df.columns = map(str.lower, df.columns)"
   ]
  },
  {
   "cell_type": "code",
   "execution_count": 5,
   "metadata": {
    "id": "d8b4e678"
   },
   "outputs": [],
   "source": [
    "df.rename( {'gdp_for_year($)':'yearly_gdp' } , axis=1 , inplace = True)\n",
    "df.rename( {'gdp_per_capita($)':'gdp_per_capita' } , axis=1 , inplace = True)\n",
    "df.rename( {'hdiforyear':'yearly_hdi' } , axis=1 , inplace = True)\n",
    "df.rename( {'suicides/100kpop':'sucid_in_hundredk' } , axis=1 , inplace = True)\n",
    "df.rename( {'suicides_no':'suicides' } , axis=1 , inplace = True)"
   ]
  },
  {
   "cell_type": "code",
   "execution_count": 6,
   "metadata": {
    "colab": {
     "base_uri": "https://localhost:8080/"
    },
    "id": "94085706",
    "outputId": "e18c69a4-a217-4319-d9a2-8e284de8f03f",
    "scrolled": false
   },
   "outputs": [
    {
     "name": "stdout",
     "output_type": "stream",
     "text": [
      "<class 'pandas.core.frame.DataFrame'>\n",
      "RangeIndex: 27820 entries, 0 to 27819\n",
      "Data columns (total 12 columns):\n",
      " #   Column             Non-Null Count  Dtype  \n",
      "---  ------             --------------  -----  \n",
      " 0   country            27820 non-null  object \n",
      " 1   year               27820 non-null  int64  \n",
      " 2   sex                27820 non-null  object \n",
      " 3   age                27820 non-null  object \n",
      " 4   suicides           27820 non-null  int64  \n",
      " 5   population         27820 non-null  int64  \n",
      " 6   sucid_in_hundredk  27820 non-null  float64\n",
      " 7   country-year       27820 non-null  object \n",
      " 8   yearly_hdi         8364 non-null   float64\n",
      " 9   yearly_gdp         27820 non-null  float64\n",
      " 10  gdp_per_capita     27820 non-null  int64  \n",
      " 11  generation         27820 non-null  object \n",
      "dtypes: float64(3), int64(4), object(5)\n",
      "memory usage: 2.5+ MB\n"
     ]
    }
   ],
   "source": [
    "df.info()"
   ]
  },
  {
   "cell_type": "code",
   "execution_count": 7,
   "metadata": {
    "colab": {
     "base_uri": "https://localhost:8080/",
     "height": 426
    },
    "id": "49c79392",
    "outputId": "de9b89fc-8ca5-4512-f356-446c44c3acbf",
    "scrolled": true
   },
   "outputs": [
    {
     "data": {
      "text/html": [
       "<div>\n",
       "<style scoped>\n",
       "    .dataframe tbody tr th:only-of-type {\n",
       "        vertical-align: middle;\n",
       "    }\n",
       "\n",
       "    .dataframe tbody tr th {\n",
       "        vertical-align: top;\n",
       "    }\n",
       "\n",
       "    .dataframe thead th {\n",
       "        text-align: right;\n",
       "    }\n",
       "</style>\n",
       "<table border=\"1\" class=\"dataframe\">\n",
       "  <thead>\n",
       "    <tr style=\"text-align: right;\">\n",
       "      <th></th>\n",
       "      <th>count</th>\n",
       "      <th>unique</th>\n",
       "      <th>top</th>\n",
       "      <th>freq</th>\n",
       "      <th>mean</th>\n",
       "      <th>std</th>\n",
       "      <th>min</th>\n",
       "      <th>25%</th>\n",
       "      <th>50%</th>\n",
       "      <th>75%</th>\n",
       "      <th>max</th>\n",
       "    </tr>\n",
       "  </thead>\n",
       "  <tbody>\n",
       "    <tr>\n",
       "      <th>country</th>\n",
       "      <td>27820</td>\n",
       "      <td>101</td>\n",
       "      <td>Austria</td>\n",
       "      <td>382</td>\n",
       "      <td>NaN</td>\n",
       "      <td>NaN</td>\n",
       "      <td>NaN</td>\n",
       "      <td>NaN</td>\n",
       "      <td>NaN</td>\n",
       "      <td>NaN</td>\n",
       "      <td>NaN</td>\n",
       "    </tr>\n",
       "    <tr>\n",
       "      <th>year</th>\n",
       "      <td>27820.0</td>\n",
       "      <td>NaN</td>\n",
       "      <td>NaN</td>\n",
       "      <td>NaN</td>\n",
       "      <td>2001.258375</td>\n",
       "      <td>8.469055</td>\n",
       "      <td>1985.0</td>\n",
       "      <td>1995.0</td>\n",
       "      <td>2002.0</td>\n",
       "      <td>2008.0</td>\n",
       "      <td>2016.0</td>\n",
       "    </tr>\n",
       "    <tr>\n",
       "      <th>sex</th>\n",
       "      <td>27820</td>\n",
       "      <td>2</td>\n",
       "      <td>female</td>\n",
       "      <td>13910</td>\n",
       "      <td>NaN</td>\n",
       "      <td>NaN</td>\n",
       "      <td>NaN</td>\n",
       "      <td>NaN</td>\n",
       "      <td>NaN</td>\n",
       "      <td>NaN</td>\n",
       "      <td>NaN</td>\n",
       "    </tr>\n",
       "    <tr>\n",
       "      <th>age</th>\n",
       "      <td>27820</td>\n",
       "      <td>6</td>\n",
       "      <td>15-24 years</td>\n",
       "      <td>4642</td>\n",
       "      <td>NaN</td>\n",
       "      <td>NaN</td>\n",
       "      <td>NaN</td>\n",
       "      <td>NaN</td>\n",
       "      <td>NaN</td>\n",
       "      <td>NaN</td>\n",
       "      <td>NaN</td>\n",
       "    </tr>\n",
       "    <tr>\n",
       "      <th>suicides</th>\n",
       "      <td>27820.0</td>\n",
       "      <td>NaN</td>\n",
       "      <td>NaN</td>\n",
       "      <td>NaN</td>\n",
       "      <td>242.574407</td>\n",
       "      <td>902.047917</td>\n",
       "      <td>0.0</td>\n",
       "      <td>3.0</td>\n",
       "      <td>25.0</td>\n",
       "      <td>131.0</td>\n",
       "      <td>22338.0</td>\n",
       "    </tr>\n",
       "    <tr>\n",
       "      <th>population</th>\n",
       "      <td>27820.0</td>\n",
       "      <td>NaN</td>\n",
       "      <td>NaN</td>\n",
       "      <td>NaN</td>\n",
       "      <td>1844793.617398</td>\n",
       "      <td>3911779.441756</td>\n",
       "      <td>278.0</td>\n",
       "      <td>97498.5</td>\n",
       "      <td>430150.0</td>\n",
       "      <td>1486143.25</td>\n",
       "      <td>43805214.0</td>\n",
       "    </tr>\n",
       "    <tr>\n",
       "      <th>sucid_in_hundredk</th>\n",
       "      <td>27820.0</td>\n",
       "      <td>NaN</td>\n",
       "      <td>NaN</td>\n",
       "      <td>NaN</td>\n",
       "      <td>12.816097</td>\n",
       "      <td>18.961511</td>\n",
       "      <td>0.0</td>\n",
       "      <td>0.92</td>\n",
       "      <td>5.99</td>\n",
       "      <td>16.62</td>\n",
       "      <td>224.97</td>\n",
       "    </tr>\n",
       "    <tr>\n",
       "      <th>country-year</th>\n",
       "      <td>27820</td>\n",
       "      <td>2321</td>\n",
       "      <td>Antigua and Barbuda1985</td>\n",
       "      <td>12</td>\n",
       "      <td>NaN</td>\n",
       "      <td>NaN</td>\n",
       "      <td>NaN</td>\n",
       "      <td>NaN</td>\n",
       "      <td>NaN</td>\n",
       "      <td>NaN</td>\n",
       "      <td>NaN</td>\n",
       "    </tr>\n",
       "    <tr>\n",
       "      <th>yearly_hdi</th>\n",
       "      <td>8364.0</td>\n",
       "      <td>NaN</td>\n",
       "      <td>NaN</td>\n",
       "      <td>NaN</td>\n",
       "      <td>0.776601</td>\n",
       "      <td>0.093367</td>\n",
       "      <td>0.483</td>\n",
       "      <td>0.713</td>\n",
       "      <td>0.779</td>\n",
       "      <td>0.855</td>\n",
       "      <td>0.944</td>\n",
       "    </tr>\n",
       "    <tr>\n",
       "      <th>yearly_gdp</th>\n",
       "      <td>27820.0</td>\n",
       "      <td>NaN</td>\n",
       "      <td>NaN</td>\n",
       "      <td>NaN</td>\n",
       "      <td>445597926548.398254</td>\n",
       "      <td>1453907394884.571777</td>\n",
       "      <td>46919625.0</td>\n",
       "      <td>8985352832.0</td>\n",
       "      <td>48114688201.0</td>\n",
       "      <td>260000000000.0</td>\n",
       "      <td>18100000000000.0</td>\n",
       "    </tr>\n",
       "    <tr>\n",
       "      <th>gdp_per_capita</th>\n",
       "      <td>27820.0</td>\n",
       "      <td>NaN</td>\n",
       "      <td>NaN</td>\n",
       "      <td>NaN</td>\n",
       "      <td>16866.464414</td>\n",
       "      <td>18887.576472</td>\n",
       "      <td>251.0</td>\n",
       "      <td>3447.0</td>\n",
       "      <td>9372.0</td>\n",
       "      <td>24874.0</td>\n",
       "      <td>126352.0</td>\n",
       "    </tr>\n",
       "    <tr>\n",
       "      <th>generation</th>\n",
       "      <td>27820</td>\n",
       "      <td>6</td>\n",
       "      <td>Generation X</td>\n",
       "      <td>6408</td>\n",
       "      <td>NaN</td>\n",
       "      <td>NaN</td>\n",
       "      <td>NaN</td>\n",
       "      <td>NaN</td>\n",
       "      <td>NaN</td>\n",
       "      <td>NaN</td>\n",
       "      <td>NaN</td>\n",
       "    </tr>\n",
       "  </tbody>\n",
       "</table>\n",
       "</div>"
      ],
      "text/plain": [
       "                     count unique                      top   freq  \\\n",
       "country              27820    101                  Austria    382   \n",
       "year               27820.0    NaN                      NaN    NaN   \n",
       "sex                  27820      2                   female  13910   \n",
       "age                  27820      6              15-24 years   4642   \n",
       "suicides           27820.0    NaN                      NaN    NaN   \n",
       "population         27820.0    NaN                      NaN    NaN   \n",
       "sucid_in_hundredk  27820.0    NaN                      NaN    NaN   \n",
       "country-year         27820   2321  Antigua and Barbuda1985     12   \n",
       "yearly_hdi          8364.0    NaN                      NaN    NaN   \n",
       "yearly_gdp         27820.0    NaN                      NaN    NaN   \n",
       "gdp_per_capita     27820.0    NaN                      NaN    NaN   \n",
       "generation           27820      6             Generation X   6408   \n",
       "\n",
       "                                  mean                   std         min  \\\n",
       "country                            NaN                   NaN         NaN   \n",
       "year                       2001.258375              8.469055      1985.0   \n",
       "sex                                NaN                   NaN         NaN   \n",
       "age                                NaN                   NaN         NaN   \n",
       "suicides                    242.574407            902.047917         0.0   \n",
       "population              1844793.617398        3911779.441756       278.0   \n",
       "sucid_in_hundredk            12.816097             18.961511         0.0   \n",
       "country-year                       NaN                   NaN         NaN   \n",
       "yearly_hdi                    0.776601              0.093367       0.483   \n",
       "yearly_gdp         445597926548.398254  1453907394884.571777  46919625.0   \n",
       "gdp_per_capita            16866.464414          18887.576472       251.0   \n",
       "generation                         NaN                   NaN         NaN   \n",
       "\n",
       "                            25%            50%             75%  \\\n",
       "country                     NaN            NaN             NaN   \n",
       "year                     1995.0         2002.0          2008.0   \n",
       "sex                         NaN            NaN             NaN   \n",
       "age                         NaN            NaN             NaN   \n",
       "suicides                    3.0           25.0           131.0   \n",
       "population              97498.5       430150.0      1486143.25   \n",
       "sucid_in_hundredk          0.92           5.99           16.62   \n",
       "country-year                NaN            NaN             NaN   \n",
       "yearly_hdi                0.713          0.779           0.855   \n",
       "yearly_gdp         8985352832.0  48114688201.0  260000000000.0   \n",
       "gdp_per_capita           3447.0         9372.0         24874.0   \n",
       "generation                  NaN            NaN             NaN   \n",
       "\n",
       "                                max  \n",
       "country                         NaN  \n",
       "year                         2016.0  \n",
       "sex                             NaN  \n",
       "age                             NaN  \n",
       "suicides                    22338.0  \n",
       "population               43805214.0  \n",
       "sucid_in_hundredk            224.97  \n",
       "country-year                    NaN  \n",
       "yearly_hdi                    0.944  \n",
       "yearly_gdp         18100000000000.0  \n",
       "gdp_per_capita             126352.0  \n",
       "generation                      NaN  "
      ]
     },
     "execution_count": 7,
     "metadata": {},
     "output_type": "execute_result"
    }
   ],
   "source": [
    "df.describe(include='all').T"
   ]
  },
  {
   "cell_type": "code",
   "execution_count": 8,
   "metadata": {
    "colab": {
     "base_uri": "https://localhost:8080/",
     "height": 206
    },
    "id": "c59ac856",
    "outputId": "0440fef1-ba01-4ef7-9b58-8d40b503d63c",
    "scrolled": true
   },
   "outputs": [
    {
     "data": {
      "text/html": [
       "<div>\n",
       "<style scoped>\n",
       "    .dataframe tbody tr th:only-of-type {\n",
       "        vertical-align: middle;\n",
       "    }\n",
       "\n",
       "    .dataframe tbody tr th {\n",
       "        vertical-align: top;\n",
       "    }\n",
       "\n",
       "    .dataframe thead th {\n",
       "        text-align: right;\n",
       "    }\n",
       "</style>\n",
       "<table border=\"1\" class=\"dataframe\">\n",
       "  <thead>\n",
       "    <tr style=\"text-align: right;\">\n",
       "      <th></th>\n",
       "      <th>country</th>\n",
       "      <th>year</th>\n",
       "      <th>sex</th>\n",
       "      <th>age</th>\n",
       "      <th>suicides</th>\n",
       "      <th>population</th>\n",
       "      <th>sucid_in_hundredk</th>\n",
       "      <th>country-year</th>\n",
       "      <th>yearly_hdi</th>\n",
       "      <th>yearly_gdp</th>\n",
       "      <th>gdp_per_capita</th>\n",
       "      <th>generation</th>\n",
       "    </tr>\n",
       "  </thead>\n",
       "  <tbody>\n",
       "    <tr>\n",
       "      <th>0</th>\n",
       "      <td>Antigua and Barbuda</td>\n",
       "      <td>1985</td>\n",
       "      <td>female</td>\n",
       "      <td>15-24 years</td>\n",
       "      <td>0</td>\n",
       "      <td>7709</td>\n",
       "      <td>0.0</td>\n",
       "      <td>Antigua and Barbuda1985</td>\n",
       "      <td>NaN</td>\n",
       "      <td>240923926.0</td>\n",
       "      <td>3850</td>\n",
       "      <td>Generation X</td>\n",
       "    </tr>\n",
       "    <tr>\n",
       "      <th>1</th>\n",
       "      <td>Antigua and Barbuda</td>\n",
       "      <td>1985</td>\n",
       "      <td>female</td>\n",
       "      <td>25-34 years</td>\n",
       "      <td>0</td>\n",
       "      <td>6344</td>\n",
       "      <td>0.0</td>\n",
       "      <td>Antigua and Barbuda1985</td>\n",
       "      <td>NaN</td>\n",
       "      <td>240923926.0</td>\n",
       "      <td>3850</td>\n",
       "      <td>Boomers</td>\n",
       "    </tr>\n",
       "    <tr>\n",
       "      <th>2</th>\n",
       "      <td>Antigua and Barbuda</td>\n",
       "      <td>1985</td>\n",
       "      <td>female</td>\n",
       "      <td>35-54 years</td>\n",
       "      <td>0</td>\n",
       "      <td>6173</td>\n",
       "      <td>0.0</td>\n",
       "      <td>Antigua and Barbuda1985</td>\n",
       "      <td>NaN</td>\n",
       "      <td>240923926.0</td>\n",
       "      <td>3850</td>\n",
       "      <td>Silent</td>\n",
       "    </tr>\n",
       "    <tr>\n",
       "      <th>3</th>\n",
       "      <td>Antigua and Barbuda</td>\n",
       "      <td>1985</td>\n",
       "      <td>female</td>\n",
       "      <td>5-14 years</td>\n",
       "      <td>0</td>\n",
       "      <td>7339</td>\n",
       "      <td>0.0</td>\n",
       "      <td>Antigua and Barbuda1985</td>\n",
       "      <td>NaN</td>\n",
       "      <td>240923926.0</td>\n",
       "      <td>3850</td>\n",
       "      <td>Generation X</td>\n",
       "    </tr>\n",
       "    <tr>\n",
       "      <th>4</th>\n",
       "      <td>Antigua and Barbuda</td>\n",
       "      <td>1985</td>\n",
       "      <td>female</td>\n",
       "      <td>55-74 years</td>\n",
       "      <td>0</td>\n",
       "      <td>3778</td>\n",
       "      <td>0.0</td>\n",
       "      <td>Antigua and Barbuda1985</td>\n",
       "      <td>NaN</td>\n",
       "      <td>240923926.0</td>\n",
       "      <td>3850</td>\n",
       "      <td>G.I. Generation</td>\n",
       "    </tr>\n",
       "  </tbody>\n",
       "</table>\n",
       "</div>"
      ],
      "text/plain": [
       "               country  year     sex          age  suicides  population  \\\n",
       "0  Antigua and Barbuda  1985  female  15-24 years         0        7709   \n",
       "1  Antigua and Barbuda  1985  female  25-34 years         0        6344   \n",
       "2  Antigua and Barbuda  1985  female  35-54 years         0        6173   \n",
       "3  Antigua and Barbuda  1985  female   5-14 years         0        7339   \n",
       "4  Antigua and Barbuda  1985  female  55-74 years         0        3778   \n",
       "\n",
       "   sucid_in_hundredk             country-year  yearly_hdi   yearly_gdp  \\\n",
       "0                0.0  Antigua and Barbuda1985         NaN  240923926.0   \n",
       "1                0.0  Antigua and Barbuda1985         NaN  240923926.0   \n",
       "2                0.0  Antigua and Barbuda1985         NaN  240923926.0   \n",
       "3                0.0  Antigua and Barbuda1985         NaN  240923926.0   \n",
       "4                0.0  Antigua and Barbuda1985         NaN  240923926.0   \n",
       "\n",
       "   gdp_per_capita       generation  \n",
       "0            3850     Generation X  \n",
       "1            3850          Boomers  \n",
       "2            3850           Silent  \n",
       "3            3850     Generation X  \n",
       "4            3850  G.I. Generation  "
      ]
     },
     "execution_count": 8,
     "metadata": {},
     "output_type": "execute_result"
    }
   ],
   "source": [
    "df.head()"
   ]
  },
  {
   "cell_type": "code",
   "execution_count": 9,
   "metadata": {
    "colab": {
     "base_uri": "https://localhost:8080/",
     "height": 206
    },
    "id": "0f26fdd3",
    "outputId": "5e602b95-98c9-45ba-c235-f5ce83f18b3a",
    "scrolled": true
   },
   "outputs": [
    {
     "data": {
      "text/html": [
       "<div>\n",
       "<style scoped>\n",
       "    .dataframe tbody tr th:only-of-type {\n",
       "        vertical-align: middle;\n",
       "    }\n",
       "\n",
       "    .dataframe tbody tr th {\n",
       "        vertical-align: top;\n",
       "    }\n",
       "\n",
       "    .dataframe thead th {\n",
       "        text-align: right;\n",
       "    }\n",
       "</style>\n",
       "<table border=\"1\" class=\"dataframe\">\n",
       "  <thead>\n",
       "    <tr style=\"text-align: right;\">\n",
       "      <th></th>\n",
       "      <th>country</th>\n",
       "      <th>code_2</th>\n",
       "      <th>code_3</th>\n",
       "      <th>country_code</th>\n",
       "      <th>iso_3166_2</th>\n",
       "      <th>continent</th>\n",
       "      <th>sub_region</th>\n",
       "      <th>region_code</th>\n",
       "      <th>sub_region_code</th>\n",
       "    </tr>\n",
       "  </thead>\n",
       "  <tbody>\n",
       "    <tr>\n",
       "      <th>0</th>\n",
       "      <td>Afghanistan</td>\n",
       "      <td>AF</td>\n",
       "      <td>AFG</td>\n",
       "      <td>4</td>\n",
       "      <td>ISO 3166-2:AF</td>\n",
       "      <td>Asia</td>\n",
       "      <td>Southern Asia</td>\n",
       "      <td>142.0</td>\n",
       "      <td>34.0</td>\n",
       "    </tr>\n",
       "    <tr>\n",
       "      <th>1</th>\n",
       "      <td>Åland Islands</td>\n",
       "      <td>AX</td>\n",
       "      <td>ALA</td>\n",
       "      <td>248</td>\n",
       "      <td>ISO 3166-2:AX</td>\n",
       "      <td>Europe</td>\n",
       "      <td>Northern Europe</td>\n",
       "      <td>150.0</td>\n",
       "      <td>154.0</td>\n",
       "    </tr>\n",
       "    <tr>\n",
       "      <th>2</th>\n",
       "      <td>Albania</td>\n",
       "      <td>AL</td>\n",
       "      <td>ALB</td>\n",
       "      <td>8</td>\n",
       "      <td>ISO 3166-2:AL</td>\n",
       "      <td>Europe</td>\n",
       "      <td>Southern Europe</td>\n",
       "      <td>150.0</td>\n",
       "      <td>39.0</td>\n",
       "    </tr>\n",
       "    <tr>\n",
       "      <th>3</th>\n",
       "      <td>Algeria</td>\n",
       "      <td>DZ</td>\n",
       "      <td>DZA</td>\n",
       "      <td>12</td>\n",
       "      <td>ISO 3166-2:DZ</td>\n",
       "      <td>Africa</td>\n",
       "      <td>Northern Africa</td>\n",
       "      <td>2.0</td>\n",
       "      <td>15.0</td>\n",
       "    </tr>\n",
       "    <tr>\n",
       "      <th>4</th>\n",
       "      <td>American Samoa</td>\n",
       "      <td>AS</td>\n",
       "      <td>ASM</td>\n",
       "      <td>16</td>\n",
       "      <td>ISO 3166-2:AS</td>\n",
       "      <td>Oceania</td>\n",
       "      <td>Polynesia</td>\n",
       "      <td>9.0</td>\n",
       "      <td>61.0</td>\n",
       "    </tr>\n",
       "  </tbody>\n",
       "</table>\n",
       "</div>"
      ],
      "text/plain": [
       "          country code_2 code_3  country_code     iso_3166_2 continent  \\\n",
       "0     Afghanistan     AF    AFG             4  ISO 3166-2:AF      Asia   \n",
       "1   Åland Islands     AX    ALA           248  ISO 3166-2:AX    Europe   \n",
       "2         Albania     AL    ALB             8  ISO 3166-2:AL    Europe   \n",
       "3         Algeria     DZ    DZA            12  ISO 3166-2:DZ    Africa   \n",
       "4  American Samoa     AS    ASM            16  ISO 3166-2:AS   Oceania   \n",
       "\n",
       "        sub_region  region_code  sub_region_code  \n",
       "0    Southern Asia        142.0             34.0  \n",
       "1  Northern Europe        150.0            154.0  \n",
       "2  Southern Europe        150.0             39.0  \n",
       "3  Northern Africa          2.0             15.0  \n",
       "4        Polynesia          9.0             61.0  "
      ]
     },
     "execution_count": 9,
     "metadata": {},
     "output_type": "execute_result"
    }
   ],
   "source": [
    "df_cont = pd.read_csv(\"../data/countryContinent.csv\", encoding=\"ISO-8859-1\")\n",
    "df_cont.head()"
   ]
  },
  {
   "cell_type": "code",
   "execution_count": 10,
   "metadata": {
    "colab": {
     "base_uri": "https://localhost:8080/"
    },
    "id": "41216b9f",
    "outputId": "f0d38c43-6a49-45ca-e7f0-09e34ed3049b",
    "scrolled": true
   },
   "outputs": [
    {
     "name": "stdout",
     "output_type": "stream",
     "text": [
      "Republic of Korea is not found !\n",
      "Saint Vincent and Grenadines is not found !\n",
      "United Kingdom is not found !\n",
      "United States is not found !\n",
      "Macau is not found !\n"
     ]
    }
   ],
   "source": [
    "def find_mismatch (array_1, array_2, only_out=True):\n",
    "    for i in array_1.unique():\n",
    "         if i in array_2.unique():\n",
    "            pass\n",
    "         else:\n",
    "            \n",
    "            print(i, \"is not found !\")\n",
    "            \n",
    "    \n",
    "find_mismatch(df.country, df_cont.country, True)\n"
   ]
  },
  {
   "cell_type": "code",
   "execution_count": 11,
   "metadata": {
    "colab": {
     "base_uri": "https://localhost:8080/"
    },
    "id": "9b22a085",
    "outputId": "c93a30a9-f21a-435d-85da-8f37eac15754",
    "scrolled": true
   },
   "outputs": [
    {
     "name": "stdout",
     "output_type": "stream",
     "text": [
      "<class 'pandas.core.frame.DataFrame'>\n",
      "Int64Index: 26392 entries, 0 to 26391\n",
      "Data columns (total 14 columns):\n",
      " #   Column             Non-Null Count  Dtype  \n",
      "---  ------             --------------  -----  \n",
      " 0   country            26392 non-null  object \n",
      " 1   year               26392 non-null  int64  \n",
      " 2   sex                26392 non-null  object \n",
      " 3   age                26392 non-null  object \n",
      " 4   suicides           26392 non-null  int64  \n",
      " 5   population         26392 non-null  int64  \n",
      " 6   sucid_in_hundredk  26392 non-null  float64\n",
      " 7   country-year       26392 non-null  object \n",
      " 8   yearly_hdi         8040 non-null   float64\n",
      " 9   yearly_gdp         26392 non-null  float64\n",
      " 10  gdp_per_capita     26392 non-null  int64  \n",
      " 11  generation         26392 non-null  object \n",
      " 12  continent          26392 non-null  object \n",
      " 13  country_code       26392 non-null  object \n",
      "dtypes: float64(3), int64(4), object(7)\n",
      "memory usage: 3.0+ MB\n"
     ]
    }
   ],
   "source": [
    "final = df.merge(df_cont[['country', 'continent', 'code_3']], on = \"country\")\n",
    "final.rename( {'code_3':'country_code' } , axis=1 , inplace = True)\n",
    "final.info()"
   ]
  },
  {
   "cell_type": "code",
   "execution_count": 12,
   "metadata": {
    "colab": {
     "base_uri": "https://localhost:8080/",
     "height": 543
    },
    "id": "0479ce81",
    "outputId": "c6c40e76-54ec-4bfc-b9b4-69b638260e92",
    "scrolled": false
   },
   "outputs": [
    {
     "data": {
      "text/html": [
       "<div>\n",
       "<style scoped>\n",
       "    .dataframe tbody tr th:only-of-type {\n",
       "        vertical-align: middle;\n",
       "    }\n",
       "\n",
       "    .dataframe tbody tr th {\n",
       "        vertical-align: top;\n",
       "    }\n",
       "\n",
       "    .dataframe thead th {\n",
       "        text-align: right;\n",
       "    }\n",
       "</style>\n",
       "<table border=\"1\" class=\"dataframe\">\n",
       "  <thead>\n",
       "    <tr style=\"text-align: right;\">\n",
       "      <th></th>\n",
       "      <th>country</th>\n",
       "      <th>year</th>\n",
       "      <th>sex</th>\n",
       "      <th>age</th>\n",
       "      <th>suicides_no</th>\n",
       "      <th>population</th>\n",
       "      <th>suicidesper100k</th>\n",
       "      <th>country-year</th>\n",
       "      <th>yearlyHDI</th>\n",
       "      <th>GDPpyear</th>\n",
       "      <th>...</th>\n",
       "      <th>Unemployment, total (% of total labor force) (modeled ILO estimate)</th>\n",
       "      <th>Physicians (per 1,000 people)</th>\n",
       "      <th>Strength of legal rights index (0=weak to 12=strong)</th>\n",
       "      <th>Labor force, total</th>\n",
       "      <th>Life expectancy at birth, total (years)</th>\n",
       "      <th>Mobile cellular subscriptions (per 100 people)</th>\n",
       "      <th>Refugee population by country or territory of origin</th>\n",
       "      <th>Contributing family workers, total (% of total employment) (modeled ILO estimate)</th>\n",
       "      <th>Access to electricity (% of population)</th>\n",
       "      <th>Lower secondary completion rate, total (% of relevant age group)</th>\n",
       "    </tr>\n",
       "  </thead>\n",
       "  <tbody>\n",
       "    <tr>\n",
       "      <th>15105</th>\n",
       "      <td>Uzbekistan</td>\n",
       "      <td>2014</td>\n",
       "      <td>female</td>\n",
       "      <td>35-54 years</td>\n",
       "      <td>107</td>\n",
       "      <td>3620833</td>\n",
       "      <td>2.96</td>\n",
       "      <td>Uzbekistan2014</td>\n",
       "      <td>0.675</td>\n",
       "      <td>6.306708e+10</td>\n",
       "      <td>...</td>\n",
       "      <td>0.0</td>\n",
       "      <td>0.0</td>\n",
       "      <td>0.0</td>\n",
       "      <td>0</td>\n",
       "      <td>0.0</td>\n",
       "      <td>0.0</td>\n",
       "      <td>0.0</td>\n",
       "      <td>0.0</td>\n",
       "      <td>0.0</td>\n",
       "      <td>0.0</td>\n",
       "    </tr>\n",
       "    <tr>\n",
       "      <th>15106</th>\n",
       "      <td>Uzbekistan</td>\n",
       "      <td>2014</td>\n",
       "      <td>female</td>\n",
       "      <td>75+ years</td>\n",
       "      <td>9</td>\n",
       "      <td>348465</td>\n",
       "      <td>2.58</td>\n",
       "      <td>Uzbekistan2014</td>\n",
       "      <td>0.675</td>\n",
       "      <td>6.306708e+10</td>\n",
       "      <td>...</td>\n",
       "      <td>0.0</td>\n",
       "      <td>0.0</td>\n",
       "      <td>0.0</td>\n",
       "      <td>0</td>\n",
       "      <td>0.0</td>\n",
       "      <td>0.0</td>\n",
       "      <td>0.0</td>\n",
       "      <td>0.0</td>\n",
       "      <td>0.0</td>\n",
       "      <td>0.0</td>\n",
       "    </tr>\n",
       "    <tr>\n",
       "      <th>15107</th>\n",
       "      <td>Uzbekistan</td>\n",
       "      <td>2014</td>\n",
       "      <td>male</td>\n",
       "      <td>5-14 years</td>\n",
       "      <td>60</td>\n",
       "      <td>2762158</td>\n",
       "      <td>2.17</td>\n",
       "      <td>Uzbekistan2014</td>\n",
       "      <td>0.675</td>\n",
       "      <td>6.306708e+10</td>\n",
       "      <td>...</td>\n",
       "      <td>0.0</td>\n",
       "      <td>0.0</td>\n",
       "      <td>0.0</td>\n",
       "      <td>0</td>\n",
       "      <td>0.0</td>\n",
       "      <td>0.0</td>\n",
       "      <td>0.0</td>\n",
       "      <td>0.0</td>\n",
       "      <td>0.0</td>\n",
       "      <td>0.0</td>\n",
       "    </tr>\n",
       "    <tr>\n",
       "      <th>15108</th>\n",
       "      <td>Uzbekistan</td>\n",
       "      <td>2014</td>\n",
       "      <td>female</td>\n",
       "      <td>5-14 years</td>\n",
       "      <td>44</td>\n",
       "      <td>2631600</td>\n",
       "      <td>1.67</td>\n",
       "      <td>Uzbekistan2014</td>\n",
       "      <td>0.675</td>\n",
       "      <td>6.306708e+10</td>\n",
       "      <td>...</td>\n",
       "      <td>0.0</td>\n",
       "      <td>0.0</td>\n",
       "      <td>0.0</td>\n",
       "      <td>0</td>\n",
       "      <td>0.0</td>\n",
       "      <td>0.0</td>\n",
       "      <td>0.0</td>\n",
       "      <td>0.0</td>\n",
       "      <td>0.0</td>\n",
       "      <td>0.0</td>\n",
       "    </tr>\n",
       "    <tr>\n",
       "      <th>15109</th>\n",
       "      <td>Uzbekistan</td>\n",
       "      <td>2014</td>\n",
       "      <td>female</td>\n",
       "      <td>55-74 years</td>\n",
       "      <td>21</td>\n",
       "      <td>1438935</td>\n",
       "      <td>1.46</td>\n",
       "      <td>Uzbekistan2014</td>\n",
       "      <td>0.675</td>\n",
       "      <td>6.306708e+10</td>\n",
       "      <td>...</td>\n",
       "      <td>0.0</td>\n",
       "      <td>0.0</td>\n",
       "      <td>0.0</td>\n",
       "      <td>0</td>\n",
       "      <td>0.0</td>\n",
       "      <td>0.0</td>\n",
       "      <td>0.0</td>\n",
       "      <td>0.0</td>\n",
       "      <td>0.0</td>\n",
       "      <td>0.0</td>\n",
       "    </tr>\n",
       "  </tbody>\n",
       "</table>\n",
       "<p>5 rows × 26 columns</p>\n",
       "</div>"
      ],
      "text/plain": [
       "          country  year     sex          age  suicides_no  population  \\\n",
       "15105  Uzbekistan  2014  female  35-54 years          107     3620833   \n",
       "15106  Uzbekistan  2014  female    75+ years            9      348465   \n",
       "15107  Uzbekistan  2014    male   5-14 years           60     2762158   \n",
       "15108  Uzbekistan  2014  female   5-14 years           44     2631600   \n",
       "15109  Uzbekistan  2014  female  55-74 years           21     1438935   \n",
       "\n",
       "       suicidesper100k    country-year  yearlyHDI      GDPpyear  ...  \\\n",
       "15105             2.96  Uzbekistan2014      0.675  6.306708e+10  ...   \n",
       "15106             2.58  Uzbekistan2014      0.675  6.306708e+10  ...   \n",
       "15107             2.17  Uzbekistan2014      0.675  6.306708e+10  ...   \n",
       "15108             1.67  Uzbekistan2014      0.675  6.306708e+10  ...   \n",
       "15109             1.46  Uzbekistan2014      0.675  6.306708e+10  ...   \n",
       "\n",
       "       Unemployment, total (% of total labor force) (modeled ILO estimate)  \\\n",
       "15105                                                0.0                     \n",
       "15106                                                0.0                     \n",
       "15107                                                0.0                     \n",
       "15108                                                0.0                     \n",
       "15109                                                0.0                     \n",
       "\n",
       "      Physicians (per 1,000 people)  \\\n",
       "15105                           0.0   \n",
       "15106                           0.0   \n",
       "15107                           0.0   \n",
       "15108                           0.0   \n",
       "15109                           0.0   \n",
       "\n",
       "       Strength of legal rights index (0=weak to 12=strong)  \\\n",
       "15105                                                0.0      \n",
       "15106                                                0.0      \n",
       "15107                                                0.0      \n",
       "15108                                                0.0      \n",
       "15109                                                0.0      \n",
       "\n",
       "       Labor force, total  Life expectancy at birth, total (years)  \\\n",
       "15105                   0                                      0.0   \n",
       "15106                   0                                      0.0   \n",
       "15107                   0                                      0.0   \n",
       "15108                   0                                      0.0   \n",
       "15109                   0                                      0.0   \n",
       "\n",
       "       Mobile cellular subscriptions (per 100 people)  \\\n",
       "15105                                             0.0   \n",
       "15106                                             0.0   \n",
       "15107                                             0.0   \n",
       "15108                                             0.0   \n",
       "15109                                             0.0   \n",
       "\n",
       "       Refugee population by country or territory of origin  \\\n",
       "15105                                                0.0      \n",
       "15106                                                0.0      \n",
       "15107                                                0.0      \n",
       "15108                                                0.0      \n",
       "15109                                                0.0      \n",
       "\n",
       "       Contributing family workers, total (% of total employment) (modeled ILO estimate)  \\\n",
       "15105                                                0.0                                   \n",
       "15106                                                0.0                                   \n",
       "15107                                                0.0                                   \n",
       "15108                                                0.0                                   \n",
       "15109                                                0.0                                   \n",
       "\n",
       "       Access to electricity (% of population)  \\\n",
       "15105                                      0.0   \n",
       "15106                                      0.0   \n",
       "15107                                      0.0   \n",
       "15108                                      0.0   \n",
       "15109                                      0.0   \n",
       "\n",
       "       Lower secondary completion rate, total (% of relevant age group)  \n",
       "15105                                                0.0                 \n",
       "15106                                                0.0                 \n",
       "15107                                                0.0                 \n",
       "15108                                                0.0                 \n",
       "15109                                                0.0                 \n",
       "\n",
       "[5 rows x 26 columns]"
      ]
     },
     "execution_count": 12,
     "metadata": {},
     "output_type": "execute_result"
    }
   ],
   "source": [
    "url = '../data/suicide_moredata.csv'\n",
    "\n",
    "second_data = pd.read_csv(url)\n",
    "second_data.tail()\n"
   ]
  },
  {
   "cell_type": "code",
   "execution_count": 13,
   "metadata": {
    "colab": {
     "base_uri": "https://localhost:8080/"
    },
    "id": "77e1fdd5",
    "outputId": "752e5af2-ef14-4b15-8d7a-6fde92a448c6",
    "scrolled": false
   },
   "outputs": [
    {
     "name": "stdout",
     "output_type": "stream",
     "text": [
      "<class 'pandas.core.frame.DataFrame'>\n",
      "RangeIndex: 15110 entries, 0 to 15109\n",
      "Data columns (total 26 columns):\n",
      " #   Column                                                                             Non-Null Count  Dtype  \n",
      "---  ------                                                                             --------------  -----  \n",
      " 0   country                                                                            15110 non-null  object \n",
      " 1   year                                                                               15110 non-null  int64  \n",
      " 2   sex                                                                                15110 non-null  object \n",
      " 3   age                                                                                15110 non-null  object \n",
      " 4   suicides_no                                                                        15110 non-null  int64  \n",
      " 5   population                                                                         15110 non-null  int64  \n",
      " 6   suicidesper100k                                                                    15110 non-null  float64\n",
      " 7   country-year                                                                       15110 non-null  object \n",
      " 8   yearlyHDI                                                                          4740 non-null   float64\n",
      " 9   GDPpyear                                                                           15110 non-null  float64\n",
      " 10  GDPpcapital                                                                        15110 non-null  int64  \n",
      " 11  generation                                                                         15110 non-null  object \n",
      " 12  suicide%                                                                           15110 non-null  float64\n",
      " 13  Individuals using the Internet (% of population)                                   15002 non-null  float64\n",
      " 14  Expense (% of GDP)                                                                 13634 non-null  float64\n",
      " 15  Compensation of employees (% of expense)                                           13538 non-null  float64\n",
      " 16  Unemployment, total (% of total labor force) (modeled ILO estimate)                15110 non-null  float64\n",
      " 17  Physicians (per 1,000 people)                                                      12782 non-null  float64\n",
      " 18  Strength of legal rights index (0=weak to 12=strong)                               5618 non-null   float64\n",
      " 19  Labor force, total                                                                 15110 non-null  int64  \n",
      " 20  Life expectancy at birth, total (years)                                            15110 non-null  float64\n",
      " 21  Mobile cellular subscriptions (per 100 people)                                     15110 non-null  float64\n",
      " 22  Refugee population by country or territory of origin                               14978 non-null  float64\n",
      " 23  Contributing family workers, total (% of total employment) (modeled ILO estimate)  15110 non-null  float64\n",
      " 24  Access to electricity (% of population)                                            14642 non-null  float64\n",
      " 25  Lower secondary completion rate, total (% of relevant age group)                   9542 non-null   float64\n",
      "dtypes: float64(16), int64(5), object(5)\n",
      "memory usage: 3.0+ MB\n"
     ]
    }
   ],
   "source": [
    "second_data.info()"
   ]
  },
  {
   "cell_type": "code",
   "execution_count": 14,
   "metadata": {
    "id": "be6cdf85"
   },
   "outputs": [],
   "source": [
    "second_data.columns = ['country', 'year', 'sex', 'age', 'suicides_no', 'population','suicidesper100k', 'country-year', 'yearlyHDI',\n",
    "    'GDPpyear', 'GDPpcapita', 'generation', 'suicide%', 'Internetusers', 'Expenses', 'employeecompensation','Unemployment', 'Physiciansp1000', 'Legalrights', 'Laborforcetotal','Lifeexpectancy', 'Mobilesubscriptionsp100','Refugees', 'Selfemployed', 'electricityacess', 'secondarycompletion']"
   ]
  },
  {
   "cell_type": "code",
   "execution_count": 15,
   "metadata": {
    "colab": {
     "base_uri": "https://localhost:8080/"
    },
    "id": "52cb77d8",
    "outputId": "1a5b9a74-d983-4faa-ef6e-13364ed3021d",
    "scrolled": true
   },
   "outputs": [
    {
     "data": {
      "text/plain": [
       "array([1985, 1986, 1987, 1988, 1989, 1990, 1991, 1992, 1993, 1994, 1995,\n",
       "       1996, 1997, 1998, 1999, 2000, 2001, 2002, 2003, 2004, 2005, 2006,\n",
       "       2007, 2008, 2009, 2010, 2011, 2012, 2013, 2014, 2015, 2016])"
      ]
     },
     "execution_count": 15,
     "metadata": {},
     "output_type": "execute_result"
    }
   ],
   "source": [
    "df.year.unique()"
   ]
  },
  {
   "cell_type": "code",
   "execution_count": 16,
   "metadata": {
    "colab": {
     "base_uri": "https://localhost:8080/"
    },
    "id": "c877d0c3",
    "outputId": "91e0d6c8-8918-4c2b-906e-07a1df1ae581"
   },
   "outputs": [
    {
     "data": {
      "text/plain": [
       "array([1985, 1986, 1987, 1988, 1989, 1990, 1991, 1992, 1993, 1994, 1995,\n",
       "       1996, 1997, 1998, 1999, 2000, 2001, 2002, 2003, 2004, 2005, 2006,\n",
       "       2007, 2008, 2009, 2010, 2011, 2012, 2013, 2014, 2015, 2016])"
      ]
     },
     "execution_count": 16,
     "metadata": {},
     "output_type": "execute_result"
    }
   ],
   "source": [
    "second_data.year.unique()"
   ]
  },
  {
   "cell_type": "code",
   "execution_count": 17,
   "metadata": {
    "colab": {
     "base_uri": "https://localhost:8080/"
    },
    "id": "3471f364",
    "outputId": "7cf25ad6-971b-419c-a4d7-be2d8b7411ee"
   },
   "outputs": [
    {
     "name": "stdout",
     "output_type": "stream",
     "text": [
      "<class 'pandas.core.frame.DataFrame'>\n",
      "RangeIndex: 15110 entries, 0 to 15109\n",
      "Data columns (total 26 columns):\n",
      " #   Column                   Non-Null Count  Dtype  \n",
      "---  ------                   --------------  -----  \n",
      " 0   country                  15110 non-null  object \n",
      " 1   year                     15110 non-null  int64  \n",
      " 2   sex                      15110 non-null  object \n",
      " 3   age                      15110 non-null  object \n",
      " 4   suicides                 15110 non-null  int64  \n",
      " 5   population               15110 non-null  int64  \n",
      " 6   sucid_in_hundredk        15110 non-null  float64\n",
      " 7   country-year             15110 non-null  object \n",
      " 8   yearly_hdi               4740 non-null   float64\n",
      " 9   yearly_gdp               15110 non-null  float64\n",
      " 10  gdp_per_capita           15110 non-null  int64  \n",
      " 11  generation               15110 non-null  object \n",
      " 12  suicide%                 15110 non-null  float64\n",
      " 13  Internetusers            15002 non-null  float64\n",
      " 14  Expenses                 13634 non-null  float64\n",
      " 15  employeecompensation     13538 non-null  float64\n",
      " 16  Unemployment             15110 non-null  float64\n",
      " 17  Physiciansp1000          12782 non-null  float64\n",
      " 18  Legalrights              5618 non-null   float64\n",
      " 19  Laborforcetotal          15110 non-null  int64  \n",
      " 20  Lifeexpectancy           15110 non-null  float64\n",
      " 21  Mobilesubscriptionsp100  15110 non-null  float64\n",
      " 22  Refugees                 14978 non-null  float64\n",
      " 23  Selfemployed             15110 non-null  float64\n",
      " 24  electricityacess         14642 non-null  float64\n",
      " 25  secondarycompletion      9542 non-null   float64\n",
      "dtypes: float64(16), int64(5), object(5)\n",
      "memory usage: 3.0+ MB\n"
     ]
    }
   ],
   "source": [
    "second_data.rename( {'GDPpyear':'yearly_gdp' } , axis=1 , inplace = True)\n",
    "second_data.rename( {'GDPpcapita':'gdp_per_capita' } , axis=1 , inplace = True)\n",
    "second_data.rename( {'yearlyHDI':'yearly_hdi' } , axis=1 , inplace = True)\n",
    "second_data.rename( {'suicidesper100k':'sucid_in_hundredk' } , axis=1 , inplace = True)\n",
    "second_data.rename( {'suicides_no':'suicides' } , axis=1 , inplace = True)\n",
    "second_data.info()"
   ]
  },
  {
   "cell_type": "code",
   "execution_count": 18,
   "metadata": {
    "id": "f72d30ea"
   },
   "outputs": [],
   "source": [
    "second_data.columns = map(str.lower, second_data.columns)"
   ]
  },
  {
   "cell_type": "code",
   "execution_count": 19,
   "metadata": {
    "id": "180b6511"
   },
   "outputs": [],
   "source": [
    "# remove special character\n",
    "second_data.columns = second_data.columns.str.replace(' ', '')"
   ]
  },
  {
   "cell_type": "code",
   "execution_count": 20,
   "metadata": {
    "colab": {
     "base_uri": "https://localhost:8080/"
    },
    "id": "f7d5a81e",
    "outputId": "cf98acd0-afe1-43e2-f747-85dcc4ad01b8",
    "scrolled": true
   },
   "outputs": [
    {
     "name": "stdout",
     "output_type": "stream",
     "text": [
      "<class 'pandas.core.frame.DataFrame'>\n",
      "Int64Index: 26392 entries, 0 to 26391\n",
      "Data columns (total 14 columns):\n",
      " #   Column             Non-Null Count  Dtype  \n",
      "---  ------             --------------  -----  \n",
      " 0   country            26392 non-null  object \n",
      " 1   year               26392 non-null  int64  \n",
      " 2   sex                26392 non-null  object \n",
      " 3   age                26392 non-null  object \n",
      " 4   suicides           26392 non-null  int64  \n",
      " 5   population         26392 non-null  int64  \n",
      " 6   sucid_in_hundredk  26392 non-null  float64\n",
      " 7   country-year       26392 non-null  object \n",
      " 8   yearly_hdi         8040 non-null   float64\n",
      " 9   yearly_gdp         26392 non-null  float64\n",
      " 10  gdp_per_capita     26392 non-null  int64  \n",
      " 11  generation         26392 non-null  object \n",
      " 12  continent          26392 non-null  object \n",
      " 13  country_code       26392 non-null  object \n",
      "dtypes: float64(3), int64(4), object(7)\n",
      "memory usage: 3.0+ MB\n"
     ]
    }
   ],
   "source": [
    "final.info()"
   ]
  },
  {
   "cell_type": "code",
   "execution_count": 21,
   "metadata": {
    "colab": {
     "base_uri": "https://localhost:8080/"
    },
    "id": "6cbf452a",
    "outputId": "b5d97341-9367-4709-8251-e0fb9ce66795",
    "scrolled": true
   },
   "outputs": [
    {
     "name": "stdout",
     "output_type": "stream",
     "text": [
      "United Kingdom is not found !\n",
      "United States is not found !\n"
     ]
    }
   ],
   "source": [
    "\n",
    "            \n",
    "    \n",
    "find_mismatch(second_data.country, df_cont.country, True)"
   ]
  },
  {
   "cell_type": "code",
   "execution_count": 22,
   "metadata": {
    "colab": {
     "base_uri": "https://localhost:8080/"
    },
    "id": "8d564fd7",
    "outputId": "8ac959ed-fdba-4047-bbc4-bd075fd99099",
    "scrolled": true
   },
   "outputs": [
    {
     "name": "stdout",
     "output_type": "stream",
     "text": [
      "<class 'pandas.core.frame.DataFrame'>\n",
      "Int64Index: 4808012 entries, 0 to 4808011\n",
      "Data columns (total 28 columns):\n",
      " #   Column                   Dtype  \n",
      "---  ------                   -----  \n",
      " 0   country                  object \n",
      " 1   year                     int64  \n",
      " 2   sex                      object \n",
      " 3   age                      object \n",
      " 4   suicides                 int64  \n",
      " 5   population               int64  \n",
      " 6   sucid_in_hundredk        float64\n",
      " 7   country-year             object \n",
      " 8   yearly_hdi               float64\n",
      " 9   yearly_gdp               float64\n",
      " 10  gdp_per_capita           int64  \n",
      " 11  generation               object \n",
      " 12  suicide%                 float64\n",
      " 13  internetusers            float64\n",
      " 14  expenses                 float64\n",
      " 15  employeecompensation     float64\n",
      " 16  unemployment             float64\n",
      " 17  physiciansp1000          float64\n",
      " 18  legalrights              float64\n",
      " 19  laborforcetotal          int64  \n",
      " 20  lifeexpectancy           float64\n",
      " 21  mobilesubscriptionsp100  float64\n",
      " 22  refugees                 float64\n",
      " 23  selfemployed             float64\n",
      " 24  electricityacess         float64\n",
      " 25  secondarycompletion      float64\n",
      " 26  continent                object \n",
      " 27  country_code             object \n",
      "dtypes: float64(16), int64(5), object(7)\n",
      "memory usage: 1.0+ GB\n"
     ]
    }
   ],
   "source": [
    "second_data = second_data.merge(final[['country', 'continent', 'country_code']])\n",
    "second_data.info()"
   ]
  },
  {
   "cell_type": "code",
   "execution_count": 23,
   "metadata": {
    "colab": {
     "base_uri": "https://localhost:8080/"
    },
    "id": "9b8705d0",
    "outputId": "a4f419ec-f7de-4808-d26d-1236f09b73da"
   },
   "outputs": [
    {
     "name": "stdout",
     "output_type": "stream",
     "text": [
      "<class 'pandas.core.frame.DataFrame'>\n",
      "Int64Index: 4808012 entries, 0 to 4808011\n",
      "Data columns (total 28 columns):\n",
      " #   Column                Dtype  \n",
      "---  ------                -----  \n",
      " 0   country               object \n",
      " 1   year                  int64  \n",
      " 2   sex                   object \n",
      " 3   age                   object \n",
      " 4   suicides              int64  \n",
      " 5   population            int64  \n",
      " 6   sucid_in_hundredk     float64\n",
      " 7   country-year          object \n",
      " 8   yearly_hdi            float64\n",
      " 9   yearly_gdp            float64\n",
      " 10  gdp_per_capita        int64  \n",
      " 11  generation            object \n",
      " 12  suicide%              float64\n",
      " 13  internetusers         float64\n",
      " 14  expenses              float64\n",
      " 15  employeecompensation  float64\n",
      " 16  unemployment          float64\n",
      " 17  physician_price       float64\n",
      " 18  legalrights           float64\n",
      " 19  laborforcetotal       int64  \n",
      " 20  lifeexpectancy        float64\n",
      " 21  mobilesubscriptions   float64\n",
      " 22  refugees              float64\n",
      " 23  selfemployed          float64\n",
      " 24  electricityacess      float64\n",
      " 25  secondarycompletion   float64\n",
      " 26  continent             object \n",
      " 27  country_code          object \n",
      "dtypes: float64(16), int64(5), object(7)\n",
      "memory usage: 1.0+ GB\n"
     ]
    }
   ],
   "source": [
    "second_data.rename( {'code_3':'country_code' } , axis=1 , inplace = True)\n",
    "second_data.rename( {'physiciansp1000':'physician_price' } , axis=1 , inplace = True)\n",
    "second_data.rename( {'mobilesubscriptionsp100':'mobilesubscriptions' } , axis=1 , inplace = True)\n",
    "second_data.info()"
   ]
  },
  {
   "cell_type": "code",
   "execution_count": 24,
   "metadata": {
    "colab": {
     "base_uri": "https://localhost:8080/"
    },
    "id": "c4010503",
    "outputId": "061d9be0-595b-4700-86c0-c80925fab5c5"
   },
   "outputs": [
    {
     "data": {
      "text/plain": [
       "Index(['country', 'year', 'sex', 'age', 'suicides', 'population',\n",
       "       'sucid_in_hundredk', 'country-year', 'yearly_hdi', 'yearly_gdp',\n",
       "       'gdp_per_capita', 'generation', 'suicide%', 'internetusers', 'expenses',\n",
       "       'employeecompensation', 'unemployment', 'physician_price',\n",
       "       'legalrights', 'laborforcetotal', 'lifeexpectancy',\n",
       "       'mobilesubscriptions', 'refugees', 'selfemployed', 'electricityacess',\n",
       "       'secondarycompletion', 'continent', 'country_code'],\n",
       "      dtype='object')"
      ]
     },
     "execution_count": 24,
     "metadata": {},
     "output_type": "execute_result"
    }
   ],
   "source": [
    "second_data.columns"
   ]
  },
  {
   "cell_type": "code",
   "execution_count": 25,
   "metadata": {
    "colab": {
     "base_uri": "https://localhost:8080/"
    },
    "id": "2cb0cd00",
    "outputId": "0a4b8f73-c25d-4610-fd2d-d99e0fcb4dbd",
    "scrolled": true
   },
   "outputs": [
    {
     "data": {
      "text/plain": [
       "(4808012, 28)"
      ]
     },
     "execution_count": 25,
     "metadata": {},
     "output_type": "execute_result"
    }
   ],
   "source": [
    "second_data.shape"
   ]
  },
  {
   "cell_type": "code",
   "execution_count": 26,
   "metadata": {
    "colab": {
     "base_uri": "https://localhost:8080/"
    },
    "id": "aca12358",
    "outputId": "982b3e26-137b-4d8e-e7a9-48330c73bc3d"
   },
   "outputs": [
    {
     "data": {
      "text/plain": [
       "(27820, 12)"
      ]
     },
     "execution_count": 26,
     "metadata": {},
     "output_type": "execute_result"
    }
   ],
   "source": [
    "df.shape"
   ]
  },
  {
   "cell_type": "code",
   "execution_count": 27,
   "metadata": {
    "id": "26adcf42"
   },
   "outputs": [],
   "source": [
    "#good sample of the different regions.\n",
    "\n",
    "countrynames = ['Argentina','Armenia','Australia',    'Austria',\n",
    "    'Belgium',    'Brazil',    'Bulgaria',    'Canada',    'Chile',    'Colombia',    'Croatia',    'Cuba',    'Czech Republic',    'Denmark',\n",
    "    'Finland',    'France',    'Germany',    'Greece',    'Hungary',    'Iceland',   'Ireland', 'Israel','Italy','Japan','Mexico', 'Netherlands','New Zealand','Norway','Poland', 'Portugal','Romania','Russian Federation','South Africa', 'Spain','Sweden', 'Switzerland','Thailand', 'Turkmenistan','Ukraine','United Kingdom', 'United States']\n",
    "\n",
    "# countrynames"
   ]
  },
  {
   "cell_type": "code",
   "execution_count": null,
   "metadata": {
    "colab": {
     "base_uri": "https://localhost:8080/",
     "height": 112
    },
    "id": "7352d8f7",
    "outputId": "48a64f1b-5d06-40b1-c85f-d96d44f8d027"
   },
   "outputs": [],
   "source": []
  },
  {
   "cell_type": "code",
   "execution_count": null,
   "metadata": {
    "colab": {
     "base_uri": "https://localhost:8080/",
     "height": 112
    },
    "id": "27d41aac",
    "outputId": "c64e13ee-3a01-4933-8a4b-fa7b51ea6e06"
   },
   "outputs": [],
   "source": []
  },
  {
   "cell_type": "code",
   "execution_count": null,
   "metadata": {
    "colab": {
     "base_uri": "https://localhost:8080/",
     "height": 306
    },
    "id": "K2_NSzYx2jO7",
    "outputId": "f20c731d-edfa-4191-d15b-8b9bc7ee8063"
   },
   "outputs": [],
   "source": []
  },
  {
   "cell_type": "code",
   "execution_count": null,
   "metadata": {
    "colab": {
     "base_uri": "https://localhost:8080/",
     "height": 306
    },
    "id": "KF1nmiUQOcJx",
    "outputId": "22f17fef-33da-4c1f-f9c1-fb49573f9df3"
   },
   "outputs": [],
   "source": []
  },
  {
   "cell_type": "markdown",
   "metadata": {
    "id": "Z9D-1IkJOafb"
   },
   "source": []
  },
  {
   "cell_type": "code",
   "execution_count": null,
   "metadata": {
    "colab": {
     "base_uri": "https://localhost:8080/",
     "height": 143
    },
    "id": "e79fdc78",
    "outputId": "fe60b35f-c449-4b40-99b7-95b5db96bd10"
   },
   "outputs": [],
   "source": []
  },
  {
   "cell_type": "markdown",
   "metadata": {
    "id": "7b2b0244"
   },
   "source": [
    "### Collapsing categories with string matching"
   ]
  },
  {
   "cell_type": "code",
   "execution_count": 28,
   "metadata": {
    "colab": {
     "base_uri": "https://localhost:8080/"
    },
    "id": "eec5af1f",
    "outputId": "6c201f12-74f1-4b58-c8ea-7ea3767f9871"
   },
   "outputs": [
    {
     "name": "stdout",
     "output_type": "stream",
     "text": [
      "['Argentina' 'Armenia' 'Australia' 'Austria' 'Azerbaijan' 'Belgium'\n",
      " 'Brazil' 'Bulgaria' 'Canada' 'Chile' 'Colombia' 'Croatia' 'Cuba'\n",
      " 'Czech Republic' 'Denmark' 'Finland' 'France' 'Georgia' 'Germany'\n",
      " 'Greece' 'Hungary' 'Iceland' 'Ireland' 'Israel' 'Italy' 'Jamaica' 'Japan'\n",
      " 'Mexico' 'Mongolia' 'Netherlands' 'New Zealand' 'Norway' 'Poland'\n",
      " 'Portugal' 'Romania' 'Russian Federation' 'South Africa' 'Spain' 'Sweden'\n",
      " 'Switzerland' 'Thailand' 'Turkey' 'Turkmenistan' 'Ukraine'\n",
      " 'United Arab Emirates' 'Uzbekistan']\n"
     ]
    }
   ],
   "source": [
    "countries_2 = second_data['country'].unique()\n",
    "print(countries_2)"
   ]
  },
  {
   "cell_type": "code",
   "execution_count": 29,
   "metadata": {
    "colab": {
     "base_uri": "https://localhost:8080/"
    },
    "id": "83b88497",
    "outputId": "99f2ecb1-33c1-475e-b72f-8678a8c657d8"
   },
   "outputs": [
    {
     "name": "stdout",
     "output_type": "stream",
     "text": [
      "['Antigua and Barbuda' 'Argentina' 'Australia' 'Austria' 'Bahamas'\n",
      " 'Bahrain' 'Barbados' 'Belgium' 'Brazil' 'Bulgaria' 'Canada' 'Chile'\n",
      " 'Colombia' 'Costa Rica' 'Dominica' 'Ecuador' 'France' 'Greece' 'Grenada'\n",
      " 'Iceland' 'Ireland' 'Israel' 'Italy' 'Jamaica' 'Japan' 'Kuwait'\n",
      " 'Luxembourg' 'Malta' 'Mauritius' 'Mexico' 'Netherlands' 'New Zealand'\n",
      " 'Panama' 'Paraguay' 'Portugal' 'Puerto Rico' 'Republic of Korea'\n",
      " 'Saint Vincent and Grenadines' 'Seychelles' 'Singapore' 'Spain'\n",
      " 'Sri Lanka' 'Suriname' 'Thailand' 'Trinidad and Tobago' 'United Kingdom'\n",
      " 'United States' 'Uruguay' 'Belize' 'Guatemala' 'Norway' 'Saint Lucia'\n",
      " 'Albania' 'Finland' 'Sweden' 'Turkmenistan' 'Ukraine' 'Guyana' 'Romania'\n",
      " 'Russian Federation' 'Armenia' 'Azerbaijan' 'Belarus' 'Czech Republic'\n",
      " 'El Salvador' 'Georgia' 'Germany' 'Kazakhstan' 'Kyrgyzstan' 'Poland'\n",
      " 'Saint Kitts and Nevis' 'Uzbekistan' 'Hungary' 'Kiribati' 'Cuba'\n",
      " 'Philippines' 'Slovakia' 'Denmark' 'Macau' 'Aruba' 'Croatia' 'Estonia'\n",
      " 'Latvia' 'Lithuania' 'Qatar' 'Slovenia' 'Switzerland' 'South Africa'\n",
      " 'Serbia' 'Cyprus' 'San Marino' 'Maldives' 'Montenegro' 'Fiji'\n",
      " 'United Arab Emirates' 'Oman' 'Turkey' 'Nicaragua'\n",
      " 'Bosnia and Herzegovina' 'Cabo Verde' 'Mongolia']\n"
     ]
    }
   ],
   "source": [
    "countries = df['country'].unique()\n",
    "print(countries)"
   ]
  },
  {
   "cell_type": "code",
   "execution_count": 30,
   "metadata": {
    "id": "2962957e",
    "scrolled": true
   },
   "outputs": [],
   "source": [
    "df1 = second_data.copy()\n",
    "final = df1.iloc[np.where(df1.country == countrynames[0])]\n",
    "for i, x in enumerate(countrynames[1:]):\n",
    "    final = final.append(df1.iloc[np.where(df1.country == x)])\n",
    "    \n",
    "# df.head()"
   ]
  },
  {
   "cell_type": "code",
   "execution_count": 31,
   "metadata": {
    "colab": {
     "base_uri": "https://localhost:8080/"
    },
    "id": "4dd42ad1",
    "outputId": "b6ed30bd-f538-42e2-ec7e-c279c2efa786"
   },
   "outputs": [
    {
     "data": {
      "text/plain": [
       "(4577800, 28)"
      ]
     },
     "execution_count": 31,
     "metadata": {},
     "output_type": "execute_result"
    }
   ],
   "source": [
    "final.shape"
   ]
  },
  {
   "cell_type": "code",
   "execution_count": 32,
   "metadata": {
    "id": "18b0c94a"
   },
   "outputs": [],
   "source": [
    "final = final[final.year >= 1985]\n",
    "final = final[final.year <= 2016]"
   ]
  },
  {
   "cell_type": "code",
   "execution_count": 33,
   "metadata": {
    "id": "0c452d98"
   },
   "outputs": [],
   "source": [
    "final['country'] = final['country'].astype('category')\n",
    "final['continent'] = final['continent'].astype('category')\n",
    "final['sex'] = final['sex'].astype('category')\n",
    "final['generation'] = final['generation'].astype('category')\n",
    "final['age'] = final['age'].astype('category')"
   ]
  },
  {
   "cell_type": "code",
   "execution_count": 34,
   "metadata": {
    "colab": {
     "base_uri": "https://localhost:8080/",
     "height": 306
    },
    "id": "30c35008",
    "outputId": "e30cdb67-7fba-4c2a-9b78-b1517f57eca7"
   },
   "outputs": [
    {
     "data": {
      "text/html": [
       "<div>\n",
       "<style scoped>\n",
       "    .dataframe tbody tr th:only-of-type {\n",
       "        vertical-align: middle;\n",
       "    }\n",
       "\n",
       "    .dataframe tbody tr th {\n",
       "        vertical-align: top;\n",
       "    }\n",
       "\n",
       "    .dataframe thead th {\n",
       "        text-align: right;\n",
       "    }\n",
       "</style>\n",
       "<table border=\"1\" class=\"dataframe\">\n",
       "  <thead>\n",
       "    <tr style=\"text-align: right;\">\n",
       "      <th></th>\n",
       "      <th>country</th>\n",
       "      <th>year</th>\n",
       "      <th>sex</th>\n",
       "      <th>age</th>\n",
       "      <th>suicides</th>\n",
       "      <th>population</th>\n",
       "      <th>sucid_in_hundredk</th>\n",
       "      <th>country-year</th>\n",
       "      <th>yearly_hdi</th>\n",
       "      <th>yearly_gdp</th>\n",
       "      <th>...</th>\n",
       "      <th>legalrights</th>\n",
       "      <th>laborforcetotal</th>\n",
       "      <th>lifeexpectancy</th>\n",
       "      <th>mobilesubscriptions</th>\n",
       "      <th>refugees</th>\n",
       "      <th>selfemployed</th>\n",
       "      <th>electricityacess</th>\n",
       "      <th>secondarycompletion</th>\n",
       "      <th>continent</th>\n",
       "      <th>country_code</th>\n",
       "    </tr>\n",
       "  </thead>\n",
       "  <tbody>\n",
       "    <tr>\n",
       "      <th>0</th>\n",
       "      <td>Argentina</td>\n",
       "      <td>1985</td>\n",
       "      <td>male</td>\n",
       "      <td>75+ years</td>\n",
       "      <td>202</td>\n",
       "      <td>363000</td>\n",
       "      <td>55.65</td>\n",
       "      <td>Argentina1985</td>\n",
       "      <td>0.694</td>\n",
       "      <td>8.841667e+10</td>\n",
       "      <td>...</td>\n",
       "      <td>0.0</td>\n",
       "      <td>0</td>\n",
       "      <td>0.0</td>\n",
       "      <td>0.0</td>\n",
       "      <td>0.0</td>\n",
       "      <td>0.0</td>\n",
       "      <td>0.0</td>\n",
       "      <td>0.0</td>\n",
       "      <td>Americas</td>\n",
       "      <td>ARG</td>\n",
       "    </tr>\n",
       "    <tr>\n",
       "      <th>1</th>\n",
       "      <td>Argentina</td>\n",
       "      <td>1985</td>\n",
       "      <td>male</td>\n",
       "      <td>75+ years</td>\n",
       "      <td>202</td>\n",
       "      <td>363000</td>\n",
       "      <td>55.65</td>\n",
       "      <td>Argentina1985</td>\n",
       "      <td>0.694</td>\n",
       "      <td>8.841667e+10</td>\n",
       "      <td>...</td>\n",
       "      <td>0.0</td>\n",
       "      <td>0</td>\n",
       "      <td>0.0</td>\n",
       "      <td>0.0</td>\n",
       "      <td>0.0</td>\n",
       "      <td>0.0</td>\n",
       "      <td>0.0</td>\n",
       "      <td>0.0</td>\n",
       "      <td>Americas</td>\n",
       "      <td>ARG</td>\n",
       "    </tr>\n",
       "  </tbody>\n",
       "</table>\n",
       "<p>2 rows × 28 columns</p>\n",
       "</div>"
      ],
      "text/plain": [
       "     country  year   sex        age  suicides  population  sucid_in_hundredk  \\\n",
       "0  Argentina  1985  male  75+ years       202      363000              55.65   \n",
       "1  Argentina  1985  male  75+ years       202      363000              55.65   \n",
       "\n",
       "    country-year  yearly_hdi    yearly_gdp  ...  legalrights laborforcetotal  \\\n",
       "0  Argentina1985       0.694  8.841667e+10  ...          0.0               0   \n",
       "1  Argentina1985       0.694  8.841667e+10  ...          0.0               0   \n",
       "\n",
       "   lifeexpectancy  mobilesubscriptions  refugees  selfemployed  \\\n",
       "0             0.0                  0.0       0.0           0.0   \n",
       "1             0.0                  0.0       0.0           0.0   \n",
       "\n",
       "   electricityacess  secondarycompletion  continent  country_code  \n",
       "0               0.0                  0.0   Americas           ARG  \n",
       "1               0.0                  0.0   Americas           ARG  \n",
       "\n",
       "[2 rows x 28 columns]"
      ]
     },
     "execution_count": 34,
     "metadata": {},
     "output_type": "execute_result"
    }
   ],
   "source": [
    "final.head(2)"
   ]
  },
  {
   "cell_type": "code",
   "execution_count": 35,
   "metadata": {
    "id": "84cb2f04"
   },
   "outputs": [],
   "source": [
    "df.rename( {'suicides_no':'suicides' } , axis=1 , inplace = True)"
   ]
  },
  {
   "cell_type": "markdown",
   "metadata": {
    "id": "86743f90"
   },
   "source": [
    "### Missingness Data"
   ]
  },
  {
   "cell_type": "code",
   "execution_count": 36,
   "metadata": {
    "colab": {
     "base_uri": "https://localhost:8080/"
    },
    "id": "db8abcc9",
    "outputId": "13af7b97-6fe8-4fb2-bc08-04c969d1c3c3"
   },
   "outputs": [
    {
     "data": {
      "text/plain": [
       "country                       0\n",
       "year                          0\n",
       "sex                           0\n",
       "age                           0\n",
       "suicides                      0\n",
       "population                    0\n",
       "sucid_in_hundredk             0\n",
       "country-year                  0\n",
       "yearly_hdi              3150064\n",
       "yearly_gdp                    0\n",
       "gdp_per_capita                0\n",
       "generation                    0\n",
       "suicide%                      0\n",
       "internetusers             29664\n",
       "expenses                 389880\n",
       "employeecompensation     406296\n",
       "unemployment                  0\n",
       "physician_price          707784\n",
       "legalrights             2838312\n",
       "laborforcetotal               0\n",
       "lifeexpectancy                0\n",
       "mobilesubscriptions           0\n",
       "refugees                  47040\n",
       "selfemployed                  0\n",
       "electricityacess         102864\n",
       "secondarycompletion     1696200\n",
       "continent                     0\n",
       "country_code                  0\n",
       "dtype: int64"
      ]
     },
     "execution_count": 36,
     "metadata": {},
     "output_type": "execute_result"
    }
   ],
   "source": [
    "# Get summary of missingness\n",
    "final.isna().sum()"
   ]
  },
  {
   "cell_type": "code",
   "execution_count": 37,
   "metadata": {
    "colab": {
     "base_uri": "https://localhost:8080/",
     "height": 718
    },
    "id": "67011aa7",
    "outputId": "f3816494-948c-411a-969e-0a45c61a246e"
   },
   "outputs": [],
   "source": [
    "# Useful package for visualizing and understanding missing data\n",
    "# import missingno as msno\n",
    "import matplotlib.pyplot as plt\n",
    "\n",
    "# Visualize missingness\n",
    "# msno.matrix(final)\n",
    "# plt.show()"
   ]
  },
  {
   "cell_type": "code",
   "execution_count": 38,
   "metadata": {
    "id": "4b41cf3a"
   },
   "outputs": [],
   "source": [
    "# Isolate missing and complete values aside\n",
    "missing_hdi = final[final['yearly_hdi'].isna()]\n",
    "complete_hdi = final[~final['yearly_hdi'].isna()]\n"
   ]
  },
  {
   "cell_type": "code",
   "execution_count": 39,
   "metadata": {
    "colab": {
     "base_uri": "https://localhost:8080/",
     "height": 394
    },
    "id": "3186e390",
    "outputId": "71a7d370-dabb-40b5-f389-08632fbfe188"
   },
   "outputs": [
    {
     "data": {
      "text/html": [
       "<div>\n",
       "<style scoped>\n",
       "    .dataframe tbody tr th:only-of-type {\n",
       "        vertical-align: middle;\n",
       "    }\n",
       "\n",
       "    .dataframe tbody tr th {\n",
       "        vertical-align: top;\n",
       "    }\n",
       "\n",
       "    .dataframe thead th {\n",
       "        text-align: right;\n",
       "    }\n",
       "</style>\n",
       "<table border=\"1\" class=\"dataframe\">\n",
       "  <thead>\n",
       "    <tr style=\"text-align: right;\">\n",
       "      <th></th>\n",
       "      <th>year</th>\n",
       "      <th>suicides</th>\n",
       "      <th>population</th>\n",
       "      <th>sucid_in_hundredk</th>\n",
       "      <th>yearly_hdi</th>\n",
       "      <th>yearly_gdp</th>\n",
       "      <th>gdp_per_capita</th>\n",
       "      <th>suicide%</th>\n",
       "      <th>internetusers</th>\n",
       "      <th>expenses</th>\n",
       "      <th>...</th>\n",
       "      <th>unemployment</th>\n",
       "      <th>physician_price</th>\n",
       "      <th>legalrights</th>\n",
       "      <th>laborforcetotal</th>\n",
       "      <th>lifeexpectancy</th>\n",
       "      <th>mobilesubscriptions</th>\n",
       "      <th>refugees</th>\n",
       "      <th>selfemployed</th>\n",
       "      <th>electricityacess</th>\n",
       "      <th>secondarycompletion</th>\n",
       "    </tr>\n",
       "  </thead>\n",
       "  <tbody>\n",
       "    <tr>\n",
       "      <th>count</th>\n",
       "      <td>3.150064e+06</td>\n",
       "      <td>3.150064e+06</td>\n",
       "      <td>3.150064e+06</td>\n",
       "      <td>3.150064e+06</td>\n",
       "      <td>0.0</td>\n",
       "      <td>3.150064e+06</td>\n",
       "      <td>3.150064e+06</td>\n",
       "      <td>3.150064e+06</td>\n",
       "      <td>3.120400e+06</td>\n",
       "      <td>2.869432e+06</td>\n",
       "      <td>...</td>\n",
       "      <td>3.150064e+06</td>\n",
       "      <td>2.643520e+06</td>\n",
       "      <td>1.224736e+06</td>\n",
       "      <td>3.150064e+06</td>\n",
       "      <td>3.150064e+06</td>\n",
       "      <td>3.150064e+06</td>\n",
       "      <td>3.115960e+06</td>\n",
       "      <td>3.150064e+06</td>\n",
       "      <td>3.067168e+06</td>\n",
       "      <td>2.003632e+06</td>\n",
       "    </tr>\n",
       "    <tr>\n",
       "      <th>mean</th>\n",
       "      <td>1.999166e+03</td>\n",
       "      <td>3.950634e+02</td>\n",
       "      <td>2.701773e+06</td>\n",
       "      <td>1.475886e+01</td>\n",
       "      <td>NaN</td>\n",
       "      <td>5.019257e+11</td>\n",
       "      <td>1.918314e+04</td>\n",
       "      <td>1.475884e-02</td>\n",
       "      <td>1.864621e+01</td>\n",
       "      <td>1.805898e+01</td>\n",
       "      <td>...</td>\n",
       "      <td>5.070261e+00</td>\n",
       "      <td>1.595999e+00</td>\n",
       "      <td>1.269825e-02</td>\n",
       "      <td>1.048462e+07</td>\n",
       "      <td>4.633921e+01</td>\n",
       "      <td>3.608867e+01</td>\n",
       "      <td>1.002146e+04</td>\n",
       "      <td>2.023139e+00</td>\n",
       "      <td>5.953722e+01</td>\n",
       "      <td>3.541762e+01</td>\n",
       "    </tr>\n",
       "    <tr>\n",
       "      <th>std</th>\n",
       "      <td>7.798087e+00</td>\n",
       "      <td>1.231275e+03</td>\n",
       "      <td>3.899154e+06</td>\n",
       "      <td>1.887252e+01</td>\n",
       "      <td>NaN</td>\n",
       "      <td>8.545794e+11</td>\n",
       "      <td>1.706834e+04</td>\n",
       "      <td>1.887248e-02</td>\n",
       "      <td>2.620182e+01</td>\n",
       "      <td>1.724703e+01</td>\n",
       "      <td>...</td>\n",
       "      <td>5.478771e+00</td>\n",
       "      <td>1.705557e+00</td>\n",
       "      <td>2.250151e-01</td>\n",
       "      <td>1.884880e+07</td>\n",
       "      <td>3.708858e+01</td>\n",
       "      <td>4.493803e+01</td>\n",
       "      <td>4.597198e+04</td>\n",
       "      <td>4.423635e+00</td>\n",
       "      <td>4.850580e+01</td>\n",
       "      <td>4.471852e+01</td>\n",
       "    </tr>\n",
       "    <tr>\n",
       "      <th>min</th>\n",
       "      <td>1.985000e+03</td>\n",
       "      <td>0.000000e+00</td>\n",
       "      <td>4.400000e+03</td>\n",
       "      <td>0.000000e+00</td>\n",
       "      <td>NaN</td>\n",
       "      <td>1.201313e+09</td>\n",
       "      <td>3.570000e+02</td>\n",
       "      <td>0.000000e+00</td>\n",
       "      <td>0.000000e+00</td>\n",
       "      <td>0.000000e+00</td>\n",
       "      <td>...</td>\n",
       "      <td>0.000000e+00</td>\n",
       "      <td>0.000000e+00</td>\n",
       "      <td>0.000000e+00</td>\n",
       "      <td>0.000000e+00</td>\n",
       "      <td>0.000000e+00</td>\n",
       "      <td>0.000000e+00</td>\n",
       "      <td>0.000000e+00</td>\n",
       "      <td>0.000000e+00</td>\n",
       "      <td>0.000000e+00</td>\n",
       "      <td>0.000000e+00</td>\n",
       "    </tr>\n",
       "    <tr>\n",
       "      <th>25%</th>\n",
       "      <td>1.993000e+03</td>\n",
       "      <td>1.900000e+01</td>\n",
       "      <td>4.381000e+05</td>\n",
       "      <td>2.420000e+00</td>\n",
       "      <td>NaN</td>\n",
       "      <td>6.607451e+10</td>\n",
       "      <td>4.461000e+03</td>\n",
       "      <td>2.416361e-03</td>\n",
       "      <td>0.000000e+00</td>\n",
       "      <td>0.000000e+00</td>\n",
       "      <td>...</td>\n",
       "      <td>0.000000e+00</td>\n",
       "      <td>0.000000e+00</td>\n",
       "      <td>0.000000e+00</td>\n",
       "      <td>0.000000e+00</td>\n",
       "      <td>0.000000e+00</td>\n",
       "      <td>0.000000e+00</td>\n",
       "      <td>0.000000e+00</td>\n",
       "      <td>0.000000e+00</td>\n",
       "      <td>0.000000e+00</td>\n",
       "      <td>0.000000e+00</td>\n",
       "    </tr>\n",
       "    <tr>\n",
       "      <th>50%</th>\n",
       "      <td>1.999000e+03</td>\n",
       "      <td>8.500000e+01</td>\n",
       "      <td>1.042374e+06</td>\n",
       "      <td>8.380000e+00</td>\n",
       "      <td>NaN</td>\n",
       "      <td>1.905210e+11</td>\n",
       "      <td>1.498100e+04</td>\n",
       "      <td>8.378631e-03</td>\n",
       "      <td>2.915699e+00</td>\n",
       "      <td>1.802704e+01</td>\n",
       "      <td>...</td>\n",
       "      <td>4.221000e+00</td>\n",
       "      <td>1.253200e+00</td>\n",
       "      <td>0.000000e+00</td>\n",
       "      <td>2.523355e+06</td>\n",
       "      <td>7.153100e+01</td>\n",
       "      <td>7.511208e+00</td>\n",
       "      <td>1.300000e+01</td>\n",
       "      <td>4.500000e-01</td>\n",
       "      <td>9.878233e+01</td>\n",
       "      <td>0.000000e+00</td>\n",
       "    </tr>\n",
       "    <tr>\n",
       "      <th>75%</th>\n",
       "      <td>2.006000e+03</td>\n",
       "      <td>2.800000e+02</td>\n",
       "      <td>3.406300e+06</td>\n",
       "      <td>1.980000e+01</td>\n",
       "      <td>NaN</td>\n",
       "      <td>4.718210e+11</td>\n",
       "      <td>2.842900e+04</td>\n",
       "      <td>1.979884e-02</td>\n",
       "      <td>3.128840e+01</td>\n",
       "      <td>3.442995e+01</td>\n",
       "      <td>...</td>\n",
       "      <td>8.470000e+00</td>\n",
       "      <td>3.170000e+00</td>\n",
       "      <td>0.000000e+00</td>\n",
       "      <td>1.096807e+07</td>\n",
       "      <td>7.822927e+01</td>\n",
       "      <td>7.729856e+01</td>\n",
       "      <td>6.780000e+02</td>\n",
       "      <td>1.815000e+00</td>\n",
       "      <td>1.000000e+02</td>\n",
       "      <td>8.692391e+01</td>\n",
       "    </tr>\n",
       "    <tr>\n",
       "      <th>max</th>\n",
       "      <td>2.016000e+03</td>\n",
       "      <td>2.233800e+04</td>\n",
       "      <td>2.846186e+07</td>\n",
       "      <td>1.776100e+02</td>\n",
       "      <td>NaN</td>\n",
       "      <td>5.231380e+12</td>\n",
       "      <td>1.034310e+05</td>\n",
       "      <td>1.776089e-01</td>\n",
       "      <td>9.300000e+01</td>\n",
       "      <td>5.171466e+01</td>\n",
       "      <td>...</td>\n",
       "      <td>3.347300e+01</td>\n",
       "      <td>6.615700e+00</td>\n",
       "      <td>4.000000e+00</td>\n",
       "      <td>9.542172e+07</td>\n",
       "      <td>8.293146e+01</td>\n",
       "      <td>1.656610e+02</td>\n",
       "      <td>5.517440e+05</td>\n",
       "      <td>3.033200e+01</td>\n",
       "      <td>1.000000e+02</td>\n",
       "      <td>1.119233e+02</td>\n",
       "    </tr>\n",
       "  </tbody>\n",
       "</table>\n",
       "<p>8 rows × 21 columns</p>\n",
       "</div>"
      ],
      "text/plain": [
       "               year      suicides    population  sucid_in_hundredk  \\\n",
       "count  3.150064e+06  3.150064e+06  3.150064e+06       3.150064e+06   \n",
       "mean   1.999166e+03  3.950634e+02  2.701773e+06       1.475886e+01   \n",
       "std    7.798087e+00  1.231275e+03  3.899154e+06       1.887252e+01   \n",
       "min    1.985000e+03  0.000000e+00  4.400000e+03       0.000000e+00   \n",
       "25%    1.993000e+03  1.900000e+01  4.381000e+05       2.420000e+00   \n",
       "50%    1.999000e+03  8.500000e+01  1.042374e+06       8.380000e+00   \n",
       "75%    2.006000e+03  2.800000e+02  3.406300e+06       1.980000e+01   \n",
       "max    2.016000e+03  2.233800e+04  2.846186e+07       1.776100e+02   \n",
       "\n",
       "       yearly_hdi    yearly_gdp  gdp_per_capita      suicide%  internetusers  \\\n",
       "count         0.0  3.150064e+06    3.150064e+06  3.150064e+06   3.120400e+06   \n",
       "mean          NaN  5.019257e+11    1.918314e+04  1.475884e-02   1.864621e+01   \n",
       "std           NaN  8.545794e+11    1.706834e+04  1.887248e-02   2.620182e+01   \n",
       "min           NaN  1.201313e+09    3.570000e+02  0.000000e+00   0.000000e+00   \n",
       "25%           NaN  6.607451e+10    4.461000e+03  2.416361e-03   0.000000e+00   \n",
       "50%           NaN  1.905210e+11    1.498100e+04  8.378631e-03   2.915699e+00   \n",
       "75%           NaN  4.718210e+11    2.842900e+04  1.979884e-02   3.128840e+01   \n",
       "max           NaN  5.231380e+12    1.034310e+05  1.776089e-01   9.300000e+01   \n",
       "\n",
       "           expenses  ...  unemployment  physician_price   legalrights  \\\n",
       "count  2.869432e+06  ...  3.150064e+06     2.643520e+06  1.224736e+06   \n",
       "mean   1.805898e+01  ...  5.070261e+00     1.595999e+00  1.269825e-02   \n",
       "std    1.724703e+01  ...  5.478771e+00     1.705557e+00  2.250151e-01   \n",
       "min    0.000000e+00  ...  0.000000e+00     0.000000e+00  0.000000e+00   \n",
       "25%    0.000000e+00  ...  0.000000e+00     0.000000e+00  0.000000e+00   \n",
       "50%    1.802704e+01  ...  4.221000e+00     1.253200e+00  0.000000e+00   \n",
       "75%    3.442995e+01  ...  8.470000e+00     3.170000e+00  0.000000e+00   \n",
       "max    5.171466e+01  ...  3.347300e+01     6.615700e+00  4.000000e+00   \n",
       "\n",
       "       laborforcetotal  lifeexpectancy  mobilesubscriptions      refugees  \\\n",
       "count     3.150064e+06    3.150064e+06         3.150064e+06  3.115960e+06   \n",
       "mean      1.048462e+07    4.633921e+01         3.608867e+01  1.002146e+04   \n",
       "std       1.884880e+07    3.708858e+01         4.493803e+01  4.597198e+04   \n",
       "min       0.000000e+00    0.000000e+00         0.000000e+00  0.000000e+00   \n",
       "25%       0.000000e+00    0.000000e+00         0.000000e+00  0.000000e+00   \n",
       "50%       2.523355e+06    7.153100e+01         7.511208e+00  1.300000e+01   \n",
       "75%       1.096807e+07    7.822927e+01         7.729856e+01  6.780000e+02   \n",
       "max       9.542172e+07    8.293146e+01         1.656610e+02  5.517440e+05   \n",
       "\n",
       "       selfemployed  electricityacess  secondarycompletion  \n",
       "count  3.150064e+06      3.067168e+06         2.003632e+06  \n",
       "mean   2.023139e+00      5.953722e+01         3.541762e+01  \n",
       "std    4.423635e+00      4.850580e+01         4.471852e+01  \n",
       "min    0.000000e+00      0.000000e+00         0.000000e+00  \n",
       "25%    0.000000e+00      0.000000e+00         0.000000e+00  \n",
       "50%    4.500000e-01      9.878233e+01         0.000000e+00  \n",
       "75%    1.815000e+00      1.000000e+02         8.692391e+01  \n",
       "max    3.033200e+01      1.000000e+02         1.119233e+02  \n",
       "\n",
       "[8 rows x 21 columns]"
      ]
     },
     "execution_count": 39,
     "metadata": {},
     "output_type": "execute_result"
    }
   ],
   "source": [
    "missing_hdi.describe()"
   ]
  },
  {
   "cell_type": "code",
   "execution_count": 40,
   "metadata": {
    "colab": {
     "base_uri": "https://localhost:8080/",
     "height": 394
    },
    "id": "e5d230c8",
    "outputId": "ed824550-4233-4b5b-85c5-005a3fa7565b"
   },
   "outputs": [
    {
     "data": {
      "text/html": [
       "<div>\n",
       "<style scoped>\n",
       "    .dataframe tbody tr th:only-of-type {\n",
       "        vertical-align: middle;\n",
       "    }\n",
       "\n",
       "    .dataframe tbody tr th {\n",
       "        vertical-align: top;\n",
       "    }\n",
       "\n",
       "    .dataframe thead th {\n",
       "        text-align: right;\n",
       "    }\n",
       "</style>\n",
       "<table border=\"1\" class=\"dataframe\">\n",
       "  <thead>\n",
       "    <tr style=\"text-align: right;\">\n",
       "      <th></th>\n",
       "      <th>year</th>\n",
       "      <th>suicides</th>\n",
       "      <th>population</th>\n",
       "      <th>sucid_in_hundredk</th>\n",
       "      <th>yearly_hdi</th>\n",
       "      <th>yearly_gdp</th>\n",
       "      <th>gdp_per_capita</th>\n",
       "      <th>suicide%</th>\n",
       "      <th>internetusers</th>\n",
       "      <th>expenses</th>\n",
       "      <th>...</th>\n",
       "      <th>unemployment</th>\n",
       "      <th>physician_price</th>\n",
       "      <th>legalrights</th>\n",
       "      <th>laborforcetotal</th>\n",
       "      <th>lifeexpectancy</th>\n",
       "      <th>mobilesubscriptions</th>\n",
       "      <th>refugees</th>\n",
       "      <th>selfemployed</th>\n",
       "      <th>electricityacess</th>\n",
       "      <th>secondarycompletion</th>\n",
       "    </tr>\n",
       "  </thead>\n",
       "  <tbody>\n",
       "    <tr>\n",
       "      <th>count</th>\n",
       "      <td>1.427736e+06</td>\n",
       "      <td>1.427736e+06</td>\n",
       "      <td>1.427736e+06</td>\n",
       "      <td>1.427736e+06</td>\n",
       "      <td>1.427736e+06</td>\n",
       "      <td>1.427736e+06</td>\n",
       "      <td>1.427736e+06</td>\n",
       "      <td>1.427736e+06</td>\n",
       "      <td>1.427736e+06</td>\n",
       "      <td>1.318488e+06</td>\n",
       "      <td>...</td>\n",
       "      <td>1.427736e+06</td>\n",
       "      <td>1.226496e+06</td>\n",
       "      <td>514752.000000</td>\n",
       "      <td>1.427736e+06</td>\n",
       "      <td>1.427736e+06</td>\n",
       "      <td>1.427736e+06</td>\n",
       "      <td>1.414800e+06</td>\n",
       "      <td>1.427736e+06</td>\n",
       "      <td>1.407768e+06</td>\n",
       "      <td>877968.000000</td>\n",
       "    </tr>\n",
       "    <tr>\n",
       "      <th>mean</th>\n",
       "      <td>2.004491e+03</td>\n",
       "      <td>2.862639e+02</td>\n",
       "      <td>2.566195e+06</td>\n",
       "      <td>1.295394e+01</td>\n",
       "      <td>8.106563e-01</td>\n",
       "      <td>6.626222e+11</td>\n",
       "      <td>2.606589e+04</td>\n",
       "      <td>1.295385e-02</td>\n",
       "      <td>3.447874e+01</td>\n",
       "      <td>2.386605e+01</td>\n",
       "      <td>...</td>\n",
       "      <td>6.431358e+00</td>\n",
       "      <td>2.197565e+00</td>\n",
       "      <td>1.510024</td>\n",
       "      <td>1.169765e+07</td>\n",
       "      <td>5.721416e+01</td>\n",
       "      <td>6.332928e+01</td>\n",
       "      <td>9.373888e+03</td>\n",
       "      <td>2.290945e+00</td>\n",
       "      <td>7.307329e+01</td>\n",
       "      <td>53.828028</td>\n",
       "    </tr>\n",
       "    <tr>\n",
       "      <th>std</th>\n",
       "      <td>9.298311e+00</td>\n",
       "      <td>6.549231e+02</td>\n",
       "      <td>3.678287e+06</td>\n",
       "      <td>1.610820e+01</td>\n",
       "      <td>8.716909e-02</td>\n",
       "      <td>1.058922e+12</td>\n",
       "      <td>2.226931e+04</td>\n",
       "      <td>1.610820e-02</td>\n",
       "      <td>3.381965e+01</td>\n",
       "      <td>1.737971e+01</td>\n",
       "      <td>...</td>\n",
       "      <td>5.836310e+00</td>\n",
       "      <td>1.753006e+00</td>\n",
       "      <td>2.746451</td>\n",
       "      <td>1.839824e+07</td>\n",
       "      <td>3.413176e+01</td>\n",
       "      <td>5.562165e+01</td>\n",
       "      <td>4.987882e+04</td>\n",
       "      <td>4.535733e+00</td>\n",
       "      <td>4.378118e+01</td>\n",
       "      <td>46.527858</td>\n",
       "    </tr>\n",
       "    <tr>\n",
       "      <th>min</th>\n",
       "      <td>1.985000e+03</td>\n",
       "      <td>0.000000e+00</td>\n",
       "      <td>4.500000e+03</td>\n",
       "      <td>0.000000e+00</td>\n",
       "      <td>5.390000e-01</td>\n",
       "      <td>1.468317e+09</td>\n",
       "      <td>4.260000e+02</td>\n",
       "      <td>0.000000e+00</td>\n",
       "      <td>0.000000e+00</td>\n",
       "      <td>0.000000e+00</td>\n",
       "      <td>...</td>\n",
       "      <td>0.000000e+00</td>\n",
       "      <td>0.000000e+00</td>\n",
       "      <td>0.000000</td>\n",
       "      <td>0.000000e+00</td>\n",
       "      <td>0.000000e+00</td>\n",
       "      <td>0.000000e+00</td>\n",
       "      <td>0.000000e+00</td>\n",
       "      <td>0.000000e+00</td>\n",
       "      <td>0.000000e+00</td>\n",
       "      <td>0.000000</td>\n",
       "    </tr>\n",
       "    <tr>\n",
       "      <th>25%</th>\n",
       "      <td>1.995000e+03</td>\n",
       "      <td>1.900000e+01</td>\n",
       "      <td>4.679860e+05</td>\n",
       "      <td>2.230000e+00</td>\n",
       "      <td>7.470000e-01</td>\n",
       "      <td>9.985353e+10</td>\n",
       "      <td>7.892000e+03</td>\n",
       "      <td>2.225032e-03</td>\n",
       "      <td>0.000000e+00</td>\n",
       "      <td>0.000000e+00</td>\n",
       "      <td>...</td>\n",
       "      <td>0.000000e+00</td>\n",
       "      <td>0.000000e+00</td>\n",
       "      <td>0.000000</td>\n",
       "      <td>0.000000e+00</td>\n",
       "      <td>0.000000e+00</td>\n",
       "      <td>0.000000e+00</td>\n",
       "      <td>0.000000e+00</td>\n",
       "      <td>0.000000e+00</td>\n",
       "      <td>0.000000e+00</td>\n",
       "      <td>0.000000</td>\n",
       "    </tr>\n",
       "    <tr>\n",
       "      <th>50%</th>\n",
       "      <td>2.010000e+03</td>\n",
       "      <td>8.000000e+01</td>\n",
       "      <td>1.039605e+06</td>\n",
       "      <td>7.570000e+00</td>\n",
       "      <td>8.270000e-01</td>\n",
       "      <td>2.598020e+11</td>\n",
       "      <td>2.086200e+04</td>\n",
       "      <td>7.568154e-03</td>\n",
       "      <td>2.793000e+01</td>\n",
       "      <td>2.768840e+01</td>\n",
       "      <td>...</td>\n",
       "      <td>6.420000e+00</td>\n",
       "      <td>2.520700e+00</td>\n",
       "      <td>0.000000</td>\n",
       "      <td>4.305310e+06</td>\n",
       "      <td>7.561756e+01</td>\n",
       "      <td>7.187082e+01</td>\n",
       "      <td>4.900000e+01</td>\n",
       "      <td>6.470000e-01</td>\n",
       "      <td>1.000000e+02</td>\n",
       "      <td>85.191040</td>\n",
       "    </tr>\n",
       "    <tr>\n",
       "      <th>75%</th>\n",
       "      <td>2.012000e+03</td>\n",
       "      <td>2.550000e+02</td>\n",
       "      <td>3.330600e+06</td>\n",
       "      <td>1.781000e+01</td>\n",
       "      <td>8.840000e-01</td>\n",
       "      <td>5.837830e+11</td>\n",
       "      <td>4.118400e+04</td>\n",
       "      <td>1.780991e-02</td>\n",
       "      <td>6.709000e+01</td>\n",
       "      <td>3.824828e+01</td>\n",
       "      <td>...</td>\n",
       "      <td>8.897000e+00</td>\n",
       "      <td>3.487500e+00</td>\n",
       "      <td>2.000000</td>\n",
       "      <td>1.754956e+07</td>\n",
       "      <td>8.019268e+01</td>\n",
       "      <td>1.141422e+02</td>\n",
       "      <td>7.380000e+02</td>\n",
       "      <td>2.201000e+00</td>\n",
       "      <td>1.000000e+02</td>\n",
       "      <td>96.580650</td>\n",
       "    </tr>\n",
       "    <tr>\n",
       "      <th>max</th>\n",
       "      <td>2.014000e+03</td>\n",
       "      <td>8.073000e+03</td>\n",
       "      <td>2.797110e+07</td>\n",
       "      <td>1.659600e+02</td>\n",
       "      <td>9.440000e-01</td>\n",
       "      <td>6.203210e+12</td>\n",
       "      <td>1.098040e+05</td>\n",
       "      <td>1.659614e-01</td>\n",
       "      <td>9.654680e+01</td>\n",
       "      <td>6.218678e+01</td>\n",
       "      <td>...</td>\n",
       "      <td>3.022900e+01</td>\n",
       "      <td>7.334100e+00</td>\n",
       "      <td>12.000000</td>\n",
       "      <td>9.899009e+07</td>\n",
       "      <td>8.333195e+01</td>\n",
       "      <td>1.721218e+02</td>\n",
       "      <td>3.967170e+05</td>\n",
       "      <td>3.123500e+01</td>\n",
       "      <td>1.000000e+02</td>\n",
       "      <td>116.367400</td>\n",
       "    </tr>\n",
       "  </tbody>\n",
       "</table>\n",
       "<p>8 rows × 21 columns</p>\n",
       "</div>"
      ],
      "text/plain": [
       "               year      suicides    population  sucid_in_hundredk  \\\n",
       "count  1.427736e+06  1.427736e+06  1.427736e+06       1.427736e+06   \n",
       "mean   2.004491e+03  2.862639e+02  2.566195e+06       1.295394e+01   \n",
       "std    9.298311e+00  6.549231e+02  3.678287e+06       1.610820e+01   \n",
       "min    1.985000e+03  0.000000e+00  4.500000e+03       0.000000e+00   \n",
       "25%    1.995000e+03  1.900000e+01  4.679860e+05       2.230000e+00   \n",
       "50%    2.010000e+03  8.000000e+01  1.039605e+06       7.570000e+00   \n",
       "75%    2.012000e+03  2.550000e+02  3.330600e+06       1.781000e+01   \n",
       "max    2.014000e+03  8.073000e+03  2.797110e+07       1.659600e+02   \n",
       "\n",
       "         yearly_hdi    yearly_gdp  gdp_per_capita      suicide%  \\\n",
       "count  1.427736e+06  1.427736e+06    1.427736e+06  1.427736e+06   \n",
       "mean   8.106563e-01  6.626222e+11    2.606589e+04  1.295385e-02   \n",
       "std    8.716909e-02  1.058922e+12    2.226931e+04  1.610820e-02   \n",
       "min    5.390000e-01  1.468317e+09    4.260000e+02  0.000000e+00   \n",
       "25%    7.470000e-01  9.985353e+10    7.892000e+03  2.225032e-03   \n",
       "50%    8.270000e-01  2.598020e+11    2.086200e+04  7.568154e-03   \n",
       "75%    8.840000e-01  5.837830e+11    4.118400e+04  1.780991e-02   \n",
       "max    9.440000e-01  6.203210e+12    1.098040e+05  1.659614e-01   \n",
       "\n",
       "       internetusers      expenses  ...  unemployment  physician_price  \\\n",
       "count   1.427736e+06  1.318488e+06  ...  1.427736e+06     1.226496e+06   \n",
       "mean    3.447874e+01  2.386605e+01  ...  6.431358e+00     2.197565e+00   \n",
       "std     3.381965e+01  1.737971e+01  ...  5.836310e+00     1.753006e+00   \n",
       "min     0.000000e+00  0.000000e+00  ...  0.000000e+00     0.000000e+00   \n",
       "25%     0.000000e+00  0.000000e+00  ...  0.000000e+00     0.000000e+00   \n",
       "50%     2.793000e+01  2.768840e+01  ...  6.420000e+00     2.520700e+00   \n",
       "75%     6.709000e+01  3.824828e+01  ...  8.897000e+00     3.487500e+00   \n",
       "max     9.654680e+01  6.218678e+01  ...  3.022900e+01     7.334100e+00   \n",
       "\n",
       "         legalrights  laborforcetotal  lifeexpectancy  mobilesubscriptions  \\\n",
       "count  514752.000000     1.427736e+06    1.427736e+06         1.427736e+06   \n",
       "mean        1.510024     1.169765e+07    5.721416e+01         6.332928e+01   \n",
       "std         2.746451     1.839824e+07    3.413176e+01         5.562165e+01   \n",
       "min         0.000000     0.000000e+00    0.000000e+00         0.000000e+00   \n",
       "25%         0.000000     0.000000e+00    0.000000e+00         0.000000e+00   \n",
       "50%         0.000000     4.305310e+06    7.561756e+01         7.187082e+01   \n",
       "75%         2.000000     1.754956e+07    8.019268e+01         1.141422e+02   \n",
       "max        12.000000     9.899009e+07    8.333195e+01         1.721218e+02   \n",
       "\n",
       "           refugees  selfemployed  electricityacess  secondarycompletion  \n",
       "count  1.414800e+06  1.427736e+06      1.407768e+06        877968.000000  \n",
       "mean   9.373888e+03  2.290945e+00      7.307329e+01            53.828028  \n",
       "std    4.987882e+04  4.535733e+00      4.378118e+01            46.527858  \n",
       "min    0.000000e+00  0.000000e+00      0.000000e+00             0.000000  \n",
       "25%    0.000000e+00  0.000000e+00      0.000000e+00             0.000000  \n",
       "50%    4.900000e+01  6.470000e-01      1.000000e+02            85.191040  \n",
       "75%    7.380000e+02  2.201000e+00      1.000000e+02            96.580650  \n",
       "max    3.967170e+05  3.123500e+01      1.000000e+02           116.367400  \n",
       "\n",
       "[8 rows x 21 columns]"
      ]
     },
     "execution_count": 40,
     "metadata": {},
     "output_type": "execute_result"
    }
   ],
   "source": [
    "complete_hdi.describe()"
   ]
  },
  {
   "cell_type": "code",
   "execution_count": 41,
   "metadata": {
    "colab": {
     "base_uri": "https://localhost:8080/",
     "height": 718
    },
    "id": "296d0109",
    "outputId": "d22e9e41-300c-4fad-adeb-189a80254ea4"
   },
   "outputs": [],
   "source": [
    "sorted_final = final.sort_values(by = 'year')\n",
    "#msno.matrix(sorted_final)\n",
    "#plt.show()"
   ]
  },
  {
   "cell_type": "code",
   "execution_count": 42,
   "metadata": {
    "id": "f967d1ad"
   },
   "outputs": [],
   "source": [
    "final.drop('yearly_hdi', axis=1, inplace=True)\n",
    "final.drop('secondarycompletion', axis=1, inplace=True)\n",
    "final.drop('legalrights', axis=1, inplace=True)"
   ]
  },
  {
   "cell_type": "code",
   "execution_count": 43,
   "metadata": {
    "colab": {
     "base_uri": "https://localhost:8080/",
     "height": 833
    },
    "id": "d1e55a55",
    "outputId": "ae025eb1-e38b-4d22-e84a-6a7faaf7e9f3"
   },
   "outputs": [
    {
     "data": {
      "text/html": [
       "<div>\n",
       "<style scoped>\n",
       "    .dataframe tbody tr th:only-of-type {\n",
       "        vertical-align: middle;\n",
       "    }\n",
       "\n",
       "    .dataframe tbody tr th {\n",
       "        vertical-align: top;\n",
       "    }\n",
       "\n",
       "    .dataframe thead th {\n",
       "        text-align: right;\n",
       "    }\n",
       "</style>\n",
       "<table border=\"1\" class=\"dataframe\">\n",
       "  <thead>\n",
       "    <tr style=\"text-align: right;\">\n",
       "      <th></th>\n",
       "      <th>percent_missing</th>\n",
       "    </tr>\n",
       "  </thead>\n",
       "  <tbody>\n",
       "    <tr>\n",
       "      <th>physician_price</th>\n",
       "      <td>15.461226</td>\n",
       "    </tr>\n",
       "    <tr>\n",
       "      <th>employeecompensation</th>\n",
       "      <td>8.875355</td>\n",
       "    </tr>\n",
       "    <tr>\n",
       "      <th>expenses</th>\n",
       "      <td>8.516755</td>\n",
       "    </tr>\n",
       "    <tr>\n",
       "      <th>electricityacess</th>\n",
       "      <td>2.247018</td>\n",
       "    </tr>\n",
       "    <tr>\n",
       "      <th>refugees</th>\n",
       "      <td>1.027568</td>\n",
       "    </tr>\n",
       "    <tr>\n",
       "      <th>internetusers</th>\n",
       "      <td>0.647997</td>\n",
       "    </tr>\n",
       "    <tr>\n",
       "      <th>continent</th>\n",
       "      <td>0.000000</td>\n",
       "    </tr>\n",
       "    <tr>\n",
       "      <th>selfemployed</th>\n",
       "      <td>0.000000</td>\n",
       "    </tr>\n",
       "    <tr>\n",
       "      <th>mobilesubscriptions</th>\n",
       "      <td>0.000000</td>\n",
       "    </tr>\n",
       "    <tr>\n",
       "      <th>lifeexpectancy</th>\n",
       "      <td>0.000000</td>\n",
       "    </tr>\n",
       "    <tr>\n",
       "      <th>laborforcetotal</th>\n",
       "      <td>0.000000</td>\n",
       "    </tr>\n",
       "    <tr>\n",
       "      <th>unemployment</th>\n",
       "      <td>0.000000</td>\n",
       "    </tr>\n",
       "    <tr>\n",
       "      <th>country</th>\n",
       "      <td>0.000000</td>\n",
       "    </tr>\n",
       "    <tr>\n",
       "      <th>year</th>\n",
       "      <td>0.000000</td>\n",
       "    </tr>\n",
       "    <tr>\n",
       "      <th>suicide%</th>\n",
       "      <td>0.000000</td>\n",
       "    </tr>\n",
       "    <tr>\n",
       "      <th>generation</th>\n",
       "      <td>0.000000</td>\n",
       "    </tr>\n",
       "    <tr>\n",
       "      <th>gdp_per_capita</th>\n",
       "      <td>0.000000</td>\n",
       "    </tr>\n",
       "    <tr>\n",
       "      <th>yearly_gdp</th>\n",
       "      <td>0.000000</td>\n",
       "    </tr>\n",
       "    <tr>\n",
       "      <th>country-year</th>\n",
       "      <td>0.000000</td>\n",
       "    </tr>\n",
       "    <tr>\n",
       "      <th>sucid_in_hundredk</th>\n",
       "      <td>0.000000</td>\n",
       "    </tr>\n",
       "    <tr>\n",
       "      <th>population</th>\n",
       "      <td>0.000000</td>\n",
       "    </tr>\n",
       "    <tr>\n",
       "      <th>suicides</th>\n",
       "      <td>0.000000</td>\n",
       "    </tr>\n",
       "    <tr>\n",
       "      <th>age</th>\n",
       "      <td>0.000000</td>\n",
       "    </tr>\n",
       "    <tr>\n",
       "      <th>sex</th>\n",
       "      <td>0.000000</td>\n",
       "    </tr>\n",
       "    <tr>\n",
       "      <th>country_code</th>\n",
       "      <td>0.000000</td>\n",
       "    </tr>\n",
       "  </tbody>\n",
       "</table>\n",
       "</div>"
      ],
      "text/plain": [
       "                      percent_missing\n",
       "physician_price             15.461226\n",
       "employeecompensation         8.875355\n",
       "expenses                     8.516755\n",
       "electricityacess             2.247018\n",
       "refugees                     1.027568\n",
       "internetusers                0.647997\n",
       "continent                    0.000000\n",
       "selfemployed                 0.000000\n",
       "mobilesubscriptions          0.000000\n",
       "lifeexpectancy               0.000000\n",
       "laborforcetotal              0.000000\n",
       "unemployment                 0.000000\n",
       "country                      0.000000\n",
       "year                         0.000000\n",
       "suicide%                     0.000000\n",
       "generation                   0.000000\n",
       "gdp_per_capita               0.000000\n",
       "yearly_gdp                   0.000000\n",
       "country-year                 0.000000\n",
       "sucid_in_hundredk            0.000000\n",
       "population                   0.000000\n",
       "suicides                     0.000000\n",
       "age                          0.000000\n",
       "sex                          0.000000\n",
       "country_code                 0.000000"
      ]
     },
     "execution_count": 43,
     "metadata": {},
     "output_type": "execute_result"
    }
   ],
   "source": [
    "#checking percentage of missing values\n",
    "percent_missing = final.isnull().sum() * 100 / len(final)\n",
    "missing_value_final = pd.DataFrame({'percent_missing': percent_missing})\n",
    "missing_value_final.sort_values('percent_missing', inplace=True, ascending=False)\n",
    "missing_value_final"
   ]
  },
  {
   "cell_type": "markdown",
   "metadata": {
    "id": "7758a447"
   },
   "source": [
    "in above case yearly_hdi,secondarycompletion and legalrights are missing more than 30%. I will be removing these columns as I am unable to replace the majority of data for them."
   ]
  },
  {
   "cell_type": "code",
   "execution_count": 44,
   "metadata": {
    "id": "9408d349"
   },
   "outputs": [],
   "source": [
    "final.internetusers=final.internetusers.fillna(final.internetusers\t. min())\n",
    "final.employeecompensation=final.employeecompensation.fillna(final.employeecompensation.mean())\n",
    "final.electricityacess=final.electricityacess.fillna(final.electricityacess.mean())\n",
    "final.refugees=final.refugees.fillna(final.refugees.mean())\n",
    "final.expenses=final.expenses.fillna(final.expenses.mean())\n",
    "final.physician_price=final.physician_price.fillna(final.physician_price.mean())"
   ]
  },
  {
   "cell_type": "code",
   "execution_count": 45,
   "metadata": {
    "colab": {
     "base_uri": "https://localhost:8080/",
     "height": 833
    },
    "id": "7HkVS6Rv2jPZ",
    "outputId": "bcc4ce76-cfe7-43a0-e0cc-9dc2cc3e13eb"
   },
   "outputs": [
    {
     "data": {
      "text/html": [
       "<div>\n",
       "<style scoped>\n",
       "    .dataframe tbody tr th:only-of-type {\n",
       "        vertical-align: middle;\n",
       "    }\n",
       "\n",
       "    .dataframe tbody tr th {\n",
       "        vertical-align: top;\n",
       "    }\n",
       "\n",
       "    .dataframe thead th {\n",
       "        text-align: right;\n",
       "    }\n",
       "</style>\n",
       "<table border=\"1\" class=\"dataframe\">\n",
       "  <thead>\n",
       "    <tr style=\"text-align: right;\">\n",
       "      <th></th>\n",
       "      <th>percent_missing</th>\n",
       "    </tr>\n",
       "  </thead>\n",
       "  <tbody>\n",
       "    <tr>\n",
       "      <th>country</th>\n",
       "      <td>0.0</td>\n",
       "    </tr>\n",
       "    <tr>\n",
       "      <th>expenses</th>\n",
       "      <td>0.0</td>\n",
       "    </tr>\n",
       "    <tr>\n",
       "      <th>continent</th>\n",
       "      <td>0.0</td>\n",
       "    </tr>\n",
       "    <tr>\n",
       "      <th>electricityacess</th>\n",
       "      <td>0.0</td>\n",
       "    </tr>\n",
       "    <tr>\n",
       "      <th>selfemployed</th>\n",
       "      <td>0.0</td>\n",
       "    </tr>\n",
       "    <tr>\n",
       "      <th>refugees</th>\n",
       "      <td>0.0</td>\n",
       "    </tr>\n",
       "    <tr>\n",
       "      <th>mobilesubscriptions</th>\n",
       "      <td>0.0</td>\n",
       "    </tr>\n",
       "    <tr>\n",
       "      <th>lifeexpectancy</th>\n",
       "      <td>0.0</td>\n",
       "    </tr>\n",
       "    <tr>\n",
       "      <th>laborforcetotal</th>\n",
       "      <td>0.0</td>\n",
       "    </tr>\n",
       "    <tr>\n",
       "      <th>physician_price</th>\n",
       "      <td>0.0</td>\n",
       "    </tr>\n",
       "    <tr>\n",
       "      <th>unemployment</th>\n",
       "      <td>0.0</td>\n",
       "    </tr>\n",
       "    <tr>\n",
       "      <th>employeecompensation</th>\n",
       "      <td>0.0</td>\n",
       "    </tr>\n",
       "    <tr>\n",
       "      <th>internetusers</th>\n",
       "      <td>0.0</td>\n",
       "    </tr>\n",
       "    <tr>\n",
       "      <th>year</th>\n",
       "      <td>0.0</td>\n",
       "    </tr>\n",
       "    <tr>\n",
       "      <th>suicide%</th>\n",
       "      <td>0.0</td>\n",
       "    </tr>\n",
       "    <tr>\n",
       "      <th>generation</th>\n",
       "      <td>0.0</td>\n",
       "    </tr>\n",
       "    <tr>\n",
       "      <th>gdp_per_capita</th>\n",
       "      <td>0.0</td>\n",
       "    </tr>\n",
       "    <tr>\n",
       "      <th>yearly_gdp</th>\n",
       "      <td>0.0</td>\n",
       "    </tr>\n",
       "    <tr>\n",
       "      <th>country-year</th>\n",
       "      <td>0.0</td>\n",
       "    </tr>\n",
       "    <tr>\n",
       "      <th>sucid_in_hundredk</th>\n",
       "      <td>0.0</td>\n",
       "    </tr>\n",
       "    <tr>\n",
       "      <th>population</th>\n",
       "      <td>0.0</td>\n",
       "    </tr>\n",
       "    <tr>\n",
       "      <th>suicides</th>\n",
       "      <td>0.0</td>\n",
       "    </tr>\n",
       "    <tr>\n",
       "      <th>age</th>\n",
       "      <td>0.0</td>\n",
       "    </tr>\n",
       "    <tr>\n",
       "      <th>sex</th>\n",
       "      <td>0.0</td>\n",
       "    </tr>\n",
       "    <tr>\n",
       "      <th>country_code</th>\n",
       "      <td>0.0</td>\n",
       "    </tr>\n",
       "  </tbody>\n",
       "</table>\n",
       "</div>"
      ],
      "text/plain": [
       "                      percent_missing\n",
       "country                           0.0\n",
       "expenses                          0.0\n",
       "continent                         0.0\n",
       "electricityacess                  0.0\n",
       "selfemployed                      0.0\n",
       "refugees                          0.0\n",
       "mobilesubscriptions               0.0\n",
       "lifeexpectancy                    0.0\n",
       "laborforcetotal                   0.0\n",
       "physician_price                   0.0\n",
       "unemployment                      0.0\n",
       "employeecompensation              0.0\n",
       "internetusers                     0.0\n",
       "year                              0.0\n",
       "suicide%                          0.0\n",
       "generation                        0.0\n",
       "gdp_per_capita                    0.0\n",
       "yearly_gdp                        0.0\n",
       "country-year                      0.0\n",
       "sucid_in_hundredk                 0.0\n",
       "population                        0.0\n",
       "suicides                          0.0\n",
       "age                               0.0\n",
       "sex                               0.0\n",
       "country_code                      0.0"
      ]
     },
     "execution_count": 45,
     "metadata": {},
     "output_type": "execute_result"
    }
   ],
   "source": [
    "percent_missing = final.isnull().sum() * 100 / len(final)\n",
    "missing_value_final = pd.DataFrame({'percent_missing': percent_missing})\n",
    "missing_value_final.sort_values('percent_missing', inplace=True, ascending=False)\n",
    "missing_value_final"
   ]
  },
  {
   "cell_type": "code",
   "execution_count": 46,
   "metadata": {
    "colab": {
     "base_uri": "https://localhost:8080/"
    },
    "id": "77fd43c0",
    "outputId": "2753ffef-39a4-4d11-c710-fcb7af18fde8"
   },
   "outputs": [
    {
     "data": {
      "text/plain": [
       "array([1985, 1986, 1987, 1988, 1989, 1990, 1991, 1992, 1993, 1994, 1995,\n",
       "       1996, 1997, 1998, 1999, 2000, 2001, 2002, 2003, 2004, 2005, 2006,\n",
       "       2007, 2008, 2009, 2010, 2011, 2012, 2013, 2014, 2015, 2016])"
      ]
     },
     "execution_count": 46,
     "metadata": {},
     "output_type": "execute_result"
    }
   ],
   "source": [
    "df.year.unique()"
   ]
  },
  {
   "cell_type": "code",
   "execution_count": 47,
   "metadata": {
    "colab": {
     "base_uri": "https://localhost:8080/"
    },
    "id": "0195d448",
    "outputId": "bc8a76cc-8a1b-4769-97a5-33bea8c04376"
   },
   "outputs": [
    {
     "data": {
      "text/plain": [
       "array([1985, 1986, 1987, 1988, 1989, 1990, 1991, 1992, 1993, 1994, 1995,\n",
       "       1996, 1997, 1998, 1999, 2000, 2001, 2002, 2003, 2004, 2005, 2006,\n",
       "       2007, 2008, 2009, 2010, 2011, 2012, 2013, 2014, 2015, 2016])"
      ]
     },
     "execution_count": 47,
     "metadata": {},
     "output_type": "execute_result"
    }
   ],
   "source": [
    "second_data.year.unique()"
   ]
  },
  {
   "cell_type": "code",
   "execution_count": 48,
   "metadata": {
    "colab": {
     "base_uri": "https://localhost:8080/"
    },
    "id": "2cc21c5b",
    "outputId": "020b3a43-0fb9-4216-a775-6969e3f24ee6"
   },
   "outputs": [
    {
     "data": {
      "text/plain": [
       "array([1985, 1986, 1987, 1988, 1989, 1990, 1991, 1992, 1993, 1994, 1995,\n",
       "       1996, 1997, 1998, 1999, 2000, 2001, 2002, 2003, 2004, 2005, 2006,\n",
       "       2007, 2008, 2009, 2010, 2011, 2012, 2013, 2014, 2015, 2016])"
      ]
     },
     "execution_count": 48,
     "metadata": {},
     "output_type": "execute_result"
    }
   ],
   "source": [
    "final.year.unique()"
   ]
  },
  {
   "cell_type": "code",
   "execution_count": 49,
   "metadata": {
    "colab": {
     "base_uri": "https://localhost:8080/"
    },
    "id": "1ba3482c",
    "outputId": "693713bf-c7e8-4022-8dda-643e57b86d5a"
   },
   "outputs": [
    {
     "data": {
      "text/plain": [
       "['Argentina', 'Armenia', 'Australia', 'Austria', 'Belgium', ..., 'Sweden', 'Switzerland', 'Thailand', 'Turkmenistan', 'Ukraine']\n",
       "Length: 39\n",
       "Categories (39, object): ['Argentina', 'Armenia', 'Australia', 'Austria', ..., 'Switzerland', 'Thailand', 'Turkmenistan', 'Ukraine']"
      ]
     },
     "execution_count": 49,
     "metadata": {},
     "output_type": "execute_result"
    }
   ],
   "source": [
    "final.country.unique()"
   ]
  },
  {
   "cell_type": "code",
   "execution_count": 50,
   "metadata": {
    "colab": {
     "base_uri": "https://localhost:8080/",
     "height": 306
    },
    "id": "fe1b9e98",
    "outputId": "92df6491-4732-40f3-b2c9-7252f4d0b02b"
   },
   "outputs": [
    {
     "data": {
      "text/html": [
       "<div>\n",
       "<style scoped>\n",
       "    .dataframe tbody tr th:only-of-type {\n",
       "        vertical-align: middle;\n",
       "    }\n",
       "\n",
       "    .dataframe tbody tr th {\n",
       "        vertical-align: top;\n",
       "    }\n",
       "\n",
       "    .dataframe thead th {\n",
       "        text-align: right;\n",
       "    }\n",
       "</style>\n",
       "<table border=\"1\" class=\"dataframe\">\n",
       "  <thead>\n",
       "    <tr style=\"text-align: right;\">\n",
       "      <th></th>\n",
       "      <th>country</th>\n",
       "      <th>year</th>\n",
       "      <th>sex</th>\n",
       "      <th>age</th>\n",
       "      <th>suicides</th>\n",
       "      <th>population</th>\n",
       "      <th>sucid_in_hundredk</th>\n",
       "      <th>country-year</th>\n",
       "      <th>yearly_gdp</th>\n",
       "      <th>gdp_per_capita</th>\n",
       "      <th>...</th>\n",
       "      <th>unemployment</th>\n",
       "      <th>physician_price</th>\n",
       "      <th>laborforcetotal</th>\n",
       "      <th>lifeexpectancy</th>\n",
       "      <th>mobilesubscriptions</th>\n",
       "      <th>refugees</th>\n",
       "      <th>selfemployed</th>\n",
       "      <th>electricityacess</th>\n",
       "      <th>continent</th>\n",
       "      <th>country_code</th>\n",
       "    </tr>\n",
       "  </thead>\n",
       "  <tbody>\n",
       "    <tr>\n",
       "      <th>0</th>\n",
       "      <td>Argentina</td>\n",
       "      <td>1985</td>\n",
       "      <td>male</td>\n",
       "      <td>75+ years</td>\n",
       "      <td>202</td>\n",
       "      <td>363000</td>\n",
       "      <td>55.65</td>\n",
       "      <td>Argentina1985</td>\n",
       "      <td>8.841667e+10</td>\n",
       "      <td>3264</td>\n",
       "      <td>...</td>\n",
       "      <td>0.0</td>\n",
       "      <td>0.0</td>\n",
       "      <td>0</td>\n",
       "      <td>0.0</td>\n",
       "      <td>0.0</td>\n",
       "      <td>0.0</td>\n",
       "      <td>0.0</td>\n",
       "      <td>0.0</td>\n",
       "      <td>Americas</td>\n",
       "      <td>ARG</td>\n",
       "    </tr>\n",
       "    <tr>\n",
       "      <th>1</th>\n",
       "      <td>Argentina</td>\n",
       "      <td>1985</td>\n",
       "      <td>male</td>\n",
       "      <td>75+ years</td>\n",
       "      <td>202</td>\n",
       "      <td>363000</td>\n",
       "      <td>55.65</td>\n",
       "      <td>Argentina1985</td>\n",
       "      <td>8.841667e+10</td>\n",
       "      <td>3264</td>\n",
       "      <td>...</td>\n",
       "      <td>0.0</td>\n",
       "      <td>0.0</td>\n",
       "      <td>0</td>\n",
       "      <td>0.0</td>\n",
       "      <td>0.0</td>\n",
       "      <td>0.0</td>\n",
       "      <td>0.0</td>\n",
       "      <td>0.0</td>\n",
       "      <td>Americas</td>\n",
       "      <td>ARG</td>\n",
       "    </tr>\n",
       "  </tbody>\n",
       "</table>\n",
       "<p>2 rows × 25 columns</p>\n",
       "</div>"
      ],
      "text/plain": [
       "     country  year   sex        age  suicides  population  sucid_in_hundredk  \\\n",
       "0  Argentina  1985  male  75+ years       202      363000              55.65   \n",
       "1  Argentina  1985  male  75+ years       202      363000              55.65   \n",
       "\n",
       "    country-year    yearly_gdp  gdp_per_capita  ... unemployment  \\\n",
       "0  Argentina1985  8.841667e+10            3264  ...          0.0   \n",
       "1  Argentina1985  8.841667e+10            3264  ...          0.0   \n",
       "\n",
       "   physician_price  laborforcetotal  lifeexpectancy  mobilesubscriptions  \\\n",
       "0              0.0                0             0.0                  0.0   \n",
       "1              0.0                0             0.0                  0.0   \n",
       "\n",
       "   refugees  selfemployed  electricityacess  continent  country_code  \n",
       "0       0.0           0.0               0.0   Americas           ARG  \n",
       "1       0.0           0.0               0.0   Americas           ARG  \n",
       "\n",
       "[2 rows x 25 columns]"
      ]
     },
     "execution_count": 50,
     "metadata": {},
     "output_type": "execute_result"
    }
   ],
   "source": [
    "final.head(2)"
   ]
  },
  {
   "cell_type": "code",
   "execution_count": null,
   "metadata": {
    "id": "15f0e3cb"
   },
   "outputs": [],
   "source": []
  },
  {
   "cell_type": "code",
   "execution_count": 51,
   "metadata": {
    "colab": {
     "base_uri": "https://localhost:8080/"
    },
    "id": "6fdc0f3a",
    "outputId": "828e4667-2cc8-46e7-c1d7-849269d57765"
   },
   "outputs": [
    {
     "data": {
      "text/plain": [
       "(4577800, 25)"
      ]
     },
     "execution_count": 51,
     "metadata": {},
     "output_type": "execute_result"
    }
   ],
   "source": [
    "final.shape"
   ]
  },
  {
   "cell_type": "code",
   "execution_count": 52,
   "metadata": {
    "colab": {
     "base_uri": "https://localhost:8080/"
    },
    "id": "1843ec05",
    "outputId": "7560b78d-9084-4d4a-ac98-59f26d720692"
   },
   "outputs": [
    {
     "data": {
      "text/plain": [
       "Index(['country', 'year', 'sex', 'age', 'suicides', 'population',\n",
       "       'sucid_in_hundredk', 'country-year', 'yearly_gdp', 'gdp_per_capita',\n",
       "       'generation', 'suicide%', 'internetusers', 'expenses',\n",
       "       'employeecompensation', 'unemployment', 'physician_price',\n",
       "       'laborforcetotal', 'lifeexpectancy', 'mobilesubscriptions', 'refugees',\n",
       "       'selfemployed', 'electricityacess', 'continent', 'country_code'],\n",
       "      dtype='object')"
      ]
     },
     "execution_count": 52,
     "metadata": {},
     "output_type": "execute_result"
    }
   ],
   "source": [
    "final.columns"
   ]
  },
  {
   "cell_type": "code",
   "execution_count": 53,
   "metadata": {
    "colab": {
     "base_uri": "https://localhost:8080/"
    },
    "id": "41330371",
    "outputId": "4bd843b6-b62b-48ae-b987-41d4561e5942"
   },
   "outputs": [
    {
     "data": {
      "text/plain": [
       "Index(['country', 'year', 'sex', 'age', 'suicides', 'population',\n",
       "       'sucid_in_hundredk', 'country-year', 'yearly_gdp', 'gdp_per_capita',\n",
       "       'generation', 'suicide%', 'internetusers', 'expenses',\n",
       "       'employeecompensation', 'unemployment', 'physician_price',\n",
       "       'laborforcetotal', 'lifeexpectancy', 'mobilesubscriptions', 'refugees',\n",
       "       'selfemployed', 'electricityacess', 'continent', 'country_code'],\n",
       "      dtype='object')"
      ]
     },
     "execution_count": 53,
     "metadata": {},
     "output_type": "execute_result"
    }
   ],
   "source": [
    "final.columns"
   ]
  },
  {
   "cell_type": "code",
   "execution_count": 54,
   "metadata": {
    "id": "b898ee43"
   },
   "outputs": [],
   "source": [
    "final['internetusers'] = final['internetusers'].replace(r'^\\s*$', np.nan, regex=True)\n",
    "final['unemployment'] = final['unemployment'].replace(r'^\\s*$', np.nan, regex=True)\n",
    "final['physician_price'] = final['physician_price'].replace(r'^\\s*$', np.nan, regex=True)\n",
    "final['internetusers'] = final['internetusers'].replace(r'^\\s*$', np.nan, regex=True)\n",
    "final['laborforcetotal'] = final['laborforcetotal'].replace(r'^\\s*$', np.nan, regex=True)\n",
    "final['selfemployed'] = final['selfemployed'].replace(r'^\\s*$', np.nan, regex=True)\n",
    "final['electricityacess'] = final['electricityacess'].replace(r'^\\s*$', np.nan, regex=True)\n",
    "final['lifeexpectancy'] = final['lifeexpectancy'].replace(r'^\\s*$', np.nan, regex=True)\n",
    "final['mobilesubscription'] = final['mobilesubscriptions'].replace(r'^\\s*$', np.nan, regex=True)\n",
    "final['refugees'] = final['refugees'].replace(r'^\\s*$', np.nan, regex=True)\n",
    "final['expenses'] = final['expenses'].replace(r'^\\s*$', np.nan, regex=True)\n",
    "final['employeecompensation'] = final['employeecompensation'].replace(r'^\\s*$', np.nan, regex=True)\n",
    "final['physician_price'] = final['physician_price'].replace(r'^\\s*$', np.nan, regex=True)"
   ]
  },
  {
   "cell_type": "code",
   "execution_count": 55,
   "metadata": {
    "id": "cbd74302"
   },
   "outputs": [],
   "source": [
    "final.loc[ final['internetusers'] == 0 | np.isnan(final['internetusers']), 'internetusers' ] = final['internetusers'].mean()\n",
    "final.loc[ final['unemployment'] == 0 | np.isnan(final['unemployment']), 'unemployment' ] = final['unemployment'].mean()\n",
    "final.loc[ final['physician_price'] == 0 | np.isnan(final['physician_price']), 'physician_price' ] = final['physician_price'].min()\n",
    "final.loc[ final['laborforcetotal'] == 0 | np.isnan(final['laborforcetotal']), 'laborforcetotal' ] = final['laborforcetotal'].mean()\n",
    "final.loc[ final['selfemployed'] == 0 | np.isnan(final['selfemployed']), 'selfemployed' ] = final['selfemployed'].mean()\n",
    "final.loc[ final['electricityacess'] == 0 | np.isnan(final['electricityacess']), 'electricityacess' ] = final['electricityacess'].mean()\n",
    "final.loc[ final['lifeexpectancy'] == 0 | np.isnan(final['lifeexpectancy']), 'lifeexpectancy' ] = final['lifeexpectancy'].mean()\n",
    "final.loc[ final['mobilesubscriptions'] == 0 | np.isnan(final['mobilesubscriptions']), 'mobilesubscriptions' ] = final['mobilesubscriptions'].mean()\n",
    "final.loc[ final['refugees'] == 0 | np.isnan(final['refugees']), 'refugees' ] = final['refugees'].mean()\n",
    "final.loc[ final['expenses'] == 0 | np.isnan(final['expenses']), 'expenses' ] = final['expenses'].mean()\n",
    "final.loc[ final['employeecompensation'] == 0 | np.isnan(final['employeecompensation']), 'employeecompensation' ] = final['employeecompensation'].mean()\n",
    "final.loc[ final['physician_price'] == 0 | np.isnan(final['physician_price']), 'physician_price' ] = final['physician_price'].mean()"
   ]
  },
  {
   "cell_type": "code",
   "execution_count": 56,
   "metadata": {
    "colab": {
     "base_uri": "https://localhost:8080/",
     "height": 832
    },
    "id": "jtZ8dJvngMzm",
    "outputId": "4e16cba9-8753-4bb7-8efc-a8fd59165fdf"
   },
   "outputs": [
    {
     "data": {
      "text/html": [
       "<div>\n",
       "<style scoped>\n",
       "    .dataframe tbody tr th:only-of-type {\n",
       "        vertical-align: middle;\n",
       "    }\n",
       "\n",
       "    .dataframe tbody tr th {\n",
       "        vertical-align: top;\n",
       "    }\n",
       "\n",
       "    .dataframe thead th {\n",
       "        text-align: right;\n",
       "    }\n",
       "</style>\n",
       "<table border=\"1\" class=\"dataframe\">\n",
       "  <thead>\n",
       "    <tr style=\"text-align: right;\">\n",
       "      <th></th>\n",
       "      <th>country</th>\n",
       "      <th>year</th>\n",
       "      <th>sex</th>\n",
       "      <th>age</th>\n",
       "      <th>suicides</th>\n",
       "      <th>population</th>\n",
       "      <th>sucid_in_hundredk</th>\n",
       "      <th>country-year</th>\n",
       "      <th>yearly_gdp</th>\n",
       "      <th>gdp_per_capita</th>\n",
       "      <th>...</th>\n",
       "      <th>physician_price</th>\n",
       "      <th>laborforcetotal</th>\n",
       "      <th>lifeexpectancy</th>\n",
       "      <th>mobilesubscriptions</th>\n",
       "      <th>refugees</th>\n",
       "      <th>selfemployed</th>\n",
       "      <th>electricityacess</th>\n",
       "      <th>continent</th>\n",
       "      <th>country_code</th>\n",
       "      <th>mobilesubscription</th>\n",
       "    </tr>\n",
       "  </thead>\n",
       "  <tbody>\n",
       "    <tr>\n",
       "      <th>0</th>\n",
       "      <td>Argentina</td>\n",
       "      <td>1985</td>\n",
       "      <td>male</td>\n",
       "      <td>75+ years</td>\n",
       "      <td>202</td>\n",
       "      <td>363000</td>\n",
       "      <td>55.65</td>\n",
       "      <td>Argentina1985</td>\n",
       "      <td>8.841667e+10</td>\n",
       "      <td>3264</td>\n",
       "      <td>...</td>\n",
       "      <td>1.786649</td>\n",
       "      <td>1.086294e+07</td>\n",
       "      <td>49.730922</td>\n",
       "      <td>44.584545</td>\n",
       "      <td>9819.245469</td>\n",
       "      <td>2.106663</td>\n",
       "      <td>63.795524</td>\n",
       "      <td>Americas</td>\n",
       "      <td>ARG</td>\n",
       "      <td>0.0</td>\n",
       "    </tr>\n",
       "    <tr>\n",
       "      <th>1</th>\n",
       "      <td>Argentina</td>\n",
       "      <td>1985</td>\n",
       "      <td>male</td>\n",
       "      <td>75+ years</td>\n",
       "      <td>202</td>\n",
       "      <td>363000</td>\n",
       "      <td>55.65</td>\n",
       "      <td>Argentina1985</td>\n",
       "      <td>8.841667e+10</td>\n",
       "      <td>3264</td>\n",
       "      <td>...</td>\n",
       "      <td>1.786649</td>\n",
       "      <td>1.086294e+07</td>\n",
       "      <td>49.730922</td>\n",
       "      <td>44.584545</td>\n",
       "      <td>9819.245469</td>\n",
       "      <td>2.106663</td>\n",
       "      <td>63.795524</td>\n",
       "      <td>Americas</td>\n",
       "      <td>ARG</td>\n",
       "      <td>0.0</td>\n",
       "    </tr>\n",
       "    <tr>\n",
       "      <th>2</th>\n",
       "      <td>Argentina</td>\n",
       "      <td>1985</td>\n",
       "      <td>male</td>\n",
       "      <td>75+ years</td>\n",
       "      <td>202</td>\n",
       "      <td>363000</td>\n",
       "      <td>55.65</td>\n",
       "      <td>Argentina1985</td>\n",
       "      <td>8.841667e+10</td>\n",
       "      <td>3264</td>\n",
       "      <td>...</td>\n",
       "      <td>1.786649</td>\n",
       "      <td>1.086294e+07</td>\n",
       "      <td>49.730922</td>\n",
       "      <td>44.584545</td>\n",
       "      <td>9819.245469</td>\n",
       "      <td>2.106663</td>\n",
       "      <td>63.795524</td>\n",
       "      <td>Americas</td>\n",
       "      <td>ARG</td>\n",
       "      <td>0.0</td>\n",
       "    </tr>\n",
       "    <tr>\n",
       "      <th>3</th>\n",
       "      <td>Argentina</td>\n",
       "      <td>1985</td>\n",
       "      <td>male</td>\n",
       "      <td>75+ years</td>\n",
       "      <td>202</td>\n",
       "      <td>363000</td>\n",
       "      <td>55.65</td>\n",
       "      <td>Argentina1985</td>\n",
       "      <td>8.841667e+10</td>\n",
       "      <td>3264</td>\n",
       "      <td>...</td>\n",
       "      <td>1.786649</td>\n",
       "      <td>1.086294e+07</td>\n",
       "      <td>49.730922</td>\n",
       "      <td>44.584545</td>\n",
       "      <td>9819.245469</td>\n",
       "      <td>2.106663</td>\n",
       "      <td>63.795524</td>\n",
       "      <td>Americas</td>\n",
       "      <td>ARG</td>\n",
       "      <td>0.0</td>\n",
       "    </tr>\n",
       "    <tr>\n",
       "      <th>4</th>\n",
       "      <td>Argentina</td>\n",
       "      <td>1985</td>\n",
       "      <td>male</td>\n",
       "      <td>75+ years</td>\n",
       "      <td>202</td>\n",
       "      <td>363000</td>\n",
       "      <td>55.65</td>\n",
       "      <td>Argentina1985</td>\n",
       "      <td>8.841667e+10</td>\n",
       "      <td>3264</td>\n",
       "      <td>...</td>\n",
       "      <td>1.786649</td>\n",
       "      <td>1.086294e+07</td>\n",
       "      <td>49.730922</td>\n",
       "      <td>44.584545</td>\n",
       "      <td>9819.245469</td>\n",
       "      <td>2.106663</td>\n",
       "      <td>63.795524</td>\n",
       "      <td>Americas</td>\n",
       "      <td>ARG</td>\n",
       "      <td>0.0</td>\n",
       "    </tr>\n",
       "    <tr>\n",
       "      <th>...</th>\n",
       "      <td>...</td>\n",
       "      <td>...</td>\n",
       "      <td>...</td>\n",
       "      <td>...</td>\n",
       "      <td>...</td>\n",
       "      <td>...</td>\n",
       "      <td>...</td>\n",
       "      <td>...</td>\n",
       "      <td>...</td>\n",
       "      <td>...</td>\n",
       "      <td>...</td>\n",
       "      <td>...</td>\n",
       "      <td>...</td>\n",
       "      <td>...</td>\n",
       "      <td>...</td>\n",
       "      <td>...</td>\n",
       "      <td>...</td>\n",
       "      <td>...</td>\n",
       "      <td>...</td>\n",
       "      <td>...</td>\n",
       "      <td>...</td>\n",
       "    </tr>\n",
       "    <tr>\n",
       "      <th>4733127</th>\n",
       "      <td>Ukraine</td>\n",
       "      <td>2015</td>\n",
       "      <td>female</td>\n",
       "      <td>5-14 years</td>\n",
       "      <td>19</td>\n",
       "      <td>2010824</td>\n",
       "      <td>0.94</td>\n",
       "      <td>Ukraine2015</td>\n",
       "      <td>9.103096e+10</td>\n",
       "      <td>2256</td>\n",
       "      <td>...</td>\n",
       "      <td>1.786649</td>\n",
       "      <td>1.086294e+07</td>\n",
       "      <td>49.730922</td>\n",
       "      <td>44.584545</td>\n",
       "      <td>9819.245469</td>\n",
       "      <td>2.106663</td>\n",
       "      <td>63.795524</td>\n",
       "      <td>Europe</td>\n",
       "      <td>UKR</td>\n",
       "      <td>0.0</td>\n",
       "    </tr>\n",
       "    <tr>\n",
       "      <th>4733128</th>\n",
       "      <td>Ukraine</td>\n",
       "      <td>2015</td>\n",
       "      <td>female</td>\n",
       "      <td>5-14 years</td>\n",
       "      <td>19</td>\n",
       "      <td>2010824</td>\n",
       "      <td>0.94</td>\n",
       "      <td>Ukraine2015</td>\n",
       "      <td>9.103096e+10</td>\n",
       "      <td>2256</td>\n",
       "      <td>...</td>\n",
       "      <td>1.786649</td>\n",
       "      <td>1.086294e+07</td>\n",
       "      <td>49.730922</td>\n",
       "      <td>44.584545</td>\n",
       "      <td>9819.245469</td>\n",
       "      <td>2.106663</td>\n",
       "      <td>63.795524</td>\n",
       "      <td>Europe</td>\n",
       "      <td>UKR</td>\n",
       "      <td>0.0</td>\n",
       "    </tr>\n",
       "    <tr>\n",
       "      <th>4733129</th>\n",
       "      <td>Ukraine</td>\n",
       "      <td>2015</td>\n",
       "      <td>female</td>\n",
       "      <td>5-14 years</td>\n",
       "      <td>19</td>\n",
       "      <td>2010824</td>\n",
       "      <td>0.94</td>\n",
       "      <td>Ukraine2015</td>\n",
       "      <td>9.103096e+10</td>\n",
       "      <td>2256</td>\n",
       "      <td>...</td>\n",
       "      <td>1.786649</td>\n",
       "      <td>1.086294e+07</td>\n",
       "      <td>49.730922</td>\n",
       "      <td>44.584545</td>\n",
       "      <td>9819.245469</td>\n",
       "      <td>2.106663</td>\n",
       "      <td>63.795524</td>\n",
       "      <td>Europe</td>\n",
       "      <td>UKR</td>\n",
       "      <td>0.0</td>\n",
       "    </tr>\n",
       "    <tr>\n",
       "      <th>4733130</th>\n",
       "      <td>Ukraine</td>\n",
       "      <td>2015</td>\n",
       "      <td>female</td>\n",
       "      <td>5-14 years</td>\n",
       "      <td>19</td>\n",
       "      <td>2010824</td>\n",
       "      <td>0.94</td>\n",
       "      <td>Ukraine2015</td>\n",
       "      <td>9.103096e+10</td>\n",
       "      <td>2256</td>\n",
       "      <td>...</td>\n",
       "      <td>1.786649</td>\n",
       "      <td>1.086294e+07</td>\n",
       "      <td>49.730922</td>\n",
       "      <td>44.584545</td>\n",
       "      <td>9819.245469</td>\n",
       "      <td>2.106663</td>\n",
       "      <td>63.795524</td>\n",
       "      <td>Europe</td>\n",
       "      <td>UKR</td>\n",
       "      <td>0.0</td>\n",
       "    </tr>\n",
       "    <tr>\n",
       "      <th>4733131</th>\n",
       "      <td>Ukraine</td>\n",
       "      <td>2015</td>\n",
       "      <td>female</td>\n",
       "      <td>5-14 years</td>\n",
       "      <td>19</td>\n",
       "      <td>2010824</td>\n",
       "      <td>0.94</td>\n",
       "      <td>Ukraine2015</td>\n",
       "      <td>9.103096e+10</td>\n",
       "      <td>2256</td>\n",
       "      <td>...</td>\n",
       "      <td>1.786649</td>\n",
       "      <td>1.086294e+07</td>\n",
       "      <td>49.730922</td>\n",
       "      <td>44.584545</td>\n",
       "      <td>9819.245469</td>\n",
       "      <td>2.106663</td>\n",
       "      <td>63.795524</td>\n",
       "      <td>Europe</td>\n",
       "      <td>UKR</td>\n",
       "      <td>0.0</td>\n",
       "    </tr>\n",
       "  </tbody>\n",
       "</table>\n",
       "<p>4577800 rows × 26 columns</p>\n",
       "</div>"
      ],
      "text/plain": [
       "           country  year     sex         age  suicides  population  \\\n",
       "0        Argentina  1985    male   75+ years       202      363000   \n",
       "1        Argentina  1985    male   75+ years       202      363000   \n",
       "2        Argentina  1985    male   75+ years       202      363000   \n",
       "3        Argentina  1985    male   75+ years       202      363000   \n",
       "4        Argentina  1985    male   75+ years       202      363000   \n",
       "...            ...   ...     ...         ...       ...         ...   \n",
       "4733127    Ukraine  2015  female  5-14 years        19     2010824   \n",
       "4733128    Ukraine  2015  female  5-14 years        19     2010824   \n",
       "4733129    Ukraine  2015  female  5-14 years        19     2010824   \n",
       "4733130    Ukraine  2015  female  5-14 years        19     2010824   \n",
       "4733131    Ukraine  2015  female  5-14 years        19     2010824   \n",
       "\n",
       "         sucid_in_hundredk   country-year    yearly_gdp  gdp_per_capita  ...  \\\n",
       "0                    55.65  Argentina1985  8.841667e+10            3264  ...   \n",
       "1                    55.65  Argentina1985  8.841667e+10            3264  ...   \n",
       "2                    55.65  Argentina1985  8.841667e+10            3264  ...   \n",
       "3                    55.65  Argentina1985  8.841667e+10            3264  ...   \n",
       "4                    55.65  Argentina1985  8.841667e+10            3264  ...   \n",
       "...                    ...            ...           ...             ...  ...   \n",
       "4733127               0.94    Ukraine2015  9.103096e+10            2256  ...   \n",
       "4733128               0.94    Ukraine2015  9.103096e+10            2256  ...   \n",
       "4733129               0.94    Ukraine2015  9.103096e+10            2256  ...   \n",
       "4733130               0.94    Ukraine2015  9.103096e+10            2256  ...   \n",
       "4733131               0.94    Ukraine2015  9.103096e+10            2256  ...   \n",
       "\n",
       "        physician_price  laborforcetotal  lifeexpectancy  mobilesubscriptions  \\\n",
       "0              1.786649     1.086294e+07       49.730922            44.584545   \n",
       "1              1.786649     1.086294e+07       49.730922            44.584545   \n",
       "2              1.786649     1.086294e+07       49.730922            44.584545   \n",
       "3              1.786649     1.086294e+07       49.730922            44.584545   \n",
       "4              1.786649     1.086294e+07       49.730922            44.584545   \n",
       "...                 ...              ...             ...                  ...   \n",
       "4733127        1.786649     1.086294e+07       49.730922            44.584545   \n",
       "4733128        1.786649     1.086294e+07       49.730922            44.584545   \n",
       "4733129        1.786649     1.086294e+07       49.730922            44.584545   \n",
       "4733130        1.786649     1.086294e+07       49.730922            44.584545   \n",
       "4733131        1.786649     1.086294e+07       49.730922            44.584545   \n",
       "\n",
       "            refugees  selfemployed  electricityacess  continent  country_code  \\\n",
       "0        9819.245469      2.106663         63.795524   Americas           ARG   \n",
       "1        9819.245469      2.106663         63.795524   Americas           ARG   \n",
       "2        9819.245469      2.106663         63.795524   Americas           ARG   \n",
       "3        9819.245469      2.106663         63.795524   Americas           ARG   \n",
       "4        9819.245469      2.106663         63.795524   Americas           ARG   \n",
       "...              ...           ...               ...        ...           ...   \n",
       "4733127  9819.245469      2.106663         63.795524     Europe           UKR   \n",
       "4733128  9819.245469      2.106663         63.795524     Europe           UKR   \n",
       "4733129  9819.245469      2.106663         63.795524     Europe           UKR   \n",
       "4733130  9819.245469      2.106663         63.795524     Europe           UKR   \n",
       "4733131  9819.245469      2.106663         63.795524     Europe           UKR   \n",
       "\n",
       "         mobilesubscription  \n",
       "0                       0.0  \n",
       "1                       0.0  \n",
       "2                       0.0  \n",
       "3                       0.0  \n",
       "4                       0.0  \n",
       "...                     ...  \n",
       "4733127                 0.0  \n",
       "4733128                 0.0  \n",
       "4733129                 0.0  \n",
       "4733130                 0.0  \n",
       "4733131                 0.0  \n",
       "\n",
       "[4577800 rows x 26 columns]"
      ]
     },
     "execution_count": 56,
     "metadata": {},
     "output_type": "execute_result"
    }
   ],
   "source": [
    "final"
   ]
  },
  {
   "cell_type": "code",
   "execution_count": 57,
   "metadata": {
    "colab": {
     "base_uri": "https://localhost:8080/"
    },
    "id": "8d45a4dd",
    "outputId": "5eab7df4-7994-40a8-808c-d9a9e67ced89"
   },
   "outputs": [
    {
     "name": "stderr",
     "output_type": "stream",
     "text": [
      "/home/devendra/anaconda3/lib/python3.7/site-packages/ipykernel_launcher.py:1: FutureWarning: Dropping of nuisance columns in DataFrame reductions (with 'numeric_only=None') is deprecated; in a future version this will raise TypeError.  Select only valid columns before calling the reduction.\n",
      "  \"\"\"Entry point for launching an IPython kernel.\n"
     ]
    }
   ],
   "source": [
    "final.fillna(df.mean(), inplace=True)"
   ]
  },
  {
   "cell_type": "code",
   "execution_count": 58,
   "metadata": {
    "colab": {
     "base_uri": "https://localhost:8080/"
    },
    "id": "nm9OobVm2jPi",
    "outputId": "52add686-0fe5-4b66-e69b-2b22f916fe20"
   },
   "outputs": [
    {
     "data": {
      "text/plain": [
       "(4577800, 26)"
      ]
     },
     "execution_count": 58,
     "metadata": {},
     "output_type": "execute_result"
    }
   ],
   "source": [
    "final.shape"
   ]
  },
  {
   "cell_type": "code",
   "execution_count": 59,
   "metadata": {
    "colab": {
     "base_uri": "https://localhost:8080/"
    },
    "id": "76d0024b",
    "outputId": "ca399fa5-99bd-4f0b-9233-948e0d521dc4"
   },
   "outputs": [
    {
     "data": {
      "text/plain": [
       "Index(['country', 'year', 'sex', 'age', 'suicides', 'population',\n",
       "       'sucid_in_hundredk', 'country-year', 'yearly_gdp', 'gdp_per_capita',\n",
       "       'generation', 'suicide%', 'internetusers', 'expenses',\n",
       "       'employeecompensation', 'unemployment', 'physician_price',\n",
       "       'laborforcetotal', 'lifeexpectancy', 'mobilesubscriptions', 'refugees',\n",
       "       'selfemployed', 'electricityacess', 'continent', 'country_code',\n",
       "       'mobilesubscription'],\n",
       "      dtype='object')"
      ]
     },
     "execution_count": 59,
     "metadata": {},
     "output_type": "execute_result"
    }
   ],
   "source": [
    "final.columns"
   ]
  },
  {
   "cell_type": "code",
   "execution_count": null,
   "metadata": {
    "id": "OZEekpMTnnjB"
   },
   "outputs": [],
   "source": []
  },
  {
   "cell_type": "code",
   "execution_count": 60,
   "metadata": {
    "id": "079544f9"
   },
   "outputs": [],
   "source": [
    "# define function called plot_box\n",
    "def plot_box(final, ft):\n",
    "    final.boxplot(column=[ft])\n",
    "    plt.grid(False)\n",
    "    plt.show()"
   ]
  },
  {
   "cell_type": "code",
   "execution_count": 61,
   "metadata": {
    "colab": {
     "base_uri": "https://localhost:8080/",
     "height": 265
    },
    "id": "2836bf87",
    "outputId": "934b5776-66ea-4277-bb83-074a9dc6e137"
   },
   "outputs": [
    {
     "data": {
      "image/png": "[encoded data removed]",
      "text/plain": [
       "<Figure size 432x288 with 1 Axes>"
      ]
     },
     "metadata": {
      "needs_background": "light"
     },
     "output_type": "display_data"
    }
   ],
   "source": [
    "# plot the diagram\n",
    "plot_box(final, \"suicides\")"
   ]
  },
  {
   "cell_type": "code",
   "execution_count": 62,
   "metadata": {
    "colab": {
     "base_uri": "https://localhost:8080/"
    },
    "id": "clINmehYoEzq",
    "outputId": "8b57de6a-3bdf-4cc6-b417-8853d5133795"
   },
   "outputs": [
    {
     "data": {
      "text/plain": [
       "0          202\n",
       "1          202\n",
       "2          202\n",
       "3          202\n",
       "4          202\n",
       "          ... \n",
       "4733127     19\n",
       "4733128     19\n",
       "4733129     19\n",
       "4733130     19\n",
       "4733131     19\n",
       "Name: suicides, Length: 4577800, dtype: int64"
      ]
     },
     "execution_count": 62,
     "metadata": {},
     "output_type": "execute_result"
    }
   ],
   "source": [
    "final.suicides"
   ]
  },
  {
   "cell_type": "code",
   "execution_count": 63,
   "metadata": {
    "colab": {
     "base_uri": "https://localhost:8080/",
     "height": 276
    },
    "id": "beea177b",
    "outputId": "54f95b2c-be82-4c4c-aa99-32ffd28f4b4b"
   },
   "outputs": [
    {
     "data": {
      "image/png": "[encoded data removed]",
      "text/plain": [
       "<Figure size 432x288 with 1 Axes>"
      ]
     },
     "metadata": {
      "needs_background": "light"
     },
     "output_type": "display_data"
    }
   ],
   "source": [
    "# plot the diagram\n",
    "plot_box(final, \"population\")"
   ]
  },
  {
   "cell_type": "code",
   "execution_count": 64,
   "metadata": {
    "colab": {
     "base_uri": "https://localhost:8080/",
     "height": 267
    },
    "id": "e41f77c4",
    "outputId": "df51ec48-ca8b-4f1c-ef50-0f456fbcd1e5"
   },
   "outputs": [
    {
     "data": {
      "image/png": "[encoded data removed]",
      "text/plain": [
       "<Figure size 432x288 with 1 Axes>"
      ]
     },
     "metadata": {
      "needs_background": "light"
     },
     "output_type": "display_data"
    }
   ],
   "source": [
    "plot_box(final, \"internetusers\")\n"
   ]
  },
  {
   "cell_type": "code",
   "execution_count": 65,
   "metadata": {
    "colab": {
     "base_uri": "https://localhost:8080/"
    },
    "id": "31c70439",
    "outputId": "a07c83f5-8825-46ec-f1c1-9cbabcde3e8b"
   },
   "outputs": [
    {
     "data": {
      "text/plain": [
       "(4577800, 26)"
      ]
     },
     "execution_count": 65,
     "metadata": {},
     "output_type": "execute_result"
    }
   ],
   "source": [
    "final.shape"
   ]
  },
  {
   "cell_type": "code",
   "execution_count": 66,
   "metadata": {
    "colab": {
     "base_uri": "https://localhost:8080/"
    },
    "id": "8bd277c3",
    "outputId": "bff07a10-1e6a-434b-fe14-376d36e56fcb"
   },
   "outputs": [
    {
     "data": {
      "text/plain": [
       "Index(['country', 'year', 'sex', 'age', 'suicides', 'population',\n",
       "       'sucid_in_hundredk', 'country-year', 'yearly_gdp', 'gdp_per_capita',\n",
       "       'generation', 'suicide%', 'internetusers', 'expenses',\n",
       "       'employeecompensation', 'unemployment', 'physician_price',\n",
       "       'laborforcetotal', 'lifeexpectancy', 'mobilesubscriptions', 'refugees',\n",
       "       'selfemployed', 'electricityacess', 'continent', 'country_code',\n",
       "       'mobilesubscription'],\n",
       "      dtype='object')"
      ]
     },
     "execution_count": 66,
     "metadata": {},
     "output_type": "execute_result"
    }
   ],
   "source": [
    "final.columns"
   ]
  },
  {
   "cell_type": "code",
   "execution_count": 67,
   "metadata": {
    "id": "7dad9952"
   },
   "outputs": [],
   "source": [
    "final.loc[:, 'expenses':'refugees'] = final.loc[:, 'expenses':'refugees'].fillna(final['employeecompensation'].mean()) "
   ]
  },
  {
   "cell_type": "code",
   "execution_count": 68,
   "metadata": {
    "colab": {
     "base_uri": "https://localhost:8080/"
    },
    "id": "6eefb50b",
    "outputId": "3c9bf3c5-4c0b-485c-b014-2168bb80cad2"
   },
   "outputs": [
    {
     "data": {
      "text/plain": [
       "country                 0\n",
       "year                    0\n",
       "sex                     0\n",
       "age                     0\n",
       "suicides                0\n",
       "population              0\n",
       "sucid_in_hundredk       0\n",
       "country-year            0\n",
       "yearly_gdp              0\n",
       "gdp_per_capita          0\n",
       "generation              0\n",
       "suicide%                0\n",
       "internetusers           0\n",
       "expenses                0\n",
       "employeecompensation    0\n",
       "unemployment            0\n",
       "physician_price         0\n",
       "laborforcetotal         0\n",
       "lifeexpectancy          0\n",
       "mobilesubscriptions     0\n",
       "refugees                0\n",
       "selfemployed            0\n",
       "electricityacess        0\n",
       "continent               0\n",
       "country_code            0\n",
       "mobilesubscription      0\n",
       "dtype: int64"
      ]
     },
     "execution_count": 68,
     "metadata": {},
     "output_type": "execute_result"
    }
   ],
   "source": [
    "final.isnull().sum()"
   ]
  },
  {
   "cell_type": "code",
   "execution_count": 69,
   "metadata": {
    "colab": {
     "base_uri": "https://localhost:8080/"
    },
    "id": "d6d55db1",
    "outputId": "3e6bd142-d3cb-4d12-eec5-cff108b0844b"
   },
   "outputs": [
    {
     "name": "stdout",
     "output_type": "stream",
     "text": [
      "<class 'pandas.core.frame.DataFrame'>\n",
      "Int64Index: 4577800 entries, 0 to 4733131\n",
      "Data columns (total 26 columns):\n",
      " #   Column                Dtype   \n",
      "---  ------                -----   \n",
      " 0   country               category\n",
      " 1   year                  int64   \n",
      " 2   sex                   category\n",
      " 3   age                   category\n",
      " 4   suicides              int64   \n",
      " 5   population            int64   \n",
      " 6   sucid_in_hundredk     float64 \n",
      " 7   country-year          object  \n",
      " 8   yearly_gdp            float64 \n",
      " 9   gdp_per_capita        int64   \n",
      " 10  generation            category\n",
      " 11  suicide%              float64 \n",
      " 12  internetusers         float64 \n",
      " 13  expenses              float64 \n",
      " 14  employeecompensation  float64 \n",
      " 15  unemployment          float64 \n",
      " 16  physician_price       float64 \n",
      " 17  laborforcetotal       float64 \n",
      " 18  lifeexpectancy        float64 \n",
      " 19  mobilesubscriptions   float64 \n",
      " 20  refugees              float64 \n",
      " 21  selfemployed          float64 \n",
      " 22  electricityacess      float64 \n",
      " 23  continent             category\n",
      " 24  country_code          object  \n",
      " 25  mobilesubscription    float64 \n",
      "dtypes: category(5), float64(15), int64(4), object(2)\n",
      "memory usage: 790.2+ MB\n"
     ]
    }
   ],
   "source": [
    "final.info()"
   ]
  },
  {
   "cell_type": "code",
   "execution_count": 70,
   "metadata": {
    "colab": {
     "base_uri": "https://localhost:8080/"
    },
    "id": "-EoyZYVAqSyD",
    "outputId": "02f9b8df-4eb5-4f09-d47c-d36f301f1953"
   },
   "outputs": [
    {
     "data": {
      "text/plain": [
       "age\n",
       "15-24 years     61.03\n",
       "25-34 years     94.18\n",
       "35-54 years    117.30\n",
       "5-14 years       4.85\n",
       "55-74 years    103.86\n",
       "75+ years      177.61\n",
       "Name: sucid_in_hundredk, dtype: float64"
      ]
     },
     "execution_count": 70,
     "metadata": {},
     "output_type": "execute_result"
    }
   ],
   "source": [
    "final.groupby([\"age\"])[\"sucid_in_hundredk\"].max()"
   ]
  },
  {
   "cell_type": "code",
   "execution_count": 71,
   "metadata": {
    "colab": {
     "base_uri": "https://localhost:8080/"
    },
    "id": "1isFshkRqGwN",
    "outputId": "f38e6023-8861-425d-e52d-6b256a6b0ed7"
   },
   "outputs": [
    {
     "data": {
      "text/plain": [
       "age\n",
       "15-24 years     9.446426\n",
       "25-34 years    12.789376\n",
       "35-54 years    16.267829\n",
       "5-14 years      0.542988\n",
       "55-74 years    18.182706\n",
       "75+ years      27.826089\n",
       "Name: sucid_in_hundredk, dtype: float64"
      ]
     },
     "execution_count": 71,
     "metadata": {},
     "output_type": "execute_result"
    }
   ],
   "source": [
    "final.groupby([\"age\"])[\"sucid_in_hundredk\"].mean()"
   ]
  },
  {
   "cell_type": "code",
   "execution_count": 72,
   "metadata": {
    "colab": {
     "base_uri": "https://localhost:8080/"
    },
    "id": "2BOxt9h5oOfy",
    "outputId": "a42bd013-b8ec-4e6e-a2d2-f901eb6c946b"
   },
   "outputs": [
    {
     "data": {
      "text/plain": [
       "age\n",
       "15-24 years     8.807120\n",
       "25-34 years    12.358129\n",
       "35-54 years    15.377428\n",
       "5-14 years      0.573912\n",
       "55-74 years    15.705486\n",
       "75+ years      28.781797\n",
       "Name: sucid_in_hundredk, dtype: float64"
      ]
     },
     "execution_count": 72,
     "metadata": {},
     "output_type": "execute_result"
    }
   ],
   "source": [
    "final.groupby([\"age\"])[\"sucid_in_hundredk\"].std()"
   ]
  },
  {
   "cell_type": "code",
   "execution_count": 73,
   "metadata": {
    "id": "b5eccf4c"
   },
   "outputs": [],
   "source": [
    "final.to_csv('../processed_data/output.csv',mode = 'w', index=False)\n",
    "# outputting data to run models in live server"
   ]
  },
  {
   "cell_type": "code",
   "execution_count": null,
   "metadata": {
    "colab": {
     "base_uri": "https://localhost:8080/"
    },
    "id": "1_kELAb3FHOl",
    "outputId": "62af87ee-1668-4778-95cb-baf5d4d41fd6"
   },
   "outputs": [],
   "source": []
  },
  {
   "cell_type": "code",
   "execution_count": null,
   "metadata": {
    "id": "ZwgDPaPlFIF_"
   },
   "outputs": [],
   "source": []
  }
 ],
 "metadata": {
  "colab": {
   "name": "dissertation_suicide_data_preparation_2022.ipynb",
   "provenance": []
  },
  "interpreter": {
   "hash": "ad2bdc8ecc057115af97d19610ffacc2b4e99fae6737bb82f5d7fb13d2f2c186"
  },
  "kernelspec": {
   "display_name": "Python 3",
   "language": "python",
   "name": "python3"
  },
  "language_info": {
   "codemirror_mode": {
    "name": "ipython",
    "version": 3
   },
   "file_extension": ".py",
   "mimetype": "text/x-python",
   "name": "python",
   "nbconvert_exporter": "python",
   "pygments_lexer": "ipython3",
   "version": "3.7.4"
  }
 },
 "nbformat": 4,
 "nbformat_minor": 5
}
