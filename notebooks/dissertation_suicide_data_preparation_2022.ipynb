{
 "cells": [
  {
   "cell_type": "code",
   "execution_count": null,
   "metadata": {
    "id": "B68P79fRPPYM"
   },
   "outputs": [],
   "source": [
    "!pip install plotly"
   ]
  },
  {
   "cell_type": "code",
   "execution_count": 1,
   "metadata": {
    "id": "aa061b66",
    "scrolled": true
   },
   "outputs": [],
   "source": [
    "import statsmodels.api as sm\n",
    "import os\n",
    "import pandas as pd\n",
    "import seaborn as sns\n",
    "import matplotlib.pyplot as plt\n",
    "import numpy as np\n",
    "import scipy.stats as stats\n",
    "import plotly.express as px"
   ]
  },
  {
   "cell_type": "code",
   "execution_count": 2,
   "metadata": {
    "colab": {
     "base_uri": "https://localhost:8080/",
     "height": 206
    },
    "id": "0f26fdd3",
    "outputId": "b9362ed8-5206-4bb7-a2f9-df482b557eb5",
    "scrolled": true
   },
   "outputs": [
    {
     "data": {
      "text/html": [
       "<div>\n",
       "<style scoped>\n",
       "    .dataframe tbody tr th:only-of-type {\n",
       "        vertical-align: middle;\n",
       "    }\n",
       "\n",
       "    .dataframe tbody tr th {\n",
       "        vertical-align: top;\n",
       "    }\n",
       "\n",
       "    .dataframe thead th {\n",
       "        text-align: right;\n",
       "    }\n",
       "</style>\n",
       "<table border=\"1\" class=\"dataframe\">\n",
       "  <thead>\n",
       "    <tr style=\"text-align: right;\">\n",
       "      <th></th>\n",
       "      <th>country</th>\n",
       "      <th>code_2</th>\n",
       "      <th>code_3</th>\n",
       "      <th>country_code</th>\n",
       "      <th>iso_3166_2</th>\n",
       "      <th>continent</th>\n",
       "      <th>sub_region</th>\n",
       "      <th>region_code</th>\n",
       "      <th>sub_region_code</th>\n",
       "    </tr>\n",
       "  </thead>\n",
       "  <tbody>\n",
       "    <tr>\n",
       "      <th>0</th>\n",
       "      <td>Afghanistan</td>\n",
       "      <td>AF</td>\n",
       "      <td>AFG</td>\n",
       "      <td>4</td>\n",
       "      <td>ISO 3166-2:AF</td>\n",
       "      <td>Asia</td>\n",
       "      <td>Southern Asia</td>\n",
       "      <td>142.0</td>\n",
       "      <td>34.0</td>\n",
       "    </tr>\n",
       "    <tr>\n",
       "      <th>1</th>\n",
       "      <td>Åland Islands</td>\n",
       "      <td>AX</td>\n",
       "      <td>ALA</td>\n",
       "      <td>248</td>\n",
       "      <td>ISO 3166-2:AX</td>\n",
       "      <td>Europe</td>\n",
       "      <td>Northern Europe</td>\n",
       "      <td>150.0</td>\n",
       "      <td>154.0</td>\n",
       "    </tr>\n",
       "    <tr>\n",
       "      <th>2</th>\n",
       "      <td>Albania</td>\n",
       "      <td>AL</td>\n",
       "      <td>ALB</td>\n",
       "      <td>8</td>\n",
       "      <td>ISO 3166-2:AL</td>\n",
       "      <td>Europe</td>\n",
       "      <td>Southern Europe</td>\n",
       "      <td>150.0</td>\n",
       "      <td>39.0</td>\n",
       "    </tr>\n",
       "    <tr>\n",
       "      <th>3</th>\n",
       "      <td>Algeria</td>\n",
       "      <td>DZ</td>\n",
       "      <td>DZA</td>\n",
       "      <td>12</td>\n",
       "      <td>ISO 3166-2:DZ</td>\n",
       "      <td>Africa</td>\n",
       "      <td>Northern Africa</td>\n",
       "      <td>2.0</td>\n",
       "      <td>15.0</td>\n",
       "    </tr>\n",
       "    <tr>\n",
       "      <th>4</th>\n",
       "      <td>American Samoa</td>\n",
       "      <td>AS</td>\n",
       "      <td>ASM</td>\n",
       "      <td>16</td>\n",
       "      <td>ISO 3166-2:AS</td>\n",
       "      <td>Oceania</td>\n",
       "      <td>Polynesia</td>\n",
       "      <td>9.0</td>\n",
       "      <td>61.0</td>\n",
       "    </tr>\n",
       "  </tbody>\n",
       "</table>\n",
       "</div>"
      ],
      "text/plain": [
       "          country code_2 code_3  country_code     iso_3166_2 continent  \\\n",
       "0     Afghanistan     AF    AFG             4  ISO 3166-2:AF      Asia   \n",
       "1   Åland Islands     AX    ALA           248  ISO 3166-2:AX    Europe   \n",
       "2         Albania     AL    ALB             8  ISO 3166-2:AL    Europe   \n",
       "3         Algeria     DZ    DZA            12  ISO 3166-2:DZ    Africa   \n",
       "4  American Samoa     AS    ASM            16  ISO 3166-2:AS   Oceania   \n",
       "\n",
       "        sub_region  region_code  sub_region_code  \n",
       "0    Southern Asia        142.0             34.0  \n",
       "1  Northern Europe        150.0            154.0  \n",
       "2  Southern Europe        150.0             39.0  \n",
       "3  Northern Africa          2.0             15.0  \n",
       "4        Polynesia          9.0             61.0  "
      ]
     },
     "execution_count": 2,
     "metadata": {},
     "output_type": "execute_result"
    }
   ],
   "source": [
    "df_cont = pd.read_csv(\"../data/countryContinent.csv\", encoding=\"ISO-8859-1\")\n",
    "df_cont.head()"
   ]
  },
  {
   "cell_type": "code",
   "execution_count": 3,
   "metadata": {
    "colab": {
     "base_uri": "https://localhost:8080/",
     "height": 543
    },
    "id": "0479ce81",
    "outputId": "5d9c35f3-35c8-4058-c5c0-3af951f02569",
    "scrolled": false
   },
   "outputs": [
    {
     "data": {
      "text/html": [
       "<div>\n",
       "<style scoped>\n",
       "    .dataframe tbody tr th:only-of-type {\n",
       "        vertical-align: middle;\n",
       "    }\n",
       "\n",
       "    .dataframe tbody tr th {\n",
       "        vertical-align: top;\n",
       "    }\n",
       "\n",
       "    .dataframe thead th {\n",
       "        text-align: right;\n",
       "    }\n",
       "</style>\n",
       "<table border=\"1\" class=\"dataframe\">\n",
       "  <thead>\n",
       "    <tr style=\"text-align: right;\">\n",
       "      <th></th>\n",
       "      <th>country</th>\n",
       "      <th>year</th>\n",
       "      <th>sex</th>\n",
       "      <th>age</th>\n",
       "      <th>suicides_no</th>\n",
       "      <th>population</th>\n",
       "      <th>suicidesper100k</th>\n",
       "      <th>country-year</th>\n",
       "      <th>yearlyHDI</th>\n",
       "      <th>GDPpyear</th>\n",
       "      <th>...</th>\n",
       "      <th>Unemployment, total (% of total labor force) (modeled ILO estimate)</th>\n",
       "      <th>Physicians (per 1,000 people)</th>\n",
       "      <th>Strength of legal rights index (0=weak to 12=strong)</th>\n",
       "      <th>Labor force, total</th>\n",
       "      <th>Life expectancy at birth, total (years)</th>\n",
       "      <th>Mobile cellular subscriptions (per 100 people)</th>\n",
       "      <th>Refugee population by country or territory of origin</th>\n",
       "      <th>Contributing family workers, total (% of total employment) (modeled ILO estimate)</th>\n",
       "      <th>Access to electricity (% of population)</th>\n",
       "      <th>Lower secondary completion rate, total (% of relevant age group)</th>\n",
       "    </tr>\n",
       "  </thead>\n",
       "  <tbody>\n",
       "    <tr>\n",
       "      <th>15105</th>\n",
       "      <td>Uzbekistan</td>\n",
       "      <td>2014</td>\n",
       "      <td>female</td>\n",
       "      <td>35-54 years</td>\n",
       "      <td>107</td>\n",
       "      <td>3620833</td>\n",
       "      <td>2.96</td>\n",
       "      <td>Uzbekistan2014</td>\n",
       "      <td>0.675</td>\n",
       "      <td>6.306708e+10</td>\n",
       "      <td>...</td>\n",
       "      <td>0.0</td>\n",
       "      <td>0.0</td>\n",
       "      <td>0.0</td>\n",
       "      <td>0</td>\n",
       "      <td>0.0</td>\n",
       "      <td>0.0</td>\n",
       "      <td>0.0</td>\n",
       "      <td>0.0</td>\n",
       "      <td>0.0</td>\n",
       "      <td>0.0</td>\n",
       "    </tr>\n",
       "    <tr>\n",
       "      <th>15106</th>\n",
       "      <td>Uzbekistan</td>\n",
       "      <td>2014</td>\n",
       "      <td>female</td>\n",
       "      <td>75+ years</td>\n",
       "      <td>9</td>\n",
       "      <td>348465</td>\n",
       "      <td>2.58</td>\n",
       "      <td>Uzbekistan2014</td>\n",
       "      <td>0.675</td>\n",
       "      <td>6.306708e+10</td>\n",
       "      <td>...</td>\n",
       "      <td>0.0</td>\n",
       "      <td>0.0</td>\n",
       "      <td>0.0</td>\n",
       "      <td>0</td>\n",
       "      <td>0.0</td>\n",
       "      <td>0.0</td>\n",
       "      <td>0.0</td>\n",
       "      <td>0.0</td>\n",
       "      <td>0.0</td>\n",
       "      <td>0.0</td>\n",
       "    </tr>\n",
       "    <tr>\n",
       "      <th>15107</th>\n",
       "      <td>Uzbekistan</td>\n",
       "      <td>2014</td>\n",
       "      <td>male</td>\n",
       "      <td>5-14 years</td>\n",
       "      <td>60</td>\n",
       "      <td>2762158</td>\n",
       "      <td>2.17</td>\n",
       "      <td>Uzbekistan2014</td>\n",
       "      <td>0.675</td>\n",
       "      <td>6.306708e+10</td>\n",
       "      <td>...</td>\n",
       "      <td>0.0</td>\n",
       "      <td>0.0</td>\n",
       "      <td>0.0</td>\n",
       "      <td>0</td>\n",
       "      <td>0.0</td>\n",
       "      <td>0.0</td>\n",
       "      <td>0.0</td>\n",
       "      <td>0.0</td>\n",
       "      <td>0.0</td>\n",
       "      <td>0.0</td>\n",
       "    </tr>\n",
       "    <tr>\n",
       "      <th>15108</th>\n",
       "      <td>Uzbekistan</td>\n",
       "      <td>2014</td>\n",
       "      <td>female</td>\n",
       "      <td>5-14 years</td>\n",
       "      <td>44</td>\n",
       "      <td>2631600</td>\n",
       "      <td>1.67</td>\n",
       "      <td>Uzbekistan2014</td>\n",
       "      <td>0.675</td>\n",
       "      <td>6.306708e+10</td>\n",
       "      <td>...</td>\n",
       "      <td>0.0</td>\n",
       "      <td>0.0</td>\n",
       "      <td>0.0</td>\n",
       "      <td>0</td>\n",
       "      <td>0.0</td>\n",
       "      <td>0.0</td>\n",
       "      <td>0.0</td>\n",
       "      <td>0.0</td>\n",
       "      <td>0.0</td>\n",
       "      <td>0.0</td>\n",
       "    </tr>\n",
       "    <tr>\n",
       "      <th>15109</th>\n",
       "      <td>Uzbekistan</td>\n",
       "      <td>2014</td>\n",
       "      <td>female</td>\n",
       "      <td>55-74 years</td>\n",
       "      <td>21</td>\n",
       "      <td>1438935</td>\n",
       "      <td>1.46</td>\n",
       "      <td>Uzbekistan2014</td>\n",
       "      <td>0.675</td>\n",
       "      <td>6.306708e+10</td>\n",
       "      <td>...</td>\n",
       "      <td>0.0</td>\n",
       "      <td>0.0</td>\n",
       "      <td>0.0</td>\n",
       "      <td>0</td>\n",
       "      <td>0.0</td>\n",
       "      <td>0.0</td>\n",
       "      <td>0.0</td>\n",
       "      <td>0.0</td>\n",
       "      <td>0.0</td>\n",
       "      <td>0.0</td>\n",
       "    </tr>\n",
       "  </tbody>\n",
       "</table>\n",
       "<p>5 rows × 26 columns</p>\n",
       "</div>"
      ],
      "text/plain": [
       "          country  year     sex          age  suicides_no  population  \\\n",
       "15105  Uzbekistan  2014  female  35-54 years          107     3620833   \n",
       "15106  Uzbekistan  2014  female    75+ years            9      348465   \n",
       "15107  Uzbekistan  2014    male   5-14 years           60     2762158   \n",
       "15108  Uzbekistan  2014  female   5-14 years           44     2631600   \n",
       "15109  Uzbekistan  2014  female  55-74 years           21     1438935   \n",
       "\n",
       "       suicidesper100k    country-year  yearlyHDI      GDPpyear  ...  \\\n",
       "15105             2.96  Uzbekistan2014      0.675  6.306708e+10  ...   \n",
       "15106             2.58  Uzbekistan2014      0.675  6.306708e+10  ...   \n",
       "15107             2.17  Uzbekistan2014      0.675  6.306708e+10  ...   \n",
       "15108             1.67  Uzbekistan2014      0.675  6.306708e+10  ...   \n",
       "15109             1.46  Uzbekistan2014      0.675  6.306708e+10  ...   \n",
       "\n",
       "       Unemployment, total (% of total labor force) (modeled ILO estimate)  \\\n",
       "15105                                                0.0                     \n",
       "15106                                                0.0                     \n",
       "15107                                                0.0                     \n",
       "15108                                                0.0                     \n",
       "15109                                                0.0                     \n",
       "\n",
       "      Physicians (per 1,000 people)  \\\n",
       "15105                           0.0   \n",
       "15106                           0.0   \n",
       "15107                           0.0   \n",
       "15108                           0.0   \n",
       "15109                           0.0   \n",
       "\n",
       "       Strength of legal rights index (0=weak to 12=strong)  \\\n",
       "15105                                                0.0      \n",
       "15106                                                0.0      \n",
       "15107                                                0.0      \n",
       "15108                                                0.0      \n",
       "15109                                                0.0      \n",
       "\n",
       "       Labor force, total  Life expectancy at birth, total (years)  \\\n",
       "15105                   0                                      0.0   \n",
       "15106                   0                                      0.0   \n",
       "15107                   0                                      0.0   \n",
       "15108                   0                                      0.0   \n",
       "15109                   0                                      0.0   \n",
       "\n",
       "       Mobile cellular subscriptions (per 100 people)  \\\n",
       "15105                                             0.0   \n",
       "15106                                             0.0   \n",
       "15107                                             0.0   \n",
       "15108                                             0.0   \n",
       "15109                                             0.0   \n",
       "\n",
       "       Refugee population by country or territory of origin  \\\n",
       "15105                                                0.0      \n",
       "15106                                                0.0      \n",
       "15107                                                0.0      \n",
       "15108                                                0.0      \n",
       "15109                                                0.0      \n",
       "\n",
       "       Contributing family workers, total (% of total employment) (modeled ILO estimate)  \\\n",
       "15105                                                0.0                                   \n",
       "15106                                                0.0                                   \n",
       "15107                                                0.0                                   \n",
       "15108                                                0.0                                   \n",
       "15109                                                0.0                                   \n",
       "\n",
       "       Access to electricity (% of population)  \\\n",
       "15105                                      0.0   \n",
       "15106                                      0.0   \n",
       "15107                                      0.0   \n",
       "15108                                      0.0   \n",
       "15109                                      0.0   \n",
       "\n",
       "       Lower secondary completion rate, total (% of relevant age group)  \n",
       "15105                                                0.0                 \n",
       "15106                                                0.0                 \n",
       "15107                                                0.0                 \n",
       "15108                                                0.0                 \n",
       "15109                                                0.0                 \n",
       "\n",
       "[5 rows x 26 columns]"
      ]
     },
     "execution_count": 3,
     "metadata": {},
     "output_type": "execute_result"
    }
   ],
   "source": [
    "url = '../data/suicide_moredata.csv'\n",
    "\n",
    "second_data = pd.read_csv(url)\n",
    "second_data.tail()\n"
   ]
  },
  {
   "cell_type": "code",
   "execution_count": 4,
   "metadata": {
    "colab": {
     "base_uri": "https://localhost:8080/"
    },
    "id": "77e1fdd5",
    "outputId": "56b99817-5281-4dae-c09c-f76b85e724fa",
    "scrolled": false
   },
   "outputs": [
    {
     "name": "stdout",
     "output_type": "stream",
     "text": [
      "<class 'pandas.core.frame.DataFrame'>\n",
      "RangeIndex: 15110 entries, 0 to 15109\n",
      "Data columns (total 26 columns):\n",
      " #   Column                                                                             Non-Null Count  Dtype  \n",
      "---  ------                                                                             --------------  -----  \n",
      " 0   country                                                                            15110 non-null  object \n",
      " 1   year                                                                               15110 non-null  int64  \n",
      " 2   sex                                                                                15110 non-null  object \n",
      " 3   age                                                                                15110 non-null  object \n",
      " 4   suicides_no                                                                        15110 non-null  int64  \n",
      " 5   population                                                                         15110 non-null  int64  \n",
      " 6   suicidesper100k                                                                    15110 non-null  float64\n",
      " 7   country-year                                                                       15110 non-null  object \n",
      " 8   yearlyHDI                                                                          4740 non-null   float64\n",
      " 9   GDPpyear                                                                           15110 non-null  float64\n",
      " 10  GDPpcapital                                                                        15110 non-null  int64  \n",
      " 11  generation                                                                         15110 non-null  object \n",
      " 12  suicide%                                                                           15110 non-null  float64\n",
      " 13  Individuals using the Internet (% of population)                                   15002 non-null  float64\n",
      " 14  Expense (% of GDP)                                                                 13634 non-null  float64\n",
      " 15  Compensation of employees (% of expense)                                           13538 non-null  float64\n",
      " 16  Unemployment, total (% of total labor force) (modeled ILO estimate)                15110 non-null  float64\n",
      " 17  Physicians (per 1,000 people)                                                      12782 non-null  float64\n",
      " 18  Strength of legal rights index (0=weak to 12=strong)                               5618 non-null   float64\n",
      " 19  Labor force, total                                                                 15110 non-null  int64  \n",
      " 20  Life expectancy at birth, total (years)                                            15110 non-null  float64\n",
      " 21  Mobile cellular subscriptions (per 100 people)                                     15110 non-null  float64\n",
      " 22  Refugee population by country or territory of origin                               14978 non-null  float64\n",
      " 23  Contributing family workers, total (% of total employment) (modeled ILO estimate)  15110 non-null  float64\n",
      " 24  Access to electricity (% of population)                                            14642 non-null  float64\n",
      " 25  Lower secondary completion rate, total (% of relevant age group)                   9542 non-null   float64\n",
      "dtypes: float64(16), int64(5), object(5)\n",
      "memory usage: 3.0+ MB\n"
     ]
    }
   ],
   "source": [
    "second_data.info()"
   ]
  },
  {
   "cell_type": "code",
   "execution_count": 5,
   "metadata": {
    "id": "be6cdf85"
   },
   "outputs": [],
   "source": [
    "second_data.columns = ['country', 'year', 'sex', 'age', 'suicides_no', 'population','suicidesper100k', 'country-year', 'yearlyHDI',\n",
    "    'GDPpyear', 'GDPpcapita', 'generation', 'suicide%', 'Internetusers', 'Expenses', 'employeecompensation','Unemployment', 'Physiciansp1000', 'Legalrights', 'Laborforcetotal','Lifeexpectancy', 'Mobilesubscriptionsp100','Refugees', 'Selfemployed', 'electricityacess', 'secondarycompletion']"
   ]
  },
  {
   "cell_type": "code",
   "execution_count": 6,
   "metadata": {
    "colab": {
     "base_uri": "https://localhost:8080/"
    },
    "id": "c877d0c3",
    "outputId": "91d08630-a8ae-4d3a-ad59-55919481a5b8"
   },
   "outputs": [
    {
     "data": {
      "text/plain": [
       "array([1985, 1986, 1987, 1988, 1989, 1990, 1991, 1992, 1993, 1994, 1995,\n",
       "       1996, 1997, 1998, 1999, 2000, 2001, 2002, 2003, 2004, 2005, 2006,\n",
       "       2007, 2008, 2009, 2010, 2011, 2012, 2013, 2014, 2015, 2016])"
      ]
     },
     "execution_count": 6,
     "metadata": {},
     "output_type": "execute_result"
    }
   ],
   "source": [
    "second_data.year.unique()"
   ]
  },
  {
   "cell_type": "code",
   "execution_count": 7,
   "metadata": {
    "colab": {
     "base_uri": "https://localhost:8080/"
    },
    "id": "3471f364",
    "outputId": "6050b6a1-bc22-48d3-ad68-0325871040a3"
   },
   "outputs": [
    {
     "name": "stdout",
     "output_type": "stream",
     "text": [
      "<class 'pandas.core.frame.DataFrame'>\n",
      "RangeIndex: 15110 entries, 0 to 15109\n",
      "Data columns (total 26 columns):\n",
      " #   Column                   Non-Null Count  Dtype  \n",
      "---  ------                   --------------  -----  \n",
      " 0   country                  15110 non-null  object \n",
      " 1   year                     15110 non-null  int64  \n",
      " 2   sex                      15110 non-null  object \n",
      " 3   age                      15110 non-null  object \n",
      " 4   suicides                 15110 non-null  int64  \n",
      " 5   population               15110 non-null  int64  \n",
      " 6   sucid_in_hundredk        15110 non-null  float64\n",
      " 7   country-year             15110 non-null  object \n",
      " 8   yearly_hdi               4740 non-null   float64\n",
      " 9   yearly_gdp               15110 non-null  float64\n",
      " 10  gdp_per_capita           15110 non-null  int64  \n",
      " 11  generation               15110 non-null  object \n",
      " 12  suicide%                 15110 non-null  float64\n",
      " 13  Internetusers            15002 non-null  float64\n",
      " 14  Expenses                 13634 non-null  float64\n",
      " 15  employeecompensation     13538 non-null  float64\n",
      " 16  Unemployment             15110 non-null  float64\n",
      " 17  Physiciansp1000          12782 non-null  float64\n",
      " 18  Legalrights              5618 non-null   float64\n",
      " 19  Laborforcetotal          15110 non-null  int64  \n",
      " 20  Lifeexpectancy           15110 non-null  float64\n",
      " 21  Mobilesubscriptionsp100  15110 non-null  float64\n",
      " 22  Refugees                 14978 non-null  float64\n",
      " 23  Selfemployed             15110 non-null  float64\n",
      " 24  electricityacess         14642 non-null  float64\n",
      " 25  secondarycompletion      9542 non-null   float64\n",
      "dtypes: float64(16), int64(5), object(5)\n",
      "memory usage: 3.0+ MB\n"
     ]
    }
   ],
   "source": [
    "second_data.rename( {'GDPpyear':'yearly_gdp' } , axis=1 , inplace = True)\n",
    "second_data.rename( {'GDPpcapita':'gdp_per_capita' } , axis=1 , inplace = True)\n",
    "second_data.rename( {'yearlyHDI':'yearly_hdi' } , axis=1 , inplace = True)\n",
    "second_data.rename( {'suicidesper100k':'sucid_in_hundredk' } , axis=1 , inplace = True)\n",
    "second_data.rename( {'suicides_no':'suicides' } , axis=1 , inplace = True)\n",
    "second_data.info()"
   ]
  },
  {
   "cell_type": "code",
   "execution_count": 8,
   "metadata": {
    "id": "f72d30ea"
   },
   "outputs": [],
   "source": [
    "second_data.columns = map(str.lower, second_data.columns)"
   ]
  },
  {
   "cell_type": "code",
   "execution_count": 9,
   "metadata": {
    "id": "180b6511"
   },
   "outputs": [],
   "source": [
    "# remove special character\n",
    "second_data.columns = second_data.columns.str.replace(' ', '')"
   ]
  },
  {
   "cell_type": "code",
   "execution_count": 10,
   "metadata": {
    "colab": {
     "base_uri": "https://localhost:8080/"
    },
    "id": "8d564fd7",
    "outputId": "436c551e-7dbc-4b4c-9e3b-22ecbd65011c",
    "scrolled": true
   },
   "outputs": [
    {
     "name": "stdout",
     "output_type": "stream",
     "text": [
      "<class 'pandas.core.frame.DataFrame'>\n",
      "Int64Index: 14366 entries, 0 to 14365\n",
      "Data columns (total 28 columns):\n",
      " #   Column                   Non-Null Count  Dtype  \n",
      "---  ------                   --------------  -----  \n",
      " 0   country                  14366 non-null  object \n",
      " 1   year                     14366 non-null  int64  \n",
      " 2   sex                      14366 non-null  object \n",
      " 3   age                      14366 non-null  object \n",
      " 4   suicides                 14366 non-null  int64  \n",
      " 5   population               14366 non-null  int64  \n",
      " 6   sucid_in_hundredk        14366 non-null  float64\n",
      " 7   country-year             14366 non-null  object \n",
      " 8   yearly_hdi               4500 non-null   float64\n",
      " 9   yearly_gdp               14366 non-null  float64\n",
      " 10  gdp_per_capita           14366 non-null  int64  \n",
      " 11  generation               14366 non-null  object \n",
      " 12  suicide%                 14366 non-null  float64\n",
      " 13  internetusers            14258 non-null  float64\n",
      " 14  expenses                 12890 non-null  float64\n",
      " 15  employeecompensation     12794 non-null  float64\n",
      " 16  unemployment             14366 non-null  float64\n",
      " 17  physiciansp1000          12122 non-null  float64\n",
      " 18  legalrights              5306 non-null   float64\n",
      " 19  laborforcetotal          14366 non-null  int64  \n",
      " 20  lifeexpectancy           14366 non-null  float64\n",
      " 21  mobilesubscriptionsp100  14366 non-null  float64\n",
      " 22  refugees                 14234 non-null  float64\n",
      " 23  selfemployed             14366 non-null  float64\n",
      " 24  electricityacess         13898 non-null  float64\n",
      " 25  secondarycompletion      9254 non-null   float64\n",
      " 26  continent                14366 non-null  object \n",
      " 27  code_3                   14366 non-null  object \n",
      "dtypes: float64(16), int64(5), object(7)\n",
      "memory usage: 3.2+ MB\n"
     ]
    }
   ],
   "source": [
    "second_data = second_data.merge(df_cont[['country', 'continent', 'code_3']])\n",
    "second_data.info()"
   ]
  },
  {
   "cell_type": "code",
   "execution_count": 11,
   "metadata": {
    "colab": {
     "base_uri": "https://localhost:8080/"
    },
    "id": "9b8705d0",
    "outputId": "9e1fe00b-28a3-4df2-9478-6ba525131282"
   },
   "outputs": [
    {
     "name": "stdout",
     "output_type": "stream",
     "text": [
      "<class 'pandas.core.frame.DataFrame'>\n",
      "Int64Index: 14366 entries, 0 to 14365\n",
      "Data columns (total 28 columns):\n",
      " #   Column                Non-Null Count  Dtype  \n",
      "---  ------                --------------  -----  \n",
      " 0   country               14366 non-null  object \n",
      " 1   year                  14366 non-null  int64  \n",
      " 2   sex                   14366 non-null  object \n",
      " 3   age                   14366 non-null  object \n",
      " 4   suicides              14366 non-null  int64  \n",
      " 5   population            14366 non-null  int64  \n",
      " 6   sucid_in_hundredk     14366 non-null  float64\n",
      " 7   country-year          14366 non-null  object \n",
      " 8   yearly_hdi            4500 non-null   float64\n",
      " 9   yearly_gdp            14366 non-null  float64\n",
      " 10  gdp_per_capita        14366 non-null  int64  \n",
      " 11  generation            14366 non-null  object \n",
      " 12  suicide%              14366 non-null  float64\n",
      " 13  internetusers         14258 non-null  float64\n",
      " 14  expenses              12890 non-null  float64\n",
      " 15  employeecompensation  12794 non-null  float64\n",
      " 16  unemployment          14366 non-null  float64\n",
      " 17  physician_price       12122 non-null  float64\n",
      " 18  legalrights           5306 non-null   float64\n",
      " 19  laborforcetotal       14366 non-null  int64  \n",
      " 20  lifeexpectancy        14366 non-null  float64\n",
      " 21  mobilesubscriptions   14366 non-null  float64\n",
      " 22  refugees              14234 non-null  float64\n",
      " 23  selfemployed          14366 non-null  float64\n",
      " 24  electricityacess      13898 non-null  float64\n",
      " 25  secondarycompletion   9254 non-null   float64\n",
      " 26  continent             14366 non-null  object \n",
      " 27  country_code          14366 non-null  object \n",
      "dtypes: float64(16), int64(5), object(7)\n",
      "memory usage: 3.2+ MB\n"
     ]
    }
   ],
   "source": [
    "second_data.rename( {'code_3':'country_code' } , axis=1 , inplace = True)\n",
    "second_data.rename( {'physiciansp1000':'physician_price' } , axis=1 , inplace = True)\n",
    "second_data.rename( {'mobilesubscriptionsp100':'mobilesubscriptions' } , axis=1 , inplace = True)\n",
    "second_data.info()"
   ]
  },
  {
   "cell_type": "code",
   "execution_count": 12,
   "metadata": {
    "colab": {
     "base_uri": "https://localhost:8080/"
    },
    "id": "c4010503",
    "outputId": "228ad95f-e6ee-44d6-dc43-8d3dcba2d4cf"
   },
   "outputs": [
    {
     "data": {
      "text/plain": [
       "Index(['country', 'year', 'sex', 'age', 'suicides', 'population',\n",
       "       'sucid_in_hundredk', 'country-year', 'yearly_hdi', 'yearly_gdp',\n",
       "       'gdp_per_capita', 'generation', 'suicide%', 'internetusers', 'expenses',\n",
       "       'employeecompensation', 'unemployment', 'physician_price',\n",
       "       'legalrights', 'laborforcetotal', 'lifeexpectancy',\n",
       "       'mobilesubscriptions', 'refugees', 'selfemployed', 'electricityacess',\n",
       "       'secondarycompletion', 'continent', 'country_code'],\n",
       "      dtype='object')"
      ]
     },
     "execution_count": 12,
     "metadata": {},
     "output_type": "execute_result"
    }
   ],
   "source": [
    "second_data.columns"
   ]
  },
  {
   "cell_type": "code",
   "execution_count": 13,
   "metadata": {
    "colab": {
     "base_uri": "https://localhost:8080/"
    },
    "id": "2cb0cd00",
    "outputId": "f3082cca-eddc-4bdb-914d-9d949c158276",
    "scrolled": true
   },
   "outputs": [
    {
     "data": {
      "text/plain": [
       "(14366, 28)"
      ]
     },
     "execution_count": 13,
     "metadata": {},
     "output_type": "execute_result"
    }
   ],
   "source": [
    "second_data.shape"
   ]
  },
  {
   "cell_type": "code",
   "execution_count": 14,
   "metadata": {
    "id": "26adcf42"
   },
   "outputs": [],
   "source": [
    "#good sample of the different regions.\n",
    "\n",
    "countrynames = ['Argentina','Armenia','Australia',    'Austria',\n",
    "    'Belgium',    'Brazil',    'Bulgaria',    'Canada',    'Chile',    'Colombia',    'Croatia',    'Cuba',    'Czech Republic',    'Denmark',\n",
    "    'Finland',    'France',    'Germany',    'Greece',    'Hungary',    'Iceland',   'Ireland', 'Israel','Italy','Japan','Mexico', 'Netherlands','New Zealand','Norway','Poland', 'Portugal','Romania','Russian Federation','South Africa', 'Spain','Sweden', 'Switzerland','Thailand', 'Turkmenistan','Ukraine','United Kingdom', 'United States']\n",
    "\n",
    "# countrynames"
   ]
  },
  {
   "cell_type": "markdown",
   "metadata": {
    "id": "7b2b0244"
   },
   "source": [
    "### Collapsing categories with string matching"
   ]
  },
  {
   "cell_type": "code",
   "execution_count": 15,
   "metadata": {
    "colab": {
     "base_uri": "https://localhost:8080/"
    },
    "id": "eec5af1f",
    "outputId": "193db8aa-3f6c-4266-fad7-dc15beecc4bc",
    "scrolled": true
   },
   "outputs": [
    {
     "name": "stdout",
     "output_type": "stream",
     "text": [
      "['Argentina' 'Armenia' 'Australia' 'Austria' 'Azerbaijan' 'Belgium'\n",
      " 'Brazil' 'Bulgaria' 'Canada' 'Chile' 'Colombia' 'Croatia' 'Cuba'\n",
      " 'Czech Republic' 'Denmark' 'Finland' 'France' 'Georgia' 'Germany'\n",
      " 'Greece' 'Hungary' 'Iceland' 'Ireland' 'Israel' 'Italy' 'Jamaica' 'Japan'\n",
      " 'Mexico' 'Mongolia' 'Netherlands' 'New Zealand' 'Norway' 'Poland'\n",
      " 'Portugal' 'Romania' 'Russian Federation' 'South Africa' 'Spain' 'Sweden'\n",
      " 'Switzerland' 'Thailand' 'Turkey' 'Turkmenistan' 'Ukraine'\n",
      " 'United Arab Emirates' 'Uzbekistan']\n"
     ]
    }
   ],
   "source": [
    "countries_2 = second_data['country'].unique()\n",
    "print(countries_2)"
   ]
  },
  {
   "cell_type": "code",
   "execution_count": 16,
   "metadata": {
    "id": "2962957e",
    "scrolled": true
   },
   "outputs": [],
   "source": [
    "df1 = second_data.copy()\n",
    "final = df1.iloc[np.where(df1.country == countrynames[0])]\n",
    "for i, x in enumerate(countrynames[1:]):\n",
    "    final = final.append(df1.iloc[np.where(df1.country == x)])\n",
    "    \n",
    "# df.head()"
   ]
  },
  {
   "cell_type": "code",
   "execution_count": 17,
   "metadata": {
    "colab": {
     "base_uri": "https://localhost:8080/"
    },
    "id": "4dd42ad1",
    "outputId": "ec848c8a-8ad7-46b6-d662-6fba85178ae8"
   },
   "outputs": [
    {
     "data": {
      "text/plain": [
       "(13276, 28)"
      ]
     },
     "execution_count": 17,
     "metadata": {},
     "output_type": "execute_result"
    }
   ],
   "source": [
    "final.shape"
   ]
  },
  {
   "cell_type": "code",
   "execution_count": 18,
   "metadata": {
    "id": "18b0c94a"
   },
   "outputs": [],
   "source": [
    "final = final[final.year >= 1985]\n",
    "final = final[final.year <= 2016]"
   ]
  },
  {
   "cell_type": "code",
   "execution_count": 19,
   "metadata": {
    "id": "0c452d98"
   },
   "outputs": [],
   "source": [
    "final['country'] = final['country'].astype('category')\n",
    "final['continent'] = final['continent'].astype('category')\n",
    "final['sex'] = final['sex'].astype('category')\n",
    "final['generation'] = final['generation'].astype('category')\n",
    "final['age'] = final['age'].astype('category')"
   ]
  },
  {
   "cell_type": "code",
   "execution_count": 20,
   "metadata": {
    "colab": {
     "base_uri": "https://localhost:8080/",
     "height": 275
    },
    "id": "30c35008",
    "outputId": "db5ec750-07f8-4e87-ec19-34f7f9866527"
   },
   "outputs": [
    {
     "data": {
      "text/html": [
       "<div>\n",
       "<style scoped>\n",
       "    .dataframe tbody tr th:only-of-type {\n",
       "        vertical-align: middle;\n",
       "    }\n",
       "\n",
       "    .dataframe tbody tr th {\n",
       "        vertical-align: top;\n",
       "    }\n",
       "\n",
       "    .dataframe thead th {\n",
       "        text-align: right;\n",
       "    }\n",
       "</style>\n",
       "<table border=\"1\" class=\"dataframe\">\n",
       "  <thead>\n",
       "    <tr style=\"text-align: right;\">\n",
       "      <th></th>\n",
       "      <th>country</th>\n",
       "      <th>year</th>\n",
       "      <th>sex</th>\n",
       "      <th>age</th>\n",
       "      <th>suicides</th>\n",
       "      <th>population</th>\n",
       "      <th>sucid_in_hundredk</th>\n",
       "      <th>country-year</th>\n",
       "      <th>yearly_hdi</th>\n",
       "      <th>yearly_gdp</th>\n",
       "      <th>...</th>\n",
       "      <th>legalrights</th>\n",
       "      <th>laborforcetotal</th>\n",
       "      <th>lifeexpectancy</th>\n",
       "      <th>mobilesubscriptions</th>\n",
       "      <th>refugees</th>\n",
       "      <th>selfemployed</th>\n",
       "      <th>electricityacess</th>\n",
       "      <th>secondarycompletion</th>\n",
       "      <th>continent</th>\n",
       "      <th>country_code</th>\n",
       "    </tr>\n",
       "  </thead>\n",
       "  <tbody>\n",
       "    <tr>\n",
       "      <th>0</th>\n",
       "      <td>Argentina</td>\n",
       "      <td>1985</td>\n",
       "      <td>male</td>\n",
       "      <td>75+ years</td>\n",
       "      <td>202</td>\n",
       "      <td>363000</td>\n",
       "      <td>55.65</td>\n",
       "      <td>Argentina1985</td>\n",
       "      <td>0.694</td>\n",
       "      <td>8.841667e+10</td>\n",
       "      <td>...</td>\n",
       "      <td>0.0</td>\n",
       "      <td>0</td>\n",
       "      <td>0.0</td>\n",
       "      <td>0.0</td>\n",
       "      <td>0.0</td>\n",
       "      <td>0.0</td>\n",
       "      <td>0.0</td>\n",
       "      <td>0.0</td>\n",
       "      <td>Americas</td>\n",
       "      <td>ARG</td>\n",
       "    </tr>\n",
       "    <tr>\n",
       "      <th>1</th>\n",
       "      <td>Argentina</td>\n",
       "      <td>1985</td>\n",
       "      <td>male</td>\n",
       "      <td>55-74 years</td>\n",
       "      <td>485</td>\n",
       "      <td>1997000</td>\n",
       "      <td>24.29</td>\n",
       "      <td>Argentina1985</td>\n",
       "      <td>0.694</td>\n",
       "      <td>8.841667e+10</td>\n",
       "      <td>...</td>\n",
       "      <td>0.0</td>\n",
       "      <td>0</td>\n",
       "      <td>0.0</td>\n",
       "      <td>0.0</td>\n",
       "      <td>0.0</td>\n",
       "      <td>0.0</td>\n",
       "      <td>0.0</td>\n",
       "      <td>0.0</td>\n",
       "      <td>Americas</td>\n",
       "      <td>ARG</td>\n",
       "    </tr>\n",
       "  </tbody>\n",
       "</table>\n",
       "<p>2 rows × 28 columns</p>\n",
       "</div>"
      ],
      "text/plain": [
       "     country  year   sex          age  suicides  population  \\\n",
       "0  Argentina  1985  male    75+ years       202      363000   \n",
       "1  Argentina  1985  male  55-74 years       485     1997000   \n",
       "\n",
       "   sucid_in_hundredk   country-year  yearly_hdi    yearly_gdp  ...  \\\n",
       "0              55.65  Argentina1985       0.694  8.841667e+10  ...   \n",
       "1              24.29  Argentina1985       0.694  8.841667e+10  ...   \n",
       "\n",
       "   legalrights laborforcetotal  lifeexpectancy  mobilesubscriptions  refugees  \\\n",
       "0          0.0               0             0.0                  0.0       0.0   \n",
       "1          0.0               0             0.0                  0.0       0.0   \n",
       "\n",
       "   selfemployed  electricityacess  secondarycompletion  continent  \\\n",
       "0           0.0               0.0                  0.0   Americas   \n",
       "1           0.0               0.0                  0.0   Americas   \n",
       "\n",
       "   country_code  \n",
       "0           ARG  \n",
       "1           ARG  \n",
       "\n",
       "[2 rows x 28 columns]"
      ]
     },
     "execution_count": 20,
     "metadata": {},
     "output_type": "execute_result"
    }
   ],
   "source": [
    "final.head(2)"
   ]
  },
  {
   "cell_type": "markdown",
   "metadata": {
    "id": "86743f90"
   },
   "source": [
    "### Missingness Data"
   ]
  },
  {
   "cell_type": "code",
   "execution_count": 21,
   "metadata": {
    "colab": {
     "base_uri": "https://localhost:8080/"
    },
    "id": "db8abcc9",
    "outputId": "b6dbd755-86b4-4b1c-ee48-84043b3be42e"
   },
   "outputs": [
    {
     "data": {
      "text/plain": [
       "country                    0\n",
       "year                       0\n",
       "sex                        0\n",
       "age                        0\n",
       "suicides                   0\n",
       "population                 0\n",
       "sucid_in_hundredk          0\n",
       "country-year               0\n",
       "yearly_hdi              9124\n",
       "yearly_gdp                 0\n",
       "gdp_per_capita             0\n",
       "generation                 0\n",
       "suicide%                   0\n",
       "internetusers             84\n",
       "expenses                1152\n",
       "employeecompensation    1200\n",
       "unemployment               0\n",
       "physician_price         2064\n",
       "legalrights             8328\n",
       "laborforcetotal            0\n",
       "lifeexpectancy             0\n",
       "mobilesubscriptions        0\n",
       "refugees                 132\n",
       "selfemployed               0\n",
       "electricityacess         312\n",
       "secondarycompletion     4956\n",
       "continent                  0\n",
       "country_code               0\n",
       "dtype: int64"
      ]
     },
     "execution_count": 21,
     "metadata": {},
     "output_type": "execute_result"
    }
   ],
   "source": [
    "# Get summary of missingness\n",
    "final.isna().sum()"
   ]
  },
  {
   "cell_type": "code",
   "execution_count": 22,
   "metadata": {
    "colab": {
     "base_uri": "https://localhost:8080/",
     "height": 718
    },
    "id": "67011aa7",
    "outputId": "355febc7-8b46-4533-d0f8-7313ab44fd85"
   },
   "outputs": [
    {
     "data": {
      "image/png": "[encoded data removed]",
      "text/plain": [
       "<Figure size 1800x720 with 2 Axes>"
      ]
     },
     "metadata": {
      "needs_background": "light"
     },
     "output_type": "display_data"
    }
   ],
   "source": [
    "# Useful package for visualizing and understanding missing data\n",
    "import missingno as msno\n",
    "import matplotlib.pyplot as plt\n",
    "\n",
    "# Visualize missingness\n",
    "msno.matrix(final)\n",
    "plt.show()"
   ]
  },
  {
   "cell_type": "code",
   "execution_count": 23,
   "metadata": {
    "id": "4b41cf3a"
   },
   "outputs": [],
   "source": [
    "# Isolate missing and complete values aside\n",
    "missing_hdi = final[final['yearly_hdi'].isna()]\n",
    "complete_hdi = final[~final['yearly_hdi'].isna()]\n"
   ]
  },
  {
   "cell_type": "code",
   "execution_count": 24,
   "metadata": {
    "colab": {
     "base_uri": "https://localhost:8080/",
     "height": 394
    },
    "id": "3186e390",
    "outputId": "0b078f6b-a69c-43df-9b26-5f02c7def650"
   },
   "outputs": [
    {
     "data": {
      "text/html": [
       "<div>\n",
       "<style scoped>\n",
       "    .dataframe tbody tr th:only-of-type {\n",
       "        vertical-align: middle;\n",
       "    }\n",
       "\n",
       "    .dataframe tbody tr th {\n",
       "        vertical-align: top;\n",
       "    }\n",
       "\n",
       "    .dataframe thead th {\n",
       "        text-align: right;\n",
       "    }\n",
       "</style>\n",
       "<table border=\"1\" class=\"dataframe\">\n",
       "  <thead>\n",
       "    <tr style=\"text-align: right;\">\n",
       "      <th></th>\n",
       "      <th>year</th>\n",
       "      <th>suicides</th>\n",
       "      <th>population</th>\n",
       "      <th>sucid_in_hundredk</th>\n",
       "      <th>yearly_hdi</th>\n",
       "      <th>yearly_gdp</th>\n",
       "      <th>gdp_per_capita</th>\n",
       "      <th>suicide%</th>\n",
       "      <th>internetusers</th>\n",
       "      <th>expenses</th>\n",
       "      <th>...</th>\n",
       "      <th>unemployment</th>\n",
       "      <th>physician_price</th>\n",
       "      <th>legalrights</th>\n",
       "      <th>laborforcetotal</th>\n",
       "      <th>lifeexpectancy</th>\n",
       "      <th>mobilesubscriptions</th>\n",
       "      <th>refugees</th>\n",
       "      <th>selfemployed</th>\n",
       "      <th>electricityacess</th>\n",
       "      <th>secondarycompletion</th>\n",
       "    </tr>\n",
       "  </thead>\n",
       "  <tbody>\n",
       "    <tr>\n",
       "      <th>count</th>\n",
       "      <td>9124.000000</td>\n",
       "      <td>9124.000000</td>\n",
       "      <td>9.124000e+03</td>\n",
       "      <td>9124.000000</td>\n",
       "      <td>0.0</td>\n",
       "      <td>9.124000e+03</td>\n",
       "      <td>9124.000000</td>\n",
       "      <td>9124.000000</td>\n",
       "      <td>9040.000000</td>\n",
       "      <td>8296.000000</td>\n",
       "      <td>...</td>\n",
       "      <td>9124.000000</td>\n",
       "      <td>7636.000000</td>\n",
       "      <td>3472.000000</td>\n",
       "      <td>9.124000e+03</td>\n",
       "      <td>9124.000000</td>\n",
       "      <td>9124.000000</td>\n",
       "      <td>9028.000000</td>\n",
       "      <td>9124.000000</td>\n",
       "      <td>8872.000000</td>\n",
       "      <td>5776.000000</td>\n",
       "    </tr>\n",
       "    <tr>\n",
       "      <th>mean</th>\n",
       "      <td>1999.316528</td>\n",
       "      <td>398.808417</td>\n",
       "      <td>2.675820e+06</td>\n",
       "      <td>14.931306</td>\n",
       "      <td>NaN</td>\n",
       "      <td>4.909546e+11</td>\n",
       "      <td>18993.097545</td>\n",
       "      <td>0.014931</td>\n",
       "      <td>18.721017</td>\n",
       "      <td>18.301408</td>\n",
       "      <td>...</td>\n",
       "      <td>5.227582</td>\n",
       "      <td>1.629947</td>\n",
       "      <td>0.013825</td>\n",
       "      <td>1.046639e+07</td>\n",
       "      <td>46.821799</td>\n",
       "      <td>36.334094</td>\n",
       "      <td>11155.957909</td>\n",
       "      <td>2.075908</td>\n",
       "      <td>60.227276</td>\n",
       "      <td>36.322351</td>\n",
       "    </tr>\n",
       "    <tr>\n",
       "      <th>std</th>\n",
       "      <td>7.765484</td>\n",
       "      <td>1254.037008</td>\n",
       "      <td>3.868640e+06</td>\n",
       "      <td>19.189067</td>\n",
       "      <td>NaN</td>\n",
       "      <td>8.412982e+11</td>\n",
       "      <td>17235.005103</td>\n",
       "      <td>0.019189</td>\n",
       "      <td>26.212149</td>\n",
       "      <td>17.180872</td>\n",
       "      <td>...</td>\n",
       "      <td>5.712548</td>\n",
       "      <td>1.717781</td>\n",
       "      <td>0.234786</td>\n",
       "      <td>1.872559e+07</td>\n",
       "      <td>36.850168</td>\n",
       "      <td>45.008328</td>\n",
       "      <td>48186.144109</td>\n",
       "      <td>4.528243</td>\n",
       "      <td>48.284712</td>\n",
       "      <td>44.883387</td>\n",
       "    </tr>\n",
       "    <tr>\n",
       "      <th>min</th>\n",
       "      <td>1985.000000</td>\n",
       "      <td>0.000000</td>\n",
       "      <td>4.400000e+03</td>\n",
       "      <td>0.000000</td>\n",
       "      <td>NaN</td>\n",
       "      <td>1.201313e+09</td>\n",
       "      <td>357.000000</td>\n",
       "      <td>0.000000</td>\n",
       "      <td>0.000000</td>\n",
       "      <td>0.000000</td>\n",
       "      <td>...</td>\n",
       "      <td>0.000000</td>\n",
       "      <td>0.000000</td>\n",
       "      <td>0.000000</td>\n",
       "      <td>0.000000e+00</td>\n",
       "      <td>0.000000</td>\n",
       "      <td>0.000000</td>\n",
       "      <td>0.000000</td>\n",
       "      <td>0.000000</td>\n",
       "      <td>0.000000</td>\n",
       "      <td>0.000000</td>\n",
       "    </tr>\n",
       "    <tr>\n",
       "      <th>25%</th>\n",
       "      <td>1993.000000</td>\n",
       "      <td>19.000000</td>\n",
       "      <td>4.304650e+05</td>\n",
       "      <td>2.390000</td>\n",
       "      <td>NaN</td>\n",
       "      <td>6.408769e+10</td>\n",
       "      <td>4312.000000</td>\n",
       "      <td>0.002387</td>\n",
       "      <td>0.000000</td>\n",
       "      <td>0.000000</td>\n",
       "      <td>...</td>\n",
       "      <td>0.000000</td>\n",
       "      <td>0.000000</td>\n",
       "      <td>0.000000</td>\n",
       "      <td>0.000000e+00</td>\n",
       "      <td>0.000000</td>\n",
       "      <td>0.000000</td>\n",
       "      <td>0.000000</td>\n",
       "      <td>0.000000</td>\n",
       "      <td>0.000000</td>\n",
       "      <td>0.000000</td>\n",
       "    </tr>\n",
       "    <tr>\n",
       "      <th>50%</th>\n",
       "      <td>1999.000000</td>\n",
       "      <td>84.000000</td>\n",
       "      <td>1.018677e+06</td>\n",
       "      <td>8.380000</td>\n",
       "      <td>NaN</td>\n",
       "      <td>1.868300e+11</td>\n",
       "      <td>14544.000000</td>\n",
       "      <td>0.008382</td>\n",
       "      <td>3.148128</td>\n",
       "      <td>18.537786</td>\n",
       "      <td>...</td>\n",
       "      <td>4.274000</td>\n",
       "      <td>1.369900</td>\n",
       "      <td>0.000000</td>\n",
       "      <td>2.598586e+06</td>\n",
       "      <td>71.531000</td>\n",
       "      <td>7.696397</td>\n",
       "      <td>16.000000</td>\n",
       "      <td>0.469000</td>\n",
       "      <td>99.146201</td>\n",
       "      <td>0.000000</td>\n",
       "    </tr>\n",
       "    <tr>\n",
       "      <th>75%</th>\n",
       "      <td>2006.000000</td>\n",
       "      <td>276.000000</td>\n",
       "      <td>3.394224e+06</td>\n",
       "      <td>20.047500</td>\n",
       "      <td>NaN</td>\n",
       "      <td>4.550400e+11</td>\n",
       "      <td>28390.000000</td>\n",
       "      <td>0.020044</td>\n",
       "      <td>31.288396</td>\n",
       "      <td>34.929966</td>\n",
       "      <td>...</td>\n",
       "      <td>8.522000</td>\n",
       "      <td>3.200000</td>\n",
       "      <td>0.000000</td>\n",
       "      <td>1.125782e+07</td>\n",
       "      <td>78.150000</td>\n",
       "      <td>77.601842</td>\n",
       "      <td>743.000000</td>\n",
       "      <td>1.827000</td>\n",
       "      <td>100.000000</td>\n",
       "      <td>88.745550</td>\n",
       "    </tr>\n",
       "    <tr>\n",
       "      <th>max</th>\n",
       "      <td>2016.000000</td>\n",
       "      <td>22338.000000</td>\n",
       "      <td>2.846186e+07</td>\n",
       "      <td>177.610000</td>\n",
       "      <td>NaN</td>\n",
       "      <td>5.231380e+12</td>\n",
       "      <td>103431.000000</td>\n",
       "      <td>0.177609</td>\n",
       "      <td>93.000000</td>\n",
       "      <td>51.714662</td>\n",
       "      <td>...</td>\n",
       "      <td>33.473000</td>\n",
       "      <td>6.615700</td>\n",
       "      <td>4.000000</td>\n",
       "      <td>9.542172e+07</td>\n",
       "      <td>82.931463</td>\n",
       "      <td>165.661017</td>\n",
       "      <td>551744.000000</td>\n",
       "      <td>30.332001</td>\n",
       "      <td>100.000000</td>\n",
       "      <td>111.923260</td>\n",
       "    </tr>\n",
       "  </tbody>\n",
       "</table>\n",
       "<p>8 rows × 21 columns</p>\n",
       "</div>"
      ],
      "text/plain": [
       "              year      suicides    population  sucid_in_hundredk  yearly_hdi  \\\n",
       "count  9124.000000   9124.000000  9.124000e+03        9124.000000         0.0   \n",
       "mean   1999.316528    398.808417  2.675820e+06          14.931306         NaN   \n",
       "std       7.765484   1254.037008  3.868640e+06          19.189067         NaN   \n",
       "min    1985.000000      0.000000  4.400000e+03           0.000000         NaN   \n",
       "25%    1993.000000     19.000000  4.304650e+05           2.390000         NaN   \n",
       "50%    1999.000000     84.000000  1.018677e+06           8.380000         NaN   \n",
       "75%    2006.000000    276.000000  3.394224e+06          20.047500         NaN   \n",
       "max    2016.000000  22338.000000  2.846186e+07         177.610000         NaN   \n",
       "\n",
       "         yearly_gdp  gdp_per_capita     suicide%  internetusers     expenses  \\\n",
       "count  9.124000e+03     9124.000000  9124.000000    9040.000000  8296.000000   \n",
       "mean   4.909546e+11    18993.097545     0.014931      18.721017    18.301408   \n",
       "std    8.412982e+11    17235.005103     0.019189      26.212149    17.180872   \n",
       "min    1.201313e+09      357.000000     0.000000       0.000000     0.000000   \n",
       "25%    6.408769e+10     4312.000000     0.002387       0.000000     0.000000   \n",
       "50%    1.868300e+11    14544.000000     0.008382       3.148128    18.537786   \n",
       "75%    4.550400e+11    28390.000000     0.020044      31.288396    34.929966   \n",
       "max    5.231380e+12   103431.000000     0.177609      93.000000    51.714662   \n",
       "\n",
       "       ...  unemployment  physician_price  legalrights  laborforcetotal  \\\n",
       "count  ...   9124.000000      7636.000000  3472.000000     9.124000e+03   \n",
       "mean   ...      5.227582         1.629947     0.013825     1.046639e+07   \n",
       "std    ...      5.712548         1.717781     0.234786     1.872559e+07   \n",
       "min    ...      0.000000         0.000000     0.000000     0.000000e+00   \n",
       "25%    ...      0.000000         0.000000     0.000000     0.000000e+00   \n",
       "50%    ...      4.274000         1.369900     0.000000     2.598586e+06   \n",
       "75%    ...      8.522000         3.200000     0.000000     1.125782e+07   \n",
       "max    ...     33.473000         6.615700     4.000000     9.542172e+07   \n",
       "\n",
       "       lifeexpectancy  mobilesubscriptions       refugees  selfemployed  \\\n",
       "count     9124.000000          9124.000000    9028.000000   9124.000000   \n",
       "mean        46.821799            36.334094   11155.957909      2.075908   \n",
       "std         36.850168            45.008328   48186.144109      4.528243   \n",
       "min          0.000000             0.000000       0.000000      0.000000   \n",
       "25%          0.000000             0.000000       0.000000      0.000000   \n",
       "50%         71.531000             7.696397      16.000000      0.469000   \n",
       "75%         78.150000            77.601842     743.000000      1.827000   \n",
       "max         82.931463           165.661017  551744.000000     30.332001   \n",
       "\n",
       "       electricityacess  secondarycompletion  \n",
       "count       8872.000000          5776.000000  \n",
       "mean          60.227276            36.322351  \n",
       "std           48.284712            44.883387  \n",
       "min            0.000000             0.000000  \n",
       "25%            0.000000             0.000000  \n",
       "50%           99.146201             0.000000  \n",
       "75%          100.000000            88.745550  \n",
       "max          100.000000           111.923260  \n",
       "\n",
       "[8 rows x 21 columns]"
      ]
     },
     "execution_count": 24,
     "metadata": {},
     "output_type": "execute_result"
    }
   ],
   "source": [
    "missing_hdi.describe()"
   ]
  },
  {
   "cell_type": "code",
   "execution_count": 25,
   "metadata": {
    "colab": {
     "base_uri": "https://localhost:8080/",
     "height": 394
    },
    "id": "e5d230c8",
    "outputId": "0ba2e807-36ba-4f79-bf86-8afd48f5b4ba"
   },
   "outputs": [
    {
     "data": {
      "text/html": [
       "<div>\n",
       "<style scoped>\n",
       "    .dataframe tbody tr th:only-of-type {\n",
       "        vertical-align: middle;\n",
       "    }\n",
       "\n",
       "    .dataframe tbody tr th {\n",
       "        vertical-align: top;\n",
       "    }\n",
       "\n",
       "    .dataframe thead th {\n",
       "        text-align: right;\n",
       "    }\n",
       "</style>\n",
       "<table border=\"1\" class=\"dataframe\">\n",
       "  <thead>\n",
       "    <tr style=\"text-align: right;\">\n",
       "      <th></th>\n",
       "      <th>year</th>\n",
       "      <th>suicides</th>\n",
       "      <th>population</th>\n",
       "      <th>sucid_in_hundredk</th>\n",
       "      <th>yearly_hdi</th>\n",
       "      <th>yearly_gdp</th>\n",
       "      <th>gdp_per_capita</th>\n",
       "      <th>suicide%</th>\n",
       "      <th>internetusers</th>\n",
       "      <th>expenses</th>\n",
       "      <th>...</th>\n",
       "      <th>unemployment</th>\n",
       "      <th>physician_price</th>\n",
       "      <th>legalrights</th>\n",
       "      <th>laborforcetotal</th>\n",
       "      <th>lifeexpectancy</th>\n",
       "      <th>mobilesubscriptions</th>\n",
       "      <th>refugees</th>\n",
       "      <th>selfemployed</th>\n",
       "      <th>electricityacess</th>\n",
       "      <th>secondarycompletion</th>\n",
       "    </tr>\n",
       "  </thead>\n",
       "  <tbody>\n",
       "    <tr>\n",
       "      <th>count</th>\n",
       "      <td>4152.000000</td>\n",
       "      <td>4152.000000</td>\n",
       "      <td>4.152000e+03</td>\n",
       "      <td>4152.000000</td>\n",
       "      <td>4152.000000</td>\n",
       "      <td>4.152000e+03</td>\n",
       "      <td>4152.000000</td>\n",
       "      <td>4152.000000</td>\n",
       "      <td>4152.000000</td>\n",
       "      <td>3828.000000</td>\n",
       "      <td>...</td>\n",
       "      <td>4152.000000</td>\n",
       "      <td>3576.000000</td>\n",
       "      <td>1476.000000</td>\n",
       "      <td>4.152000e+03</td>\n",
       "      <td>4152.000000</td>\n",
       "      <td>4152.000000</td>\n",
       "      <td>4116.000000</td>\n",
       "      <td>4152.000000</td>\n",
       "      <td>4092.000000</td>\n",
       "      <td>2544.000000</td>\n",
       "    </tr>\n",
       "    <tr>\n",
       "      <th>mean</th>\n",
       "      <td>2004.635838</td>\n",
       "      <td>280.768064</td>\n",
       "      <td>2.507378e+06</td>\n",
       "      <td>13.047040</td>\n",
       "      <td>0.809491</td>\n",
       "      <td>6.447662e+11</td>\n",
       "      <td>25921.404624</td>\n",
       "      <td>0.013047</td>\n",
       "      <td>34.527586</td>\n",
       "      <td>24.022747</td>\n",
       "      <td>...</td>\n",
       "      <td>6.570720</td>\n",
       "      <td>2.218488</td>\n",
       "      <td>1.552846</td>\n",
       "      <td>1.146377e+07</td>\n",
       "      <td>57.485604</td>\n",
       "      <td>63.618038</td>\n",
       "      <td>9803.329446</td>\n",
       "      <td>2.337049</td>\n",
       "      <td>73.531550</td>\n",
       "      <td>54.537283</td>\n",
       "    </tr>\n",
       "    <tr>\n",
       "      <th>std</th>\n",
       "      <td>9.206240</td>\n",
       "      <td>641.986372</td>\n",
       "      <td>3.593958e+06</td>\n",
       "      <td>16.328986</td>\n",
       "      <td>0.087930</td>\n",
       "      <td>1.040453e+12</td>\n",
       "      <td>22564.488900</td>\n",
       "      <td>0.016329</td>\n",
       "      <td>33.744718</td>\n",
       "      <td>17.267104</td>\n",
       "      <td>...</td>\n",
       "      <td>5.987349</td>\n",
       "      <td>1.756878</td>\n",
       "      <td>2.777742</td>\n",
       "      <td>1.796641e+07</td>\n",
       "      <td>33.839620</td>\n",
       "      <td>55.607686</td>\n",
       "      <td>49867.723843</td>\n",
       "      <td>4.623033</td>\n",
       "      <td>43.461442</td>\n",
       "      <td>46.433452</td>\n",
       "    </tr>\n",
       "    <tr>\n",
       "      <th>min</th>\n",
       "      <td>1985.000000</td>\n",
       "      <td>0.000000</td>\n",
       "      <td>4.500000e+03</td>\n",
       "      <td>0.000000</td>\n",
       "      <td>0.539000</td>\n",
       "      <td>1.468317e+09</td>\n",
       "      <td>426.000000</td>\n",
       "      <td>0.000000</td>\n",
       "      <td>0.000000</td>\n",
       "      <td>0.000000</td>\n",
       "      <td>...</td>\n",
       "      <td>0.000000</td>\n",
       "      <td>0.000000</td>\n",
       "      <td>0.000000</td>\n",
       "      <td>0.000000e+00</td>\n",
       "      <td>0.000000</td>\n",
       "      <td>0.000000</td>\n",
       "      <td>0.000000</td>\n",
       "      <td>0.000000</td>\n",
       "      <td>0.000000</td>\n",
       "      <td>0.000000</td>\n",
       "    </tr>\n",
       "    <tr>\n",
       "      <th>25%</th>\n",
       "      <td>1995.000000</td>\n",
       "      <td>18.000000</td>\n",
       "      <td>4.587632e+05</td>\n",
       "      <td>2.210000</td>\n",
       "      <td>0.746000</td>\n",
       "      <td>9.789109e+10</td>\n",
       "      <td>7612.000000</td>\n",
       "      <td>0.002206</td>\n",
       "      <td>0.000000</td>\n",
       "      <td>0.000000</td>\n",
       "      <td>...</td>\n",
       "      <td>0.000000</td>\n",
       "      <td>0.000000</td>\n",
       "      <td>0.000000</td>\n",
       "      <td>0.000000e+00</td>\n",
       "      <td>0.000000</td>\n",
       "      <td>0.000000</td>\n",
       "      <td>0.000000</td>\n",
       "      <td>0.000000</td>\n",
       "      <td>0.000000</td>\n",
       "      <td>0.000000</td>\n",
       "    </tr>\n",
       "    <tr>\n",
       "      <th>50%</th>\n",
       "      <td>2010.000000</td>\n",
       "      <td>78.000000</td>\n",
       "      <td>1.008634e+06</td>\n",
       "      <td>7.555000</td>\n",
       "      <td>0.826500</td>\n",
       "      <td>2.580655e+11</td>\n",
       "      <td>19912.000000</td>\n",
       "      <td>0.007554</td>\n",
       "      <td>28.319131</td>\n",
       "      <td>28.512193</td>\n",
       "      <td>...</td>\n",
       "      <td>6.476000</td>\n",
       "      <td>2.597950</td>\n",
       "      <td>0.000000</td>\n",
       "      <td>4.302448e+06</td>\n",
       "      <td>75.581927</td>\n",
       "      <td>72.935384</td>\n",
       "      <td>50.000000</td>\n",
       "      <td>0.660500</td>\n",
       "      <td>100.000000</td>\n",
       "      <td>85.312630</td>\n",
       "    </tr>\n",
       "    <tr>\n",
       "      <th>75%</th>\n",
       "      <td>2012.000000</td>\n",
       "      <td>248.250000</td>\n",
       "      <td>3.272471e+06</td>\n",
       "      <td>17.870000</td>\n",
       "      <td>0.884000</td>\n",
       "      <td>5.631100e+11</td>\n",
       "      <td>41184.000000</td>\n",
       "      <td>0.017873</td>\n",
       "      <td>67.089999</td>\n",
       "      <td>38.248283</td>\n",
       "      <td>...</td>\n",
       "      <td>9.146000</td>\n",
       "      <td>3.499100</td>\n",
       "      <td>3.000000</td>\n",
       "      <td>1.752937e+07</td>\n",
       "      <td>80.163415</td>\n",
       "      <td>114.601429</td>\n",
       "      <td>856.000000</td>\n",
       "      <td>2.201000</td>\n",
       "      <td>100.000000</td>\n",
       "      <td>96.620390</td>\n",
       "    </tr>\n",
       "    <tr>\n",
       "      <th>max</th>\n",
       "      <td>2014.000000</td>\n",
       "      <td>8073.000000</td>\n",
       "      <td>2.797110e+07</td>\n",
       "      <td>165.960000</td>\n",
       "      <td>0.944000</td>\n",
       "      <td>6.203210e+12</td>\n",
       "      <td>109804.000000</td>\n",
       "      <td>0.165961</td>\n",
       "      <td>96.546800</td>\n",
       "      <td>62.186783</td>\n",
       "      <td>...</td>\n",
       "      <td>30.229000</td>\n",
       "      <td>7.334100</td>\n",
       "      <td>12.000000</td>\n",
       "      <td>9.899009e+07</td>\n",
       "      <td>83.331951</td>\n",
       "      <td>172.121808</td>\n",
       "      <td>396717.000000</td>\n",
       "      <td>31.235001</td>\n",
       "      <td>100.000000</td>\n",
       "      <td>116.367400</td>\n",
       "    </tr>\n",
       "  </tbody>\n",
       "</table>\n",
       "<p>8 rows × 21 columns</p>\n",
       "</div>"
      ],
      "text/plain": [
       "              year     suicides    population  sucid_in_hundredk   yearly_hdi  \\\n",
       "count  4152.000000  4152.000000  4.152000e+03        4152.000000  4152.000000   \n",
       "mean   2004.635838   280.768064  2.507378e+06          13.047040     0.809491   \n",
       "std       9.206240   641.986372  3.593958e+06          16.328986     0.087930   \n",
       "min    1985.000000     0.000000  4.500000e+03           0.000000     0.539000   \n",
       "25%    1995.000000    18.000000  4.587632e+05           2.210000     0.746000   \n",
       "50%    2010.000000    78.000000  1.008634e+06           7.555000     0.826500   \n",
       "75%    2012.000000   248.250000  3.272471e+06          17.870000     0.884000   \n",
       "max    2014.000000  8073.000000  2.797110e+07         165.960000     0.944000   \n",
       "\n",
       "         yearly_gdp  gdp_per_capita     suicide%  internetusers     expenses  \\\n",
       "count  4.152000e+03     4152.000000  4152.000000    4152.000000  3828.000000   \n",
       "mean   6.447662e+11    25921.404624     0.013047      34.527586    24.022747   \n",
       "std    1.040453e+12    22564.488900     0.016329      33.744718    17.267104   \n",
       "min    1.468317e+09      426.000000     0.000000       0.000000     0.000000   \n",
       "25%    9.789109e+10     7612.000000     0.002206       0.000000     0.000000   \n",
       "50%    2.580655e+11    19912.000000     0.007554      28.319131    28.512193   \n",
       "75%    5.631100e+11    41184.000000     0.017873      67.089999    38.248283   \n",
       "max    6.203210e+12   109804.000000     0.165961      96.546800    62.186783   \n",
       "\n",
       "       ...  unemployment  physician_price  legalrights  laborforcetotal  \\\n",
       "count  ...   4152.000000      3576.000000  1476.000000     4.152000e+03   \n",
       "mean   ...      6.570720         2.218488     1.552846     1.146377e+07   \n",
       "std    ...      5.987349         1.756878     2.777742     1.796641e+07   \n",
       "min    ...      0.000000         0.000000     0.000000     0.000000e+00   \n",
       "25%    ...      0.000000         0.000000     0.000000     0.000000e+00   \n",
       "50%    ...      6.476000         2.597950     0.000000     4.302448e+06   \n",
       "75%    ...      9.146000         3.499100     3.000000     1.752937e+07   \n",
       "max    ...     30.229000         7.334100    12.000000     9.899009e+07   \n",
       "\n",
       "       lifeexpectancy  mobilesubscriptions       refugees  selfemployed  \\\n",
       "count     4152.000000          4152.000000    4116.000000   4152.000000   \n",
       "mean        57.485604            63.618038    9803.329446      2.337049   \n",
       "std         33.839620            55.607686   49867.723843      4.623033   \n",
       "min          0.000000             0.000000       0.000000      0.000000   \n",
       "25%          0.000000             0.000000       0.000000      0.000000   \n",
       "50%         75.581927            72.935384      50.000000      0.660500   \n",
       "75%         80.163415           114.601429     856.000000      2.201000   \n",
       "max         83.331951           172.121808  396717.000000     31.235001   \n",
       "\n",
       "       electricityacess  secondarycompletion  \n",
       "count       4092.000000          2544.000000  \n",
       "mean          73.531550            54.537283  \n",
       "std           43.461442            46.433452  \n",
       "min            0.000000             0.000000  \n",
       "25%            0.000000             0.000000  \n",
       "50%          100.000000            85.312630  \n",
       "75%          100.000000            96.620390  \n",
       "max          100.000000           116.367400  \n",
       "\n",
       "[8 rows x 21 columns]"
      ]
     },
     "execution_count": 25,
     "metadata": {},
     "output_type": "execute_result"
    }
   ],
   "source": [
    "complete_hdi.describe()"
   ]
  },
  {
   "cell_type": "code",
   "execution_count": 26,
   "metadata": {
    "colab": {
     "base_uri": "https://localhost:8080/",
     "height": 718
    },
    "id": "296d0109",
    "outputId": "a7b20a25-87be-43ea-9cb6-c235f9825fd5"
   },
   "outputs": [
    {
     "data": {
      "image/png": "[encoded data removed]",
      "text/plain": [
       "<Figure size 1800x720 with 2 Axes>"
      ]
     },
     "metadata": {
      "needs_background": "light"
     },
     "output_type": "display_data"
    }
   ],
   "source": [
    "sorted_final = final.sort_values(by = 'year')\n",
    "msno.matrix(sorted_final)\n",
    "plt.show()"
   ]
  },
  {
   "cell_type": "code",
   "execution_count": 27,
   "metadata": {
    "id": "f967d1ad"
   },
   "outputs": [],
   "source": [
    "final.drop('yearly_hdi', axis=1, inplace=True)\n",
    "final.drop('secondarycompletion', axis=1, inplace=True)\n",
    "final.drop('legalrights', axis=1, inplace=True)"
   ]
  },
  {
   "cell_type": "code",
   "execution_count": 28,
   "metadata": {
    "colab": {
     "base_uri": "https://localhost:8080/",
     "height": 833
    },
    "id": "d1e55a55",
    "outputId": "2eb13389-d765-4a9c-cb09-d84487b8e2d2"
   },
   "outputs": [
    {
     "data": {
      "text/html": [
       "<div>\n",
       "<style scoped>\n",
       "    .dataframe tbody tr th:only-of-type {\n",
       "        vertical-align: middle;\n",
       "    }\n",
       "\n",
       "    .dataframe tbody tr th {\n",
       "        vertical-align: top;\n",
       "    }\n",
       "\n",
       "    .dataframe thead th {\n",
       "        text-align: right;\n",
       "    }\n",
       "</style>\n",
       "<table border=\"1\" class=\"dataframe\">\n",
       "  <thead>\n",
       "    <tr style=\"text-align: right;\">\n",
       "      <th></th>\n",
       "      <th>percent_missing</th>\n",
       "    </tr>\n",
       "  </thead>\n",
       "  <tbody>\n",
       "    <tr>\n",
       "      <th>physician_price</th>\n",
       "      <td>15.546851</td>\n",
       "    </tr>\n",
       "    <tr>\n",
       "      <th>employeecompensation</th>\n",
       "      <td>9.038867</td>\n",
       "    </tr>\n",
       "    <tr>\n",
       "      <th>expenses</th>\n",
       "      <td>8.677312</td>\n",
       "    </tr>\n",
       "    <tr>\n",
       "      <th>electricityacess</th>\n",
       "      <td>2.350105</td>\n",
       "    </tr>\n",
       "    <tr>\n",
       "      <th>refugees</th>\n",
       "      <td>0.994275</td>\n",
       "    </tr>\n",
       "    <tr>\n",
       "      <th>internetusers</th>\n",
       "      <td>0.632721</td>\n",
       "    </tr>\n",
       "    <tr>\n",
       "      <th>continent</th>\n",
       "      <td>0.000000</td>\n",
       "    </tr>\n",
       "    <tr>\n",
       "      <th>selfemployed</th>\n",
       "      <td>0.000000</td>\n",
       "    </tr>\n",
       "    <tr>\n",
       "      <th>mobilesubscriptions</th>\n",
       "      <td>0.000000</td>\n",
       "    </tr>\n",
       "    <tr>\n",
       "      <th>lifeexpectancy</th>\n",
       "      <td>0.000000</td>\n",
       "    </tr>\n",
       "    <tr>\n",
       "      <th>laborforcetotal</th>\n",
       "      <td>0.000000</td>\n",
       "    </tr>\n",
       "    <tr>\n",
       "      <th>unemployment</th>\n",
       "      <td>0.000000</td>\n",
       "    </tr>\n",
       "    <tr>\n",
       "      <th>country</th>\n",
       "      <td>0.000000</td>\n",
       "    </tr>\n",
       "    <tr>\n",
       "      <th>year</th>\n",
       "      <td>0.000000</td>\n",
       "    </tr>\n",
       "    <tr>\n",
       "      <th>suicide%</th>\n",
       "      <td>0.000000</td>\n",
       "    </tr>\n",
       "    <tr>\n",
       "      <th>generation</th>\n",
       "      <td>0.000000</td>\n",
       "    </tr>\n",
       "    <tr>\n",
       "      <th>gdp_per_capita</th>\n",
       "      <td>0.000000</td>\n",
       "    </tr>\n",
       "    <tr>\n",
       "      <th>yearly_gdp</th>\n",
       "      <td>0.000000</td>\n",
       "    </tr>\n",
       "    <tr>\n",
       "      <th>country-year</th>\n",
       "      <td>0.000000</td>\n",
       "    </tr>\n",
       "    <tr>\n",
       "      <th>sucid_in_hundredk</th>\n",
       "      <td>0.000000</td>\n",
       "    </tr>\n",
       "    <tr>\n",
       "      <th>population</th>\n",
       "      <td>0.000000</td>\n",
       "    </tr>\n",
       "    <tr>\n",
       "      <th>suicides</th>\n",
       "      <td>0.000000</td>\n",
       "    </tr>\n",
       "    <tr>\n",
       "      <th>age</th>\n",
       "      <td>0.000000</td>\n",
       "    </tr>\n",
       "    <tr>\n",
       "      <th>sex</th>\n",
       "      <td>0.000000</td>\n",
       "    </tr>\n",
       "    <tr>\n",
       "      <th>country_code</th>\n",
       "      <td>0.000000</td>\n",
       "    </tr>\n",
       "  </tbody>\n",
       "</table>\n",
       "</div>"
      ],
      "text/plain": [
       "                      percent_missing\n",
       "physician_price             15.546851\n",
       "employeecompensation         9.038867\n",
       "expenses                     8.677312\n",
       "electricityacess             2.350105\n",
       "refugees                     0.994275\n",
       "internetusers                0.632721\n",
       "continent                    0.000000\n",
       "selfemployed                 0.000000\n",
       "mobilesubscriptions          0.000000\n",
       "lifeexpectancy               0.000000\n",
       "laborforcetotal              0.000000\n",
       "unemployment                 0.000000\n",
       "country                      0.000000\n",
       "year                         0.000000\n",
       "suicide%                     0.000000\n",
       "generation                   0.000000\n",
       "gdp_per_capita               0.000000\n",
       "yearly_gdp                   0.000000\n",
       "country-year                 0.000000\n",
       "sucid_in_hundredk            0.000000\n",
       "population                   0.000000\n",
       "suicides                     0.000000\n",
       "age                          0.000000\n",
       "sex                          0.000000\n",
       "country_code                 0.000000"
      ]
     },
     "execution_count": 28,
     "metadata": {},
     "output_type": "execute_result"
    }
   ],
   "source": [
    "#checking percentage of missing values\n",
    "percent_missing = final.isnull().sum() * 100 / len(final)\n",
    "missing_value_final = pd.DataFrame({'percent_missing': percent_missing})\n",
    "missing_value_final.sort_values('percent_missing', inplace=True, ascending=False)\n",
    "missing_value_final"
   ]
  },
  {
   "cell_type": "markdown",
   "metadata": {
    "id": "7758a447"
   },
   "source": [
    "in above case yearly_hdi,secondarycompletion and legalrights are missing more than 30%. I will be removing these columns as I am unable to replace the majority of data for them."
   ]
  },
  {
   "cell_type": "code",
   "execution_count": 29,
   "metadata": {
    "id": "9408d349"
   },
   "outputs": [],
   "source": [
    "final.internetusers=final.internetusers.fillna(final.internetusers\t. min())\n",
    "final.employeecompensation=final.employeecompensation.fillna(final.employeecompensation.mean())\n",
    "final.electricityacess=final.electricityacess.fillna(final.electricityacess.mean())\n",
    "final.refugees=final.refugees.fillna(final.refugees.mean())\n",
    "final.expenses=final.expenses.fillna(final.expenses.mean())\n",
    "final.physician_price=final.physician_price.fillna(final.physician_price.mean())"
   ]
  },
  {
   "cell_type": "code",
   "execution_count": 30,
   "metadata": {
    "colab": {
     "base_uri": "https://localhost:8080/",
     "height": 833
    },
    "id": "7HkVS6Rv2jPZ",
    "outputId": "a6591836-12b1-4342-e68f-1987336ccdc6"
   },
   "outputs": [
    {
     "data": {
      "text/html": [
       "<div>\n",
       "<style scoped>\n",
       "    .dataframe tbody tr th:only-of-type {\n",
       "        vertical-align: middle;\n",
       "    }\n",
       "\n",
       "    .dataframe tbody tr th {\n",
       "        vertical-align: top;\n",
       "    }\n",
       "\n",
       "    .dataframe thead th {\n",
       "        text-align: right;\n",
       "    }\n",
       "</style>\n",
       "<table border=\"1\" class=\"dataframe\">\n",
       "  <thead>\n",
       "    <tr style=\"text-align: right;\">\n",
       "      <th></th>\n",
       "      <th>percent_missing</th>\n",
       "    </tr>\n",
       "  </thead>\n",
       "  <tbody>\n",
       "    <tr>\n",
       "      <th>country</th>\n",
       "      <td>0.0</td>\n",
       "    </tr>\n",
       "    <tr>\n",
       "      <th>expenses</th>\n",
       "      <td>0.0</td>\n",
       "    </tr>\n",
       "    <tr>\n",
       "      <th>continent</th>\n",
       "      <td>0.0</td>\n",
       "    </tr>\n",
       "    <tr>\n",
       "      <th>electricityacess</th>\n",
       "      <td>0.0</td>\n",
       "    </tr>\n",
       "    <tr>\n",
       "      <th>selfemployed</th>\n",
       "      <td>0.0</td>\n",
       "    </tr>\n",
       "    <tr>\n",
       "      <th>refugees</th>\n",
       "      <td>0.0</td>\n",
       "    </tr>\n",
       "    <tr>\n",
       "      <th>mobilesubscriptions</th>\n",
       "      <td>0.0</td>\n",
       "    </tr>\n",
       "    <tr>\n",
       "      <th>lifeexpectancy</th>\n",
       "      <td>0.0</td>\n",
       "    </tr>\n",
       "    <tr>\n",
       "      <th>laborforcetotal</th>\n",
       "      <td>0.0</td>\n",
       "    </tr>\n",
       "    <tr>\n",
       "      <th>physician_price</th>\n",
       "      <td>0.0</td>\n",
       "    </tr>\n",
       "    <tr>\n",
       "      <th>unemployment</th>\n",
       "      <td>0.0</td>\n",
       "    </tr>\n",
       "    <tr>\n",
       "      <th>employeecompensation</th>\n",
       "      <td>0.0</td>\n",
       "    </tr>\n",
       "    <tr>\n",
       "      <th>internetusers</th>\n",
       "      <td>0.0</td>\n",
       "    </tr>\n",
       "    <tr>\n",
       "      <th>year</th>\n",
       "      <td>0.0</td>\n",
       "    </tr>\n",
       "    <tr>\n",
       "      <th>suicide%</th>\n",
       "      <td>0.0</td>\n",
       "    </tr>\n",
       "    <tr>\n",
       "      <th>generation</th>\n",
       "      <td>0.0</td>\n",
       "    </tr>\n",
       "    <tr>\n",
       "      <th>gdp_per_capita</th>\n",
       "      <td>0.0</td>\n",
       "    </tr>\n",
       "    <tr>\n",
       "      <th>yearly_gdp</th>\n",
       "      <td>0.0</td>\n",
       "    </tr>\n",
       "    <tr>\n",
       "      <th>country-year</th>\n",
       "      <td>0.0</td>\n",
       "    </tr>\n",
       "    <tr>\n",
       "      <th>sucid_in_hundredk</th>\n",
       "      <td>0.0</td>\n",
       "    </tr>\n",
       "    <tr>\n",
       "      <th>population</th>\n",
       "      <td>0.0</td>\n",
       "    </tr>\n",
       "    <tr>\n",
       "      <th>suicides</th>\n",
       "      <td>0.0</td>\n",
       "    </tr>\n",
       "    <tr>\n",
       "      <th>age</th>\n",
       "      <td>0.0</td>\n",
       "    </tr>\n",
       "    <tr>\n",
       "      <th>sex</th>\n",
       "      <td>0.0</td>\n",
       "    </tr>\n",
       "    <tr>\n",
       "      <th>country_code</th>\n",
       "      <td>0.0</td>\n",
       "    </tr>\n",
       "  </tbody>\n",
       "</table>\n",
       "</div>"
      ],
      "text/plain": [
       "                      percent_missing\n",
       "country                           0.0\n",
       "expenses                          0.0\n",
       "continent                         0.0\n",
       "electricityacess                  0.0\n",
       "selfemployed                      0.0\n",
       "refugees                          0.0\n",
       "mobilesubscriptions               0.0\n",
       "lifeexpectancy                    0.0\n",
       "laborforcetotal                   0.0\n",
       "physician_price                   0.0\n",
       "unemployment                      0.0\n",
       "employeecompensation              0.0\n",
       "internetusers                     0.0\n",
       "year                              0.0\n",
       "suicide%                          0.0\n",
       "generation                        0.0\n",
       "gdp_per_capita                    0.0\n",
       "yearly_gdp                        0.0\n",
       "country-year                      0.0\n",
       "sucid_in_hundredk                 0.0\n",
       "population                        0.0\n",
       "suicides                          0.0\n",
       "age                               0.0\n",
       "sex                               0.0\n",
       "country_code                      0.0"
      ]
     },
     "execution_count": 30,
     "metadata": {},
     "output_type": "execute_result"
    }
   ],
   "source": [
    "percent_missing = final.isnull().sum() * 100 / len(final)\n",
    "missing_value_final = pd.DataFrame({'percent_missing': percent_missing})\n",
    "missing_value_final.sort_values('percent_missing', inplace=True, ascending=False)\n",
    "missing_value_final"
   ]
  },
  {
   "cell_type": "code",
   "execution_count": 31,
   "metadata": {
    "colab": {
     "base_uri": "https://localhost:8080/"
    },
    "id": "0195d448",
    "outputId": "8516ced8-b4ff-42f2-99fe-e0d53644a33a"
   },
   "outputs": [
    {
     "data": {
      "text/plain": [
       "array([1985, 1986, 1987, 1988, 1989, 1990, 1991, 1992, 1993, 1994, 1995,\n",
       "       1996, 1997, 1998, 1999, 2000, 2001, 2002, 2003, 2004, 2005, 2006,\n",
       "       2007, 2008, 2009, 2010, 2011, 2012, 2013, 2014, 2015, 2016])"
      ]
     },
     "execution_count": 31,
     "metadata": {},
     "output_type": "execute_result"
    }
   ],
   "source": [
    "second_data.year.unique()"
   ]
  },
  {
   "cell_type": "code",
   "execution_count": 32,
   "metadata": {
    "colab": {
     "base_uri": "https://localhost:8080/"
    },
    "id": "2cc21c5b",
    "outputId": "17c6dc8e-8f88-4cf8-e59c-dbb68c3c6e23"
   },
   "outputs": [
    {
     "data": {
      "text/plain": [
       "array([1985, 1986, 1987, 1988, 1989, 1990, 1991, 1992, 1993, 1994, 1995,\n",
       "       1996, 1997, 1998, 1999, 2000, 2001, 2002, 2003, 2004, 2005, 2006,\n",
       "       2007, 2008, 2009, 2010, 2011, 2012, 2013, 2014, 2015, 2016])"
      ]
     },
     "execution_count": 32,
     "metadata": {},
     "output_type": "execute_result"
    }
   ],
   "source": [
    "final.year.unique()"
   ]
  },
  {
   "cell_type": "code",
   "execution_count": 33,
   "metadata": {
    "colab": {
     "base_uri": "https://localhost:8080/"
    },
    "id": "1ba3482c",
    "outputId": "dea5c1d1-3350-490c-f7e2-f64fc3e2765e"
   },
   "outputs": [
    {
     "data": {
      "text/plain": [
       "['Argentina', 'Armenia', 'Australia', 'Austria', 'Belgium', ..., 'Sweden', 'Switzerland', 'Thailand', 'Turkmenistan', 'Ukraine']\n",
       "Length: 39\n",
       "Categories (39, object): ['Argentina', 'Armenia', 'Australia', 'Austria', ..., 'Switzerland', 'Thailand', 'Turkmenistan', 'Ukraine']"
      ]
     },
     "execution_count": 33,
     "metadata": {},
     "output_type": "execute_result"
    }
   ],
   "source": [
    "final.country.unique()"
   ]
  },
  {
   "cell_type": "code",
   "execution_count": 34,
   "metadata": {
    "colab": {
     "base_uri": "https://localhost:8080/",
     "height": 275
    },
    "id": "fe1b9e98",
    "outputId": "5b1dadb2-e6f7-412c-cb3c-1de6da3966b2"
   },
   "outputs": [
    {
     "data": {
      "text/html": [
       "<div>\n",
       "<style scoped>\n",
       "    .dataframe tbody tr th:only-of-type {\n",
       "        vertical-align: middle;\n",
       "    }\n",
       "\n",
       "    .dataframe tbody tr th {\n",
       "        vertical-align: top;\n",
       "    }\n",
       "\n",
       "    .dataframe thead th {\n",
       "        text-align: right;\n",
       "    }\n",
       "</style>\n",
       "<table border=\"1\" class=\"dataframe\">\n",
       "  <thead>\n",
       "    <tr style=\"text-align: right;\">\n",
       "      <th></th>\n",
       "      <th>country</th>\n",
       "      <th>year</th>\n",
       "      <th>sex</th>\n",
       "      <th>age</th>\n",
       "      <th>suicides</th>\n",
       "      <th>population</th>\n",
       "      <th>sucid_in_hundredk</th>\n",
       "      <th>country-year</th>\n",
       "      <th>yearly_gdp</th>\n",
       "      <th>gdp_per_capita</th>\n",
       "      <th>...</th>\n",
       "      <th>unemployment</th>\n",
       "      <th>physician_price</th>\n",
       "      <th>laborforcetotal</th>\n",
       "      <th>lifeexpectancy</th>\n",
       "      <th>mobilesubscriptions</th>\n",
       "      <th>refugees</th>\n",
       "      <th>selfemployed</th>\n",
       "      <th>electricityacess</th>\n",
       "      <th>continent</th>\n",
       "      <th>country_code</th>\n",
       "    </tr>\n",
       "  </thead>\n",
       "  <tbody>\n",
       "    <tr>\n",
       "      <th>0</th>\n",
       "      <td>Argentina</td>\n",
       "      <td>1985</td>\n",
       "      <td>male</td>\n",
       "      <td>75+ years</td>\n",
       "      <td>202</td>\n",
       "      <td>363000</td>\n",
       "      <td>55.65</td>\n",
       "      <td>Argentina1985</td>\n",
       "      <td>8.841667e+10</td>\n",
       "      <td>3264</td>\n",
       "      <td>...</td>\n",
       "      <td>0.0</td>\n",
       "      <td>0.0</td>\n",
       "      <td>0</td>\n",
       "      <td>0.0</td>\n",
       "      <td>0.0</td>\n",
       "      <td>0.0</td>\n",
       "      <td>0.0</td>\n",
       "      <td>0.0</td>\n",
       "      <td>Americas</td>\n",
       "      <td>ARG</td>\n",
       "    </tr>\n",
       "    <tr>\n",
       "      <th>1</th>\n",
       "      <td>Argentina</td>\n",
       "      <td>1985</td>\n",
       "      <td>male</td>\n",
       "      <td>55-74 years</td>\n",
       "      <td>485</td>\n",
       "      <td>1997000</td>\n",
       "      <td>24.29</td>\n",
       "      <td>Argentina1985</td>\n",
       "      <td>8.841667e+10</td>\n",
       "      <td>3264</td>\n",
       "      <td>...</td>\n",
       "      <td>0.0</td>\n",
       "      <td>0.0</td>\n",
       "      <td>0</td>\n",
       "      <td>0.0</td>\n",
       "      <td>0.0</td>\n",
       "      <td>0.0</td>\n",
       "      <td>0.0</td>\n",
       "      <td>0.0</td>\n",
       "      <td>Americas</td>\n",
       "      <td>ARG</td>\n",
       "    </tr>\n",
       "  </tbody>\n",
       "</table>\n",
       "<p>2 rows × 25 columns</p>\n",
       "</div>"
      ],
      "text/plain": [
       "     country  year   sex          age  suicides  population  \\\n",
       "0  Argentina  1985  male    75+ years       202      363000   \n",
       "1  Argentina  1985  male  55-74 years       485     1997000   \n",
       "\n",
       "   sucid_in_hundredk   country-year    yearly_gdp  gdp_per_capita  ...  \\\n",
       "0              55.65  Argentina1985  8.841667e+10            3264  ...   \n",
       "1              24.29  Argentina1985  8.841667e+10            3264  ...   \n",
       "\n",
       "  unemployment  physician_price  laborforcetotal  lifeexpectancy  \\\n",
       "0          0.0              0.0                0             0.0   \n",
       "1          0.0              0.0                0             0.0   \n",
       "\n",
       "   mobilesubscriptions  refugees  selfemployed  electricityacess  continent  \\\n",
       "0                  0.0       0.0           0.0               0.0   Americas   \n",
       "1                  0.0       0.0           0.0               0.0   Americas   \n",
       "\n",
       "   country_code  \n",
       "0           ARG  \n",
       "1           ARG  \n",
       "\n",
       "[2 rows x 25 columns]"
      ]
     },
     "execution_count": 34,
     "metadata": {},
     "output_type": "execute_result"
    }
   ],
   "source": [
    "final.head(2)"
   ]
  },
  {
   "cell_type": "code",
   "execution_count": null,
   "metadata": {
    "id": "15f0e3cb"
   },
   "outputs": [],
   "source": []
  },
  {
   "cell_type": "code",
   "execution_count": 35,
   "metadata": {
    "colab": {
     "base_uri": "https://localhost:8080/"
    },
    "id": "6fdc0f3a",
    "outputId": "11cdbf01-be8c-4b00-bee7-67918268af9d"
   },
   "outputs": [
    {
     "data": {
      "text/plain": [
       "(13276, 25)"
      ]
     },
     "execution_count": 35,
     "metadata": {},
     "output_type": "execute_result"
    }
   ],
   "source": [
    "final.shape"
   ]
  },
  {
   "cell_type": "code",
   "execution_count": 36,
   "metadata": {
    "colab": {
     "base_uri": "https://localhost:8080/"
    },
    "id": "1843ec05",
    "outputId": "f306662b-3db3-4cc6-e2b3-759f0827ac14"
   },
   "outputs": [
    {
     "data": {
      "text/plain": [
       "Index(['country', 'year', 'sex', 'age', 'suicides', 'population',\n",
       "       'sucid_in_hundredk', 'country-year', 'yearly_gdp', 'gdp_per_capita',\n",
       "       'generation', 'suicide%', 'internetusers', 'expenses',\n",
       "       'employeecompensation', 'unemployment', 'physician_price',\n",
       "       'laborforcetotal', 'lifeexpectancy', 'mobilesubscriptions', 'refugees',\n",
       "       'selfemployed', 'electricityacess', 'continent', 'country_code'],\n",
       "      dtype='object')"
      ]
     },
     "execution_count": 36,
     "metadata": {},
     "output_type": "execute_result"
    }
   ],
   "source": [
    "final.columns"
   ]
  },
  {
   "cell_type": "code",
   "execution_count": 37,
   "metadata": {
    "colab": {
     "base_uri": "https://localhost:8080/"
    },
    "id": "41330371",
    "outputId": "0f6141bb-66bd-4167-a37a-8b1679f38dde"
   },
   "outputs": [
    {
     "data": {
      "text/plain": [
       "Index(['country', 'year', 'sex', 'age', 'suicides', 'population',\n",
       "       'sucid_in_hundredk', 'country-year', 'yearly_gdp', 'gdp_per_capita',\n",
       "       'generation', 'suicide%', 'internetusers', 'expenses',\n",
       "       'employeecompensation', 'unemployment', 'physician_price',\n",
       "       'laborforcetotal', 'lifeexpectancy', 'mobilesubscriptions', 'refugees',\n",
       "       'selfemployed', 'electricityacess', 'continent', 'country_code'],\n",
       "      dtype='object')"
      ]
     },
     "execution_count": 37,
     "metadata": {},
     "output_type": "execute_result"
    }
   ],
   "source": [
    "final.columns"
   ]
  },
  {
   "cell_type": "code",
   "execution_count": 38,
   "metadata": {
    "id": "b898ee43"
   },
   "outputs": [
    {
     "name": "stderr",
     "output_type": "stream",
     "text": [
      "/home/devendra/anaconda3/lib/python3.7/site-packages/ipykernel_launcher.py:15: FutureWarning: Dropping of nuisance columns in DataFrame reductions (with 'numeric_only=None') is deprecated; in a future version this will raise TypeError.  Select only valid columns before calling the reduction.\n",
      "  from ipykernel import kernelapp as app\n"
     ]
    }
   ],
   "source": [
    "final['internetusers'] = final['internetusers'].replace(r'^\\s*$', np.nan, regex=True)\n",
    "final['unemployment'] = final['unemployment'].replace(r'^\\s*$', np.nan, regex=True)\n",
    "final['physician_price'] = final['physician_price'].replace(r'^\\s*$', np.nan, regex=True)\n",
    "final['internetusers'] = final['internetusers'].replace(r'^\\s*$', np.nan, regex=True)\n",
    "final['laborforcetotal'] = final['laborforcetotal'].replace(r'^\\s*$', np.nan, regex=True)\n",
    "final['selfemployed'] = final['selfemployed'].replace(r'^\\s*$', np.nan, regex=True)\n",
    "final['electricityacess'] = final['electricityacess'].replace(r'^\\s*$', np.nan, regex=True)\n",
    "final['lifeexpectancy'] = final['lifeexpectancy'].replace(r'^\\s*$', np.nan, regex=True)\n",
    "final['mobilesubscription'] = final['mobilesubscriptions'].replace(r'^\\s*$', np.nan, regex=True)\n",
    "final['refugees'] = final['refugees'].replace(r'^\\s*$', np.nan, regex=True)\n",
    "final['expenses'] = final['expenses'].replace(r'^\\s*$', np.nan, regex=True)\n",
    "final['employeecompensation'] = final['employeecompensation'].replace(r'^\\s*$', np.nan, regex=True)\n",
    "final['physician_price'] = final['physician_price'].replace(r'^\\s*$', np.nan, regex=True)\n",
    "\n",
    "final.fillna(final.mean(), inplace=True)\n",
    "\n"
   ]
  },
  {
   "cell_type": "code",
   "execution_count": 39,
   "metadata": {
    "id": "cbd74302"
   },
   "outputs": [],
   "source": [
    "final.loc[ final['internetusers'] == 0 | np.isnan(final['internetusers']), 'internetusers' ] = final['internetusers'].mean()\n",
    "final.loc[ final['unemployment'] == 0 | np.isnan(final['unemployment']), 'unemployment' ] = final['unemployment'].mean()\n",
    "final.loc[ final['physician_price'] == 0 | np.isnan(final['physician_price']), 'physician_price' ] = final['physician_price'].min()\n",
    "final.loc[ final['laborforcetotal'] == 0 | np.isnan(final['laborforcetotal']), 'laborforcetotal' ] = final['laborforcetotal'].mean()\n",
    "final.loc[ final['selfemployed'] == 0 | np.isnan(final['selfemployed']), 'selfemployed' ] = final['selfemployed'].mean()\n",
    "final.loc[ final['electricityacess'] == 0 | np.isnan(final['electricityacess']), 'electricityacess' ] = final['electricityacess'].mean()\n",
    "final.loc[ final['lifeexpectancy'] == 0 | np.isnan(final['lifeexpectancy']), 'lifeexpectancy' ] = final['lifeexpectancy'].mean()\n",
    "final.loc[ final['mobilesubscriptions'] == 0 | np.isnan(final['mobilesubscriptions']), 'mobilesubscriptions' ] = final['mobilesubscriptions'].mean()\n",
    "final.loc[ final['refugees'] == 0 | np.isnan(final['refugees']), 'refugees' ] = final['refugees'].mean()\n",
    "final.loc[ final['expenses'] == 0 | np.isnan(final['expenses']), 'expenses' ] = final['expenses'].mean()\n",
    "final.loc[ final['employeecompensation'] == 0 | np.isnan(final['employeecompensation']), 'employeecompensation' ] = final['employeecompensation'].mean()\n",
    "final.loc[ final['physician_price'] == 0 | np.isnan(final['physician_price']), 'physician_price' ] = final['physician_price'].mean()"
   ]
  },
  {
   "cell_type": "code",
   "execution_count": 40,
   "metadata": {
    "colab": {
     "base_uri": "https://localhost:8080/",
     "height": 800
    },
    "id": "jtZ8dJvngMzm",
    "outputId": "32f07447-49d4-443d-8029-21d7f6e4f3ba"
   },
   "outputs": [
    {
     "data": {
      "text/html": [
       "<div>\n",
       "<style scoped>\n",
       "    .dataframe tbody tr th:only-of-type {\n",
       "        vertical-align: middle;\n",
       "    }\n",
       "\n",
       "    .dataframe tbody tr th {\n",
       "        vertical-align: top;\n",
       "    }\n",
       "\n",
       "    .dataframe thead th {\n",
       "        text-align: right;\n",
       "    }\n",
       "</style>\n",
       "<table border=\"1\" class=\"dataframe\">\n",
       "  <thead>\n",
       "    <tr style=\"text-align: right;\">\n",
       "      <th></th>\n",
       "      <th>country</th>\n",
       "      <th>year</th>\n",
       "      <th>sex</th>\n",
       "      <th>age</th>\n",
       "      <th>suicides</th>\n",
       "      <th>population</th>\n",
       "      <th>sucid_in_hundredk</th>\n",
       "      <th>country-year</th>\n",
       "      <th>yearly_gdp</th>\n",
       "      <th>gdp_per_capita</th>\n",
       "      <th>...</th>\n",
       "      <th>physician_price</th>\n",
       "      <th>laborforcetotal</th>\n",
       "      <th>lifeexpectancy</th>\n",
       "      <th>mobilesubscriptions</th>\n",
       "      <th>refugees</th>\n",
       "      <th>selfemployed</th>\n",
       "      <th>electricityacess</th>\n",
       "      <th>continent</th>\n",
       "      <th>country_code</th>\n",
       "      <th>mobilesubscription</th>\n",
       "    </tr>\n",
       "  </thead>\n",
       "  <tbody>\n",
       "    <tr>\n",
       "      <th>0</th>\n",
       "      <td>Argentina</td>\n",
       "      <td>1985</td>\n",
       "      <td>male</td>\n",
       "      <td>75+ years</td>\n",
       "      <td>202</td>\n",
       "      <td>363000</td>\n",
       "      <td>55.65</td>\n",
       "      <td>Argentina1985</td>\n",
       "      <td>8.841667e+10</td>\n",
       "      <td>3264</td>\n",
       "      <td>...</td>\n",
       "      <td>1.817658</td>\n",
       "      <td>1.077831e+07</td>\n",
       "      <td>50.156848</td>\n",
       "      <td>44.867006</td>\n",
       "      <td>10732.386792</td>\n",
       "      <td>2.157578</td>\n",
       "      <td>64.426681</td>\n",
       "      <td>Americas</td>\n",
       "      <td>ARG</td>\n",
       "      <td>0.0</td>\n",
       "    </tr>\n",
       "    <tr>\n",
       "      <th>1</th>\n",
       "      <td>Argentina</td>\n",
       "      <td>1985</td>\n",
       "      <td>male</td>\n",
       "      <td>55-74 years</td>\n",
       "      <td>485</td>\n",
       "      <td>1997000</td>\n",
       "      <td>24.29</td>\n",
       "      <td>Argentina1985</td>\n",
       "      <td>8.841667e+10</td>\n",
       "      <td>3264</td>\n",
       "      <td>...</td>\n",
       "      <td>1.817658</td>\n",
       "      <td>1.077831e+07</td>\n",
       "      <td>50.156848</td>\n",
       "      <td>44.867006</td>\n",
       "      <td>10732.386792</td>\n",
       "      <td>2.157578</td>\n",
       "      <td>64.426681</td>\n",
       "      <td>Americas</td>\n",
       "      <td>ARG</td>\n",
       "      <td>0.0</td>\n",
       "    </tr>\n",
       "    <tr>\n",
       "      <th>2</th>\n",
       "      <td>Argentina</td>\n",
       "      <td>1985</td>\n",
       "      <td>male</td>\n",
       "      <td>35-54 years</td>\n",
       "      <td>414</td>\n",
       "      <td>3346300</td>\n",
       "      <td>12.37</td>\n",
       "      <td>Argentina1985</td>\n",
       "      <td>8.841667e+10</td>\n",
       "      <td>3264</td>\n",
       "      <td>...</td>\n",
       "      <td>1.817658</td>\n",
       "      <td>1.077831e+07</td>\n",
       "      <td>50.156848</td>\n",
       "      <td>44.867006</td>\n",
       "      <td>10732.386792</td>\n",
       "      <td>2.157578</td>\n",
       "      <td>64.426681</td>\n",
       "      <td>Americas</td>\n",
       "      <td>ARG</td>\n",
       "      <td>0.0</td>\n",
       "    </tr>\n",
       "    <tr>\n",
       "      <th>3</th>\n",
       "      <td>Argentina</td>\n",
       "      <td>1985</td>\n",
       "      <td>female</td>\n",
       "      <td>55-74 years</td>\n",
       "      <td>210</td>\n",
       "      <td>2304000</td>\n",
       "      <td>9.11</td>\n",
       "      <td>Argentina1985</td>\n",
       "      <td>8.841667e+10</td>\n",
       "      <td>3264</td>\n",
       "      <td>...</td>\n",
       "      <td>1.817658</td>\n",
       "      <td>1.077831e+07</td>\n",
       "      <td>50.156848</td>\n",
       "      <td>44.867006</td>\n",
       "      <td>10732.386792</td>\n",
       "      <td>2.157578</td>\n",
       "      <td>64.426681</td>\n",
       "      <td>Americas</td>\n",
       "      <td>ARG</td>\n",
       "      <td>0.0</td>\n",
       "    </tr>\n",
       "    <tr>\n",
       "      <th>4</th>\n",
       "      <td>Argentina</td>\n",
       "      <td>1985</td>\n",
       "      <td>male</td>\n",
       "      <td>25-34 years</td>\n",
       "      <td>177</td>\n",
       "      <td>2234200</td>\n",
       "      <td>7.92</td>\n",
       "      <td>Argentina1985</td>\n",
       "      <td>8.841667e+10</td>\n",
       "      <td>3264</td>\n",
       "      <td>...</td>\n",
       "      <td>1.817658</td>\n",
       "      <td>1.077831e+07</td>\n",
       "      <td>50.156848</td>\n",
       "      <td>44.867006</td>\n",
       "      <td>10732.386792</td>\n",
       "      <td>2.157578</td>\n",
       "      <td>64.426681</td>\n",
       "      <td>Americas</td>\n",
       "      <td>ARG</td>\n",
       "      <td>0.0</td>\n",
       "    </tr>\n",
       "    <tr>\n",
       "      <th>...</th>\n",
       "      <td>...</td>\n",
       "      <td>...</td>\n",
       "      <td>...</td>\n",
       "      <td>...</td>\n",
       "      <td>...</td>\n",
       "      <td>...</td>\n",
       "      <td>...</td>\n",
       "      <td>...</td>\n",
       "      <td>...</td>\n",
       "      <td>...</td>\n",
       "      <td>...</td>\n",
       "      <td>...</td>\n",
       "      <td>...</td>\n",
       "      <td>...</td>\n",
       "      <td>...</td>\n",
       "      <td>...</td>\n",
       "      <td>...</td>\n",
       "      <td>...</td>\n",
       "      <td>...</td>\n",
       "      <td>...</td>\n",
       "      <td>...</td>\n",
       "    </tr>\n",
       "    <tr>\n",
       "      <th>14025</th>\n",
       "      <td>Ukraine</td>\n",
       "      <td>2015</td>\n",
       "      <td>female</td>\n",
       "      <td>35-54 years</td>\n",
       "      <td>427</td>\n",
       "      <td>6309963</td>\n",
       "      <td>6.77</td>\n",
       "      <td>Ukraine2015</td>\n",
       "      <td>9.103096e+10</td>\n",
       "      <td>2256</td>\n",
       "      <td>...</td>\n",
       "      <td>1.817658</td>\n",
       "      <td>1.077831e+07</td>\n",
       "      <td>50.156848</td>\n",
       "      <td>44.867006</td>\n",
       "      <td>10732.386792</td>\n",
       "      <td>2.157578</td>\n",
       "      <td>64.426681</td>\n",
       "      <td>Europe</td>\n",
       "      <td>UKR</td>\n",
       "      <td>0.0</td>\n",
       "    </tr>\n",
       "    <tr>\n",
       "      <th>14026</th>\n",
       "      <td>Ukraine</td>\n",
       "      <td>2015</td>\n",
       "      <td>female</td>\n",
       "      <td>15-24 years</td>\n",
       "      <td>117</td>\n",
       "      <td>2281055</td>\n",
       "      <td>5.13</td>\n",
       "      <td>Ukraine2015</td>\n",
       "      <td>9.103096e+10</td>\n",
       "      <td>2256</td>\n",
       "      <td>...</td>\n",
       "      <td>1.817658</td>\n",
       "      <td>1.077831e+07</td>\n",
       "      <td>50.156848</td>\n",
       "      <td>44.867006</td>\n",
       "      <td>10732.386792</td>\n",
       "      <td>2.157578</td>\n",
       "      <td>64.426681</td>\n",
       "      <td>Europe</td>\n",
       "      <td>UKR</td>\n",
       "      <td>0.0</td>\n",
       "    </tr>\n",
       "    <tr>\n",
       "      <th>14027</th>\n",
       "      <td>Ukraine</td>\n",
       "      <td>2015</td>\n",
       "      <td>female</td>\n",
       "      <td>25-34 years</td>\n",
       "      <td>168</td>\n",
       "      <td>3421535</td>\n",
       "      <td>4.91</td>\n",
       "      <td>Ukraine2015</td>\n",
       "      <td>9.103096e+10</td>\n",
       "      <td>2256</td>\n",
       "      <td>...</td>\n",
       "      <td>1.817658</td>\n",
       "      <td>1.077831e+07</td>\n",
       "      <td>50.156848</td>\n",
       "      <td>44.867006</td>\n",
       "      <td>10732.386792</td>\n",
       "      <td>2.157578</td>\n",
       "      <td>64.426681</td>\n",
       "      <td>Europe</td>\n",
       "      <td>UKR</td>\n",
       "      <td>0.0</td>\n",
       "    </tr>\n",
       "    <tr>\n",
       "      <th>14028</th>\n",
       "      <td>Ukraine</td>\n",
       "      <td>2015</td>\n",
       "      <td>male</td>\n",
       "      <td>5-14 years</td>\n",
       "      <td>33</td>\n",
       "      <td>2131084</td>\n",
       "      <td>1.55</td>\n",
       "      <td>Ukraine2015</td>\n",
       "      <td>9.103096e+10</td>\n",
       "      <td>2256</td>\n",
       "      <td>...</td>\n",
       "      <td>1.817658</td>\n",
       "      <td>1.077831e+07</td>\n",
       "      <td>50.156848</td>\n",
       "      <td>44.867006</td>\n",
       "      <td>10732.386792</td>\n",
       "      <td>2.157578</td>\n",
       "      <td>64.426681</td>\n",
       "      <td>Europe</td>\n",
       "      <td>UKR</td>\n",
       "      <td>0.0</td>\n",
       "    </tr>\n",
       "    <tr>\n",
       "      <th>14029</th>\n",
       "      <td>Ukraine</td>\n",
       "      <td>2015</td>\n",
       "      <td>female</td>\n",
       "      <td>5-14 years</td>\n",
       "      <td>19</td>\n",
       "      <td>2010824</td>\n",
       "      <td>0.94</td>\n",
       "      <td>Ukraine2015</td>\n",
       "      <td>9.103096e+10</td>\n",
       "      <td>2256</td>\n",
       "      <td>...</td>\n",
       "      <td>1.817658</td>\n",
       "      <td>1.077831e+07</td>\n",
       "      <td>50.156848</td>\n",
       "      <td>44.867006</td>\n",
       "      <td>10732.386792</td>\n",
       "      <td>2.157578</td>\n",
       "      <td>64.426681</td>\n",
       "      <td>Europe</td>\n",
       "      <td>UKR</td>\n",
       "      <td>0.0</td>\n",
       "    </tr>\n",
       "  </tbody>\n",
       "</table>\n",
       "<p>13276 rows × 26 columns</p>\n",
       "</div>"
      ],
      "text/plain": [
       "         country  year     sex          age  suicides  population  \\\n",
       "0      Argentina  1985    male    75+ years       202      363000   \n",
       "1      Argentina  1985    male  55-74 years       485     1997000   \n",
       "2      Argentina  1985    male  35-54 years       414     3346300   \n",
       "3      Argentina  1985  female  55-74 years       210     2304000   \n",
       "4      Argentina  1985    male  25-34 years       177     2234200   \n",
       "...          ...   ...     ...          ...       ...         ...   \n",
       "14025    Ukraine  2015  female  35-54 years       427     6309963   \n",
       "14026    Ukraine  2015  female  15-24 years       117     2281055   \n",
       "14027    Ukraine  2015  female  25-34 years       168     3421535   \n",
       "14028    Ukraine  2015    male   5-14 years        33     2131084   \n",
       "14029    Ukraine  2015  female   5-14 years        19     2010824   \n",
       "\n",
       "       sucid_in_hundredk   country-year    yearly_gdp  gdp_per_capita  ...  \\\n",
       "0                  55.65  Argentina1985  8.841667e+10            3264  ...   \n",
       "1                  24.29  Argentina1985  8.841667e+10            3264  ...   \n",
       "2                  12.37  Argentina1985  8.841667e+10            3264  ...   \n",
       "3                   9.11  Argentina1985  8.841667e+10            3264  ...   \n",
       "4                   7.92  Argentina1985  8.841667e+10            3264  ...   \n",
       "...                  ...            ...           ...             ...  ...   \n",
       "14025               6.77    Ukraine2015  9.103096e+10            2256  ...   \n",
       "14026               5.13    Ukraine2015  9.103096e+10            2256  ...   \n",
       "14027               4.91    Ukraine2015  9.103096e+10            2256  ...   \n",
       "14028               1.55    Ukraine2015  9.103096e+10            2256  ...   \n",
       "14029               0.94    Ukraine2015  9.103096e+10            2256  ...   \n",
       "\n",
       "      physician_price  laborforcetotal  lifeexpectancy  mobilesubscriptions  \\\n",
       "0            1.817658     1.077831e+07       50.156848            44.867006   \n",
       "1            1.817658     1.077831e+07       50.156848            44.867006   \n",
       "2            1.817658     1.077831e+07       50.156848            44.867006   \n",
       "3            1.817658     1.077831e+07       50.156848            44.867006   \n",
       "4            1.817658     1.077831e+07       50.156848            44.867006   \n",
       "...               ...              ...             ...                  ...   \n",
       "14025        1.817658     1.077831e+07       50.156848            44.867006   \n",
       "14026        1.817658     1.077831e+07       50.156848            44.867006   \n",
       "14027        1.817658     1.077831e+07       50.156848            44.867006   \n",
       "14028        1.817658     1.077831e+07       50.156848            44.867006   \n",
       "14029        1.817658     1.077831e+07       50.156848            44.867006   \n",
       "\n",
       "           refugees  selfemployed  electricityacess  continent  country_code  \\\n",
       "0      10732.386792      2.157578         64.426681   Americas           ARG   \n",
       "1      10732.386792      2.157578         64.426681   Americas           ARG   \n",
       "2      10732.386792      2.157578         64.426681   Americas           ARG   \n",
       "3      10732.386792      2.157578         64.426681   Americas           ARG   \n",
       "4      10732.386792      2.157578         64.426681   Americas           ARG   \n",
       "...             ...           ...               ...        ...           ...   \n",
       "14025  10732.386792      2.157578         64.426681     Europe           UKR   \n",
       "14026  10732.386792      2.157578         64.426681     Europe           UKR   \n",
       "14027  10732.386792      2.157578         64.426681     Europe           UKR   \n",
       "14028  10732.386792      2.157578         64.426681     Europe           UKR   \n",
       "14029  10732.386792      2.157578         64.426681     Europe           UKR   \n",
       "\n",
       "       mobilesubscription  \n",
       "0                     0.0  \n",
       "1                     0.0  \n",
       "2                     0.0  \n",
       "3                     0.0  \n",
       "4                     0.0  \n",
       "...                   ...  \n",
       "14025                 0.0  \n",
       "14026                 0.0  \n",
       "14027                 0.0  \n",
       "14028                 0.0  \n",
       "14029                 0.0  \n",
       "\n",
       "[13276 rows x 26 columns]"
      ]
     },
     "execution_count": 40,
     "metadata": {},
     "output_type": "execute_result"
    }
   ],
   "source": [
    "final"
   ]
  },
  {
   "cell_type": "code",
   "execution_count": 41,
   "metadata": {
    "colab": {
     "base_uri": "https://localhost:8080/"
    },
    "id": "8d45a4dd",
    "outputId": "9a89930e-c215-46ef-9b79-b69d9103a967"
   },
   "outputs": [
    {
     "name": "stderr",
     "output_type": "stream",
     "text": [
      "/home/devendra/anaconda3/lib/python3.7/site-packages/ipykernel_launcher.py:1: FutureWarning: Dropping of nuisance columns in DataFrame reductions (with 'numeric_only=None') is deprecated; in a future version this will raise TypeError.  Select only valid columns before calling the reduction.\n",
      "  \"\"\"Entry point for launching an IPython kernel.\n"
     ]
    }
   ],
   "source": [
    "final.fillna(final.mean(), inplace=True)"
   ]
  },
  {
   "cell_type": "code",
   "execution_count": 42,
   "metadata": {
    "colab": {
     "base_uri": "https://localhost:8080/"
    },
    "id": "nm9OobVm2jPi",
    "outputId": "86e74ffc-b90f-4f40-f456-68acdb64ebd7"
   },
   "outputs": [
    {
     "data": {
      "text/plain": [
       "(13276, 26)"
      ]
     },
     "execution_count": 42,
     "metadata": {},
     "output_type": "execute_result"
    }
   ],
   "source": [
    "final.shape"
   ]
  },
  {
   "cell_type": "code",
   "execution_count": 43,
   "metadata": {
    "colab": {
     "base_uri": "https://localhost:8080/"
    },
    "id": "76d0024b",
    "outputId": "69bbecb1-03d7-4b50-e940-6df39e804db4"
   },
   "outputs": [
    {
     "data": {
      "text/plain": [
       "Index(['country', 'year', 'sex', 'age', 'suicides', 'population',\n",
       "       'sucid_in_hundredk', 'country-year', 'yearly_gdp', 'gdp_per_capita',\n",
       "       'generation', 'suicide%', 'internetusers', 'expenses',\n",
       "       'employeecompensation', 'unemployment', 'physician_price',\n",
       "       'laborforcetotal', 'lifeexpectancy', 'mobilesubscriptions', 'refugees',\n",
       "       'selfemployed', 'electricityacess', 'continent', 'country_code',\n",
       "       'mobilesubscription'],\n",
       "      dtype='object')"
      ]
     },
     "execution_count": 43,
     "metadata": {},
     "output_type": "execute_result"
    }
   ],
   "source": [
    "final.columns"
   ]
  },
  {
   "cell_type": "code",
   "execution_count": null,
   "metadata": {
    "id": "OZEekpMTnnjB"
   },
   "outputs": [],
   "source": []
  },
  {
   "cell_type": "code",
   "execution_count": 44,
   "metadata": {
    "id": "079544f9"
   },
   "outputs": [],
   "source": [
    "# define function called plot_box\n",
    "def plot_box(final, ft):\n",
    "    final.boxplot(column=[ft])\n",
    "    plt.grid(False)\n",
    "    plt.show()"
   ]
  },
  {
   "cell_type": "code",
   "execution_count": 45,
   "metadata": {
    "colab": {
     "base_uri": "https://localhost:8080/",
     "height": 265
    },
    "id": "2836bf87",
    "outputId": "91170f2f-09a5-4b5f-c4c1-be88392140a3"
   },
   "outputs": [
    {
     "data": {
      "image/png": "[encoded data removed]",
      "text/plain": [
       "<Figure size 432x288 with 1 Axes>"
      ]
     },
     "metadata": {
      "needs_background": "light"
     },
     "output_type": "display_data"
    }
   ],
   "source": [
    "# plot the diagram\n",
    "plot_box(final, \"suicides\")"
   ]
  },
  {
   "cell_type": "code",
   "execution_count": 46,
   "metadata": {
    "colab": {
     "base_uri": "https://localhost:8080/"
    },
    "id": "clINmehYoEzq",
    "outputId": "6cf241f8-0ff5-485f-c990-e0b08b0b7ce7"
   },
   "outputs": [
    {
     "data": {
      "text/plain": [
       "0        202\n",
       "1        485\n",
       "2        414\n",
       "3        210\n",
       "4        177\n",
       "        ... \n",
       "14025    427\n",
       "14026    117\n",
       "14027    168\n",
       "14028     33\n",
       "14029     19\n",
       "Name: suicides, Length: 13276, dtype: int64"
      ]
     },
     "execution_count": 46,
     "metadata": {},
     "output_type": "execute_result"
    }
   ],
   "source": [
    "final.suicides"
   ]
  },
  {
   "cell_type": "code",
   "execution_count": 47,
   "metadata": {
    "colab": {
     "base_uri": "https://localhost:8080/",
     "height": 276
    },
    "id": "beea177b",
    "outputId": "7e7e8434-e451-4b22-a9e7-3475b164b49d"
   },
   "outputs": [
    {
     "data": {
      "image/png": "[encoded data removed]",
      "text/plain": [
       "<Figure size 432x288 with 1 Axes>"
      ]
     },
     "metadata": {
      "needs_background": "light"
     },
     "output_type": "display_data"
    }
   ],
   "source": [
    "# plot the diagram\n",
    "plot_box(final, \"population\")"
   ]
  },
  {
   "cell_type": "code",
   "execution_count": 48,
   "metadata": {
    "colab": {
     "base_uri": "https://localhost:8080/",
     "height": 267
    },
    "id": "e41f77c4",
    "outputId": "13d4e87e-11de-4008-a7b8-d1ccff3e8093"
   },
   "outputs": [
    {
     "data": {
      "image/png": "[encoded data removed]",
      "text/plain": [
       "<Figure size 432x288 with 1 Axes>"
      ]
     },
     "metadata": {
      "needs_background": "light"
     },
     "output_type": "display_data"
    }
   ],
   "source": [
    "plot_box(final, \"internetusers\")\n"
   ]
  },
  {
   "cell_type": "code",
   "execution_count": 49,
   "metadata": {
    "colab": {
     "base_uri": "https://localhost:8080/"
    },
    "id": "31c70439",
    "outputId": "844fc84e-3c8c-45dc-cce3-57c9fdac2fc1"
   },
   "outputs": [
    {
     "data": {
      "text/plain": [
       "(13276, 26)"
      ]
     },
     "execution_count": 49,
     "metadata": {},
     "output_type": "execute_result"
    }
   ],
   "source": [
    "final.shape"
   ]
  },
  {
   "cell_type": "code",
   "execution_count": 50,
   "metadata": {
    "colab": {
     "base_uri": "https://localhost:8080/"
    },
    "id": "8bd277c3",
    "outputId": "dd21903e-efb8-486c-b1e6-68edf4e1d587"
   },
   "outputs": [
    {
     "data": {
      "text/plain": [
       "Index(['country', 'year', 'sex', 'age', 'suicides', 'population',\n",
       "       'sucid_in_hundredk', 'country-year', 'yearly_gdp', 'gdp_per_capita',\n",
       "       'generation', 'suicide%', 'internetusers', 'expenses',\n",
       "       'employeecompensation', 'unemployment', 'physician_price',\n",
       "       'laborforcetotal', 'lifeexpectancy', 'mobilesubscriptions', 'refugees',\n",
       "       'selfemployed', 'electricityacess', 'continent', 'country_code',\n",
       "       'mobilesubscription'],\n",
       "      dtype='object')"
      ]
     },
     "execution_count": 50,
     "metadata": {},
     "output_type": "execute_result"
    }
   ],
   "source": [
    "final.columns"
   ]
  },
  {
   "cell_type": "code",
   "execution_count": 51,
   "metadata": {
    "id": "7dad9952"
   },
   "outputs": [],
   "source": [
    "final.loc[:, 'expenses':'refugees'] = final.loc[:, 'expenses':'refugees'].fillna(final['employeecompensation'].mean()) "
   ]
  },
  {
   "cell_type": "code",
   "execution_count": 52,
   "metadata": {
    "colab": {
     "base_uri": "https://localhost:8080/"
    },
    "id": "6eefb50b",
    "outputId": "465718bd-3031-4534-f075-850515812a4a"
   },
   "outputs": [
    {
     "data": {
      "text/plain": [
       "country                 0\n",
       "year                    0\n",
       "sex                     0\n",
       "age                     0\n",
       "suicides                0\n",
       "population              0\n",
       "sucid_in_hundredk       0\n",
       "country-year            0\n",
       "yearly_gdp              0\n",
       "gdp_per_capita          0\n",
       "generation              0\n",
       "suicide%                0\n",
       "internetusers           0\n",
       "expenses                0\n",
       "employeecompensation    0\n",
       "unemployment            0\n",
       "physician_price         0\n",
       "laborforcetotal         0\n",
       "lifeexpectancy          0\n",
       "mobilesubscriptions     0\n",
       "refugees                0\n",
       "selfemployed            0\n",
       "electricityacess        0\n",
       "continent               0\n",
       "country_code            0\n",
       "mobilesubscription      0\n",
       "dtype: int64"
      ]
     },
     "execution_count": 52,
     "metadata": {},
     "output_type": "execute_result"
    }
   ],
   "source": [
    "final.isnull().sum()"
   ]
  },
  {
   "cell_type": "code",
   "execution_count": 53,
   "metadata": {
    "colab": {
     "base_uri": "https://localhost:8080/"
    },
    "id": "d6d55db1",
    "outputId": "0cc2f252-5cf9-4581-8ba6-1e259f5024d6"
   },
   "outputs": [
    {
     "name": "stdout",
     "output_type": "stream",
     "text": [
      "<class 'pandas.core.frame.DataFrame'>\n",
      "Int64Index: 13276 entries, 0 to 14029\n",
      "Data columns (total 26 columns):\n",
      " #   Column                Non-Null Count  Dtype   \n",
      "---  ------                --------------  -----   \n",
      " 0   country               13276 non-null  category\n",
      " 1   year                  13276 non-null  int64   \n",
      " 2   sex                   13276 non-null  category\n",
      " 3   age                   13276 non-null  category\n",
      " 4   suicides              13276 non-null  int64   \n",
      " 5   population            13276 non-null  int64   \n",
      " 6   sucid_in_hundredk     13276 non-null  float64 \n",
      " 7   country-year          13276 non-null  object  \n",
      " 8   yearly_gdp            13276 non-null  float64 \n",
      " 9   gdp_per_capita        13276 non-null  int64   \n",
      " 10  generation            13276 non-null  category\n",
      " 11  suicide%              13276 non-null  float64 \n",
      " 12  internetusers         13276 non-null  float64 \n",
      " 13  expenses              13276 non-null  float64 \n",
      " 14  employeecompensation  13276 non-null  float64 \n",
      " 15  unemployment          13276 non-null  float64 \n",
      " 16  physician_price       13276 non-null  float64 \n",
      " 17  laborforcetotal       13276 non-null  float64 \n",
      " 18  lifeexpectancy        13276 non-null  float64 \n",
      " 19  mobilesubscriptions   13276 non-null  float64 \n",
      " 20  refugees              13276 non-null  float64 \n",
      " 21  selfemployed          13276 non-null  float64 \n",
      " 22  electricityacess      13276 non-null  float64 \n",
      " 23  continent             13276 non-null  category\n",
      " 24  country_code          13276 non-null  object  \n",
      " 25  mobilesubscription    13276 non-null  float64 \n",
      "dtypes: category(5), float64(15), int64(4), object(2)\n",
      "memory usage: 2.3+ MB\n"
     ]
    }
   ],
   "source": [
    "final.info()"
   ]
  },
  {
   "cell_type": "code",
   "execution_count": 54,
   "metadata": {
    "colab": {
     "base_uri": "https://localhost:8080/"
    },
    "id": "-EoyZYVAqSyD",
    "outputId": "d39b9de1-1a77-4981-f32a-b4357045d310"
   },
   "outputs": [
    {
     "data": {
      "text/plain": [
       "age\n",
       "15-24 years     61.03\n",
       "25-34 years     94.18\n",
       "35-54 years    117.30\n",
       "5-14 years       4.85\n",
       "55-74 years    103.86\n",
       "75+ years      177.61\n",
       "Name: sucid_in_hundredk, dtype: float64"
      ]
     },
     "execution_count": 54,
     "metadata": {},
     "output_type": "execute_result"
    }
   ],
   "source": [
    "final.groupby([\"age\"])[\"sucid_in_hundredk\"].max()"
   ]
  },
  {
   "cell_type": "code",
   "execution_count": 55,
   "metadata": {
    "colab": {
     "base_uri": "https://localhost:8080/"
    },
    "id": "1isFshkRqGwN",
    "outputId": "ca78a8a9-5280-4168-a39e-6c8260ecf8c1"
   },
   "outputs": [
    {
     "data": {
      "text/plain": [
       "age\n",
       "15-24 years     9.419292\n",
       "25-34 years    12.791467\n",
       "35-54 years    16.427753\n",
       "5-14 years      0.543037\n",
       "55-74 years    18.425830\n",
       "75+ years      28.320153\n",
       "Name: sucid_in_hundredk, dtype: float64"
      ]
     },
     "execution_count": 55,
     "metadata": {},
     "output_type": "execute_result"
    }
   ],
   "source": [
    "final.groupby([\"age\"])[\"sucid_in_hundredk\"].mean()"
   ]
  },
  {
   "cell_type": "code",
   "execution_count": 56,
   "metadata": {
    "colab": {
     "base_uri": "https://localhost:8080/"
    },
    "id": "2BOxt9h5oOfy",
    "outputId": "a8938407-2913-4bb0-8b7c-807c23b76e35"
   },
   "outputs": [
    {
     "data": {
      "text/plain": [
       "age\n",
       "15-24 years     8.831583\n",
       "25-34 years    12.471058\n",
       "35-54 years    15.622347\n",
       "5-14 years      0.573569\n",
       "55-74 years    15.991798\n",
       "75+ years      29.245087\n",
       "Name: sucid_in_hundredk, dtype: float64"
      ]
     },
     "execution_count": 56,
     "metadata": {},
     "output_type": "execute_result"
    }
   ],
   "source": [
    "final.groupby([\"age\"])[\"sucid_in_hundredk\"].std()"
   ]
  },
  {
   "cell_type": "code",
   "execution_count": 57,
   "metadata": {
    "id": "1_kELAb3FHOl"
   },
   "outputs": [],
   "source": [
    "### Outlier detection and removal\n",
    "# getting nearest neighbors using knn\n",
    "# outlier library import\n",
    "from sklearn.cluster import DBSCAN\n",
    "from sklearn.neighbors import NearestNeighbors\n",
    "from sklearn.preprocessing import StandardScaler\n",
    "\n",
    "nearestn=NearestNeighbors(n_neighbors=2)"
   ]
  },
  {
   "cell_type": "code",
   "execution_count": 58,
   "metadata": {
    "colab": {
     "base_uri": "https://localhost:8080/",
     "height": 603
    },
    "id": "V3tlaJuQZzn6",
    "outputId": "b7b35dcb-0512-4b7d-9759-3fb41c618cbf"
   },
   "outputs": [
    {
     "name": "stdout",
     "output_type": "stream",
     "text": [
      "nunber of records:  13276\n"
     ]
    },
    {
     "data": {
      "image/png": "[encoded data removed]",
      "text/plain": [
       "<Figure size 1152x576 with 1 Axes>"
      ]
     },
     "metadata": {
      "needs_background": "light"
     },
     "output_type": "display_data"
    },
    {
     "name": "stdout",
     "output_type": "stream",
     "text": [
      "Total 483 are outliers\n",
      "Estimated number of clusters: 361\n",
      "Estimated number of noise points: 483\n",
      "Before removing outliers, total number of records:  13276\n",
      "After removing outliers, total number of records:  12793\n"
     ]
    }
   ],
   "source": [
    "outlier_threshold = 0.85\n",
    "\n",
    "for_DBSCAN = final.copy()\n",
    "\n",
    "#getting numerical columns\n",
    "num_df = for_DBSCAN._get_numeric_data()\n",
    "num_df = num_df.drop([\"year\"], axis = 1)\n",
    "X = StandardScaler().fit_transform(num_df)\n",
    "\n",
    "\n",
    "# outlier removal function\n",
    "print(\"nunber of records: \",len(X))\n",
    "temp = X.copy()\n",
    "nbrs=nearestn.fit(temp)\n",
    "distances,indices=nbrs.kneighbors(temp)\n",
    "distances=np.sort(distances,axis=0)\n",
    "distances=distances[:,1]\n",
    "fig = plt.figure(figsize=(16, 8))\n",
    "plt.plot(distances)\n",
    "plt.title(\"Distances from the clusters and the threshold\")\n",
    "plt.axhline(y=outlier_threshold,color=\"red\")\n",
    "plt.show()\n",
    "db = DBSCAN(eps=outlier_threshold, min_samples=3)\n",
    "\n",
    "db.fit(temp)\n",
    "\n",
    "for_DBSCAN[\"clusters\"]=db.labels_\n",
    "outliers_indexes=for_DBSCAN.loc[for_DBSCAN.clusters==-1].index\n",
    "print(f\"Total {len(outliers_indexes)} are outliers\")\n",
    "\n",
    "core_samples_mask = np.zeros_like(db.labels_, dtype=bool)\n",
    "core_samples_mask[db.core_sample_indices_] = True\n",
    "labels = db.labels_\n",
    "\n",
    "# Number of clusters in labels, ignoring noise if present.\n",
    "n_clusters_ = len(set(labels)) - (1 if -1 in labels else 0)\n",
    "n_noise_ = list(labels).count(-1)\n",
    "\n",
    "print(\"Estimated number of clusters: %d\" % n_clusters_)\n",
    "print(\"Estimated number of noise points: %d\" % n_noise_)\n",
    "\n",
    "for_DBSCAN=for_DBSCAN.drop(outliers_indexes,axis=0)\n",
    "for_DBSCAN=for_DBSCAN.drop(\"clusters\",axis=1)\n",
    "\n",
    "print(\"Before removing outliers, total number of records: \", len(final))\n",
    "final=final.drop(outliers_indexes,axis=0)\n",
    "print(\"After removing outliers, total number of records: \", len(final))\n",
    "\n"
   ]
  },
  {
   "cell_type": "code",
   "execution_count": 59,
   "metadata": {
    "id": "b5eccf4c"
   },
   "outputs": [],
   "source": [
    "final.to_csv('../processed_data/output.csv',mode = 'w', index=False)\n",
    "# outputting data to run models in live server"
   ]
  },
  {
   "cell_type": "code",
   "execution_count": 122,
   "metadata": {
    "id": "ZwgDPaPlFIF_"
   },
   "outputs": [],
   "source": []
  }
 ],
 "metadata": {
  "colab": {
   "name": "dissertation_suicide_data_preparation_2022.ipynb",
   "provenance": []
  },
  "interpreter": {
   "hash": "ad2bdc8ecc057115af97d19610ffacc2b4e99fae6737bb82f5d7fb13d2f2c186"
  },
  "kernelspec": {
   "display_name": "Python 3",
   "language": "python",
   "name": "python3"
  },
  "language_info": {
   "codemirror_mode": {
    "name": "ipython",
    "version": 3
   },
   "file_extension": ".py",
   "mimetype": "text/x-python",
   "name": "python",
   "nbconvert_exporter": "python",
   "pygments_lexer": "ipython3",
   "version": "3.7.4"
  }
 },
 "nbformat": 4,
 "nbformat_minor": 5
}
