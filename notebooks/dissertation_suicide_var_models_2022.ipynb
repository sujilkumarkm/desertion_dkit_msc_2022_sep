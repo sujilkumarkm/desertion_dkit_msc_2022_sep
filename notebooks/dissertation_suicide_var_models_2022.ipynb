{
  "cells": [
    {
      "cell_type": "code",
      "execution_count": 2,
      "metadata": {
        "id": "AQOynhyaRsoI",
        "colab": {
          "base_uri": "https://localhost:8080/"
        },
        "outputId": "b5984103-ebc2-43e2-9479-ae914e712190"
      },
      "outputs": [
        {
          "output_type": "stream",
          "name": "stderr",
          "text": [
            "/usr/local/lib/python3.7/dist-packages/statsmodels/tools/_testing.py:19: FutureWarning: pandas.util.testing is deprecated. Use the functions in the public API at pandas.testing instead.\n",
            "  import pandas.util.testing as tm\n"
          ]
        }
      ],
      "source": [
        "import pandas as pd\n",
        "import numpy as np\n",
        "import matplotlib.pyplot as plt\n",
        "%matplotlib inline\n",
        "\n",
        "# Import Statsmodels\n",
        "from statsmodels.tsa.api import VAR\n",
        "from statsmodels.tsa.stattools import adfuller\n",
        "from statsmodels.tools.eval_measures import rmse, aic"
      ]
    },
    {
      "cell_type": "code",
      "source": [
        "from google.colab import drive\n",
        "drive.mount('/content/drive')"
      ],
      "metadata": {
        "colab": {
          "base_uri": "https://localhost:8080/"
        },
        "id": "vcGcGUM0lAvG",
        "outputId": "84d68243-6a4e-411f-c568-cc8ac313cf3e"
      },
      "execution_count": 1,
      "outputs": [
        {
          "output_type": "stream",
          "name": "stdout",
          "text": [
            "Mounted at /content/drive\n"
          ]
        }
      ]
    },
    {
      "cell_type": "code",
      "execution_count": 3,
      "metadata": {
        "id": "7Q7U7BC-RsoM",
        "outputId": "069174c0-a5d6-47a8-e62d-40cfa754788f",
        "colab": {
          "base_uri": "https://localhost:8080/",
          "height": 522
        }
      },
      "outputs": [
        {
          "output_type": "stream",
          "name": "stdout",
          "text": [
            "(12793, 25)\n"
          ]
        },
        {
          "output_type": "execute_result",
          "data": {
            "text/plain": [
              "              country     sex          age  suicides  population  \\\n",
              "year                                                               \n",
              "1985-01-01  Argentina    male    75+ years       202      363000   \n",
              "1985-01-01  Argentina    male  55-74 years       485     1997000   \n",
              "1985-01-01  Argentina    male  35-54 years       414     3346300   \n",
              "1985-01-01  Argentina  female  55-74 years       210     2304000   \n",
              "1985-01-01  Argentina    male  25-34 years       177     2234200   \n",
              "\n",
              "            sucid_in_hundredk   country-year    yearly_gdp  gdp_per_capita  \\\n",
              "year                                                                         \n",
              "1985-01-01              55.65  Argentina1985  8.841667e+10            3264   \n",
              "1985-01-01              24.29  Argentina1985  8.841667e+10            3264   \n",
              "1985-01-01              12.37  Argentina1985  8.841667e+10            3264   \n",
              "1985-01-01               9.11  Argentina1985  8.841667e+10            3264   \n",
              "1985-01-01               7.92  Argentina1985  8.841667e+10            3264   \n",
              "\n",
              "                 generation  ...  physician_price  laborforcetotal  \\\n",
              "year                         ...                                     \n",
              "1985-01-01  G.I. Generation  ...         1.817658     1.077831e+07   \n",
              "1985-01-01  G.I. Generation  ...         1.817658     1.077831e+07   \n",
              "1985-01-01           Silent  ...         1.817658     1.077831e+07   \n",
              "1985-01-01  G.I. Generation  ...         1.817658     1.077831e+07   \n",
              "1985-01-01          Boomers  ...         1.817658     1.077831e+07   \n",
              "\n",
              "            lifeexpectancy  mobilesubscriptions      refugees  selfemployed  \\\n",
              "year                                                                          \n",
              "1985-01-01       50.156848            44.867006  10732.386792      2.157578   \n",
              "1985-01-01       50.156848            44.867006  10732.386792      2.157578   \n",
              "1985-01-01       50.156848            44.867006  10732.386792      2.157578   \n",
              "1985-01-01       50.156848            44.867006  10732.386792      2.157578   \n",
              "1985-01-01       50.156848            44.867006  10732.386792      2.157578   \n",
              "\n",
              "            electricityacess  continent  country_code  mobilesubscription  \n",
              "year                                                                       \n",
              "1985-01-01         64.426681   Americas           ARG                 0.0  \n",
              "1985-01-01         64.426681   Americas           ARG                 0.0  \n",
              "1985-01-01         64.426681   Americas           ARG                 0.0  \n",
              "1985-01-01         64.426681   Americas           ARG                 0.0  \n",
              "1985-01-01         64.426681   Americas           ARG                 0.0  \n",
              "\n",
              "[5 rows x 25 columns]"
            ],
            "text/html": [
              "\n",
              "  <div id=\"df-1bfbdda6-cec1-42ea-8c08-44cb5db6a72b\">\n",
              "    <div class=\"colab-df-container\">\n",
              "      <div>\n",
              "<style scoped>\n",
              "    .dataframe tbody tr th:only-of-type {\n",
              "        vertical-align: middle;\n",
              "    }\n",
              "\n",
              "    .dataframe tbody tr th {\n",
              "        vertical-align: top;\n",
              "    }\n",
              "\n",
              "    .dataframe thead th {\n",
              "        text-align: right;\n",
              "    }\n",
              "</style>\n",
              "<table border=\"1\" class=\"dataframe\">\n",
              "  <thead>\n",
              "    <tr style=\"text-align: right;\">\n",
              "      <th></th>\n",
              "      <th>country</th>\n",
              "      <th>sex</th>\n",
              "      <th>age</th>\n",
              "      <th>suicides</th>\n",
              "      <th>population</th>\n",
              "      <th>sucid_in_hundredk</th>\n",
              "      <th>country-year</th>\n",
              "      <th>yearly_gdp</th>\n",
              "      <th>gdp_per_capita</th>\n",
              "      <th>generation</th>\n",
              "      <th>...</th>\n",
              "      <th>physician_price</th>\n",
              "      <th>laborforcetotal</th>\n",
              "      <th>lifeexpectancy</th>\n",
              "      <th>mobilesubscriptions</th>\n",
              "      <th>refugees</th>\n",
              "      <th>selfemployed</th>\n",
              "      <th>electricityacess</th>\n",
              "      <th>continent</th>\n",
              "      <th>country_code</th>\n",
              "      <th>mobilesubscription</th>\n",
              "    </tr>\n",
              "    <tr>\n",
              "      <th>year</th>\n",
              "      <th></th>\n",
              "      <th></th>\n",
              "      <th></th>\n",
              "      <th></th>\n",
              "      <th></th>\n",
              "      <th></th>\n",
              "      <th></th>\n",
              "      <th></th>\n",
              "      <th></th>\n",
              "      <th></th>\n",
              "      <th></th>\n",
              "      <th></th>\n",
              "      <th></th>\n",
              "      <th></th>\n",
              "      <th></th>\n",
              "      <th></th>\n",
              "      <th></th>\n",
              "      <th></th>\n",
              "      <th></th>\n",
              "      <th></th>\n",
              "      <th></th>\n",
              "    </tr>\n",
              "  </thead>\n",
              "  <tbody>\n",
              "    <tr>\n",
              "      <th>1985-01-01</th>\n",
              "      <td>Argentina</td>\n",
              "      <td>male</td>\n",
              "      <td>75+ years</td>\n",
              "      <td>202</td>\n",
              "      <td>363000</td>\n",
              "      <td>55.65</td>\n",
              "      <td>Argentina1985</td>\n",
              "      <td>8.841667e+10</td>\n",
              "      <td>3264</td>\n",
              "      <td>G.I. Generation</td>\n",
              "      <td>...</td>\n",
              "      <td>1.817658</td>\n",
              "      <td>1.077831e+07</td>\n",
              "      <td>50.156848</td>\n",
              "      <td>44.867006</td>\n",
              "      <td>10732.386792</td>\n",
              "      <td>2.157578</td>\n",
              "      <td>64.426681</td>\n",
              "      <td>Americas</td>\n",
              "      <td>ARG</td>\n",
              "      <td>0.0</td>\n",
              "    </tr>\n",
              "    <tr>\n",
              "      <th>1985-01-01</th>\n",
              "      <td>Argentina</td>\n",
              "      <td>male</td>\n",
              "      <td>55-74 years</td>\n",
              "      <td>485</td>\n",
              "      <td>1997000</td>\n",
              "      <td>24.29</td>\n",
              "      <td>Argentina1985</td>\n",
              "      <td>8.841667e+10</td>\n",
              "      <td>3264</td>\n",
              "      <td>G.I. Generation</td>\n",
              "      <td>...</td>\n",
              "      <td>1.817658</td>\n",
              "      <td>1.077831e+07</td>\n",
              "      <td>50.156848</td>\n",
              "      <td>44.867006</td>\n",
              "      <td>10732.386792</td>\n",
              "      <td>2.157578</td>\n",
              "      <td>64.426681</td>\n",
              "      <td>Americas</td>\n",
              "      <td>ARG</td>\n",
              "      <td>0.0</td>\n",
              "    </tr>\n",
              "    <tr>\n",
              "      <th>1985-01-01</th>\n",
              "      <td>Argentina</td>\n",
              "      <td>male</td>\n",
              "      <td>35-54 years</td>\n",
              "      <td>414</td>\n",
              "      <td>3346300</td>\n",
              "      <td>12.37</td>\n",
              "      <td>Argentina1985</td>\n",
              "      <td>8.841667e+10</td>\n",
              "      <td>3264</td>\n",
              "      <td>Silent</td>\n",
              "      <td>...</td>\n",
              "      <td>1.817658</td>\n",
              "      <td>1.077831e+07</td>\n",
              "      <td>50.156848</td>\n",
              "      <td>44.867006</td>\n",
              "      <td>10732.386792</td>\n",
              "      <td>2.157578</td>\n",
              "      <td>64.426681</td>\n",
              "      <td>Americas</td>\n",
              "      <td>ARG</td>\n",
              "      <td>0.0</td>\n",
              "    </tr>\n",
              "    <tr>\n",
              "      <th>1985-01-01</th>\n",
              "      <td>Argentina</td>\n",
              "      <td>female</td>\n",
              "      <td>55-74 years</td>\n",
              "      <td>210</td>\n",
              "      <td>2304000</td>\n",
              "      <td>9.11</td>\n",
              "      <td>Argentina1985</td>\n",
              "      <td>8.841667e+10</td>\n",
              "      <td>3264</td>\n",
              "      <td>G.I. Generation</td>\n",
              "      <td>...</td>\n",
              "      <td>1.817658</td>\n",
              "      <td>1.077831e+07</td>\n",
              "      <td>50.156848</td>\n",
              "      <td>44.867006</td>\n",
              "      <td>10732.386792</td>\n",
              "      <td>2.157578</td>\n",
              "      <td>64.426681</td>\n",
              "      <td>Americas</td>\n",
              "      <td>ARG</td>\n",
              "      <td>0.0</td>\n",
              "    </tr>\n",
              "    <tr>\n",
              "      <th>1985-01-01</th>\n",
              "      <td>Argentina</td>\n",
              "      <td>male</td>\n",
              "      <td>25-34 years</td>\n",
              "      <td>177</td>\n",
              "      <td>2234200</td>\n",
              "      <td>7.92</td>\n",
              "      <td>Argentina1985</td>\n",
              "      <td>8.841667e+10</td>\n",
              "      <td>3264</td>\n",
              "      <td>Boomers</td>\n",
              "      <td>...</td>\n",
              "      <td>1.817658</td>\n",
              "      <td>1.077831e+07</td>\n",
              "      <td>50.156848</td>\n",
              "      <td>44.867006</td>\n",
              "      <td>10732.386792</td>\n",
              "      <td>2.157578</td>\n",
              "      <td>64.426681</td>\n",
              "      <td>Americas</td>\n",
              "      <td>ARG</td>\n",
              "      <td>0.0</td>\n",
              "    </tr>\n",
              "  </tbody>\n",
              "</table>\n",
              "<p>5 rows × 25 columns</p>\n",
              "</div>\n",
              "      <button class=\"colab-df-convert\" onclick=\"convertToInteractive('df-1bfbdda6-cec1-42ea-8c08-44cb5db6a72b')\"\n",
              "              title=\"Convert this dataframe to an interactive table.\"\n",
              "              style=\"display:none;\">\n",
              "        \n",
              "  <svg xmlns=\"http://www.w3.org/2000/svg\" height=\"24px\"viewBox=\"0 0 24 24\"\n",
              "       width=\"24px\">\n",
              "    <path d=\"M0 0h24v24H0V0z\" fill=\"none\"/>\n",
              "    <path d=\"M18.56 5.44l.94 2.06.94-2.06 2.06-.94-2.06-.94-.94-2.06-.94 2.06-2.06.94zm-11 1L8.5 8.5l.94-2.06 2.06-.94-2.06-.94L8.5 2.5l-.94 2.06-2.06.94zm10 10l.94 2.06.94-2.06 2.06-.94-2.06-.94-.94-2.06-.94 2.06-2.06.94z\"/><path d=\"M17.41 7.96l-1.37-1.37c-.4-.4-.92-.59-1.43-.59-.52 0-1.04.2-1.43.59L10.3 9.45l-7.72 7.72c-.78.78-.78 2.05 0 2.83L4 21.41c.39.39.9.59 1.41.59.51 0 1.02-.2 1.41-.59l7.78-7.78 2.81-2.81c.8-.78.8-2.07 0-2.86zM5.41 20L4 18.59l7.72-7.72 1.47 1.35L5.41 20z\"/>\n",
              "  </svg>\n",
              "      </button>\n",
              "      \n",
              "  <style>\n",
              "    .colab-df-container {\n",
              "      display:flex;\n",
              "      flex-wrap:wrap;\n",
              "      gap: 12px;\n",
              "    }\n",
              "\n",
              "    .colab-df-convert {\n",
              "      background-color: #E8F0FE;\n",
              "      border: none;\n",
              "      border-radius: 50%;\n",
              "      cursor: pointer;\n",
              "      display: none;\n",
              "      fill: #1967D2;\n",
              "      height: 32px;\n",
              "      padding: 0 0 0 0;\n",
              "      width: 32px;\n",
              "    }\n",
              "\n",
              "    .colab-df-convert:hover {\n",
              "      background-color: #E2EBFA;\n",
              "      box-shadow: 0px 1px 2px rgba(60, 64, 67, 0.3), 0px 1px 3px 1px rgba(60, 64, 67, 0.15);\n",
              "      fill: #174EA6;\n",
              "    }\n",
              "\n",
              "    [theme=dark] .colab-df-convert {\n",
              "      background-color: #3B4455;\n",
              "      fill: #D2E3FC;\n",
              "    }\n",
              "\n",
              "    [theme=dark] .colab-df-convert:hover {\n",
              "      background-color: #434B5C;\n",
              "      box-shadow: 0px 1px 3px 1px rgba(0, 0, 0, 0.15);\n",
              "      filter: drop-shadow(0px 1px 2px rgba(0, 0, 0, 0.3));\n",
              "      fill: #FFFFFF;\n",
              "    }\n",
              "  </style>\n",
              "\n",
              "      <script>\n",
              "        const buttonEl =\n",
              "          document.querySelector('#df-1bfbdda6-cec1-42ea-8c08-44cb5db6a72b button.colab-df-convert');\n",
              "        buttonEl.style.display =\n",
              "          google.colab.kernel.accessAllowed ? 'block' : 'none';\n",
              "\n",
              "        async function convertToInteractive(key) {\n",
              "          const element = document.querySelector('#df-1bfbdda6-cec1-42ea-8c08-44cb5db6a72b');\n",
              "          const dataTable =\n",
              "            await google.colab.kernel.invokeFunction('convertToInteractive',\n",
              "                                                     [key], {});\n",
              "          if (!dataTable) return;\n",
              "\n",
              "          const docLinkHtml = 'Like what you see? Visit the ' +\n",
              "            '<a target=\"_blank\" href=https://colab.research.google.com/notebooks/data_table.ipynb>data table notebook</a>'\n",
              "            + ' to learn more about interactive tables.';\n",
              "          element.innerHTML = '';\n",
              "          dataTable['output_type'] = 'display_data';\n",
              "          await google.colab.output.renderOutput(dataTable, element);\n",
              "          const docLink = document.createElement('div');\n",
              "          docLink.innerHTML = docLinkHtml;\n",
              "          element.appendChild(docLink);\n",
              "        }\n",
              "      </script>\n",
              "    </div>\n",
              "  </div>\n",
              "  "
            ]
          },
          "metadata": {},
          "execution_count": 3
        }
      ],
      "source": [
        "url = '../processed_data/output.csv'\n",
        "df1 = pd.read_csv(url, index_col = 'year', parse_dates=True, infer_datetime_format=True)\n",
        "print(df1.shape)  \n",
        "df1.head()"
      ]
    },
    {
      "cell_type": "code",
      "execution_count": 4,
      "metadata": {
        "id": "1hwxOokqRsoN",
        "outputId": "ef93339d-5a04-49dd-aa26-3219d27495d5",
        "colab": {
          "base_uri": "https://localhost:8080/"
        }
      },
      "outputs": [
        {
          "output_type": "execute_result",
          "data": {
            "text/plain": [
              "Index(['country', 'sex', 'age', 'suicides', 'population', 'sucid_in_hundredk',\n",
              "       'country-year', 'yearly_gdp', 'gdp_per_capita', 'generation',\n",
              "       'suicide%', 'internetusers', 'expenses', 'employeecompensation',\n",
              "       'unemployment', 'physician_price', 'laborforcetotal', 'lifeexpectancy',\n",
              "       'mobilesubscriptions', 'refugees', 'selfemployed', 'electricityacess',\n",
              "       'continent', 'country_code', 'mobilesubscription'],\n",
              "      dtype='object')"
            ]
          },
          "metadata": {},
          "execution_count": 4
        }
      ],
      "source": [
        "df1.columns"
      ]
    },
    {
      "cell_type": "code",
      "execution_count": 5,
      "metadata": {
        "id": "JgOUPzeERsoN",
        "outputId": "a935946a-5c07-4903-fb6f-a902f2e7b790",
        "colab": {
          "base_uri": "https://localhost:8080/"
        }
      },
      "outputs": [
        {
          "output_type": "stream",
          "name": "stdout",
          "text": [
            "<class 'pandas.core.frame.DataFrame'>\n",
            "DatetimeIndex: 12793 entries, 1985-01-01 to 2015-01-01\n",
            "Data columns (total 4 columns):\n",
            " #   Column             Non-Null Count  Dtype  \n",
            "---  ------             --------------  -----  \n",
            " 0   sucid_in_hundredk  12793 non-null  float64\n",
            " 1   gdp_per_capita     12793 non-null  int64  \n",
            " 2   lifeexpectancy     12793 non-null  float64\n",
            " 3   expenses           12793 non-null  float64\n",
            "dtypes: float64(3), int64(1)\n",
            "memory usage: 499.7 KB\n"
          ]
        }
      ],
      "source": [
        "df = df1[(df1.country == 'Russian Federation')]\n",
        "columns = ['sucid_in_hundredk','gdp_per_capita','lifeexpectancy','expenses']\n",
        "df = pd.DataFrame(df1, columns=columns)\n",
        "df.info()"
      ]
    },
    {
      "cell_type": "code",
      "execution_count": 6,
      "metadata": {
        "id": "clxfuzBPRsoO",
        "outputId": "f70b91e4-1f56-4564-d5b3-2cd1f2cdde29",
        "colab": {
          "base_uri": "https://localhost:8080/",
          "height": 449
        }
      },
      "outputs": [
        {
          "output_type": "stream",
          "name": "stderr",
          "text": [
            "/usr/local/lib/python3.7/dist-packages/ipykernel_launcher.py:2: FutureWarning: Indexing with multiple keys (implicitly converted to a tuple of keys) will be deprecated, use a list instead.\n",
            "  \n"
          ]
        },
        {
          "output_type": "execute_result",
          "data": {
            "text/plain": [
              "            sucid_in_hundredk  gdp_per_capita  lifeexpectancy      expenses\n",
              "year                                                                       \n",
              "2007-01-01            4925.97        13706178    34462.996731  13100.439338\n",
              "2008-01-01            5027.80        14964040    34731.549366  13781.643021\n",
              "2009-01-01            4885.89        13120714    34260.406342  14549.026492\n",
              "2010-01-01            5164.36        14033499    34940.614878  14947.996213\n",
              "2011-01-01            5133.46        15646338    35379.578268  14774.776695\n",
              "2012-01-01            5220.04        15136138    35521.615073  14858.847464\n",
              "2013-01-01            4474.26        15153178    33962.116756  14265.493500\n",
              "2014-01-01            4851.48        14233710    21818.229001   8746.914091\n",
              "2015-01-01            4219.66        11055237    19460.857132   7801.845212\n",
              "2016-01-01            1438.40         2817650     5015.684828   2010.784848"
            ],
            "text/html": [
              "\n",
              "  <div id=\"df-83049d86-c886-427b-8745-2898dddfcc13\">\n",
              "    <div class=\"colab-df-container\">\n",
              "      <div>\n",
              "<style scoped>\n",
              "    .dataframe tbody tr th:only-of-type {\n",
              "        vertical-align: middle;\n",
              "    }\n",
              "\n",
              "    .dataframe tbody tr th {\n",
              "        vertical-align: top;\n",
              "    }\n",
              "\n",
              "    .dataframe thead th {\n",
              "        text-align: right;\n",
              "    }\n",
              "</style>\n",
              "<table border=\"1\" class=\"dataframe\">\n",
              "  <thead>\n",
              "    <tr style=\"text-align: right;\">\n",
              "      <th></th>\n",
              "      <th>sucid_in_hundredk</th>\n",
              "      <th>gdp_per_capita</th>\n",
              "      <th>lifeexpectancy</th>\n",
              "      <th>expenses</th>\n",
              "    </tr>\n",
              "    <tr>\n",
              "      <th>year</th>\n",
              "      <th></th>\n",
              "      <th></th>\n",
              "      <th></th>\n",
              "      <th></th>\n",
              "    </tr>\n",
              "  </thead>\n",
              "  <tbody>\n",
              "    <tr>\n",
              "      <th>2007-01-01</th>\n",
              "      <td>4925.97</td>\n",
              "      <td>13706178</td>\n",
              "      <td>34462.996731</td>\n",
              "      <td>13100.439338</td>\n",
              "    </tr>\n",
              "    <tr>\n",
              "      <th>2008-01-01</th>\n",
              "      <td>5027.80</td>\n",
              "      <td>14964040</td>\n",
              "      <td>34731.549366</td>\n",
              "      <td>13781.643021</td>\n",
              "    </tr>\n",
              "    <tr>\n",
              "      <th>2009-01-01</th>\n",
              "      <td>4885.89</td>\n",
              "      <td>13120714</td>\n",
              "      <td>34260.406342</td>\n",
              "      <td>14549.026492</td>\n",
              "    </tr>\n",
              "    <tr>\n",
              "      <th>2010-01-01</th>\n",
              "      <td>5164.36</td>\n",
              "      <td>14033499</td>\n",
              "      <td>34940.614878</td>\n",
              "      <td>14947.996213</td>\n",
              "    </tr>\n",
              "    <tr>\n",
              "      <th>2011-01-01</th>\n",
              "      <td>5133.46</td>\n",
              "      <td>15646338</td>\n",
              "      <td>35379.578268</td>\n",
              "      <td>14774.776695</td>\n",
              "    </tr>\n",
              "    <tr>\n",
              "      <th>2012-01-01</th>\n",
              "      <td>5220.04</td>\n",
              "      <td>15136138</td>\n",
              "      <td>35521.615073</td>\n",
              "      <td>14858.847464</td>\n",
              "    </tr>\n",
              "    <tr>\n",
              "      <th>2013-01-01</th>\n",
              "      <td>4474.26</td>\n",
              "      <td>15153178</td>\n",
              "      <td>33962.116756</td>\n",
              "      <td>14265.493500</td>\n",
              "    </tr>\n",
              "    <tr>\n",
              "      <th>2014-01-01</th>\n",
              "      <td>4851.48</td>\n",
              "      <td>14233710</td>\n",
              "      <td>21818.229001</td>\n",
              "      <td>8746.914091</td>\n",
              "    </tr>\n",
              "    <tr>\n",
              "      <th>2015-01-01</th>\n",
              "      <td>4219.66</td>\n",
              "      <td>11055237</td>\n",
              "      <td>19460.857132</td>\n",
              "      <td>7801.845212</td>\n",
              "    </tr>\n",
              "    <tr>\n",
              "      <th>2016-01-01</th>\n",
              "      <td>1438.40</td>\n",
              "      <td>2817650</td>\n",
              "      <td>5015.684828</td>\n",
              "      <td>2010.784848</td>\n",
              "    </tr>\n",
              "  </tbody>\n",
              "</table>\n",
              "</div>\n",
              "      <button class=\"colab-df-convert\" onclick=\"convertToInteractive('df-83049d86-c886-427b-8745-2898dddfcc13')\"\n",
              "              title=\"Convert this dataframe to an interactive table.\"\n",
              "              style=\"display:none;\">\n",
              "        \n",
              "  <svg xmlns=\"http://www.w3.org/2000/svg\" height=\"24px\"viewBox=\"0 0 24 24\"\n",
              "       width=\"24px\">\n",
              "    <path d=\"M0 0h24v24H0V0z\" fill=\"none\"/>\n",
              "    <path d=\"M18.56 5.44l.94 2.06.94-2.06 2.06-.94-2.06-.94-.94-2.06-.94 2.06-2.06.94zm-11 1L8.5 8.5l.94-2.06 2.06-.94-2.06-.94L8.5 2.5l-.94 2.06-2.06.94zm10 10l.94 2.06.94-2.06 2.06-.94-2.06-.94-.94-2.06-.94 2.06-2.06.94z\"/><path d=\"M17.41 7.96l-1.37-1.37c-.4-.4-.92-.59-1.43-.59-.52 0-1.04.2-1.43.59L10.3 9.45l-7.72 7.72c-.78.78-.78 2.05 0 2.83L4 21.41c.39.39.9.59 1.41.59.51 0 1.02-.2 1.41-.59l7.78-7.78 2.81-2.81c.8-.78.8-2.07 0-2.86zM5.41 20L4 18.59l7.72-7.72 1.47 1.35L5.41 20z\"/>\n",
              "  </svg>\n",
              "      </button>\n",
              "      \n",
              "  <style>\n",
              "    .colab-df-container {\n",
              "      display:flex;\n",
              "      flex-wrap:wrap;\n",
              "      gap: 12px;\n",
              "    }\n",
              "\n",
              "    .colab-df-convert {\n",
              "      background-color: #E8F0FE;\n",
              "      border: none;\n",
              "      border-radius: 50%;\n",
              "      cursor: pointer;\n",
              "      display: none;\n",
              "      fill: #1967D2;\n",
              "      height: 32px;\n",
              "      padding: 0 0 0 0;\n",
              "      width: 32px;\n",
              "    }\n",
              "\n",
              "    .colab-df-convert:hover {\n",
              "      background-color: #E2EBFA;\n",
              "      box-shadow: 0px 1px 2px rgba(60, 64, 67, 0.3), 0px 1px 3px 1px rgba(60, 64, 67, 0.15);\n",
              "      fill: #174EA6;\n",
              "    }\n",
              "\n",
              "    [theme=dark] .colab-df-convert {\n",
              "      background-color: #3B4455;\n",
              "      fill: #D2E3FC;\n",
              "    }\n",
              "\n",
              "    [theme=dark] .colab-df-convert:hover {\n",
              "      background-color: #434B5C;\n",
              "      box-shadow: 0px 1px 3px 1px rgba(0, 0, 0, 0.15);\n",
              "      filter: drop-shadow(0px 1px 2px rgba(0, 0, 0, 0.3));\n",
              "      fill: #FFFFFF;\n",
              "    }\n",
              "  </style>\n",
              "\n",
              "      <script>\n",
              "        const buttonEl =\n",
              "          document.querySelector('#df-83049d86-c886-427b-8745-2898dddfcc13 button.colab-df-convert');\n",
              "        buttonEl.style.display =\n",
              "          google.colab.kernel.accessAllowed ? 'block' : 'none';\n",
              "\n",
              "        async function convertToInteractive(key) {\n",
              "          const element = document.querySelector('#df-83049d86-c886-427b-8745-2898dddfcc13');\n",
              "          const dataTable =\n",
              "            await google.colab.kernel.invokeFunction('convertToInteractive',\n",
              "                                                     [key], {});\n",
              "          if (!dataTable) return;\n",
              "\n",
              "          const docLinkHtml = 'Like what you see? Visit the ' +\n",
              "            '<a target=\"_blank\" href=https://colab.research.google.com/notebooks/data_table.ipynb>data table notebook</a>'\n",
              "            + ' to learn more about interactive tables.';\n",
              "          element.innerHTML = '';\n",
              "          dataTable['output_type'] = 'display_data';\n",
              "          await google.colab.output.renderOutput(dataTable, element);\n",
              "          const docLink = document.createElement('div');\n",
              "          docLink.innerHTML = docLinkHtml;\n",
              "          element.appendChild(docLink);\n",
              "        }\n",
              "      </script>\n",
              "    </div>\n",
              "  </div>\n",
              "  "
            ]
          },
          "metadata": {},
          "execution_count": 6
        }
      ],
      "source": [
        "# adding all deaths together and group by year\n",
        "df = df.groupby(['year'])['sucid_in_hundredk','gdp_per_capita','lifeexpectancy','expenses'].transform('sum')\n",
        "df['year'] = list(df.index)\n",
        "df = df.drop_duplicates()\n",
        "df = df.drop(labels='year', axis=1)\n",
        "df.tail(10)"
      ]
    },
    {
      "cell_type": "code",
      "execution_count": 7,
      "metadata": {
        "id": "FJ4se1eqRsoO",
        "outputId": "df61a789-4393-4357-88d2-33c1e6529cda",
        "colab": {
          "base_uri": "https://localhost:8080/"
        }
      },
      "outputs": [
        {
          "output_type": "execute_result",
          "data": {
            "text/plain": [
              "sucid_in_hundredk    0\n",
              "gdp_per_capita       0\n",
              "lifeexpectancy       0\n",
              "expenses             0\n",
              "dtype: int64"
            ]
          },
          "metadata": {},
          "execution_count": 7
        }
      ],
      "source": [
        "df.isnull().sum()\n",
        "df.isna().sum()"
      ]
    },
    {
      "cell_type": "code",
      "execution_count": 8,
      "metadata": {
        "id": "89wVcbKeRsoP"
      },
      "outputs": [],
      "source": [
        "# Replace the NaNs in column S2 & S3 by the mean of values\n",
        "# in column S2 & S3 respectively\n",
        "df[['lifeexpectancy','expenses']] = df[['lifeexpectancy','expenses']].fillna(value=df[['lifeexpectancy','expenses']].mean())"
      ]
    },
    {
      "cell_type": "code",
      "execution_count": 9,
      "metadata": {
        "id": "fDetYvEdRsoQ"
      },
      "outputs": [],
      "source": [
        "df['lifeexpectancy'] = df['lifeexpectancy'].replace(0, \n",
        "df['lifeexpectancy'].median())\n",
        "\n",
        "df['expenses'] = df['expenses'].replace(0, \n",
        "df['expenses'].median())"
      ]
    },
    {
      "cell_type": "code",
      "execution_count": 10,
      "metadata": {
        "id": "MTMIxHMgRsoR",
        "outputId": "2ecd9288-7f14-464e-c2ee-7aa6f819c5d7",
        "colab": {
          "base_uri": "https://localhost:8080/"
        }
      },
      "outputs": [
        {
          "output_type": "execute_result",
          "data": {
            "text/plain": [
              "sucid_in_hundredk    0\n",
              "gdp_per_capita       0\n",
              "lifeexpectancy       0\n",
              "expenses             0\n",
              "dtype: int64"
            ]
          },
          "metadata": {},
          "execution_count": 10
        }
      ],
      "source": [
        "df.isnull().sum()\n",
        "df.isna().sum()"
      ]
    },
    {
      "cell_type": "code",
      "execution_count": 11,
      "metadata": {
        "id": "U8aGw4HMRsoR",
        "outputId": "b99233e6-3b12-451c-d23d-abee97771588",
        "colab": {
          "base_uri": "https://localhost:8080/",
          "height": 265
        }
      },
      "outputs": [
        {
          "output_type": "display_data",
          "data": {
            "text/plain": [
              "<Figure size 432x288 with 1 Axes>"
            ],
            "image/png": "[encoded data removed]"
          },
          "metadata": {
            "needs_background": "light"
          }
        }
      ],
      "source": [
        "boxplot = df.boxplot(column=['lifeexpectancy','expenses']) "
      ]
    },
    {
      "cell_type": "code",
      "execution_count": 12,
      "metadata": {
        "id": "9hsNTiniRsoS",
        "outputId": "37790118-2a7a-438f-c298-7658294a9289",
        "colab": {
          "base_uri": "https://localhost:8080/",
          "height": 334
        }
      },
      "outputs": [
        {
          "output_type": "stream",
          "name": "stderr",
          "text": [
            "/usr/local/lib/python3.7/dist-packages/seaborn/distributions.py:2619: FutureWarning: `distplot` is a deprecated function and will be removed in a future version. Please adapt your code to use either `displot` (a figure-level function with similar flexibility) or `histplot` (an axes-level function for histograms).\n",
            "  warnings.warn(msg, FutureWarning)\n"
          ]
        },
        {
          "output_type": "display_data",
          "data": {
            "text/plain": [
              "<Figure size 432x288 with 1 Axes>"
            ],
            "image/png": "[encoded data removed]"
          },
          "metadata": {
            "needs_background": "light"
          }
        }
      ],
      "source": [
        "import seaborn as sns, numpy as np\n",
        "ax = sns.distplot(df['expenses'])"
      ]
    },
    {
      "cell_type": "code",
      "execution_count": 13,
      "metadata": {
        "id": "7SevJ_UJRsoT",
        "outputId": "b6a62dde-da95-4269-e268-e872fba19791",
        "colab": {
          "base_uri": "https://localhost:8080/",
          "height": 238
        }
      },
      "outputs": [
        {
          "output_type": "execute_result",
          "data": {
            "text/plain": [
              "            sucid_in_hundredk  gdp_per_capita  lifeexpectancy     expenses\n",
              "year                                                                      \n",
              "1985-01-01            3445.18         1767244    13040.780553  5228.040606\n",
              "1986-01-01            3930.40         2546796    13843.290125  5549.766182\n",
              "1987-01-01            5035.65         3611844    16250.818842  6514.942909\n",
              "1988-01-01            4700.49         4022209    15598.779815  6253.540879\n",
              "1989-01-01            5208.18         4218240    16852.701022  6756.237091"
            ],
            "text/html": [
              "\n",
              "  <div id=\"df-5b3f44b0-65ca-47e9-8f97-f3f9bea9e706\">\n",
              "    <div class=\"colab-df-container\">\n",
              "      <div>\n",
              "<style scoped>\n",
              "    .dataframe tbody tr th:only-of-type {\n",
              "        vertical-align: middle;\n",
              "    }\n",
              "\n",
              "    .dataframe tbody tr th {\n",
              "        vertical-align: top;\n",
              "    }\n",
              "\n",
              "    .dataframe thead th {\n",
              "        text-align: right;\n",
              "    }\n",
              "</style>\n",
              "<table border=\"1\" class=\"dataframe\">\n",
              "  <thead>\n",
              "    <tr style=\"text-align: right;\">\n",
              "      <th></th>\n",
              "      <th>sucid_in_hundredk</th>\n",
              "      <th>gdp_per_capita</th>\n",
              "      <th>lifeexpectancy</th>\n",
              "      <th>expenses</th>\n",
              "    </tr>\n",
              "    <tr>\n",
              "      <th>year</th>\n",
              "      <th></th>\n",
              "      <th></th>\n",
              "      <th></th>\n",
              "      <th></th>\n",
              "    </tr>\n",
              "  </thead>\n",
              "  <tbody>\n",
              "    <tr>\n",
              "      <th>1985-01-01</th>\n",
              "      <td>3445.18</td>\n",
              "      <td>1767244</td>\n",
              "      <td>13040.780553</td>\n",
              "      <td>5228.040606</td>\n",
              "    </tr>\n",
              "    <tr>\n",
              "      <th>1986-01-01</th>\n",
              "      <td>3930.40</td>\n",
              "      <td>2546796</td>\n",
              "      <td>13843.290125</td>\n",
              "      <td>5549.766182</td>\n",
              "    </tr>\n",
              "    <tr>\n",
              "      <th>1987-01-01</th>\n",
              "      <td>5035.65</td>\n",
              "      <td>3611844</td>\n",
              "      <td>16250.818842</td>\n",
              "      <td>6514.942909</td>\n",
              "    </tr>\n",
              "    <tr>\n",
              "      <th>1988-01-01</th>\n",
              "      <td>4700.49</td>\n",
              "      <td>4022209</td>\n",
              "      <td>15598.779815</td>\n",
              "      <td>6253.540879</td>\n",
              "    </tr>\n",
              "    <tr>\n",
              "      <th>1989-01-01</th>\n",
              "      <td>5208.18</td>\n",
              "      <td>4218240</td>\n",
              "      <td>16852.701022</td>\n",
              "      <td>6756.237091</td>\n",
              "    </tr>\n",
              "  </tbody>\n",
              "</table>\n",
              "</div>\n",
              "      <button class=\"colab-df-convert\" onclick=\"convertToInteractive('df-5b3f44b0-65ca-47e9-8f97-f3f9bea9e706')\"\n",
              "              title=\"Convert this dataframe to an interactive table.\"\n",
              "              style=\"display:none;\">\n",
              "        \n",
              "  <svg xmlns=\"http://www.w3.org/2000/svg\" height=\"24px\"viewBox=\"0 0 24 24\"\n",
              "       width=\"24px\">\n",
              "    <path d=\"M0 0h24v24H0V0z\" fill=\"none\"/>\n",
              "    <path d=\"M18.56 5.44l.94 2.06.94-2.06 2.06-.94-2.06-.94-.94-2.06-.94 2.06-2.06.94zm-11 1L8.5 8.5l.94-2.06 2.06-.94-2.06-.94L8.5 2.5l-.94 2.06-2.06.94zm10 10l.94 2.06.94-2.06 2.06-.94-2.06-.94-.94-2.06-.94 2.06-2.06.94z\"/><path d=\"M17.41 7.96l-1.37-1.37c-.4-.4-.92-.59-1.43-.59-.52 0-1.04.2-1.43.59L10.3 9.45l-7.72 7.72c-.78.78-.78 2.05 0 2.83L4 21.41c.39.39.9.59 1.41.59.51 0 1.02-.2 1.41-.59l7.78-7.78 2.81-2.81c.8-.78.8-2.07 0-2.86zM5.41 20L4 18.59l7.72-7.72 1.47 1.35L5.41 20z\"/>\n",
              "  </svg>\n",
              "      </button>\n",
              "      \n",
              "  <style>\n",
              "    .colab-df-container {\n",
              "      display:flex;\n",
              "      flex-wrap:wrap;\n",
              "      gap: 12px;\n",
              "    }\n",
              "\n",
              "    .colab-df-convert {\n",
              "      background-color: #E8F0FE;\n",
              "      border: none;\n",
              "      border-radius: 50%;\n",
              "      cursor: pointer;\n",
              "      display: none;\n",
              "      fill: #1967D2;\n",
              "      height: 32px;\n",
              "      padding: 0 0 0 0;\n",
              "      width: 32px;\n",
              "    }\n",
              "\n",
              "    .colab-df-convert:hover {\n",
              "      background-color: #E2EBFA;\n",
              "      box-shadow: 0px 1px 2px rgba(60, 64, 67, 0.3), 0px 1px 3px 1px rgba(60, 64, 67, 0.15);\n",
              "      fill: #174EA6;\n",
              "    }\n",
              "\n",
              "    [theme=dark] .colab-df-convert {\n",
              "      background-color: #3B4455;\n",
              "      fill: #D2E3FC;\n",
              "    }\n",
              "\n",
              "    [theme=dark] .colab-df-convert:hover {\n",
              "      background-color: #434B5C;\n",
              "      box-shadow: 0px 1px 3px 1px rgba(0, 0, 0, 0.15);\n",
              "      filter: drop-shadow(0px 1px 2px rgba(0, 0, 0, 0.3));\n",
              "      fill: #FFFFFF;\n",
              "    }\n",
              "  </style>\n",
              "\n",
              "      <script>\n",
              "        const buttonEl =\n",
              "          document.querySelector('#df-5b3f44b0-65ca-47e9-8f97-f3f9bea9e706 button.colab-df-convert');\n",
              "        buttonEl.style.display =\n",
              "          google.colab.kernel.accessAllowed ? 'block' : 'none';\n",
              "\n",
              "        async function convertToInteractive(key) {\n",
              "          const element = document.querySelector('#df-5b3f44b0-65ca-47e9-8f97-f3f9bea9e706');\n",
              "          const dataTable =\n",
              "            await google.colab.kernel.invokeFunction('convertToInteractive',\n",
              "                                                     [key], {});\n",
              "          if (!dataTable) return;\n",
              "\n",
              "          const docLinkHtml = 'Like what you see? Visit the ' +\n",
              "            '<a target=\"_blank\" href=https://colab.research.google.com/notebooks/data_table.ipynb>data table notebook</a>'\n",
              "            + ' to learn more about interactive tables.';\n",
              "          element.innerHTML = '';\n",
              "          dataTable['output_type'] = 'display_data';\n",
              "          await google.colab.output.renderOutput(dataTable, element);\n",
              "          const docLink = document.createElement('div');\n",
              "          docLink.innerHTML = docLinkHtml;\n",
              "          element.appendChild(docLink);\n",
              "        }\n",
              "      </script>\n",
              "    </div>\n",
              "  </div>\n",
              "  "
            ]
          },
          "metadata": {},
          "execution_count": 13
        }
      ],
      "source": [
        "df.head()"
      ]
    },
    {
      "cell_type": "code",
      "execution_count": 14,
      "metadata": {
        "id": "eIe7rqtHRsoU",
        "outputId": "45310683-6724-4ba0-bc0b-14867976e27e",
        "colab": {
          "base_uri": "https://localhost:8080/",
          "height": 724
        }
      },
      "outputs": [
        {
          "output_type": "display_data",
          "data": {
            "text/plain": [
              "<Figure size 1200x720 with 4 Axes>"
            ],
            "image/png": "[encoded data removed]"
          },
          "metadata": {
            "needs_background": "light"
          }
        }
      ],
      "source": [
        "# Plot\n",
        "fig, axes = plt.subplots(nrows=2, ncols=2, dpi=120, figsize=(10,6))\n",
        "for i, ax in enumerate(axes.flatten()):\n",
        "    data = df[df.columns[i]]\n",
        "    ax.plot(data, color='red', linewidth=1)\n",
        "    # Decorations\n",
        "    ax.set_title(df.columns[i])\n",
        "    ax.xaxis.set_ticks_position('none')\n",
        "    ax.yaxis.set_ticks_position('none')\n",
        "    ax.spines[\"top\"].set_alpha(0)\n",
        "    ax.tick_params(labelsize=6)\n",
        "\n",
        "plt.tight_layout();"
      ]
    },
    {
      "cell_type": "markdown",
      "metadata": {
        "id": "11wbYAKaRsoU"
      },
      "source": [
        "### Testing Causation using Granger’s Causality Test"
      ]
    },
    {
      "cell_type": "code",
      "execution_count": 15,
      "metadata": {
        "id": "KDgEOQUHRsoX",
        "outputId": "91b3e403-78a7-4571-e202-3470ab647a5f",
        "colab": {
          "base_uri": "https://localhost:8080/",
          "height": 175
        }
      },
      "outputs": [
        {
          "output_type": "execute_result",
          "data": {
            "text/plain": [
              "                     sucid_in_hundredk_x  gdp_per_capita_x  lifeexpectancy_x  \\\n",
              "sucid_in_hundredk_y               1.0000               0.0               0.0   \n",
              "gdp_per_capita_y                  0.0159               1.0               0.0   \n",
              "lifeexpectancy_y                  0.0000               0.0               1.0   \n",
              "expenses_y                        0.0000               0.0               0.0   \n",
              "\n",
              "                     expenses_x  \n",
              "sucid_in_hundredk_y         0.0  \n",
              "gdp_per_capita_y            0.0  \n",
              "lifeexpectancy_y            0.0  \n",
              "expenses_y                  1.0  "
            ],
            "text/html": [
              "\n",
              "  <div id=\"df-30621533-d887-403d-b352-cbe636e7f1ff\">\n",
              "    <div class=\"colab-df-container\">\n",
              "      <div>\n",
              "<style scoped>\n",
              "    .dataframe tbody tr th:only-of-type {\n",
              "        vertical-align: middle;\n",
              "    }\n",
              "\n",
              "    .dataframe tbody tr th {\n",
              "        vertical-align: top;\n",
              "    }\n",
              "\n",
              "    .dataframe thead th {\n",
              "        text-align: right;\n",
              "    }\n",
              "</style>\n",
              "<table border=\"1\" class=\"dataframe\">\n",
              "  <thead>\n",
              "    <tr style=\"text-align: right;\">\n",
              "      <th></th>\n",
              "      <th>sucid_in_hundredk_x</th>\n",
              "      <th>gdp_per_capita_x</th>\n",
              "      <th>lifeexpectancy_x</th>\n",
              "      <th>expenses_x</th>\n",
              "    </tr>\n",
              "  </thead>\n",
              "  <tbody>\n",
              "    <tr>\n",
              "      <th>sucid_in_hundredk_y</th>\n",
              "      <td>1.0000</td>\n",
              "      <td>0.0</td>\n",
              "      <td>0.0</td>\n",
              "      <td>0.0</td>\n",
              "    </tr>\n",
              "    <tr>\n",
              "      <th>gdp_per_capita_y</th>\n",
              "      <td>0.0159</td>\n",
              "      <td>1.0</td>\n",
              "      <td>0.0</td>\n",
              "      <td>0.0</td>\n",
              "    </tr>\n",
              "    <tr>\n",
              "      <th>lifeexpectancy_y</th>\n",
              "      <td>0.0000</td>\n",
              "      <td>0.0</td>\n",
              "      <td>1.0</td>\n",
              "      <td>0.0</td>\n",
              "    </tr>\n",
              "    <tr>\n",
              "      <th>expenses_y</th>\n",
              "      <td>0.0000</td>\n",
              "      <td>0.0</td>\n",
              "      <td>0.0</td>\n",
              "      <td>1.0</td>\n",
              "    </tr>\n",
              "  </tbody>\n",
              "</table>\n",
              "</div>\n",
              "      <button class=\"colab-df-convert\" onclick=\"convertToInteractive('df-30621533-d887-403d-b352-cbe636e7f1ff')\"\n",
              "              title=\"Convert this dataframe to an interactive table.\"\n",
              "              style=\"display:none;\">\n",
              "        \n",
              "  <svg xmlns=\"http://www.w3.org/2000/svg\" height=\"24px\"viewBox=\"0 0 24 24\"\n",
              "       width=\"24px\">\n",
              "    <path d=\"M0 0h24v24H0V0z\" fill=\"none\"/>\n",
              "    <path d=\"M18.56 5.44l.94 2.06.94-2.06 2.06-.94-2.06-.94-.94-2.06-.94 2.06-2.06.94zm-11 1L8.5 8.5l.94-2.06 2.06-.94-2.06-.94L8.5 2.5l-.94 2.06-2.06.94zm10 10l.94 2.06.94-2.06 2.06-.94-2.06-.94-.94-2.06-.94 2.06-2.06.94z\"/><path d=\"M17.41 7.96l-1.37-1.37c-.4-.4-.92-.59-1.43-.59-.52 0-1.04.2-1.43.59L10.3 9.45l-7.72 7.72c-.78.78-.78 2.05 0 2.83L4 21.41c.39.39.9.59 1.41.59.51 0 1.02-.2 1.41-.59l7.78-7.78 2.81-2.81c.8-.78.8-2.07 0-2.86zM5.41 20L4 18.59l7.72-7.72 1.47 1.35L5.41 20z\"/>\n",
              "  </svg>\n",
              "      </button>\n",
              "      \n",
              "  <style>\n",
              "    .colab-df-container {\n",
              "      display:flex;\n",
              "      flex-wrap:wrap;\n",
              "      gap: 12px;\n",
              "    }\n",
              "\n",
              "    .colab-df-convert {\n",
              "      background-color: #E8F0FE;\n",
              "      border: none;\n",
              "      border-radius: 50%;\n",
              "      cursor: pointer;\n",
              "      display: none;\n",
              "      fill: #1967D2;\n",
              "      height: 32px;\n",
              "      padding: 0 0 0 0;\n",
              "      width: 32px;\n",
              "    }\n",
              "\n",
              "    .colab-df-convert:hover {\n",
              "      background-color: #E2EBFA;\n",
              "      box-shadow: 0px 1px 2px rgba(60, 64, 67, 0.3), 0px 1px 3px 1px rgba(60, 64, 67, 0.15);\n",
              "      fill: #174EA6;\n",
              "    }\n",
              "\n",
              "    [theme=dark] .colab-df-convert {\n",
              "      background-color: #3B4455;\n",
              "      fill: #D2E3FC;\n",
              "    }\n",
              "\n",
              "    [theme=dark] .colab-df-convert:hover {\n",
              "      background-color: #434B5C;\n",
              "      box-shadow: 0px 1px 3px 1px rgba(0, 0, 0, 0.15);\n",
              "      filter: drop-shadow(0px 1px 2px rgba(0, 0, 0, 0.3));\n",
              "      fill: #FFFFFF;\n",
              "    }\n",
              "  </style>\n",
              "\n",
              "      <script>\n",
              "        const buttonEl =\n",
              "          document.querySelector('#df-30621533-d887-403d-b352-cbe636e7f1ff button.colab-df-convert');\n",
              "        buttonEl.style.display =\n",
              "          google.colab.kernel.accessAllowed ? 'block' : 'none';\n",
              "\n",
              "        async function convertToInteractive(key) {\n",
              "          const element = document.querySelector('#df-30621533-d887-403d-b352-cbe636e7f1ff');\n",
              "          const dataTable =\n",
              "            await google.colab.kernel.invokeFunction('convertToInteractive',\n",
              "                                                     [key], {});\n",
              "          if (!dataTable) return;\n",
              "\n",
              "          const docLinkHtml = 'Like what you see? Visit the ' +\n",
              "            '<a target=\"_blank\" href=https://colab.research.google.com/notebooks/data_table.ipynb>data table notebook</a>'\n",
              "            + ' to learn more about interactive tables.';\n",
              "          element.innerHTML = '';\n",
              "          dataTable['output_type'] = 'display_data';\n",
              "          await google.colab.output.renderOutput(dataTable, element);\n",
              "          const docLink = document.createElement('div');\n",
              "          docLink.innerHTML = docLinkHtml;\n",
              "          element.appendChild(docLink);\n",
              "        }\n",
              "      </script>\n",
              "    </div>\n",
              "  </div>\n",
              "  "
            ]
          },
          "metadata": {},
          "execution_count": 15
        }
      ],
      "source": [
        "from statsmodels.tsa.stattools import grangercausalitytests\n",
        "maxlag=9\n",
        "test = 'ssr_chi2test'\n",
        "def grangers_causation_matrix(data, variables, test='ssr_chi2test', verbose=False):    \n",
        "    \"\"\"Check Granger Causality of all possible combinations of the Time series.\n",
        "    The rows are the response variable, columns are predictors. The values in the table \n",
        "    are the P-Values. P-Values lesser than the significance level (0.05), implies \n",
        "    the Null Hypothesis that the coefficients of the corresponding past values is \n",
        "    zero, that is, the X does not cause Y can be rejected.\n",
        "\n",
        "    data      : pandas dataframe containing the time series variables\n",
        "    variables : list containing names of the time series variables.\n",
        "    \"\"\"\n",
        "    df = pd.DataFrame(np.zeros((len(variables), len(variables))), columns=variables, index=variables)\n",
        "    for c in df.columns:\n",
        "        for r in df.index:\n",
        "            test_result = grangercausalitytests(data[[r, c]], maxlag=maxlag, verbose=False)\n",
        "            p_values = [round(test_result[i+1][0][test][1],4) for i in range(maxlag)]\n",
        "            if verbose: print(f'Y = {r}, X = {c}, P Values = {p_values}')\n",
        "            min_p_value = np.min(p_values)\n",
        "            df.loc[r, c] = min_p_value\n",
        "    df.columns = [var + '_x' for var in variables]\n",
        "    df.index = [var + '_y' for var in variables]\n",
        "    return df\n",
        "\n",
        "grangers_causation_matrix(df, variables = df.columns) "
      ]
    },
    {
      "cell_type": "markdown",
      "metadata": {
        "id": "fciljjwzRsoZ"
      },
      "source": [
        "If a given p-value is < significance level (0.05), then, the corresponding X series (column) causes the Y (row)."
      ]
    },
    {
      "cell_type": "markdown",
      "metadata": {
        "id": "z8tdE_MuRsoZ"
      },
      "source": [
        "### Cointegration Test"
      ]
    },
    {
      "cell_type": "code",
      "execution_count": 16,
      "metadata": {
        "id": "Un_i-FCfRsoZ",
        "outputId": "871e8756-e0dd-4d61-c337-bbe9ab8673c6",
        "colab": {
          "base_uri": "https://localhost:8080/"
        }
      },
      "outputs": [
        {
          "output_type": "stream",
          "name": "stdout",
          "text": [
            "Name   ::  Test Stat > C(95%)    =>   Signif  \n",
            " ----------------------------------------\n",
            "sucid_in_hundredk ::  nan       > 40.1749   =>   False\n",
            "gdp_per_capita ::  702.82    > 24.2761   =>   True\n",
            "lifeexpectancy ::  48.5      > 12.3212   =>   True\n",
            "expenses ::  2.68      > 4.1296    =>   False\n"
          ]
        },
        {
          "output_type": "stream",
          "name": "stderr",
          "text": [
            "/usr/local/lib/python3.7/dist-packages/statsmodels/tsa/vector_ar/vecm.py:674: RuntimeWarning: invalid value encountered in log\n",
            "  tmp = np.log(iota - a)[i:]\n",
            "/usr/local/lib/python3.7/dist-packages/statsmodels/tsa/vector_ar/vecm.py:676: RuntimeWarning: invalid value encountered in log\n",
            "  lr2[i] = -t * np.log(1-a[i])\n"
          ]
        }
      ],
      "source": [
        "from statsmodels.tsa.vector_ar.vecm import coint_johansen\n",
        "\n",
        "def cointegration_test(df, alpha=0.05): \n",
        "    \"\"\"Perform Johanson's Cointegration Test and Report Summary\"\"\"\n",
        "    out = coint_johansen(df,-1,5)\n",
        "    d = {'0.90':0, '0.95':1, '0.99':2}\n",
        "    traces = out.lr1\n",
        "    cvts = out.cvt[:, d[str(1-alpha)]]\n",
        "    def adjust(val, length= 6): return str(val).ljust(length)\n",
        "\n",
        "    # Summary\n",
        "    print('Name   ::  Test Stat > C(95%)    =>   Signif  \\n', '--'*20)\n",
        "    for col, trace, cvt in zip(df.columns, traces, cvts):\n",
        "        print(adjust(col), ':: ', adjust(round(trace,2), 9), \">\", adjust(cvt, 8), ' =>  ' , trace > cvt)\n",
        "\n",
        "cointegration_test(df)"
      ]
    },
    {
      "cell_type": "code",
      "execution_count": 17,
      "metadata": {
        "id": "6Coi0s8pRsoa",
        "outputId": "812e600b-d990-4ff1-ef3b-5fb577ecaabe",
        "colab": {
          "base_uri": "https://localhost:8080/"
        }
      },
      "outputs": [
        {
          "output_type": "stream",
          "name": "stdout",
          "text": [
            "(27, 4)\n",
            "(5, 4)\n"
          ]
        }
      ],
      "source": [
        "nobs = 5\n",
        "df_train, df_test = df[0:-nobs], df[-nobs:]\n",
        "\n",
        "# Check size\n",
        "print(df_train.shape)  # (119, 8)\n",
        "print(df_test.shape)  # (4, 8)"
      ]
    },
    {
      "cell_type": "markdown",
      "metadata": {
        "id": "ZwBYymeERsoa"
      },
      "source": [
        "Dickey-Fuller Test"
      ]
    },
    {
      "cell_type": "code",
      "execution_count": 18,
      "metadata": {
        "id": "qMdGBOLCRsoa"
      },
      "outputs": [],
      "source": [
        "def adfuller_test(series, signif=0.05, name='', verbose=False):\n",
        "    \"\"\"Perform ADFuller to test for Stationarity of given series and print report\"\"\"\n",
        "    r = adfuller(series, autolag='AIC')\n",
        "    output = {'test_statistic':round(r[0], 4), 'pvalue':round(r[1], 4), 'n_lags':round(r[2], 4), 'n_obs':r[3]}\n",
        "    p_value = output['pvalue'] \n",
        "    def adjust(val, length= 6): return str(val).ljust(length)\n",
        "\n",
        "    # Print Summary\n",
        "    print(f'    Augmented Dickey-Fuller Test on \"{name}\"', \"\\n   \", '-'*47)\n",
        "    print(f' Null Hypothesis: Data has unit root. Non-Stationary.')\n",
        "    print(f' Significance Level    = {signif}')\n",
        "    print(f' Test Statistic        = {output[\"test_statistic\"]}')\n",
        "    print(f' No. Lags Chosen       = {output[\"n_lags\"]}')\n",
        "\n",
        "    for key,val in r[4].items():\n",
        "        print(f' Critical value {adjust(key)} = {round(val, 3)}')\n",
        "\n",
        "    if p_value <= signif:\n",
        "        print(f\" => P-Value = {p_value}. Rejecting Null Hypothesis.\")\n",
        "        print(f\" => Series is Stationary.\")\n",
        "    else:\n",
        "        print(f\" => P-Value = {p_value}. Weak evidence to reject the Null Hypothesis.\")\n",
        "        print(f\" => Series is Non-Stationary.\")  "
      ]
    },
    {
      "cell_type": "code",
      "execution_count": 19,
      "metadata": {
        "id": "x4uiBkAvRsob",
        "outputId": "9e398076-8966-4e00-dce1-8797aea4f648",
        "colab": {
          "base_uri": "https://localhost:8080/"
        }
      },
      "outputs": [
        {
          "output_type": "stream",
          "name": "stdout",
          "text": [
            "    Augmented Dickey-Fuller Test on \"sucid_in_hundredk\" \n",
            "    -----------------------------------------------\n",
            " Null Hypothesis: Data has unit root. Non-Stationary.\n",
            " Significance Level    = 0.05\n",
            " Test Statistic        = -2.6702\n",
            " No. Lags Chosen       = 0\n",
            " Critical value 1%     = -3.711\n",
            " Critical value 5%     = -2.981\n",
            " Critical value 10%    = -2.63\n",
            " => P-Value = 0.0793. Weak evidence to reject the Null Hypothesis.\n",
            " => Series is Non-Stationary.\n",
            "\n",
            "\n",
            "    Augmented Dickey-Fuller Test on \"gdp_per_capita\" \n",
            "    -----------------------------------------------\n",
            " Null Hypothesis: Data has unit root. Non-Stationary.\n",
            " Significance Level    = 0.05\n",
            " Test Statistic        = 0.7609\n",
            " No. Lags Chosen       = 2\n",
            " Critical value 1%     = -3.738\n",
            " Critical value 5%     = -2.992\n",
            " Critical value 10%    = -2.636\n",
            " => P-Value = 0.991. Weak evidence to reject the Null Hypothesis.\n",
            " => Series is Non-Stationary.\n",
            "\n",
            "\n",
            "    Augmented Dickey-Fuller Test on \"lifeexpectancy\" \n",
            "    -----------------------------------------------\n",
            " Null Hypothesis: Data has unit root. Non-Stationary.\n",
            " Significance Level    = 0.05\n",
            " Test Statistic        = -7.7089\n",
            " No. Lags Chosen       = 9\n",
            " Critical value 1%     = -3.889\n",
            " Critical value 5%     = -3.054\n",
            " Critical value 10%    = -2.667\n",
            " => P-Value = 0.0. Rejecting Null Hypothesis.\n",
            " => Series is Stationary.\n",
            "\n",
            "\n",
            "    Augmented Dickey-Fuller Test on \"expenses\" \n",
            "    -----------------------------------------------\n",
            " Null Hypothesis: Data has unit root. Non-Stationary.\n",
            " Significance Level    = 0.05\n",
            " Test Statistic        = -1.466\n",
            " No. Lags Chosen       = 0\n",
            " Critical value 1%     = -3.711\n",
            " Critical value 5%     = -2.981\n",
            " Critical value 10%    = -2.63\n",
            " => P-Value = 0.5503. Weak evidence to reject the Null Hypothesis.\n",
            " => Series is Non-Stationary.\n",
            "\n",
            "\n"
          ]
        }
      ],
      "source": [
        "# ADF Test on each column\n",
        "for name, column in df_train.iteritems():\n",
        "    adfuller_test(column, name=column.name)\n",
        "    print('\\n')"
      ]
    },
    {
      "cell_type": "code",
      "execution_count": 20,
      "metadata": {
        "id": "1OMKfjEDRsob"
      },
      "outputs": [],
      "source": [
        "# 1st difference\n",
        "df_differenced = df_train.diff().dropna()"
      ]
    },
    {
      "cell_type": "code",
      "execution_count": 21,
      "metadata": {
        "id": "9Frfb0bmRsob",
        "outputId": "116d43fc-09a0-4b8f-d55e-88e0cdc1f9d6",
        "colab": {
          "base_uri": "https://localhost:8080/"
        }
      },
      "outputs": [
        {
          "output_type": "stream",
          "name": "stdout",
          "text": [
            "    Augmented Dickey-Fuller Test on \"sucid_in_hundredk\" \n",
            "    -----------------------------------------------\n",
            " Null Hypothesis: Data has unit root. Non-Stationary.\n",
            " Significance Level    = 0.05\n",
            " Test Statistic        = -4.3782\n",
            " No. Lags Chosen       = 0\n",
            " Critical value 1%     = -3.724\n",
            " Critical value 5%     = -2.986\n",
            " Critical value 10%    = -2.633\n",
            " => P-Value = 0.0003. Rejecting Null Hypothesis.\n",
            " => Series is Stationary.\n",
            "\n",
            "\n",
            "    Augmented Dickey-Fuller Test on \"gdp_per_capita\" \n",
            "    -----------------------------------------------\n",
            " Null Hypothesis: Data has unit root. Non-Stationary.\n",
            " Significance Level    = 0.05\n",
            " Test Statistic        = -4.7601\n",
            " No. Lags Chosen       = 1\n",
            " Critical value 1%     = -3.738\n",
            " Critical value 5%     = -2.992\n",
            " Critical value 10%    = -2.636\n",
            " => P-Value = 0.0001. Rejecting Null Hypothesis.\n",
            " => Series is Stationary.\n",
            "\n",
            "\n",
            "    Augmented Dickey-Fuller Test on \"lifeexpectancy\" \n",
            "    -----------------------------------------------\n",
            " Null Hypothesis: Data has unit root. Non-Stationary.\n",
            " Significance Level    = 0.05\n",
            " Test Statistic        = -1.2397\n",
            " No. Lags Chosen       = 8\n",
            " Critical value 1%     = -3.889\n",
            " Critical value 5%     = -3.054\n",
            " Critical value 10%    = -2.667\n",
            " => P-Value = 0.6563. Weak evidence to reject the Null Hypothesis.\n",
            " => Series is Non-Stationary.\n",
            "\n",
            "\n",
            "    Augmented Dickey-Fuller Test on \"expenses\" \n",
            "    -----------------------------------------------\n",
            " Null Hypothesis: Data has unit root. Non-Stationary.\n",
            " Significance Level    = 0.05\n",
            " Test Statistic        = -7.3185\n",
            " No. Lags Chosen       = 9\n",
            " Critical value 1%     = -3.924\n",
            " Critical value 5%     = -3.068\n",
            " Critical value 10%    = -2.674\n",
            " => P-Value = 0.0. Rejecting Null Hypothesis.\n",
            " => Series is Stationary.\n",
            "\n",
            "\n"
          ]
        }
      ],
      "source": [
        "# ADF Test on each column of 1st Differences Dataframe\n",
        "for name, column in df_differenced.iteritems():\n",
        "    adfuller_test(column, name=column.name)\n",
        "    print('\\n')"
      ]
    },
    {
      "cell_type": "code",
      "execution_count": 22,
      "metadata": {
        "id": "OUkZPFgXRsoc"
      },
      "outputs": [],
      "source": [
        "# Second Differencing\n",
        "df_differenced = df_differenced.diff().dropna()"
      ]
    },
    {
      "cell_type": "code",
      "execution_count": 23,
      "metadata": {
        "id": "C0HpjC0jRsoc",
        "outputId": "0d40faea-8b5d-41ab-aead-81871c696428",
        "colab": {
          "base_uri": "https://localhost:8080/"
        }
      },
      "outputs": [
        {
          "output_type": "stream",
          "name": "stdout",
          "text": [
            "    Augmented Dickey-Fuller Test on \"sucid_in_hundredk\" \n",
            "    -----------------------------------------------\n",
            " Null Hypothesis: Data has unit root. Non-Stationary.\n",
            " Significance Level    = 0.05\n",
            " Test Statistic        = -3.0687\n",
            " No. Lags Chosen       = 4\n",
            " Critical value 1%     = -3.809\n",
            " Critical value 5%     = -3.022\n",
            " Critical value 10%    = -2.651\n",
            " => P-Value = 0.029. Rejecting Null Hypothesis.\n",
            " => Series is Stationary.\n",
            "\n",
            "\n",
            "    Augmented Dickey-Fuller Test on \"gdp_per_capita\" \n",
            "    -----------------------------------------------\n",
            " Null Hypothesis: Data has unit root. Non-Stationary.\n",
            " Significance Level    = 0.05\n",
            " Test Statistic        = -5.6351\n",
            " No. Lags Chosen       = 2\n",
            " Critical value 1%     = -3.77\n",
            " Critical value 5%     = -3.005\n",
            " Critical value 10%    = -2.643\n",
            " => P-Value = 0.0. Rejecting Null Hypothesis.\n",
            " => Series is Stationary.\n",
            "\n",
            "\n",
            "    Augmented Dickey-Fuller Test on \"lifeexpectancy\" \n",
            "    -----------------------------------------------\n",
            " Null Hypothesis: Data has unit root. Non-Stationary.\n",
            " Significance Level    = 0.05\n",
            " Test Statistic        = -4.5984\n",
            " No. Lags Chosen       = 9\n",
            " Critical value 1%     = -3.964\n",
            " Critical value 5%     = -3.085\n",
            " Critical value 10%    = -2.682\n",
            " => P-Value = 0.0001. Rejecting Null Hypothesis.\n",
            " => Series is Stationary.\n",
            "\n",
            "\n",
            "    Augmented Dickey-Fuller Test on \"expenses\" \n",
            "    -----------------------------------------------\n",
            " Null Hypothesis: Data has unit root. Non-Stationary.\n",
            " Significance Level    = 0.05\n",
            " Test Statistic        = -2.3343\n",
            " No. Lags Chosen       = 8\n",
            " Critical value 1%     = -3.924\n",
            " Critical value 5%     = -3.068\n",
            " Critical value 10%    = -2.674\n",
            " => P-Value = 0.1612. Weak evidence to reject the Null Hypothesis.\n",
            " => Series is Non-Stationary.\n",
            "\n",
            "\n"
          ]
        }
      ],
      "source": [
        "# ADF Test on each column of 2nd Differences Dataframe\n",
        "for name, column in df_differenced.iteritems():\n",
        "    adfuller_test(column, name=column.name)\n",
        "    print('\\n')"
      ]
    },
    {
      "cell_type": "code",
      "execution_count": 24,
      "metadata": {
        "id": "0N2SdZ-0Rsoc"
      },
      "outputs": [],
      "source": [
        "# Second Differencing\n",
        "df_differenced = df_differenced.diff().dropna()"
      ]
    },
    {
      "cell_type": "code",
      "execution_count": 25,
      "metadata": {
        "id": "8edULusqRsoc",
        "outputId": "ef89ad59-4377-458a-a82c-0db5bbc0ae62",
        "colab": {
          "base_uri": "https://localhost:8080/"
        }
      },
      "outputs": [
        {
          "output_type": "stream",
          "name": "stdout",
          "text": [
            "    Augmented Dickey-Fuller Test on \"sucid_in_hundredk\" \n",
            "    -----------------------------------------------\n",
            " Null Hypothesis: Data has unit root. Non-Stationary.\n",
            " Significance Level    = 0.05\n",
            " Test Statistic        = -5.2203\n",
            " No. Lags Chosen       = 5\n",
            " Critical value 1%     = -3.859\n",
            " Critical value 5%     = -3.042\n",
            " Critical value 10%    = -2.661\n",
            " => P-Value = 0.0. Rejecting Null Hypothesis.\n",
            " => Series is Stationary.\n",
            "\n",
            "\n",
            "    Augmented Dickey-Fuller Test on \"gdp_per_capita\" \n",
            "    -----------------------------------------------\n",
            " Null Hypothesis: Data has unit root. Non-Stationary.\n",
            " Significance Level    = 0.05\n",
            " Test Statistic        = -7.5746\n",
            " No. Lags Chosen       = 2\n",
            " Critical value 1%     = -3.788\n",
            " Critical value 5%     = -3.013\n",
            " Critical value 10%    = -2.646\n",
            " => P-Value = 0.0. Rejecting Null Hypothesis.\n",
            " => Series is Stationary.\n",
            "\n",
            "\n",
            "    Augmented Dickey-Fuller Test on \"lifeexpectancy\" \n",
            "    -----------------------------------------------\n",
            " Null Hypothesis: Data has unit root. Non-Stationary.\n",
            " Significance Level    = 0.05\n",
            " Test Statistic        = -3.5165\n",
            " No. Lags Chosen       = 9\n",
            " Critical value 1%     = -4.012\n",
            " Critical value 5%     = -3.104\n",
            " Critical value 10%    = -2.691\n",
            " => P-Value = 0.0076. Rejecting Null Hypothesis.\n",
            " => Series is Stationary.\n",
            "\n",
            "\n",
            "    Augmented Dickey-Fuller Test on \"expenses\" \n",
            "    -----------------------------------------------\n",
            " Null Hypothesis: Data has unit root. Non-Stationary.\n",
            " Significance Level    = 0.05\n",
            " Test Statistic        = -0.4894\n",
            " No. Lags Chosen       = 9\n",
            " Critical value 1%     = -4.012\n",
            " Critical value 5%     = -3.104\n",
            " Critical value 10%    = -2.691\n",
            " => P-Value = 0.8941. Weak evidence to reject the Null Hypothesis.\n",
            " => Series is Non-Stationary.\n",
            "\n",
            "\n"
          ]
        }
      ],
      "source": [
        "# ADF Test on each column of 2nd Differences Dataframe\n",
        "for name, column in df_differenced.iteritems():\n",
        "    adfuller_test(column, name=column.name)\n",
        "    print('\\n')"
      ]
    },
    {
      "cell_type": "code",
      "execution_count": 26,
      "metadata": {
        "id": "9_HbTW1MRsod",
        "outputId": "5919d33e-2fe6-453b-90ea-79bf38a5cf08",
        "colab": {
          "base_uri": "https://localhost:8080/"
        }
      },
      "outputs": [
        {
          "output_type": "stream",
          "name": "stdout",
          "text": [
            "Lag Order = 1\n",
            "AIC :  71.38417988563852\n",
            "BIC :  72.37156616035952\n",
            "FPE :  1.0327680008467646e+31\n",
            "HQIC:  71.63250476615116 \n",
            "\n",
            "Lag Order = 2\n",
            "AIC :  70.98346806210047\n",
            "BIC :  72.768810258505\n",
            "FPE :  8.242794193943304e+30\n",
            "HQIC:  71.40404099957529 \n",
            "\n",
            "Lag Order = 3\n",
            "AIC :  67.47832408989454\n",
            "BIC :  70.06476060235254\n",
            "FPE :  4.6583037160167115e+29\n",
            "HQIC:  68.0396470237916 \n",
            "\n"
          ]
        },
        {
          "output_type": "stream",
          "name": "stderr",
          "text": [
            "/usr/local/lib/python3.7/dist-packages/statsmodels/tsa/base/tsa_model.py:165: ValueWarning: No frequency information was provided, so inferred frequency AS-JAN will be used.\n",
            "  % freq, ValueWarning)\n"
          ]
        }
      ],
      "source": [
        "model = VAR(df_differenced)\n",
        "for i in [1,2,3]:\n",
        "    result = model.fit(i)\n",
        "    print('Lag Order =', i)\n",
        "    print('AIC : ', result.aic)\n",
        "    print('BIC : ', result.bic)\n",
        "    print('FPE : ', result.fpe)\n",
        "    print('HQIC: ', result.hqic, '\\n')"
      ]
    },
    {
      "cell_type": "code",
      "execution_count": 27,
      "metadata": {
        "id": "yfwlmLIoRsod",
        "outputId": "3edef9bf-83ad-4817-89d8-756b0cc76b7c",
        "colab": {
          "base_uri": "https://localhost:8080/"
        }
      },
      "outputs": [
        {
          "output_type": "execute_result",
          "data": {
            "text/plain": [
              "  Summary of Regression Results   \n",
              "==================================\n",
              "Model:                         VAR\n",
              "Method:                        OLS\n",
              "Date:           Fri, 05, Aug, 2022\n",
              "Time:                     10:24:29\n",
              "--------------------------------------------------------------------\n",
              "No. of Equations:         4.00000    BIC:                    70.0648\n",
              "Nobs:                     21.0000    HQIC:                   68.0396\n",
              "Log likelihood:          -775.713    FPE:                4.65830e+29\n",
              "AIC:                      67.4783    Det(Omega_mle):     6.77937e+28\n",
              "--------------------------------------------------------------------\n",
              "Results for equation sucid_in_hundredk\n",
              "=======================================================================================\n",
              "                          coefficient       std. error           t-stat            prob\n",
              "---------------------------------------------------------------------------------------\n",
              "const                      -10.967003        61.225144           -0.179           0.858\n",
              "L1.sucid_in_hundredk        -1.096626         0.126225           -8.688           0.000\n",
              "L1.gdp_per_capita           -0.000399         0.000064           -6.199           0.000\n",
              "L1.lifeexpectancy           -0.035830         0.082773           -0.433           0.665\n",
              "L1.expenses                  0.316882         0.165499            1.915           0.056\n",
              "L2.sucid_in_hundredk        -1.156081         0.140506           -8.228           0.000\n",
              "L2.gdp_per_capita           -0.000554         0.000113           -4.884           0.000\n",
              "L2.lifeexpectancy            0.385387         0.108109            3.565           0.000\n",
              "L2.expenses                 -0.339922         0.214813           -1.582           0.114\n",
              "L3.sucid_in_hundredk        -0.691443         0.110409           -6.263           0.000\n",
              "L3.gdp_per_capita           -0.000659         0.000111           -5.957           0.000\n",
              "L3.lifeexpectancy            0.465310         0.086637            5.371           0.000\n",
              "L3.expenses                 -0.666078         0.166052           -4.011           0.000\n",
              "=======================================================================================\n",
              "\n",
              "Results for equation gdp_per_capita\n",
              "=======================================================================================\n",
              "                          coefficient       std. error           t-stat            prob\n",
              "---------------------------------------------------------------------------------------\n",
              "const                   -50908.900269    195427.060742           -0.261           0.794\n",
              "L1.sucid_in_hundredk       659.077380       402.903958            1.636           0.102\n",
              "L1.gdp_per_capita           -1.180303         0.205416           -5.746           0.000\n",
              "L1.lifeexpectancy            9.200429       264.208069            0.035           0.972\n",
              "L1.expenses                171.082241       528.264276            0.324           0.746\n",
              "L2.sucid_in_hundredk        84.618793       448.487480            0.189           0.850\n",
              "L2.gdp_per_capita           -1.388065         0.362194           -3.832           0.000\n",
              "L2.lifeexpectancy           22.179113       345.078989            0.064           0.949\n",
              "L2.expenses                123.378091       685.671364            0.180           0.857\n",
              "L3.sucid_in_hundredk       643.019224       352.418005            1.825           0.068\n",
              "L3.gdp_per_capita           -1.295944         0.353243           -3.669           0.000\n",
              "L3.lifeexpectancy         -310.720276       276.541606           -1.124           0.261\n",
              "L3.expenses                849.582890       530.028667            1.603           0.109\n",
              "=======================================================================================\n",
              "\n",
              "Results for equation lifeexpectancy\n",
              "=======================================================================================\n",
              "                          coefficient       std. error           t-stat            prob\n",
              "---------------------------------------------------------------------------------------\n",
              "const                      -97.199089      1027.516015           -0.095           0.925\n",
              "L1.sucid_in_hundredk         2.594535         2.118388            1.225           0.221\n",
              "L1.gdp_per_capita            0.000385         0.001080            0.356           0.722\n",
              "L1.lifeexpectancy           -2.230569         1.389153           -1.606           0.108\n",
              "L1.expenses                  3.330135         2.777507            1.199           0.231\n",
              "L2.sucid_in_hundredk        -0.237994         2.358057           -0.101           0.920\n",
              "L2.gdp_per_capita           -0.000766         0.001904           -0.402           0.688\n",
              "L2.lifeexpectancy           -1.444622         1.814356           -0.796           0.426\n",
              "L2.expenses                  2.108800         3.605122            0.585           0.559\n",
              "L3.sucid_in_hundredk         0.042542         1.852943            0.023           0.982\n",
              "L3.gdp_per_capita           -0.000673         0.001857           -0.362           0.717\n",
              "L3.lifeexpectancy           -0.173528         1.454000           -0.119           0.905\n",
              "L3.expenses                  0.183759         2.786784            0.066           0.947\n",
              "=======================================================================================\n",
              "\n",
              "Results for equation expenses\n",
              "=======================================================================================\n",
              "                          coefficient       std. error           t-stat            prob\n",
              "---------------------------------------------------------------------------------------\n",
              "const                      -36.805973       487.776334           -0.075           0.940\n",
              "L1.sucid_in_hundredk         1.643417         1.005628            1.634           0.102\n",
              "L1.gdp_per_capita            0.000313         0.000513            0.610           0.542\n",
              "L1.lifeexpectancy           -0.604137         0.659450           -0.916           0.360\n",
              "L1.expenses                  0.445802         1.318522            0.338           0.735\n",
              "L2.sucid_in_hundredk         0.359273         1.119403            0.321           0.748\n",
              "L2.gdp_per_capita            0.000186         0.000904            0.206           0.837\n",
              "L2.lifeexpectancy           -0.518795         0.861300           -0.602           0.547\n",
              "L2.expenses                  0.317958         1.711402            0.186           0.853\n",
              "L3.sucid_in_hundredk         0.183724         0.879618            0.209           0.835\n",
              "L3.gdp_per_capita           -0.000041         0.000882           -0.047           0.963\n",
              "L3.lifeexpectancy           -0.014691         0.690234           -0.021           0.983\n",
              "L3.expenses                 -0.255136         1.322925           -0.193           0.847\n",
              "=======================================================================================\n",
              "\n",
              "Correlation matrix of residuals\n",
              "                     sucid_in_hundredk  gdp_per_capita  lifeexpectancy  expenses\n",
              "sucid_in_hundredk             1.000000       -0.200808       -0.291643 -0.254738\n",
              "gdp_per_capita               -0.200808        1.000000        0.765894  0.683822\n",
              "lifeexpectancy               -0.291643        0.765894        1.000000  0.978283\n",
              "expenses                     -0.254738        0.683822        0.978283  1.000000\n",
              "\n"
            ]
          },
          "metadata": {},
          "execution_count": 27
        }
      ],
      "source": [
        "model.select_order(3)\n",
        "model_fitted = model.fit(3)\n",
        "model_fitted.summary()"
      ]
    },
    {
      "cell_type": "markdown",
      "metadata": {
        "id": "o4ZASdiSRsoe"
      },
      "source": [
        "### Check for Serial Correlation of Residuals (Errors) using Durbin Watson Statistic"
      ]
    },
    {
      "cell_type": "code",
      "execution_count": 28,
      "metadata": {
        "id": "lKoGTSqiRsoe"
      },
      "outputs": [],
      "source": [
        "def adjust(val, length= 6): return str(val).ljust(length)"
      ]
    },
    {
      "cell_type": "code",
      "execution_count": 29,
      "metadata": {
        "id": "YlFdAt4kRsoe",
        "outputId": "be50e18b-c9a8-49c9-db60-cf710969c27f",
        "colab": {
          "base_uri": "https://localhost:8080/"
        }
      },
      "outputs": [
        {
          "output_type": "stream",
          "name": "stdout",
          "text": [
            "sucid_in_hundredk : 0.49\n",
            "gdp_per_capita : 1.5\n",
            "lifeexpectancy : 2.24\n",
            "expenses : 2.23\n"
          ]
        }
      ],
      "source": [
        "from statsmodels.stats.stattools import durbin_watson\n",
        "out = durbin_watson(model_fitted.resid)\n",
        "\n",
        "for col, val in zip(df.columns, out):\n",
        "    print(adjust(col), ':', round(val, 2))"
      ]
    },
    {
      "cell_type": "markdown",
      "metadata": {
        "id": "-ra2B4ViRsoe"
      },
      "source": [
        "### The serial correlation seems quite alright. Let’s proceed with the forecast."
      ]
    },
    {
      "cell_type": "code",
      "execution_count": 30,
      "metadata": {
        "id": "TagxXhFyRsof",
        "outputId": "263f0829-b8dc-4f99-da29-b41871b6f1dd",
        "colab": {
          "base_uri": "https://localhost:8080/"
        }
      },
      "outputs": [
        {
          "output_type": "stream",
          "name": "stdout",
          "text": [
            "3\n"
          ]
        },
        {
          "output_type": "execute_result",
          "data": {
            "text/plain": [
              "array([[-3.41900000e+01, -2.36653700e+06,  9.03606536e+02,\n",
              "         1.70859275e+02],\n",
              "       [ 6.64120000e+02,  5.85729900e+06,  1.89104722e+03,\n",
              "        -4.54593536e+02],\n",
              "       [-7.29750000e+02, -2.05605700e+06, -1.39259671e+03,\n",
              "        -2.03775490e+02]])"
            ]
          },
          "metadata": {},
          "execution_count": 30
        }
      ],
      "source": [
        "# Get the lag order\n",
        "lag_order = model_fitted.k_ar\n",
        "print(lag_order)  #> 4\n",
        "\n",
        "# Input data for forecasting\n",
        "forecast_input = df_differenced.values[-lag_order:]\n",
        "forecast_input"
      ]
    },
    {
      "cell_type": "markdown",
      "metadata": {
        "id": "WpqDXNAERsog"
      },
      "source": [
        "### Forecast VAR model using statsmodels"
      ]
    },
    {
      "cell_type": "code",
      "execution_count": 31,
      "metadata": {
        "id": "ClS_HZG8Rsog",
        "outputId": "8cfe8a5f-4f5d-4ee2-faa1-74cc4c938f7c",
        "colab": {
          "base_uri": "https://localhost:8080/",
          "height": 238
        }
      },
      "outputs": [
        {
          "output_type": "execute_result",
          "data": {
            "text/plain": [
              "            sucid_in_hundredk_2d  gdp_per_capita_2d  lifeexpectancy_2d  \\\n",
              "year                                                                     \n",
              "2012-01-01            354.983546      -3.331729e+06       -7221.815277   \n",
              "2013-01-01           -716.785772      -1.504501e+06       11694.353892   \n",
              "2014-01-01           2353.018203       8.790193e+06       -4547.189046   \n",
              "2015-01-01          -3092.645004      -8.918612e+05         536.093541   \n",
              "2016-01-01           1221.574387      -1.244400e+07      -11448.295805   \n",
              "\n",
              "            expenses_2d  \n",
              "year                     \n",
              "2012-01-01  -889.792760  \n",
              "2013-01-01  3451.806013  \n",
              "2014-01-01 -4218.988398  \n",
              "2015-01-01  2475.261742  \n",
              "2016-01-01 -2239.090448  "
            ],
            "text/html": [
              "\n",
              "  <div id=\"df-80b8d492-17a3-4149-a073-67a3c148dd0e\">\n",
              "    <div class=\"colab-df-container\">\n",
              "      <div>\n",
              "<style scoped>\n",
              "    .dataframe tbody tr th:only-of-type {\n",
              "        vertical-align: middle;\n",
              "    }\n",
              "\n",
              "    .dataframe tbody tr th {\n",
              "        vertical-align: top;\n",
              "    }\n",
              "\n",
              "    .dataframe thead th {\n",
              "        text-align: right;\n",
              "    }\n",
              "</style>\n",
              "<table border=\"1\" class=\"dataframe\">\n",
              "  <thead>\n",
              "    <tr style=\"text-align: right;\">\n",
              "      <th></th>\n",
              "      <th>sucid_in_hundredk_2d</th>\n",
              "      <th>gdp_per_capita_2d</th>\n",
              "      <th>lifeexpectancy_2d</th>\n",
              "      <th>expenses_2d</th>\n",
              "    </tr>\n",
              "    <tr>\n",
              "      <th>year</th>\n",
              "      <th></th>\n",
              "      <th></th>\n",
              "      <th></th>\n",
              "      <th></th>\n",
              "    </tr>\n",
              "  </thead>\n",
              "  <tbody>\n",
              "    <tr>\n",
              "      <th>2012-01-01</th>\n",
              "      <td>354.983546</td>\n",
              "      <td>-3.331729e+06</td>\n",
              "      <td>-7221.815277</td>\n",
              "      <td>-889.792760</td>\n",
              "    </tr>\n",
              "    <tr>\n",
              "      <th>2013-01-01</th>\n",
              "      <td>-716.785772</td>\n",
              "      <td>-1.504501e+06</td>\n",
              "      <td>11694.353892</td>\n",
              "      <td>3451.806013</td>\n",
              "    </tr>\n",
              "    <tr>\n",
              "      <th>2014-01-01</th>\n",
              "      <td>2353.018203</td>\n",
              "      <td>8.790193e+06</td>\n",
              "      <td>-4547.189046</td>\n",
              "      <td>-4218.988398</td>\n",
              "    </tr>\n",
              "    <tr>\n",
              "      <th>2015-01-01</th>\n",
              "      <td>-3092.645004</td>\n",
              "      <td>-8.918612e+05</td>\n",
              "      <td>536.093541</td>\n",
              "      <td>2475.261742</td>\n",
              "    </tr>\n",
              "    <tr>\n",
              "      <th>2016-01-01</th>\n",
              "      <td>1221.574387</td>\n",
              "      <td>-1.244400e+07</td>\n",
              "      <td>-11448.295805</td>\n",
              "      <td>-2239.090448</td>\n",
              "    </tr>\n",
              "  </tbody>\n",
              "</table>\n",
              "</div>\n",
              "      <button class=\"colab-df-convert\" onclick=\"convertToInteractive('df-80b8d492-17a3-4149-a073-67a3c148dd0e')\"\n",
              "              title=\"Convert this dataframe to an interactive table.\"\n",
              "              style=\"display:none;\">\n",
              "        \n",
              "  <svg xmlns=\"http://www.w3.org/2000/svg\" height=\"24px\"viewBox=\"0 0 24 24\"\n",
              "       width=\"24px\">\n",
              "    <path d=\"M0 0h24v24H0V0z\" fill=\"none\"/>\n",
              "    <path d=\"M18.56 5.44l.94 2.06.94-2.06 2.06-.94-2.06-.94-.94-2.06-.94 2.06-2.06.94zm-11 1L8.5 8.5l.94-2.06 2.06-.94-2.06-.94L8.5 2.5l-.94 2.06-2.06.94zm10 10l.94 2.06.94-2.06 2.06-.94-2.06-.94-.94-2.06-.94 2.06-2.06.94z\"/><path d=\"M17.41 7.96l-1.37-1.37c-.4-.4-.92-.59-1.43-.59-.52 0-1.04.2-1.43.59L10.3 9.45l-7.72 7.72c-.78.78-.78 2.05 0 2.83L4 21.41c.39.39.9.59 1.41.59.51 0 1.02-.2 1.41-.59l7.78-7.78 2.81-2.81c.8-.78.8-2.07 0-2.86zM5.41 20L4 18.59l7.72-7.72 1.47 1.35L5.41 20z\"/>\n",
              "  </svg>\n",
              "      </button>\n",
              "      \n",
              "  <style>\n",
              "    .colab-df-container {\n",
              "      display:flex;\n",
              "      flex-wrap:wrap;\n",
              "      gap: 12px;\n",
              "    }\n",
              "\n",
              "    .colab-df-convert {\n",
              "      background-color: #E8F0FE;\n",
              "      border: none;\n",
              "      border-radius: 50%;\n",
              "      cursor: pointer;\n",
              "      display: none;\n",
              "      fill: #1967D2;\n",
              "      height: 32px;\n",
              "      padding: 0 0 0 0;\n",
              "      width: 32px;\n",
              "    }\n",
              "\n",
              "    .colab-df-convert:hover {\n",
              "      background-color: #E2EBFA;\n",
              "      box-shadow: 0px 1px 2px rgba(60, 64, 67, 0.3), 0px 1px 3px 1px rgba(60, 64, 67, 0.15);\n",
              "      fill: #174EA6;\n",
              "    }\n",
              "\n",
              "    [theme=dark] .colab-df-convert {\n",
              "      background-color: #3B4455;\n",
              "      fill: #D2E3FC;\n",
              "    }\n",
              "\n",
              "    [theme=dark] .colab-df-convert:hover {\n",
              "      background-color: #434B5C;\n",
              "      box-shadow: 0px 1px 3px 1px rgba(0, 0, 0, 0.15);\n",
              "      filter: drop-shadow(0px 1px 2px rgba(0, 0, 0, 0.3));\n",
              "      fill: #FFFFFF;\n",
              "    }\n",
              "  </style>\n",
              "\n",
              "      <script>\n",
              "        const buttonEl =\n",
              "          document.querySelector('#df-80b8d492-17a3-4149-a073-67a3c148dd0e button.colab-df-convert');\n",
              "        buttonEl.style.display =\n",
              "          google.colab.kernel.accessAllowed ? 'block' : 'none';\n",
              "\n",
              "        async function convertToInteractive(key) {\n",
              "          const element = document.querySelector('#df-80b8d492-17a3-4149-a073-67a3c148dd0e');\n",
              "          const dataTable =\n",
              "            await google.colab.kernel.invokeFunction('convertToInteractive',\n",
              "                                                     [key], {});\n",
              "          if (!dataTable) return;\n",
              "\n",
              "          const docLinkHtml = 'Like what you see? Visit the ' +\n",
              "            '<a target=\"_blank\" href=https://colab.research.google.com/notebooks/data_table.ipynb>data table notebook</a>'\n",
              "            + ' to learn more about interactive tables.';\n",
              "          element.innerHTML = '';\n",
              "          dataTable['output_type'] = 'display_data';\n",
              "          await google.colab.output.renderOutput(dataTable, element);\n",
              "          const docLink = document.createElement('div');\n",
              "          docLink.innerHTML = docLinkHtml;\n",
              "          element.appendChild(docLink);\n",
              "        }\n",
              "      </script>\n",
              "    </div>\n",
              "  </div>\n",
              "  "
            ]
          },
          "metadata": {},
          "execution_count": 31
        }
      ],
      "source": [
        "# Forecast\n",
        "fc = model_fitted.forecast(y=forecast_input, steps=nobs)\n",
        "df_forecast = pd.DataFrame(fc, index=df.index[-nobs:], columns=df.columns + '_2d')\n",
        "df_forecast"
      ]
    },
    {
      "cell_type": "code",
      "execution_count": 32,
      "metadata": {
        "id": "CjgaFCDfRsoh"
      },
      "outputs": [],
      "source": [
        "def invert_transformation(df_train, df_forecast, second_diff=False):\n",
        "    \"\"\"Revert back the differencing to get the forecast to original scale.\"\"\"\n",
        "    df_fc = df_forecast.copy()\n",
        "    columns = df_train.columns\n",
        "    for col in columns:        \n",
        "        # Roll back 2nd Diff\n",
        "        if second_diff:\n",
        "            df_fc[str(col)+'_1d'] = (df_train[col].iloc[-1]-df_train[col].iloc[-2]) + df_fc[str(col)+'_2d'].cumsum()\n",
        "        # Roll back 1st Diff\n",
        "        df_fc[str(col)+'_forecast'] = df_train[col].iloc[-1] + df_fc[str(col)+'_1d'].cumsum()\n",
        "    return df_fc"
      ]
    },
    {
      "cell_type": "markdown",
      "metadata": {
        "id": "brriEzl2Rsoh"
      },
      "source": [
        "### Invert the transformation to get the real forecast"
      ]
    },
    {
      "cell_type": "code",
      "execution_count": 33,
      "metadata": {
        "id": "SrklKWW1Rsoh",
        "outputId": "e3b73945-5b20-44bf-da64-6e557e0eb99c",
        "colab": {
          "base_uri": "https://localhost:8080/",
          "height": 238
        }
      },
      "outputs": [
        {
          "output_type": "execute_result",
          "data": {
            "text/plain": [
              "            sucid_in_hundredk_2d  gdp_per_capita_2d  lifeexpectancy_2d  \\\n",
              "year                                                                     \n",
              "2012-01-01            354.983546      -3.331729e+06       -7221.815277   \n",
              "2013-01-01           -716.785772      -1.504501e+06       11694.353892   \n",
              "2014-01-01           2353.018203       8.790193e+06       -4547.189046   \n",
              "2015-01-01          -3092.645004      -8.918612e+05         536.093541   \n",
              "2016-01-01           1221.574387      -1.244400e+07      -11448.295805   \n",
              "\n",
              "            expenses_2d  \n",
              "year                     \n",
              "2012-01-01  -889.792760  \n",
              "2013-01-01  3451.806013  \n",
              "2014-01-01 -4218.988398  \n",
              "2015-01-01  2475.261742  \n",
              "2016-01-01 -2239.090448  "
            ],
            "text/html": [
              "\n",
              "  <div id=\"df-a0350b9c-b5c8-4d70-b4dd-ffb5418584a6\">\n",
              "    <div class=\"colab-df-container\">\n",
              "      <div>\n",
              "<style scoped>\n",
              "    .dataframe tbody tr th:only-of-type {\n",
              "        vertical-align: middle;\n",
              "    }\n",
              "\n",
              "    .dataframe tbody tr th {\n",
              "        vertical-align: top;\n",
              "    }\n",
              "\n",
              "    .dataframe thead th {\n",
              "        text-align: right;\n",
              "    }\n",
              "</style>\n",
              "<table border=\"1\" class=\"dataframe\">\n",
              "  <thead>\n",
              "    <tr style=\"text-align: right;\">\n",
              "      <th></th>\n",
              "      <th>sucid_in_hundredk_2d</th>\n",
              "      <th>gdp_per_capita_2d</th>\n",
              "      <th>lifeexpectancy_2d</th>\n",
              "      <th>expenses_2d</th>\n",
              "    </tr>\n",
              "    <tr>\n",
              "      <th>year</th>\n",
              "      <th></th>\n",
              "      <th></th>\n",
              "      <th></th>\n",
              "      <th></th>\n",
              "    </tr>\n",
              "  </thead>\n",
              "  <tbody>\n",
              "    <tr>\n",
              "      <th>2012-01-01</th>\n",
              "      <td>354.983546</td>\n",
              "      <td>-3.331729e+06</td>\n",
              "      <td>-7221.815277</td>\n",
              "      <td>-889.792760</td>\n",
              "    </tr>\n",
              "    <tr>\n",
              "      <th>2013-01-01</th>\n",
              "      <td>-716.785772</td>\n",
              "      <td>-1.504501e+06</td>\n",
              "      <td>11694.353892</td>\n",
              "      <td>3451.806013</td>\n",
              "    </tr>\n",
              "    <tr>\n",
              "      <th>2014-01-01</th>\n",
              "      <td>2353.018203</td>\n",
              "      <td>8.790193e+06</td>\n",
              "      <td>-4547.189046</td>\n",
              "      <td>-4218.988398</td>\n",
              "    </tr>\n",
              "    <tr>\n",
              "      <th>2015-01-01</th>\n",
              "      <td>-3092.645004</td>\n",
              "      <td>-8.918612e+05</td>\n",
              "      <td>536.093541</td>\n",
              "      <td>2475.261742</td>\n",
              "    </tr>\n",
              "    <tr>\n",
              "      <th>2016-01-01</th>\n",
              "      <td>1221.574387</td>\n",
              "      <td>-1.244400e+07</td>\n",
              "      <td>-11448.295805</td>\n",
              "      <td>-2239.090448</td>\n",
              "    </tr>\n",
              "  </tbody>\n",
              "</table>\n",
              "</div>\n",
              "      <button class=\"colab-df-convert\" onclick=\"convertToInteractive('df-a0350b9c-b5c8-4d70-b4dd-ffb5418584a6')\"\n",
              "              title=\"Convert this dataframe to an interactive table.\"\n",
              "              style=\"display:none;\">\n",
              "        \n",
              "  <svg xmlns=\"http://www.w3.org/2000/svg\" height=\"24px\"viewBox=\"0 0 24 24\"\n",
              "       width=\"24px\">\n",
              "    <path d=\"M0 0h24v24H0V0z\" fill=\"none\"/>\n",
              "    <path d=\"M18.56 5.44l.94 2.06.94-2.06 2.06-.94-2.06-.94-.94-2.06-.94 2.06-2.06.94zm-11 1L8.5 8.5l.94-2.06 2.06-.94-2.06-.94L8.5 2.5l-.94 2.06-2.06.94zm10 10l.94 2.06.94-2.06 2.06-.94-2.06-.94-.94-2.06-.94 2.06-2.06.94z\"/><path d=\"M17.41 7.96l-1.37-1.37c-.4-.4-.92-.59-1.43-.59-.52 0-1.04.2-1.43.59L10.3 9.45l-7.72 7.72c-.78.78-.78 2.05 0 2.83L4 21.41c.39.39.9.59 1.41.59.51 0 1.02-.2 1.41-.59l7.78-7.78 2.81-2.81c.8-.78.8-2.07 0-2.86zM5.41 20L4 18.59l7.72-7.72 1.47 1.35L5.41 20z\"/>\n",
              "  </svg>\n",
              "      </button>\n",
              "      \n",
              "  <style>\n",
              "    .colab-df-container {\n",
              "      display:flex;\n",
              "      flex-wrap:wrap;\n",
              "      gap: 12px;\n",
              "    }\n",
              "\n",
              "    .colab-df-convert {\n",
              "      background-color: #E8F0FE;\n",
              "      border: none;\n",
              "      border-radius: 50%;\n",
              "      cursor: pointer;\n",
              "      display: none;\n",
              "      fill: #1967D2;\n",
              "      height: 32px;\n",
              "      padding: 0 0 0 0;\n",
              "      width: 32px;\n",
              "    }\n",
              "\n",
              "    .colab-df-convert:hover {\n",
              "      background-color: #E2EBFA;\n",
              "      box-shadow: 0px 1px 2px rgba(60, 64, 67, 0.3), 0px 1px 3px 1px rgba(60, 64, 67, 0.15);\n",
              "      fill: #174EA6;\n",
              "    }\n",
              "\n",
              "    [theme=dark] .colab-df-convert {\n",
              "      background-color: #3B4455;\n",
              "      fill: #D2E3FC;\n",
              "    }\n",
              "\n",
              "    [theme=dark] .colab-df-convert:hover {\n",
              "      background-color: #434B5C;\n",
              "      box-shadow: 0px 1px 3px 1px rgba(0, 0, 0, 0.15);\n",
              "      filter: drop-shadow(0px 1px 2px rgba(0, 0, 0, 0.3));\n",
              "      fill: #FFFFFF;\n",
              "    }\n",
              "  </style>\n",
              "\n",
              "      <script>\n",
              "        const buttonEl =\n",
              "          document.querySelector('#df-a0350b9c-b5c8-4d70-b4dd-ffb5418584a6 button.colab-df-convert');\n",
              "        buttonEl.style.display =\n",
              "          google.colab.kernel.accessAllowed ? 'block' : 'none';\n",
              "\n",
              "        async function convertToInteractive(key) {\n",
              "          const element = document.querySelector('#df-a0350b9c-b5c8-4d70-b4dd-ffb5418584a6');\n",
              "          const dataTable =\n",
              "            await google.colab.kernel.invokeFunction('convertToInteractive',\n",
              "                                                     [key], {});\n",
              "          if (!dataTable) return;\n",
              "\n",
              "          const docLinkHtml = 'Like what you see? Visit the ' +\n",
              "            '<a target=\"_blank\" href=https://colab.research.google.com/notebooks/data_table.ipynb>data table notebook</a>'\n",
              "            + ' to learn more about interactive tables.';\n",
              "          element.innerHTML = '';\n",
              "          dataTable['output_type'] = 'display_data';\n",
              "          await google.colab.output.renderOutput(dataTable, element);\n",
              "          const docLink = document.createElement('div');\n",
              "          docLink.innerHTML = docLinkHtml;\n",
              "          element.appendChild(docLink);\n",
              "        }\n",
              "      </script>\n",
              "    </div>\n",
              "  </div>\n",
              "  "
            ]
          },
          "metadata": {},
          "execution_count": 33
        }
      ],
      "source": [
        "df_results = invert_transformation(df_train, df_forecast, second_diff=True)        \n",
        "df_results.loc[:, ['sucid_in_hundredk_2d', 'gdp_per_capita_2d', 'lifeexpectancy_2d','expenses_2d']]"
      ]
    },
    {
      "cell_type": "markdown",
      "metadata": {
        "id": "2_SYBa3aRsoi"
      },
      "source": [
        "### Plot of Forecast vs Actuals"
      ]
    },
    {
      "cell_type": "code",
      "execution_count": 34,
      "metadata": {
        "id": "wK_QAARtRsoi",
        "outputId": "a3a01d27-0e6b-4f2a-dcdd-14a7dfafc6a1",
        "colab": {
          "base_uri": "https://localhost:8080/",
          "height": 1000
        }
      },
      "outputs": [
        {
          "output_type": "display_data",
          "data": {
            "text/plain": [
              "<Figure size 1500x1500 with 4 Axes>"
            ],
            "image/png": "[encoded data removed]"
          },
          "metadata": {
            "needs_background": "light"
          }
        }
      ],
      "source": [
        "fig, axes = plt.subplots(nrows=int(len(df.columns)/2), ncols=2, dpi=150, figsize=(10,10))\n",
        "for i, (col,ax) in enumerate(zip(df.columns, axes.flatten())):\n",
        "    df_results[col+'_forecast'].plot(legend=True, ax=ax).autoscale(axis='x',tight=True)\n",
        "    df_test[col][-nobs:].plot(legend=True, ax=ax);\n",
        "    ax.set_title(col + \": Forecast vs Actuals\")\n",
        "    ax.xaxis.set_ticks_position('none')\n",
        "    ax.yaxis.set_ticks_position('none')\n",
        "    ax.spines[\"top\"].set_alpha(0)\n",
        "    ax.tick_params(labelsize=6)\n",
        "\n",
        "plt.tight_layout();"
      ]
    },
    {
      "cell_type": "markdown",
      "metadata": {
        "id": "1iX71ShXRsoi"
      },
      "source": [
        "### Evaluate the Forecasts"
      ]
    },
    {
      "cell_type": "code",
      "execution_count": 35,
      "metadata": {
        "id": "RL8fsRgJRsoi",
        "outputId": "57154c68-9e46-4284-c896-81d0c5441987",
        "colab": {
          "base_uri": "https://localhost:8080/"
        }
      },
      "outputs": [
        {
          "output_type": "stream",
          "name": "stdout",
          "text": [
            "Forecast Accuracy of: gdp_per_capita\n",
            "mape   :  1.0175\n",
            "me     :  3325799.3485\n",
            "mae    :  5588923.5412\n",
            "mpe    :  0.8682\n",
            "rmse   :  6790282.297\n",
            "corr   :  -0.0363\n",
            "minmax :  0.3514\n",
            "\n",
            "Forecast Accuracy of: lifeexpectancy\n",
            "mape   :  1.0755\n",
            "me     :  7839.3999\n",
            "mae    :  10790.9108\n",
            "mpe    :  0.9922\n",
            "rmse   :  12624.7907\n",
            "corr   :  0.4611\n",
            "minmax :  0.3595\n",
            "\n",
            "Forecast Accuracy of: sucid_in_hundredk\n",
            "mape   :  0.8362\n",
            "me     :  1843.7208\n",
            "mae    :  1843.7208\n",
            "mpe    :  0.8362\n",
            "rmse   :  2390.5869\n",
            "corr   :  -0.0422\n",
            "minmax :  0.3026\n",
            "\n",
            "Forecast Accuracy of: expenses\n",
            "mape   :  1.4748\n",
            "me     :  4927.1277\n",
            "mae    :  5385.961\n",
            "mpe    :  1.4439\n",
            "rmse   :  6537.9665\n",
            "corr   :  0.5076\n",
            "minmax :  0.3808\n"
          ]
        },
        {
          "output_type": "stream",
          "name": "stderr",
          "text": [
            "/usr/local/lib/python3.7/dist-packages/ipykernel_launcher.py:10: FutureWarning: Support for multi-dimensional indexing (e.g. `obj[:, None]`) is deprecated and will be removed in a future version.  Convert to a numpy array before indexing instead.\n",
            "  # Remove the CWD from sys.path while we load stuff.\n",
            "/usr/local/lib/python3.7/dist-packages/ipykernel_launcher.py:12: FutureWarning: Support for multi-dimensional indexing (e.g. `obj[:, None]`) is deprecated and will be removed in a future version.  Convert to a numpy array before indexing instead.\n",
            "  if sys.path[0] == '':\n"
          ]
        }
      ],
      "source": [
        "from statsmodels.tsa.stattools import acf\n",
        "def forecast_accuracy(forecast, actual):\n",
        "    mape = np.mean(np.abs(forecast - actual)/np.abs(actual))  # MAPE\n",
        "    me = np.mean(forecast - actual)             # ME\n",
        "    mae = np.mean(np.abs(forecast - actual))    # MAE\n",
        "    mpe = np.mean((forecast - actual)/actual)   # MPE\n",
        "    rmse = np.mean((forecast - actual)**2)**.5  # RMSE\n",
        "    corr = np.corrcoef(forecast, actual)[0,1]   # corr\n",
        "    mins = np.amin(np.hstack([forecast[:,None], \n",
        "                              actual[:,None]]), axis=1)\n",
        "    maxs = np.amax(np.hstack([forecast[:,None], \n",
        "                              actual[:,None]]), axis=1)\n",
        "    minmax = 1 - np.mean(mins/maxs)             # minmax\n",
        "    return({'mape':mape, 'me':me, 'mae': mae, \n",
        "            'mpe': mpe, 'rmse':rmse, 'corr':corr, 'minmax':minmax})\n",
        "\n",
        "print('Forecast Accuracy of: gdp_per_capita')\n",
        "accuracy_prod = forecast_accuracy(df_results['gdp_per_capita_forecast'].values, df_test['gdp_per_capita'])\n",
        "for k, v in accuracy_prod.items():\n",
        "    print(adjust(k), ': ', round(v,4))\n",
        "\n",
        "print('\\nForecast Accuracy of: lifeexpectancy')\n",
        "accuracy_prod = forecast_accuracy(df_results['lifeexpectancy_forecast'].values, df_test['lifeexpectancy'])\n",
        "for k, v in accuracy_prod.items():\n",
        "    print(adjust(k), ': ', round(v,4))\n",
        "\n",
        "print('\\nForecast Accuracy of: sucid_in_hundredk')\n",
        "accuracy_prod = forecast_accuracy(df_results['sucid_in_hundredk_forecast'].values, df_test['sucid_in_hundredk'])\n",
        "for k, v in accuracy_prod.items():\n",
        "    print(adjust(k), ': ', round(v,4))\n",
        "\n",
        "print('\\nForecast Accuracy of: expenses')\n",
        "accuracy_prod = forecast_accuracy(df_results['expenses_forecast'].values, df_test['expenses'])\n",
        "for k, v in accuracy_prod.items():\n",
        "    print(adjust(k), ': ', round(v,4))"
      ]
    },
    {
      "cell_type": "code",
      "source": [
        ""
      ],
      "metadata": {
        "id": "Xj2NINB-kyXd"
      },
      "execution_count": 35,
      "outputs": []
    }
  ],
  "metadata": {
    "colab": {
      "name": "dissertation_suicide_var_models_2022.ipynb",
      "provenance": []
    },
    "interpreter": {
      "hash": "ad2bdc8ecc057115af97d19610ffacc2b4e99fae6737bb82f5d7fb13d2f2c186"
    },
    "kernelspec": {
      "display_name": "Python 3",
      "language": "python",
      "name": "python3"
    },
    "language_info": {
      "codemirror_mode": {
        "name": "ipython",
        "version": 3
      },
      "file_extension": ".py",
      "mimetype": "text/x-python",
      "name": "python",
      "nbconvert_exporter": "python",
      "pygments_lexer": "ipython3",
      "version": "3.7.4"
    }
  },
  "nbformat": 4,
  "nbformat_minor": 0
}