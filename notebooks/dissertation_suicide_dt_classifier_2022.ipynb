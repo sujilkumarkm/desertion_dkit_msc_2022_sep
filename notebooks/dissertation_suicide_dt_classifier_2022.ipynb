{
 "cells": [
  {
   "cell_type": "code",
   "execution_count": 1,
   "id": "728f43b4",
   "metadata": {},
   "outputs": [],
   "source": [
    "import pandas as pd\n",
    "import seaborn as sns\n",
    "import matplotlib.pyplot as plt\n",
    "import numpy as np\n",
    "import scipy.stats as stats\n",
    "import plotly.express as px"
   ]
  },
  {
   "cell_type": "code",
   "execution_count": 2,
   "id": "a185349c",
   "metadata": {
    "scrolled": false
   },
   "outputs": [
    {
     "data": {
      "text/html": [
       "<div>\n",
       "<style scoped>\n",
       "    .dataframe tbody tr th:only-of-type {\n",
       "        vertical-align: middle;\n",
       "    }\n",
       "\n",
       "    .dataframe tbody tr th {\n",
       "        vertical-align: top;\n",
       "    }\n",
       "\n",
       "    .dataframe thead th {\n",
       "        text-align: right;\n",
       "    }\n",
       "</style>\n",
       "<table border=\"1\" class=\"dataframe\">\n",
       "  <thead>\n",
       "    <tr style=\"text-align: right;\">\n",
       "      <th></th>\n",
       "      <th>country</th>\n",
       "      <th>year</th>\n",
       "      <th>sex</th>\n",
       "      <th>age</th>\n",
       "      <th>suicides</th>\n",
       "      <th>population</th>\n",
       "      <th>sucid_in_hundredk</th>\n",
       "      <th>country-year</th>\n",
       "      <th>yearly_gdp</th>\n",
       "      <th>gdp_per_capita</th>\n",
       "      <th>...</th>\n",
       "      <th>physician_price</th>\n",
       "      <th>laborforcetotal</th>\n",
       "      <th>lifeexpectancy</th>\n",
       "      <th>mobilesubscriptions</th>\n",
       "      <th>refugees</th>\n",
       "      <th>selfemployed</th>\n",
       "      <th>electricityacess</th>\n",
       "      <th>continent</th>\n",
       "      <th>country_code</th>\n",
       "      <th>mobilesubscription</th>\n",
       "    </tr>\n",
       "  </thead>\n",
       "  <tbody>\n",
       "    <tr>\n",
       "      <th>0</th>\n",
       "      <td>Argentina</td>\n",
       "      <td>1985</td>\n",
       "      <td>male</td>\n",
       "      <td>75+ years</td>\n",
       "      <td>202</td>\n",
       "      <td>363000</td>\n",
       "      <td>55.65</td>\n",
       "      <td>Argentina1985</td>\n",
       "      <td>8.841667e+10</td>\n",
       "      <td>3264</td>\n",
       "      <td>...</td>\n",
       "      <td>0.2384</td>\n",
       "      <td>1.077831e+07</td>\n",
       "      <td>50.156848</td>\n",
       "      <td>0.009469</td>\n",
       "      <td>10732.386792</td>\n",
       "      <td>2.157578</td>\n",
       "      <td>57.6</td>\n",
       "      <td>Americas</td>\n",
       "      <td>ARG</td>\n",
       "      <td>0.009469</td>\n",
       "    </tr>\n",
       "    <tr>\n",
       "      <th>1</th>\n",
       "      <td>Argentina</td>\n",
       "      <td>1985</td>\n",
       "      <td>male</td>\n",
       "      <td>55-74 years</td>\n",
       "      <td>485</td>\n",
       "      <td>1997000</td>\n",
       "      <td>24.29</td>\n",
       "      <td>Argentina1985</td>\n",
       "      <td>8.841667e+10</td>\n",
       "      <td>3264</td>\n",
       "      <td>...</td>\n",
       "      <td>0.2384</td>\n",
       "      <td>1.077831e+07</td>\n",
       "      <td>50.156848</td>\n",
       "      <td>0.009469</td>\n",
       "      <td>10732.386792</td>\n",
       "      <td>2.157578</td>\n",
       "      <td>57.6</td>\n",
       "      <td>Americas</td>\n",
       "      <td>ARG</td>\n",
       "      <td>0.009469</td>\n",
       "    </tr>\n",
       "    <tr>\n",
       "      <th>2</th>\n",
       "      <td>Argentina</td>\n",
       "      <td>1985</td>\n",
       "      <td>male</td>\n",
       "      <td>35-54 years</td>\n",
       "      <td>414</td>\n",
       "      <td>3346300</td>\n",
       "      <td>12.37</td>\n",
       "      <td>Argentina1985</td>\n",
       "      <td>8.841667e+10</td>\n",
       "      <td>3264</td>\n",
       "      <td>...</td>\n",
       "      <td>0.2384</td>\n",
       "      <td>1.077831e+07</td>\n",
       "      <td>50.156848</td>\n",
       "      <td>0.009469</td>\n",
       "      <td>10732.386792</td>\n",
       "      <td>2.157578</td>\n",
       "      <td>57.6</td>\n",
       "      <td>Americas</td>\n",
       "      <td>ARG</td>\n",
       "      <td>0.009469</td>\n",
       "    </tr>\n",
       "    <tr>\n",
       "      <th>3</th>\n",
       "      <td>Argentina</td>\n",
       "      <td>1985</td>\n",
       "      <td>female</td>\n",
       "      <td>55-74 years</td>\n",
       "      <td>210</td>\n",
       "      <td>2304000</td>\n",
       "      <td>9.11</td>\n",
       "      <td>Argentina1985</td>\n",
       "      <td>8.841667e+10</td>\n",
       "      <td>3264</td>\n",
       "      <td>...</td>\n",
       "      <td>0.2384</td>\n",
       "      <td>1.077831e+07</td>\n",
       "      <td>50.156848</td>\n",
       "      <td>0.009469</td>\n",
       "      <td>10732.386792</td>\n",
       "      <td>2.157578</td>\n",
       "      <td>57.6</td>\n",
       "      <td>Americas</td>\n",
       "      <td>ARG</td>\n",
       "      <td>0.009469</td>\n",
       "    </tr>\n",
       "    <tr>\n",
       "      <th>4</th>\n",
       "      <td>Argentina</td>\n",
       "      <td>1985</td>\n",
       "      <td>male</td>\n",
       "      <td>25-34 years</td>\n",
       "      <td>177</td>\n",
       "      <td>2234200</td>\n",
       "      <td>7.92</td>\n",
       "      <td>Argentina1985</td>\n",
       "      <td>8.841667e+10</td>\n",
       "      <td>3264</td>\n",
       "      <td>...</td>\n",
       "      <td>0.2384</td>\n",
       "      <td>1.077831e+07</td>\n",
       "      <td>50.156848</td>\n",
       "      <td>0.009469</td>\n",
       "      <td>10732.386792</td>\n",
       "      <td>2.157578</td>\n",
       "      <td>57.6</td>\n",
       "      <td>Americas</td>\n",
       "      <td>ARG</td>\n",
       "      <td>0.009469</td>\n",
       "    </tr>\n",
       "  </tbody>\n",
       "</table>\n",
       "<p>5 rows × 26 columns</p>\n",
       "</div>"
      ],
      "text/plain": [
       "     country  year     sex          age  suicides  population  \\\n",
       "0  Argentina  1985    male    75+ years       202      363000   \n",
       "1  Argentina  1985    male  55-74 years       485     1997000   \n",
       "2  Argentina  1985    male  35-54 years       414     3346300   \n",
       "3  Argentina  1985  female  55-74 years       210     2304000   \n",
       "4  Argentina  1985    male  25-34 years       177     2234200   \n",
       "\n",
       "   sucid_in_hundredk   country-year    yearly_gdp  gdp_per_capita  ...  \\\n",
       "0              55.65  Argentina1985  8.841667e+10            3264  ...   \n",
       "1              24.29  Argentina1985  8.841667e+10            3264  ...   \n",
       "2              12.37  Argentina1985  8.841667e+10            3264  ...   \n",
       "3               9.11  Argentina1985  8.841667e+10            3264  ...   \n",
       "4               7.92  Argentina1985  8.841667e+10            3264  ...   \n",
       "\n",
       "  physician_price  laborforcetotal  lifeexpectancy  mobilesubscriptions  \\\n",
       "0          0.2384     1.077831e+07       50.156848             0.009469   \n",
       "1          0.2384     1.077831e+07       50.156848             0.009469   \n",
       "2          0.2384     1.077831e+07       50.156848             0.009469   \n",
       "3          0.2384     1.077831e+07       50.156848             0.009469   \n",
       "4          0.2384     1.077831e+07       50.156848             0.009469   \n",
       "\n",
       "       refugees  selfemployed  electricityacess  continent  country_code  \\\n",
       "0  10732.386792      2.157578              57.6   Americas           ARG   \n",
       "1  10732.386792      2.157578              57.6   Americas           ARG   \n",
       "2  10732.386792      2.157578              57.6   Americas           ARG   \n",
       "3  10732.386792      2.157578              57.6   Americas           ARG   \n",
       "4  10732.386792      2.157578              57.6   Americas           ARG   \n",
       "\n",
       "   mobilesubscription  \n",
       "0            0.009469  \n",
       "1            0.009469  \n",
       "2            0.009469  \n",
       "3            0.009469  \n",
       "4            0.009469  \n",
       "\n",
       "[5 rows x 26 columns]"
      ]
     },
     "execution_count": 2,
     "metadata": {},
     "output_type": "execute_result"
    }
   ],
   "source": [
    "url = 'E:\\\\Dessertation\\\\desertion_dkit_msc_2022_sep\\\\output.csv'\n",
    "# d parser df:=lambda x: pd.datetime.strptime(x,'gy-8m-gd gI-Sp\")\n",
    "df = pd.read_csv(url)\n",
    "df = df.sort_index(axis=0, level=None, ascending=True, inplace=False, kind='quicksort', na_position='last', sort_remaining=True, ignore_index=False, key=None)\n",
    "# df = pd.read_csv(url)\n",
    "# df['year'] = pd.to_datetime(df['year'], format='%Y%', errors='ignore')\n",
    "# # Converting the index as date\n",
    "# df.index = pd.to_datetime(df.index)\n",
    "\n",
    "# df = df.index.year\n",
    "# df = df.set_index('year')\n",
    "\n",
    "# # Converting the index as date\n",
    "# df.index = pd.to_datetime(df.index)\n",
    "df.head()"
   ]
  },
  {
   "cell_type": "code",
   "execution_count": 3,
   "id": "d1c18ac3",
   "metadata": {
    "scrolled": true
   },
   "outputs": [
    {
     "data": {
      "text/plain": [
       "array(['Argentina', 'Armenia', 'Australia', 'Austria', 'Belgium',\n",
       "       'Brazil', 'Bulgaria', 'Canada', 'Chile', 'Colombia', 'Croatia',\n",
       "       'Cuba', 'Czech Republic', 'Denmark', 'Finland', 'France',\n",
       "       'Germany', 'Greece', 'Hungary', 'Iceland', 'Ireland', 'Israel',\n",
       "       'Italy', 'Japan', 'Mexico', 'Netherlands', 'New Zealand', 'Norway',\n",
       "       'Poland', 'Portugal', 'Romania', 'Russian Federation',\n",
       "       'South Africa', 'Spain', 'Sweden', 'Switzerland', 'Thailand',\n",
       "       'Turkmenistan', 'Ukraine'], dtype=object)"
      ]
     },
     "execution_count": 3,
     "metadata": {},
     "output_type": "execute_result"
    }
   ],
   "source": [
    "df['country'].unique()"
   ]
  },
  {
   "cell_type": "code",
   "execution_count": 4,
   "metadata": {},
   "outputs": [
    {
     "data": {
      "text/plain": [
       "(13276, 26)"
      ]
     },
     "execution_count": 4,
     "metadata": {},
     "output_type": "execute_result"
    }
   ],
   "source": [
    "df.shape"
   ]
  },
  {
   "cell_type": "code",
   "execution_count": 5,
   "metadata": {},
   "outputs": [
    {
     "data": {
      "text/plain": [
       "Index(['country', 'year', 'sex', 'age', 'suicides', 'population',\n",
       "       'sucid_in_hundredk', 'country-year', 'yearly_gdp', 'gdp_per_capita',\n",
       "       'generation', 'suicides.1', 'internetusers', 'expenses',\n",
       "       'employeecompensation', 'unemployment', 'physician_price',\n",
       "       'laborforcetotal', 'lifeexpectancy', 'mobilesubscriptions', 'refugees',\n",
       "       'selfemployed', 'electricityacess', 'continent', 'country_code',\n",
       "       'mobilesubscription'],\n",
       "      dtype='object')"
      ]
     },
     "execution_count": 5,
     "metadata": {},
     "output_type": "execute_result"
    }
   ],
   "source": [
    "df.columns"
   ]
  },
  {
   "cell_type": "code",
   "execution_count": 6,
   "metadata": {},
   "outputs": [
    {
     "data": {
      "text/plain": [
       "array(['Argentina', 'Armenia', 'Australia', 'Austria', 'Belgium',\n",
       "       'Brazil', 'Bulgaria', 'Canada', 'Chile', 'Colombia', 'Croatia',\n",
       "       'Cuba', 'Czech Republic', 'Denmark', 'Finland', 'France',\n",
       "       'Germany', 'Greece', 'Hungary', 'Iceland', 'Ireland', 'Israel',\n",
       "       'Italy', 'Japan', 'Mexico', 'Netherlands', 'New Zealand', 'Norway',\n",
       "       'Poland', 'Portugal', 'Romania', 'Russian Federation',\n",
       "       'South Africa', 'Spain', 'Sweden', 'Switzerland', 'Thailand',\n",
       "       'Turkmenistan', 'Ukraine'], dtype=object)"
      ]
     },
     "execution_count": 6,
     "metadata": {},
     "output_type": "execute_result"
    }
   ],
   "source": [
    "countries = df.country.unique()\n",
    "countries"
   ]
  },
  {
   "cell_type": "code",
   "execution_count": 7,
   "metadata": {},
   "outputs": [
    {
     "data": {
      "text/plain": [
       "array(['Argentina', 'Armenia', 'Australia', 'Austria', 'Belgium',\n",
       "       'Brazil', 'Bulgaria', 'Canada', 'Chile', 'Colombia', 'Croatia',\n",
       "       'Cuba', 'Czech Republic', 'Denmark', 'Finland', 'France',\n",
       "       'Germany', 'Greece', 'Hungary', 'Iceland', 'Ireland', 'Israel',\n",
       "       'Italy', 'Japan', 'Mexico', 'Netherlands', 'New Zealand', 'Norway',\n",
       "       'Poland', 'Portugal', 'Romania', 'Russian Federation',\n",
       "       'South Africa', 'Spain', 'Sweden', 'Switzerland', 'Thailand',\n",
       "       'Turkmenistan', 'Ukraine'], dtype=object)"
      ]
     },
     "execution_count": 7,
     "metadata": {},
     "output_type": "execute_result"
    }
   ],
   "source": [
    "countrynames = df['country'].unique()\n",
    "countrynames"
   ]
  },
  {
   "cell_type": "code",
   "execution_count": 8,
   "metadata": {},
   "outputs": [],
   "source": [
    "features = ['country', 'year', 'sex', 'age', 'suicides', 'population',\n",
    "       'sucid_in_hundredk', 'country-year', 'yearly_gdp', 'gdp_per_capita',\n",
    "       'generation', 'internetusers', 'expenses',\n",
    "       'employeecompensation', 'unemployment', 'physician_price',\n",
    "       'laborforcetotal', 'lifeexpectancy', 'mobilesubscriptions', 'refugees',\n",
    "       'selfemployed', 'electricityacess', 'continent', 'country_code',\n",
    "       'mobilesubscription']\n",
    "\n",
    "total = df[features].groupby('country').get_group(countrynames[0]).groupby('year').mean()\n",
    "\n",
    "total['suicides'] = df[['country', 'year', 'sucid_in_hundredk']].groupby('country').get_group(countrynames[0]).groupby('year').sum()\n",
    "total['population'] = df[['country', 'year', 'population']].groupby('country').get_group(countrynames[0]).groupby('year').sum()\n",
    "\n",
    "total['country'] = countrynames[0]\n",
    "\n",
    "for i, x in enumerate(countrynames[1:]):\n",
    "    suicides = df[features].groupby('country').get_group(x).groupby('year').mean()\n",
    "    suicides['suicides'] = df[['country', 'year', 'sucid_in_hundredk']].groupby('country').get_group(x).groupby('year').sum()\n",
    "    total['population'] = df[['country', 'year', 'population']].groupby('country').get_group(x).groupby('year').sum()\n",
    "  \n",
    "    suicides['country'] = x\n",
    "    total = total.append(suicides)\n",
    "\n",
    "total.reset_index(inplace=True)\n",
    "sort = True"
   ]
  },
  {
   "cell_type": "code",
   "execution_count": 9,
   "metadata": {},
   "outputs": [],
   "source": [
    "total['risk'] = total.suicides.copy()\n",
    "\n",
    "total['risk'] = np.where(total.risk < total.suicides.mean(), 0, 1)"
   ]
  },
  {
   "cell_type": "code",
   "execution_count": 10,
   "metadata": {},
   "outputs": [
    {
     "name": "stderr",
     "output_type": "stream",
     "text": [
      "c:\\ProgramData\\Anaconda3\\lib\\site-packages\\seaborn\\distributions.py:2557: FutureWarning: `distplot` is a deprecated function and will be removed in a future version. Please adapt your code to use either `displot` (a figure-level function with similar flexibility) or `histplot` (an axes-level function for histograms).\n",
      "  warnings.warn(msg, FutureWarning)\n",
      "c:\\ProgramData\\Anaconda3\\lib\\site-packages\\seaborn\\distributions.py:2557: FutureWarning: `distplot` is a deprecated function and will be removed in a future version. Please adapt your code to use either `displot` (a figure-level function with similar flexibility) or `histplot` (an axes-level function for histograms).\n",
      "  warnings.warn(msg, FutureWarning)\n"
     ]
    },
    {
     "data": {
      "text/plain": [
       "Text(0.5, 0, 'Suicides')"
      ]
     },
     "execution_count": 10,
     "metadata": {},
     "output_type": "execute_result"
    },
    {
     "data": {
      "image/png": "[encoded data removed]",
      "text/plain": [
       "<Figure size 1152x360 with 2 Axes>"
      ]
     },
     "metadata": {
      "needs_background": "light"
     },
     "output_type": "display_data"
    }
   ],
   "source": [
    "col = plt.cm.Spectral(np.linspace(0, 1, 20))\n",
    "\n",
    "plt.figure(figsize=(16, 5))\n",
    "plt.subplot(121)\n",
    "plt.hist(total.risk, color=col[6])\n",
    "plt.ylabel('counts', fontsize=14)\n",
    "plt.xlabel('Suicide risk', fontsize=14)\n",
    "\n",
    "plt.subplot(122)\n",
    "sns.distplot(total.suicides[total.risk == 0], bins=10)\n",
    "sns.distplot(total.suicides[total.risk == 1], bins=20)  \n",
    "plt.xlabel('Suicides', fontsize=14)"
   ]
  },
  {
   "cell_type": "code",
   "execution_count": 11,
   "metadata": {},
   "outputs": [],
   "source": [
    "# totalfeatures = ['country', 'year',  'suicides', 'population',\n",
    "#        'sucid_in_hundredk', 'yearly_gdp', 'gdp_per_capita', 'internetusers', 'expenses',\n",
    "#        'employeecompensation', 'unemployment', 'physician_price',\n",
    "#        'laborforcetotal', 'lifeexpectancy', 'mobilesubscriptions', 'refugees',\n",
    "#        'selfemployed', 'electricityacess',\n",
    "#        'mobilesubscription']\n",
    "totalfeatures = ['sucid_in_hundredk', 'yearly_gdp', 'gdp_per_capita', 'internetusers', 'expenses',\n",
    "       'employeecompensation', 'unemployment','laborforcetotal', 'lifeexpectancy', 'mobilesubscriptions', 'refugees',\n",
    "       'selfemployed', 'electricityacess',\n",
    "       'mobilesubscription']"
   ]
  },
  {
   "cell_type": "code",
   "execution_count": 12,
   "metadata": {},
   "outputs": [
    {
     "name": "stderr",
     "output_type": "stream",
     "text": [
      "<ipython-input-12-1755bcf9bb97>:5: DeprecationWarning: `np.bool` is a deprecated alias for the builtin `bool`. To silence this warning, use `bool` by itself. Doing this will not modify any behavior and is safe. If you specifically wanted the numpy scalar type, use `np.bool_` here.\n",
      "Deprecated in NumPy 1.20; for more details and guidance: https://numpy.org/devdocs/release/1.20.0-notes.html#deprecations\n",
      "  mask = np.zeros_like(corr, dtype=np.bool)\n"
     ]
    },
    {
     "data": {
      "image/png": "[encoded data removed]",
      "text/plain": [
       "<Figure size 576x432 with 2 Axes>"
      ]
     },
     "metadata": {
      "needs_background": "light"
     },
     "output_type": "display_data"
    }
   ],
   "source": [
    "corr = total.corr()\n",
    "\n",
    "# Generate a mask for the upper triangle\n",
    "\n",
    "mask = np.zeros_like(corr, dtype=np.bool)\n",
    "mask[np.triu_indices_from(mask)] = True\n",
    "\n",
    "# Set up the matplotlib figure\n",
    "f, ax = plt.subplots(figsize=(8, 6))\n",
    "\n",
    "# Generate a custom diverging colormap\n",
    "cmap = sns.diverging_palette(220, 10, as_cmap=True)\n",
    "\n",
    "# Draw the heatmap with the mask and correct aspect ratio\n",
    "sns.heatmap(corr, mask=mask, cmap=cmap, vmax=1, vmin=-1, center=0,\n",
    "            square=True, linewidths=0.2, cbar_kws={\"shrink\": 0.8});"
   ]
  },
  {
   "cell_type": "code",
   "execution_count": 13,
   "metadata": {},
   "outputs": [],
   "source": [
    "# total['risk']"
   ]
  },
  {
   "cell_type": "code",
   "execution_count": 14,
   "metadata": {},
   "outputs": [],
   "source": [
    "from sklearn.preprocessing import StandardScaler\n",
    "# Preparing data for modeling\n",
    "\n",
    "X = np.asarray(total[totalfeatures])\n",
    "y = np.asarray(total['risk'])\n",
    "\n",
    "\n",
    "# Applying standard scaler on data, since ML algorithms work with the assumption that the data is normally distributed\n",
    "\n",
    "scaler = StandardScaler()\n",
    "scaler.fit(X)\n",
    "X_scaled = scaler.transform(X)"
   ]
  },
  {
   "cell_type": "code",
   "execution_count": 15,
   "metadata": {},
   "outputs": [
    {
     "name": "stdout",
     "output_type": "stream",
     "text": [
      "Train set: (831, 14) (831,)\n",
      "Test set: (277, 14) (277,)\n"
     ]
    }
   ],
   "source": [
    "from sklearn.model_selection import train_test_split\n",
    "# Train-test split\n",
    "\n",
    "X_train, X_test, y_train, y_test = train_test_split(X_scaled, y, test_size=0.25, random_state=4)\n",
    "\n",
    "print('Train set:', X_train.shape, y_train.shape)\n",
    "print('Test set:', X_test.shape, y_test.shape)"
   ]
  },
  {
   "cell_type": "code",
   "execution_count": 16,
   "metadata": {},
   "outputs": [],
   "source": [
    "import pandas as pd\n",
    "import numpy as np\n",
    "\n",
    "def clean_dataset(total):\n",
    "    assert isinstance(total, pd.DataFrame), \"total needs to be a pd.DataFrame\"\n",
    "    total.dropna(inplace=True)\n",
    "    indices_to_keep = ~total.isin([np.nan, np.inf, -np.inf]).any(1)\n",
    "    return total[indices_to_keep].astype(np.float64)"
   ]
  },
  {
   "cell_type": "code",
   "execution_count": 17,
   "metadata": {},
   "outputs": [
    {
     "name": "stdout",
     "output_type": "stream",
     "text": [
      "[[ 2.34280113 -0.54270319 -1.04705675 ... -0.54349893  0.80394889\n",
      "  -0.89169349]\n",
      " [-0.16159412 -0.50067024  0.15973437 ... -0.3760299   0.80394889\n",
      "  -0.59539445]\n",
      " [-0.5246894  -0.34785803  1.59661951 ... -0.465671    0.80394889\n",
      "   1.16441873]\n",
      " ...\n",
      " [-1.1019957   0.23950714 -0.66506655 ...  1.19072061  0.66389117\n",
      "  -0.46055755]\n",
      " [ 0.74670113  1.04785464  0.30759654 ... -0.31904872  0.80394889\n",
      "  -0.16524884]\n",
      " [-1.00648696  1.83453767 -0.4659517  ...  0.06870118  0.74662203\n",
      "   1.11241251]]\n"
     ]
    }
   ],
   "source": [
    "# from NumPy. If we pair this function with any(), we will check if there are any instances of NaN. We can replace the NaN values using the nan_to_num() method. Let’s look at the code and the clean data:\n",
    "# print(np.any(np.isnan(X_train)))\n",
    "X_train = np.nan_to_num(X_train)\n",
    "X_test = np.nan_to_num(X_test)\n",
    "print(X_train)"
   ]
  },
  {
   "cell_type": "code",
   "execution_count": 18,
   "metadata": {},
   "outputs": [
    {
     "name": "stdout",
     "output_type": "stream",
     "text": [
      "******************Decision Tree classifier**************\n",
      "Accuracy = 0.9963898916967509\n",
      "Train Accuracy= 1.0\n",
      "CM\n",
      " [[170   0]\n",
      " [  1 106]]\n",
      "classification report for decision tree\n",
      "               precision    recall  f1-score   support\n",
      "\n",
      "           0       0.99      1.00      1.00       170\n",
      "           1       1.00      0.99      1.00       107\n",
      "\n",
      "    accuracy                           1.00       277\n",
      "   macro avg       1.00      1.00      1.00       277\n",
      "weighted avg       1.00      1.00      1.00       277\n",
      "\n",
      "# of leaves 4 \n",
      " Depth 3\n"
     ]
    }
   ],
   "source": [
    "from sklearn.tree import DecisionTreeClassifier\n",
    "from sklearn.metrics import accuracy_score\n",
    "from sklearn.metrics import confusion_matrix, classification_report\n",
    "\n",
    "\n",
    "DT = DecisionTreeClassifier(criterion=\"entropy\", max_depth=7, max_leaf_nodes=30)\n",
    "DT = DT.fit(X_train, y_train)\n",
    "ydthat = DT.predict(X_test)\n",
    "\n",
    "print('******************Decision Tree classifier**************')\n",
    "\n",
    "print('Accuracy =', DT.score(X_test, y_test))\n",
    "print('Train Accuracy=', DT.score(X_train, y_train))\n",
    "print('CM\\n', confusion_matrix(y_test, ydthat))\n",
    "print('classification report for decision tree\\n', classification_report(y_test, ydthat))\n",
    "print('# of leaves', DT.get_n_leaves(), '\\n Depth', DT.get_depth())\n"
   ]
  },
  {
   "cell_type": "code",
   "execution_count": 19,
   "metadata": {},
   "outputs": [
    {
     "name": "stdout",
     "output_type": "stream",
     "text": [
      "                       0    1\n",
      "0      sucid_in_hundredk  1.0\n",
      "1             yearly_gdp  0.0\n",
      "2         gdp_per_capita  0.0\n",
      "3          internetusers  0.0\n",
      "4               expenses  0.0\n",
      "5   employeecompensation  0.0\n",
      "6           unemployment  0.0\n",
      "7        laborforcetotal  0.0\n",
      "8         lifeexpectancy  0.0\n",
      "9    mobilesubscriptions  0.0\n",
      "10              refugees  0.0\n",
      "11          selfemployed  0.0\n",
      "12      electricityacess  0.0\n",
      "13    mobilesubscription  0.0\n",
      "\n",
      "# of features=  14\n"
     ]
    }
   ],
   "source": [
    "\n",
    "\n",
    "DTfeat_importance = DT.feature_importances_\n",
    "DTfeat_importance = pd.DataFrame([totalfeatures, DT.feature_importances_]).T\n",
    "\n",
    "\n",
    "print(DTfeat_importance.sort_values(by=1, ascending=False))\n",
    "print('\\n# of features= ', DT.n_features_)"
   ]
  },
  {
   "cell_type": "code",
   "execution_count": null,
   "metadata": {},
   "outputs": [],
   "source": []
  }
 ],
 "metadata": {
  "interpreter": {
   "hash": "ad2bdc8ecc057115af97d19610ffacc2b4e99fae6737bb82f5d7fb13d2f2c186"
  },
  "kernelspec": {
   "display_name": "Python 3.8.8 ('base')",
   "language": "python",
   "name": "python3"
  },
  "language_info": {
   "codemirror_mode": {
    "name": "ipython",
    "version": 3
   },
   "file_extension": ".py",
   "mimetype": "text/x-python",
   "name": "python",
   "nbconvert_exporter": "python",
   "pygments_lexer": "ipython3",
   "version": "3.8.8"
  },
  "orig_nbformat": 4
 },
 "nbformat": 4,
 "nbformat_minor": 2
}
